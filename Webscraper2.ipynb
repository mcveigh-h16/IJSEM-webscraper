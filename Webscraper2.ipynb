{
 "cells": [
  {
   "cell_type": "code",
   "execution_count": 1,
   "id": "7aac6bac",
   "metadata": {},
   "outputs": [],
   "source": [
    "import selenium\n",
    "from selenium import webdriver\n",
    "from selenium.webdriver.common.by import By\n",
    "#PATH = \"C:\\Users\\mcveigh\\Documents\\PythonPC\\chrome.exe\"\n",
    "#driver = webdriver.Chrome(PATH)\n",
    "from selenium.webdriver.chrome.options import Options\n",
    "import time\n",
    "import pandas as pd\n",
    "import re\n",
    "import os\n",
    "import sys\n",
    "import bs4\n",
    "from bs4 import BeautifulSoup\n",
    "import requests\n",
    "import numpy as np"
   ]
  },
  {
   "cell_type": "markdown",
   "id": "b474a0e0",
   "metadata": {},
   "source": [
    "### List of URLs input to search short list manually entered"
   ]
  },
  {
   "cell_type": "code",
   "execution_count": 17,
   "id": "5afa6939",
   "metadata": {},
   "outputs": [],
   "source": [
    "urls = ['https://www.microbiologyresearch.org/content/journal/ijsem/10.1099/ijsem.0.006404',\n",
    "       'https://www.microbiologyresearch.org/content/journal/ijsem/10.1099/ijsem.0.006406?emailalert=true',\n",
    "        'https://www.microbiologyresearch.org/content/journal/ijsem/10.1099/ijsem.0.006401?emailalert=true',\n",
    "        'https://www.microbiologyresearch.org/content/journal/ijsem/10.1099/ijsem.0.006417?emailalert=true'\n",
    "       ]"
   ]
  },
  {
   "cell_type": "markdown",
   "id": "3e27e787",
   "metadata": {},
   "source": [
    "### Input URLS from saved email in html - save as from outlook in htm format"
   ]
  },
  {
   "cell_type": "code",
   "execution_count": 3,
   "id": "0d317088",
   "metadata": {},
   "outputs": [],
   "source": [
    "input = (r'IJSEMemail2.htm')"
   ]
  },
  {
   "cell_type": "code",
   "execution_count": 18,
   "id": "f0510df2",
   "metadata": {},
   "outputs": [
    {
     "ename": "TypeError",
     "evalue": "unhashable type: 'list'",
     "output_type": "error",
     "traceback": [
      "\u001b[0;31m---------------------------------------------------------------------------\u001b[0m",
      "\u001b[0;31mTypeError\u001b[0m                                 Traceback (most recent call last)",
      "Cell \u001b[0;32mIn[18], line 1\u001b[0m\n\u001b[0;32m----> 1\u001b[0m \u001b[38;5;28;01mwith\u001b[39;00m \u001b[38;5;28;43mopen\u001b[39;49m\u001b[43m \u001b[49m\u001b[43m(\u001b[49m\u001b[38;5;28;43minput\u001b[39;49m\u001b[43m,\u001b[49m\u001b[43m \u001b[49m\u001b[43mencoding\u001b[49m\u001b[43m \u001b[49m\u001b[38;5;241;43m=\u001b[39;49m\u001b[43m \u001b[49m\u001b[38;5;124;43m'\u001b[39;49m\u001b[38;5;124;43municode_escape\u001b[39;49m\u001b[38;5;124;43m'\u001b[39;49m\u001b[43m)\u001b[49m \u001b[38;5;28;01mas\u001b[39;00m f:\n\u001b[1;32m      2\u001b[0m     content \u001b[38;5;241m=\u001b[39m f\u001b[38;5;241m.\u001b[39mread()\n\u001b[1;32m      3\u001b[0m     soup \u001b[38;5;241m=\u001b[39m BeautifulSoup(content, \u001b[38;5;124m'\u001b[39m\u001b[38;5;124mhtml.parser\u001b[39m\u001b[38;5;124m'\u001b[39m)  \n",
      "File \u001b[0;32m~/jup/lib/python3.9/site-packages/IPython/core/interactiveshell.py:277\u001b[0m, in \u001b[0;36m_modified_open\u001b[0;34m(file, *args, **kwargs)\u001b[0m\n\u001b[1;32m    275\u001b[0m \u001b[38;5;129m@functools\u001b[39m\u001b[38;5;241m.\u001b[39mwraps(io_open)\n\u001b[1;32m    276\u001b[0m \u001b[38;5;28;01mdef\u001b[39;00m \u001b[38;5;21m_modified_open\u001b[39m(file, \u001b[38;5;241m*\u001b[39margs, \u001b[38;5;241m*\u001b[39m\u001b[38;5;241m*\u001b[39mkwargs):\n\u001b[0;32m--> 277\u001b[0m     \u001b[38;5;28;01mif\u001b[39;00m \u001b[43mfile\u001b[49m\u001b[43m \u001b[49m\u001b[38;5;129;43;01min\u001b[39;49;00m\u001b[43m \u001b[49m\u001b[43m{\u001b[49m\u001b[38;5;241;43m0\u001b[39;49m\u001b[43m,\u001b[49m\u001b[43m \u001b[49m\u001b[38;5;241;43m1\u001b[39;49m\u001b[43m,\u001b[49m\u001b[43m \u001b[49m\u001b[38;5;241;43m2\u001b[39;49m\u001b[43m}\u001b[49m:\n\u001b[1;32m    278\u001b[0m         \u001b[38;5;28;01mraise\u001b[39;00m \u001b[38;5;167;01mValueError\u001b[39;00m(\n\u001b[1;32m    279\u001b[0m             \u001b[38;5;124mf\u001b[39m\u001b[38;5;124m\"\u001b[39m\u001b[38;5;124mIPython won\u001b[39m\u001b[38;5;124m'\u001b[39m\u001b[38;5;124mt let you open fd=\u001b[39m\u001b[38;5;132;01m{\u001b[39;00mfile\u001b[38;5;132;01m}\u001b[39;00m\u001b[38;5;124m by default \u001b[39m\u001b[38;5;124m\"\u001b[39m\n\u001b[1;32m    280\u001b[0m             \u001b[38;5;124m\"\u001b[39m\u001b[38;5;124mas it is likely to crash IPython. If you know what you are doing, \u001b[39m\u001b[38;5;124m\"\u001b[39m\n\u001b[1;32m    281\u001b[0m             \u001b[38;5;124m\"\u001b[39m\u001b[38;5;124myou can use builtins\u001b[39m\u001b[38;5;124m'\u001b[39m\u001b[38;5;124m open.\u001b[39m\u001b[38;5;124m\"\u001b[39m\n\u001b[1;32m    282\u001b[0m         )\n\u001b[1;32m    284\u001b[0m     \u001b[38;5;28;01mreturn\u001b[39;00m io_open(file, \u001b[38;5;241m*\u001b[39margs, \u001b[38;5;241m*\u001b[39m\u001b[38;5;241m*\u001b[39mkwargs)\n",
      "\u001b[0;31mTypeError\u001b[0m: unhashable type: 'list'"
     ]
    }
   ],
   "source": [
    "with open (input, encoding = 'unicode_escape') as f:\n",
    "    content = f.read()\n",
    "    soup = BeautifulSoup(content, 'html.parser')  \n",
    "print(soup.prettify())"
   ]
  },
  {
   "cell_type": "code",
   "execution_count": 12,
   "id": "658cc782",
   "metadata": {},
   "outputs": [
    {
     "name": "stdout",
     "output_type": "stream",
     "text": [
      "['https://gcc02.safelinks.protection.outlook.com/?url=https%3A%2F%2Fwww.microbiologyresearch.org%2Fcontent%2Fjournal%2Fijsem%2F10.1099%2Fijsem.0.006417%3Femailalert%3Dtrue&data=05%7C02%7Cmcveigh%40ncbi.nlm.nih.gov%7Cede9d3e056284e72eba408dc8c64635f%7C14b77578977342d58507251ca2dc2b06%7C0%7C0%7C638539610385685803%7CUnknown%7CTWFpbGZsb3d8eyJWIjoiMC4wLjAwMDAiLCJQIjoiV2luMzIiLCJBTiI6Ik1haWwiLCJXVCI6Mn0%3D%7C40000%7C%7C%7C&sdata=3IPzb%2BFa%2FxB0gMy87939UdWZLvREPySoF4fnzWRBJQk%3D&reserved=0', 'https://gcc02.safelinks.protection.outlook.com/?url=https%3A%2F%2Fwww.microbiologyresearch.org%2Fcontent%2Fjournal%2Fijsem%2F10.1099%2Fijsem.0.006426%3Femailalert%3Dtrue&data=05%7C02%7Cmcveigh%40ncbi.nlm.nih.gov%7Cede9d3e056284e72eba408dc8c64635f%7C14b77578977342d58507251ca2dc2b06%7C0%7C0%7C638539610385701322%7CUnknown%7CTWFpbGZsb3d8eyJWIjoiMC4wLjAwMDAiLCJQIjoiV2luMzIiLCJBTiI6Ik1haWwiLCJXVCI6Mn0%3D%7C40000%7C%7C%7C&sdata=3kRQU%2Bl1KWXJyM%2B7l1yPL2Ex%2FzlEC06BZdrpv28Vgt8%3D&reserved=0', 'https://gcc02.safelinks.protection.outlook.com/?url=https%3A%2F%2Fwww.microbiologyresearch.org%2Fcontent%2Fjournal%2Fijsem%2F10.1099%2Fijsem.0.006419%3Femailalert%3Dtrue&data=05%7C02%7Cmcveigh%40ncbi.nlm.nih.gov%7Cede9d3e056284e72eba408dc8c64635f%7C14b77578977342d58507251ca2dc2b06%7C0%7C0%7C638539610385711878%7CUnknown%7CTWFpbGZsb3d8eyJWIjoiMC4wLjAwMDAiLCJQIjoiV2luMzIiLCJBTiI6Ik1haWwiLCJXVCI6Mn0%3D%7C40000%7C%7C%7C&sdata=H5hpjVJGLq1IP%2F%2B8UcDSEBrVqpIuCuYl3Q7j7YaYZxk%3D&reserved=0', 'https://gcc02.safelinks.protection.outlook.com/?url=https%3A%2F%2Fwww.microbiologyresearch.org%2Fcontent%2Fjournal%2Fijsem%2F10.1099%2Fijsem.0.006416%3Femailalert%3Dtrue&data=05%7C02%7Cmcveigh%40ncbi.nlm.nih.gov%7Cede9d3e056284e72eba408dc8c64635f%7C14b77578977342d58507251ca2dc2b06%7C0%7C0%7C638539610385722640%7CUnknown%7CTWFpbGZsb3d8eyJWIjoiMC4wLjAwMDAiLCJQIjoiV2luMzIiLCJBTiI6Ik1haWwiLCJXVCI6Mn0%3D%7C40000%7C%7C%7C&sdata=Qzrd94rIG9jH9V1Y7Vio8KHqnJN2A%2BWTRMYxBHLt780%3D&reserved=0', 'https://gcc02.safelinks.protection.outlook.com/?url=https%3A%2F%2Fwww.microbiologyresearch.org%2Fcontent%2Fjournal%2Fijsem%2F10.1099%2Fijsem.0.006415%3Femailalert%3Dtrue&data=05%7C02%7Cmcveigh%40ncbi.nlm.nih.gov%7Cede9d3e056284e72eba408dc8c64635f%7C14b77578977342d58507251ca2dc2b06%7C0%7C0%7C638539610385733829%7CUnknown%7CTWFpbGZsb3d8eyJWIjoiMC4wLjAwMDAiLCJQIjoiV2luMzIiLCJBTiI6Ik1haWwiLCJXVCI6Mn0%3D%7C40000%7C%7C%7C&sdata=9pz15TOQ5qI7YT5FdfiMS5qM0vdHP45L1RRtx%2BhrDUo%3D&reserved=0', 'https://gcc02.safelinks.protection.outlook.com/?url=https%3A%2F%2Fwww.microbiologyresearch.org%2Fcontent%2Fjournal%2Fijsem%2F10.1099%2Fijsem.0.006420%3Femailalert%3Dtrue&data=05%7C02%7Cmcveigh%40ncbi.nlm.nih.gov%7Cede9d3e056284e72eba408dc8c64635f%7C14b77578977342d58507251ca2dc2b06%7C0%7C0%7C638539610385746457%7CUnknown%7CTWFpbGZsb3d8eyJWIjoiMC4wLjAwMDAiLCJQIjoiV2luMzIiLCJBTiI6Ik1haWwiLCJXVCI6Mn0%3D%7C40000%7C%7C%7C&sdata=6TjLmiJL2FiGtTU8oX85okEbNIv2K68%2FT2eiVNFOyxk%3D&reserved=0', 'https://gcc02.safelinks.protection.outlook.com/?url=https%3A%2F%2Fwww.microbiologyresearch.org%2Fcontent%2Fjournal%2Fijsem%2F10.1099%2Fijsem.0.006403%3Femailalert%3Dtrue&data=05%7C02%7Cmcveigh%40ncbi.nlm.nih.gov%7Cede9d3e056284e72eba408dc8c64635f%7C14b77578977342d58507251ca2dc2b06%7C0%7C0%7C638539610385757183%7CUnknown%7CTWFpbGZsb3d8eyJWIjoiMC4wLjAwMDAiLCJQIjoiV2luMzIiLCJBTiI6Ik1haWwiLCJXVCI6Mn0%3D%7C40000%7C%7C%7C&sdata=BIisDXWr5djK2CVyKO9askqXpcurOkNK8%2FEEUefPN3g%3D&reserved=0', 'https://gcc02.safelinks.protection.outlook.com/?url=https%3A%2F%2Fwww.microbiologyresearch.org%2Fcontent%2Fjournal%2Fijsem%2F10.1099%2Fijsem.0.006412%3Femailalert%3Dtrue&data=05%7C02%7Cmcveigh%40ncbi.nlm.nih.gov%7Cede9d3e056284e72eba408dc8c64635f%7C14b77578977342d58507251ca2dc2b06%7C0%7C0%7C638539610385767496%7CUnknown%7CTWFpbGZsb3d8eyJWIjoiMC4wLjAwMDAiLCJQIjoiV2luMzIiLCJBTiI6Ik1haWwiLCJXVCI6Mn0%3D%7C40000%7C%7C%7C&sdata=tocgRpcGfleZ7bM3v%2FwgWtPj0t%2Bl3Vvb6h5BEMS0nZY%3D&reserved=0', 'https://gcc02.safelinks.protection.outlook.com/?url=https%3A%2F%2Fwww.microbiologyresearch.org%2Fcontent%2Fjournal%2Fijsem%2F10.1099%2Fijsem.0.006413%3Femailalert%3Dtrue&data=05%7C02%7Cmcveigh%40ncbi.nlm.nih.gov%7Cede9d3e056284e72eba408dc8c64635f%7C14b77578977342d58507251ca2dc2b06%7C0%7C0%7C638539610385778001%7CUnknown%7CTWFpbGZsb3d8eyJWIjoiMC4wLjAwMDAiLCJQIjoiV2luMzIiLCJBTiI6Ik1haWwiLCJXVCI6Mn0%3D%7C40000%7C%7C%7C&sdata=yuJioQwrjkNd1e1V1HaJaV40LPjIcYL0ZVLXBSOA29E%3D&reserved=0', 'https://gcc02.safelinks.protection.outlook.com/?url=https%3A%2F%2Fwww.microbiologyresearch.org%2Fcontent%2Fjournal%2Fijsem%2F10.1099%2Fijsem.0.006408%3Femailalert%3Dtrue&data=05%7C02%7Cmcveigh%40ncbi.nlm.nih.gov%7Cede9d3e056284e72eba408dc8c64635f%7C14b77578977342d58507251ca2dc2b06%7C0%7C0%7C638539610385788474%7CUnknown%7CTWFpbGZsb3d8eyJWIjoiMC4wLjAwMDAiLCJQIjoiV2luMzIiLCJBTiI6Ik1haWwiLCJXVCI6Mn0%3D%7C40000%7C%7C%7C&sdata=Cd25PbPcp7%2Bi%2Fso43mhe7%2FEQxphAYX32FUgCQX71ZRg%3D&reserved=0']\n"
     ]
    }
   ],
   "source": [
    "urls = []\n",
    "numberoflinks = 0\n",
    "for url in soup.findAll( 'a', attrs={'href': re.compile(\"^https:\")}):\n",
    "    urls.append(url.get('href'))\n",
    "    numberoflinks = numberoflinks + 1\n",
    "#print(numberoflinks)\n",
    "#print(urls)\n",
    "#remove_list = ['TandC','doi.org', 'myaccount']\n",
    "urls = [e for e in urls if \"TandC\" not in e and \"doi.org\" not in e and \"myaccount\" not in e]\n",
    "print(urls)"
   ]
  },
  {
   "cell_type": "markdown",
   "id": "4f959ef4",
   "metadata": {},
   "source": [
    "### Selenium web scraper - title and author note (footnote 1)"
   ]
  },
  {
   "cell_type": "code",
   "execution_count": 15,
   "id": "a260b143",
   "metadata": {},
   "outputs": [],
   "source": [
    "#Function to scrape headlines using Selenium\n",
    "def scrape_with_selenium(url):\n",
    "    global title\n",
    "    global footnote\n",
    "    title = []\n",
    "    footnote = None\n",
    "    options = Options()\n",
    "    options.headless = False  # Set to True for headless mode\n",
    "    driver = webdriver.Chrome(options=options)\n",
    "\n",
    "    #Navigate to the webpage\n",
    "    driver.get(url)\n",
    "    time.sleep(3)\n",
    "\n",
    "    for element in driver.find_elements(By.CLASS_NAME, \"item-meta-data__item-title\"):\n",
    "        #print(element.text)\n",
    "        title = element.text\n",
    "        #print(title)\n",
    "    #for element in driver.find_elements(By.CLASS_NAME, \"author-footnote-below-abstract\"):get.text() #retrieves all footnotes\n",
    "    for element in driver.find_elements(By.ID, \"FN1\"): #retrieves just footnote 1\n",
    "        #print(element.text)\n",
    "        footnote = element.text\n",
    "        #print(footnote)\n",
    "        #print(type(footnote))\n",
    "        \n",
    "    for element in driver.find_elements(By.CLASS_NAME, \"tl-main-part title\"):\n",
    "        #print(element.text)\n",
    "        decription_title = element.text\n",
    "        print('s2 is', decription_title)\n",
    "        #print(type(footnote))\n",
    "        \n",
    "    #Close the browser window\n",
    "    driver.quit()\n",
    "    return title, footnote\n",
    "\n"
   ]
  },
  {
   "cell_type": "markdown",
   "id": "e2832628",
   "metadata": {},
   "source": [
    "### Beautifulsoup webscraper - returns abstract"
   ]
  },
  {
   "cell_type": "code",
   "execution_count": 8,
   "id": "27a9550b",
   "metadata": {},
   "outputs": [],
   "source": [
    "def scrape_with_beautifulsoup(url):\n",
    "    global abstract_text\n",
    "    abstract_text = None\n",
    "    response = requests.get(url)\n",
    "    #soup = BeautifulSoup(response.content, \"html.parser\")\n",
    "    soup = BeautifulSoup(response.text, \"lxml\")\n",
    "    abstract = soup.find(class_= \"articleabstract\")\n",
    "    if abstract is not None:\n",
    "    #print(abstract.get_text())\n",
    "        abstract_text = abstract.get_text()\n",
    "        return abstract_text\n",
    "    else:\n",
    "        return"
   ]
  },
  {
   "cell_type": "markdown",
   "id": "66523630",
   "metadata": {},
   "source": [
    "### Main body "
   ]
  },
  {
   "cell_type": "code",
   "execution_count": 19,
   "id": "7cee2559",
   "metadata": {},
   "outputs": [
    {
     "name": "stdout",
     "output_type": "stream",
     "text": [
      "['Lacrimispora xylanisolvens ']\n",
      "strain names []\n",
      "['Roseateles subflavus ', 'Roseateles aquae ', 'Roseateles violae ']\n",
      "['JASVDS000000000', 'JASVDS010000000', 'OQ799017', 'JAVXZY000000000', 'JAVXZY010000000', 'OP341190', 'JAUHHC000000000', 'JAUHHC010000000', 'OQ799020']\n",
      "strain names [' APW6T (=KACC 22877T=TBRC 16606T), Roseateles aquae sp. nov., with the type strain APW11T (=KACC 22878T=TBRC 16607T), and Roseateles violae sp. nov (=KACC 23257T=TBRC 17653T) are respectively proposed']\n",
      "['Paenibacillus hexagrammi ']\n",
      "['OM319628', 'CP090978', 'CP090979']\n",
      "strain names [' of Paenibacillus hexagrammi is YPD9-1T (=KCTC 43424T =LMG 32988T']\n",
      "['Flavobacterium poyangense ']\n",
      "['MH392710', 'JAALLN000000000']\n",
      "strain names [' is JXAS1T (=GDMCC 1.1378T=KCTC 62719T']\n",
      "['Mangrovimonas cancribranchiae ']\n",
      "['OR538380', 'OR538379', 'CP136925', 'CP136924']\n",
      "strain names [' species within the genus Mangrovimonas. The genome sizes were 3.08 and 3.07 Mbp for UG2_1T and UG2_2, respectively, with a G+C content of 33.8\\u200amol% for both strains. Values of average nucleotide identity and digital DNA–DNA hybridization between the strains and closely related species were 91.0 and 43.5\\u200a%, respectively. Chemotaxonomic analysis indicated that both strains had iso-C15\\u200a:\\u200a0 and iso-C15\\u200a:\\u200a1 G as dominant fatty acids, and the primary respiratory quinone was identified as MK-6. The major polar lipids comprised phosphatidylethanolamine, one unidentified glycolipid, one unidentified phospholipid, two unidentified aminolipids, and four unidentified lipids. Based on phylogenetic, phylogenomic, genome relatedness, phenotypic, and chemotaxonomical data, the two isolates represent a novel species within the genus Mangrovimonas, with the proposed name Mangrovimonas cancribranchiae sp. nov., and the type strain UG2_1T (=KCTC 102158T=DSM 117025T']\n",
      "['Clostridium aquiflavi ']\n",
      "['OR414528', 'JAVJAN000000000', 'JAVJAN000000000']\n",
      "strain names [' is Clostridium aquiflavi 5 N-1T (=CICC 24886T=JCM 35355T']\n",
      "['Roseobacter fucihabitans ']\n",
      "[]\n",
      "strain names []\n"
     ]
    },
    {
     "ename": "KeyboardInterrupt",
     "evalue": "",
     "output_type": "error",
     "traceback": [
      "\u001b[0;31m---------------------------------------------------------------------------\u001b[0m",
      "\u001b[0;31mKeyboardInterrupt\u001b[0m                         Traceback (most recent call last)",
      "Cell \u001b[0;32mIn[19], line 6\u001b[0m\n\u001b[1;32m      4\u001b[0m     strains \u001b[38;5;241m=\u001b[39m []\n\u001b[1;32m      5\u001b[0m     accessions \u001b[38;5;241m=\u001b[39m []\n\u001b[0;32m----> 6\u001b[0m     \u001b[43mscrape_with_selenium\u001b[49m\u001b[43m(\u001b[49m\u001b[43murl\u001b[49m\u001b[43m)\u001b[49m\n\u001b[1;32m      7\u001b[0m     scrape_with_beautifulsoup(url)\n\u001b[1;32m     10\u001b[0m     \u001b[38;5;66;03m#print('title is', title)\u001b[39;00m\n\u001b[1;32m     11\u001b[0m     \u001b[38;5;66;03m#print('footnote is', footnote)\u001b[39;00m\n\u001b[1;32m     12\u001b[0m \n\u001b[1;32m     13\u001b[0m \u001b[38;5;66;03m#find the organism names    \u001b[39;00m\n",
      "Cell \u001b[0;32mIn[15], line 13\u001b[0m, in \u001b[0;36mscrape_with_selenium\u001b[0;34m(url)\u001b[0m\n\u001b[1;32m     11\u001b[0m \u001b[38;5;66;03m#Navigate to the webpage\u001b[39;00m\n\u001b[1;32m     12\u001b[0m driver\u001b[38;5;241m.\u001b[39mget(url)\n\u001b[0;32m---> 13\u001b[0m \u001b[43mtime\u001b[49m\u001b[38;5;241;43m.\u001b[39;49m\u001b[43msleep\u001b[49m\u001b[43m(\u001b[49m\u001b[38;5;241;43m3\u001b[39;49m\u001b[43m)\u001b[49m\n\u001b[1;32m     15\u001b[0m \u001b[38;5;28;01mfor\u001b[39;00m element \u001b[38;5;129;01min\u001b[39;00m driver\u001b[38;5;241m.\u001b[39mfind_elements(By\u001b[38;5;241m.\u001b[39mCLASS_NAME, \u001b[38;5;124m\"\u001b[39m\u001b[38;5;124mitem-meta-data__item-title\u001b[39m\u001b[38;5;124m\"\u001b[39m):\n\u001b[1;32m     16\u001b[0m     \u001b[38;5;66;03m#print(element.text)\u001b[39;00m\n\u001b[1;32m     17\u001b[0m     title \u001b[38;5;241m=\u001b[39m element\u001b[38;5;241m.\u001b[39mtext\n",
      "\u001b[0;31mKeyboardInterrupt\u001b[0m: "
     ]
    }
   ],
   "source": [
    "pub_df = pd.DataFrame(columns=['PublishedName', 'Accessions', 'Strains','URL'])\n",
    "pd.set_option('display.max_columns', None)\n",
    "for url in urls:\n",
    "    strains = []\n",
    "    accessions = []\n",
    "    scrape_with_selenium(url)\n",
    "    scrape_with_beautifulsoup(url)\n",
    "\n",
    "    \n",
    "    #print('title is', title)\n",
    "    #print('footnote is', footnote)\n",
    "\n",
    "#find the organism names    \n",
    "    match = [r'(\\S+\\s+){2}(?=sp. nov.)', r'(\\S+\\s+){2}(?=nom. nov.)']\n",
    "    regex = re.compile(r'\\b(' + '|'.join(match) + r')\\b')\n",
    "    orgname = [m.group() for m in regex.finditer(title)]\n",
    "    print(orgname)\n",
    "\n",
    "    \n",
    "#find the accessions - need to add code for scenario where no footnote is found\n",
    "    #if footnote:\n",
    "    # got a non-empty string\n",
    "    #else:\n",
    "    #    pass\n",
    "    pattern = [r'[A-Z]{2}\\d{6}', r'[A-Z]{4}\\d{8}', r'([A-Z]+)(_[A-Z]+)\\d{6}', r'[A-Z]{6}\\d{9}']\n",
    "    regex = re.compile(r'\\b(' + '|'.join(pattern) + r')\\b')\n",
    "    if footnote is not None:\n",
    "        accessions = [m.group() for m in regex.finditer(footnote)]\n",
    "        print(accessions)\n",
    "    \n",
    "#find the strains optionally, we could add more search options but may get more junk returned\n",
    "    strainpattern = [r'(?<=type strain).*'] \n",
    "    regex = re.compile(r'\\b(' + '|'.join(strainpattern) + r')\\b')\n",
    "    if abstract_text is not None:\n",
    "        strains = [m.group() for m in regex.finditer(abstract_text)]\n",
    "        print('strain names', strains)\n",
    "    \n",
    "#load data into pandas dataframe\n",
    "    row_data = [orgname, accessions, strains, url]\n",
    "    length = len(pub_df)\n",
    "    pub_df.loc[length] = row_data"
   ]
  },
  {
   "cell_type": "code",
   "execution_count": null,
   "id": "91184478",
   "metadata": {},
   "outputs": [],
   "source": [
    "pd.set_option('max_colwidth', None)\n",
    "pub_df['Strains'] = [','.join(map(str, l)) for l in pub_df['Strains']]\n",
    "pub_d"
   ]
  }
 ],
 "metadata": {
  "kernelspec": {
   "display_name": "Python 3 (ipykernel)",
   "language": "python",
   "name": "python3"
  },
  "language_info": {
   "codemirror_mode": {
    "name": "ipython",
    "version": 3
   },
   "file_extension": ".py",
   "mimetype": "text/x-python",
   "name": "python",
   "nbconvert_exporter": "python",
   "pygments_lexer": "ipython3",
   "version": "3.9.19"
  }
 },
 "nbformat": 4,
 "nbformat_minor": 5
}
