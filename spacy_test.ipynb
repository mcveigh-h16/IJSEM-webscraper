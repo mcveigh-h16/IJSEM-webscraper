{
 "cells": [
  {
   "cell_type": "markdown",
   "id": "78224ae8",
   "metadata": {},
   "source": [
    "### Testing and training spacy for NER"
   ]
  },
  {
   "cell_type": "code",
   "execution_count": null,
   "id": "b3b5cdc5",
   "metadata": {},
   "outputs": [],
   "source": [
    "#pip install -U spacy"
   ]
  },
  {
   "cell_type": "code",
   "execution_count": null,
   "id": "3238c353",
   "metadata": {},
   "outputs": [],
   "source": [
    "#pip install spacy\n",
    "#pip install -U pip setuptools wheel\n",
    "#pip install -U spacy\n"
   ]
  },
  {
   "cell_type": "markdown",
   "id": "7c75c5ff",
   "metadata": {},
   "source": [
    "### Install the model at the command lines\n",
    "### small model\n",
    "python -m spacy download en_core_web_sm\n",
    "### medium model \n",
    "python -m spacy download en_core_web_md\n",
    "### large model \n",
    "python -m spacy download en_core_web_lg\n"
   ]
  },
  {
   "cell_type": "code",
   "execution_count": null,
   "id": "d2c7799e",
   "metadata": {},
   "outputs": [],
   "source": [
    "pip install \"numpy<2.0\" \n"
   ]
  },
  {
   "cell_type": "code",
   "execution_count": 1,
   "id": "770ee94b",
   "metadata": {},
   "outputs": [
    {
     "name": "stderr",
     "output_type": "stream",
     "text": [
      "/home/mcveigh/jup/lib/python3.9/site-packages/transformers/utils/generic.py:441: UserWarning: torch.utils._pytree._register_pytree_node is deprecated. Please use torch.utils._pytree.register_pytree_node instead.\n",
      "  _torch_pytree._register_pytree_node(\n",
      "/home/mcveigh/jup/lib/python3.9/site-packages/transformers/utils/generic.py:309: UserWarning: torch.utils._pytree._register_pytree_node is deprecated. Please use torch.utils._pytree.register_pytree_node instead.\n",
      "  _torch_pytree._register_pytree_node(\n"
     ]
    },
    {
     "name": "stdout",
     "output_type": "stream",
     "text": [
      "Noun phrases: ['Cells', '0.8–1.4', 'width', 'µm', 'length', 'Colonies', 'the MA', 'circular, convex, transparent edges', 'beige', 'dark beige', 'Growth', '10–37', 'C', 'the presence', '0–9.0% (w/v', 'PHB accumulation', 'Cellulose', 'starch', 'casein', 'DNA', 'Tween', 'Nitrate', 'nitrite', 'The production', 'indole and glucose fermentation', 'API', 'The assimilation', 'd-glucose', 'l', '-', 'arabinose', 'd', 'd-glucosamine', 'd', 'd', 'sorbitol', 'propionate', 'valerate', '3-hydroxy-butyrate', '4-hydroxy-benzoate', 'l', 'inositol', 'acetate', 'lactate', '3-hydroxy-benzoate', 'l', '-', 'serine', 'caprate', 'salicin', 'l', '-', 'l-histidine, 2-ketogluconate', 'l', 'itaconate', 'malonate, l-alanine', 'glycogen', 'The enzyme activity', 'arginine dihydrolase', 'β', 'galactosidase', '(PNPG', 'alkaline phosphatase', 'esterase', 'C4', 'esterase/lipase', 'C8', 'leucine arylamidase', 'valine arylamidase', 'cystine arylamidase', 'trypsin', 'α', 'chymotrypsin', 'acid phosphatase', 'naphtol-AS-BI', '-phosphohydrolase', 'α', 'α-mannosidase', 'urease', 'lipase', 'C14', 'α-galactosidase', 'β', '-', '-acetyl', 'β', '-', 'glucosaminidase', 'α-fucosidase', 'The sole respiratory quinone', 'The polar lipids comprise', 'DPG', 'PG', 'four PGLs', 'two unidentified ALs', 'eight unidentified Ls', 'The major cellular fatty acid', 'feature', 'C18', '1\\u2009ω7c/C18', '1\\u2009ω6c).The type strain', '2205BS29-5T (=LMG 33062T =KACC', '23240T', 'which', 'a marine sponge', 'P. elegans', 'Beomseom', 'Jeju-Island', 'Republic', 'Korea', 'The DNA G+C content', 'strain', '2205BS29-5T', '67.8%', 'The GenBank accession numbers', 'the 16S rRNA gene andwhole-genome sequences', 'strain', '2205BS29-5T', 'OQ569368', 'JAVAMQ000000000']\n",
      "Verbs: ['shape', 'occur', 'observe', 'hydrolyze', 'reduce', 'hydroxy', 'melibiose', 'sum', 'isolate', 'collect']\n",
      "Gram ORG\n",
      "0.9–1.3  MONEY\n",
      "25 ° CARDINAL\n",
      "5.0–8.0 CARDINAL\n",
      "7.0 CARDINAL\n",
      "0–9.0% PERCENT\n",
      "3.0–4.0% PERCENT\n",
      "PHB ORG\n",
      "Tween 80 LAW\n",
      "20NE CARDINAL\n",
      "l-arabinose DATE\n",
      "3-hydroxy-butyrate QUANTITY\n",
      "4-hydroxy QUANTITY\n",
      "5-ketogluconate QUANTITY\n",
      "3-hydroxy QUANTITY\n",
      "2-ketogluconate QUANTITY\n",
      "PNPG WORK_OF_ART\n",
      "C4 ORG\n",
      "C8 ORG\n",
      "valine arylamidase PERSON\n",
      "cystine arylamidase PERSON\n",
      "C14 ORG\n",
      "Q-10 PRODUCT\n",
      "PG ORG\n",
      "four CARDINAL\n",
      "two CARDINAL\n",
      "ALs ORG\n",
      "eight CARDINAL\n",
      "Ls PERSON\n",
      "8 CARDINAL\n",
      "C18 ORG\n",
      "1 ω7c MONEY\n",
      "C18 ORG\n",
      "1 CARDINAL\n",
      "2205BS29 CARDINAL\n",
      "23240 DATE\n",
      "Beomseom ORG\n",
      "Jeju-Island LOC\n",
      "G+C GPE\n",
      "2205BS29-5 CARDINAL\n",
      "67.8% PERCENT\n",
      "GenBank ORG\n",
      "16S CARDINAL\n",
      "2205BS29-5 CARDINAL\n",
      "OQ569368 PRODUCT\n",
      "JAVAMQ000000000 NORP\n"
     ]
    }
   ],
   "source": [
    "import spacy\n",
    "\n",
    "#nlp = spacy.load(\"en_core_web_sm\")\n",
    "nlp = spacy.load(\"en_core_web_md\")\n",
    "#text = (\"When Sebastian Thrun started working on self-driving cars at \"\n",
    "#        \"Google in 2007, few people outside of the company took him \"\n",
    "#        \"seriously. “I can tell you very senior CEOs of major American \"\n",
    "#        \"car companies would shake my hand and turn away because I wasn’t \"\n",
    "#        \"worth talking to,” said Thrun, in an interview with Recode earlier \"\n",
    "#        \"this week.\")\n",
    "\n",
    "text = (\"Cells are Gram-stain negative, facultative anaerobic, oxidase and catalase positive, non-motile and \"\n",
    "\"coccoid-rod shaped (0.8–1.4 µm in width and 0.9–1.3 µm in length). Colonies on the MA are circular, \"\n",
    "\"convex, transparent edges and beige to dark beige. Growth occurs at 10–37 °C (optimum, 25 °C), pH \"\n",
    "\"5.0–8.0 (optimum, pH 7.0) and in the presence of 0–9.0% (w/v) (optimum, 3.0–4.0%). PHB accumulation \"\n",
    "\"was observed. Cellulose, starch, casein, DNA and Tween 80 are not hydrolyzed. Nitrate is reduced to \"\n",
    "\"nitrite. The production of indole and glucose fermentation are negative in API 20NE. The assimilation \"\n",
    "\"of d-glucose, l-arabinose, d-mannose, N-acetyl-d-glucosamine, d-maltose, gluconate, malate, citrate, \"\n",
    "\"d-sorbitol, propionate, valerate, 3-hydroxy-butyrate, 4-hydroxy-benzoate, l-proline, inositol, d-sucrose, \"\n",
    "\"acetate, lactate, 5-ketogluconate, 3-hydroxy-benzoate and l-serine is positive, but caprate, adipate, \"\n",
    "\"phenylacetate, salicin, d-melibiose, l-fucose, l-histidine, 2-ketogluconate, l-rhamnose, d-ribose, itaconate, \"\n",
    "\"suberate, malonate, l-alanine and glycogen is negative. The enzyme activity of arginine dihydrolase, β-galactosidase \"\n",
    "\"(PNPG), alkaline phosphatase, esterase (C4), esterase/lipase (C8), leucine arylamidase, valine arylamidase, \"\n",
    "\"cystine arylamidase, trypsin, α-chymotrypsin, acid phosphatase, naphtol-AS-BI-phosphohydrolase, α-glucosidase, \"\n",
    "\"β-glucosidase, α-mannosidase and urease is positive, but lipase (C14), α-galactosidase, β-glucuronidase, \"\n",
    "\"N-acetyl-β-glucosaminidase and α-fucosidase is negative. The sole respiratory quinone is Q-10. The polar lipids \"\n",
    "\"comprise DPG, PG, four PGLs, two unidentified ALs, and eight unidentified Ls. The major cellular fatty acid is \"\n",
    "\"summed feature 8 (C18 : 1 ω7c/C18 : 1 ω6c).\"\n",
    "\n",
    "\"The type strain is 2205BS29-5T (=LMG 33062T =KACC 23240T), which is isolated from a marine sponge, P. elegans, \"\n",
    "\"collected from Beomseom in Jeju-Island, Republic of Korea.\"\n",
    "\n",
    "\"The DNA G+C content of strain 2205BS29-5T is 67.8%. The GenBank accession numbers for the 16S rRNA gene and\" \n",
    "\"whole-genome sequences of strain 2205BS29-5T are OQ569368 and JAVAMQ000000000, respectively.\")\n",
    "    \n",
    "    \n",
    "doc = nlp(text)\n",
    "\n",
    "# Analyze syntax\n",
    "print(\"Noun phrases:\", [chunk.text for chunk in doc.noun_chunks])\n",
    "print(\"Verbs:\", [token.lemma_ for token in doc if token.pos_ == \"VERB\"])\n",
    "\n",
    "# Find named entities, phrases and concepts\n",
    "for entity in doc.ents:\n",
    "    print(entity.text, entity.label_)"
   ]
  },
  {
   "cell_type": "code",
   "execution_count": 2,
   "id": "0efeffb0",
   "metadata": {},
   "outputs": [
    {
     "name": "stdout",
     "output_type": "stream",
     "text": [
      "Gram 10 14 ORG\n",
      "0.9–1.3  144 152 MONEY\n",
      "25 ° 287 291 CARDINAL\n",
      "5.0–8.0 298 305 CARDINAL\n",
      "7.0 319 322 CARDINAL\n",
      "0–9.0% 347 353 PERCENT\n",
      "3.0–4.0% 370 378 PERCENT\n",
      "PHB 381 384 ORG\n",
      "Tween 80 447 455 LAW\n",
      "20NE 577 581 CARDINAL\n",
      "l-arabinose 614 625 DATE\n",
      "3-hydroxy-butyrate 735 753 QUANTITY\n",
      "4-hydroxy 755 764 QUANTITY\n",
      "5-ketogluconate 825 840 QUANTITY\n",
      "3-hydroxy 842 851 QUANTITY\n",
      "2-ketogluconate 969 984 QUANTITY\n",
      "PNPG 1137 1141 WORK_OF_ART\n",
      "C4 1176 1178 ORG\n",
      "C8 1198 1200 ORG\n",
      "valine arylamidase 1224 1242 PERSON\n",
      "cystine arylamidase 1244 1263 PERSON\n",
      "C14 1420 1423 ORG\n",
      "Q-10 1549 1553 PRODUCT\n",
      "PG 1586 1588 ORG\n",
      "four 1590 1594 CARDINAL\n",
      "two 1601 1604 CARDINAL\n",
      "ALs 1618 1621 ORG\n",
      "eight 1627 1632 CARDINAL\n",
      "Ls 1646 1648 PERSON\n",
      "8 1698 1699 CARDINAL\n",
      "C18 1701 1704 ORG\n",
      "1 ω7c 1707 1712 MONEY\n",
      "C18 1713 1716 ORG\n",
      "1 1719 1720 CARDINAL\n",
      "2205BS29 1745 1753 CARDINAL\n",
      "23240 1776 1781 DATE\n",
      "Beomseom 1852 1860 ORG\n",
      "Jeju-Island 1864 1875 LOC\n",
      "G+C 1903 1906 GPE\n",
      "2205BS29-5 1925 1935 CARDINAL\n",
      "67.8% 1940 1945 PERCENT\n",
      "GenBank 1951 1958 ORG\n",
      "16S 1985 1988 CARDINAL\n",
      "2205BS29-5 2035 2045 CARDINAL\n",
      "OQ569368 2051 2059 PRODUCT\n",
      "JAVAMQ000000000 2064 2079 NORP\n"
     ]
    }
   ],
   "source": [
    "for ent in doc.ents:\n",
    "    print(ent.text, ent.start_char, ent.end_char, ent.label_)"
   ]
  },
  {
   "cell_type": "code",
   "execution_count": 3,
   "id": "b587eebf",
   "metadata": {},
   "outputs": [
    {
     "data": {
      "text/html": [
       "<span class=\"tex2jax_ignore\"><div class=\"entities\" style=\"line-height: 2.5; direction: ltr\">Cells are \n",
       "<mark class=\"entity\" style=\"background: #7aecec; padding: 0.45em 0.6em; margin: 0 0.25em; line-height: 1; border-radius: 0.35em;\">\n",
       "    Gram\n",
       "    <span style=\"font-size: 0.8em; font-weight: bold; line-height: 1; border-radius: 0.35em; vertical-align: middle; margin-left: 0.5rem\">ORG</span>\n",
       "</mark>\n",
       "-stain negative, facultative anaerobic, oxidase and catalase positive, non-motile and coccoid-rod shaped (0.8–1.4 µm in width and \n",
       "<mark class=\"entity\" style=\"background: #e4e7d2; padding: 0.45em 0.6em; margin: 0 0.25em; line-height: 1; border-radius: 0.35em;\">\n",
       "    0.9–1.3 \n",
       "    <span style=\"font-size: 0.8em; font-weight: bold; line-height: 1; border-radius: 0.35em; vertical-align: middle; margin-left: 0.5rem\">MONEY</span>\n",
       "</mark>\n",
       "µm in length). Colonies on the MA are circular, convex, transparent edges and beige to dark beige. Growth occurs at 10–37 °C (optimum, \n",
       "<mark class=\"entity\" style=\"background: #e4e7d2; padding: 0.45em 0.6em; margin: 0 0.25em; line-height: 1; border-radius: 0.35em;\">\n",
       "    25 °\n",
       "    <span style=\"font-size: 0.8em; font-weight: bold; line-height: 1; border-radius: 0.35em; vertical-align: middle; margin-left: 0.5rem\">CARDINAL</span>\n",
       "</mark>\n",
       "C), pH \n",
       "<mark class=\"entity\" style=\"background: #e4e7d2; padding: 0.45em 0.6em; margin: 0 0.25em; line-height: 1; border-radius: 0.35em;\">\n",
       "    5.0–8.0\n",
       "    <span style=\"font-size: 0.8em; font-weight: bold; line-height: 1; border-radius: 0.35em; vertical-align: middle; margin-left: 0.5rem\">CARDINAL</span>\n",
       "</mark>\n",
       " (optimum, pH \n",
       "<mark class=\"entity\" style=\"background: #e4e7d2; padding: 0.45em 0.6em; margin: 0 0.25em; line-height: 1; border-radius: 0.35em;\">\n",
       "    7.0\n",
       "    <span style=\"font-size: 0.8em; font-weight: bold; line-height: 1; border-radius: 0.35em; vertical-align: middle; margin-left: 0.5rem\">CARDINAL</span>\n",
       "</mark>\n",
       ") and in the presence of \n",
       "<mark class=\"entity\" style=\"background: #e4e7d2; padding: 0.45em 0.6em; margin: 0 0.25em; line-height: 1; border-radius: 0.35em;\">\n",
       "    0–9.0%\n",
       "    <span style=\"font-size: 0.8em; font-weight: bold; line-height: 1; border-radius: 0.35em; vertical-align: middle; margin-left: 0.5rem\">PERCENT</span>\n",
       "</mark>\n",
       " (w/v) (optimum, \n",
       "<mark class=\"entity\" style=\"background: #e4e7d2; padding: 0.45em 0.6em; margin: 0 0.25em; line-height: 1; border-radius: 0.35em;\">\n",
       "    3.0–4.0%\n",
       "    <span style=\"font-size: 0.8em; font-weight: bold; line-height: 1; border-radius: 0.35em; vertical-align: middle; margin-left: 0.5rem\">PERCENT</span>\n",
       "</mark>\n",
       "). \n",
       "<mark class=\"entity\" style=\"background: #7aecec; padding: 0.45em 0.6em; margin: 0 0.25em; line-height: 1; border-radius: 0.35em;\">\n",
       "    PHB\n",
       "    <span style=\"font-size: 0.8em; font-weight: bold; line-height: 1; border-radius: 0.35em; vertical-align: middle; margin-left: 0.5rem\">ORG</span>\n",
       "</mark>\n",
       " accumulation was observed. Cellulose, starch, casein, DNA and \n",
       "<mark class=\"entity\" style=\"background: #ff8197; padding: 0.45em 0.6em; margin: 0 0.25em; line-height: 1; border-radius: 0.35em;\">\n",
       "    Tween 80\n",
       "    <span style=\"font-size: 0.8em; font-weight: bold; line-height: 1; border-radius: 0.35em; vertical-align: middle; margin-left: 0.5rem\">LAW</span>\n",
       "</mark>\n",
       " are not hydrolyzed. Nitrate is reduced to nitrite. The production of indole and glucose fermentation are negative in API \n",
       "<mark class=\"entity\" style=\"background: #e4e7d2; padding: 0.45em 0.6em; margin: 0 0.25em; line-height: 1; border-radius: 0.35em;\">\n",
       "    20NE\n",
       "    <span style=\"font-size: 0.8em; font-weight: bold; line-height: 1; border-radius: 0.35em; vertical-align: middle; margin-left: 0.5rem\">CARDINAL</span>\n",
       "</mark>\n",
       ". The assimilation of d-glucose, \n",
       "<mark class=\"entity\" style=\"background: #bfe1d9; padding: 0.45em 0.6em; margin: 0 0.25em; line-height: 1; border-radius: 0.35em;\">\n",
       "    l-arabinose\n",
       "    <span style=\"font-size: 0.8em; font-weight: bold; line-height: 1; border-radius: 0.35em; vertical-align: middle; margin-left: 0.5rem\">DATE</span>\n",
       "</mark>\n",
       ", d-mannose, N-acetyl-d-glucosamine, d-maltose, gluconate, malate, citrate, d-sorbitol, propionate, valerate, \n",
       "<mark class=\"entity\" style=\"background: #e4e7d2; padding: 0.45em 0.6em; margin: 0 0.25em; line-height: 1; border-radius: 0.35em;\">\n",
       "    3-hydroxy-butyrate\n",
       "    <span style=\"font-size: 0.8em; font-weight: bold; line-height: 1; border-radius: 0.35em; vertical-align: middle; margin-left: 0.5rem\">QUANTITY</span>\n",
       "</mark>\n",
       ", \n",
       "<mark class=\"entity\" style=\"background: #e4e7d2; padding: 0.45em 0.6em; margin: 0 0.25em; line-height: 1; border-radius: 0.35em;\">\n",
       "    4-hydroxy\n",
       "    <span style=\"font-size: 0.8em; font-weight: bold; line-height: 1; border-radius: 0.35em; vertical-align: middle; margin-left: 0.5rem\">QUANTITY</span>\n",
       "</mark>\n",
       "-benzoate, l-proline, inositol, d-sucrose, acetate, lactate, \n",
       "<mark class=\"entity\" style=\"background: #e4e7d2; padding: 0.45em 0.6em; margin: 0 0.25em; line-height: 1; border-radius: 0.35em;\">\n",
       "    5-ketogluconate\n",
       "    <span style=\"font-size: 0.8em; font-weight: bold; line-height: 1; border-radius: 0.35em; vertical-align: middle; margin-left: 0.5rem\">QUANTITY</span>\n",
       "</mark>\n",
       ", \n",
       "<mark class=\"entity\" style=\"background: #e4e7d2; padding: 0.45em 0.6em; margin: 0 0.25em; line-height: 1; border-radius: 0.35em;\">\n",
       "    3-hydroxy\n",
       "    <span style=\"font-size: 0.8em; font-weight: bold; line-height: 1; border-radius: 0.35em; vertical-align: middle; margin-left: 0.5rem\">QUANTITY</span>\n",
       "</mark>\n",
       "-benzoate and l-serine is positive, but caprate, adipate, phenylacetate, salicin, d-melibiose, l-fucose, l-histidine, \n",
       "<mark class=\"entity\" style=\"background: #e4e7d2; padding: 0.45em 0.6em; margin: 0 0.25em; line-height: 1; border-radius: 0.35em;\">\n",
       "    2-ketogluconate\n",
       "    <span style=\"font-size: 0.8em; font-weight: bold; line-height: 1; border-radius: 0.35em; vertical-align: middle; margin-left: 0.5rem\">QUANTITY</span>\n",
       "</mark>\n",
       ", l-rhamnose, d-ribose, itaconate, suberate, malonate, l-alanine and glycogen is negative. The enzyme activity of arginine dihydrolase, β-galactosidase (\n",
       "<mark class=\"entity\" style=\"background: #f0d0ff; padding: 0.45em 0.6em; margin: 0 0.25em; line-height: 1; border-radius: 0.35em;\">\n",
       "    PNPG\n",
       "    <span style=\"font-size: 0.8em; font-weight: bold; line-height: 1; border-radius: 0.35em; vertical-align: middle; margin-left: 0.5rem\">WORK_OF_ART</span>\n",
       "</mark>\n",
       "), alkaline phosphatase, esterase (\n",
       "<mark class=\"entity\" style=\"background: #7aecec; padding: 0.45em 0.6em; margin: 0 0.25em; line-height: 1; border-radius: 0.35em;\">\n",
       "    C4\n",
       "    <span style=\"font-size: 0.8em; font-weight: bold; line-height: 1; border-radius: 0.35em; vertical-align: middle; margin-left: 0.5rem\">ORG</span>\n",
       "</mark>\n",
       "), esterase/lipase (\n",
       "<mark class=\"entity\" style=\"background: #7aecec; padding: 0.45em 0.6em; margin: 0 0.25em; line-height: 1; border-radius: 0.35em;\">\n",
       "    C8\n",
       "    <span style=\"font-size: 0.8em; font-weight: bold; line-height: 1; border-radius: 0.35em; vertical-align: middle; margin-left: 0.5rem\">ORG</span>\n",
       "</mark>\n",
       "), leucine arylamidase, \n",
       "<mark class=\"entity\" style=\"background: #aa9cfc; padding: 0.45em 0.6em; margin: 0 0.25em; line-height: 1; border-radius: 0.35em;\">\n",
       "    valine arylamidase\n",
       "    <span style=\"font-size: 0.8em; font-weight: bold; line-height: 1; border-radius: 0.35em; vertical-align: middle; margin-left: 0.5rem\">PERSON</span>\n",
       "</mark>\n",
       ", \n",
       "<mark class=\"entity\" style=\"background: #aa9cfc; padding: 0.45em 0.6em; margin: 0 0.25em; line-height: 1; border-radius: 0.35em;\">\n",
       "    cystine arylamidase\n",
       "    <span style=\"font-size: 0.8em; font-weight: bold; line-height: 1; border-radius: 0.35em; vertical-align: middle; margin-left: 0.5rem\">PERSON</span>\n",
       "</mark>\n",
       ", trypsin, α-chymotrypsin, acid phosphatase, naphtol-AS-BI-phosphohydrolase, α-glucosidase, β-glucosidase, α-mannosidase and urease is positive, but lipase (\n",
       "<mark class=\"entity\" style=\"background: #7aecec; padding: 0.45em 0.6em; margin: 0 0.25em; line-height: 1; border-radius: 0.35em;\">\n",
       "    C14\n",
       "    <span style=\"font-size: 0.8em; font-weight: bold; line-height: 1; border-radius: 0.35em; vertical-align: middle; margin-left: 0.5rem\">ORG</span>\n",
       "</mark>\n",
       "), α-galactosidase, β-glucuronidase, N-acetyl-β-glucosaminidase and α-fucosidase is negative. The sole respiratory quinone is \n",
       "<mark class=\"entity\" style=\"background: #bfeeb7; padding: 0.45em 0.6em; margin: 0 0.25em; line-height: 1; border-radius: 0.35em;\">\n",
       "    Q-10\n",
       "    <span style=\"font-size: 0.8em; font-weight: bold; line-height: 1; border-radius: 0.35em; vertical-align: middle; margin-left: 0.5rem\">PRODUCT</span>\n",
       "</mark>\n",
       ". The polar lipids comprise DPG, \n",
       "<mark class=\"entity\" style=\"background: #7aecec; padding: 0.45em 0.6em; margin: 0 0.25em; line-height: 1; border-radius: 0.35em;\">\n",
       "    PG\n",
       "    <span style=\"font-size: 0.8em; font-weight: bold; line-height: 1; border-radius: 0.35em; vertical-align: middle; margin-left: 0.5rem\">ORG</span>\n",
       "</mark>\n",
       ", \n",
       "<mark class=\"entity\" style=\"background: #e4e7d2; padding: 0.45em 0.6em; margin: 0 0.25em; line-height: 1; border-radius: 0.35em;\">\n",
       "    four\n",
       "    <span style=\"font-size: 0.8em; font-weight: bold; line-height: 1; border-radius: 0.35em; vertical-align: middle; margin-left: 0.5rem\">CARDINAL</span>\n",
       "</mark>\n",
       " PGLs, \n",
       "<mark class=\"entity\" style=\"background: #e4e7d2; padding: 0.45em 0.6em; margin: 0 0.25em; line-height: 1; border-radius: 0.35em;\">\n",
       "    two\n",
       "    <span style=\"font-size: 0.8em; font-weight: bold; line-height: 1; border-radius: 0.35em; vertical-align: middle; margin-left: 0.5rem\">CARDINAL</span>\n",
       "</mark>\n",
       " unidentified \n",
       "<mark class=\"entity\" style=\"background: #7aecec; padding: 0.45em 0.6em; margin: 0 0.25em; line-height: 1; border-radius: 0.35em;\">\n",
       "    ALs\n",
       "    <span style=\"font-size: 0.8em; font-weight: bold; line-height: 1; border-radius: 0.35em; vertical-align: middle; margin-left: 0.5rem\">ORG</span>\n",
       "</mark>\n",
       ", and \n",
       "<mark class=\"entity\" style=\"background: #e4e7d2; padding: 0.45em 0.6em; margin: 0 0.25em; line-height: 1; border-radius: 0.35em;\">\n",
       "    eight\n",
       "    <span style=\"font-size: 0.8em; font-weight: bold; line-height: 1; border-radius: 0.35em; vertical-align: middle; margin-left: 0.5rem\">CARDINAL</span>\n",
       "</mark>\n",
       " unidentified \n",
       "<mark class=\"entity\" style=\"background: #aa9cfc; padding: 0.45em 0.6em; margin: 0 0.25em; line-height: 1; border-radius: 0.35em;\">\n",
       "    Ls\n",
       "    <span style=\"font-size: 0.8em; font-weight: bold; line-height: 1; border-radius: 0.35em; vertical-align: middle; margin-left: 0.5rem\">PERSON</span>\n",
       "</mark>\n",
       ". The major cellular fatty acid is summed feature \n",
       "<mark class=\"entity\" style=\"background: #e4e7d2; padding: 0.45em 0.6em; margin: 0 0.25em; line-height: 1; border-radius: 0.35em;\">\n",
       "    8\n",
       "    <span style=\"font-size: 0.8em; font-weight: bold; line-height: 1; border-radius: 0.35em; vertical-align: middle; margin-left: 0.5rem\">CARDINAL</span>\n",
       "</mark>\n",
       " (\n",
       "<mark class=\"entity\" style=\"background: #7aecec; padding: 0.45em 0.6em; margin: 0 0.25em; line-height: 1; border-radius: 0.35em;\">\n",
       "    C18\n",
       "    <span style=\"font-size: 0.8em; font-weight: bold; line-height: 1; border-radius: 0.35em; vertical-align: middle; margin-left: 0.5rem\">ORG</span>\n",
       "</mark>\n",
       " : \n",
       "<mark class=\"entity\" style=\"background: #e4e7d2; padding: 0.45em 0.6em; margin: 0 0.25em; line-height: 1; border-radius: 0.35em;\">\n",
       "    1 ω7c\n",
       "    <span style=\"font-size: 0.8em; font-weight: bold; line-height: 1; border-radius: 0.35em; vertical-align: middle; margin-left: 0.5rem\">MONEY</span>\n",
       "</mark>\n",
       "/\n",
       "<mark class=\"entity\" style=\"background: #7aecec; padding: 0.45em 0.6em; margin: 0 0.25em; line-height: 1; border-radius: 0.35em;\">\n",
       "    C18\n",
       "    <span style=\"font-size: 0.8em; font-weight: bold; line-height: 1; border-radius: 0.35em; vertical-align: middle; margin-left: 0.5rem\">ORG</span>\n",
       "</mark>\n",
       " : \n",
       "<mark class=\"entity\" style=\"background: #e4e7d2; padding: 0.45em 0.6em; margin: 0 0.25em; line-height: 1; border-radius: 0.35em;\">\n",
       "    1\n",
       "    <span style=\"font-size: 0.8em; font-weight: bold; line-height: 1; border-radius: 0.35em; vertical-align: middle; margin-left: 0.5rem\">CARDINAL</span>\n",
       "</mark>\n",
       " ω6c).The type strain is \n",
       "<mark class=\"entity\" style=\"background: #e4e7d2; padding: 0.45em 0.6em; margin: 0 0.25em; line-height: 1; border-radius: 0.35em;\">\n",
       "    2205BS29\n",
       "    <span style=\"font-size: 0.8em; font-weight: bold; line-height: 1; border-radius: 0.35em; vertical-align: middle; margin-left: 0.5rem\">CARDINAL</span>\n",
       "</mark>\n",
       "-5T (=LMG 33062T =KACC \n",
       "<mark class=\"entity\" style=\"background: #bfe1d9; padding: 0.45em 0.6em; margin: 0 0.25em; line-height: 1; border-radius: 0.35em;\">\n",
       "    23240\n",
       "    <span style=\"font-size: 0.8em; font-weight: bold; line-height: 1; border-radius: 0.35em; vertical-align: middle; margin-left: 0.5rem\">DATE</span>\n",
       "</mark>\n",
       "T), which is isolated from a marine sponge, P. elegans, collected from \n",
       "<mark class=\"entity\" style=\"background: #7aecec; padding: 0.45em 0.6em; margin: 0 0.25em; line-height: 1; border-radius: 0.35em;\">\n",
       "    Beomseom\n",
       "    <span style=\"font-size: 0.8em; font-weight: bold; line-height: 1; border-radius: 0.35em; vertical-align: middle; margin-left: 0.5rem\">ORG</span>\n",
       "</mark>\n",
       " in \n",
       "<mark class=\"entity\" style=\"background: #ff9561; padding: 0.45em 0.6em; margin: 0 0.25em; line-height: 1; border-radius: 0.35em;\">\n",
       "    Jeju-Island\n",
       "    <span style=\"font-size: 0.8em; font-weight: bold; line-height: 1; border-radius: 0.35em; vertical-align: middle; margin-left: 0.5rem\">LOC</span>\n",
       "</mark>\n",
       ", Republic of Korea.The DNA \n",
       "<mark class=\"entity\" style=\"background: #feca74; padding: 0.45em 0.6em; margin: 0 0.25em; line-height: 1; border-radius: 0.35em;\">\n",
       "    G+C\n",
       "    <span style=\"font-size: 0.8em; font-weight: bold; line-height: 1; border-radius: 0.35em; vertical-align: middle; margin-left: 0.5rem\">GPE</span>\n",
       "</mark>\n",
       " content of strain \n",
       "<mark class=\"entity\" style=\"background: #e4e7d2; padding: 0.45em 0.6em; margin: 0 0.25em; line-height: 1; border-radius: 0.35em;\">\n",
       "    2205BS29-5\n",
       "    <span style=\"font-size: 0.8em; font-weight: bold; line-height: 1; border-radius: 0.35em; vertical-align: middle; margin-left: 0.5rem\">CARDINAL</span>\n",
       "</mark>\n",
       "T is \n",
       "<mark class=\"entity\" style=\"background: #e4e7d2; padding: 0.45em 0.6em; margin: 0 0.25em; line-height: 1; border-radius: 0.35em;\">\n",
       "    67.8%\n",
       "    <span style=\"font-size: 0.8em; font-weight: bold; line-height: 1; border-radius: 0.35em; vertical-align: middle; margin-left: 0.5rem\">PERCENT</span>\n",
       "</mark>\n",
       ". The \n",
       "<mark class=\"entity\" style=\"background: #7aecec; padding: 0.45em 0.6em; margin: 0 0.25em; line-height: 1; border-radius: 0.35em;\">\n",
       "    GenBank\n",
       "    <span style=\"font-size: 0.8em; font-weight: bold; line-height: 1; border-radius: 0.35em; vertical-align: middle; margin-left: 0.5rem\">ORG</span>\n",
       "</mark>\n",
       " accession numbers for the \n",
       "<mark class=\"entity\" style=\"background: #e4e7d2; padding: 0.45em 0.6em; margin: 0 0.25em; line-height: 1; border-radius: 0.35em;\">\n",
       "    16S\n",
       "    <span style=\"font-size: 0.8em; font-weight: bold; line-height: 1; border-radius: 0.35em; vertical-align: middle; margin-left: 0.5rem\">CARDINAL</span>\n",
       "</mark>\n",
       " rRNA gene andwhole-genome sequences of strain \n",
       "<mark class=\"entity\" style=\"background: #e4e7d2; padding: 0.45em 0.6em; margin: 0 0.25em; line-height: 1; border-radius: 0.35em;\">\n",
       "    2205BS29-5\n",
       "    <span style=\"font-size: 0.8em; font-weight: bold; line-height: 1; border-radius: 0.35em; vertical-align: middle; margin-left: 0.5rem\">CARDINAL</span>\n",
       "</mark>\n",
       "T are \n",
       "<mark class=\"entity\" style=\"background: #bfeeb7; padding: 0.45em 0.6em; margin: 0 0.25em; line-height: 1; border-radius: 0.35em;\">\n",
       "    OQ569368\n",
       "    <span style=\"font-size: 0.8em; font-weight: bold; line-height: 1; border-radius: 0.35em; vertical-align: middle; margin-left: 0.5rem\">PRODUCT</span>\n",
       "</mark>\n",
       " and \n",
       "<mark class=\"entity\" style=\"background: #c887fb; padding: 0.45em 0.6em; margin: 0 0.25em; line-height: 1; border-radius: 0.35em;\">\n",
       "    JAVAMQ000000000\n",
       "    <span style=\"font-size: 0.8em; font-weight: bold; line-height: 1; border-radius: 0.35em; vertical-align: middle; margin-left: 0.5rem\">NORP</span>\n",
       "</mark>\n",
       ", respectively.</div></span>"
      ],
      "text/plain": [
       "<IPython.core.display.HTML object>"
      ]
     },
     "metadata": {},
     "output_type": "display_data"
    }
   ],
   "source": [
    "from spacy import displacy\n",
    "displacy.render(doc, style=\"ent\")"
   ]
  },
  {
   "cell_type": "markdown",
   "id": "8926ef7e",
   "metadata": {},
   "source": [
    "### create training set https://spacy.io/usage/training"
   ]
  },
  {
   "cell_type": "markdown",
   "id": "2a1aac00",
   "metadata": {},
   "source": [
    "### create training set https://spacy.io/usage/training\n",
    "\n",
    "This annotator works better https://agateteam.org/spacynerannotate/ combined with the DocBin code to create the .spacy file. \n",
    "\n",
    "https://spacy.io/usage/training#quickstart\n",
    "\n",
    "python -m spacy init fill-config ./base_config.cfg ./config.cfg\n",
    "\n",
    "This NER annotator worked better than the one above. Used the DocBin technique to convert to .spacy file. Spacy training command with config.cfg then worked.\n",
    "\n",
    "Config.cfg needs to be created for the spacy command line training. \n",
    "\n",
    "Follow the instructions in the quickstart for the base_config.cfg file. Selected OS and clicked NER\n",
    "\n",
    "https://spacy.io/usage/training#quickstart\n",
    "\n",
    "Run the following at command line to create the config.cfg. \n",
    "\n",
    "python -m spacy init fill-config ./base_config.cfg ./config.cfg\n",
    "\n",
    "Once the config file was done and spacy file was created run the following at command line to train the model\n",
    "\n",
    "To debug the data:\n",
    "python -m spacy debug data config.cfg --paths.train ./train.spacy --paths.dev ./train.spacy\n",
    "\n",
    "To debug the config file file:\n",
    "python -m spacy train config.cfg --output ./output\n",
    "\n",
    "or\n",
    "\n",
    "python -m spacy train config.cfg \n",
    "\n",
    "train the model at command line\n",
    "python -m spacy train config.cfg --output ./output --paths.train ./train.spacy --paths.dev ./train.spacy\n",
    "\n",
    "creates two directories model-best and model-last. I used model-best \n",
    "\n",
    "nlp1 = spacy.load(r\"./output/model-best\")\n",
    "\n",
    "\n",
    "Notes\n",
    "python -m spacy init fill-config ./base_config.cfg ./config.cfg\n",
    "\n",
    "python -m spacy train config.cfg --output ./output --paths.train ./train.spacy --paths.dev ./dev.spacy\n",
    "\n",
    "https://spacy.io/usage/training#basics"
   ]
  },
  {
   "cell_type": "markdown",
   "id": "ba88b054",
   "metadata": {},
   "source": [
    "### Spacy2 code to create .spacy file from json. \n",
    "Do Not need to do this is you can use the command line version python -m spacy convert ./annotations_2.json ./"
   ]
  },
  {
   "cell_type": "code",
   "execution_count": 17,
   "id": "d0021fe8",
   "metadata": {},
   "outputs": [],
   "source": [
    "import spacy\n",
    "nlp = spacy.blank(\"en\")\n",
    "ner = nlp.add_pipe(\"ner\")\n",
    "from spacy.tokens import DocBin\n",
    "import pandas as pd\n",
    "import json\n",
    "import os\n",
    "\n",
    "with open('train.json', 'r', encoding='utf-8') as f:\n",
    "    data = json.load(f)"
   ]
  },
  {
   "cell_type": "code",
   "execution_count": 20,
   "id": "a8cca360",
   "metadata": {},
   "outputs": [
    {
     "name": "stdout",
     "output_type": "stream",
     "text": [
      "[['The type strain is TG 5-3T (= ATCC 51228T=DSM 9165T=NCCB 92012), isolated from a near-shore sulfidic hydrothermal area in Matupy Harbour of New Britain Island, Papua New Guinea.\\r', {'entities': [[19, 26, 'STRAIN'], [30, 41, 'STRAIN'], [42, 51, 'STRAIN'], [52, 62, 'STRAIN']]}], ['The type strain is 1502-91T (=CCUG 46148T=CIP 106119T=DSM 25327T=LMG 14382T), isolated from a Pekin duck in Germany.\\r', {'entities': [[19, 27, 'STRAIN'], [30, 41, 'STRAIN'], [42, 53, 'STRAIN'], [54, 64, 'STRAIN'], [65, 75, 'STRAIN']]}], ['The type strain is AT2T (=CSUR P2014T=DSM 100451T), isolated from the faeces of a healthy 28-year-old French male.\\r', {'entities': [[19, 23, 'STRAIN'], [26, 37, 'STRAIN'], [38, 49, 'STRAIN']]}], ['The type strain is B57T (=CGMCC1.19488T=KCTC 92053T) isolated from sediment collected in Clam Island, Liaoning Province. \\r', {'entities': [[19, 23, 'STRAIN'], [26, 39, 'STRAIN'], [40, 51, 'STRAIN']]}], ['The GenBank accession numbers of the 16S rRNA gene sequence and draft genome sequence of strain B57T are MZ433255 and JAHVAI000000000, respectively. \\r', {'entities': [[96, 100, 'STRAIN']]}], ['Strain WL0115 (=MCCC 1K07531=JCM 35568=GDMCC 1.3088), isolated from seawater of the Yellow Sea, China, is also affiliated to this species.\\r', {'entities': [[7, 13, 'STRAIN'], [16, 28, 'STRAIN'], [29, 38, 'STRAIN'], [39, 51, 'STRAIN']]}], ['The type strain, DW2-9T (=CCTCC AB 2011145T=KCTC 15169T), was isolated from soil. \\r', {'entities': [[17, 23, 'STRAIN'], [26, 43, 'STRAIN'], [44, 55, 'STRAIN']]}], ['The type strain, SgZ-3T (=KACC 16603T=CCTCC AB 2012026T), was isolated from an electrochemical biofilm. \\r', {'entities': [[17, 23, 'STRAIN'], [26, 37, 'STRAIN'], [38, 55, 'STRAIN']]}], ['The type strain, BO-81T (=KACC 19677T=LMG 30808T), was isolated from sludge sampled in the Republic of Korea. \\r', {'entities': [[17, 23, 'STRAIN'], [26, 37, 'STRAIN'], [38, 48, 'STRAIN']]}], ['The type strain, SK2B-1T (=CFCC 14580T=KCTC 52802T), was isolated from symptomatic bark tissue of Populus euramericana canker. \\r', {'entities': [[17, 24, 'STRAIN'], [27, 38, 'STRAIN'], [39, 50, 'STRAIN']]}], ['The type strain, YIM 96095T (=KCTC 49266T=CGMCC 4.7636T), was isolated from a soil sample collected from Aiding Lake, Xinjiang province, north-west China. \\r', {'entities': [[17, 27, 'STRAIN'], [30, 41, 'STRAIN'], [42, 55, 'STRAIN']]}], ['The NCBI GenBank accession number for the 16S rRNA gene sequence of strain YIM 96095T is MK182318. \\r', {'entities': [[75, 85, 'STRAIN']]}], ['The draft whole genome sequence for YIM 96095T has been deposited at DDBJ/ENA/GenBank under accession number GCA_003725585.1.\\r', {'entities': [[36, 46, 'STRAIN']]}], ['The WK012_4_13T (= LMG 33104T = DSM 116073T), designated as the type strain, was obtained from a water kefir sample.\\r', {'entities': [[4, 15, 'STRAIN'], [19, 29, 'STRAIN'], [32, 43, 'STRAIN']]}], ['The WK041_4_12T (= LMG 33105T = DSM 116074T), designated as the type strain, was obtained from a water kefir sample.\\r', {'entities': [[4, 15, 'STRAIN'], [19, 29, 'STRAIN'], [32, 43, 'STRAIN']]}], ['The type strains are PMTSA4T (=KCTC 102074T =CCTCC AB 2024023T), while PMR2A8 (KCTC 102073= CCTCC AB 2024024) is identified as a different strain of F. capsici.\\r', {'entities': [[21, 28, 'STRAIN'], [31, 43, 'STRAIN'], [45, 62, 'STRAIN'], [71, 77, 'STRAIN'], [79, 90, 'STRAIN'], [92, 108, 'STRAIN']]}], ['The type strain, SS33T (=JCM 39184T =KCTC 25253T), was isolated from a deep-sea hydrothermal vent chimney in the Western Pacific Ocean. \\r', {'entities': [[17, 22, 'STRAIN'], [25, 35, 'STRAIN'], [37, 48, 'STRAIN']]}], ['The 16S rRNA gene sequence and whole-genome sequence of strain SS33T have been deposited in the GenBank/EMBL/DDBJ databank under the accession numbers LC819326 and AP026369, respectively.\\r', {'entities': [[63, 68, 'STRAIN']]}], ['The type strain, EV16PT (= KCTC 8296T, = DSM 117028T), was isolated from E. variegatus reared at the University of Turin, Italy. \\r', {'entities': [[17, 23, 'STRAIN'], [27, 37, 'STRAIN'], [41, 52, 'STRAIN']]}], ['The type strain CBA3628T (=KACC 23049T = DSM 116836T) was isolated from kimchi collected at the World Institute of Kimchi, Gwangju, Republic of Korea. \\r', {'entities': [[16, 24, 'STRAIN'], [27, 38, 'STRAIN'], [41, 52, 'STRAIN']]}], ['The GenBank/EMBL/DDBJ/PIR accession numbers for the sequences of the D1/D2 domain of the LSU rRNA gene and the ITS region determined in this study are OP954744 and OP954743 for CICC 33584T.\\r', {'entities': [[177, 188, 'STRAIN']]}], ['The type strain is 2205BS29-5T (=LMG 33062T =KACC 23240T), which is isolated from a marine sponge, P. elegans, collected from Beomseom in Jeju-Island, Republic of Korea.\\r', {'entities': [[19, 30, 'STRAIN'], [33, 43, 'STRAIN'], [45, 56, 'STRAIN']]}], ['The DNA G+C content of strain 2205BS29-5T is 67.8%.\\r', {'entities': [[30, 41, 'STRAIN']]}], ['The type strain is NEAU-NG30T (=MCCC 1K08677T=JCM 35654T), isolated from soil collected from Harbin, Heilongjiang Province, China (45 8 N, 126 5 E).\\r', {'entities': [[19, 29, 'STRAIN'], [32, 45, 'STRAIN'], [46, 56, 'STRAIN']]}], ['The GenBank/EMBL/DDBJ accession number for the 16S rRNA gene sequence of strain NEAU-NG30T is PP863884.\\r', {'entities': [[80, 90, 'STRAIN']]}], ['The type strain is HZT (NCIMB 15482T=ATCC TSH-398T) and was isolated from the parasitoid wasp, S. cameroni (Hymenoptera: Spalangiidae), collected in an egg-laying poultry facility in Hazon, Israel, in AprilMay 2014, where the wasps develop on pupae of the housefly, Musca domestica (Diptera: Muscidae).\\r', {'entities': [[19, 22, 'STRAIN'], [24, 36, 'STRAIN'], [37, 50, 'STRAIN']]}], ['The type strain, IA91T (=JCM 39387T=KCTC 25736T), was isolated from a slurry of sediments and formation water derived from a deep sedimentary, natural-gas-bearing saline aquifer in Japan\\r', {'entities': [[17, 22, 'STRAIN'], [25, 35, 'STRAIN'], [36, 47, 'STRAIN']]}], ['The GenBank/EMBL/DDBJ accession numbers for the 16S rRNA gene sequence and genome sequences of strain IA91T are LC818858 and AP035449, respectively.\\r', {'entities': [[102, 107, 'STRAIN']]}], ['The type strain M09T (=GDMCC 1.4157T=KCTC 8143T) was isolated from the rhizosphere soil of kiwifruit trees in Fangshan, Beijing, PR China.\\r', {'entities': [[16, 20, 'STRAIN'], [23, 36, 'STRAIN'], [37, 47, 'STRAIN']]}], ['The GenBank/EMBL/DDBJ accession number for the 16S rRNA gene sequence of strain M09T is OM920831 and that of the genome sequence is CP132956.\\r', {'entities': [[80, 84, 'STRAIN']]}], ['The type strain, A1S7T (=KCTC 49714T = JCM 36706T), was isolated from the gut of marine sandworm (A. virens).\\r', {'entities': [[17, 22, 'STRAIN'], [25, 36, 'STRAIN'], [39, 49, 'STRAIN']]}], ['The type strain BSw22131T (= CCTCC AB 2019135T = JCM 36635T = DSM 117336T) was isolated from seawater in Arctic Kongsfjorden of Ny-lesund, Svalbard. \\r', {'entities': [[16, 25, 'STRAIN'], [29, 46, 'STRAIN'], [49, 59, 'STRAIN'], [62, 73, 'STRAIN']]}], ['The NCBI GenBank accession number for the 16S rRNA gene sequence of strain BSw22131T is MF630609. \\r', {'entities': [[75, 84, 'STRAIN']]}], ['The genome sequence of strain BSw22131T is CP113949.\\r', {'entities': [[30, 39, 'STRAIN']]}], ['The type strain DMSP-1T (= CCTCC AB 2019124T = JCM 36636T = DSM 117337T) was isolated from seawater in Arctic Kongsfjorden of Ny-lesund, Svalbard. \\r', {'entities': [[16, 23, 'STRAIN'], [27, 44, 'STRAIN'], [47, 57, 'STRAIN'], [60, 71, 'STRAIN']]}], None, ['The genome sequence of strain DMSP-1T is CP034425.\\r', {'entities': [[30, 37, 'STRAIN']]}], ['The type strain is RM8705T (=LMG 32300T = CCUG 75470T), recovered in 2009 from cow faeces in California. \\r', {'entities': [[19, 26, 'STRAIN'], [29, 39, 'STRAIN'], [42, 53, 'STRAIN']]}], None, ['The type strain YH-ols2223T (=KCTC 25800T = NBRC 116680T) was isolated from a pig faeces specimen on a pig farm. \\r', {'entities': [[16, 27, 'STRAIN'], [30, 41, 'STRAIN'], [44, 56, 'STRAIN']]}], ['The GenBank/EMBL/DDBJ accession number for the 16S rRNA gene sequence of YH-ols2223T is PP514387, and that for the genome sequence is JAZGJQ000000000.\\r', {'entities': [[73, 84, 'STRAIN']]}], ['Strain DGU6T (= KACC 23721T = TBRC 19016T) was isolated from the mudflat of S. japonica colonies in Incheon, Republic of Korea. \\r', {'entities': [[7, 12, 'STRAIN'], [16, 27, 'STRAIN'], [30, 41, 'STRAIN']]}], ['The type strain is S88T (=KACC 23423T =JCM 36647T), isolated from a marine red alga L. hakodatensis.\\r', {'entities': [[19, 23, 'STRAIN'], [26, 37, 'STRAIN'], [39, 49, 'STRAIN']]}], ['The type strain is W115T =KACC 23690T =JCM 36651T), isolated from a marine red alga S. dubyi.\\r', {'entities': [[19, 24, 'STRAIN'], [26, 37, 'STRAIN'], [39, 49, 'STRAIN']]}], ['The GenBank accession numbers of the 16S rRNA gene and genome sequences of strain W115T are OR431747 and CP146606CP146607, respectively.\\r', {'entities': [[82, 87, 'STRAIN']]}], None, ['The type strain ZYX-F-249T (=CCTCC AA 2023030T =JCM 36778T) was isolated from the gill of the leopard coral grouper collected from Yongxing Island, Sansha, Hainan Province, China. \\r', {'entities': [[16, 26, 'STRAIN'], [29, 46, 'STRAIN'], [48, 58, 'STRAIN']]}], ['The GenBank/EMBL/DDBJ accession number for the 16S rRNA gene sequence of Microbispora maris ZYX-F-249T is PP078609. \\r', {'entities': [[92, 102, 'STRAIN']]}], ['The GenBank/EMBL/DDBJ accession number for the draft genome sequence of Microbispora maris ZYX-F-249T is JBDJAW000000000.\\r', {'entities': [[91, 101, 'STRAIN']]}], ['The type strain, HT6-4T (=KCTC 59234T =GDMCC 1.4386T), was isolated from soil from the Flaming Mountain, Xinjiang, PR China. \\r', {'entities': [[17, 23, 'STRAIN'], [26, 37, 'STRAIN'], [39, 52, 'STRAIN']]}], None, ['The type strain SCSIO 66989T (=MCCC 1K08014T=KCTC 92499T) was isolated from reef-building coral in Sanya, Hainan Province, China.\\r', {'entities': [[16, 28, 'STRAIN'], [31, 44, 'STRAIN'], [45, 56, 'STRAIN']]}], ['The type strain is SDUM158016T (=KCTC 92632T =MCCC 1H01367T), which was isolated from coastal sediments collected off the coast of Weihai, China.\\r', {'entities': [[19, 30, 'STRAIN'], [33, 44, 'STRAIN'], [46, 59, 'STRAIN']]}], ['The GenBank accession numbers for the 16S rRNA gene sequence and the whole-genome shotgun project of strain SDUM158016T are OP526358 and JAOPHT000000000, respectively.\\r', {'entities': [[108, 119, 'STRAIN']]}], ['The type strain is SDUM158017T (=KCTC 92633T =MCCC 1H01363T), which was isolated from a marine solar saltern along the Weihai coast, China. \\r', {'entities': [[19, 30, 'STRAIN'], [33, 44, 'STRAIN'], [46, 59, 'STRAIN']]}], ['The GenBank accession numbers for the 16S rRNA gene sequence and the whole-genome shotgun project of strain SDUM158017T are OP522343 and JARRSA000000000, respectively.\\r', {'entities': [[108, 119, 'STRAIN']]}], ['Type strain SMYT11WT (=GDMCC 1.4275T=KCTC 8304T) was isolated from a river located in Southwest China.\\r', {'entities': [[12, 20, 'STRAIN'], [23, 36, 'STRAIN'], [37, 47, 'STRAIN']]}], ['Type strain FXH3WT (=GDMCC 1.4096T=KCTC 8154T) was isolated from a deep lake located in Southwest China.\\r', {'entities': [[12, 18, 'STRAIN'], [21, 34, 'STRAIN'], [35, 45, 'STRAIN']]}], ['The type strain is 1.1416T (=KCTC 62979T=CCTCC AB 2018348T).\\r', {'entities': [[19, 26, 'STRAIN'], [29, 40, 'STRAIN'], [41, 58, 'STRAIN']]}], ['The type strain is WF-2T (=KCTC 62441T=CGMCC 1.13633T).\\r', {'entities': [[19, 24, 'STRAIN'], [27, 38, 'STRAIN'], [39, 53, 'STRAIN']]}], ['The type strain is 50T (=KCTC 92088T=CCTCC AB 2022035T).\\r', {'entities': [[19, 22, 'STRAIN'], [25, 36, 'STRAIN'], [37, 54, 'STRAIN']]}], ['The type strain is YJ15T (=KACC 19552T=NBRC 113197T).\\r', {'entities': [[19, 24, 'STRAIN'], [27, 38, 'STRAIN'], [39, 51, 'STRAIN']]}], ['The type strain is DS-58T (=KCTC 12822T=DSM 17958T).\\r', {'entities': [[19, 25, 'STRAIN'], [28, 39, 'STRAIN'], [40, 50, 'STRAIN']]}], ['The type strain is HX-5-24T (=KCTC 72470T=CCTCC AB 2019228T).\\r', {'entities': [[19, 27, 'STRAIN'], [30, 41, 'STRAIN'], [42, 59, 'STRAIN']]}], ['The type strain is KVB24T (=KACC 19816T=JCM 32879T).\\r', {'entities': [[19, 25, 'STRAIN'], [28, 39, 'STRAIN'], [40, 50, 'STRAIN']]}], ['The type strain is A6T (=KCTC 82184T=CGMCC 1.18582T).\\r', {'entities': [[19, 22, 'STRAIN'], [25, 36, 'STRAIN'], [37, 51, 'STRAIN']]}], ['The type strain is CC-Bw-6T (=BCRC 80612T=JCM 19164T).\\r', {'entities': [[19, 27, 'STRAIN'], [30, 41, 'STRAIN'], [42, 52, 'STRAIN']]}], ['The type strain is UM1T (=KCTC 42936T=DSM 28473T).\\r', {'entities': [[19, 23, 'STRAIN'], [26, 37, 'STRAIN'], [38, 48, 'STRAIN']]}], ['The type strain is 83-4T (=NBRC 113451T=CGMCC 1.13464T).\\r', {'entities': [[19, 24, 'STRAIN'], [27, 39, 'STRAIN'], [40, 54, 'STRAIN']]}], ['The type strain is 4284/11T (=CCM 8829T=LMG 30630T).\\r', {'entities': [[19, 27, 'STRAIN'], [30, 39, 'STRAIN'], [40, 50, 'STRAIN']]}], ['The type strain is AM20-91T (=DSM 104734T=LMG 30011T).\\r', {'entities': [[19, 27, 'STRAIN'], [30, 41, 'STRAIN'], [42, 52, 'STRAIN']]}], ['The type strain is GH34-4T (=DSM 18244T=KACC 11587T).\\r', {'entities': [[19, 26, 'STRAIN'], [29, 39, 'STRAIN'], [40, 51, 'STRAIN']]}], ['The type strain is R19T (=JCM 34258T=KACC 21767T).\\r', {'entities': [[19, 23, 'STRAIN'], [26, 36, 'STRAIN'], [37, 48, 'STRAIN']]}], ['The type strain is II4T (=NBRC 113956T=KACC 21196T).\\r', {'entities': [[19, 23, 'STRAIN'], [26, 38, 'STRAIN'], [39, 50, 'STRAIN']]}], ['The type strain is RCML-52T (=DSM 25188T=KCTC 22558T).\\r', {'entities': [[19, 27, 'STRAIN'], [30, 40, 'STRAIN'], [41, 52, 'STRAIN']]}], ['The type strain is ZLD-29T (=DSM 26007T=KCTC 23077T).\\r', {'entities': [[19, 26, 'STRAIN'], [29, 39, 'STRAIN'], [40, 51, 'STRAIN']]}], ['The type strain is UKS-15T (=JCM 30983T=KACC 18719T).\\r', {'entities': [[19, 26, 'STRAIN'], [29, 39, 'STRAIN'], [40, 51, 'STRAIN']]}], ['The type strain is 17J68-2T (=JCM 33058T=KCTC 62237T).\\r', {'entities': [[19, 27, 'STRAIN'], [30, 40, 'STRAIN'], [41, 52, 'STRAIN']]}], ['The type strain is C8-1T (=CGMCC 1.16271T=KCTC 62034T).\\r', {'entities': [[19, 24, 'STRAIN'], [27, 41, 'STRAIN'], [42, 53, 'STRAIN']]}], ['The type strain is 17J7-1T (=JCM 33057T=KCTC 62217T).\\r', {'entities': [[19, 26, 'STRAIN'], [29, 39, 'STRAIN'], [40, 51, 'STRAIN']]}], ['The type strain is KMU-14T (=NBRC 110750T=KCTC 42381T).\\r', {'entities': [[19, 26, 'STRAIN'], [29, 41, 'STRAIN'], [42, 53, 'STRAIN']]}], ['The type strain is S2-CT (=JCM 31130T=KACC 18502T).\\r', {'entities': [[19, 24, 'STRAIN'], [27, 37, 'STRAIN'], [38, 49, 'STRAIN']]}], ['The type strain is SJ-36T (=CGMCC 1.16756T=KCTC 43039T).\\r', {'entities': [[19, 25, 'STRAIN'], [28, 42, 'STRAIN'], [43, 54, 'STRAIN']]}], ['The type strain is TLK-CK17T (=CCTCC AB 2021257T=KCTC 92122T).\\r', {'entities': [[19, 28, 'STRAIN'], [31, 48, 'STRAIN'], [49, 60, 'STRAIN']]}], ['The type strain is SG-8T (=GDMCC 1.1817T=KACC 21942T).\\r', {'entities': [[19, 24, 'STRAIN'], [27, 40, 'STRAIN'], [41, 52, 'STRAIN']]}], ['The type strain is 119BY6-57T (=LMG 30077T=KACC 19276T).\\r', {'entities': [[19, 29, 'STRAIN'], [32, 42, 'STRAIN'], [43, 54, 'STRAIN']]}], ['The type strain is GW1-59T (=CCTCC AB 2019390T=KCTC 72831T).\\r', {'entities': [[19, 26, 'STRAIN'], [29, 46, 'STRAIN'], [47, 58, 'STRAIN']]}], ['The type strain is ZS79T (=DSM 27222T=KCTC 23365T).\\r', {'entities': [[19, 24, 'STRAIN'], [27, 37, 'STRAIN'], [38, 49, 'STRAIN']]}], ['The type strain is H23M41T (=JCM 33223T=KCTC 62676T).\\r', {'entities': [[19, 26, 'STRAIN'], [29, 39, 'STRAIN'], [40, 51, 'STRAIN']]}], ['The type strain is H21R20T (=JCM 34832T=KCTC 82316T).\\r', {'entities': [[19, 26, 'STRAIN'], [29, 39, 'STRAIN'], [40, 51, 'STRAIN']]}], ['The type strain is IMMIB APB-9T (=CCUG 53152T=DSM 18482T).\\r', {'entities': [[19, 31, 'STRAIN'], [34, 45, 'STRAIN'], [46, 56, 'STRAIN']]}], ['The type strain is RS-LYSO-3T (=CICC 23922T=JCM 31042T).\\r', {'entities': [[19, 29, 'STRAIN'], [32, 43, 'STRAIN'], [44, 54, 'STRAIN']]}], ['The type strain is AS29MT (=CECT 30171T=LMG 32343T).\\r', {'entities': [[19, 25, 'STRAIN'], [28, 39, 'STRAIN'], [40, 50, 'STRAIN']]}], ['The type strain is 13AT (=GDMCC 1.2722T=JCM 34786T).\\r', {'entities': [[19, 23, 'STRAIN'], [26, 39, 'STRAIN'], [40, 50, 'STRAIN']]}], ['The type strain is KMM 329T (=DSM 21749T=JCM 14760T).\\r', {'entities': [[19, 27, 'STRAIN'], [30, 40, 'STRAIN'], [41, 51, 'STRAIN']]}], ['The type strain is Zs60T (=CGMCC 1.15509T=NBRC 112614T).\\r', {'entities': [[19, 24, 'STRAIN'], [27, 41, 'STRAIN'], [42, 54, 'STRAIN']]}], ['The type strain is GH1-9T (=DSM 17634T=KACC 11406T).\\r', {'entities': [[19, 25, 'STRAIN'], [28, 38, 'STRAIN'], [39, 50, 'STRAIN']]}], ['The type strain is CTN-1T (=DSM 22393T=CGMCC 1.10136T).\\r', {'entities': [[19, 25, 'STRAIN'], [28, 38, 'STRAIN'], [39, 53, 'STRAIN']]}], ['The type strain is AB1T (=CECT 9275T=LMG 32341T), isolated from a drinking water treatment plant in Barcelona (Spain). \\r', {'entities': [[19, 23, 'STRAIN'], [26, 36, 'STRAIN'], [37, 47, 'STRAIN']]}], None, ['The type strain is AB67T (=CECT 9623T=LMG 32342T), isolated from a drinking water distribution network in Tona (Barcelona, Spain).\\r', {'entities': [[19, 24, 'STRAIN'], [27, 37, 'STRAIN'], [38, 48, 'STRAIN']]}], ['The type strain CCTCC AB 2023082T (=JCM 36393T) was isolated from the leaves of C. triplicata. \\r', {'entities': [[16, 33, 'STRAIN'], [36, 46, 'STRAIN']]}], ['The DNA G+C content of strain CCTCC AB 2023082T is 54.2 mol%. \\r', {'entities': [[30, 47, 'STRAIN']]}], ['The GenBank accession number for the 16S rRNA gene sequence of strain CCTCC AB 2023082T is OR177835, while the genome can be accessed through the GenBank with the accession number CP151800.\\r', {'entities': [[70, 87, 'STRAIN']]}], ['The type strain is KLBMP 9567T (= CGMCC 4.7773T = NBRC 115787T), which was isolated from karstic areas of Guizhou Province, China.\\r', {'entities': [[19, 30, 'STRAIN'], [34, 47, 'STRAIN'], [50, 62, 'STRAIN']]}], ['The type strain, MH2T (=GDMCC 1.3750T=JCM 36318T), was isolated from C. annuum showing wilt disease symptoms collected from a farmland in Machong town, Guangdong, China.\\r', {'entities': [[17, 21, 'STRAIN'], [24, 37, 'STRAIN'], [38, 48, 'STRAIN']]}], ['The type strain, MH1T (=GDMCC 1.3749T=JCM 36317T), was isolated from C. annuum showing wilt disease symptoms collected from a farmland in Machong town, Guangdong, China.\\r', {'entities': [[17, 21, 'STRAIN'], [24, 37, 'STRAIN'], [38, 48, 'STRAIN']]}], ['The type strain is FWC-SCC1T (=BCRC AR10056T=NBRC 113993T). \\r', {'entities': [[19, 28, 'STRAIN'], [31, 44, 'STRAIN'], [45, 57, 'STRAIN']]}], ['The DDBJ/EMA/GenBank accession numbers for the 16S rRNA gene sequence and draft genome sequence of strain FWC-SCC1T are MG450385 and VCYH00000000, respectively.\\r', {'entities': [[106, 115, 'STRAIN']]}], ['The type strain is CWC-02T (=BCRC AR10055T=NBRC 113992T). \\r', {'entities': [[19, 26, 'STRAIN'], [29, 42, 'STRAIN'], [43, 55, 'STRAIN']]}], ['The DDBJ/EMA/GenBank accession numbers for the 16S rRNA gene sequence and draft genome sequence of strain CWC-02T are MH304310 and QFDM00000000, respectively.\\r', {'entities': [[106, 113, 'STRAIN']]}], ['The type strain is FWC-SCC3T (=BCRC AR10057T=NBRC 113994T). \\r', {'entities': [[19, 28, 'STRAIN'], [31, 44, 'STRAIN'], [45, 57, 'STRAIN']]}], ['The type strain is YWC-01T (=BCRC AR10060T= NBRC 114597T). \\r', {'entities': [[19, 26, 'STRAIN'], [29, 42, 'STRAIN'], [44, 56, 'STRAIN']]}], ['The DDBJ/EMA/GenBank accession numbers for the 16S rRNA gene sequence and draft genome sequence of strain YWC-01T are MT071627 and JABFFQ00000000, respectively.\\r', {'entities': [[106, 113, 'STRAIN']]}], ['The type strain is Afa-1T (=BCRC AR10054T=NBRC 113995T). \\r', {'entities': [[19, 25, 'STRAIN'], [28, 41, 'STRAIN'], [42, 54, 'STRAIN']]}], ['The DDBJ/EMA/GenBank accession numbers for the 16S rRNA gene sequence and draft genome sequence of strain Afa-1T are KP702949 and VHLL00000000, respectively.\\r', {'entities': [[106, 112, 'STRAIN']]}], ['The type strain is Wushi-06T (=BCRC AR10059T=NBRC 114596T). \\r', {'entities': [[19, 28, 'STRAIN'], [31, 44, 'STRAIN'], [45, 57, 'STRAIN']]}], ['The DDBJ/EMA/GenBank accession numbers for the 16S rRNA gene sequence and draft genome sequence of strain Wushi-06T are MN525277 and WBKO00000000, respectively.\\r', {'entities': [[106, 115, 'STRAIN']]}], ['In contrast, strain H4R21T is unable to assimilate: 2,3 butanediol, -cyclodextrin, -d-glycerol-1-phosphate, lactose, -hydroxybutyric acid, -ketovaleric acid, acetic acid, adonitol, methyl -d-glucoside, d-galacturonic acid, raffinose, cellobiose, melibiose, d-serine, -hydroxybutyric acid, gentibiose, hydroxy-l-proline, i-erythritol, itaconic acid, l-phenylalanine, l-rhamnose, lactulose, maltose, N-acetyl-d-galactosamine, p-hydroxyphenylacetic acid, putrescine, sebacic acid, succinic acid monomethyl ester, sucrose, thymidine, turanose and urocanic acid are not assimilated. \\r', {'entities': [[20, 26, 'STRAIN']]}], ['The type strain is H4R21T (=DSM 117599T= CFBP 9203T), isolated from beech rhizosphere collected from the forest experimental site of Montiers (Meuse, France).\\r', {'entities': [[19, 25, 'STRAIN'], [28, 39, 'STRAIN'], [41, 51, 'STRAIN']]}], ['The type strain, IRAMC:0171T (=DSM 112841T=CECT 30767T), was isolated from the root nodules of Retama raetam in northern Tunisia.\\r', {'entities': [[17, 28, 'STRAIN'], [31, 42, 'STRAIN'], [43, 54, 'STRAIN']]}], ['The GenBank accession numbers for the genome and 16S rRNA gene sequences of strain IRAMC:0171T are JAKREW000000000 and ON598642 respectively.\\r', {'entities': [[83, 94, 'STRAIN']]}], ['The type strain, WY-16T (=GDMCC 1.4011T=JCM 36421T), was isolated from a lakeside soil sample collected in Jiangxi Province, PR China.\\r', {'entities': [[17, 23, 'STRAIN'], [26, 39, 'STRAIN'], [40, 50, 'STRAIN']]}], ['H3510T (=KCTC 8206T=MCCC 1K04325T), the type strain, was isolated from a sample of marine alga (Grateloupia sp.) collected from a coastal region of the Yellow Sea (121.46E 37.51N) in Yantai, PR China.\\r', {'entities': [[0, 6, 'STRAIN'], [9, 19, 'STRAIN'], [20, 33, 'STRAIN']]}], ['The type strain, IT1137T (= PMCC 100533T=CCTCC AB 2023226T=JCM 36637T), was isolated from intertidal sediment from the Fildes Peninsula, King George Island, Maritime Antarctica.\\r', {'entities': [[17, 24, 'STRAIN'], [28, 40, 'STRAIN'], [41, 58, 'STRAIN'], [59, 69, 'STRAIN']]}], ['The NCBI GenBank accession number for the 16S rRNA gene sequence of strain IT1137T is PP052934. \\r', {'entities': [[75, 82, 'STRAIN']]}], ['The genome sequences of strain IT1137T and its plasmid are CP141799 and CP141800, respectively.\\r', {'entities': [[31, 38, 'STRAIN']]}], ['The type strain, S025T (=PMCC 200367T=CCTCC AB 2023225T=JCM 36638T), was isolated from a soil sample under red snow in Arctic Ny-lesund, Svalbard.\\r', {'entities': [[17, 22, 'STRAIN'], [25, 37, 'STRAIN'], [38, 55, 'STRAIN'], [56, 66, 'STRAIN']]}], ['The NCBI GenBank accession number for the 16S rRNA gene sequence of strain S025T is PP478174. \\r', {'entities': [[75, 80, 'STRAIN']]}], ['The genome sequence of strain S025T is CP125619.\\r', {'entities': [[30, 35, 'STRAIN']]}], ['Based on the results of the polyphasic taxonomic analysis and the distinctions identified in comparison with closely related species, strain T-12T (=CECT 30410T=RGM 3222T) is proposed as a representative of a new bacterial species, Flavobacterium facile sp. nov.\\r', {'entities': [[141, 146, 'STRAIN'], [149, 160, 'STRAIN'], [161, 170, 'STRAIN']]}], ['The type strain, 20-417T (strain 17T=LMG 32456T=DSM 113340T), was isolated from symptomatic strawberry (Fragariaananassa) in Florida.\\r', {'entities': [[17, 24, 'STRAIN'], [33, 36, 'STRAIN'], [37, 47, 'STRAIN'], [48, 59, 'STRAIN']]}], ['The type strain is G1-22T (=KACC 22486T=JCM 34971T), isolated from the phycosphere of a Sargassum species, a marine brown alga collected in Gangwon province, Republic of Korea.\\r', {'entities': [[19, 25, 'STRAIN'], [28, 39, 'STRAIN'], [40, 50, 'STRAIN']]}], ['The GenBank accession numbers for the 16S rRNA gene and genome sequences of strain G1-22T are OK398154 and JAQOMS000000000, respectively.\\r', {'entities': [[83, 89, 'STRAIN']]}], ['The type strain is G1-23T (=KACC 22490T=JCM 34972T), isolated from the phycosphere of a Sargassum species, a marine brown alga collected in Gangwon province, Republic of Korea.\\r', {'entities': [[19, 25, 'STRAIN'], [28, 39, 'STRAIN'], [40, 50, 'STRAIN']]}], ['The type strain, dk4302T (=CGMCC 1.16795T=JCM 33600T), with a G+C content of 38.9mol%, was isolated from faeces of a Tibetan gazelle collected from the TibetQinghai Plateau, PR China.\\r', {'entities': [[17, 24, 'STRAIN'], [27, 41, 'STRAIN'], [42, 52, 'STRAIN']]}], ['The GenBank accession numbers for the 16S rRNA gene of strains dk4302T and dk4209 are MK605946 and MK809342, respectively. \\r', {'entities': [[63, 70, 'STRAIN'], [75, 81, 'STRAIN']]}], ['The genome sequence accession numbers are CP045652 (dk4302T) and WSPZ00000000 (dk4209).\\r', {'entities': [[52, 59, 'STRAIN'], [79, 85, 'STRAIN']]}], ['The type strain, xlx-73T (=GDMCC 1.1712T=JCM 33886T), with a G+C content of 39.8mol%, was isolated from the intestinal content of red swamp crawfish, collected from Jiangxi Province, PR China.\\r', {'entities': [[17, 24, 'STRAIN'], [27, 40, 'STRAIN'], [41, 51, 'STRAIN']]}], ['The GenBank accession numbers for the 16S rRNA gene sequences of strains xlx-73T and xlx-183) are MK935144 and MK935189, respectively. \\r', {'entities': [[73, 80, 'STRAIN'], [85, 92, 'STRAIN']]}], ['The genome sequence accession numbers for strains xlx-73T and xlx-183 are CP0456529 and WFKO00000000, respectively.\\r', {'entities': [[50, 57, 'STRAIN'], [62, 69, 'STRAIN']]}], ['The type strain, B2T-5T (=KCTC 21223T=JCM 35937T), was isolated from cutlassfish jeotgal.\\r', {'entities': [[17, 23, 'STRAIN'], [26, 37, 'STRAIN'], [38, 48, 'STRAIN']]}], ['The GenBank/EMBL/DDBJ accession numbers for the 16S rRNA gene and genome sequences of strain B2T-5T are OR960824 and CP142146, respectively.\\r', {'entities': [[93, 99, 'STRAIN']]}], ['The type strain is SDUM040013T (=KCTC 8123T=MCCC 1H01413T), isolated from kelp seedlings collected from a kelp nursery pond in Weihai, PR China (122 33 E 37 15 N).\\r', {'entities': [[19, 30, 'STRAIN'], [33, 43, 'STRAIN'], [44, 57, 'STRAIN']]}], ['The type strain is SDUM040014T (=KCTC 8124T=MCCC 1H01414T), isolated from kelp seedlings collected from a kelp nursery pond in Weihai, PR China (122 33 E 37 15 N).\\r', {'entities': [[19, 30, 'STRAIN'], [33, 43, 'STRAIN'], [44, 57, 'STRAIN']]}], ['The type strain, W4T (=KCTC 49888T=NBRC 116001T), was isolated from soil in Republic of Korea (GPS coordinates of sampling site: 36 47 26.9 N 127 31 16.0 E).\\r', {'entities': [[17, 20, 'STRAIN'], [23, 34, 'STRAIN'], [35, 47, 'STRAIN']]}], ['The type strain, FW7T (=KCTC 49859T=NBRC 116000T), was isolated from soil in Republic of Korea (GPS coordinates of sampling site: 36 30 20.2 N 127 01 13.1 E).\\r', {'entities': [[17, 21, 'STRAIN'], [24, 35, 'STRAIN'], [36, 48, 'STRAIN']]}], ['The GenBank/EMBL/DDBJ accession numbers for the 16S rRNA sequence and whole genome shotgun sequence of strain FW7T are OP954416 and CP133019, respectively.\\r', {'entities': [[110, 114, 'STRAIN']]}], ['The type strain, TW48T (=KCTC 43470T=NBRC 116017T), was isolated from forest soil in Republic of Korea (GPS coordinates of sampling site: 35 33 02.2 N 127 08 13.9 E).\\r', {'entities': [[17, 22, 'STRAIN'], [25, 36, 'STRAIN'], [37, 49, 'STRAIN']]}], ['The GenBank/EMBL/DDBJ accession numbers for the 16S rRNA sequence and whole genome shotgun sequence of strain TW48T are OP954419 and CP134223, respectively.\\r', {'entities': [[110, 115, 'STRAIN']]}], ['The type strain, UW52T (=KCTC 43477T=NBRC 116018T), was isolated from forest soil in Republic of Korea (GPS coordinates of sampling site: 35 45 11.9 N 127 08 42.0E).\\r', {'entities': [[17, 22, 'STRAIN'], [25, 36, 'STRAIN'], [37, 49, 'STRAIN']]}], ['The GenBank/EMBL/DDBJ accession numbers for the 16S rRNA sequence and whole genome shotgun sequence of strain UW52T are OP954415 and JASKUT000000000, respectively.\\r', {'entities': [[110, 115, 'STRAIN']]}], ['The type strain, PT-3T (=KCTC 92106T=NBRC 116012T), was isolated from soil sample collected from Republic of Korea (GPS coordinates of sampling site: 35 20 35.2 N 128 00 40.0 E).\\r', {'entities': [[17, 22, 'STRAIN'], [25, 36, 'STRAIN'], [37, 49, 'STRAIN']]}], ['The type strain, RJY3T (=KCTC 92105T=NBRC 115831T), was isolated from a soil sample collected in the Republic of Korea (GPS coordinates of sampling site: 36 53 24.0 N 126 42 52.9E).\\r', {'entities': [[17, 22, 'STRAIN'], [25, 36, 'STRAIN'], [37, 49, 'STRAIN']]}], ['The GenBank/EMBL/DDBJ accession numbers for the 16S rRNA nucleotide and genome sequences of strain RJY3T are OK602686 and JARGNB000000000, respectively.\\r', {'entities': [[99, 104, 'STRAIN']]}], ['The type strain, WSC-6T (=ATCC TSD-251T=DSM 112293T), was isolated from a biofilm on a submerged rock at the confluence of Zodletone Spring and Saddle Mountain Creek waters in Kiowa County, Oklahoma, USA.\\r', {'entities': [[17, 23, 'STRAIN'], [26, 39, 'STRAIN'], [40, 51, 'STRAIN']]}], ['The GenBank/EMBL/DDBJ/PIR accession numbers for the 16S rRNA gene and draft genome sequences of strain WSC-6T are ON758928 and JANIBK000000000, respectively.\\r', {'entities': [[103, 109, 'STRAIN']]}], ['The type strain, WSC-7T (=ATCC TSD-252T=DSM 112281T), was isolated from a biofilm on a submerged rock at the confluence of Zodletone Spring and Saddle Mountain Creek waters in Kiowa County, Oklahoma, USA.\\r', {'entities': [[17, 23, 'STRAIN'], [26, 39, 'STRAIN'], [40, 51, 'STRAIN']]}], ['The GenBank/EMBL/DDBJ/PIR accession numbers for the 16S rRNA gene and draft genome sequences of strain WSC-7T are ON758929 and JANIBL000000000, respectively.\\r', {'entities': [[103, 109, 'STRAIN']]}], ['The type strain, SURF-1T (ATCC TSD-253T=DSM 112282T), was isolated from a microbial mat growing at a fracture approximately 4850 ft (1478 m) below the surface at the Sanford Underground Research Facility in Lead, South Dakota, USA.\\r', {'entities': [[17, 24, 'STRAIN'], [26, 39, 'STRAIN'], [40, 51, 'STRAIN']]}], ['GenBank/EMBL/DDBJ/PIR accession numbers for the 16S rRNA gene and draft genome sequences of strain SURF-1T are ON758926 and JANIBM000000000, respectively.\\r', {'entities': [[99, 106, 'STRAIN']]}], ['The type strain, SURF-2T (ATCC TSD-254T=DSM 112283T), was isolated from submerged sediments in a tunnel approximately 4850 ft (1478 m) below the surface at the Sanford Underground Research Facility in Lead, South Dakota, USA. \\r', {'entities': [[17, 24, 'STRAIN'], [26, 39, 'STRAIN'], [40, 51, 'STRAIN']]}], ['The GenBank/EMBL/DDBJ/PIR accession numbers for the 16S rRNA gene and draft genome sequences of strain SURF-2T are ON758927 and JANIBJ000000000, respectively.\\r', {'entities': [[103, 110, 'STRAIN']]}], ['Holotype GDMCC 2.300T was isolated from rotting wood collected on Qingyuan Mountain, Fujian Province, PR China, in March 2022 (original number NYNU 223283T).\\r', {'entities': [[9, 21, 'STRAIN'], [143, 155, 'STRAIN']]}], ['The ex-type culture has been deposited at Portuguese Yeast Culture Collection, Caparica, Portugal, as strain PYCC 9925. \\r', {'entities': [[109, 118, 'STRAIN']]}], ['The GenBank/EMBL/DDBJ/PIR accession numbers for the sequences of the D1/D2 domain of the LSU rRNA gene and the ITS region determined in this study are OP269833 and OP269835 for GDMCC 2.300T and OP287957 and OP287954 for NYNU 224233, respectively.\\r', {'entities': [[177, 189, 'STRAIN'], [220, 231, 'STRAIN']]}], ['The genomes of strains MJ-SS3T and MJ-SS4 consist of 3.1 Mbp. \\r', {'entities': [[23, 30, 'STRAIN'], [35, 41, 'STRAIN']]}], ['Strains MJ-SS3T and MJ-SS4 have 2822 coding and 59 tRNA genes.\\r', {'entities': [[8, 15, 'STRAIN'], [20, 26, 'STRAIN']]}], ['The type strain is MJ-SS3T (=KCTC 102114T=KEMB 20189T=JCM 36595T) isolated from tidal-flat sediment.\\r', {'entities': [[19, 26, 'STRAIN'], [29, 41, 'STRAIN'], [42, 53, 'STRAIN'], [54, 64, 'STRAIN']]}], None, ['The type strain is JP48T (=DSM 109919T=CECT 30269T) and a second strain of the species is JP55 (=DSM 109920=CECT 30268).\\r', {'entities': [[19, 24, 'STRAIN'], [27, 38, 'STRAIN'], [39, 50, 'STRAIN'], [90, 94, 'STRAIN'], [97, 107, 'STRAIN'], [108, 118, 'STRAIN']]}], ['The type strain, LYT19WT (=GDMCC 1.3205T=KCTC 92545T), was isolated from a stream located in Southwest China.\\r', {'entities': [[17, 24, 'STRAIN'], [27, 40, 'STRAIN'], [41, 52, 'STRAIN']]}], ['The type strain, DXS29WT (=GDMCC 1.3207T=KCTC 92547T), was isolated from a stream located in South China.\\r', {'entities': [[17, 24, 'STRAIN'], [27, 40, 'STRAIN'], [41, 52, 'STRAIN']]}], ['The type strain, DXS22WT (=GDMCC 1.3206T=KCTC 92546T), was isolated from a stream located in South China.\\r', {'entities': [[17, 24, 'STRAIN'], [27, 40, 'STRAIN'], [41, 52, 'STRAIN']]}], ['The type strain, BYS139WT (=GDMCC 1.3208T=KCTC 92548T), was isolated from a stream located in South China. \\r', {'entities': [[17, 25, 'STRAIN'], [28, 41, 'STRAIN'], [42, 53, 'STRAIN']]}], ['The type strain is W35T (=DSM 106757T=NBRC 111963T).\\r', {'entities': [[19, 23, 'STRAIN'], [26, 37, 'STRAIN'], [38, 50, 'STRAIN']]}], ['The type strain is S2T (=KCTC 72741T=NBRC 114609T).\\r', {'entities': [[19, 22, 'STRAIN'], [25, 36, 'STRAIN'], [37, 49, 'STRAIN']]}], ['The type strain is S-16T (=KACC 19792T=JCM 32971T).\\r', {'entities': [[19, 24, 'STRAIN'], [27, 38, 'STRAIN'], [39, 49, 'STRAIN']]}], ['The type strain is ID0723T (=KCTC 72731T=NBRC 114611T).\\r', {'entities': [[19, 26, 'STRAIN'], [29, 40, 'STRAIN'], [41, 53, 'STRAIN']]}], ['The type strain is CR182T (=KCCM 90284T=NBRC 113032T).\\r', {'entities': [[19, 25, 'STRAIN'], [28, 39, 'STRAIN'], [40, 52, 'STRAIN']]}], ['The type strain is CHU3T (=CICC 24092T=KCTC 42519T).\\r', {'entities': [[19, 24, 'STRAIN'], [27, 38, 'STRAIN'], [39, 50, 'STRAIN']]}], ['The type strain is hw1T (=KACC 22887T=TBRC 16613T).\\r', {'entities': [[19, 23, 'STRAIN'], [26, 37, 'STRAIN'], [38, 49, 'STRAIN']]}], ['The type strain is hw8T (=KACC 22885T=TBRC 16614T).\\r', {'entities': [[19, 23, 'STRAIN'], [26, 37, 'STRAIN'], [38, 49, 'STRAIN']]}], ['The type strain is wcf1T (=BCRC 17557T=LMG 23380T).\\r', {'entities': [[19, 24, 'STRAIN'], [27, 38, 'STRAIN'], [39, 49, 'STRAIN']]}], ['The type strain is Jin2T (=KCTC 82556T=NBRC 114838T).\\r', {'entities': [[19, 25, 'STRAIN'], [27, 38, 'STRAIN'], [39, 51, 'STRAIN']]}], ['Two strains of Mycovorax composti, C216T (=DSM 114558T=LMG 32998T) and M2295 (=DSM 114559=LMG 32997), were isolated from phase II mushroom compost in Australia.\\r', {'entities': [[35, 40, 'STRAIN'], [43, 54, 'STRAIN'], [55, 65, 'STRAIN'], [71, 76, 'STRAIN'], [79, 89, 'STRAIN'], [90, 99, 'STRAIN']]}], ['The type strain is C216T, which was isolated from end-phase II mushroom compost from Victoria, Australia.\\r', {'entities': [[19, 24, 'STRAIN']]}], ['The type strain is M1T (DSM 116605T=JCM 36570T), isolated from rock sample of Vulcano Island, Italy.\\r', {'entities': [[19, 22, 'STRAIN'], [24, 35, 'STRAIN'], [36, 46, 'STRAIN']]}], ['The type strain, Es01T (=CECT 30999T=DSMZ 117325T=CCM 9394T), was isolated from Lavandula angustifolia flowers.\\r', {'entities': [[17, 22, 'STRAIN'], [25, 36, 'STRAIN'], [37, 49, 'STRAIN'], [50, 59, 'STRAIN']]}], ['The GenBank/EMBL/DDBJ/PIR accession numbers for the sequences of the D1/D2 domain of the LSU rRNA gene, ITS region, and RPB2 gene determined in this study are OR426455, OR426456, and PP578192 for CICC 33616T and PP566652, PP566651, and PP578193 for NYNU 236180, respectively.\\r', {'entities': [[196, 207, 'STRAIN'], [249, 260, 'STRAIN']]}], ['The ex-type culture has been deposited in a metabolically inactivate state in the Portuguese Yeast Culture Collection (PYCC), Caparica, Portugal, as strain PYCC 9987 (=NYNU 236122).\\r', {'entities': [[156, 165, 'STRAIN'], [168, 179, 'STRAIN']]}], ['The type strain of Rhizobium aouanii sp. nov. 1AS14IT (=DSM 113914T = LMG 33206T), was isolated from root nodules of Acacia saligna used as trapping host in Borj cedria soil located in northeastern Tunisia. \\r', {'entities': [[46, 53, 'STRAIN'], [56, 67, 'STRAIN'], [70, 80, 'STRAIN']]}], ['The GenBank draft genome accession number of strain 1AS14IT is JBAMYD000000000.\\r', {'entities': [[52, 59, 'STRAIN']]}], ['The type strain, Y60-23T (=MCCC 1H01433T=KCTC 8172T), was isolated from a marine sediment sample collected from Xiaoshi Island (122 7 38.80 E 37 33 57.60 N), Weihai, PR China.\\r', {'entities': [[17, 24, 'STRAIN'], [27, 40, 'STRAIN'], [41, 51, 'STRAIN']]}], ['The type strain, HN-65T (=MCCC 1H01434T=KCTC 8169T), was isolated from a marine sediment sample collected from Dongzhai Harbour (110 33 54.37 E 19 59 8.66 N), Haikou, PR China.\\r', {'entities': [[17, 23, 'STRAIN'], [26, 39, 'STRAIN'], [40, 50, 'STRAIN']]}], ['The type strain, CDY1-MB1T (= MCCC 1A16935T=KCTC 102223T) was isolated from a marine sediment in the eastern Pacific Ocean.\\r', {'entities': [[17, 26, 'STRAIN'], [30, 43, 'STRAIN'], [44, 56, 'STRAIN']]}], ['The type strain is ATCC 29175T (DSM 2876T=T9-40AT), as reported initially by Moore et al. in 1976 (Approved Lists 1980) with phenotypic properties.\\r', {'entities': [[19, 30, 'STRAIN'], [32, 41, 'STRAIN'], [42, 49, 'STRAIN']]}], ['The type strain, OC33-EN06T (=TBRC 18349T=NBRC 116543T), was isolated from a wild orchid (Aerides multiflora Roxb) collected from Lampang Province in Thailand.\\r', {'entities': [[17, 27, 'STRAIN'], [30, 41, 'STRAIN'], [42, 54, 'STRAIN']]}], ['The GenBank accession number for the 16S rRNA gene sequence of Actinomycetospora aeridis OC33-EN06T is PP455472.\\r', {'entities': [[89, 99, 'STRAIN']]}], ['The type strain, OC33-EN07T (=TBRC 18350T=NBRC 116544T), was isolated from a wild orchid (Aerides multiflora Roxb) collected from Lampang Province in Thailand.\\r', {'entities': [[17, 27, 'STRAIN'], [30, 41, 'STRAIN'], [42, 54, 'STRAIN']]}], ['The type strain, OC33-EN08T (=TBRC 18318T=NBRC 116542T), was isolated from a wild orchid (Aerides multiflora Roxb) collected from Lampang Province in Thailand.\\r', {'entities': [[17, 27, 'STRAIN'], [30, 41, 'STRAIN'], [42, 54, 'STRAIN']]}], ['The GenBank accession number for the 16S rRNA gene sequence of Actinomycetospora aurantiaca OC33-EN08T is PP455476.\\r', {'entities': [[92, 102, 'STRAIN']]}], ['The type strain is ATCC 33620T (=CCUG 27201T=CIP 102989T=DSM 20531T=JCM 1126T=LMG 9496T=NCAIM B.01458T=NRRL B-4540T), isolated from cattle waste-corn fermentation. \\r', {'entities': [[19, 30, 'STRAIN'], [33, 44, 'STRAIN'], [45, 56, 'STRAIN'], [57, 67, 'STRAIN'], [68, 77, 'STRAIN'], [78, 87, 'STRAIN'], [88, 102, 'STRAIN'], [103, 115, 'STRAIN']]}], ['At least four additional strains (YK3, YK6, YK10, and NSK) are included in this subspecies.\\r', {'entities': [[34, 37, 'STRAIN'], [39, 42, 'STRAIN'], [44, 48, 'STRAIN'], [54, 57, 'STRAIN']]}], ['The type strain, BF125T (=MAFF 212522T=DSM 115528T), was isolated from bovine faeces.\\r', {'entities': [[17, 23, 'STRAIN'], [26, 38, 'STRAIN'], [39, 50, 'STRAIN']]}], ['At least five additional strains [BF186, TKL145, Bifido-178-WT-3C (=DSM 107288), S60, AF08-3, and DSM 16698] are included in this subspecies.\\r', {'entities': [[34, 39, 'STRAIN'], [41, 47, 'STRAIN'], [49, 65, 'STRAIN'], [68, 78, 'STRAIN'], [81, 84, 'STRAIN'], [86, 92, 'STRAIN'], [98, 107, 'STRAIN']]}], ['The GenBank/EMBL/DDBJ accession number for the 16S rRNA gene sequence of strain BF125T is LC771959. \\r', {'entities': [[80, 86, 'STRAIN']]}], ['The INSDC accession numbers for the draft genome sequences of strain BF125T are BTFR01000001BTFR01000033.\\r', {'entities': [[69, 75, 'STRAIN']]}], ['The type strain, Mut1T (=DSM 117248T=CCUG 77596T), was isolated from a soil sample from the park Slottsskogen in Gothenburg, Sweden.\\r', {'entities': [[17, 22, 'STRAIN'], [25, 36, 'STRAIN'], [37, 48, 'STRAIN']]}], ['The type strain, Alt3T (=DSM 117252T=CCUG 77600T), was isolated from a soil sample from the park Kungsparken in Gothenburg, Sweden.\\r', {'entities': [[17, 22, 'STRAIN'], [25, 36, 'STRAIN'], [37, 48, 'STRAIN']]}], ['The type strain is MSW5T (=KACC 22340T=NBRC 116025T), isolated from seawater of the Yellow Sea, Republic of Korea.\\r', {'entities': [[19, 24, 'STRAIN'], [27, 38, 'STRAIN'], [39, 51, 'STRAIN']]}], ['The type strain YIM 133132T (CGMCC=1.61357T and KCTC=49824T), was isolated from lichen samples collected from Yuanyang County, Honghe Hani and the Yi Autonomous Prefecture, Yunnan Province, Southwest PR China.\\r', {'entities': [[16, 27, 'STRAIN'], [29, 43, 'STRAIN'], [48, 59, 'STRAIN']]}], ['The lichen Parmotrema ultralucens from which strain YIM 133132T was isolated was collected from 1359 m above sea level at 230704.64N1023331.44E, and the lichen Parmotrema reticulatum from which strain YIM 133296 was isolated was collected from 1363 m above sea level at 230704.61N1023331.08E.\\r', {'entities': [[52, 63, 'STRAIN'], [201, 211, 'STRAIN']]}], ['The DNA G+C contents of strains YIM 133132T and YIM 133296 are both 71.8 mol%. \\r', {'entities': [[32, 43, 'STRAIN'], [48, 58, 'STRAIN']]}], ['The GenBank/EMBL/DDBJ accession numbers for the 16S rRNA gene sequence and the draft genome sequence of YIM 133132T are OR921596.1 and JARFJC000000000, respectively; and the corresponding accession numbers for YIM 133296 are OR921597.1 and JAROAV000000000, respectively.\\r', {'entities': [[104, 115, 'STRAIN'], [209, 220, 'STRAIN']]}], ['The type strain is 2-2T (=KCTC 29695T=JCM 30462T), isolated from coal mining site soil.\\r', {'entities': [[19, 23, 'STRAIN'], [26, 37, 'STRAIN'], [38, 48, 'STRAIN']]}], ['The type strain is 2-15T (=KCTC 39525T=JCM 30563T), isolated from coal mining site soil.\\r', {'entities': [[19, 24, 'STRAIN'], [27, 38, 'STRAIN'], [39, 49, 'STRAIN']]}], ['The type strain, CT-R113T (=LMG 33234T=UCCCB 172T), was isolated from the tissues of the macroalgae Codium tomentosum collected on the northern Portuguese coast.\\r', {'entities': [[17, 25, 'STRAIN'], [28, 38, 'STRAIN'], [39, 49, 'STRAIN']]}], ['The type strain, CC-R104T (=LMG 33233T=UCCCB 171T), was isolated from the tissues of the red macroalgae Chondrus crispus collected on the northern Portuguese coast.\\r', {'entities': [[17, 25, 'STRAIN'], [28, 38, 'STRAIN'], [39, 49, 'STRAIN']]}], ['The type strain is SW105T (=CGMCC 1.10825T=JCM 18132T).\\r', {'entities': [[19, 25, 'STRAIN'], [28, 42, 'STRAIN'], [43, 53, 'STRAIN']]}], ['The Whole Genome Shotgun project of strain Spencermartinsiella nicolii UFMG-CM-Y3197 has been deposited at DDBJ/ENA/GenBank under accession JBCNYE000000000.\\r', {'entities': [[71, 84, 'STRAIN']]}], ['The type strain is TK19130T (=CGMCC 1.18993T=JCM 35842T=MCCC M28200T).\\r', {'entities': [[19, 27, 'STRAIN'], [30, 44, 'STRAIN'], [45, 55, 'STRAIN'], [56, 68, 'STRAIN']]}], ['The type strain NKW23T (= JCM 36220T =KCTC 8062T) was isolated from the tissue of the brittle star, Ophioplocus japonicus, which was captured from a tidal pool in Wakayama, Japan.\\r', {'entities': [[16, 22, 'STRAIN'], [26, 36, 'STRAIN'], [38, 48, 'STRAIN']]}], ['The type strain NKW57T (=JCM 36221T=KCTC 8063T) was isolated from the tissue of a brittle star, Ophioplocus japonicus, which was captured in a tidal poor at Wakayama, Japan.\\r', {'entities': [[16, 22, 'STRAIN'], [25, 35, 'STRAIN'], [36, 46, 'STRAIN']]}], ['The 16S rRNA gene sequence and draft genome sequence of NKW57T have been deposited in the GenBank/ENA/DDBJ databanks under the accession numbers OQ678879 and BSYJ00000000, respectively.\\r', {'entities': [[56, 62, 'STRAIN']]}], ['The type strain, MI-GT (=MCCC 1K07826T=KCTC 8081T), was isolated from a sample of marine sponge Diacarnus erythraeanus, collected from mesophotic and shallow reefs in front of the interuniversity institute for marine sciences in Eilat, Israel.\\r', {'entities': [[17, 22, 'STRAIN'], [25, 38, 'STRAIN'], [39, 49, 'STRAIN']]}], ['The GenBank accession numbers of the 16S rRNA gene and whole genome sequences of strain MI-GT are ON849098 and CP098023, respectively.\\r', {'entities': [[88, 93, 'STRAIN']]}], ['The type strain, C22-A2T (=CGMCC 1.19202T=KCTC 43426T), was isolated from a water sample of salt lake LungmuCo in Tibet, PR China.\\r', {'entities': [[17, 24, 'STRAIN'], [27, 41, 'STRAIN'], [42, 53, 'STRAIN']]}], ['The GenBank/EMBL/DDBJ accession numbers for the 16S rRNA gene and genome sequences of strain C22-A2T are OR857398 and JARZFX000000000, respectively.\\r', {'entities': [[93, 100, 'STRAIN']]}], ['The type strain, R-7T (KCTC 8082T=MCCC 1K08805T), was isolated from sediment of Chengnan River in Wuxi city, Jiangsu Province, PR China. \\r', {'entities': [[17, 21, 'STRAIN'], [23, 33, 'STRAIN'], [34, 47, 'STRAIN']]}], ['The GenBank/EMBL/DDBJ accession numbers for the 16S rRNA gene and the whole genome sequences of strain R-7T are OR350921 and JAUYVI000000000, respectively.\\r', {'entities': [[103, 107, 'STRAIN']]}], ['The type strain is EXRC-4A-4T, isolated from a soil sample from Union Glacier in the Ellsworth Mountains, Antarctica.\\r', {'entities': [[19, 29, 'STRAIN']]}], ['The GenBank accession number for the 16S rRNA and whole genome sequences of strain EXRC-4A-4T are OR789622 and JBBPCN000000000, respectively.\\r', {'entities': [[83, 93, 'STRAIN']]}], ['Strain EXRC-4A-4T was deposited to CChRGM and BCCM/LMG with entry numbers RGM 3539 and LMG 33621, respectively.\\r', {'entities': [[7, 17, 'STRAIN'], [74, 82, 'STRAIN'], [87, 96, 'STRAIN']]}], ['Cells of strain RC-2-3T are Gram-positive coccobacilli, aerobic, 1.61.9 m long and 0.81.0 m wide. \\r', {'entities': [[16, 23, 'STRAIN']]}], ['The type strain is RC-2-3T, isolated from a soil sample from Union Glacier in the Ellsworth Mountains, Antarctica.\\r', {'entities': [[19, 26, 'STRAIN']]}], ['Strain RC-2-3T was deposited to CChRGM and BCCM/LMG with entry numbers RGM 3538 and LMG 33620, respectively.\\r', {'entities': [[7, 14, 'STRAIN'], [71, 79, 'STRAIN'], [84, 93, 'STRAIN']]}], ['The type strain, R7T (=GDMCC 1.4459T=KCTC 25860T), was isolated from the intestinal contents of plateau pika (Ochotona curzoniae) from the Qinghai-Tibet Plateau, PR China.\\r', {'entities': [[17, 20, 'STRAIN'], [23, 36, 'STRAIN'], [37, 48, 'STRAIN']]}], ['It was preserved in a metabolically inactive state, such as in JCM 36749 (=CBS 18615=NBRC 116660).\\r', {'entities': [[63, 72, 'STRAIN'], [75, 84, 'STRAIN'], [85, 96, 'STRAIN']]}], ['The type strain is Nd1T (=NCIMB 15248T=DSM 110862T), which was isolated from an acidic (pH 4.5) agricultural soil located near Aberdeen (Scotland, UK).\\r', {'entities': [[19, 23, 'STRAIN'], [26, 38, 'STRAIN'], [39, 50, 'STRAIN']]}], ['The type strain is Nd2T (=NCIMB 15249T=DSM 110863T), which was isolated from an acidic sulphate paddy soil (pH 4.7) sampled in Taishan County, Guangdong Province in southern PR China.\\r', {'entities': [[19, 23, 'STRAIN'], [26, 38, 'STRAIN'], [39, 50, 'STRAIN']]}], ['The type strain is lpD01T (=NCIMB 15517T =ATCC TSD-399T) isolated from a wild-caught Neogriphoneura sordida in Austin, Texas, USA.\\r', {'entities': [[19, 25, 'STRAIN'], [28, 40, 'STRAIN'], [42, 55, 'STRAIN']]}], ['The type strain is lpD02T (=NCIMB 15518T =ATCC TSD-400T) isolated from wild-caught Drosophila cardini in Austin, Texas, USA.\\r', {'entities': [[19, 25, 'STRAIN'], [28, 40, 'STRAIN'], [42, 55, 'STRAIN']]}], ['Another strain of this species, lpD03 (=NCIMB 15519=ATCC BAA-3339), was isolated from a wild-caught Drosophila meridiana in Austin, Texas, USA.\\r', {'entities': [[32, 37, 'STRAIN'], [40, 51, 'STRAIN'], [52, 65, 'STRAIN']]}], ['The type strain is BiBT (=NCIMB 15516T =ATCC TSD-402T) isolated from a wild-caught Drosophila sp. in Austin, Texas, USA. ', {'entities': [[19, 23, 'STRAIN'], [26, 38, 'STRAIN'], [40, 53, 'STRAIN']]}]]\n"
     ]
    },
    {
     "ename": "TypeError",
     "evalue": "'NoneType' object is not iterable",
     "output_type": "error",
     "traceback": [
      "\u001b[0;31m---------------------------------------------------------------------------\u001b[0m",
      "\u001b[0;31mTypeError\u001b[0m                                 Traceback (most recent call last)",
      "Cell \u001b[0;32mIn[20], line 5\u001b[0m\n\u001b[1;32m      3\u001b[0m \u001b[38;5;28mprint\u001b[39m(train_data)\n\u001b[1;32m      4\u001b[0m \u001b[38;5;28;01mif\u001b[39;00m train_data \u001b[38;5;129;01mis\u001b[39;00m \u001b[38;5;129;01mnot\u001b[39;00m \u001b[38;5;28;01mNone\u001b[39;00m:\n\u001b[0;32m----> 5\u001b[0m      train_data \u001b[38;5;241m=\u001b[39m [\u001b[38;5;28mtuple\u001b[39m(i) \u001b[38;5;28;01mfor\u001b[39;00m i \u001b[38;5;129;01min\u001b[39;00m train_data] \n\u001b[1;32m      6\u001b[0m \u001b[38;5;28;01melse\u001b[39;00m:\n\u001b[1;32m      7\u001b[0m     \u001b[38;5;66;03m# Handle the case where train_data is None\u001b[39;00m\n\u001b[1;32m      8\u001b[0m     \u001b[38;5;28mprint\u001b[39m(\u001b[38;5;124m\"\u001b[39m\u001b[38;5;124mtrain_data is None. Investigate data loading.\u001b[39m\u001b[38;5;124m\"\u001b[39m)\n",
      "Cell \u001b[0;32mIn[20], line 5\u001b[0m, in \u001b[0;36m<listcomp>\u001b[0;34m(.0)\u001b[0m\n\u001b[1;32m      3\u001b[0m \u001b[38;5;28mprint\u001b[39m(train_data)\n\u001b[1;32m      4\u001b[0m \u001b[38;5;28;01mif\u001b[39;00m train_data \u001b[38;5;129;01mis\u001b[39;00m \u001b[38;5;129;01mnot\u001b[39;00m \u001b[38;5;28;01mNone\u001b[39;00m:\n\u001b[0;32m----> 5\u001b[0m      train_data \u001b[38;5;241m=\u001b[39m [\u001b[38;5;28;43mtuple\u001b[39;49m\u001b[43m(\u001b[49m\u001b[43mi\u001b[49m\u001b[43m)\u001b[49m \u001b[38;5;28;01mfor\u001b[39;00m i \u001b[38;5;129;01min\u001b[39;00m train_data] \n\u001b[1;32m      6\u001b[0m \u001b[38;5;28;01melse\u001b[39;00m:\n\u001b[1;32m      7\u001b[0m     \u001b[38;5;66;03m# Handle the case where train_data is None\u001b[39;00m\n\u001b[1;32m      8\u001b[0m     \u001b[38;5;28mprint\u001b[39m(\u001b[38;5;124m\"\u001b[39m\u001b[38;5;124mtrain_data is None. Investigate data loading.\u001b[39m\u001b[38;5;124m\"\u001b[39m)\n",
      "\u001b[0;31mTypeError\u001b[0m: 'NoneType' object is not iterable"
     ]
    }
   ],
   "source": [
    "entity_name = \"STRAIN\"\n",
    "train_data = data['annotations']\n",
    "#print(train_data)\n",
    "\n",
    "if train_data is not None:\n",
    "     train_data = [tuple(i) for i in train_data] \n",
    "else:\n",
    "    # Handle the case where train_data is None\n",
    "    print(\"train_data is None. Investigate data loading.\")\n",
    "\n",
    "#train_data = [tuple(i) for i in train_data]"
   ]
  },
  {
   "cell_type": "code",
   "execution_count": 4,
   "id": "3546c964",
   "metadata": {},
   "outputs": [
    {
     "data": {
      "text/plain": [
       "[('A Gram-stain-negative bacterium, designated I-24T, was isolated from soil of a natural salt meadow.\\r',\n",
       "  {'entities': [[44, 49, 'STRAIN']]}),\n",
       " ('Comparative 16S rRNA gene analysis indicated that strain I-24T has closest similarities to Spirosoma agri KCTC 52727T (95.9\\u200a%) and Spirosoma terrae KCTC 52035T (95.5\\u200a%). \\r',\n",
       "  {'entities': [[57, 62, 'STRAIN'],\n",
       "    [106, 117, 'STRAIN'],\n",
       "    [148, 159, 'STRAIN']]}),\n",
       " ('The type strain is MJ115T (=KCTC 72237T=NBRC 113963T). \\r',\n",
       "  {'entities': [[19, 25, 'STRAIN'], [28, 39, 'STRAIN'], [40, 52, 'STRAIN']]}),\n",
       " ('Thus, Pareuzebyella sediminis gen. nov. sp. nov. is proposed with type strain S2-4-21T (=MCCC 1K03818T=KCTC 72152T), and another strain MT2-5-19 (=KCTC 72539=MCCC 1K03874).\\r',\n",
       "  {'entities': [[78, 86, 'STRAIN'],\n",
       "    [89, 102, 'STRAIN'],\n",
       "    [103, 114, 'STRAIN'],\n",
       "    [136, 144, 'STRAIN'],\n",
       "    [147, 157, 'STRAIN'],\n",
       "    [158, 170, 'STRAIN']]}),\n",
       " ('The whole genome shotgun projects of strain S2-4-21T and MT2-5-19 have been deposited at DDBJ/ENA/GenBank under the accessions of VTZS00000000 and VTZT00000000, respectively.\\r',\n",
       "  {'entities': [[44, 52, 'STRAIN'], [57, 65, 'STRAIN']]}),\n",
       " ('The type strain is KUDC8001T (=KCTC 82078T=CGMCC 1.18475T) that was isolated from the rhizospheric soil collected from the Dokdo Islands, Republic of Korea.\\r',\n",
       "  {'entities': [[19, 28, 'STRAIN'], [31, 42, 'STRAIN'], [43, 57, 'STRAIN']]}),\n",
       " ('Clear distinctions between strain I-24T and S. agri KCTC 52727T or S. terrae KCTC 52035T were shown in the pairwise average nucleotide identity results with values of 76.71 and 74.01\\u200a%, respectively.\\r',\n",
       "  {'entities': [[34, 39, 'STRAIN'], [52, 63, 'STRAIN'], [77, 88, 'STRAIN']]}),\n",
       " ('The type strain, I-24T (DSM 111055T=KCTC 72613T), was isolated from a soil sample collected in a natural salt meadow near Bad Endbach, Hessen, Germany.\\r',\n",
       "  {'entities': [[17, 22, 'STRAIN'], [24, 35, 'STRAIN'], [36, 47, 'STRAIN']]}),\n",
       " ('The 16S rRNA gene sequence and the whole genome sequence of the strain KUDC8001T have been deposited in GenBank/EMBL/DDBJ under accession numbers MT680409 and CP055152-CP055153.\\r',\n",
       "  {'entities': [[71, 80, 'STRAIN']]}),\n",
       " ('The GenBank/EMBL/DDBJ accession number for the 16S rRNA gene sequence of strain A18JL241T is OR603944.\\r',\n",
       "  {'entities': [[80, 89, 'STRAIN']]}),\n",
       " ('Based upon the data of polyphasic characterization obtained in the present study, a novel species, Lactiplantibacillus paraxiangfangensis sp. nov., is proposed and the type strain is 231-9T (=JCM 36258T=CCTCC AB 2023133T).\\r',\n",
       "  {'entities': [[183, 189, 'STRAIN'],\n",
       "    [192, 202, 'STRAIN'],\n",
       "    [203, 220, 'STRAIN']]}),\n",
       " ('The type strain, MSK294T (=DSM 117171T=JCM 36673T), was isolated from a nasopharyngeal swab collected in April 2019 from an 11-month-old female infant in a rural area near Gaborone, Botswana (latitude: 24.647728, longitude: 25.824646).\\r',\n",
       "  {'entities': [[17, 24, 'STRAIN'], [27, 38, 'STRAIN'], [39, 49, 'STRAIN']]}),\n",
       " ('The partial 16S rRNA gene sequence of strain MSK294T is available in GenBank (accession number: PP193857).\\r',\n",
       "  {'entities': [[45, 52, 'STRAIN']]}),\n",
       " ('The GenBank accession numbers for the genomic sequences of the D. savutiense sp. nov. strains described in this study are GCA_039830105.1 (MSK211), GCA_039830095.1 (MSK294T=DSM 117171T=JCM 36673T), GCA_039830085.1 (MSK312), and GCA_039830075.1 (MSK433).\\r',\n",
       "  {'entities': [[139, 145, 'STRAIN'],\n",
       "    [165, 172, 'STRAIN'],\n",
       "    [173, 184, 'STRAIN'],\n",
       "    [185, 195, 'STRAIN'],\n",
       "    [215, 221, 'STRAIN'],\n",
       "    [245, 251, 'STRAIN']]}),\n",
       " ('The type strain is SP2S1-2T (CCUG 76457T=CECT 30688T), isolated from sediments collected in Vaxholm, Sweden.\\r',\n",
       "  {'entities': [[19, 27, 'STRAIN'], [29, 40, 'STRAIN'], [41, 52, 'STRAIN']]}),\n",
       " ('The type strain is SP1S1-4T (CCUG 76453T=CECT 30684T), isolated from sediments collected in Vaxholm, Sweden.',\n",
       "  {'entities': [[19, 27, 'STRAIN'], [29, 40, 'STRAIN'], [41, 52, 'STRAIN']]})]"
      ]
     },
     "execution_count": 4,
     "metadata": {},
     "output_type": "execute_result"
    }
   ],
   "source": [
    "train_data"
   ]
  },
  {
   "cell_type": "code",
   "execution_count": 5,
   "id": "5c27af5a",
   "metadata": {},
   "outputs": [],
   "source": [
    "for i in train_data:\n",
    "    if i[1]['entities'] == []:\n",
    "        i[1]['entities'] = (0, 0, entity_name)\n",
    "    else:\n",
    "        i[1]['entities'][0] = tuple(i[1]['entities'][0])"
   ]
  },
  {
   "cell_type": "code",
   "execution_count": 6,
   "id": "73fb1ff7",
   "metadata": {},
   "outputs": [
    {
     "data": {
      "text/plain": [
       "[('A Gram-stain-negative bacterium, designated I-24T, was isolated from soil of a natural salt meadow.\\r',\n",
       "  {'entities': [(44, 49, 'STRAIN')]}),\n",
       " ('Comparative 16S rRNA gene analysis indicated that strain I-24T has closest similarities to Spirosoma agri KCTC 52727T (95.9\\u200a%) and Spirosoma terrae KCTC 52035T (95.5\\u200a%). \\r',\n",
       "  {'entities': [(57, 62, 'STRAIN'),\n",
       "    [106, 117, 'STRAIN'],\n",
       "    [148, 159, 'STRAIN']]}),\n",
       " ('The type strain is MJ115T (=KCTC 72237T=NBRC 113963T). \\r',\n",
       "  {'entities': [(19, 25, 'STRAIN'), [28, 39, 'STRAIN'], [40, 52, 'STRAIN']]}),\n",
       " ('Thus, Pareuzebyella sediminis gen. nov. sp. nov. is proposed with type strain S2-4-21T (=MCCC 1K03818T=KCTC 72152T), and another strain MT2-5-19 (=KCTC 72539=MCCC 1K03874).\\r',\n",
       "  {'entities': [(78, 86, 'STRAIN'),\n",
       "    [89, 102, 'STRAIN'],\n",
       "    [103, 114, 'STRAIN'],\n",
       "    [136, 144, 'STRAIN'],\n",
       "    [147, 157, 'STRAIN'],\n",
       "    [158, 170, 'STRAIN']]}),\n",
       " ('The whole genome shotgun projects of strain S2-4-21T and MT2-5-19 have been deposited at DDBJ/ENA/GenBank under the accessions of VTZS00000000 and VTZT00000000, respectively.\\r',\n",
       "  {'entities': [(44, 52, 'STRAIN'), [57, 65, 'STRAIN']]}),\n",
       " ('The type strain is KUDC8001T (=KCTC 82078T=CGMCC 1.18475T) that was isolated from the rhizospheric soil collected from the Dokdo Islands, Republic of Korea.\\r',\n",
       "  {'entities': [(19, 28, 'STRAIN'), [31, 42, 'STRAIN'], [43, 57, 'STRAIN']]}),\n",
       " ('Clear distinctions between strain I-24T and S. agri KCTC 52727T or S. terrae KCTC 52035T were shown in the pairwise average nucleotide identity results with values of 76.71 and 74.01\\u200a%, respectively.\\r',\n",
       "  {'entities': [(34, 39, 'STRAIN'), [52, 63, 'STRAIN'], [77, 88, 'STRAIN']]}),\n",
       " ('The type strain, I-24T (DSM 111055T=KCTC 72613T), was isolated from a soil sample collected in a natural salt meadow near Bad Endbach, Hessen, Germany.\\r',\n",
       "  {'entities': [(17, 22, 'STRAIN'), [24, 35, 'STRAIN'], [36, 47, 'STRAIN']]}),\n",
       " ('The 16S rRNA gene sequence and the whole genome sequence of the strain KUDC8001T have been deposited in GenBank/EMBL/DDBJ under accession numbers MT680409 and CP055152-CP055153.\\r',\n",
       "  {'entities': [(71, 80, 'STRAIN')]}),\n",
       " ('The GenBank/EMBL/DDBJ accession number for the 16S rRNA gene sequence of strain A18JL241T is OR603944.\\r',\n",
       "  {'entities': [(80, 89, 'STRAIN')]}),\n",
       " ('Based upon the data of polyphasic characterization obtained in the present study, a novel species, Lactiplantibacillus paraxiangfangensis sp. nov., is proposed and the type strain is 231-9T (=JCM 36258T=CCTCC AB 2023133T).\\r',\n",
       "  {'entities': [(183, 189, 'STRAIN'),\n",
       "    [192, 202, 'STRAIN'],\n",
       "    [203, 220, 'STRAIN']]}),\n",
       " ('The type strain, MSK294T (=DSM 117171T=JCM 36673T), was isolated from a nasopharyngeal swab collected in April 2019 from an 11-month-old female infant in a rural area near Gaborone, Botswana (latitude: 24.647728, longitude: 25.824646).\\r',\n",
       "  {'entities': [(17, 24, 'STRAIN'), [27, 38, 'STRAIN'], [39, 49, 'STRAIN']]}),\n",
       " ('The partial 16S rRNA gene sequence of strain MSK294T is available in GenBank (accession number: PP193857).\\r',\n",
       "  {'entities': [(45, 52, 'STRAIN')]}),\n",
       " ('The GenBank accession numbers for the genomic sequences of the D. savutiense sp. nov. strains described in this study are GCA_039830105.1 (MSK211), GCA_039830095.1 (MSK294T=DSM 117171T=JCM 36673T), GCA_039830085.1 (MSK312), and GCA_039830075.1 (MSK433).\\r',\n",
       "  {'entities': [(139, 145, 'STRAIN'),\n",
       "    [165, 172, 'STRAIN'],\n",
       "    [173, 184, 'STRAIN'],\n",
       "    [185, 195, 'STRAIN'],\n",
       "    [215, 221, 'STRAIN'],\n",
       "    [245, 251, 'STRAIN']]}),\n",
       " ('The type strain is SP2S1-2T (CCUG 76457T=CECT 30688T), isolated from sediments collected in Vaxholm, Sweden.\\r',\n",
       "  {'entities': [(19, 27, 'STRAIN'), [29, 40, 'STRAIN'], [41, 52, 'STRAIN']]}),\n",
       " ('The type strain is SP1S1-4T (CCUG 76453T=CECT 30684T), isolated from sediments collected in Vaxholm, Sweden.',\n",
       "  {'entities': [(19, 27, 'STRAIN'), [29, 40, 'STRAIN'], [41, 52, 'STRAIN']]})]"
      ]
     },
     "execution_count": 6,
     "metadata": {},
     "output_type": "execute_result"
    }
   ],
   "source": [
    "train_data"
   ]
  },
  {
   "cell_type": "code",
   "execution_count": null,
   "id": "92ecf385",
   "metadata": {},
   "outputs": [],
   "source": []
  },
  {
   "cell_type": "code",
   "execution_count": 8,
   "id": "cf866a08",
   "metadata": {},
   "outputs": [
    {
     "name": "stderr",
     "output_type": "stream",
     "text": [
      "100%|██████████████████████████████████████████████████████████████████████████████████████████████████████████████████████████████████████████████████████████| 16/16 [00:00<00:00, 1755.08it/s]\n"
     ]
    }
   ],
   "source": [
    "import os\n",
    "from tqdm import tqdm\n",
    "from spacy.tokens import DocBin\n",
    "\n",
    "nlp = spacy.blank(\"en\") # load a new spacy model\n",
    "#nlp = spacy.load(\"en_core_web_md\") # load other spacy model\n",
    "\n",
    "db = DocBin() # create a DocBin object\n",
    "\n",
    "for text, annot in tqdm(train_data): # data in previous format\n",
    "    doc = nlp.make_doc(text) # create doc object from text\n",
    "    ents = []\n",
    "    for start, end, label in annot[\"entities\"]: # add character indexes\n",
    "        span = doc.char_span(start, end, label=label, alignment_mode=\"contract\")\n",
    "        if span is None:\n",
    "            print(\"Skipping entity\")\n",
    "        else:\n",
    "            ents.append(span)\n",
    "    doc.ents = ents # label the text with the ents\n",
    "    db.add(doc)\n",
    "\n",
    "#os.chdir(r'XXXX\\XXXXX')\n",
    "db.to_disk(\"./dev.spacy\") # save the docbin object"
   ]
  },
  {
   "cell_type": "markdown",
   "id": "8afebbc5",
   "metadata": {},
   "source": [
    "### train the model at command line\n",
    "python -m spacy train config.cfg --output ./output --paths.train ./train.spacy --paths.dev ./train.spacy "
   ]
  },
  {
   "cell_type": "markdown",
   "id": "60f66290",
   "metadata": {},
   "source": [
    "### testing the model and the function code"
   ]
  },
  {
   "cell_type": "code",
   "execution_count": 26,
   "id": "f0d5b641",
   "metadata": {},
   "outputs": [],
   "source": [
    "text2 = (\"The type strain is 2205BS29-5T (=LMG 33062T =KACC 23240T), which is isolated from a marine sponge, P. elegans, \"\n",
    "\"collected from Beomseom in Jeju-Island, Republic of Korea.\"\n",
    "\n",
    "\"The DNA G+C content of strain 2205BS29-5T is 67.8%. The GenBank accession numbers for the 16S rRNA gene and\" \n",
    "\"whole-genome sequences of strain 2205BS29-5T are OQ569368 and JAVAMQ000000000, respectively.\")"
   ]
  },
  {
   "cell_type": "code",
   "execution_count": 28,
   "id": "55388e21",
   "metadata": {},
   "outputs": [],
   "source": [
    "text3 = (\"The type strain is MJ115T (=KCTC 72237T=NBRC 113963T).\")"
   ]
  },
  {
   "cell_type": "code",
   "execution_count": 31,
   "id": "ef990078",
   "metadata": {},
   "outputs": [
    {
     "data": {
      "text/html": [
       "<span class=\"tex2jax_ignore\"><div class=\"entities\" style=\"line-height: 2.5; direction: ltr\">The type strain is \n",
       "<mark class=\"entity\" style=\"background: #ddd; padding: 0.45em 0.6em; margin: 0 0.25em; line-height: 1; border-radius: 0.35em;\">\n",
       "    2205BS29-5T\n",
       "    <span style=\"font-size: 0.8em; font-weight: bold; line-height: 1; border-radius: 0.35em; vertical-align: middle; margin-left: 0.5rem\">STRAIN</span>\n",
       "</mark>\n",
       " (=\n",
       "<mark class=\"entity\" style=\"background: #ddd; padding: 0.45em 0.6em; margin: 0 0.25em; line-height: 1; border-radius: 0.35em;\">\n",
       "    LMG 33062T\n",
       "    <span style=\"font-size: 0.8em; font-weight: bold; line-height: 1; border-radius: 0.35em; vertical-align: middle; margin-left: 0.5rem\">STRAIN</span>\n",
       "</mark>\n",
       " =\n",
       "<mark class=\"entity\" style=\"background: #ddd; padding: 0.45em 0.6em; margin: 0 0.25em; line-height: 1; border-radius: 0.35em;\">\n",
       "    KACC 23240T\n",
       "    <span style=\"font-size: 0.8em; font-weight: bold; line-height: 1; border-radius: 0.35em; vertical-align: middle; margin-left: 0.5rem\">STRAIN</span>\n",
       "</mark>\n",
       "), which is isolated from a marine sponge, P. elegans, collected from Beomseom in Jeju-Island, Republic of Korea.The DNA G+C content of strain \n",
       "<mark class=\"entity\" style=\"background: #ddd; padding: 0.45em 0.6em; margin: 0 0.25em; line-height: 1; border-radius: 0.35em;\">\n",
       "    2205BS29-5T\n",
       "    <span style=\"font-size: 0.8em; font-weight: bold; line-height: 1; border-radius: 0.35em; vertical-align: middle; margin-left: 0.5rem\">STRAIN</span>\n",
       "</mark>\n",
       " is 67.8%. The GenBank accession numbers for the 16S rRNA gene andwhole-genome sequences of strain \n",
       "<mark class=\"entity\" style=\"background: #ddd; padding: 0.45em 0.6em; margin: 0 0.25em; line-height: 1; border-radius: 0.35em;\">\n",
       "    2205BS29-5T\n",
       "    <span style=\"font-size: 0.8em; font-weight: bold; line-height: 1; border-radius: 0.35em; vertical-align: middle; margin-left: 0.5rem\">STRAIN</span>\n",
       "</mark>\n",
       " are OQ569368 and JAVAMQ000000000, respectively.</div></span>"
      ],
      "text/plain": [
       "<IPython.core.display.HTML object>"
      ]
     },
     "metadata": {},
     "output_type": "display_data"
    }
   ],
   "source": [
    "nlp1 = spacy.load(r\"./output/model-best\") #load the best model\n",
    "doc = nlp1(text2)\n",
    "from spacy import displacy\n",
    "displacy.render(doc, style=\"ent\")\n"
   ]
  },
  {
   "cell_type": "markdown",
   "id": "2223ca7d",
   "metadata": {},
   "source": [
    "### testing how to extract strains"
   ]
  },
  {
   "cell_type": "code",
   "execution_count": 10,
   "id": "4804c483",
   "metadata": {},
   "outputs": [],
   "source": [
    "# Find named entities, phrases and concepts\n",
    "\n",
    "#strains = []\n",
    "for entity in doc.ents:\n",
    "    #print(entity.text)\n",
    "    strains = entity.text\n",
    "    print(strains)"
   ]
  },
  {
   "cell_type": "code",
   "execution_count": 16,
   "id": "54c0b4f0",
   "metadata": {},
   "outputs": [
    {
     "ename": "ValueError",
     "evalue": "[E966] `nlp.add_pipe` now takes the string name of the registered component factory, not a callable component. Expected string, but got <spacy.pipeline.sentencizer.Sentencizer object at 0x7f77d48b6bc0> (name: 'None').\n\n- If you created your component with `nlp.create_pipe('name')`: remove nlp.create_pipe and call `nlp.add_pipe('name')` instead.\n\n- If you passed in a component like `TextCategorizer()`: call `nlp.add_pipe` with the string name instead, e.g. `nlp.add_pipe('textcat')`.\n\n- If you're using a custom component: Add the decorator `@Language.component` (for function components) or `@Language.factory` (for class components / factories) to your custom component and assign it a name, e.g. `@Language.component('your_name')`. You can then run `nlp.add_pipe('your_name')` to add it to the pipeline.",
     "output_type": "error",
     "traceback": [
      "\u001b[0;31m---------------------------------------------------------------------------\u001b[0m",
      "\u001b[0;31mValueError\u001b[0m                                Traceback (most recent call last)",
      "Cell \u001b[0;32mIn[16], line 2\u001b[0m\n\u001b[1;32m      1\u001b[0m \u001b[38;5;28;01mfrom\u001b[39;00m \u001b[38;5;21;01mspacy\u001b[39;00m\u001b[38;5;21;01m.\u001b[39;00m\u001b[38;5;21;01mmatcher\u001b[39;00m \u001b[38;5;28;01mimport\u001b[39;00m PhraseMatcher\n\u001b[0;32m----> 2\u001b[0m \u001b[43mnlp\u001b[49m\u001b[38;5;241;43m.\u001b[39;49m\u001b[43madd_pipe\u001b[49m\u001b[43m(\u001b[49m\u001b[43mnlp\u001b[49m\u001b[38;5;241;43m.\u001b[39;49m\u001b[43mcreate_pipe\u001b[49m\u001b[43m(\u001b[49m\u001b[38;5;124;43m'\u001b[39;49m\u001b[38;5;124;43msentencizer\u001b[39;49m\u001b[38;5;124;43m'\u001b[39;49m\u001b[43m)\u001b[49m\u001b[43m)\u001b[49m\n\u001b[1;32m      3\u001b[0m nlp\u001b[38;5;241m.\u001b[39madd_pipe(\u001b[38;5;124m'\u001b[39m\u001b[38;5;124msentencizer\u001b[39m\u001b[38;5;124m'\u001b[39m)\n\u001b[1;32m      5\u001b[0m strains \u001b[38;5;241m=\u001b[39m []\n",
      "File \u001b[0;32m~/jup/lib/python3.9/site-packages/spacy/language.py:810\u001b[0m, in \u001b[0;36mLanguage.add_pipe\u001b[0;34m(self, factory_name, name, before, after, first, last, source, config, raw_config, validate)\u001b[0m\n\u001b[1;32m    808\u001b[0m     bad_val \u001b[38;5;241m=\u001b[39m \u001b[38;5;28mrepr\u001b[39m(factory_name)\n\u001b[1;32m    809\u001b[0m     err \u001b[38;5;241m=\u001b[39m Errors\u001b[38;5;241m.\u001b[39mE966\u001b[38;5;241m.\u001b[39mformat(component\u001b[38;5;241m=\u001b[39mbad_val, name\u001b[38;5;241m=\u001b[39mname)\n\u001b[0;32m--> 810\u001b[0m     \u001b[38;5;28;01mraise\u001b[39;00m \u001b[38;5;167;01mValueError\u001b[39;00m(err)\n\u001b[1;32m    811\u001b[0m name \u001b[38;5;241m=\u001b[39m name \u001b[38;5;28;01mif\u001b[39;00m name \u001b[38;5;129;01mis\u001b[39;00m \u001b[38;5;129;01mnot\u001b[39;00m \u001b[38;5;28;01mNone\u001b[39;00m \u001b[38;5;28;01melse\u001b[39;00m factory_name\n\u001b[1;32m    812\u001b[0m \u001b[38;5;28;01mif\u001b[39;00m name \u001b[38;5;129;01min\u001b[39;00m \u001b[38;5;28mself\u001b[39m\u001b[38;5;241m.\u001b[39mcomponent_names:\n",
      "\u001b[0;31mValueError\u001b[0m: [E966] `nlp.add_pipe` now takes the string name of the registered component factory, not a callable component. Expected string, but got <spacy.pipeline.sentencizer.Sentencizer object at 0x7f77d48b6bc0> (name: 'None').\n\n- If you created your component with `nlp.create_pipe('name')`: remove nlp.create_pipe and call `nlp.add_pipe('name')` instead.\n\n- If you passed in a component like `TextCategorizer()`: call `nlp.add_pipe` with the string name instead, e.g. `nlp.add_pipe('textcat')`.\n\n- If you're using a custom component: Add the decorator `@Language.component` (for function components) or `@Language.factory` (for class components / factories) to your custom component and assign it a name, e.g. `@Language.component('your_name')`. You can then run `nlp.add_pipe('your_name')` to add it to the pipeline."
     ]
    }
   ],
   "source": [
    "from spacy.matcher import PhraseMatcher\n",
    "nlp.add_pipe(nlp.create_pipe('sentencizer'))\n",
    "nlp.add_pipe('sentencizer')\n",
    "\n",
    "strains = []\n",
    "\n",
    "for sent in doc.sents:\n",
    "    print(sent.text)\n",
    "\n",
    "for entity in doc.ents:\n",
    "    if entity.text not in strains:\n",
    "        strains.append(entity.text)\n",
    "\n",
    "print(strains)\n"
   ]
  },
  {
   "cell_type": "code",
   "execution_count": 15,
   "id": "06c33c1c",
   "metadata": {},
   "outputs": [],
   "source": [
    "def find_strains(description):\n",
    "    strains = []\n",
    "    nlp1 = spacy.load(r\"./output/model-best\") #load the best model\n",
    "    description = description.replace('\\u2009', ' ')\n",
    "    doc = nlp1(description)\n",
    "    for entity in doc.ents:\n",
    "        if entity.text not in strains:\n",
    "            strains.append(entity.text)\n",
    "    return strains"
   ]
  },
  {
   "cell_type": "code",
   "execution_count": 16,
   "id": "a65a1ff1",
   "metadata": {},
   "outputs": [
    {
     "ename": "NameError",
     "evalue": "name 'strains' is not defined",
     "output_type": "error",
     "traceback": [
      "\u001b[0;31m---------------------------------------------------------------------------\u001b[0m",
      "\u001b[0;31mNameError\u001b[0m                                 Traceback (most recent call last)",
      "Cell \u001b[0;32mIn[16], line 2\u001b[0m\n\u001b[1;32m      1\u001b[0m find_strains(text3)\n\u001b[0;32m----> 2\u001b[0m \u001b[38;5;28mprint\u001b[39m(\u001b[38;5;124m'\u001b[39m\u001b[38;5;124mstrain names\u001b[39m\u001b[38;5;124m'\u001b[39m, \u001b[43mstrains\u001b[49m)\n",
      "\u001b[0;31mNameError\u001b[0m: name 'strains' is not defined"
     ]
    }
   ],
   "source": [
    "find_strains(text3)\n",
    "print('strain names', strains)"
   ]
  },
  {
   "cell_type": "code",
   "execution_count": null,
   "id": "2db1fd97",
   "metadata": {},
   "outputs": [],
   "source": []
  },
  {
   "cell_type": "code",
   "execution_count": 17,
   "id": "96478841",
   "metadata": {},
   "outputs": [
    {
     "name": "stdout",
     "output_type": "stream",
     "text": [
      "This is a strain sentence.\n",
      "This is another sentence.\n"
     ]
    }
   ],
   "source": [
    "nlp = spacy.load(\"en_core_web_sm\")\n",
    "doc = nlp(\"This is a strain sentence. This is another sentence.\")\n",
    "#strainpattern = [r'(?<=strain).*'] \n",
    "assert doc.has_annotation(\"SENT_START\")\n",
    "for sent in doc.sents:\n",
    "    print(sent.text)"
   ]
  },
  {
   "cell_type": "code",
   "execution_count": 18,
   "id": "efb63b1e",
   "metadata": {},
   "outputs": [
    {
     "name": "stdout",
     "output_type": "stream",
     "text": [
      "16903404304154878905 STRAIN 1 3 type strain\n"
     ]
    }
   ],
   "source": [
    "nlp = spacy.load(\"en_core_web_sm\")\n",
    "from spacy.matcher import PhraseMatcher\n",
    "phrase_matcher = PhraseMatcher(nlp.vocab)\n",
    "\n",
    "phrases = ['type strain']\n",
    "\n",
    "patterns = [nlp(text) for text in phrases]\n",
    "\n",
    "phrase_matcher.add('STRAIN', None, *patterns)\n",
    "\n",
    "sentence = nlp(text2)\n",
    "\n",
    "matched_phrases = phrase_matcher(sentence)\n",
    "\n",
    "for match_id, start, end in matched_phrases:\n",
    "    string_id = nlp.vocab.strings[match_id]  \n",
    "    span = sentence[start:end]                   \n",
    "    print(match_id, string_id, start, end, span.text)\n",
    "    #print(sentence.text)"
   ]
  },
  {
   "cell_type": "code",
   "execution_count": 23,
   "id": "1ebfdf0e",
   "metadata": {},
   "outputs": [
    {
     "name": "stdout",
     "output_type": "stream",
     "text": [
      "Comparative 16S rRNA gene analysis indicated that strain I-24T has closest similarities to Spirosoma agri KCTC 52727T (95.9 %) and Spirosoma terrae KCTC 52035T (95.5 %).The\n"
     ]
    },
    {
     "data": {
      "text/html": [
       "<span class=\"tex2jax_ignore\"><div class=\"entities\" style=\"line-height: 2.5; direction: ltr\">Comparative 16S rRNA gene analysis indicated that strain I-24T has closest similarities to Spirosoma agri KCTC 52727T (95.9 %) and Spirosoma terrae KCTC 52035T (95.5 %).The</div></span>"
      ],
      "text/plain": [
       "<IPython.core.display.HTML object>"
      ]
     },
     "metadata": {},
     "output_type": "display_data"
    },
    {
     "name": "stdout",
     "output_type": "stream",
     "text": [
      "type strain is MJ115T (=KCTC 72237T\n"
     ]
    },
    {
     "data": {
      "text/html": [
       "<span class=\"tex2jax_ignore\"><div class=\"entities\" style=\"line-height: 2.5; direction: ltr\">type strain is MJ115T (=KCTC 72237T</div></span>"
      ],
      "text/plain": [
       "<IPython.core.display.HTML object>"
      ]
     },
     "metadata": {},
     "output_type": "display_data"
    },
    {
     "name": "stdout",
     "output_type": "stream",
     "text": [
      "=NBRC 113963T).Thus, Pareuzebyella sediminis gen. nov. sp. nov. is proposed with type strain S2-4-21T (=MCCC 1K03818T\n"
     ]
    },
    {
     "data": {
      "text/html": [
       "<span class=\"tex2jax_ignore\"><div class=\"entities\" style=\"line-height: 2.5; direction: ltr\">=NBRC 113963T).Thus, Pareuzebyella sediminis gen. nov. sp. nov. is proposed with type strain S2-4-21T (=MCCC 1K03818T</div></span>"
      ],
      "text/plain": [
       "<IPython.core.display.HTML object>"
      ]
     },
     "metadata": {},
     "output_type": "display_data"
    },
    {
     "name": "stdout",
     "output_type": "stream",
     "text": [
      "=KCTC 72152T), and another strain MT2-5-19 (=KCTC 72539=MCCC 1K03874).The whole genome shotgun projects of strain S2-4-21T and MT2-5-19 have been deposited at DDBJ/ENA/GenBank under the accessions of VTZS00000000 and VTZT00000000, respectively.\n"
     ]
    },
    {
     "data": {
      "text/html": [
       "<span class=\"tex2jax_ignore\"><div class=\"entities\" style=\"line-height: 2.5; direction: ltr\">=KCTC 72152T), and another strain MT2-5-19 (=KCTC 72539=MCCC 1K03874).The whole genome shotgun projects of strain S2-4-21T and MT2-5-19 have been deposited at DDBJ/ENA/GenBank under the accessions of VTZS00000000 and VTZT00000000, respectively.</div></span>"
      ],
      "text/plain": [
       "<IPython.core.display.HTML object>"
      ]
     },
     "metadata": {},
     "output_type": "display_data"
    },
    {
     "name": "stdout",
     "output_type": "stream",
     "text": [
      "=KCTC 72152T), and another strain MT2-5-19 (=KCTC 72539=MCCC 1K03874).The whole genome shotgun projects of strain S2-4-21T and MT2-5-19 have been deposited at DDBJ/ENA/GenBank under the accessions of VTZS00000000 and VTZT00000000, respectively.\n"
     ]
    },
    {
     "data": {
      "text/html": [
       "<span class=\"tex2jax_ignore\"><div class=\"entities\" style=\"line-height: 2.5; direction: ltr\">=KCTC 72152T), and another strain MT2-5-19 (=KCTC 72539=MCCC 1K03874).The whole genome shotgun projects of strain S2-4-21T and MT2-5-19 have been deposited at DDBJ/ENA/GenBank under the accessions of VTZS00000000 and VTZT00000000, respectively.</div></span>"
      ],
      "text/plain": [
       "<IPython.core.display.HTML object>"
      ]
     },
     "metadata": {},
     "output_type": "display_data"
    },
    {
     "name": "stdout",
     "output_type": "stream",
     "text": [
      "The type strain is KUDC8001T (=KCTC 82078T=CGMCC 1.18475T) that was isolated from the rhizospheric soil collected from the Dokdo Islands, Republic of Korea.\n"
     ]
    },
    {
     "data": {
      "text/html": [
       "<span class=\"tex2jax_ignore\"><div class=\"entities\" style=\"line-height: 2.5; direction: ltr\">The type strain is KUDC8001T (=KCTC 82078T=CGMCC 1.18475T) that was isolated from the rhizospheric soil collected from the Dokdo Islands, Republic of Korea.</div></span>"
      ],
      "text/plain": [
       "<IPython.core.display.HTML object>"
      ]
     },
     "metadata": {},
     "output_type": "display_data"
    },
    {
     "name": "stdout",
     "output_type": "stream",
     "text": [
      "Clear distinctions between strain I-24T and S. agri KCTC 52727T or S. terrae KCTC 52035T were shown in the pairwise average nucleotide identity results with values of 76.71 and 74.01 %, respectively.\n"
     ]
    },
    {
     "data": {
      "text/html": [
       "<span class=\"tex2jax_ignore\"><div class=\"entities\" style=\"line-height: 2.5; direction: ltr\">Clear distinctions between strain I-24T and S. agri KCTC 52727T or S. terrae KCTC 52035T were shown in the pairwise average nucleotide identity results with values of 76.71 and 74.01 %, respectively.</div></span>"
      ],
      "text/plain": [
       "<IPython.core.display.HTML object>"
      ]
     },
     "metadata": {},
     "output_type": "display_data"
    },
    {
     "name": "stdout",
     "output_type": "stream",
     "text": [
      "The type strain, I-24T (DSM 111055T=KCTC 72613T), was isolated from a soil sample collected in a natural salt meadow near Bad Endbach, Hessen, Germany.\n"
     ]
    },
    {
     "data": {
      "text/html": [
       "<span class=\"tex2jax_ignore\"><div class=\"entities\" style=\"line-height: 2.5; direction: ltr\">The type strain, I-24T (DSM 111055T=KCTC 72613T), was isolated from a soil sample collected in a natural salt meadow near Bad Endbach, Hessen, Germany.</div></span>"
      ],
      "text/plain": [
       "<IPython.core.display.HTML object>"
      ]
     },
     "metadata": {},
     "output_type": "display_data"
    },
    {
     "name": "stdout",
     "output_type": "stream",
     "text": [
      "The 16S rRNA gene sequence and the whole genome sequence of the strain KUDC8001T have been deposited in GenBank/EMBL/DDBJ under accession numbers MT680409 and CP055152-CP055153.The GenBank/EMBL/DDBJ accession number for the 16S rRNA gene sequence of strain A18JL241T is OR603944.Based upon the data of polyphasic characterization obtained in the present study, a novel species, Lactiplantibacillus paraxiangfangensis sp. nov., is proposed and the type strain is 231-9T (=JCM 36258T=CCTCC AB 2023133T).\n"
     ]
    },
    {
     "data": {
      "text/html": [
       "<span class=\"tex2jax_ignore\"><div class=\"entities\" style=\"line-height: 2.5; direction: ltr\">The 16S rRNA gene sequence and the whole genome sequence of the strain KUDC8001T have been deposited in GenBank/EMBL/DDBJ under accession numbers MT680409 and CP055152-CP055153.The GenBank/EMBL/DDBJ accession number for the 16S rRNA gene sequence of strain A18JL241T is OR603944.Based upon the data of polyphasic characterization obtained in the present study, a novel species, Lactiplantibacillus paraxiangfangensis sp. nov., is proposed and the type strain is 231-9T (=JCM 36258T=CCTCC AB 2023133T).</div></span>"
      ],
      "text/plain": [
       "<IPython.core.display.HTML object>"
      ]
     },
     "metadata": {},
     "output_type": "display_data"
    },
    {
     "name": "stdout",
     "output_type": "stream",
     "text": [
      "The 16S rRNA gene sequence and the whole genome sequence of the strain KUDC8001T have been deposited in GenBank/EMBL/DDBJ under accession numbers MT680409 and CP055152-CP055153.The GenBank/EMBL/DDBJ accession number for the 16S rRNA gene sequence of strain A18JL241T is OR603944.Based upon the data of polyphasic characterization obtained in the present study, a novel species, Lactiplantibacillus paraxiangfangensis sp. nov., is proposed and the type strain is 231-9T (=JCM 36258T=CCTCC AB 2023133T).\n"
     ]
    },
    {
     "data": {
      "text/html": [
       "<span class=\"tex2jax_ignore\"><div class=\"entities\" style=\"line-height: 2.5; direction: ltr\">The 16S rRNA gene sequence and the whole genome sequence of the strain KUDC8001T have been deposited in GenBank/EMBL/DDBJ under accession numbers MT680409 and CP055152-CP055153.The GenBank/EMBL/DDBJ accession number for the 16S rRNA gene sequence of strain A18JL241T is OR603944.Based upon the data of polyphasic characterization obtained in the present study, a novel species, Lactiplantibacillus paraxiangfangensis sp. nov., is proposed and the type strain is 231-9T (=JCM 36258T=CCTCC AB 2023133T).</div></span>"
      ],
      "text/plain": [
       "<IPython.core.display.HTML object>"
      ]
     },
     "metadata": {},
     "output_type": "display_data"
    },
    {
     "name": "stdout",
     "output_type": "stream",
     "text": [
      "The 16S rRNA gene sequence and the whole genome sequence of the strain KUDC8001T have been deposited in GenBank/EMBL/DDBJ under accession numbers MT680409 and CP055152-CP055153.The GenBank/EMBL/DDBJ accession number for the 16S rRNA gene sequence of strain A18JL241T is OR603944.Based upon the data of polyphasic characterization obtained in the present study, a novel species, Lactiplantibacillus paraxiangfangensis sp. nov., is proposed and the type strain is 231-9T (=JCM 36258T=CCTCC AB 2023133T).\n"
     ]
    },
    {
     "data": {
      "text/html": [
       "<span class=\"tex2jax_ignore\"><div class=\"entities\" style=\"line-height: 2.5; direction: ltr\">The 16S rRNA gene sequence and the whole genome sequence of the strain KUDC8001T have been deposited in GenBank/EMBL/DDBJ under accession numbers MT680409 and CP055152-CP055153.The GenBank/EMBL/DDBJ accession number for the 16S rRNA gene sequence of strain A18JL241T is OR603944.Based upon the data of polyphasic characterization obtained in the present study, a novel species, Lactiplantibacillus paraxiangfangensis sp. nov., is proposed and the type strain is 231-9T (=JCM 36258T=CCTCC AB 2023133T).</div></span>"
      ],
      "text/plain": [
       "<IPython.core.display.HTML object>"
      ]
     },
     "metadata": {},
     "output_type": "display_data"
    }
   ],
   "source": [
    "from spacy.matcher import PhraseMatcher\n",
    "from spacy import displacy\n",
    "nlp = spacy.load(\"en_core_web_sm\")\n",
    "nlp1 = spacy.load(r\"./output/model-best\") #load the best model\n",
    "#text = (\"The cells were Gram-stain-negative, aerobic, non-endospore forming, rod shaped (0.7–0.8×1.0–2.0 µm) and motile by one or more polar flagella. The colonies were circular, smooth, beige and ~1.0–1.5 mm in diameter after 48 h of incubation on LB at 20 °C. No fluorescence was detected on King A or King B media plates. Growth occurred at 4–30 °C (optimum, 20–25 °C), pH 5.0–8.5 (optimum, pH 5.0–7.0) and 0–7.0% (w/v) NaCl [optimum, 0–1.0% (w/v) NaCl]. The cells were positive for catalase, arginine dihydrolase, lysine decarboxylase, ornithine decarboxylase, esterase (C8) and leucine arylamidase; the fermentation of glucose; the assimilation of glucose, arabinose, mannose, mannitol, potassium gluconate, capric acid, malate and trisodium citrate; the fermentation and oxidation of d-glucose and d-melibiose; the utilization of α-d-glucose, d-mannose, d-fructose, d-galactose, d-fucose, l-rhamnose, d-sorbitol, d-mannitol, d-arabitol, myo-inositol, glycerol, d-fructose-6-PO4, d-serine, l-aspartic acid, l-glutamic acid, l-pyroglutamic acid, d-galacturonic acid, l-galactonic acid lactone, d-gluconic acid, d-glucuronic acid, glucuronamide, mucic acid, d-saccharic acid, l-lactic acid, citric acid, α-keto-glutaric acid, l-malic acid, Tween 40, γ-amino-butyric acid, acetic acid and formic acid; and the hydrolysis of aesculin. The cells were weakly positive for alkaline phosphatase, esterase (C4), lipase (C14), valine arylamidase, acid phosphatase and naphthol-AS-BI-phosphohydrolase and for the fermentation of l-rhamnose and l-arabinose. The cells were negative for β-galactosidase, urease, tryptophane deaminase, gelatinase, oxidase, cystine arylamidase, trypsin, α-chymotrypsin, α-galactosidase, β-glucuronidase, α-glucosidase, β-glucosidase, N-acetyl-β-glucosaminidase, α-mannosidase and α-fucosidase; reduction of nitrates; H2S production; indole production; the Voges–Proskauer (VP) reaction; the assimilation of N-acetyl-glucosamine, maltose, adipic acid and phenylacetic acid; and fermentation or oxidation of d-mannitol, inositol, d-sorbitol, d-sucrose and amygdalin. The strain is able to grow in the presence of 1% sodium lactate, d-serine, rifamycin SV, lincomycin, Niaproof 4, vancomycin, tetrazolium blue and potassium tellurite. The strain was sensitive to fusidic acid, troleandomycin, minocycline, guanidine HCl, quinic acid, lithium chloride, sodium butyrate and sodium bromate. Other tests based on BioLog GEN III microplates produce negative or weak results. The major cellular fatty acids included summed feature 3 (C16 : 1 ω7c/C16 : 1 ω6c), C16 : 0 and summed feature 8 (C18 : 1 ω7c/C18 : 1 ω6c). The main respiratory quinones were Q-9 (57.5%) and Q-8 (37.2%), and the major polar lipids were DPG, PE and PG.The type strain BSw22131T (= CCTCC AB 2019135T = JCM 36635T = DSM 117336T) was isolated from seawater in Arctic Kongsfjorden of Ny-Ålesund, Svalbard. The DNA G+C content of the type strain was 58.2%. The NCBI GenBank accession number for the 16S rRNA gene sequence of strain BSw22131T is MF630609. The genome sequence of strain BSw22131T is CP113949.\")\n",
    "\n",
    "phrase_matcher = PhraseMatcher(nlp.vocab)\n",
    "phrases = ['strain']\n",
    "patterns = [nlp(text2) for text2 in phrases]\n",
    "phrase_matcher.add('STRAIN', None, *patterns)\n",
    "\n",
    "doc = nlp(text4)\n",
    "\n",
    "for sent in doc.sents:\n",
    "    check_text = []\n",
    "    for match_id, start, end in phrase_matcher(nlp(sent.text)):\n",
    "        if nlp.vocab.strings[match_id] in [\"STRAIN\"]:\n",
    "            print(sent.text)\n",
    "            #check_text = sent.text\n",
    "            #find_strains(check_text)\n",
    "            #print('strain names', strains)\n",
    "            doc = nlp1(sent.text)\n",
    "            displacy.render(doc, style=\"ent\")"
   ]
  },
  {
   "cell_type": "code",
   "execution_count": null,
   "id": "8c2ccc6f",
   "metadata": {},
   "outputs": [],
   "source": []
  },
  {
   "cell_type": "code",
   "execution_count": 21,
   "id": "eade3cdc",
   "metadata": {},
   "outputs": [],
   "source": [
    "text4 = (\"A Gram-stain-negative bacterium, designated I-24T, was isolated from soil of a natural salt meadow.\"\n",
    "\"Comparative 16S rRNA gene analysis indicated that strain I-24T has closest similarities to Spirosoma agri KCTC 52727T (95.9 %) and Spirosoma terrae KCTC 52035T (95.5 %).\"\n",
    "\"The type strain is MJ115T (=KCTC 72237T=NBRC 113963T).\"\n",
    "\"Thus, Pareuzebyella sediminis gen. nov. sp. nov. is proposed with type strain S2-4-21T (=MCCC 1K03818T=KCTC 72152T), and another strain MT2-5-19 (=KCTC 72539=MCCC 1K03874).\"\n",
    "\"The whole genome shotgun projects of strain S2-4-21T and MT2-5-19 have been deposited at DDBJ/ENA/GenBank under the accessions of VTZS00000000 and VTZT00000000, respectively.\"\n",
    "\"The type strain is KUDC8001T (=KCTC 82078T=CGMCC 1.18475T) that was isolated from the rhizospheric soil collected from the Dokdo Islands, Republic of Korea.\"\n",
    "\"Clear distinctions between strain I-24T and S. agri KCTC 52727T or S. terrae KCTC 52035T were shown in the pairwise average nucleotide identity results with values of 76.71 and 74.01 %, respectively.\"\n",
    "\"The type strain, I-24T (DSM 111055T=KCTC 72613T), was isolated from a soil sample collected in a natural salt meadow near Bad Endbach, Hessen, Germany.\"\n",
    "\"The 16S rRNA gene sequence and the whole genome sequence of the strain KUDC8001T have been deposited in GenBank/EMBL/DDBJ under accession numbers MT680409 and CP055152-CP055153.\"\n",
    "\"The GenBank/EMBL/DDBJ accession number for the 16S rRNA gene sequence of strain A18JL241T is OR603944.\"\n",
    "\"Based upon the data of polyphasic characterization obtained in the present study, a novel species, Lactiplantibacillus paraxiangfangensis sp. nov., is proposed and the type strain is 231-9T (=JCM 36258T=CCTCC AB 2023133T).\")"
   ]
  },
  {
   "cell_type": "code",
   "execution_count": 13,
   "id": "d1ac7cf4",
   "metadata": {},
   "outputs": [],
   "source": [
    "import spacy\n",
    "from spacy.tokens import DocBin\n",
    "\n",
    "nlp = spacy.blank(\"en\")  # or a language code, e.g. `en`\n",
    "doc_bin = DocBin().from_disk(\"train.spacy\")\n",
    "docs = list(doc_bin.get_docs(nlp.vocab))"
   ]
  },
  {
   "cell_type": "code",
   "execution_count": 14,
   "id": "bcb26a65",
   "metadata": {},
   "outputs": [
    {
     "name": "stdout",
     "output_type": "stream",
     "text": [
      "[]\n"
     ]
    }
   ],
   "source": [
    "print(docs)"
   ]
  },
  {
   "cell_type": "markdown",
   "id": "b4e6ece4",
   "metadata": {},
   "source": [
    "## This worked best with https://agateteam.org/spacynerannotate/ to create annotations and convert them into .spacy file that could be used for training. Also easy to add more data and combine files. "
   ]
  },
  {
   "cell_type": "code",
   "execution_count": 25,
   "id": "edb37977",
   "metadata": {},
   "outputs": [],
   "source": [
    "import spacy\n",
    "from spacy.training import Example\n",
    "from spacy.tokens import DocBin\n",
    "\n",
    "train_data = [(\"The bacterium grows at pH 5 and 8 and in broth containing up to 4% NaCl (w/v).\",{\"entities\":[]}),\n",
    "(\"Cell growth occurs between 4 and 37 C, with optimum growth observed between 26 and 29 C. \",{\"entities\":[]}),\n",
    "(\"They are negative for pectinolytic activity and elicit an HR in tobacco. \",{\"entities\":[]}),\n",
    "(\"Strains are levan-positive, oxidase-negative, and arginine-dihydrolase-negative. \",{\"entities\":[]}),\n",
    "(\"The colonies are smooth and circular in shape, 0.51.0 mm diameter after incubation in 28 C for 24 h on NA medium. \",{\"entities\":[]}),\n",
    "(\"They are fluorescent on Kings medium B agar and are oxidase-negative. \",{\"entities\":[]}),\n",
    "(\"The cells are Gram-negative, rod-shaped (22.5 m long and 1 m wide), and exhibit a lophotrichous flagellar arrangement. \",{\"entities\":[]}),\n",
    "(\"Pseudomonas fragariae (fra.gari.ae. L. gen. n. fragariae, pertaining to Fragaria the host genus where the strains were first isolated). \",{\"entities\":[]}),\n",
    "(\"Description of Pseudomonas fragariae sp. nov. \",{\"entities\":[]}),\n",
    "(\"The type strain is BiBT (=NCIMB 15516T =ATCC TSD-402T) isolated from a wild-caught Drosophila sp. in Austin, Texas, USA. \",{\"entities\":[(19,23,\"STRAIN\"),(26,38,\"STRAIN\"),(40,53,\"STRAIN\")]}),\n",
    "(\"Another strain of this species, lpD03 (=NCIMB 15519=ATCC BAA-3339), was isolated from a wild-caught Drosophila meridiana in Austin, Texas, USA. \",{\"entities\":[(32,37,\"STRAIN\"),(40,51,\"STRAIN\"),(52,65,\"STRAIN\")]}),\n",
    "(\"The type strain is lpD02T (=NCIMB 15518T =ATCC TSD-400T) isolated from wild-caught Drosophila cardini in Austin, Texas, USA. \",{\"entities\":[(19,25,\"STRAIN\"),(28,40,\"STRAIN\"),(42,55,\"STRAIN\")]}),\n",
    "(\"The type strain is lpD01T (=NCIMB 15517T =ATCC TSD-399T) isolated from a wild-caught Neogriphoneura sordida in Austin, Texas, USA. \",{\"entities\":[(19,25,\"STRAIN\"),(28,40,\"STRAIN\"),(42,55,\"STRAIN\")]}),\n",
    "(\"The type strain is Nd2T (=NCIMB 15249T=DSM 110863T), which was isolated from an acidic sulphate paddy soil (pH 4.7) sampled in Taishan County, Guangdong Province in southern PR China. \",{\"entities\":[(19,23,\"STRAIN\"),(26,38,\"STRAIN\"),(39,50,\"STRAIN\")]}),\n",
    "(\"The type strain is Nd1T (=NCIMB 15248T=DSM 110862T), which was isolated from an acidic (pH 4.5) agricultural soil located near Aberdeen (Scotland, UK). \",{\"entities\":[(19,23,\"STRAIN\"),(26,38,\"STRAIN\"),(39,50,\"STRAIN\")]}),\n",
    "(\"It was preserved in a metabolically inactive state, such as in JCM 36749 (=CBS 18615=NBRC 116660). \",{\"entities\":[(63,72,\"STRAIN\"),(75,84,\"STRAIN\"),(85,96,\"STRAIN\")]}),\n",
    "(\"The type strain, R7T (=GDMCC 1.4459T=KCTC 25860T), was isolated from the intestinal contents of plateau pika (Ochotona curzoniae) from the Qinghai-Tibet Plateau, PR China. \",{\"entities\":[(17,20,\"STRAIN\"),(23,36,\"STRAIN\"),(37,48,\"STRAIN\")]}),\n",
    "(\"Strain RC-2-3T was deposited to CChRGM and BCCM/LMG with entry numbers RGM 3538 and LMG 33620, respectively. \",{\"entities\":[(7,14,\"STRAIN\"),(71,79,\"STRAIN\"),(84,93,\"STRAIN\")]}),\n",
    "(\"The type strain is RC-2-3T, isolated from a soil sample from Union Glacier in the Ellsworth Mountains, Antarctica. \",{\"entities\":[(19,26,\"STRAIN\")]}),\n",
    "(\"Cells of strain RC-2-3T are Gram-positive coccobacilli, aerobic, 1.61.9 m long and 0.81.0 m wide. \",{\"entities\":[(16,23,\"STRAIN\")]}),\n",
    "(\"Strain EXRC-4A-4T was deposited to CChRGM and BCCM/LMG with entry numbers RGM 3539 and LMG 33621, respectively. \",{\"entities\":[(7,17,\"STRAIN\"),(74,82,\"STRAIN\"),(87,96,\"STRAIN\")]}),\n",
    "(\"The GenBank accession number for the 16S rRNA and whole genome sequences of strain EXRC-4A-4T are OR789622 and JBBPCN000000000, respectively. \",{\"entities\":[(83,93,\"STRAIN\")]}),\n",
    "(\"The type strain is EXRC-4A-4T, isolated from a soil sample from Union Glacier in the Ellsworth Mountains, Antarctica. \",{\"entities\":[(19,29,\"STRAIN\")]}),\n",
    "(\"The GenBank/EMBL/DDBJ accession numbers for the 16S rRNA gene and the whole genome sequences of strain R-7T are OR350921 and JAUYVI000000000, respectively. \",{\"entities\":[(103,107,\"STRAIN\")]}),\n",
    "(\"The type strain, R-7T (KCTC 8082T=MCCC 1K08805T), was isolated from sediment of Chengnan River in Wuxi city, Jiangsu Province, PR China. \",{\"entities\":[(17,21,\"STRAIN\"),(23,33,\"STRAIN\"),(34,47,\"STRAIN\")]}),\n",
    "(\"The GenBank/EMBL/DDBJ accession numbers for the 16S rRNA gene and genome sequences of strain C22-A2T are OR857398 and JARZFX000000000, respectively. \",{\"entities\":[(93,100,\"STRAIN\")]}),\n",
    "(\"The type strain, C22-A2T (=CGMCC 1.19202T=KCTC 43426T), was isolated from a water sample of salt lake LungmuCo in Tibet, PR China. \",{\"entities\":[(17,24,\"STRAIN\"),(27,41,\"STRAIN\"),(42,53,\"STRAIN\")]}),\n",
    "(\"The GenBank accession numbers of the 16S rRNA gene and whole genome sequences of strain MI-GT are ON849098 and CP098023, respectively. \",{\"entities\":[(88,93,\"STRAIN\")]}),\n",
    "(\"The type strain, MI-GT (=MCCC 1K07826T=KCTC 8081T), was isolated from a sample of marine sponge Diacarnus erythraeanus, collected from mesophotic and shallow reefs in front of the interuniversity institute for marine sciences in Eilat, Israel. \",{\"entities\":[(17,22,\"STRAIN\"),(25,38,\"STRAIN\"),(39,49,\"STRAIN\")]}),\n",
    "(\"The 16S rRNA gene sequence and draft genome sequence of NKW57T have been deposited in the GenBank/ENA/DDBJ databanks under the accession numbers OQ678879 and BSYJ00000000, respectively. \",{\"entities\":[(56,62,\"STRAIN\")]}),\n",
    "(\"The type strain NKW57T (=JCM 36221T=KCTC 8063T) was isolated from the tissue of a brittle star, Ophioplocus japonicus, which was captured in a tidal poor at Wakayama, Japan. \",{\"entities\":[(16,22,\"STRAIN\"),(25,35,\"STRAIN\"),(36,46,\"STRAIN\")]}),\n",
    "(\"The type strain NKW23T (= JCM 36220T =KCTC 8062T) was isolated from the tissue of the brittle star, Ophioplocus japonicus, which was captured from a tidal pool in Wakayama, Japan. \",{\"entities\":[(16,22,\"STRAIN\"),(26,36,\"STRAIN\"),(38,48,\"STRAIN\")]}),\n",
    "(\"The type strain is TK19130T (=CGMCC 1.18993T=JCM 35842T=MCCC M28200T). \",{\"entities\":[(19,27,\"STRAIN\"),(30,44,\"STRAIN\"),(45,55,\"STRAIN\"),(56,68,\"STRAIN\")]}),\n",
    "(\"The Whole Genome Shotgun project of strain Spencermartinsiella nicolii UFMG-CM-Y3197 has been deposited at DDBJ/ENA/GenBank under accession JBCNYE000000000. \",{\"entities\":[(71,84,\"STRAIN\")]}),\n",
    "(\"The type strain is SW105T (=CGMCC 1.10825T=JCM 18132T). \",{\"entities\":[(19,25,\"STRAIN\"),(28,42,\"STRAIN\"),(43,53,\"STRAIN\")]}),\n",
    "(\"The type strain, CC-R104T (=LMG 33233T=UCCCB 171T), was isolated from the tissues of the red macroalgae Chondrus crispus collected on the northern Portuguese coast. \",{\"entities\":[(17,25,\"STRAIN\"),(28,38,\"STRAIN\"),(39,49,\"STRAIN\")]}),\n",
    "(\"The type strain, CT-R113T (=LMG 33234T=UCCCB 172T), was isolated from the tissues of the macroalgae Codium tomentosum collected on the northern Portuguese coast. \",{\"entities\":[(17,25,\"STRAIN\"),(28,38,\"STRAIN\"),(39,49,\"STRAIN\")]}),\n",
    "(\"The type strain is 2-15T (=KCTC 39525T=JCM 30563T), isolated from coal mining site soil. \",{\"entities\":[(19,24,\"STRAIN\"),(27,38,\"STRAIN\"),(39,49,\"STRAIN\")]}),\n",
    "(\"The type strain is 2-2T (=KCTC 29695T=JCM 30462T), isolated from coal mining site soil. \",{\"entities\":[(19,23,\"STRAIN\"),(26,37,\"STRAIN\"),(38,48,\"STRAIN\")]}),\n",
    "(\"The GenBank/EMBL/DDBJ accession numbers for the 16S rRNA gene sequence and the draft genome sequence of YIM 133132T are OR921596.1 and JARFJC000000000, respectively; and the corresponding accession numbers for YIM 133296 are OR921597.1 and JAROAV000000000, respectively. \",{\"entities\":[(104,115,\"STRAIN\"),(210,220,\"STRAIN\")]}),\n",
    "(\"The DNA G+C contents of strains YIM 133132T and YIM 133296 are both 71.8 mol%. \",{\"entities\":[]}),\n",
    "(\"The lichen Parmotrema ultralucens from which strain YIM 133132T was isolated was collected from 1359 m above sea level at 230704.64N1023331.44E, and the lichen Parmotrema reticulatum from which strain YIM 133296 was isolated was collected from 1363 m above sea level at 230704.61N1023331.08E. \",{\"entities\":[]}),\n",
    "(\"The type strain YIM 133132T (CGMCC=1.61357T and KCTC=49824T), was isolated from lichen samples collected from Yuanyang County, Honghe Hani and the Yi Autonomous Prefecture, Yunnan Province, Southwest PR China. \",{\"entities\":[(16,27,\"STRAIN\"),(29,43,\"STRAIN\")]}),\n",
    "(\"The type strain is MSW5T (=KACC 22340T=NBRC 116025T), isolated from seawater of the Yellow Sea, Republic of Korea. \",{\"entities\":[(19,24,\"STRAIN\"),(27,38,\"STRAIN\"),(39,51,\"STRAIN\")]}),\n",
    "(\"The type strain, Alt3T (=DSM 117252T=CCUG 77600T), was isolated from a soil sample from the park Kungsparken in Gothenburg, Sweden. \",{\"entities\":[(17,22,\"STRAIN\"),(25,36,\"STRAIN\"),(37,48,\"STRAIN\")]}),\n",
    "(\"The type strain, Mut1T (=DSM 117248T=CCUG 77596T), was isolated from a soil sample from the park Slottsskogen in Gothenburg, Sweden. \",{\"entities\":[(17,22,\"STRAIN\"),(25,36,\"STRAIN\"),(37,48,\"STRAIN\")]}),\n",
    "(\"The INSDC accession numbers for the draft genome sequences of strain BF125T are BTFR01000001BTFR01000033. \",{\"entities\":[(69,75,\"STRAIN\")]}),\n",
    "(\"The GenBank/EMBL/DDBJ accession number for the 16S rRNA gene sequence of strain BF125T is LC771959. \",{\"entities\":[(80,86,\"STRAIN\")]}),\n",
    "(\"At least five additional strains [BF186, TKL145, Bifido-178-WT-3C (=DSM 107288), S60, AF08-3, and DSM 16698] are included in this subspecies. \",{\"entities\":[(34,39,\"STRAIN\"),(41,47,\"STRAIN\"),(49,65,\"STRAIN\"),(68,78,\"STRAIN\"),(86,92,\"STRAIN\"),(81,84,\"STRAIN\"),(98,107,\"STRAIN\")]}),\n",
    "(\"The type strain, BF125T (=MAFF 212522T=DSM 115528T), was isolated from bovine faeces. \",{\"entities\":[(17,23,\"STRAIN\"),(26,38,\"STRAIN\"),(39,50,\"STRAIN\")]}),\n",
    "(\"At least four additional strains (YK3, YK6, YK10, and NSK) are included in this subspecies. \",{\"entities\":[(34,37,\"STRAIN\"),(39,42,\"STRAIN\"),(44,48,\"STRAIN\"),(54,57,\"STRAIN\")]}),\n",
    "(\"The type strain is ATCC 33620T (=CCUG 27201T=CIP 102989T=DSM 20531T=JCM 1126T=LMG 9496T=NCAIM B.01458T=NRRL B-4540T), isolated from cattle waste-corn fermentation. \",{\"entities\":[(19,30,\"STRAIN\"),(33,44,\"STRAIN\"),(45,56,\"STRAIN\"),(57,67,\"STRAIN\"),(68,77,\"STRAIN\"),(78,87,\"STRAIN\"),(88,102,\"STRAIN\"),(103,115,\"STRAIN\")]}),\n",
    "(\"The GenBank accession number for the 16S rRNA gene sequence of Actinomycetospora aurantiaca OC33-EN08T is PP455476. \",{\"entities\":[(92,102,\"STRAIN\")]}),\n",
    "(\"The type strain, OC33-EN08T (=TBRC 18318T=NBRC 116542T), was isolated from a wild orchid (Aerides multiflora Roxb) collected from Lampang Province in Thailand. \",{\"entities\":[(17,27,\"STRAIN\"),(30,41,\"STRAIN\"),(42,54,\"STRAIN\")]}),\n",
    "(\"The type strain, OC33-EN07T (=TBRC 18350T=NBRC 116544T), was isolated from a wild orchid (Aerides multiflora Roxb) collected from Lampang Province in Thailand. \",{\"entities\":[(17,27,\"STRAIN\"),(30,41,\"STRAIN\"),(42,54,\"STRAIN\")]}),\n",
    "(\"The GenBank accession number for the 16S rRNA gene sequence of Actinomycetospora aeridis OC33-EN06T is PP455472. \",{\"entities\":[(89,99,\"STRAIN\")]}),\n",
    "(\"The type strain, OC33-EN06T (=TBRC 18349T=NBRC 116543T), was isolated from a wild orchid (Aerides multiflora Roxb) collected from Lampang Province in Thailand. \",{\"entities\":[(17,27,\"STRAIN\"),(30,41,\"STRAIN\"),(42,54,\"STRAIN\")]}),\n",
    "(\"The type strain is ATCC 29175T (DSM 2876T=T9-40AT), as reported initially by Moore et al. in 1976 (Approved Lists 1980) with phenotypic properties. \",{\"entities\":[(19,30,\"STRAIN\"),(32,41,\"STRAIN\"),(42,49,\"STRAIN\")]}),\n",
    "(\"The type strain, CDY1-MB1T (= MCCC 1A16935T=KCTC 102223T) was isolated from a marine sediment in the eastern Pacific Ocean. \",{\"entities\":[(17,26,\"STRAIN\"),(30,43,\"STRAIN\"),(44,56,\"STRAIN\")]}),\n",
    "(\"The type strain, HN-65T (=MCCC 1H01434T=KCTC 8169T), was isolated from a marine sediment sample collected from Dongzhai Harbour (110 33 54.37 E 19 59 8.66 N), Haikou, PR China. \",{\"entities\":[(17,23,\"STRAIN\"),(26,39,\"STRAIN\"),(40,50,\"STRAIN\")]}),\n",
    "(\"The type strain, Y60-23T (=MCCC 1H01433T=KCTC 8172T), was isolated from a marine sediment sample collected from Xiaoshi Island (122 7 38.80 E 37 33 57.60 N), Weihai, PR China. \",{\"entities\":[(17,24,\"STRAIN\"),(27,40,\"STRAIN\"),(41,51,\"STRAIN\")]}),\n",
    "(\"The GenBank draft genome accession number of strain 1AS14IT is JBAMYD000000000. \",{\"entities\":[(52,59,\"STRAIN\")]}),\n",
    "(\"The type strain of Rhizobium aouanii sp. nov. 1AS14IT (=DSM 113914T = LMG 33206T), was isolated from root nodules of Acacia saligna used as trapping host in Borj cedria soil located in northeastern Tunisia. \",{\"entities\":[(46,53,\"STRAIN\"),(56,67,\"STRAIN\"),(70,80,\"STRAIN\")]}),\n",
    "(\"The ex-type culture has been deposited in a metabolically inactivate state in the Portuguese Yeast Culture Collection (PYCC), Caparica, Portugal, as strain PYCC 9987 (=NYNU 236122). \",{\"entities\":[(156,165,\"STRAIN\"),(167,179,\"STRAIN\")]}),\n",
    "(\"The GenBank/EMBL/DDBJ/PIR accession numbers for the sequences of the D1/D2 domain of the LSU rRNA gene, ITS region, and RPB2 gene determined in this study are OR426455, OR426456, and PP578192 for CICC 33616T and PP566652, PP566651, and PP578193 for NYNU 236180, respectively. \",{\"entities\":[(196,207,\"STRAIN\"),(249,260,\"STRAIN\")]}),\n",
    "(\"The type strain, Es01T (=CECT 30999T=DSMZ 117325T=CCM 9394T), was isolated from Lavandula angustifolia flowers. \",{\"entities\":[(17,22,\"STRAIN\"),(25,36,\"STRAIN\"),(37,49,\"STRAIN\"),(50,59,\"STRAIN\")]}),\n",
    "(\"The type strain is M1T (DSM 116605T=JCM 36570T), isolated from rock sample of Vulcano Island, Italy. \",{\"entities\":[(19,22,\"STRAIN\"),(24,35,\"STRAIN\"),(36,46,\"STRAIN\")]}),\n",
    "(\"The type strain is C216T, which was isolated from end-phase II mushroom compost from Victoria, Australia. \",{\"entities\":[(19,24,\"STRAIN\")]}),\n",
    "(\"Two strains of Mycovorax composti, C216T (=DSM 114558T=LMG 32998T) and M2295 (=DSM 114559=LMG 32997), were isolated from phase II mushroom compost in Australia. \",{\"entities\":[(35,40,\"STRAIN\"),(43,54,\"STRAIN\"),(55,65,\"STRAIN\"),(71,76,\"STRAIN\"),(79,89,\"STRAIN\"),(90,99,\"STRAIN\")]}),\n",
    "(\"The type strain is Jin2T (=KCTC 82556T=NBRC 114838T). \",{\"entities\":[(19,24,\"STRAIN\"),(27,38,\"STRAIN\"),(39,51,\"STRAIN\")]}),\n",
    "(\"The type strain is wcf1T (=BCRC 17557T=LMG 23380T). \",{\"entities\":[]}),\n",
    "(\"The type strain is hw8T (=KACC 22885T=TBRC 16614T). \",{\"entities\":[(19,23,\"STRAIN\"),(26,37,\"STRAIN\"),(38,49,\"STRAIN\")]}),\n",
    "(\"The type strain is hw1T (=KACC 22887T=TBRC 16613T). \",{\"entities\":[(19,23,\"STRAIN\"),(26,37,\"STRAIN\"),(38,49,\"STRAIN\")]}),\n",
    "(\"The type strain is CHU3T (=CICC 24092T=KCTC 42519T). \",{\"entities\":[(19,24,\"STRAIN\"),(27,38,\"STRAIN\"),(39,50,\"STRAIN\")]}),\n",
    "(\"The type strain is CR182T (=KCCM 90284T=NBRC 113032T). \",{\"entities\":[(19,25,\"STRAIN\"),(28,39,\"STRAIN\"),(40,52,\"STRAIN\")]}),\n",
    "(\"The type strain is ID0723T (=KCTC 72731T=NBRC 114611T). \",{\"entities\":[(19,26,\"STRAIN\"),(29,40,\"STRAIN\"),(41,53,\"STRAIN\")]}),\n",
    "(\"The type strain is S-16T (=KACC 19792T=JCM 32971T). \",{\"entities\":[(19,24,\"STRAIN\"),(27,38,\"STRAIN\"),(39,49,\"STRAIN\")]}),\n",
    "(\"The type strain is S2T (=KCTC 72741T=NBRC 114609T). \",{\"entities\":[(19,22,\"STRAIN\"),(25,36,\"STRAIN\"),(37,49,\"STRAIN\")]}),\n",
    "(\"The type strain is W35T (=DSM 106757T=NBRC 111963T). \",{\"entities\":[(19,23,\"STRAIN\"),(26,37,\"STRAIN\")]}),\n",
    "(\"The type strain, BYS139WT (=GDMCC 1.3208T=KCTC 92548T), was isolated from a stream located in South China. \",{\"entities\":[(17,25,\"STRAIN\"),(28,41,\"STRAIN\"),(42,53,\"STRAIN\")]}),\n",
    "(\"The type strain, DXS22WT (=GDMCC 1.3206T=KCTC 92546T), was isolated from a stream located in South China. \",{\"entities\":[(17,24,\"STRAIN\"),(27,40,\"STRAIN\"),(41,52,\"STRAIN\")]}),\n",
    "(\"The type strain, DXS29WT (=GDMCC 1.3207T=KCTC 92547T), was isolated from a stream located in South China. \",{\"entities\":[(17,24,\"STRAIN\"),(27,40,\"STRAIN\"),(41,52,\"STRAIN\")]}),\n",
    "(\"The type strain, LYT19WT (=GDMCC 1.3205T=KCTC 92545T), was isolated from a stream located in Southwest China. \",{\"entities\":[(17,24,\"STRAIN\"),(27,40,\"STRAIN\"),(41,52,\"STRAIN\")]}),\n",
    "(\"The type strain is JP48T (=DSM 109919T=CECT 30269T) and a second strain of the species is JP55 (=DSM 109920=CECT 30268). \",{\"entities\":[(19,24,\"STRAIN\"),(27,38,\"STRAIN\"),(39,50,\"STRAIN\"),(90,94,\"STRAIN\"),(97,107,\"STRAIN\"),(108,118,\"STRAIN\")]}),\n",
    "(\"The type strain is MJ-SS3T (=KCTC 102114T=KEMB 20189T=JCM 36595T) isolated from tidal-flat sediment. \",{\"entities\":[(19,26,\"STRAIN\"),(29,41,\"STRAIN\"),(42,53,\"STRAIN\"),(54,64,\"STRAIN\")]}),\n",
    "(\"Strains MJ-SS3T and MJ-SS4 have 2822 coding and 59 tRNA genes. \",{\"entities\":[(8,15,\"STRAIN\"),(20,26,\"STRAIN\")]}),\n",
    "(\"The genomes of strains MJ-SS3T and MJ-SS4 consist of 3.1 Mbp. \",{\"entities\":[(23,30,\"STRAIN\"),(35,41,\"STRAIN\")]}),\n",
    "(\"The GenBank/EMBL/DDBJ/PIR accession numbers for the sequences of the D1/D2 domain of the LSU rRNA gene and the ITS region determined in this study are OP269833 and OP269835 for GDMCC 2.300T and OP287957 and OP287954 for NYNU 224233, respectively. \",{\"entities\":[(177,189,\"STRAIN\"),(220,231,\"STRAIN\")]}),\n",
    "(\"The ex-type culture has been deposited at Portuguese Yeast Culture Collection, Caparica, Portugal, as strain PYCC 9925. \",{\"entities\":[(109,118,\"STRAIN\")]}),\n",
    "(\"Holotype GDMCC 2.300T was isolated from rotting wood collected on Qingyuan Mountain, Fujian Province, PR China, in March 2022 (original number NYNU 223283T). \",{\"entities\":[(9,21,\"STRAIN\"),(143,155,\"STRAIN\")]}),\n",
    "(\"The GenBank/EMBL/DDBJ/PIR accession numbers for the 16S rRNA gene and draft genome sequences of strain SURF-2T are ON758927 and JANIBJ000000000, respectively. \",{\"entities\":[(103,110,\"STRAIN\")]}),\n",
    "(\"The type strain, SURF-2T (ATCC TSD-254T=DSM 112283T), was isolated from submerged sediments in a tunnel approximately 4850 ft (1478 m) below the surface at the Sanford Underground Research Facility in Lead, South Dakota, USA. \",{\"entities\":[(17,24,\"STRAIN\"),(26,39,\"STRAIN\"),(40,51,\"STRAIN\")]}),\n",
    "(\"GenBank/EMBL/DDBJ/PIR accession numbers for the 16S rRNA gene and draft genome sequences of strain SURF-1T are ON758926 and JANIBM000000000, respectively. \",{\"entities\":[(99,106,\"STRAIN\")]}),\n",
    "(\"The type strain, SURF-1T (ATCC TSD-253T=DSM 112282T), was isolated from a microbial mat growing at a fracture approximately 4850 ft (1478 m) below the surface at the Sanford Underground Research Facility in Lead, South Dakota, USA. \",{\"entities\":[(17,24,\"STRAIN\"),(26,39,\"STRAIN\"),(40,51,\"STRAIN\")]}),\n",
    "(\"The GenBank/EMBL/DDBJ/PIR accession numbers for the 16S rRNA gene and draft genome sequences of strain WSC-7T are ON758929 and JANIBL000000000, respectively. \",{\"entities\":[(103,109,\"STRAIN\")]}),\n",
    "(\"The type strain, WSC-7T (=ATCC TSD-252T=DSM 112281T), was isolated from a biofilm on a submerged rock at the confluence of Zodletone Spring and Saddle Mountain Creek waters in Kiowa County, Oklahoma, USA. \",{\"entities\":[(17,23,\"STRAIN\"),(26,39,\"STRAIN\"),(40,51,\"STRAIN\")]}),\n",
    "(\"The GenBank/EMBL/DDBJ/PIR accession numbers for the 16S rRNA gene and draft genome sequences of strain WSC-6T are ON758928 and JANIBK000000000, respectively. \",{\"entities\":[(103,109,\"STRAIN\")]}),\n",
    "(\"The type strain, WSC-6T (=ATCC TSD-251T=DSM 112293T), was isolated from a biofilm on a submerged rock at the confluence of Zodletone Spring and Saddle Mountain Creek waters in Kiowa County, Oklahoma, USA. \",{\"entities\":[(17,23,\"STRAIN\"),(26,39,\"STRAIN\"),(40,51,\"STRAIN\")]}),\n",
    "(\"The GenBank/EMBL/DDBJ accession numbers for the 16S rRNA nucleotide and genome sequences of strain RJY3T are OK602686 and JARGNB000000000, respectively. \",{\"entities\":[(99,104,\"STRAIN\")]}),\n",
    "(\"The type strain, RJY3T (=KCTC 92105T=NBRC 115831T), was isolated from a soil sample collected in the Republic of Korea (GPS coordinates of sampling site: 36 53 24.0 N 126 42 52.9E). \",{\"entities\":[(17,22,\"STRAIN\"),(25,36,\"STRAIN\"),(37,49,\"STRAIN\")]}),\n",
    "(\"The type strain, PT-3T (=KCTC 92106T=NBRC 116012T), was isolated from soil sample collected from Republic of Korea (GPS coordinates of sampling site: 35 20 35.2 N 128 00 40.0 E). \",{\"entities\":[(17,22,\"STRAIN\"),(25,36,\"STRAIN\"),(37,49,\"STRAIN\")]}),\n",
    "(\"The GenBank/EMBL/DDBJ accession numbers for the 16S rRNA sequence and whole genome shotgun sequence of strain UW52T are OP954415 and JASKUT000000000, respectively. \",{\"entities\":[(110,115,\"STRAIN\")]}),\n",
    "(\"The type strain, UW52T (=KCTC 43477T=NBRC 116018T), was isolated from forest soil in Republic of Korea (GPS coordinates of sampling site: 35 45 11.9 N 127 08 42.0E). \",{\"entities\":[(17,22,\"STRAIN\"),(25,36,\"STRAIN\"),(37,49,\"STRAIN\")]}),\n",
    "(\"The GenBank/EMBL/DDBJ accession numbers for the 16S rRNA sequence and whole genome shotgun sequence of strain TW48T are OP954419 and CP134223, respectively. \",{\"entities\":[(110,115,\"STRAIN\")]}),\n",
    "(\"The type strain, TW48T (=KCTC 43470T=NBRC 116017T), was isolated from forest soil in Republic of Korea (GPS coordinates of sampling site: 35 33 02.2 N 127 08 13.9 E). \",{\"entities\":[(17,22,\"STRAIN\"),(25,36,\"STRAIN\"),(37,49,\"STRAIN\")]}),\n",
    "(\"The GenBank/EMBL/DDBJ accession numbers for the 16S rRNA sequence and whole genome shotgun sequence of strain FW7T are OP954416 and CP133019, respectively. \",{\"entities\":[(110,114,\"STRAIN\")]}),\n",
    "(\"The type strain, FW7T (=KCTC 49859T=NBRC 116000T), was isolated from soil in Republic of Korea (GPS coordinates of sampling site: 36 30 20.2 N 127 01 13.1 E). \",{\"entities\":[(17,21,\"STRAIN\"),(24,35,\"STRAIN\"),(36,48,\"STRAIN\")]}),\n",
    "(\"The type strain, W4T (=KCTC 49888T=NBRC 116001T), was isolated from soil in Republic of Korea (GPS coordinates of sampling site: 36 47 26.9 N 127 31 16.0 E). \",{\"entities\":[(17,20,\"STRAIN\"),(23,34,\"STRAIN\"),(35,47,\"STRAIN\")]}),\n",
    "(\"The type strain is SDUM040014T (=KCTC 8124T=MCCC 1H01414T), isolated from kelp seedlings collected from a kelp nursery pond in Weihai, PR China (122 33 E 37 15 N). \",{\"entities\":[(19,30,\"STRAIN\"),(33,43,\"STRAIN\"),(44,57,\"STRAIN\")]}),\n",
    "(\"The type strain is SDUM040013T (=KCTC 8123T=MCCC 1H01413T), isolated from kelp seedlings collected from a kelp nursery pond in Weihai, PR China (122 33 E 37 15 N). \",{\"entities\":[(19,30,\"STRAIN\"),(33,43,\"STRAIN\"),(44,57,\"STRAIN\")]}),\n",
    "(\"The GenBank/EMBL/DDBJ accession numbers for the 16S rRNA gene and genome sequences of strain B2T-5T are OR960824 and CP142146, respectively. \",{\"entities\":[(93,99,\"STRAIN\")]}),\n",
    "(\"The type strain, B2T-5T (=KCTC 21223T=JCM 35937T), was isolated from cutlassfish jeotgal. \",{\"entities\":[(17,23,\"STRAIN\"),(26,37,\"STRAIN\"),(38,48,\"STRAIN\")]}),\n",
    "(\"The genome sequence accession numbers for strains xlx-73T and xlx-183 are CP0456529 and WFKO00000000, respectively. \",{\"entities\":[(50,57,\"STRAIN\"),(62,69,\"STRAIN\")]}),\n",
    "(\"The GenBank accession numbers for the 16S rRNA gene sequences of strains xlx-73T and xlx-183) are MK935144 and MK935189, respectively. \",{\"entities\":[(73,80,\"STRAIN\"),(85,92,\"STRAIN\")]}),\n",
    "(\"The type strain, xlx-73T (=GDMCC 1.1712T=JCM 33886T), with a G+C content of 39.8mol%, was isolated from the intestinal content of red swamp crawfish, collected from Jiangxi Province, PR China. \",{\"entities\":[(17,24,\"STRAIN\"),(27,40,\"STRAIN\"),(41,51,\"STRAIN\")]}),\n",
    "(\"The genome sequence accession numbers are CP045652 (dk4302T) and WSPZ00000000 (dk4209). \",{\"entities\":[(52,59,\"STRAIN\"),(79,85,\"STRAIN\")]}),\n",
    "(\"The GenBank accession numbers for the 16S rRNA gene of strains dk4302T and dk4209 are MK605946 and MK809342, respectively. \",{\"entities\":[(63,70,\"STRAIN\"),(75,81,\"STRAIN\")]}),\n",
    "(\"The type strain, dk4302T (=CGMCC 1.16795T=JCM 33600T), with a G+C content of 38.9mol%, was isolated from faeces of a Tibetan gazelle collected from the TibetQinghai Plateau, PR China. \",{\"entities\":[(17,24,\"STRAIN\"),(27,41,\"STRAIN\"),(42,52,\"STRAIN\")]}),\n",
    "(\"The type strain is G1-23T (=KACC 22490T=JCM 34972T), isolated from the phycosphere of a Sargassum species, a marine brown alga collected in Gangwon province, Republic of Korea. \",{\"entities\":[(19,25,\"STRAIN\"),(28,39,\"STRAIN\"),(40,50,\"STRAIN\")]}),\n",
    "(\"The GenBank accession numbers for the 16S rRNA gene and genome sequences of strain G1-22T are OK398154 and JAQOMS000000000, respectively. \",{\"entities\":[(0,0,\"STRAIN\"),(83,89,\"STRAIN\")]}),\n",
    "(\"The type strain is G1-22T (=KACC 22486T=JCM 34971T), isolated from the phycosphere of a Sargassum species, a marine brown alga collected in Gangwon province, Republic of Korea. \",{\"entities\":[(19,25,\"STRAIN\")]}),\n",
    "(\"The type strain, 20-417T (strain 17T=LMG 32456T=DSM 113340T), was isolated from symptomatic strawberry (Fragariaananassa) in Florida. \",{\"entities\":[(17,24,\"STRAIN\"),(37,47,\"STRAIN\"),(33,36,\"STRAIN\"),(48,59,\"STRAIN\")]}),\n",
    "(\"Based on the results of the polyphasic taxonomic analysis and the distinctions identified in comparison with closely related species, strain T-12T (=CECT 30410T=RGM 3222T) is proposed as a representative of a new bacterial species, Flavobacterium facile sp. nov. \",{\"entities\":[(141,146,\"STRAIN\"),(149,160,\"STRAIN\"),(161,170,\"STRAIN\")]}),\n",
    "(\"The genome sequence of strain S025T is CP125619. \",{\"entities\":[(30,35,\"STRAIN\")]}),\n",
    "(\"The NCBI GenBank accession number for the 16S rRNA gene sequence of strain S025T is PP478174. \",{\"entities\":[(75,80,\"STRAIN\")]}),\n",
    "(\"The type strain, S025T (=PMCC 200367T=CCTCC AB 2023225T=JCM 36638T), was isolated from a soil sample under red snow in Arctic Ny-lesund, Svalbard. \",{\"entities\":[(17,22,\"STRAIN\"),(25,37,\"STRAIN\"),(38,55,\"STRAIN\"),(56,66,\"STRAIN\")]}),\n",
    "(\"The genome sequences of strain IT1137T and its plasmid are CP141799 and CP141800, respectively. \",{\"entities\":[(31,38,\"STRAIN\")]}),\n",
    "(\"The NCBI GenBank accession number for the 16S rRNA gene sequence of strain IT1137T is PP052934. \",{\"entities\":[(75,82,\"STRAIN\")]}),\n",
    "(\"The type strain, IT1137T (= PMCC 100533T=CCTCC AB 2023226T=JCM 36637T), was isolated from intertidal sediment from the Fildes Peninsula, King George Island, Maritime Antarctica. \",{\"entities\":[(17,24,\"STRAIN\"),(28,40,\"STRAIN\"),(41,58,\"STRAIN\"),(59,69,\"STRAIN\")]}),\n",
    "(\"H3510T (=KCTC 8206T=MCCC 1K04325T), the type strain, was isolated from a sample of marine alga (Grateloupia sp.) collected from a coastal region of the Yellow Sea (121.46E 37.51N) in Yantai, PR China. \",{\"entities\":[(0,6,\"STRAIN\"),(9,19,\"STRAIN\"),(20,33,\"STRAIN\")]}),\n",
    "(\"The type strain, WY-16T (=GDMCC 1.4011T=JCM 36421T), was isolated from a lakeside soil sample collected in Jiangxi Province, PR China. \",{\"entities\":[(17,23,\"STRAIN\"),(26,39,\"STRAIN\"),(40,50,\"STRAIN\")]}),\n",
    "(\"The GenBank accession numbers for the genome and 16S rRNA gene sequences of strain IRAMC:0171T are JAKREW000000000 and ON598642 respectively. \",{\"entities\":[(83,94,\"STRAIN\")]}),\n",
    "(\"The type strain, IRAMC:0171T (=DSM 112841T=CECT 30767T), was isolated from the root nodules of Retama raetam in northern Tunisia. \",{\"entities\":[(17,28,\"STRAIN\"),(31,42,\"STRAIN\"),(43,54,\"STRAIN\")]}),\n",
    "(\"The type strain is H4R21T (=DSM 117599T= CFBP 9203T), isolated from beech rhizosphere collected from the forest experimental site of Montiers (Meuse, France). \",{\"entities\":[(19,25,\"STRAIN\"),(28,39,\"STRAIN\"),(41,51,\"STRAIN\")]}),\n",
    "(\"In contrast, strain H4R21T is unable to assimilate: 2,3 butanediol, -cyclodextrin, -d-glycerol-1-phosphate, lactose, -hydroxybutyric acid, -ketovaleric acid, acetic acid, adonitol, methyl -d-glucoside, d-galacturonic acid, raffinose, cellobiose, melibiose, d-serine, -hydroxybutyric acid, gentibiose, hydroxy-l-proline, i-erythritol, itaconic acid, l-phenylalanine, l-rhamnose, lactulose, maltose, N-acetyl-d-galactosamine, p-hydroxyphenylacetic acid, putrescine, sebacic acid, succinic acid monomethyl ester, sucrose, thymidine, turanose and urocanic acid are not assimilated. \",{\"entities\":[(20,26,\"STRAIN\")]}),\n",
    "(\"The DDBJ/EMA/GenBank accession numbers for the 16S rRNA gene sequence and draft genome sequence of strain Wushi-06T are MN525277 and WBKO00000000, respectively. \",{\"entities\":[(106,115,\"STRAIN\")]}),\n",
    "(\"The type strain is Wushi-06T (=BCRC AR10059T=NBRC 114596T). \",{\"entities\":[(19,28,\"STRAIN\"),(31,44,\"STRAIN\"),(45,57,\"STRAIN\")]}),\n",
    "(\"The DDBJ/EMA/GenBank accession numbers for the 16S rRNA gene sequence and draft genome sequence of strain Afa-1T are KP702949 and VHLL00000000, respectively. \",{\"entities\":[(106,112,\"STRAIN\")]}),\n",
    "(\"The type strain is Afa-1T (=BCRC AR10054T=NBRC 113995T). \",{\"entities\":[(19,25,\"STRAIN\"),(28,41,\"STRAIN\"),(42,54,\"STRAIN\")]}),\n",
    "(\"The DDBJ/EMA/GenBank accession numbers for the 16S rRNA gene sequence and draft genome sequence of strain YWC-01T are MT071627 and JABFFQ00000000, respectively. \",{\"entities\":[(106,113,\"STRAIN\")]}),\n",
    "(\"The type strain is YWC-01T (=BCRC AR10060T= NBRC 114597T). \",{\"entities\":[(19,26,\"STRAIN\"),(29,42,\"STRAIN\"),(44,56,\"STRAIN\")]}),\n",
    "(\"The type strain is FWC-SCC3T (=BCRC AR10057T=NBRC 113994T). \",{\"entities\":[(19,28,\"STRAIN\"),(31,44,\"STRAIN\"),(45,57,\"STRAIN\")]}),\n",
    "(\"The DDBJ/EMA/GenBank accession numbers for the 16S rRNA gene sequence and draft genome sequence of strain CWC-02T are MH304310 and QFDM00000000, respectively. \",{\"entities\":[(106,113,\"STRAIN\")]}),\n",
    "(\"The type strain is CWC-02T (=BCRC AR10055T=NBRC 113992T). \",{\"entities\":[(19,26,\"STRAIN\"),(29,42,\"STRAIN\"),(43,55,\"STRAIN\")]}),\n",
    "(\"The DDBJ/EMA/GenBank accession numbers for the 16S rRNA gene sequence and draft genome sequence of strain FWC-SCC1T are MG450385 and VCYH00000000, respectively. \",{\"entities\":[(106,115,\"STRAIN\")]}),\n",
    "(\"The type strain is FWC-SCC1T (=BCRC AR10056T=NBRC 113993T). \",{\"entities\":[(19,28,\"STRAIN\"),(31,44,\"STRAIN\"),(45,57,\"STRAIN\")]}),\n",
    "(\"The type strain, MH1T (=GDMCC 1.3749T=JCM 36317T), was isolated from C. annuum showing wilt disease symptoms collected from a farmland in Machong town, Guangdong, China. \",{\"entities\":[(17,21,\"STRAIN\"),(24,37,\"STRAIN\"),(38,48,\"STRAIN\")]}),\n",
    "(\"The type strain, MH2T (=GDMCC 1.3750T=JCM 36318T), was isolated from C. annuum showing wilt disease symptoms collected from a farmland in Machong town, Guangdong, China. \",{\"entities\":[(17,21,\"STRAIN\"),(24,37,\"STRAIN\"),(38,48,\"STRAIN\")]}),\n",
    "(\"The type strain is KLBMP 9567T (= CGMCC 4.7773T = NBRC 115787T), which was isolated from karstic areas of Guizhou Province, China. \",{\"entities\":[(19,30,\"STRAIN\"),(34,47,\"STRAIN\"),(50,62,\"STRAIN\")]}),\n",
    "(\"The GenBank accession number for the 16S rRNA gene sequence of strain CCTCC AB 2023082T is OR177835, while the genome can be accessed through the GenBank with the accession number CP151800. \",{\"entities\":[(70,87,\"STRAIN\")]}),\n",
    "(\"The DNA G+C content of strain CCTCC AB 2023082T is 54.2 mol%. \",{\"entities\":[(30,47,\"STRAIN\")]}),\n",
    "(\"The type strain CCTCC AB 2023082T (=JCM 36393T) was isolated from the leaves of C. triplicata. \",{\"entities\":[(16,33,\"STRAIN\"),(36,46,\"STRAIN\")]}),\n",
    "(\"The type strain is AB67T (=CECT 9623T=LMG 32342T), isolated from a drinking water distribution network in Tona (Barcelona, Spain). \",{\"entities\":[(19,24,\"STRAIN\"),(27,37,\"STRAIN\"),(38,48,\"STRAIN\")]}),\n",
    "(\"The type strain is AB1T (=CECT 9275T=LMG 32341T), isolated from a drinking water treatment plant in Barcelona (Spain). \",{\"entities\":[(19,23,\"STRAIN\"),(26,36,\"STRAIN\"),(37,47,\"STRAIN\")]}),\n",
    "(\"The type strain is CTN-1T (=DSM 22393T=CGMCC 1.10136T). \",{\"entities\":[(19,25,\"STRAIN\"),(28,38,\"STRAIN\"),(39,53,\"STRAIN\")]}),\n",
    "(\"The type strain is GH1-9T (=DSM 17634T=KACC 11406T). \",{\"entities\":[(19,25,\"STRAIN\"),(28,38,\"STRAIN\"),(39,50,\"STRAIN\")]}),\n",
    "(\"The type strain is Zs60T (=CGMCC 1.15509T=NBRC 112614T). \",{\"entities\":[(19,24,\"STRAIN\"),(27,41,\"STRAIN\"),(42,54,\"STRAIN\")]}),\n",
    "(\"The type strain is KMM 329T (=DSM 21749T=JCM 14760T). \",{\"entities\":[(19,27,\"STRAIN\"),(30,40,\"STRAIN\"),(41,51,\"STRAIN\")]}),\n",
    "(\"The type strain is 13AT (=GDMCC 1.2722T=JCM 34786T). \",{\"entities\":[(19,23,\"STRAIN\"),(26,39,\"STRAIN\"),(40,50,\"STRAIN\")]}),\n",
    "(\"The type strain is AS29MT (=CECT 30171T=LMG 32343T). \",{\"entities\":[(19,25,\"STRAIN\"),(28,39,\"STRAIN\"),(40,50,\"STRAIN\")]}),\n",
    "(\"The type strain is RS-LYSO-3T (=CICC 23922T=JCM 31042T). \",{\"entities\":[(19,29,\"STRAIN\"),(32,43,\"STRAIN\"),(44,54,\"STRAIN\")]}),\n",
    "(\"The type strain is IMMIB APB-9T (=CCUG 53152T=DSM 18482T). \",{\"entities\":[(19,31,\"STRAIN\"),(34,45,\"STRAIN\"),(46,56,\"STRAIN\")]}),\n",
    "(\"The type strain is H21R20T (=JCM 34832T=KCTC 82316T). \",{\"entities\":[(19,26,\"STRAIN\"),(29,39,\"STRAIN\"),(40,51,\"STRAIN\")]}),\n",
    "(\"The type strain is H23M41T (=JCM 33223T=KCTC 62676T). \",{\"entities\":[(19,26,\"STRAIN\"),(29,39,\"STRAIN\"),(40,51,\"STRAIN\")]}),\n",
    "(\"The type strain is ZS79T (=DSM 27222T=KCTC 23365T). \",{\"entities\":[(19,24,\"STRAIN\"),(27,37,\"STRAIN\"),(38,49,\"STRAIN\")]}),\n",
    "(\"The type strain is GW1-59T (=CCTCC AB 2019390T=KCTC 72831T). \",{\"entities\":[(19,26,\"STRAIN\"),(29,46,\"STRAIN\"),(47,58,\"STRAIN\")]}),\n",
    "(\"The type strain is 119BY6-57T (=LMG 30077T=KACC 19276T). \",{\"entities\":[(19,29,\"STRAIN\"),(32,42,\"STRAIN\"),(43,54,\"STRAIN\")]}),\n",
    "(\"The type strain is SG-8T (=GDMCC 1.1817T=KACC 21942T). \",{\"entities\":[(19,24,\"STRAIN\"),(27,40,\"STRAIN\"),(41,52,\"STRAIN\")]}),\n",
    "(\"The type strain is TLK-CK17T (=CCTCC AB 2021257T=KCTC 92122T). \",{\"entities\":[(19,28,\"STRAIN\"),(31,48,\"STRAIN\"),(49,60,\"STRAIN\")]}),\n",
    "(\"The type strain is SJ-36T (=CGMCC 1.16756T=KCTC 43039T). \",{\"entities\":[(19,25,\"STRAIN\"),(28,42,\"STRAIN\"),(43,54,\"STRAIN\")]}),\n",
    "(\"The type strain is S2-CT (=JCM 31130T=KACC 18502T). \",{\"entities\":[(19,24,\"STRAIN\"),(27,37,\"STRAIN\"),(38,49,\"STRAIN\")]}),\n",
    "(\"The type strain is KMU-14T (=NBRC 110750T=KCTC 42381T). \",{\"entities\":[(19,26,\"STRAIN\"),(29,41,\"STRAIN\"),(42,53,\"STRAIN\")]}),\n",
    "(\"The type strain is 17J7-1T (=JCM 33057T=KCTC 62217T). \",{\"entities\":[(19,26,\"STRAIN\"),(29,39,\"STRAIN\"),(40,51,\"STRAIN\")]}),\n",
    "(\"The type strain is C8-1T (=CGMCC 1.16271T=KCTC 62034T). \",{\"entities\":[(19,24,\"STRAIN\"),(27,41,\"STRAIN\"),(42,53,\"STRAIN\")]}),\n",
    "(\"The type strain is 17J68-2T (=JCM 33058T=KCTC 62237T). \",{\"entities\":[(19,27,\"STRAIN\"),(30,40,\"STRAIN\"),(41,52,\"STRAIN\")]}),\n",
    "(\"The type strain is UKS-15T (=JCM 30983T=KACC 18719T). \",{\"entities\":[(19,26,\"STRAIN\"),(29,39,\"STRAIN\"),(40,51,\"STRAIN\")]}),\n",
    "(\"The type strain is ZLD-29T (=DSM 26007T=KCTC 23077T). \",{\"entities\":[(19,26,\"STRAIN\"),(29,39,\"STRAIN\"),(40,51,\"STRAIN\")]}),\n",
    "(\"The type strain is RCML-52T (=DSM 25188T=KCTC 22558T). \",{\"entities\":[(19,27,\"STRAIN\"),(30,40,\"STRAIN\"),(41,52,\"STRAIN\")]}),\n",
    "(\"The type strain is II4T (=NBRC 113956T=KACC 21196T). \",{\"entities\":[(19,23,\"STRAIN\"),(26,38,\"STRAIN\"),(39,50,\"STRAIN\")]}),\n",
    "(\"The type strain is R19T (=JCM 34258T=KACC 21767T). \",{\"entities\":[(19,23,\"STRAIN\"),(26,36,\"STRAIN\"),(37,48,\"STRAIN\")]}),\n",
    "(\"The type strain is GH34-4T (=DSM 18244T=KACC 11587T). \",{\"entities\":[(19,26,\"STRAIN\"),(29,39,\"STRAIN\"),(40,51,\"STRAIN\")]}),\n",
    "(\"The type strain is AM20-91T (=DSM 104734T=LMG 30011T). \",{\"entities\":[(19,27,\"STRAIN\"),(30,41,\"STRAIN\"),(42,52,\"STRAIN\")]}),\n",
    "(\"The type strain is 4284/11T (=CCM 8829T=LMG 30630T). \",{\"entities\":[(19,27,\"STRAIN\"),(30,39,\"STRAIN\"),(40,50,\"STRAIN\")]}),\n",
    "(\"The type strain is 83-4T (=NBRC 113451T=CGMCC 1.13464T). \",{\"entities\":[(19,24,\"STRAIN\"),(27,39,\"STRAIN\"),(40,54,\"STRAIN\")]}),\n",
    "(\"The type strain is UM1T (=KCTC 42936T=DSM 28473T). \",{\"entities\":[(19,23,\"STRAIN\"),(26,37,\"STRAIN\"),(38,48,\"STRAIN\")]}),\n",
    "(\"The type strain is CC-Bw-6T (=BCRC 80612T=JCM 19164T). \",{\"entities\":[(19,27,\"STRAIN\"),(30,41,\"STRAIN\"),(42,52,\"STRAIN\")]}),\n",
    "(\"The type strain is A6T (=KCTC 82184T=CGMCC 1.18582T). \",{\"entities\":[(19,22,\"STRAIN\"),(25,36,\"STRAIN\"),(37,51,\"STRAIN\")]}),\n",
    "(\"The type strain is KVB24T (=KACC 19816T=JCM 32879T). \",{\"entities\":[(19,25,\"STRAIN\"),(28,39,\"STRAIN\"),(40,50,\"STRAIN\")]}),\n",
    "(\"The type strain is HX-5-24T (=KCTC 72470T=CCTCC AB 2019228T). \",{\"entities\":[(19,27,\"STRAIN\"),(30,41,\"STRAIN\"),(42,59,\"STRAIN\")]}),\n",
    "(\"The type strain is DS-58T (=KCTC 12822T=DSM 17958T). \",{\"entities\":[(19,25,\"STRAIN\"),(28,39,\"STRAIN\"),(40,50,\"STRAIN\")]}),\n",
    "(\"The type strain is YJ15T (=KACC 19552T=NBRC 113197T). \",{\"entities\":[(19,24,\"STRAIN\"),(27,38,\"STRAIN\"),(39,51,\"STRAIN\")]}),\n",
    "(\"The type strain is 50T (=KCTC 92088T=CCTCC AB 2022035T). \",{\"entities\":[(19,22,\"STRAIN\"),(25,36,\"STRAIN\"),(37,54,\"STRAIN\")]}),\n",
    "(\"The type strain is WF-2T (=KCTC 62441T=CGMCC 1.13633T). \",{\"entities\":[(19,24,\"STRAIN\"),(27,38,\"STRAIN\"),(39,53,\"STRAIN\")]}),\n",
    "(\"The type strain is 1.1416T (=KCTC 62979T=CCTCC AB 2018348T). \",{\"entities\":[(19,26,\"STRAIN\"),(29,40,\"STRAIN\"),(41,58,\"STRAIN\")]}),\n",
    "(\"Type strain FXH3WT (=GDMCC 1.4096T=KCTC 8154T) was isolated from a deep lake located in Southwest China. \",{\"entities\":[(12,18,\"STRAIN\"),(21,34,\"STRAIN\"),(35,45,\"STRAIN\")]}),\n",
    "(\"Type strain SMYT11WT (=GDMCC 1.4275T=KCTC 8304T) was isolated from a river located in Southwest China. \",{\"entities\":[(12,20,\"STRAIN\"),(23,36,\"STRAIN\"),(37,47,\"STRAIN\")]}),\n",
    "(\"The GenBank accession numbers for the 16S rRNA gene sequence and the whole-genome shotgun project of strain SDUM158017T are OP522343 and JARRSA000000000, respectively. \",{\"entities\":[(108,119,\"STRAIN\")]}),\n",
    "(\"The type strain is SDUM158017T (=KCTC 92633T =MCCC 1H01363T), which was isolated from a marine solar saltern along the Weihai coast, China. \",{\"entities\":[(19,30,\"STRAIN\"),(33,44,\"STRAIN\"),(46,59,\"STRAIN\")]}),\n",
    "(\"The GenBank accession numbers for the 16S rRNA gene sequence and the whole-genome shotgun project of strain SDUM158016T are OP526358 and JAOPHT000000000, respectively. \",{\"entities\":[(108,119,\"STRAIN\")]}),\n",
    "(\"The type strain is SDUM158016T (=KCTC 92632T =MCCC 1H01367T), which was isolated from coastal sediments collected off the coast of Weihai, China. \",{\"entities\":[(19,30,\"STRAIN\"),(33,44,\"STRAIN\"),(46,59,\"STRAIN\")]}),\n",
    "(\"The type strain SCSIO 66989T (=MCCC 1K08014T=KCTC 92499T) was isolated from reef-building coral in Sanya, Hainan Province, China. \",{\"entities\":[(16,28,\"STRAIN\"),(31,44,\"STRAIN\"),(45,56,\"STRAIN\")]}),\n",
    "(\"The GenBank/EMBL/DDBJ accession numbers for the genome and 16S rRNA gene sequences of strain HT6-4T are CP155551 and PP767292, respectively. \",{\"entities\":[(93,99,\"STRAIN\")]}),\n",
    "(\"The type strain, HT6-4T (=KCTC 59234T =GDMCC 1.4386T), was isolated from soil from the Flaming Mountain, Xinjiang, PR China. \",{\"entities\":[(17,23,\"STRAIN\"),(26,37,\"STRAIN\"),(39,52,\"STRAIN\")]}),\n",
    "(\"The GenBank/EMBL/DDBJ accession number for the draft genome sequence of Microbispora maris ZYX-F-249T is JBDJAW000000000. \",{\"entities\":[(91,101,\"STRAIN\")]}),\n",
    "(\"The GenBank/EMBL/DDBJ accession number for the 16S rRNA gene sequence of Microbispora maris ZYX-F-249T is PP078609. \",{\"entities\":[(92,102,\"STRAIN\")]}),\n",
    "(\"The type strain ZYX-F-249T (=CCTCC AA 2023030T =JCM 36778T) was isolated from the gill of the leopard coral grouper collected from Yongxing Island, Sansha, Hainan Province, China. \",{\"entities\":[(16,26,\"STRAIN\"),(29,46,\"STRAIN\"),(48,58,\"STRAIN\")]}),\n",
    "(\"The type strain, IMAU50987T (= GDMCC 1.4189T = JCM 36315T), was isolated from black comb honey. \",{\"entities\":[(17,27,\"STRAIN\"),(31,44,\"STRAIN\"),(47,57,\"STRAIN\")]}),\n",
    "(\"The GenBank accession numbers of the 16S rRNA gene and genome sequences of strain W115T are OR431747 and CP146606CP146607, respectively. \",{\"entities\":[(82,87,\"STRAIN\")]}),\n",
    "(\"The type strain is W115T =KACC 23690T =JCM 36651T), isolated from a marine red alga S. dubyi. \",{\"entities\":[(19,24,\"STRAIN\"),(26,37,\"STRAIN\"),(39,49,\"STRAIN\")]}),\n",
    "(\"The type strain is S88T (=KACC 23423T =JCM 36647T), isolated from a marine red alga L. hakodatensis. \",{\"entities\":[(19,23,\"STRAIN\"),(26,37,\"STRAIN\"),(39,49,\"STRAIN\")]}),\n",
    "(\"Strain DGU6T (= KACC 23721T = TBRC 19016T) was isolated from the mudflat of S. japonica colonies in Incheon, Republic of Korea. \",{\"entities\":[(7,12,\"STRAIN\"),(16,27,\"STRAIN\"),(30,41,\"STRAIN\")]}),\n",
    "(\"The GenBank/EMBL/DDBJ accession number for the 16S rRNA gene sequence of YH-ols2223T is PP514387, and that for the genome sequence is JAZGJQ000000000. \",{\"entities\":[(73,84,\"STRAIN\")]}),\n",
    "(\"The type strain YH-ols2223T (=KCTC 25800T = NBRC 116680T) was isolated from a pig faeces specimen on a pig farm. \",{\"entities\":[(16,27,\"STRAIN\"),(30,41,\"STRAIN\"),(44,56,\"STRAIN\")]}),\n",
    "(\"The type strain is RM8705T (=LMG 32300T = CCUG 75470T), recovered in 2009 from cow faeces in California. \",{\"entities\":[(19,26,\"STRAIN\"),(29,39,\"STRAIN\")]}),\n",
    "(\"The genome sequence of strain DMSP-1T is CP034425. \",{\"entities\":[(30,37,\"STRAIN\")]}),\n",
    "(\"The NCBI GenBank accession number for the 16S rRNA gene sequence of strain DMSP-1T is KU233521. \",{\"entities\":[(75,82,\"STRAIN\")]}),\n",
    "(\"The type strain DMSP-1T (= CCTCC AB 2019124T = JCM 36636T = DSM 117337T) was isolated from seawater in Arctic Kongsfjorden of Ny-lesund, Svalbard. \",{\"entities\":[(16,23,\"STRAIN\"),(27,44,\"STRAIN\"),(47,57,\"STRAIN\"),(60,71,\"STRAIN\")]}),\n",
    "(\"The genome sequence of strain BSw22131T is CP113949. \",{\"entities\":[(30,39,\"STRAIN\")]}),\n",
    "(\"The NCBI GenBank accession number for the 16S rRNA gene sequence of strain BSw22131T is MF630609. \",{\"entities\":[(75,84,\"STRAIN\")]}),\n",
    "(\"The type strain BSw22131T (= CCTCC AB 2019135T = JCM 36635T = DSM 117336T) was isolated from seawater in Arctic Kongsfjorden of Ny-lesund, Svalbard. \",{\"entities\":[(16,25,\"STRAIN\"),(29,46,\"STRAIN\"),(49,59,\"STRAIN\"),(62,73,\"STRAIN\")]}),\n",
    "(\"The type strain, A1S7T (=KCTC 49714T = JCM 36706T), was isolated from the gut of marine sandworm (A. virens). \",{\"entities\":[(17,22,\"STRAIN\")]}),\n",
    "(\"The GenBank/EMBL/DDBJ accession number for the 16S rRNA gene sequence of strain M09T is OM920831 and that of the genome sequence is CP132956. \",{\"entities\":[(80,84,\"STRAIN\")]}),\n",
    "(\"The type strain M09T (=GDMCC 1.4157T=KCTC 8143T) was isolated from the rhizosphere soil of kiwifruit trees in Fangshan, Beijing, PR China. \",{\"entities\":[(16,20,\"STRAIN\"),(23,36,\"STRAIN\"),(37,47,\"STRAIN\")]}),\n",
    "(\"The GenBank/EMBL/DDBJ accession numbers for the 16S rRNA gene sequence and genome sequences of strain IA91T are LC818858 and AP035449, respectively. \",{\"entities\":[(102,107,\"STRAIN\")]}),\n",
    "(\"The type strain, IA91T (=JCM 39387T=KCTC 25736T), was isolated from a slurry of sediments and formation water derived from a deep sedimentary, natural-gas-bearing saline aquifer in Japan \",{\"entities\":[(17,22,\"STRAIN\"),(25,35,\"STRAIN\"),(36,47,\"STRAIN\")]}),\n",
    "(\"The type strain is HZT (NCIMB 15482T=ATCC TSH-398T) and was isolated from the parasitoid wasp, S. cameroni (Hymenoptera: Spalangiidae), collected in an egg-laying poultry facility in Hazon, Israel, in AprilMay 2014, where the wasps develop on pupae of the housefly, Musca domestica (Diptera: Muscidae). \",{\"entities\":[(19,22,\"STRAIN\"),(24,36,\"STRAIN\"),(37,50,\"STRAIN\")]}),\n",
    "(\"The GenBank/EMBL/DDBJ accession number for the 16S rRNA gene sequence of strain NEAU-NG30T is PP863884. \",{\"entities\":[(80,90,\"STRAIN\")]}),\n",
    "(\"The type strain is NEAU-NG30T (=MCCC 1K08677T=JCM 35654T), isolated from soil collected from Harbin, Heilongjiang Province, China (45 8 N, 126 5 E). \",{\"entities\":[(19,29,\"STRAIN\"),(32,45,\"STRAIN\"),(46,56,\"STRAIN\")]}),\n",
    "(\"The DNA G+C content of strain 2205BS29-5T is 67.8%. \",{\"entities\":[(30,41,\"STRAIN\")]}),\n",
    "(\"The type strain is 2205BS29-5T (=LMG 33062T =KACC 23240T), which is isolated from a marine sponge, P. elegans, collected from Beomseom in Jeju-Island, Republic of Korea. \",{\"entities\":[(19,30,\"STRAIN\"),(33,43,\"STRAIN\"),(45,56,\"STRAIN\")]}),\n",
    "(\"The GenBank/EMBL/DDBJ/PIR accession numbers for the sequences of the D1/D2 domain of the LSU rRNA gene and the ITS region determined in this study are OP954744 and OP954743 for CICC 33584T. \",{\"entities\":[(177,188,\"STRAIN\")]}),\n",
    "(\"The type strain CBA3628T (=KACC 23049T = DSM 116836T) was isolated from kimchi collected at the World Institute of Kimchi, Gwangju, Republic of Korea. \",{\"entities\":[(16,24,\"STRAIN\"),(27,38,\"STRAIN\"),(41,52,\"STRAIN\")]}),\n",
    "(\"The type strain, EV16PT (= KCTC 8296T, = DSM 117028T), was isolated from E. variegatus reared at the University of Turin, Italy. \",{\"entities\":[(17,23,\"STRAIN\"),(26,37,\"STRAIN\"),(41,52,\"STRAIN\")]}),\n",
    "(\"The 16S rRNA gene sequence and whole-genome sequence of strain SS33T have been deposited in the GenBank/EMBL/DDBJ databank under the accession numbers LC819326 and AP026369, respectively. \",{\"entities\":[(63,68,\"STRAIN\")]}),\n",
    "(\"The type strain, SS33T (=JCM 39184T =KCTC 25253T), was isolated from a deep-sea hydrothermal vent chimney in the Western Pacific Ocean. \",{\"entities\":[(17,22,\"STRAIN\"),(25,35,\"STRAIN\")]}),\n",
    "(\"The type strains are PMTSA4T (=KCTC 102074T =CCTCC AB 2024023T), while PMR2A8 (KCTC 102073= CCTCC AB 2024024) is identified as a different strain of F. capsici. \",{\"entities\":[(21,28,\"STRAIN\"),(31,43,\"STRAIN\"),(45,62,\"STRAIN\"),(71,77,\"STRAIN\"),(79,90,\"STRAIN\"),(92,108,\"STRAIN\")]}),\n",
    "(\"The WK041_4_12T (= LMG 33105T = DSM 116074T), designated as the type strain, was obtained from a water kefir sample. \",{\"entities\":[(4,15,\"STRAIN\"),(19,29,\"STRAIN\"),(32,43,\"STRAIN\")]}),\n",
    "(\"The WK012_4_13T (= LMG 33104T = DSM 116073T), designated as the type strain, was obtained from a water kefir sample. \",{\"entities\":[(4,15,\"STRAIN\"),(19,29,\"STRAIN\"),(32,43,\"STRAIN\")]}),\n",
    "(\"The draft whole genome sequence for YIM 96095T has been deposited at DDBJ/ENA/GenBank under accession number GCA_003725585.1. \",{\"entities\":[(36,46,\"STRAIN\")]}),\n",
    "(\"The NCBI GenBank accession number for the 16S rRNA gene sequence of strain YIM 96095T is MK182318. \",{\"entities\":[(75,85,\"STRAIN\")]}),\n",
    "(\"The type strain, YIM 96095T (=KCTC 49266T=CGMCC 4.7636T), was isolated from a soil sample collected from Aiding Lake, Xinjiang province, north-west China. \",{\"entities\":[(17,27,\"STRAIN\"),(30,41,\"STRAIN\"),(42,55,\"STRAIN\")]}),\n",
    "(\"The type strain, SK2B-1T (=CFCC 14580T=KCTC 52802T), was isolated from symptomatic bark tissue of Populus euramericana canker. \",{\"entities\":[(17,24,\"STRAIN\"),(27,38,\"STRAIN\")]}),\n",
    "(\"The type strain, BO-81T (=KACC 19677T=LMG 30808T), was isolated from sludge sampled in the Republic of Korea. \",{\"entities\":[(17,23,\"STRAIN\"),(26,37,\"STRAIN\"),(38,48,\"STRAIN\")]}),\n",
    "(\"The type strain, SgZ-3T (=KACC 16603T=CCTCC AB 2012026T), was isolated from an electrochemical biofilm. \",{\"entities\":[(17,23,\"STRAIN\"),(26,37,\"STRAIN\"),(38,55,\"STRAIN\")]}),\n",
    "(\"The type strain, DW2-9T (=CCTCC AB 2011145T=KCTC 15169T), was isolated from soil. \",{\"entities\":[(17,23,\"STRAIN\"),(26,43,\"STRAIN\"),(44,55,\"STRAIN\")]}),\n",
    "(\"Strain WL0115 (=MCCC 1K07531=JCM 35568=GDMCC 1.3088), isolated from seawater of the Yellow Sea, China, is also affiliated to this species. \",{\"entities\":[(7,13,\"STRAIN\"),(16,28,\"STRAIN\"),(29,38,\"STRAIN\"),(39,51,\"STRAIN\")]}),\n",
    "(\"The GenBank accession numbers of the 16S rRNA gene sequence and draft genome sequence of strain B57T are MZ433255 and JAHVAI000000000, respectively. \",{\"entities\":[(96,100,\"STRAIN\")]}),\n",
    "(\"The type strain is B57T (=CGMCC1.19488T=KCTC 92053T) isolated from sediment collected in Clam Island, Liaoning Province. \",{\"entities\":[(19,23,\"STRAIN\"),(26,39,\"STRAIN\"),(40,51,\"STRAIN\")]}),\n",
    "(\"The type strain is AT2T (=CSUR P2014T=DSM 100451T), isolated from the faeces of a healthy 28-year-old French male. \",{\"entities\":[(19,23,\"STRAIN\"),(26,37,\"STRAIN\"),(38,49,\"STRAIN\")]}),\n",
    "(\"The type strain is 1502-91T (=CCUG 46148T=CIP 106119T=DSM 25327T=LMG 14382T), isolated from a Pekin duck in Germany. \",{\"entities\":[(19,27,\"STRAIN\"),(30,41,\"STRAIN\"),(42,53,\"STRAIN\"),(54,64,\"STRAIN\"),(65,75,\"STRAIN\")]}),\n",
    "(\"The type strain is TG 5-3T (= ATCC 51228T=DSM 9165T=NCCB 92012), isolated from a near-shore sulfidic hydrothermal area in Matupy Harbour of New Britain Island, Papua New Guinea. \",{\"entities\":[(19,26,\"STRAIN\"),(30,41,\"STRAIN\"),(42,51,\"STRAIN\"),(52,62,\"STRAIN\")]}),]\n",
    "\n",
    "# Convert to DocBin format\n",
    "nlp = spacy.blank(\"en\")\n",
    "db = DocBin()\n",
    "for text, annotations in train_data:\n",
    "    doc = nlp.make_doc(text)\n",
    "    ents = []\n",
    "    for start, end, label in annotations.get(\"entities\", []):\n",
    "        span = doc.char_span(start, end, label=label)\n",
    "        if span is not None:\n",
    "            ents.append(span)\n",
    "    doc.ents = ents\n",
    "    db.add(doc)\n",
    "db.to_disk(\"./train_data.spacy\")\n"
   ]
  },
  {
   "cell_type": "code",
   "execution_count": null,
   "id": "a0a6b03a",
   "metadata": {},
   "outputs": [],
   "source": []
  }
 ],
 "metadata": {
  "kernelspec": {
   "display_name": "Python 3 (ipykernel)",
   "language": "python",
   "name": "python3"
  },
  "language_info": {
   "codemirror_mode": {
    "name": "ipython",
    "version": 3
   },
   "file_extension": ".py",
   "mimetype": "text/x-python",
   "name": "python",
   "nbconvert_exporter": "python",
   "pygments_lexer": "ipython3",
   "version": "3.9.20"
  }
 },
 "nbformat": 4,
 "nbformat_minor": 5
}
