{
 "cells": [
  {
   "cell_type": "markdown",
   "id": "8e64154f",
   "metadata": {},
   "source": [
    "### Webscraper for extracting newly published names, strains and accession numbers from the weeekly IJSEM email (saved in html). Script then compares the IJSEM names to the NCBI names and generates a report used for taxonomy updates. \n",
    "### Uses Natural Language processing combined with REGEX to extract information from text\n",
    "### Notes on selenium. There is a lot of bad advise in stack overflow that refers to old versions of selenium. Need to refer to the offocial documentation https://selenium-python.readthedocs.io/ If you run out of space in your linux directory the script will crash. There is a cache file written by selenium that may then need to be deleted to get the chrome driver working again. Follow the path in the error message and delete that cache directory"
   ]
  },
  {
   "cell_type": "code",
   "execution_count": null,
   "id": "4657a12a",
   "metadata": {},
   "outputs": [],
   "source": [
    "pip install \"numpy<2.0\" "
   ]
  },
  {
   "cell_type": "code",
   "execution_count": null,
   "id": "b0568a50",
   "metadata": {},
   "outputs": [],
   "source": [
    "#pip install spacy\n",
    "#pip install -U pip setuptools wheel\n",
    "#pip install -U spacy"
   ]
  },
  {
   "cell_type": "markdown",
   "id": "ec33dae7",
   "metadata": {},
   "source": [
    "### Install the model at the command lines\n",
    "small model\n",
    "python -m spacy download en_core_web_sm\n",
    "\n",
    "medium model\n",
    "python -m spacy download en_core_web_md\n",
    "\n",
    "large model\n",
    "python -m spacy download en_core_web_lg"
   ]
  },
  {
   "cell_type": "markdown",
   "id": "18c910a4",
   "metadata": {},
   "source": [
    "### create training set https://spacy.io/usage/training\n",
    "\n",
    "This annotator works better https://agateteam.org/spacynerannotate/ combined with the DocBin code to create the .spacy file. \n",
    "\n",
    "https://spacy.io/usage/training#quickstart\n",
    "\n",
    "python -m spacy init fill-config ./base_config.cfg ./config.cfg\n",
    "\n",
    "This NER annotator worked better than the one above. Used the DocBin technique to convert to .spacy file. Spacy training command with config.cfg then worked.\n",
    "\n",
    "Config.cfg needs to be created for the spacy command line training. \n",
    "\n",
    "Follow the instructions in the quickstart for the base_config.cfg file. Selected OS and clicked NER\n",
    "\n",
    "https://spacy.io/usage/training#quickstart\n",
    "\n",
    "Run the following at command line to create the config.cfg. \n",
    "\n",
    "python -m spacy init fill-config ./base_config.cfg ./config.cfg\n",
    "\n",
    "Once the config file was done and spacy file was created run the following at command line to train the model\n",
    "\n",
    "To debug the data:\n",
    "python -m spacy debug data config.cfg --paths.train ./train.spacy --paths.dev ./train.spacy\n",
    "\n",
    "To debug the config file file:\n",
    "python -m spacy train config.cfg --output ./output\n",
    "\n",
    "or\n",
    "\n",
    "python -m spacy train config.cfg \n",
    "\n",
    "train the model at command line\n",
    "python -m spacy train config.cfg --output ./output --paths.train ./train.spacy --paths.dev ./train.spacy\n",
    "\n",
    "creates two directories model-best and model-last. I used model-best \n",
    "\n",
    "nlp1 = spacy.load(r\"./output/model-best\")\n",
    "\n",
    "\n",
    "Notes\n",
    "python -m spacy init fill-config ./base_config.cfg ./config.cfg\n",
    "\n",
    "python -m spacy train config.cfg --output ./output --paths.train ./train.spacy --paths.dev ./dev.spacy\n",
    "\n",
    "https://spacy.io/usage/training#basics"
   ]
  },
  {
   "cell_type": "code",
   "execution_count": null,
   "id": "1eb1d9ef",
   "metadata": {},
   "outputs": [],
   "source": [
    "#Always needed\n",
    "import spacy\n",
    "nlp = spacy.load(\"en_core_web_md\")"
   ]
  },
  {
   "cell_type": "markdown",
   "id": "884b2140",
   "metadata": {},
   "source": [
    "### Train spacy if not already done. Using output https://arunmozhi.in/ner-annotator/\n"
   ]
  },
  {
   "cell_type": "code",
   "execution_count": null,
   "id": "0fb2accf",
   "metadata": {},
   "outputs": [],
   "source": [
    "from spacy.tokens import DocBin\n",
    "import pandas as pd\n",
    "import json\n",
    "import os"
   ]
  },
  {
   "cell_type": "markdown",
   "id": "7dcd3654",
   "metadata": {},
   "source": [
    "### train the model at command line\n",
    "python -m spacy train config.cfg --output ./output --paths.train ./train.spacy --paths.dev ./dev.spacy "
   ]
  },
  {
   "cell_type": "markdown",
   "id": "5dfb45c3",
   "metadata": {},
   "source": [
    "### Main webscraper program start\n"
   ]
  },
  {
   "cell_type": "code",
   "execution_count": 1,
   "id": "a58e07e4",
   "metadata": {},
   "outputs": [
    {
     "name": "stderr",
     "output_type": "stream",
     "text": [
      "/home/mcveigh/jup/lib/python3.9/site-packages/transformers/utils/generic.py:441: UserWarning: torch.utils._pytree._register_pytree_node is deprecated. Please use torch.utils._pytree.register_pytree_node instead.\n",
      "  _torch_pytree._register_pytree_node(\n",
      "/home/mcveigh/jup/lib/python3.9/site-packages/transformers/utils/generic.py:309: UserWarning: torch.utils._pytree._register_pytree_node is deprecated. Please use torch.utils._pytree.register_pytree_node instead.\n",
      "  _torch_pytree._register_pytree_node(\n"
     ]
    }
   ],
   "source": [
    "import selenium\n",
    "from selenium import webdriver\n",
    "from selenium.webdriver.common.by import By\n",
    "#PATH = \"C:\\Users\\mcveigh\\Documents\\PythonPC\\chrome.exe\"\n",
    "#driver = webdriver.Chrome(PATH)\n",
    "from selenium.webdriver.chrome.options import Options\n",
    "import time\n",
    "import pandas as pd\n",
    "import re\n",
    "import os\n",
    "import sys\n",
    "import bs4\n",
    "from bs4 import BeautifulSoup\n",
    "import requests\n",
    "import numpy as np\n",
    "from datetime import datetime\n",
    "from nameparser import HumanName\n",
    "import spacy\n",
    "#nlp = spacy.load(\"en_core_web_sm\")\n",
    "nlp = spacy.load(\"en_core_web_md\")\n",
    "from spacy.matcher import PhraseMatcher\n",
    "from spacy import displacy"
   ]
  },
  {
   "cell_type": "code",
   "execution_count": null,
   "id": "6c8abb98",
   "metadata": {},
   "outputs": [],
   "source": [
    "#test\n",
    "text2 = (\"The type strain is 2205BS29-5T (=LMG 33062T =KACC 23240T), which is isolated from a marine sponge, P. elegans, \"\n",
    "\"collected from Beomseom in Jeju-Island, Republic of Korea.\"\n",
    "\n",
    "\"The DNA G+C content of strain 2205BS29-5T is 67.8%. The GenBank accession numbers for the 16S rRNA gene and\" \n",
    "\"whole-genome sequences of strain 2205BS29-5T are OQ569368 and JAVAMQ000000000, respectively.\")"
   ]
  },
  {
   "cell_type": "code",
   "execution_count": null,
   "id": "3fbfe8be",
   "metadata": {},
   "outputs": [],
   "source": [
    "#test but need this later\n",
    "nlp1 = spacy.load(r\"./output/model-best\") #load the best model\n",
    "doc = nlp1(text2)\n",
    "from spacy import displacy\n",
    "displacy.render(doc, style=\"ent\")"
   ]
  },
  {
   "cell_type": "markdown",
   "id": "4a6a4c13",
   "metadata": {},
   "source": [
    "### Find URLS from saved email in html - save as from outlook in htm format. URLs are extracted and saved as input for selenium"
   ]
  },
  {
   "cell_type": "code",
   "execution_count": 2,
   "id": "6136fcf9",
   "metadata": {},
   "outputs": [],
   "source": [
    "input = (r'IJSEMemail34.htm')\n",
    "output = (r'NameCheckweek34.xlsx')\n",
    "alldescriptions = (r'all_descriptions34')"
   ]
  },
  {
   "cell_type": "code",
   "execution_count": 3,
   "id": "d8a2d86b",
   "metadata": {},
   "outputs": [
    {
     "name": "stdout",
     "output_type": "stream",
     "text": [
      "IJSEMemail34.htm\n"
     ]
    }
   ],
   "source": [
    "print(input)"
   ]
  },
  {
   "cell_type": "code",
   "execution_count": 4,
   "id": "58762373",
   "metadata": {},
   "outputs": [],
   "source": [
    "#with open ('IJSEMemail33.htm', encoding = 'unicode_escape') as f:\n",
    "with open (input, encoding = 'unicode_escape') as f:\n",
    "    content = f.read()\n",
    "    soup = BeautifulSoup(content, 'html.parser')  \n",
    "#print(soup.prettify())"
   ]
  },
  {
   "cell_type": "code",
   "execution_count": 5,
   "id": "eae08e3b",
   "metadata": {},
   "outputs": [
    {
     "name": "stdout",
     "output_type": "stream",
     "text": [
      "24\n"
     ]
    }
   ],
   "source": [
    "urls = []\n",
    "numberoflinks = 0\n",
    "for url in soup.findAll( 'a', attrs={'href': re.compile(\"^https:\")}):\n",
    "    urls.append(url.get('href'))\n",
    "    numberoflinks = numberoflinks + 1\n",
    "    #print(url)\n",
    "print(numberoflinks)\n",
    "#print(urls)\n",
    "#remove_list = ['TandC','doi.org', 'myaccount']\n",
    "urls = [e for e in urls if \"TandC\" not in e and \"doi.org\" not in e and \"myaccount\" not in e and \"join-the-society\" not in e]\n",
    "\n",
    "\n",
    "#print(urls)"
   ]
  },
  {
   "cell_type": "code",
   "execution_count": null,
   "id": "f7e20bf4",
   "metadata": {},
   "outputs": [],
   "source": [
    "#def find_strains(description):\n",
    "    #strains = []\n",
    "#    nlp1 = spacy.load(r\"./output/model-best\") #load the best model\n",
    "#    doc = nlp1(description)\n",
    "#    for entity in doc.ents:\n",
    "#        if entity.text not in strains:\n",
    "#            entity.text.encode('ascii', 'ignore').decode('unicode_escape')\n",
    "#            strains.append(entity.text)\n",
    "#    return strains"
   ]
  },
  {
   "cell_type": "code",
   "execution_count": 6,
   "id": "f40419a3",
   "metadata": {},
   "outputs": [],
   "source": [
    "def find_strains(description):\n",
    "    \"\"\"Find strains with spacy\"\"\"\n",
    "    #print('Entering strain subroutine')\n",
    "    doc = nlp(description)\n",
    "    nlp1 = spacy.load(r\"./output/model-best\") #load the best model\n",
    "    phrase_matcher = PhraseMatcher(nlp.vocab)\n",
    "    phrases = ['strain', 'Strain', 'strains', 'Strains']\n",
    "    patterns = [nlp(description) for description in phrases]\n",
    "    phrase_matcher.add('STRAIN', None, *patterns)\n",
    "               \n",
    "    for sent in doc.sents:    \n",
    "        for match_id, start, end in phrase_matcher(nlp(sent.text)):\n",
    "            if nlp.vocab.strings[match_id] in [\"STRAIN\"]:\n",
    "                print(sent.text)\n",
    "                doc = nlp1(sent.text)\n",
    "                displacy.render(doc, style=\"ent\")\n",
    "                for entity in doc.ents:\n",
    "                    if entity.text not in strains:\n",
    "                        entity.text.encode('ascii', 'ignore').decode('unicode_escape')\n",
    "                        strains.append(entity.text)\n",
    "    return strains\n",
    "\n",
    "def remove_non_ascii(text):\n",
    "    \"\"\"Remove non-ASCII characters\"\"\"\n",
    "    return ''.join(char for char in text if ord(char) < 128)\n",
    "\n",
    "\n"
   ]
  },
  {
   "cell_type": "markdown",
   "id": "33443ded",
   "metadata": {},
   "source": [
    "### Main body - Selenium to extract data from html\n",
    "### https://nameparser.readthedocs.io/en/latest/index.html to find the last name"
   ]
  },
  {
   "cell_type": "code",
   "execution_count": 7,
   "id": "22d6f4bf",
   "metadata": {},
   "outputs": [
    {
     "name": "stdout",
     "output_type": "stream",
     "text": [
      "Definition of the rhizobial symbiovars caraganae, robiniae and sophorae within Mesorhizobium and albiziae within Neomesorhizobium\n",
      "Thalassobellus suaedae gen. nov., sp. nov., a marine bacterium of the family Flavobacteriaceae isolated from a halophyte Suaeda japonica\n",
      "Outer div ID: s6-1, Text: Description of Thalassobellus gen. nov.\n",
      "orgname []\n",
      "accessions []\n",
      "strain names []\n",
      "BREAK2\n",
      "Outer div ID: s6-2, Text: Description of Thalassobellus suaedae sp. nov.\n",
      "orgname ['Thalassobellus suaedae ']\n",
      "accessions ['OR229715', 'OR652609', 'OR229716', 'OR652608', 'CP134536', 'CP134537']\n",
      "N.L. gen. n. suaedae, of Suaeda, the generic name of the halophyte, referring to the isolation of the type strain from the halophyte Suaeda japonica).\n",
      "\n"
     ]
    },
    {
     "name": "stderr",
     "output_type": "stream",
     "text": [
      "/home/mcveigh/jup/lib/python3.9/site-packages/spacy/displacy/__init__.py:213: UserWarning: [W006] No entities to visualize found in Doc object. If this is surprising to you, make sure the Doc was processed using a model that supports named entity recognition, and check the `doc.ents` property manually if necessary.\n",
      "  warnings.warn(Warnings.W006)\n"
     ]
    },
    {
     "data": {
      "text/html": [
       "<span class=\"tex2jax_ignore\"><div class=\"entities\" style=\"line-height: 2.5; direction: ltr\">N.L. gen. n. suaedae, of Suaeda, the generic name of the halophyte, referring to the isolation of the type strain from the halophyte Suaeda japonica).<br></div></span>"
      ],
      "text/plain": [
       "<IPython.core.display.HTML object>"
      ]
     },
     "metadata": {},
     "output_type": "display_data"
    },
    {
     "name": "stdout",
     "output_type": "stream",
     "text": [
      "The utilization of d-maltose and mannitol as a sole carbon source is variable depending on strains.\n"
     ]
    },
    {
     "data": {
      "text/html": [
       "<span class=\"tex2jax_ignore\"><div class=\"entities\" style=\"line-height: 2.5; direction: ltr\">The utilization of d-maltose and mannitol as a sole carbon source is variable depending on strains.</div></span>"
      ],
      "text/plain": [
       "<IPython.core.display.HTML object>"
      ]
     },
     "metadata": {},
     "output_type": "display_data"
    },
    {
     "name": "stdout",
     "output_type": "stream",
     "text": [
      "The type strain HL-DH10T (=KCCM 90512T=JCM 36598T) and sister strain HL-DH14 (=KCCM 90513\n"
     ]
    },
    {
     "data": {
      "text/html": [
       "<span class=\"tex2jax_ignore\"><div class=\"entities\" style=\"line-height: 2.5; direction: ltr\">The type strain \n",
       "<mark class=\"entity\" style=\"background: #ddd; padding: 0.45em 0.6em; margin: 0 0.25em; line-height: 1; border-radius: 0.35em;\">\n",
       "    HL-DH10T\n",
       "    <span style=\"font-size: 0.8em; font-weight: bold; line-height: 1; border-radius: 0.35em; vertical-align: middle; margin-left: 0.5rem\">STRAIN</span>\n",
       "</mark>\n",
       " (=\n",
       "<mark class=\"entity\" style=\"background: #ddd; padding: 0.45em 0.6em; margin: 0 0.25em; line-height: 1; border-radius: 0.35em;\">\n",
       "    KCCM 90512T\n",
       "    <span style=\"font-size: 0.8em; font-weight: bold; line-height: 1; border-radius: 0.35em; vertical-align: middle; margin-left: 0.5rem\">STRAIN</span>\n",
       "</mark>\n",
       "=\n",
       "<mark class=\"entity\" style=\"background: #ddd; padding: 0.45em 0.6em; margin: 0 0.25em; line-height: 1; border-radius: 0.35em;\">\n",
       "    JCM 36598T\n",
       "    <span style=\"font-size: 0.8em; font-weight: bold; line-height: 1; border-radius: 0.35em; vertical-align: middle; margin-left: 0.5rem\">STRAIN</span>\n",
       "</mark>\n",
       ") and sister strain \n",
       "<mark class=\"entity\" style=\"background: #ddd; padding: 0.45em 0.6em; margin: 0 0.25em; line-height: 1; border-radius: 0.35em;\">\n",
       "    HL-DH14\n",
       "    <span style=\"font-size: 0.8em; font-weight: bold; line-height: 1; border-radius: 0.35em; vertical-align: middle; margin-left: 0.5rem\">STRAIN</span>\n",
       "</mark>\n",
       " (=\n",
       "<mark class=\"entity\" style=\"background: #ddd; padding: 0.45em 0.6em; margin: 0 0.25em; line-height: 1; border-radius: 0.35em;\">\n",
       "    KCCM 90513\n",
       "    <span style=\"font-size: 0.8em; font-weight: bold; line-height: 1; border-radius: 0.35em; vertical-align: middle; margin-left: 0.5rem\">STRAIN</span>\n",
       "</mark>\n",
       "</div></span>"
      ],
      "text/plain": [
       "<IPython.core.display.HTML object>"
      ]
     },
     "metadata": {},
     "output_type": "display_data"
    },
    {
     "name": "stdout",
     "output_type": "stream",
     "text": [
      "The type strain HL-DH10T (=KCCM 90512T=JCM 36598T) and sister strain HL-DH14 (=KCCM 90513\n"
     ]
    },
    {
     "data": {
      "text/html": [
       "<span class=\"tex2jax_ignore\"><div class=\"entities\" style=\"line-height: 2.5; direction: ltr\">The type strain \n",
       "<mark class=\"entity\" style=\"background: #ddd; padding: 0.45em 0.6em; margin: 0 0.25em; line-height: 1; border-radius: 0.35em;\">\n",
       "    HL-DH10T\n",
       "    <span style=\"font-size: 0.8em; font-weight: bold; line-height: 1; border-radius: 0.35em; vertical-align: middle; margin-left: 0.5rem\">STRAIN</span>\n",
       "</mark>\n",
       " (=\n",
       "<mark class=\"entity\" style=\"background: #ddd; padding: 0.45em 0.6em; margin: 0 0.25em; line-height: 1; border-radius: 0.35em;\">\n",
       "    KCCM 90512T\n",
       "    <span style=\"font-size: 0.8em; font-weight: bold; line-height: 1; border-radius: 0.35em; vertical-align: middle; margin-left: 0.5rem\">STRAIN</span>\n",
       "</mark>\n",
       "=\n",
       "<mark class=\"entity\" style=\"background: #ddd; padding: 0.45em 0.6em; margin: 0 0.25em; line-height: 1; border-radius: 0.35em;\">\n",
       "    JCM 36598T\n",
       "    <span style=\"font-size: 0.8em; font-weight: bold; line-height: 1; border-radius: 0.35em; vertical-align: middle; margin-left: 0.5rem\">STRAIN</span>\n",
       "</mark>\n",
       ") and sister strain \n",
       "<mark class=\"entity\" style=\"background: #ddd; padding: 0.45em 0.6em; margin: 0 0.25em; line-height: 1; border-radius: 0.35em;\">\n",
       "    HL-DH14\n",
       "    <span style=\"font-size: 0.8em; font-weight: bold; line-height: 1; border-radius: 0.35em; vertical-align: middle; margin-left: 0.5rem\">STRAIN</span>\n",
       "</mark>\n",
       " (=\n",
       "<mark class=\"entity\" style=\"background: #ddd; padding: 0.45em 0.6em; margin: 0 0.25em; line-height: 1; border-radius: 0.35em;\">\n",
       "    KCCM 90513\n",
       "    <span style=\"font-size: 0.8em; font-weight: bold; line-height: 1; border-radius: 0.35em; vertical-align: middle; margin-left: 0.5rem\">STRAIN</span>\n",
       "</mark>\n",
       "</div></span>"
      ],
      "text/plain": [
       "<IPython.core.display.HTML object>"
      ]
     },
     "metadata": {},
     "output_type": "display_data"
    },
    {
     "name": "stdout",
     "output_type": "stream",
     "text": [
      "The GenBank/EMBL/DDBJ accession numbers for the 16S rRNA gene sequence of strain HL-DH10T are OR229715 (partial sequence) and OR652609 (complete sequence).\n"
     ]
    },
    {
     "data": {
      "text/html": [
       "<span class=\"tex2jax_ignore\"><div class=\"entities\" style=\"line-height: 2.5; direction: ltr\">The GenBank/EMBL/DDBJ accession numbers for the 16S rRNA gene sequence of strain \n",
       "<mark class=\"entity\" style=\"background: #ddd; padding: 0.45em 0.6em; margin: 0 0.25em; line-height: 1; border-radius: 0.35em;\">\n",
       "    HL-DH10T\n",
       "    <span style=\"font-size: 0.8em; font-weight: bold; line-height: 1; border-radius: 0.35em; vertical-align: middle; margin-left: 0.5rem\">STRAIN</span>\n",
       "</mark>\n",
       " are OR229715 (partial sequence) and OR652609 (complete sequence).</div></span>"
      ],
      "text/plain": [
       "<IPython.core.display.HTML object>"
      ]
     },
     "metadata": {},
     "output_type": "display_data"
    },
    {
     "name": "stdout",
     "output_type": "stream",
     "text": [
      "The accession numbers for the 16S rRNA gene sequence of strain HL-DH14 are OR229716 (partial sequence) and OR652608 (complete sequence).\n"
     ]
    },
    {
     "data": {
      "text/html": [
       "<span class=\"tex2jax_ignore\"><div class=\"entities\" style=\"line-height: 2.5; direction: ltr\">The accession numbers for the 16S rRNA gene sequence of strain \n",
       "<mark class=\"entity\" style=\"background: #ddd; padding: 0.45em 0.6em; margin: 0 0.25em; line-height: 1; border-radius: 0.35em;\">\n",
       "    HL-DH14\n",
       "    <span style=\"font-size: 0.8em; font-weight: bold; line-height: 1; border-radius: 0.35em; vertical-align: middle; margin-left: 0.5rem\">STRAIN</span>\n",
       "</mark>\n",
       " are OR229716 (partial sequence) and OR652608 (complete sequence).</div></span>"
      ],
      "text/plain": [
       "<IPython.core.display.HTML object>"
      ]
     },
     "metadata": {},
     "output_type": "display_data"
    },
    {
     "name": "stdout",
     "output_type": "stream",
     "text": [
      "The accession numbers for the complete genome sequence of strains HL-DH10T and HL-DH14 are CP134536 and CP134537, respectively.\n"
     ]
    },
    {
     "data": {
      "text/html": [
       "<span class=\"tex2jax_ignore\"><div class=\"entities\" style=\"line-height: 2.5; direction: ltr\">The accession numbers for the complete genome sequence of strains \n",
       "<mark class=\"entity\" style=\"background: #ddd; padding: 0.45em 0.6em; margin: 0 0.25em; line-height: 1; border-radius: 0.35em;\">\n",
       "    HL-DH10T\n",
       "    <span style=\"font-size: 0.8em; font-weight: bold; line-height: 1; border-radius: 0.35em; vertical-align: middle; margin-left: 0.5rem\">STRAIN</span>\n",
       "</mark>\n",
       " and \n",
       "<mark class=\"entity\" style=\"background: #ddd; padding: 0.45em 0.6em; margin: 0 0.25em; line-height: 1; border-radius: 0.35em;\">\n",
       "    HL-DH14\n",
       "    <span style=\"font-size: 0.8em; font-weight: bold; line-height: 1; border-radius: 0.35em; vertical-align: middle; margin-left: 0.5rem\">STRAIN</span>\n",
       "</mark>\n",
       " are CP134536 and CP134537, respectively.</div></span>"
      ],
      "text/plain": [
       "<IPython.core.display.HTML object>"
      ]
     },
     "metadata": {},
     "output_type": "display_data"
    },
    {
     "name": "stdout",
     "output_type": "stream",
     "text": [
      "strain names ['HL-DH10T', 'KCCM 90512T', 'JCM 36598T', 'HL-DH14', 'KCCM 90513']\n",
      "BREAK2\n",
      "Outer div ID: s6-1, Text: Description of Thalassobellus gen. nov.\n",
      "orgname []\n",
      "accessions []\n",
      "strain names []\n",
      "BREAK2\n",
      "Outer div ID: s6-2, Text: Description of Thalassobellus suaedae sp. nov.\n",
      "orgname ['Thalassobellus suaedae ']\n",
      "accessions ['OR229715', 'OR652609', 'OR229716', 'OR652608', 'CP134536', 'CP134537']\n",
      "N.L. gen. n. suaedae, of Suaeda, the generic name of the halophyte, referring to the isolation of the type strain from the halophyte Suaeda japonica).\n",
      "\n"
     ]
    },
    {
     "name": "stderr",
     "output_type": "stream",
     "text": [
      "/home/mcveigh/jup/lib/python3.9/site-packages/spacy/displacy/__init__.py:213: UserWarning: [W006] No entities to visualize found in Doc object. If this is surprising to you, make sure the Doc was processed using a model that supports named entity recognition, and check the `doc.ents` property manually if necessary.\n",
      "  warnings.warn(Warnings.W006)\n"
     ]
    },
    {
     "data": {
      "text/html": [
       "<span class=\"tex2jax_ignore\"><div class=\"entities\" style=\"line-height: 2.5; direction: ltr\">N.L. gen. n. suaedae, of Suaeda, the generic name of the halophyte, referring to the isolation of the type strain from the halophyte Suaeda japonica).<br></div></span>"
      ],
      "text/plain": [
       "<IPython.core.display.HTML object>"
      ]
     },
     "metadata": {},
     "output_type": "display_data"
    },
    {
     "name": "stdout",
     "output_type": "stream",
     "text": [
      "The utilization of d-maltose and mannitol as a sole carbon source is variable depending on strains.\n"
     ]
    },
    {
     "data": {
      "text/html": [
       "<span class=\"tex2jax_ignore\"><div class=\"entities\" style=\"line-height: 2.5; direction: ltr\">The utilization of d-maltose and mannitol as a sole carbon source is variable depending on strains.</div></span>"
      ],
      "text/plain": [
       "<IPython.core.display.HTML object>"
      ]
     },
     "metadata": {},
     "output_type": "display_data"
    },
    {
     "name": "stdout",
     "output_type": "stream",
     "text": [
      "The type strain HL-DH10T (=KCCM 90512T=JCM 36598T) and sister strain HL-DH14 (=KCCM 90513\n"
     ]
    },
    {
     "data": {
      "text/html": [
       "<span class=\"tex2jax_ignore\"><div class=\"entities\" style=\"line-height: 2.5; direction: ltr\">The type strain \n",
       "<mark class=\"entity\" style=\"background: #ddd; padding: 0.45em 0.6em; margin: 0 0.25em; line-height: 1; border-radius: 0.35em;\">\n",
       "    HL-DH10T\n",
       "    <span style=\"font-size: 0.8em; font-weight: bold; line-height: 1; border-radius: 0.35em; vertical-align: middle; margin-left: 0.5rem\">STRAIN</span>\n",
       "</mark>\n",
       " (=\n",
       "<mark class=\"entity\" style=\"background: #ddd; padding: 0.45em 0.6em; margin: 0 0.25em; line-height: 1; border-radius: 0.35em;\">\n",
       "    KCCM 90512T\n",
       "    <span style=\"font-size: 0.8em; font-weight: bold; line-height: 1; border-radius: 0.35em; vertical-align: middle; margin-left: 0.5rem\">STRAIN</span>\n",
       "</mark>\n",
       "=\n",
       "<mark class=\"entity\" style=\"background: #ddd; padding: 0.45em 0.6em; margin: 0 0.25em; line-height: 1; border-radius: 0.35em;\">\n",
       "    JCM 36598T\n",
       "    <span style=\"font-size: 0.8em; font-weight: bold; line-height: 1; border-radius: 0.35em; vertical-align: middle; margin-left: 0.5rem\">STRAIN</span>\n",
       "</mark>\n",
       ") and sister strain \n",
       "<mark class=\"entity\" style=\"background: #ddd; padding: 0.45em 0.6em; margin: 0 0.25em; line-height: 1; border-radius: 0.35em;\">\n",
       "    HL-DH14\n",
       "    <span style=\"font-size: 0.8em; font-weight: bold; line-height: 1; border-radius: 0.35em; vertical-align: middle; margin-left: 0.5rem\">STRAIN</span>\n",
       "</mark>\n",
       " (=\n",
       "<mark class=\"entity\" style=\"background: #ddd; padding: 0.45em 0.6em; margin: 0 0.25em; line-height: 1; border-radius: 0.35em;\">\n",
       "    KCCM 90513\n",
       "    <span style=\"font-size: 0.8em; font-weight: bold; line-height: 1; border-radius: 0.35em; vertical-align: middle; margin-left: 0.5rem\">STRAIN</span>\n",
       "</mark>\n",
       "</div></span>"
      ],
      "text/plain": [
       "<IPython.core.display.HTML object>"
      ]
     },
     "metadata": {},
     "output_type": "display_data"
    },
    {
     "name": "stdout",
     "output_type": "stream",
     "text": [
      "The type strain HL-DH10T (=KCCM 90512T=JCM 36598T) and sister strain HL-DH14 (=KCCM 90513\n"
     ]
    },
    {
     "data": {
      "text/html": [
       "<span class=\"tex2jax_ignore\"><div class=\"entities\" style=\"line-height: 2.5; direction: ltr\">The type strain \n",
       "<mark class=\"entity\" style=\"background: #ddd; padding: 0.45em 0.6em; margin: 0 0.25em; line-height: 1; border-radius: 0.35em;\">\n",
       "    HL-DH10T\n",
       "    <span style=\"font-size: 0.8em; font-weight: bold; line-height: 1; border-radius: 0.35em; vertical-align: middle; margin-left: 0.5rem\">STRAIN</span>\n",
       "</mark>\n",
       " (=\n",
       "<mark class=\"entity\" style=\"background: #ddd; padding: 0.45em 0.6em; margin: 0 0.25em; line-height: 1; border-radius: 0.35em;\">\n",
       "    KCCM 90512T\n",
       "    <span style=\"font-size: 0.8em; font-weight: bold; line-height: 1; border-radius: 0.35em; vertical-align: middle; margin-left: 0.5rem\">STRAIN</span>\n",
       "</mark>\n",
       "=\n",
       "<mark class=\"entity\" style=\"background: #ddd; padding: 0.45em 0.6em; margin: 0 0.25em; line-height: 1; border-radius: 0.35em;\">\n",
       "    JCM 36598T\n",
       "    <span style=\"font-size: 0.8em; font-weight: bold; line-height: 1; border-radius: 0.35em; vertical-align: middle; margin-left: 0.5rem\">STRAIN</span>\n",
       "</mark>\n",
       ") and sister strain \n",
       "<mark class=\"entity\" style=\"background: #ddd; padding: 0.45em 0.6em; margin: 0 0.25em; line-height: 1; border-radius: 0.35em;\">\n",
       "    HL-DH14\n",
       "    <span style=\"font-size: 0.8em; font-weight: bold; line-height: 1; border-radius: 0.35em; vertical-align: middle; margin-left: 0.5rem\">STRAIN</span>\n",
       "</mark>\n",
       " (=\n",
       "<mark class=\"entity\" style=\"background: #ddd; padding: 0.45em 0.6em; margin: 0 0.25em; line-height: 1; border-radius: 0.35em;\">\n",
       "    KCCM 90513\n",
       "    <span style=\"font-size: 0.8em; font-weight: bold; line-height: 1; border-radius: 0.35em; vertical-align: middle; margin-left: 0.5rem\">STRAIN</span>\n",
       "</mark>\n",
       "</div></span>"
      ],
      "text/plain": [
       "<IPython.core.display.HTML object>"
      ]
     },
     "metadata": {},
     "output_type": "display_data"
    },
    {
     "name": "stdout",
     "output_type": "stream",
     "text": [
      "The GenBank/EMBL/DDBJ accession numbers for the 16S rRNA gene sequence of strain HL-DH10T are OR229715 (partial sequence) and OR652609 (complete sequence).\n"
     ]
    },
    {
     "data": {
      "text/html": [
       "<span class=\"tex2jax_ignore\"><div class=\"entities\" style=\"line-height: 2.5; direction: ltr\">The GenBank/EMBL/DDBJ accession numbers for the 16S rRNA gene sequence of strain \n",
       "<mark class=\"entity\" style=\"background: #ddd; padding: 0.45em 0.6em; margin: 0 0.25em; line-height: 1; border-radius: 0.35em;\">\n",
       "    HL-DH10T\n",
       "    <span style=\"font-size: 0.8em; font-weight: bold; line-height: 1; border-radius: 0.35em; vertical-align: middle; margin-left: 0.5rem\">STRAIN</span>\n",
       "</mark>\n",
       " are OR229715 (partial sequence) and OR652609 (complete sequence).</div></span>"
      ],
      "text/plain": [
       "<IPython.core.display.HTML object>"
      ]
     },
     "metadata": {},
     "output_type": "display_data"
    },
    {
     "name": "stdout",
     "output_type": "stream",
     "text": [
      "The accession numbers for the 16S rRNA gene sequence of strain HL-DH14 are OR229716 (partial sequence) and OR652608 (complete sequence).\n"
     ]
    },
    {
     "data": {
      "text/html": [
       "<span class=\"tex2jax_ignore\"><div class=\"entities\" style=\"line-height: 2.5; direction: ltr\">The accession numbers for the 16S rRNA gene sequence of strain \n",
       "<mark class=\"entity\" style=\"background: #ddd; padding: 0.45em 0.6em; margin: 0 0.25em; line-height: 1; border-radius: 0.35em;\">\n",
       "    HL-DH14\n",
       "    <span style=\"font-size: 0.8em; font-weight: bold; line-height: 1; border-radius: 0.35em; vertical-align: middle; margin-left: 0.5rem\">STRAIN</span>\n",
       "</mark>\n",
       " are OR229716 (partial sequence) and OR652608 (complete sequence).</div></span>"
      ],
      "text/plain": [
       "<IPython.core.display.HTML object>"
      ]
     },
     "metadata": {},
     "output_type": "display_data"
    },
    {
     "name": "stdout",
     "output_type": "stream",
     "text": [
      "The accession numbers for the complete genome sequence of strains HL-DH10T and HL-DH14 are CP134536 and CP134537, respectively.\n"
     ]
    },
    {
     "data": {
      "text/html": [
       "<span class=\"tex2jax_ignore\"><div class=\"entities\" style=\"line-height: 2.5; direction: ltr\">The accession numbers for the complete genome sequence of strains \n",
       "<mark class=\"entity\" style=\"background: #ddd; padding: 0.45em 0.6em; margin: 0 0.25em; line-height: 1; border-radius: 0.35em;\">\n",
       "    HL-DH10T\n",
       "    <span style=\"font-size: 0.8em; font-weight: bold; line-height: 1; border-radius: 0.35em; vertical-align: middle; margin-left: 0.5rem\">STRAIN</span>\n",
       "</mark>\n",
       " and \n",
       "<mark class=\"entity\" style=\"background: #ddd; padding: 0.45em 0.6em; margin: 0 0.25em; line-height: 1; border-radius: 0.35em;\">\n",
       "    HL-DH14\n",
       "    <span style=\"font-size: 0.8em; font-weight: bold; line-height: 1; border-radius: 0.35em; vertical-align: middle; margin-left: 0.5rem\">STRAIN</span>\n",
       "</mark>\n",
       " are CP134536 and CP134537, respectively.</div></span>"
      ],
      "text/plain": [
       "<IPython.core.display.HTML object>"
      ]
     },
     "metadata": {},
     "output_type": "display_data"
    },
    {
     "name": "stdout",
     "output_type": "stream",
     "text": [
      "strain names ['HL-DH10T', 'KCCM 90512T', 'JCM 36598T', 'HL-DH14', 'KCCM 90513']\n",
      "BREAK2\n",
      "International Committee on Systematics of Prokaryotes Subcommittee on the Taxonomy of Rhizobia and Agrobacteria: Minutes of the 2024 closed annual meeting\n",
      "Methanobacterium aridiramus sp. nov., a methanogen isolated from potential methane hydrate bearing area offshore southwestern Taiwan\n",
      "orgname ['Methanobacterium aridiramus ']\n",
      "accessions ['MK979366', 'CP040735']\n",
      "The type strain is CWC-01T (=BCRC AR10053T=NBRC 113991T).\n"
     ]
    },
    {
     "data": {
      "text/html": [
       "<span class=\"tex2jax_ignore\"><div class=\"entities\" style=\"line-height: 2.5; direction: ltr\">The type strain is \n",
       "<mark class=\"entity\" style=\"background: #ddd; padding: 0.45em 0.6em; margin: 0 0.25em; line-height: 1; border-radius: 0.35em;\">\n",
       "    CWC-01T\n",
       "    <span style=\"font-size: 0.8em; font-weight: bold; line-height: 1; border-radius: 0.35em; vertical-align: middle; margin-left: 0.5rem\">STRAIN</span>\n",
       "</mark>\n",
       " (=\n",
       "<mark class=\"entity\" style=\"background: #ddd; padding: 0.45em 0.6em; margin: 0 0.25em; line-height: 1; border-radius: 0.35em;\">\n",
       "    BCRC AR10053T\n",
       "    <span style=\"font-size: 0.8em; font-weight: bold; line-height: 1; border-radius: 0.35em; vertical-align: middle; margin-left: 0.5rem\">STRAIN</span>\n",
       "</mark>\n",
       "=\n",
       "<mark class=\"entity\" style=\"background: #ddd; padding: 0.45em 0.6em; margin: 0 0.25em; line-height: 1; border-radius: 0.35em;\">\n",
       "    NBRC 113991T\n",
       "    <span style=\"font-size: 0.8em; font-weight: bold; line-height: 1; border-radius: 0.35em; vertical-align: middle; margin-left: 0.5rem\">STRAIN</span>\n",
       "</mark>\n",
       ").</div></span>"
      ],
      "text/plain": [
       "<IPython.core.display.HTML object>"
      ]
     },
     "metadata": {},
     "output_type": "display_data"
    },
    {
     "name": "stdout",
     "output_type": "stream",
     "text": [
      "The DDBJ/EMA/GenBank accession numbers for the 16S rRNA gene sequence and complete genome sequence of strain CWC-01T are MK979366 and CP040735, respectively.\n",
      " \n"
     ]
    },
    {
     "data": {
      "text/html": [
       "<span class=\"tex2jax_ignore\"><div class=\"entities\" style=\"line-height: 2.5; direction: ltr\">The DDBJ/EMA/GenBank accession numbers for the 16S rRNA gene sequence and complete genome sequence of strain \n",
       "<mark class=\"entity\" style=\"background: #ddd; padding: 0.45em 0.6em; margin: 0 0.25em; line-height: 1; border-radius: 0.35em;\">\n",
       "    CWC-01T\n",
       "    <span style=\"font-size: 0.8em; font-weight: bold; line-height: 1; border-radius: 0.35em; vertical-align: middle; margin-left: 0.5rem\">STRAIN</span>\n",
       "</mark>\n",
       " are MK979366 and CP040735, respectively.<br> </div></span>"
      ],
      "text/plain": [
       "<IPython.core.display.HTML object>"
      ]
     },
     "metadata": {},
     "output_type": "display_data"
    },
    {
     "name": "stdout",
     "output_type": "stream",
     "text": [
      "strain names ['CWC-01T', 'BCRC AR10053T', 'NBRC 113991T']\n",
      "orgname ['Methanobacterium aridiramus ']\n",
      "accessions []\n",
      "strain names ['CWC-01T', 'BCRC AR10053T', 'NBRC 113991T']\n",
      "BREAK1\n",
      "Minisyncoccus archaeiphilus gen. nov., sp. nov., a mesophilic, obligate parasitic bacterium and proposal of Minisyncoccaceae fam. nov., Minisyncoccales ord. nov., Minisyncoccia class. nov. and Minisyncoccota phyl. nov. formerly referred to as Candidatus Patescibacteria or candidate phyla radiation\n",
      "orgname []\n",
      "accessions []\n",
      "strain names []\n",
      "orgname []\n",
      "accessions []\n",
      "strain names []\n",
      "BREAK1\n",
      "orgname ['Minisyncoccus archaeiphilus ']\n",
      "accessions ['AP038758', 'LC847185']\n",
      "These structures are either present individually or attached to the plug structure of the host archaeon Methanospirillum hungatei strain DSM 864T. The cells are obligate parasites that grow under anaerobic conditions with their host.\n"
     ]
    },
    {
     "name": "stderr",
     "output_type": "stream",
     "text": [
      "/home/mcveigh/jup/lib/python3.9/site-packages/spacy/displacy/__init__.py:213: UserWarning: [W006] No entities to visualize found in Doc object. If this is surprising to you, make sure the Doc was processed using a model that supports named entity recognition, and check the `doc.ents` property manually if necessary.\n",
      "  warnings.warn(Warnings.W006)\n"
     ]
    },
    {
     "data": {
      "text/html": [
       "<span class=\"tex2jax_ignore\"><div class=\"entities\" style=\"line-height: 2.5; direction: ltr\">These structures are either present individually or attached to the plug structure of the host archaeon Methanospirillum hungatei strain DSM 864T. The cells are obligate parasites that grow under anaerobic conditions with their host.</div></span>"
      ],
      "text/plain": [
       "<IPython.core.display.HTML object>"
      ]
     },
     "metadata": {},
     "output_type": "display_data"
    },
    {
     "name": "stdout",
     "output_type": "stream",
     "text": [
      "All strains sharing with the genome sequence of the type strain ANI values >95% are considered to be affiliated with this species.\n"
     ]
    },
    {
     "data": {
      "text/html": [
       "<span class=\"tex2jax_ignore\"><div class=\"entities\" style=\"line-height: 2.5; direction: ltr\">All strains sharing with the genome sequence of the type strain ANI values &gt;95% are considered to be affiliated with this species.</div></span>"
      ],
      "text/plain": [
       "<IPython.core.display.HTML object>"
      ]
     },
     "metadata": {},
     "output_type": "display_data"
    },
    {
     "name": "stdout",
     "output_type": "stream",
     "text": [
      "All strains sharing with the genome sequence of the type strain ANI values >95% are considered to be affiliated with this species.\n"
     ]
    },
    {
     "data": {
      "text/html": [
       "<span class=\"tex2jax_ignore\"><div class=\"entities\" style=\"line-height: 2.5; direction: ltr\">All strains sharing with the genome sequence of the type strain ANI values &gt;95% are considered to be affiliated with this species.</div></span>"
      ],
      "text/plain": [
       "<IPython.core.display.HTML object>"
      ]
     },
     "metadata": {},
     "output_type": "display_data"
    },
    {
     "name": "stdout",
     "output_type": "stream",
     "text": [
      "The type strain, PMX.108T (=JCM 39522T), was obtained from Candidatus Patescibacteria-enriched culture in an anaerobic laboratory-scale bioreactor used to treat purified terephthalate and dimethyl terephthalate-manufacturing wastewater in Sapporo, Hokkaido, Japan.\n"
     ]
    },
    {
     "data": {
      "text/html": [
       "<span class=\"tex2jax_ignore\"><div class=\"entities\" style=\"line-height: 2.5; direction: ltr\">The type strain, \n",
       "<mark class=\"entity\" style=\"background: #ddd; padding: 0.45em 0.6em; margin: 0 0.25em; line-height: 1; border-radius: 0.35em;\">\n",
       "    PMX.108T\n",
       "    <span style=\"font-size: 0.8em; font-weight: bold; line-height: 1; border-radius: 0.35em; vertical-align: middle; margin-left: 0.5rem\">STRAIN</span>\n",
       "</mark>\n",
       " (=\n",
       "<mark class=\"entity\" style=\"background: #ddd; padding: 0.45em 0.6em; margin: 0 0.25em; line-height: 1; border-radius: 0.35em;\">\n",
       "    JCM 39522T\n",
       "    <span style=\"font-size: 0.8em; font-weight: bold; line-height: 1; border-radius: 0.35em; vertical-align: middle; margin-left: 0.5rem\">STRAIN</span>\n",
       "</mark>\n",
       "), was obtained from Candidatus Patescibacteria-enriched culture in an anaerobic laboratory-scale bioreactor used to treat purified terephthalate and dimethyl terephthalate-manufacturing wastewater in Sapporo, Hokkaido, Japan.</div></span>"
      ],
      "text/plain": [
       "<IPython.core.display.HTML object>"
      ]
     },
     "metadata": {},
     "output_type": "display_data"
    },
    {
     "name": "stdout",
     "output_type": "stream",
     "text": [
      "The complete genome and 16S rRNA gene sequences of Minisyncoccus archaeiphilus strain PMX.108T were deposited in DDBJ/GenBank/EMBL under the accession numbers AP038758 and LC847185, respectively.\n",
      " \n"
     ]
    },
    {
     "data": {
      "text/html": [
       "<span class=\"tex2jax_ignore\"><div class=\"entities\" style=\"line-height: 2.5; direction: ltr\">The complete genome and 16S rRNA gene sequences of Minisyncoccus archaeiphilus strain \n",
       "<mark class=\"entity\" style=\"background: #ddd; padding: 0.45em 0.6em; margin: 0 0.25em; line-height: 1; border-radius: 0.35em;\">\n",
       "    PMX.108T\n",
       "    <span style=\"font-size: 0.8em; font-weight: bold; line-height: 1; border-radius: 0.35em; vertical-align: middle; margin-left: 0.5rem\">STRAIN</span>\n",
       "</mark>\n",
       " were deposited in DDBJ/GenBank/EMBL under the accession numbers AP038758 and LC847185, respectively.<br> </div></span>"
      ],
      "text/plain": [
       "<IPython.core.display.HTML object>"
      ]
     },
     "metadata": {},
     "output_type": "display_data"
    },
    {
     "name": "stdout",
     "output_type": "stream",
     "text": [
      "strain names ['PMX.108T', 'JCM 39522T']\n",
      "orgname ['Minisyncoccus archaeiphilus ']\n",
      "accessions []\n",
      "strain names ['PMX.108T', 'JCM 39522T']\n",
      "BREAK1\n",
      "orgname []\n",
      "accessions []\n",
      "strain names []\n",
      "orgname []\n",
      "accessions []\n",
      "strain names []\n",
      "BREAK1\n",
      "orgname []\n",
      "accessions []\n",
      "strain names []\n",
      "orgname []\n",
      "accessions []\n",
      "strain names []\n",
      "BREAK1\n",
      "orgname []\n",
      "accessions []\n",
      "strain names []\n",
      "orgname []\n",
      "accessions []\n",
      "strain names []\n",
      "BREAK1\n",
      "orgname []\n",
      "accessions []\n",
      "strain names []\n",
      "orgname []\n",
      "accessions []\n",
      "strain names []\n",
      "BREAK1\n",
      "Afipia dichlorophenoxyacetatis sp. nov., isolated from field soil in Japan, degrades 2,4-dichlorophenoxyacetic acid\n",
      "orgname ['Afipia dichlorophenoxyacetatis ']\n",
      "accessions ['AP029250', 'AP029255', 'LC770309', 'LC770310']\n",
      "The type strain, DD3T (MAFF 311804T=ICMP 25015T), was isolated from field soil in Ibaraki Prefecture, Japan, in 2005.\n"
     ]
    },
    {
     "data": {
      "text/html": [
       "<span class=\"tex2jax_ignore\"><div class=\"entities\" style=\"line-height: 2.5; direction: ltr\">The type strain, \n",
       "<mark class=\"entity\" style=\"background: #ddd; padding: 0.45em 0.6em; margin: 0 0.25em; line-height: 1; border-radius: 0.35em;\">\n",
       "    DD3T\n",
       "    <span style=\"font-size: 0.8em; font-weight: bold; line-height: 1; border-radius: 0.35em; vertical-align: middle; margin-left: 0.5rem\">STRAIN</span>\n",
       "</mark>\n",
       " (\n",
       "<mark class=\"entity\" style=\"background: #ddd; padding: 0.45em 0.6em; margin: 0 0.25em; line-height: 1; border-radius: 0.35em;\">\n",
       "    MAFF 311804T\n",
       "    <span style=\"font-size: 0.8em; font-weight: bold; line-height: 1; border-radius: 0.35em; vertical-align: middle; margin-left: 0.5rem\">STRAIN</span>\n",
       "</mark>\n",
       "=\n",
       "<mark class=\"entity\" style=\"background: #ddd; padding: 0.45em 0.6em; margin: 0 0.25em; line-height: 1; border-radius: 0.35em;\">\n",
       "    ICMP 25015T\n",
       "    <span style=\"font-size: 0.8em; font-weight: bold; line-height: 1; border-radius: 0.35em; vertical-align: middle; margin-left: 0.5rem\">STRAIN</span>\n",
       "</mark>\n",
       "), was isolated from field soil in Ibaraki Prefecture, Japan, in 2005.</div></span>"
      ],
      "text/plain": [
       "<IPython.core.display.HTML object>"
      ]
     },
     "metadata": {},
     "output_type": "display_data"
    },
    {
     "name": "stdout",
     "output_type": "stream",
     "text": [
      "DDX28 (MAFF 311814=ICMP 25016) is an additional strain belonging to this species.\n",
      "\n"
     ]
    },
    {
     "data": {
      "text/html": [
       "<span class=\"tex2jax_ignore\"><div class=\"entities\" style=\"line-height: 2.5; direction: ltr\">DDX28 (\n",
       "<mark class=\"entity\" style=\"background: #ddd; padding: 0.45em 0.6em; margin: 0 0.25em; line-height: 1; border-radius: 0.35em;\">\n",
       "    MAFF 311814\n",
       "    <span style=\"font-size: 0.8em; font-weight: bold; line-height: 1; border-radius: 0.35em; vertical-align: middle; margin-left: 0.5rem\">STRAIN</span>\n",
       "</mark>\n",
       "=\n",
       "<mark class=\"entity\" style=\"background: #ddd; padding: 0.45em 0.6em; margin: 0 0.25em; line-height: 1; border-radius: 0.35em;\">\n",
       "    ICMP 25016\n",
       "    <span style=\"font-size: 0.8em; font-weight: bold; line-height: 1; border-radius: 0.35em; vertical-align: middle; margin-left: 0.5rem\">STRAIN</span>\n",
       "</mark>\n",
       ") is an additional strain belonging to this species.<br></div></span>"
      ],
      "text/plain": [
       "<IPython.core.display.HTML object>"
      ]
     },
     "metadata": {},
     "output_type": "display_data"
    },
    {
     "name": "stdout",
     "output_type": "stream",
     "text": [
      "strain names ['DD3T', 'MAFF 311804T', 'ICMP 25015T', 'MAFF 311814', 'ICMP 25016']\n",
      "orgname ['Afipia dichlorophenoxyacetatis ']\n",
      "accessions []\n",
      "strain names ['DD3T', 'MAFF 311804T', 'ICMP 25015T', 'MAFF 311814', 'ICMP 25016']\n",
      "BREAK1\n",
      "Oceanobacter antarcticus sp. nov., isolated from surface seawater of the Weddell Sea in Antarctica\n",
      "orgname ['Oceanobacter antarcticus ']\n",
      "accessions ['PP494898', 'JBBKTX000000000']\n",
      "adj. antarcticus, southern, pertaining to the Antarctic, where the type strain was isolated).\n",
      "\n"
     ]
    },
    {
     "name": "stderr",
     "output_type": "stream",
     "text": [
      "/home/mcveigh/jup/lib/python3.9/site-packages/spacy/displacy/__init__.py:213: UserWarning: [W006] No entities to visualize found in Doc object. If this is surprising to you, make sure the Doc was processed using a model that supports named entity recognition, and check the `doc.ents` property manually if necessary.\n",
      "  warnings.warn(Warnings.W006)\n"
     ]
    },
    {
     "data": {
      "text/html": [
       "<span class=\"tex2jax_ignore\"><div class=\"entities\" style=\"line-height: 2.5; direction: ltr\">adj. antarcticus, southern, pertaining to the Antarctic, where the type strain was isolated).<br></div></span>"
      ],
      "text/plain": [
       "<IPython.core.display.HTML object>"
      ]
     },
     "metadata": {},
     "output_type": "display_data"
    },
    {
     "name": "stdout",
     "output_type": "stream",
     "text": [
      "The alkane monooxygenase gene (alkB) was not detected in the genome of strain wDCs-4T. The principal fatty acids are summed feature 5 (C18:0 ante/C18:26,9c or C18:26,9c/C18:0 ante) and C16:0.\n"
     ]
    },
    {
     "data": {
      "text/html": [
       "<span class=\"tex2jax_ignore\"><div class=\"entities\" style=\"line-height: 2.5; direction: ltr\">The alkane monooxygenase gene (alkB) was not detected in the genome of strain wDCs-4T. The principal fatty acids are summed feature 5 (C18:0 ante/C18:26,9c or C18:26,9c/C18:0 ante) and C16:0.</div></span>"
      ],
      "text/plain": [
       "<IPython.core.display.HTML object>"
      ]
     },
     "metadata": {},
     "output_type": "display_data"
    },
    {
     "name": "stdout",
     "output_type": "stream",
     "text": [
      "The type strain, wDCs-4T (=MCCC 1A20726T=KCTC 8314T), was isolated from surface seawater collected from the Weddell Sea in Antarctica.\n"
     ]
    },
    {
     "data": {
      "text/html": [
       "<span class=\"tex2jax_ignore\"><div class=\"entities\" style=\"line-height: 2.5; direction: ltr\">The type strain, \n",
       "<mark class=\"entity\" style=\"background: #ddd; padding: 0.45em 0.6em; margin: 0 0.25em; line-height: 1; border-radius: 0.35em;\">\n",
       "    wDCs-4T\n",
       "    <span style=\"font-size: 0.8em; font-weight: bold; line-height: 1; border-radius: 0.35em; vertical-align: middle; margin-left: 0.5rem\">STRAIN</span>\n",
       "</mark>\n",
       " (=\n",
       "<mark class=\"entity\" style=\"background: #ddd; padding: 0.45em 0.6em; margin: 0 0.25em; line-height: 1; border-radius: 0.35em;\">\n",
       "    MCCC 1A20726T\n",
       "    <span style=\"font-size: 0.8em; font-weight: bold; line-height: 1; border-radius: 0.35em; vertical-align: middle; margin-left: 0.5rem\">STRAIN</span>\n",
       "</mark>\n",
       "=\n",
       "<mark class=\"entity\" style=\"background: #ddd; padding: 0.45em 0.6em; margin: 0 0.25em; line-height: 1; border-radius: 0.35em;\">\n",
       "    KCTC 8314T\n",
       "    <span style=\"font-size: 0.8em; font-weight: bold; line-height: 1; border-radius: 0.35em; vertical-align: middle; margin-left: 0.5rem\">STRAIN</span>\n",
       "</mark>\n",
       "), was isolated from surface seawater collected from the Weddell Sea in Antarctica.</div></span>"
      ],
      "text/plain": [
       "<IPython.core.display.HTML object>"
      ]
     },
     "metadata": {},
     "output_type": "display_data"
    },
    {
     "name": "stdout",
     "output_type": "stream",
     "text": [
      "The genomic DNA G+C content of the type strain is 53.4mol%, as calculated from the genome sequence.\n"
     ]
    },
    {
     "data": {
      "text/html": [
       "<span class=\"tex2jax_ignore\"><div class=\"entities\" style=\"line-height: 2.5; direction: ltr\">The genomic DNA G+C content of the type strain is 53.4mol%, as calculated from the genome sequence.</div></span>"
      ],
      "text/plain": [
       "<IPython.core.display.HTML object>"
      ]
     },
     "metadata": {},
     "output_type": "display_data"
    },
    {
     "name": "stdout",
     "output_type": "stream",
     "text": [
      "The GenBank/ENA/DDBJ accession numbers for the 16S rRNA gene sequence and the draft genome sequence of strain wDCs-4T are PP494898 and JBBKTX000000000, respectively.\n",
      " \n"
     ]
    },
    {
     "data": {
      "text/html": [
       "<span class=\"tex2jax_ignore\"><div class=\"entities\" style=\"line-height: 2.5; direction: ltr\">The GenBank/ENA/DDBJ accession numbers for the 16S rRNA gene sequence and the draft genome sequence of strain \n",
       "<mark class=\"entity\" style=\"background: #ddd; padding: 0.45em 0.6em; margin: 0 0.25em; line-height: 1; border-radius: 0.35em;\">\n",
       "    wDCs-4T\n",
       "    <span style=\"font-size: 0.8em; font-weight: bold; line-height: 1; border-radius: 0.35em; vertical-align: middle; margin-left: 0.5rem\">STRAIN</span>\n",
       "</mark>\n",
       " are PP494898 and JBBKTX000000000, respectively.<br> </div></span>"
      ],
      "text/plain": [
       "<IPython.core.display.HTML object>"
      ]
     },
     "metadata": {},
     "output_type": "display_data"
    },
    {
     "name": "stdout",
     "output_type": "stream",
     "text": [
      "strain names ['wDCs-4T', 'MCCC 1A20726T', 'KCTC 8314T']\n",
      "orgname ['Oceanobacter antarcticus ']\n",
      "accessions []\n",
      "strain names ['wDCs-4T', 'MCCC 1A20726T', 'KCTC 8314T']\n",
      "BREAK1\n",
      "Erratum: Clostridium sediminicola sp. nov., a crude oil aggregation-forming anaerobic bacterium isolated from marine sediment\n",
      "Tamlana flava sp. nov., isolated from mangrove sediment and genome-based taxonomic analysis of the genus Tamlana\n",
      "orgname ['Tamlana flava ']\n",
      "accessions ['PP854632', 'JBGGTX000000000']\n",
      "The type strain is MA10T (=MCCC 1K09289T=KCTC 102321T), isolated from a mangrove sediment sample collected from Luoyangjiang Estuary Mangrove Conservation Aera, Quanzhou, China.\n"
     ]
    },
    {
     "data": {
      "text/html": [
       "<span class=\"tex2jax_ignore\"><div class=\"entities\" style=\"line-height: 2.5; direction: ltr\">The type strain is \n",
       "<mark class=\"entity\" style=\"background: #ddd; padding: 0.45em 0.6em; margin: 0 0.25em; line-height: 1; border-radius: 0.35em;\">\n",
       "    MA10T\n",
       "    <span style=\"font-size: 0.8em; font-weight: bold; line-height: 1; border-radius: 0.35em; vertical-align: middle; margin-left: 0.5rem\">STRAIN</span>\n",
       "</mark>\n",
       " (=\n",
       "<mark class=\"entity\" style=\"background: #ddd; padding: 0.45em 0.6em; margin: 0 0.25em; line-height: 1; border-radius: 0.35em;\">\n",
       "    MCCC 1K09289T\n",
       "    <span style=\"font-size: 0.8em; font-weight: bold; line-height: 1; border-radius: 0.35em; vertical-align: middle; margin-left: 0.5rem\">STRAIN</span>\n",
       "</mark>\n",
       "=\n",
       "<mark class=\"entity\" style=\"background: #ddd; padding: 0.45em 0.6em; margin: 0 0.25em; line-height: 1; border-radius: 0.35em;\">\n",
       "    KCTC 102321T\n",
       "    <span style=\"font-size: 0.8em; font-weight: bold; line-height: 1; border-radius: 0.35em; vertical-align: middle; margin-left: 0.5rem\">STRAIN</span>\n",
       "</mark>\n",
       "), isolated from a mangrove sediment sample collected from Luoyangjiang Estuary Mangrove Conservation Aera, Quanzhou, China.</div></span>"
      ],
      "text/plain": [
       "<IPython.core.display.HTML object>"
      ]
     },
     "metadata": {},
     "output_type": "display_data"
    },
    {
     "name": "stdout",
     "output_type": "stream",
     "text": [
      "The GenBank/EMBL/DDBJ accession number of the 16S rRNA gene sequence and genome sequence of strain MA10T are PP854632 and JBGGTX000000000, respectively.\n",
      " \n"
     ]
    },
    {
     "data": {
      "text/html": [
       "<span class=\"tex2jax_ignore\"><div class=\"entities\" style=\"line-height: 2.5; direction: ltr\">The GenBank/EMBL/DDBJ accession number of the 16S rRNA gene sequence and genome sequence of strain \n",
       "<mark class=\"entity\" style=\"background: #ddd; padding: 0.45em 0.6em; margin: 0 0.25em; line-height: 1; border-radius: 0.35em;\">\n",
       "    MA10T\n",
       "    <span style=\"font-size: 0.8em; font-weight: bold; line-height: 1; border-radius: 0.35em; vertical-align: middle; margin-left: 0.5rem\">STRAIN</span>\n",
       "</mark>\n",
       " are PP854632 and JBGGTX000000000, respectively.<br> </div></span>"
      ],
      "text/plain": [
       "<IPython.core.display.HTML object>"
      ]
     },
     "metadata": {},
     "output_type": "display_data"
    },
    {
     "name": "stdout",
     "output_type": "stream",
     "text": [
      "strain names ['MA10T', 'MCCC 1K09289T', 'KCTC 102321T']\n",
      "orgname ['Tamlana flava ']\n",
      "accessions []\n",
      "strain names ['MA10T', 'MCCC 1K09289T', 'KCTC 102321T']\n",
      "BREAK1\n",
      "Outer div ID: s10-1, Text: Description of Allotamlana gen. nov.\n",
      "orgname []\n",
      "accessions []\n",
      "strain names []\n",
      "BREAK2\n",
      "Outer div ID: s10-2, Text: Description of Cognatitamlana gen. nov.\n",
      "orgname []\n",
      "accessions []\n",
      "strain names []\n",
      "BREAK2\n",
      "Outer div ID: s10-3, Text: Description of Neotamlana gen. nov.\n",
      "orgname []\n",
      "accessions []\n",
      "strain names []\n",
      "BREAK2\n",
      "Outer div ID: s10-4, Text: Description of Pseudotamlana gen. nov.\n",
      "orgname []\n",
      "accessions []\n",
      "strain names []\n",
      "BREAK2\n",
      "Outer div ID: s11-1, Text: Description of Allotamlana fucoidanivorans comb. nov.\n",
      "orgname []\n",
      "accessions []\n",
      "The type strain is CW2-9T (=CICC 24749T\n"
     ]
    },
    {
     "data": {
      "text/html": [
       "<span class=\"tex2jax_ignore\"><div class=\"entities\" style=\"line-height: 2.5; direction: ltr\">The type strain is \n",
       "<mark class=\"entity\" style=\"background: #ddd; padding: 0.45em 0.6em; margin: 0 0.25em; line-height: 1; border-radius: 0.35em;\">\n",
       "    CW2-9T\n",
       "    <span style=\"font-size: 0.8em; font-weight: bold; line-height: 1; border-radius: 0.35em; vertical-align: middle; margin-left: 0.5rem\">STRAIN</span>\n",
       "</mark>\n",
       " (=\n",
       "<mark class=\"entity\" style=\"background: #ddd; padding: 0.45em 0.6em; margin: 0 0.25em; line-height: 1; border-radius: 0.35em;\">\n",
       "    CICC 24749T\n",
       "    <span style=\"font-size: 0.8em; font-weight: bold; line-height: 1; border-radius: 0.35em; vertical-align: middle; margin-left: 0.5rem\">STRAIN</span>\n",
       "</mark>\n",
       "</div></span>"
      ],
      "text/plain": [
       "<IPython.core.display.HTML object>"
      ]
     },
     "metadata": {},
     "output_type": "display_data"
    },
    {
     "name": "stdout",
     "output_type": "stream",
     "text": [
      "n. onchidii, of Onchidium pertaining to the marine invertebrate Onchidium species from which the type strain was isolated)\n",
      "Basonym:\n"
     ]
    },
    {
     "name": "stderr",
     "output_type": "stream",
     "text": [
      "/home/mcveigh/jup/lib/python3.9/site-packages/spacy/displacy/__init__.py:213: UserWarning: [W006] No entities to visualize found in Doc object. If this is surprising to you, make sure the Doc was processed using a model that supports named entity recognition, and check the `doc.ents` property manually if necessary.\n",
      "  warnings.warn(Warnings.W006)\n"
     ]
    },
    {
     "data": {
      "text/html": [
       "<span class=\"tex2jax_ignore\"><div class=\"entities\" style=\"line-height: 2.5; direction: ltr\">n. onchidii, of Onchidium pertaining to the marine invertebrate Onchidium species from which the type strain was isolated)<br>Basonym:</div></span>"
      ],
      "text/plain": [
       "<IPython.core.display.HTML object>"
      ]
     },
     "metadata": {},
     "output_type": "display_data"
    },
    {
     "name": "stdout",
     "output_type": "stream",
     "text": [
      "The type strain is XY-114T (=KCTC 72217T=MCCC 1K03606T).\n"
     ]
    },
    {
     "data": {
      "text/html": [
       "<span class=\"tex2jax_ignore\"><div class=\"entities\" style=\"line-height: 2.5; direction: ltr\">The type strain is \n",
       "<mark class=\"entity\" style=\"background: #ddd; padding: 0.45em 0.6em; margin: 0 0.25em; line-height: 1; border-radius: 0.35em;\">\n",
       "    XY-114T\n",
       "    <span style=\"font-size: 0.8em; font-weight: bold; line-height: 1; border-radius: 0.35em; vertical-align: middle; margin-left: 0.5rem\">STRAIN</span>\n",
       "</mark>\n",
       " (=\n",
       "<mark class=\"entity\" style=\"background: #ddd; padding: 0.45em 0.6em; margin: 0 0.25em; line-height: 1; border-radius: 0.35em;\">\n",
       "    KCTC 72217T\n",
       "    <span style=\"font-size: 0.8em; font-weight: bold; line-height: 1; border-radius: 0.35em; vertical-align: middle; margin-left: 0.5rem\">STRAIN</span>\n",
       "</mark>\n",
       "=\n",
       "<mark class=\"entity\" style=\"background: #ddd; padding: 0.45em 0.6em; margin: 0 0.25em; line-height: 1; border-radius: 0.35em;\">\n",
       "    MCCC 1K03606T\n",
       "    <span style=\"font-size: 0.8em; font-weight: bold; line-height: 1; border-radius: 0.35em; vertical-align: middle; margin-left: 0.5rem\">STRAIN</span>\n",
       "</mark>\n",
       ").</div></span>"
      ],
      "text/plain": [
       "<IPython.core.display.HTML object>"
      ]
     },
     "metadata": {},
     "output_type": "display_data"
    },
    {
     "name": "stdout",
     "output_type": "stream",
     "text": [
      "strain names ['CW2-9T', 'CICC 24749T', 'XY-114T', 'KCTC 72217T', 'MCCC 1K03606T']\n",
      "BREAK2\n",
      "Outer div ID: s11-2, Text: Description of Neotamlana sedimentorum comb. nov.\n",
      "orgname []\n",
      "accessions []\n",
      "The type strain is KMM 9545T (=\n"
     ]
    },
    {
     "data": {
      "text/html": [
       "<span class=\"tex2jax_ignore\"><div class=\"entities\" style=\"line-height: 2.5; direction: ltr\">The type strain is \n",
       "<mark class=\"entity\" style=\"background: #ddd; padding: 0.45em 0.6em; margin: 0 0.25em; line-height: 1; border-radius: 0.35em;\">\n",
       "    KMM 9545T\n",
       "    <span style=\"font-size: 0.8em; font-weight: bold; line-height: 1; border-radius: 0.35em; vertical-align: middle; margin-left: 0.5rem\">STRAIN</span>\n",
       "</mark>\n",
       " (=</div></span>"
      ],
      "text/plain": [
       "<IPython.core.display.HTML object>"
      ]
     },
     "metadata": {},
     "output_type": "display_data"
    },
    {
     "name": "stdout",
     "output_type": "stream",
     "text": [
      "strain names ['KMM 9545T']\n",
      "BREAK2\n",
      "Outer div ID: s11-3, Text: Description of Neotamlana nanhaiensis comb. nov.\n",
      "orgname []\n",
      "accessions []\n",
      "adj. nanhaiensis, referring to Nanhai, the South China Sea, the site from where the type strain was isolated)\n",
      "Basonym:\n"
     ]
    },
    {
     "name": "stderr",
     "output_type": "stream",
     "text": [
      "/home/mcveigh/jup/lib/python3.9/site-packages/spacy/displacy/__init__.py:213: UserWarning: [W006] No entities to visualize found in Doc object. If this is surprising to you, make sure the Doc was processed using a model that supports named entity recognition, and check the `doc.ents` property manually if necessary.\n",
      "  warnings.warn(Warnings.W006)\n"
     ]
    },
    {
     "data": {
      "text/html": [
       "<span class=\"tex2jax_ignore\"><div class=\"entities\" style=\"line-height: 2.5; direction: ltr\">adj. nanhaiensis, referring to Nanhai, the South China Sea, the site from where the type strain was isolated)<br>Basonym:</div></span>"
      ],
      "text/plain": [
       "<IPython.core.display.HTML object>"
      ]
     },
     "metadata": {},
     "output_type": "display_data"
    },
    {
     "name": "stdout",
     "output_type": "stream",
     "text": [
      "The type strain is FHC16T (=LMG 27420T=MCCC 1A06648T).\n"
     ]
    },
    {
     "data": {
      "text/html": [
       "<span class=\"tex2jax_ignore\"><div class=\"entities\" style=\"line-height: 2.5; direction: ltr\">The type strain is \n",
       "<mark class=\"entity\" style=\"background: #ddd; padding: 0.45em 0.6em; margin: 0 0.25em; line-height: 1; border-radius: 0.35em;\">\n",
       "    FHC16T\n",
       "    <span style=\"font-size: 0.8em; font-weight: bold; line-height: 1; border-radius: 0.35em; vertical-align: middle; margin-left: 0.5rem\">STRAIN</span>\n",
       "</mark>\n",
       " (=\n",
       "<mark class=\"entity\" style=\"background: #ddd; padding: 0.45em 0.6em; margin: 0 0.25em; line-height: 1; border-radius: 0.35em;\">\n",
       "    LMG 27420T\n",
       "    <span style=\"font-size: 0.8em; font-weight: bold; line-height: 1; border-radius: 0.35em; vertical-align: middle; margin-left: 0.5rem\">STRAIN</span>\n",
       "</mark>\n",
       "=\n",
       "<mark class=\"entity\" style=\"background: #ddd; padding: 0.45em 0.6em; margin: 0 0.25em; line-height: 1; border-radius: 0.35em;\">\n",
       "    MCCC 1A06648T\n",
       "    <span style=\"font-size: 0.8em; font-weight: bold; line-height: 1; border-radius: 0.35em; vertical-align: middle; margin-left: 0.5rem\">STRAIN</span>\n",
       "</mark>\n",
       ").</div></span>"
      ],
      "text/plain": [
       "<IPython.core.display.HTML object>"
      ]
     },
     "metadata": {},
     "output_type": "display_data"
    },
    {
     "name": "stdout",
     "output_type": "stream",
     "text": [
      "strain names ['FHC16T', 'LMG 27420T', 'MCCC 1A06648T']\n",
      "BREAK2\n",
      "Outer div ID: s11-4, Text: Description of Neotamlana laminarinivorans comb. nov.\n",
      "orgname []\n",
      "accessions []\n",
      "The type strain is PT2-4T (=KCTC 92183T=MCCC 1K04427T).\n"
     ]
    },
    {
     "data": {
      "text/html": [
       "<span class=\"tex2jax_ignore\"><div class=\"entities\" style=\"line-height: 2.5; direction: ltr\">The type strain is \n",
       "<mark class=\"entity\" style=\"background: #ddd; padding: 0.45em 0.6em; margin: 0 0.25em; line-height: 1; border-radius: 0.35em;\">\n",
       "    PT2-4T\n",
       "    <span style=\"font-size: 0.8em; font-weight: bold; line-height: 1; border-radius: 0.35em; vertical-align: middle; margin-left: 0.5rem\">STRAIN</span>\n",
       "</mark>\n",
       " (=\n",
       "<mark class=\"entity\" style=\"background: #ddd; padding: 0.45em 0.6em; margin: 0 0.25em; line-height: 1; border-radius: 0.35em;\">\n",
       "    KCTC 92183T\n",
       "    <span style=\"font-size: 0.8em; font-weight: bold; line-height: 1; border-radius: 0.35em; vertical-align: middle; margin-left: 0.5rem\">STRAIN</span>\n",
       "</mark>\n",
       "=\n",
       "<mark class=\"entity\" style=\"background: #ddd; padding: 0.45em 0.6em; margin: 0 0.25em; line-height: 1; border-radius: 0.35em;\">\n",
       "    MCCC 1K04427T\n",
       "    <span style=\"font-size: 0.8em; font-weight: bold; line-height: 1; border-radius: 0.35em; vertical-align: middle; margin-left: 0.5rem\">STRAIN</span>\n",
       "</mark>\n",
       ").</div></span>"
      ],
      "text/plain": [
       "<IPython.core.display.HTML object>"
      ]
     },
     "metadata": {},
     "output_type": "display_data"
    },
    {
     "name": "stdout",
     "output_type": "stream",
     "text": [
      "strain names ['PT2-4T', 'KCTC 92183T', 'MCCC 1K04427T']\n",
      "BREAK2\n",
      "Outer div ID: s11-5, Text: Description of Neotamlana sargassicola comb. nov.\n",
      "orgname []\n",
      "accessions []\n",
      "The type strain is 62-3T (=KCTC 92182T=MCCC 1K04421T).\n"
     ]
    },
    {
     "data": {
      "text/html": [
       "<span class=\"tex2jax_ignore\"><div class=\"entities\" style=\"line-height: 2.5; direction: ltr\">The type strain is \n",
       "<mark class=\"entity\" style=\"background: #ddd; padding: 0.45em 0.6em; margin: 0 0.25em; line-height: 1; border-radius: 0.35em;\">\n",
       "    62-3T\n",
       "    <span style=\"font-size: 0.8em; font-weight: bold; line-height: 1; border-radius: 0.35em; vertical-align: middle; margin-left: 0.5rem\">STRAIN</span>\n",
       "</mark>\n",
       " (=\n",
       "<mark class=\"entity\" style=\"background: #ddd; padding: 0.45em 0.6em; margin: 0 0.25em; line-height: 1; border-radius: 0.35em;\">\n",
       "    KCTC 92182T\n",
       "    <span style=\"font-size: 0.8em; font-weight: bold; line-height: 1; border-radius: 0.35em; vertical-align: middle; margin-left: 0.5rem\">STRAIN</span>\n",
       "</mark>\n",
       "=\n",
       "<mark class=\"entity\" style=\"background: #ddd; padding: 0.45em 0.6em; margin: 0 0.25em; line-height: 1; border-radius: 0.35em;\">\n",
       "    MCCC 1K04421T\n",
       "    <span style=\"font-size: 0.8em; font-weight: bold; line-height: 1; border-radius: 0.35em; vertical-align: middle; margin-left: 0.5rem\">STRAIN</span>\n",
       "</mark>\n",
       ").</div></span>"
      ],
      "text/plain": [
       "<IPython.core.display.HTML object>"
      ]
     },
     "metadata": {},
     "output_type": "display_data"
    },
    {
     "name": "stdout",
     "output_type": "stream",
     "text": [
      "strain names ['62-3T', 'KCTC 92182T', 'MCCC 1K04421T']\n",
      "BREAK2\n",
      "Outer div ID: s11-6, Text: Description of Pseudotamlana agarivorans comb. nov.\n",
      "orgname []\n",
      "accessions []\n",
      "The type strain is JW-26T (=KCTC 22176T=CCUG 55327T).\n"
     ]
    },
    {
     "data": {
      "text/html": [
       "<span class=\"tex2jax_ignore\"><div class=\"entities\" style=\"line-height: 2.5; direction: ltr\">The type strain is \n",
       "<mark class=\"entity\" style=\"background: #ddd; padding: 0.45em 0.6em; margin: 0 0.25em; line-height: 1; border-radius: 0.35em;\">\n",
       "    JW-26T\n",
       "    <span style=\"font-size: 0.8em; font-weight: bold; line-height: 1; border-radius: 0.35em; vertical-align: middle; margin-left: 0.5rem\">STRAIN</span>\n",
       "</mark>\n",
       " (=\n",
       "<mark class=\"entity\" style=\"background: #ddd; padding: 0.45em 0.6em; margin: 0 0.25em; line-height: 1; border-radius: 0.35em;\">\n",
       "    KCTC 22176T\n",
       "    <span style=\"font-size: 0.8em; font-weight: bold; line-height: 1; border-radius: 0.35em; vertical-align: middle; margin-left: 0.5rem\">STRAIN</span>\n",
       "</mark>\n",
       "=\n",
       "<mark class=\"entity\" style=\"background: #ddd; padding: 0.45em 0.6em; margin: 0 0.25em; line-height: 1; border-radius: 0.35em;\">\n",
       "    CCUG 55327T\n",
       "    <span style=\"font-size: 0.8em; font-weight: bold; line-height: 1; border-radius: 0.35em; vertical-align: middle; margin-left: 0.5rem\">STRAIN</span>\n",
       "</mark>\n",
       ").</div></span>"
      ],
      "text/plain": [
       "<IPython.core.display.HTML object>"
      ]
     },
     "metadata": {},
     "output_type": "display_data"
    },
    {
     "name": "stdout",
     "output_type": "stream",
     "text": [
      "strain names ['JW-26T', 'KCTC 22176T', 'CCUG 55327T']\n",
      "BREAK2\n",
      "Outer div ID: s11-7, Text: Description of Pseudotamlana carrageenivorans comb. nov.\n",
      "orgname []\n",
      "accessions []\n",
      "The type strain is UJ94T (=\n"
     ]
    },
    {
     "data": {
      "text/html": [
       "<span class=\"tex2jax_ignore\"><div class=\"entities\" style=\"line-height: 2.5; direction: ltr\">The type strain is \n",
       "<mark class=\"entity\" style=\"background: #ddd; padding: 0.45em 0.6em; margin: 0 0.25em; line-height: 1; border-radius: 0.35em;\">\n",
       "    UJ94T\n",
       "    <span style=\"font-size: 0.8em; font-weight: bold; line-height: 1; border-radius: 0.35em; vertical-align: middle; margin-left: 0.5rem\">STRAIN</span>\n",
       "</mark>\n",
       " (=</div></span>"
      ],
      "text/plain": [
       "<IPython.core.display.HTML object>"
      ]
     },
     "metadata": {},
     "output_type": "display_data"
    },
    {
     "name": "stdout",
     "output_type": "stream",
     "text": [
      "strain names ['UJ94T']\n",
      "BREAK2\n",
      "Outer div ID: s11-8, Text: Description of Pseudotamlana haliotis comb. nov.\n",
      "orgname []\n",
      "accessions []\n",
      "The type strain is B1N29T (=KCTC 72683T=MCCC 1H00394T).\n"
     ]
    },
    {
     "data": {
      "text/html": [
       "<span class=\"tex2jax_ignore\"><div class=\"entities\" style=\"line-height: 2.5; direction: ltr\">The type strain is \n",
       "<mark class=\"entity\" style=\"background: #ddd; padding: 0.45em 0.6em; margin: 0 0.25em; line-height: 1; border-radius: 0.35em;\">\n",
       "    B1N29T\n",
       "    <span style=\"font-size: 0.8em; font-weight: bold; line-height: 1; border-radius: 0.35em; vertical-align: middle; margin-left: 0.5rem\">STRAIN</span>\n",
       "</mark>\n",
       " (=\n",
       "<mark class=\"entity\" style=\"background: #ddd; padding: 0.45em 0.6em; margin: 0 0.25em; line-height: 1; border-radius: 0.35em;\">\n",
       "    KCTC 72683T\n",
       "    <span style=\"font-size: 0.8em; font-weight: bold; line-height: 1; border-radius: 0.35em; vertical-align: middle; margin-left: 0.5rem\">STRAIN</span>\n",
       "</mark>\n",
       "=\n",
       "<mark class=\"entity\" style=\"background: #ddd; padding: 0.45em 0.6em; margin: 0 0.25em; line-height: 1; border-radius: 0.35em;\">\n",
       "    MCCC 1H00394T\n",
       "    <span style=\"font-size: 0.8em; font-weight: bold; line-height: 1; border-radius: 0.35em; vertical-align: middle; margin-left: 0.5rem\">STRAIN</span>\n",
       "</mark>\n",
       ").</div></span>"
      ],
      "text/plain": [
       "<IPython.core.display.HTML object>"
      ]
     },
     "metadata": {},
     "output_type": "display_data"
    },
    {
     "name": "stdout",
     "output_type": "stream",
     "text": [
      "strain names ['B1N29T', 'KCTC 72683T', 'MCCC 1H00394T']\n",
      "BREAK2\n",
      "Outer div ID: s10-1, Text: Description of Allotamlana gen. nov.\n",
      "orgname []\n",
      "accessions []\n",
      "strain names []\n",
      "BREAK2\n",
      "Outer div ID: s10-2, Text: Description of Cognatitamlana gen. nov.\n",
      "orgname []\n",
      "accessions []\n",
      "strain names []\n",
      "BREAK2\n",
      "Outer div ID: s10-3, Text: Description of Neotamlana gen. nov.\n",
      "orgname []\n",
      "accessions []\n",
      "strain names []\n",
      "BREAK2\n",
      "Outer div ID: s10-4, Text: Description of Pseudotamlana gen. nov.\n",
      "orgname []\n",
      "accessions []\n",
      "strain names []\n",
      "BREAK2\n",
      "Outer div ID: s11-1, Text: Description of Allotamlana fucoidanivorans comb. nov.\n",
      "orgname []\n",
      "accessions []\n",
      "The type strain is CW2-9T (=CICC 24749T\n"
     ]
    },
    {
     "data": {
      "text/html": [
       "<span class=\"tex2jax_ignore\"><div class=\"entities\" style=\"line-height: 2.5; direction: ltr\">The type strain is \n",
       "<mark class=\"entity\" style=\"background: #ddd; padding: 0.45em 0.6em; margin: 0 0.25em; line-height: 1; border-radius: 0.35em;\">\n",
       "    CW2-9T\n",
       "    <span style=\"font-size: 0.8em; font-weight: bold; line-height: 1; border-radius: 0.35em; vertical-align: middle; margin-left: 0.5rem\">STRAIN</span>\n",
       "</mark>\n",
       " (=\n",
       "<mark class=\"entity\" style=\"background: #ddd; padding: 0.45em 0.6em; margin: 0 0.25em; line-height: 1; border-radius: 0.35em;\">\n",
       "    CICC 24749T\n",
       "    <span style=\"font-size: 0.8em; font-weight: bold; line-height: 1; border-radius: 0.35em; vertical-align: middle; margin-left: 0.5rem\">STRAIN</span>\n",
       "</mark>\n",
       "</div></span>"
      ],
      "text/plain": [
       "<IPython.core.display.HTML object>"
      ]
     },
     "metadata": {},
     "output_type": "display_data"
    },
    {
     "name": "stdout",
     "output_type": "stream",
     "text": [
      "n. onchidii, of Onchidium pertaining to the marine invertebrate Onchidium species from which the type strain was isolated)\n",
      "Basonym:\n"
     ]
    },
    {
     "name": "stderr",
     "output_type": "stream",
     "text": [
      "/home/mcveigh/jup/lib/python3.9/site-packages/spacy/displacy/__init__.py:213: UserWarning: [W006] No entities to visualize found in Doc object. If this is surprising to you, make sure the Doc was processed using a model that supports named entity recognition, and check the `doc.ents` property manually if necessary.\n",
      "  warnings.warn(Warnings.W006)\n"
     ]
    },
    {
     "data": {
      "text/html": [
       "<span class=\"tex2jax_ignore\"><div class=\"entities\" style=\"line-height: 2.5; direction: ltr\">n. onchidii, of Onchidium pertaining to the marine invertebrate Onchidium species from which the type strain was isolated)<br>Basonym:</div></span>"
      ],
      "text/plain": [
       "<IPython.core.display.HTML object>"
      ]
     },
     "metadata": {},
     "output_type": "display_data"
    },
    {
     "name": "stdout",
     "output_type": "stream",
     "text": [
      "The type strain is XY-114T (=KCTC 72217T=MCCC 1K03606T).\n"
     ]
    },
    {
     "data": {
      "text/html": [
       "<span class=\"tex2jax_ignore\"><div class=\"entities\" style=\"line-height: 2.5; direction: ltr\">The type strain is \n",
       "<mark class=\"entity\" style=\"background: #ddd; padding: 0.45em 0.6em; margin: 0 0.25em; line-height: 1; border-radius: 0.35em;\">\n",
       "    XY-114T\n",
       "    <span style=\"font-size: 0.8em; font-weight: bold; line-height: 1; border-radius: 0.35em; vertical-align: middle; margin-left: 0.5rem\">STRAIN</span>\n",
       "</mark>\n",
       " (=\n",
       "<mark class=\"entity\" style=\"background: #ddd; padding: 0.45em 0.6em; margin: 0 0.25em; line-height: 1; border-radius: 0.35em;\">\n",
       "    KCTC 72217T\n",
       "    <span style=\"font-size: 0.8em; font-weight: bold; line-height: 1; border-radius: 0.35em; vertical-align: middle; margin-left: 0.5rem\">STRAIN</span>\n",
       "</mark>\n",
       "=\n",
       "<mark class=\"entity\" style=\"background: #ddd; padding: 0.45em 0.6em; margin: 0 0.25em; line-height: 1; border-radius: 0.35em;\">\n",
       "    MCCC 1K03606T\n",
       "    <span style=\"font-size: 0.8em; font-weight: bold; line-height: 1; border-radius: 0.35em; vertical-align: middle; margin-left: 0.5rem\">STRAIN</span>\n",
       "</mark>\n",
       ").</div></span>"
      ],
      "text/plain": [
       "<IPython.core.display.HTML object>"
      ]
     },
     "metadata": {},
     "output_type": "display_data"
    },
    {
     "name": "stdout",
     "output_type": "stream",
     "text": [
      "strain names ['CW2-9T', 'CICC 24749T', 'XY-114T', 'KCTC 72217T', 'MCCC 1K03606T']\n",
      "BREAK2\n",
      "Outer div ID: s11-2, Text: Description of Neotamlana sedimentorum comb. nov.\n",
      "orgname []\n",
      "accessions []\n",
      "The type strain is KMM 9545T (=\n"
     ]
    },
    {
     "data": {
      "text/html": [
       "<span class=\"tex2jax_ignore\"><div class=\"entities\" style=\"line-height: 2.5; direction: ltr\">The type strain is \n",
       "<mark class=\"entity\" style=\"background: #ddd; padding: 0.45em 0.6em; margin: 0 0.25em; line-height: 1; border-radius: 0.35em;\">\n",
       "    KMM 9545T\n",
       "    <span style=\"font-size: 0.8em; font-weight: bold; line-height: 1; border-radius: 0.35em; vertical-align: middle; margin-left: 0.5rem\">STRAIN</span>\n",
       "</mark>\n",
       " (=</div></span>"
      ],
      "text/plain": [
       "<IPython.core.display.HTML object>"
      ]
     },
     "metadata": {},
     "output_type": "display_data"
    },
    {
     "name": "stdout",
     "output_type": "stream",
     "text": [
      "strain names ['KMM 9545T']\n",
      "BREAK2\n",
      "Outer div ID: s11-3, Text: Description of Neotamlana nanhaiensis comb. nov.\n",
      "orgname []\n",
      "accessions []\n",
      "adj. nanhaiensis, referring to Nanhai, the South China Sea, the site from where the type strain was isolated)\n",
      "Basonym:\n"
     ]
    },
    {
     "name": "stderr",
     "output_type": "stream",
     "text": [
      "/home/mcveigh/jup/lib/python3.9/site-packages/spacy/displacy/__init__.py:213: UserWarning: [W006] No entities to visualize found in Doc object. If this is surprising to you, make sure the Doc was processed using a model that supports named entity recognition, and check the `doc.ents` property manually if necessary.\n",
      "  warnings.warn(Warnings.W006)\n"
     ]
    },
    {
     "data": {
      "text/html": [
       "<span class=\"tex2jax_ignore\"><div class=\"entities\" style=\"line-height: 2.5; direction: ltr\">adj. nanhaiensis, referring to Nanhai, the South China Sea, the site from where the type strain was isolated)<br>Basonym:</div></span>"
      ],
      "text/plain": [
       "<IPython.core.display.HTML object>"
      ]
     },
     "metadata": {},
     "output_type": "display_data"
    },
    {
     "name": "stdout",
     "output_type": "stream",
     "text": [
      "The type strain is FHC16T (=LMG 27420T=MCCC 1A06648T).\n"
     ]
    },
    {
     "data": {
      "text/html": [
       "<span class=\"tex2jax_ignore\"><div class=\"entities\" style=\"line-height: 2.5; direction: ltr\">The type strain is \n",
       "<mark class=\"entity\" style=\"background: #ddd; padding: 0.45em 0.6em; margin: 0 0.25em; line-height: 1; border-radius: 0.35em;\">\n",
       "    FHC16T\n",
       "    <span style=\"font-size: 0.8em; font-weight: bold; line-height: 1; border-radius: 0.35em; vertical-align: middle; margin-left: 0.5rem\">STRAIN</span>\n",
       "</mark>\n",
       " (=\n",
       "<mark class=\"entity\" style=\"background: #ddd; padding: 0.45em 0.6em; margin: 0 0.25em; line-height: 1; border-radius: 0.35em;\">\n",
       "    LMG 27420T\n",
       "    <span style=\"font-size: 0.8em; font-weight: bold; line-height: 1; border-radius: 0.35em; vertical-align: middle; margin-left: 0.5rem\">STRAIN</span>\n",
       "</mark>\n",
       "=\n",
       "<mark class=\"entity\" style=\"background: #ddd; padding: 0.45em 0.6em; margin: 0 0.25em; line-height: 1; border-radius: 0.35em;\">\n",
       "    MCCC 1A06648T\n",
       "    <span style=\"font-size: 0.8em; font-weight: bold; line-height: 1; border-radius: 0.35em; vertical-align: middle; margin-left: 0.5rem\">STRAIN</span>\n",
       "</mark>\n",
       ").</div></span>"
      ],
      "text/plain": [
       "<IPython.core.display.HTML object>"
      ]
     },
     "metadata": {},
     "output_type": "display_data"
    },
    {
     "name": "stdout",
     "output_type": "stream",
     "text": [
      "strain names ['FHC16T', 'LMG 27420T', 'MCCC 1A06648T']\n",
      "BREAK2\n",
      "Outer div ID: s11-4, Text: Description of Neotamlana laminarinivorans comb. nov.\n",
      "orgname []\n",
      "accessions []\n",
      "The type strain is PT2-4T (=KCTC 92183T=MCCC 1K04427T).\n"
     ]
    },
    {
     "data": {
      "text/html": [
       "<span class=\"tex2jax_ignore\"><div class=\"entities\" style=\"line-height: 2.5; direction: ltr\">The type strain is \n",
       "<mark class=\"entity\" style=\"background: #ddd; padding: 0.45em 0.6em; margin: 0 0.25em; line-height: 1; border-radius: 0.35em;\">\n",
       "    PT2-4T\n",
       "    <span style=\"font-size: 0.8em; font-weight: bold; line-height: 1; border-radius: 0.35em; vertical-align: middle; margin-left: 0.5rem\">STRAIN</span>\n",
       "</mark>\n",
       " (=\n",
       "<mark class=\"entity\" style=\"background: #ddd; padding: 0.45em 0.6em; margin: 0 0.25em; line-height: 1; border-radius: 0.35em;\">\n",
       "    KCTC 92183T\n",
       "    <span style=\"font-size: 0.8em; font-weight: bold; line-height: 1; border-radius: 0.35em; vertical-align: middle; margin-left: 0.5rem\">STRAIN</span>\n",
       "</mark>\n",
       "=\n",
       "<mark class=\"entity\" style=\"background: #ddd; padding: 0.45em 0.6em; margin: 0 0.25em; line-height: 1; border-radius: 0.35em;\">\n",
       "    MCCC 1K04427T\n",
       "    <span style=\"font-size: 0.8em; font-weight: bold; line-height: 1; border-radius: 0.35em; vertical-align: middle; margin-left: 0.5rem\">STRAIN</span>\n",
       "</mark>\n",
       ").</div></span>"
      ],
      "text/plain": [
       "<IPython.core.display.HTML object>"
      ]
     },
     "metadata": {},
     "output_type": "display_data"
    },
    {
     "name": "stdout",
     "output_type": "stream",
     "text": [
      "strain names ['PT2-4T', 'KCTC 92183T', 'MCCC 1K04427T']\n",
      "BREAK2\n",
      "Outer div ID: s11-5, Text: Description of Neotamlana sargassicola comb. nov.\n",
      "orgname []\n",
      "accessions []\n",
      "The type strain is 62-3T (=KCTC 92182T=MCCC 1K04421T).\n"
     ]
    },
    {
     "data": {
      "text/html": [
       "<span class=\"tex2jax_ignore\"><div class=\"entities\" style=\"line-height: 2.5; direction: ltr\">The type strain is \n",
       "<mark class=\"entity\" style=\"background: #ddd; padding: 0.45em 0.6em; margin: 0 0.25em; line-height: 1; border-radius: 0.35em;\">\n",
       "    62-3T\n",
       "    <span style=\"font-size: 0.8em; font-weight: bold; line-height: 1; border-radius: 0.35em; vertical-align: middle; margin-left: 0.5rem\">STRAIN</span>\n",
       "</mark>\n",
       " (=\n",
       "<mark class=\"entity\" style=\"background: #ddd; padding: 0.45em 0.6em; margin: 0 0.25em; line-height: 1; border-radius: 0.35em;\">\n",
       "    KCTC 92182T\n",
       "    <span style=\"font-size: 0.8em; font-weight: bold; line-height: 1; border-radius: 0.35em; vertical-align: middle; margin-left: 0.5rem\">STRAIN</span>\n",
       "</mark>\n",
       "=\n",
       "<mark class=\"entity\" style=\"background: #ddd; padding: 0.45em 0.6em; margin: 0 0.25em; line-height: 1; border-radius: 0.35em;\">\n",
       "    MCCC 1K04421T\n",
       "    <span style=\"font-size: 0.8em; font-weight: bold; line-height: 1; border-radius: 0.35em; vertical-align: middle; margin-left: 0.5rem\">STRAIN</span>\n",
       "</mark>\n",
       ").</div></span>"
      ],
      "text/plain": [
       "<IPython.core.display.HTML object>"
      ]
     },
     "metadata": {},
     "output_type": "display_data"
    },
    {
     "name": "stdout",
     "output_type": "stream",
     "text": [
      "strain names ['62-3T', 'KCTC 92182T', 'MCCC 1K04421T']\n",
      "BREAK2\n",
      "Outer div ID: s11-6, Text: Description of Pseudotamlana agarivorans comb. nov.\n",
      "orgname []\n",
      "accessions []\n",
      "The type strain is JW-26T (=KCTC 22176T=CCUG 55327T).\n"
     ]
    },
    {
     "data": {
      "text/html": [
       "<span class=\"tex2jax_ignore\"><div class=\"entities\" style=\"line-height: 2.5; direction: ltr\">The type strain is \n",
       "<mark class=\"entity\" style=\"background: #ddd; padding: 0.45em 0.6em; margin: 0 0.25em; line-height: 1; border-radius: 0.35em;\">\n",
       "    JW-26T\n",
       "    <span style=\"font-size: 0.8em; font-weight: bold; line-height: 1; border-radius: 0.35em; vertical-align: middle; margin-left: 0.5rem\">STRAIN</span>\n",
       "</mark>\n",
       " (=\n",
       "<mark class=\"entity\" style=\"background: #ddd; padding: 0.45em 0.6em; margin: 0 0.25em; line-height: 1; border-radius: 0.35em;\">\n",
       "    KCTC 22176T\n",
       "    <span style=\"font-size: 0.8em; font-weight: bold; line-height: 1; border-radius: 0.35em; vertical-align: middle; margin-left: 0.5rem\">STRAIN</span>\n",
       "</mark>\n",
       "=\n",
       "<mark class=\"entity\" style=\"background: #ddd; padding: 0.45em 0.6em; margin: 0 0.25em; line-height: 1; border-radius: 0.35em;\">\n",
       "    CCUG 55327T\n",
       "    <span style=\"font-size: 0.8em; font-weight: bold; line-height: 1; border-radius: 0.35em; vertical-align: middle; margin-left: 0.5rem\">STRAIN</span>\n",
       "</mark>\n",
       ").</div></span>"
      ],
      "text/plain": [
       "<IPython.core.display.HTML object>"
      ]
     },
     "metadata": {},
     "output_type": "display_data"
    },
    {
     "name": "stdout",
     "output_type": "stream",
     "text": [
      "strain names ['JW-26T', 'KCTC 22176T', 'CCUG 55327T']\n",
      "BREAK2\n",
      "Outer div ID: s11-7, Text: Description of Pseudotamlana carrageenivorans comb. nov.\n",
      "orgname []\n",
      "accessions []\n",
      "The type strain is UJ94T (=\n"
     ]
    },
    {
     "data": {
      "text/html": [
       "<span class=\"tex2jax_ignore\"><div class=\"entities\" style=\"line-height: 2.5; direction: ltr\">The type strain is \n",
       "<mark class=\"entity\" style=\"background: #ddd; padding: 0.45em 0.6em; margin: 0 0.25em; line-height: 1; border-radius: 0.35em;\">\n",
       "    UJ94T\n",
       "    <span style=\"font-size: 0.8em; font-weight: bold; line-height: 1; border-radius: 0.35em; vertical-align: middle; margin-left: 0.5rem\">STRAIN</span>\n",
       "</mark>\n",
       " (=</div></span>"
      ],
      "text/plain": [
       "<IPython.core.display.HTML object>"
      ]
     },
     "metadata": {},
     "output_type": "display_data"
    },
    {
     "name": "stdout",
     "output_type": "stream",
     "text": [
      "strain names ['UJ94T']\n",
      "BREAK2\n",
      "Outer div ID: s11-8, Text: Description of Pseudotamlana haliotis comb. nov.\n",
      "orgname []\n",
      "accessions []\n",
      "The type strain is B1N29T (=KCTC 72683T=MCCC 1H00394T).\n"
     ]
    },
    {
     "data": {
      "text/html": [
       "<span class=\"tex2jax_ignore\"><div class=\"entities\" style=\"line-height: 2.5; direction: ltr\">The type strain is \n",
       "<mark class=\"entity\" style=\"background: #ddd; padding: 0.45em 0.6em; margin: 0 0.25em; line-height: 1; border-radius: 0.35em;\">\n",
       "    B1N29T\n",
       "    <span style=\"font-size: 0.8em; font-weight: bold; line-height: 1; border-radius: 0.35em; vertical-align: middle; margin-left: 0.5rem\">STRAIN</span>\n",
       "</mark>\n",
       " (=\n",
       "<mark class=\"entity\" style=\"background: #ddd; padding: 0.45em 0.6em; margin: 0 0.25em; line-height: 1; border-radius: 0.35em;\">\n",
       "    KCTC 72683T\n",
       "    <span style=\"font-size: 0.8em; font-weight: bold; line-height: 1; border-radius: 0.35em; vertical-align: middle; margin-left: 0.5rem\">STRAIN</span>\n",
       "</mark>\n",
       "=\n",
       "<mark class=\"entity\" style=\"background: #ddd; padding: 0.45em 0.6em; margin: 0 0.25em; line-height: 1; border-radius: 0.35em;\">\n",
       "    MCCC 1H00394T\n",
       "    <span style=\"font-size: 0.8em; font-weight: bold; line-height: 1; border-radius: 0.35em; vertical-align: middle; margin-left: 0.5rem\">STRAIN</span>\n",
       "</mark>\n",
       ").</div></span>"
      ],
      "text/plain": [
       "<IPython.core.display.HTML object>"
      ]
     },
     "metadata": {},
     "output_type": "display_data"
    },
    {
     "name": "stdout",
     "output_type": "stream",
     "text": [
      "strain names ['B1N29T', 'KCTC 72683T', 'MCCC 1H00394T']\n",
      "BREAK2\n",
      "Outer div ID: s10-1, Text: Description of Allotamlana gen. nov.\n",
      "orgname []\n",
      "accessions []\n",
      "strain names []\n",
      "BREAK2\n",
      "Outer div ID: s10-2, Text: Description of Cognatitamlana gen. nov.\n",
      "orgname []\n",
      "accessions []\n",
      "strain names []\n",
      "BREAK2\n",
      "Outer div ID: s10-3, Text: Description of Neotamlana gen. nov.\n",
      "orgname []\n",
      "accessions []\n",
      "strain names []\n",
      "BREAK2\n",
      "Outer div ID: s10-4, Text: Description of Pseudotamlana gen. nov.\n",
      "orgname []\n",
      "accessions []\n",
      "strain names []\n",
      "BREAK2\n",
      "Outer div ID: s11-1, Text: Description of Allotamlana fucoidanivorans comb. nov.\n",
      "orgname []\n",
      "accessions []\n",
      "The type strain is CW2-9T (=CICC 24749T\n"
     ]
    },
    {
     "data": {
      "text/html": [
       "<span class=\"tex2jax_ignore\"><div class=\"entities\" style=\"line-height: 2.5; direction: ltr\">The type strain is \n",
       "<mark class=\"entity\" style=\"background: #ddd; padding: 0.45em 0.6em; margin: 0 0.25em; line-height: 1; border-radius: 0.35em;\">\n",
       "    CW2-9T\n",
       "    <span style=\"font-size: 0.8em; font-weight: bold; line-height: 1; border-radius: 0.35em; vertical-align: middle; margin-left: 0.5rem\">STRAIN</span>\n",
       "</mark>\n",
       " (=\n",
       "<mark class=\"entity\" style=\"background: #ddd; padding: 0.45em 0.6em; margin: 0 0.25em; line-height: 1; border-radius: 0.35em;\">\n",
       "    CICC 24749T\n",
       "    <span style=\"font-size: 0.8em; font-weight: bold; line-height: 1; border-radius: 0.35em; vertical-align: middle; margin-left: 0.5rem\">STRAIN</span>\n",
       "</mark>\n",
       "</div></span>"
      ],
      "text/plain": [
       "<IPython.core.display.HTML object>"
      ]
     },
     "metadata": {},
     "output_type": "display_data"
    },
    {
     "name": "stdout",
     "output_type": "stream",
     "text": [
      "n. onchidii, of Onchidium pertaining to the marine invertebrate Onchidium species from which the type strain was isolated)\n",
      "Basonym:\n"
     ]
    },
    {
     "name": "stderr",
     "output_type": "stream",
     "text": [
      "/home/mcveigh/jup/lib/python3.9/site-packages/spacy/displacy/__init__.py:213: UserWarning: [W006] No entities to visualize found in Doc object. If this is surprising to you, make sure the Doc was processed using a model that supports named entity recognition, and check the `doc.ents` property manually if necessary.\n",
      "  warnings.warn(Warnings.W006)\n"
     ]
    },
    {
     "data": {
      "text/html": [
       "<span class=\"tex2jax_ignore\"><div class=\"entities\" style=\"line-height: 2.5; direction: ltr\">n. onchidii, of Onchidium pertaining to the marine invertebrate Onchidium species from which the type strain was isolated)<br>Basonym:</div></span>"
      ],
      "text/plain": [
       "<IPython.core.display.HTML object>"
      ]
     },
     "metadata": {},
     "output_type": "display_data"
    },
    {
     "name": "stdout",
     "output_type": "stream",
     "text": [
      "The type strain is XY-114T (=KCTC 72217T=MCCC 1K03606T).\n"
     ]
    },
    {
     "data": {
      "text/html": [
       "<span class=\"tex2jax_ignore\"><div class=\"entities\" style=\"line-height: 2.5; direction: ltr\">The type strain is \n",
       "<mark class=\"entity\" style=\"background: #ddd; padding: 0.45em 0.6em; margin: 0 0.25em; line-height: 1; border-radius: 0.35em;\">\n",
       "    XY-114T\n",
       "    <span style=\"font-size: 0.8em; font-weight: bold; line-height: 1; border-radius: 0.35em; vertical-align: middle; margin-left: 0.5rem\">STRAIN</span>\n",
       "</mark>\n",
       " (=\n",
       "<mark class=\"entity\" style=\"background: #ddd; padding: 0.45em 0.6em; margin: 0 0.25em; line-height: 1; border-radius: 0.35em;\">\n",
       "    KCTC 72217T\n",
       "    <span style=\"font-size: 0.8em; font-weight: bold; line-height: 1; border-radius: 0.35em; vertical-align: middle; margin-left: 0.5rem\">STRAIN</span>\n",
       "</mark>\n",
       "=\n",
       "<mark class=\"entity\" style=\"background: #ddd; padding: 0.45em 0.6em; margin: 0 0.25em; line-height: 1; border-radius: 0.35em;\">\n",
       "    MCCC 1K03606T\n",
       "    <span style=\"font-size: 0.8em; font-weight: bold; line-height: 1; border-radius: 0.35em; vertical-align: middle; margin-left: 0.5rem\">STRAIN</span>\n",
       "</mark>\n",
       ").</div></span>"
      ],
      "text/plain": [
       "<IPython.core.display.HTML object>"
      ]
     },
     "metadata": {},
     "output_type": "display_data"
    },
    {
     "name": "stdout",
     "output_type": "stream",
     "text": [
      "strain names ['CW2-9T', 'CICC 24749T', 'XY-114T', 'KCTC 72217T', 'MCCC 1K03606T']\n",
      "BREAK2\n",
      "Outer div ID: s11-2, Text: Description of Neotamlana sedimentorum comb. nov.\n",
      "orgname []\n",
      "accessions []\n",
      "The type strain is KMM 9545T (=\n"
     ]
    },
    {
     "data": {
      "text/html": [
       "<span class=\"tex2jax_ignore\"><div class=\"entities\" style=\"line-height: 2.5; direction: ltr\">The type strain is \n",
       "<mark class=\"entity\" style=\"background: #ddd; padding: 0.45em 0.6em; margin: 0 0.25em; line-height: 1; border-radius: 0.35em;\">\n",
       "    KMM 9545T\n",
       "    <span style=\"font-size: 0.8em; font-weight: bold; line-height: 1; border-radius: 0.35em; vertical-align: middle; margin-left: 0.5rem\">STRAIN</span>\n",
       "</mark>\n",
       " (=</div></span>"
      ],
      "text/plain": [
       "<IPython.core.display.HTML object>"
      ]
     },
     "metadata": {},
     "output_type": "display_data"
    },
    {
     "name": "stdout",
     "output_type": "stream",
     "text": [
      "strain names ['KMM 9545T']\n",
      "BREAK2\n",
      "Outer div ID: s11-3, Text: Description of Neotamlana nanhaiensis comb. nov.\n",
      "orgname []\n",
      "accessions []\n",
      "adj. nanhaiensis, referring to Nanhai, the South China Sea, the site from where the type strain was isolated)\n",
      "Basonym:\n"
     ]
    },
    {
     "name": "stderr",
     "output_type": "stream",
     "text": [
      "/home/mcveigh/jup/lib/python3.9/site-packages/spacy/displacy/__init__.py:213: UserWarning: [W006] No entities to visualize found in Doc object. If this is surprising to you, make sure the Doc was processed using a model that supports named entity recognition, and check the `doc.ents` property manually if necessary.\n",
      "  warnings.warn(Warnings.W006)\n"
     ]
    },
    {
     "data": {
      "text/html": [
       "<span class=\"tex2jax_ignore\"><div class=\"entities\" style=\"line-height: 2.5; direction: ltr\">adj. nanhaiensis, referring to Nanhai, the South China Sea, the site from where the type strain was isolated)<br>Basonym:</div></span>"
      ],
      "text/plain": [
       "<IPython.core.display.HTML object>"
      ]
     },
     "metadata": {},
     "output_type": "display_data"
    },
    {
     "name": "stdout",
     "output_type": "stream",
     "text": [
      "The type strain is FHC16T (=LMG 27420T=MCCC 1A06648T).\n"
     ]
    },
    {
     "data": {
      "text/html": [
       "<span class=\"tex2jax_ignore\"><div class=\"entities\" style=\"line-height: 2.5; direction: ltr\">The type strain is \n",
       "<mark class=\"entity\" style=\"background: #ddd; padding: 0.45em 0.6em; margin: 0 0.25em; line-height: 1; border-radius: 0.35em;\">\n",
       "    FHC16T\n",
       "    <span style=\"font-size: 0.8em; font-weight: bold; line-height: 1; border-radius: 0.35em; vertical-align: middle; margin-left: 0.5rem\">STRAIN</span>\n",
       "</mark>\n",
       " (=\n",
       "<mark class=\"entity\" style=\"background: #ddd; padding: 0.45em 0.6em; margin: 0 0.25em; line-height: 1; border-radius: 0.35em;\">\n",
       "    LMG 27420T\n",
       "    <span style=\"font-size: 0.8em; font-weight: bold; line-height: 1; border-radius: 0.35em; vertical-align: middle; margin-left: 0.5rem\">STRAIN</span>\n",
       "</mark>\n",
       "=\n",
       "<mark class=\"entity\" style=\"background: #ddd; padding: 0.45em 0.6em; margin: 0 0.25em; line-height: 1; border-radius: 0.35em;\">\n",
       "    MCCC 1A06648T\n",
       "    <span style=\"font-size: 0.8em; font-weight: bold; line-height: 1; border-radius: 0.35em; vertical-align: middle; margin-left: 0.5rem\">STRAIN</span>\n",
       "</mark>\n",
       ").</div></span>"
      ],
      "text/plain": [
       "<IPython.core.display.HTML object>"
      ]
     },
     "metadata": {},
     "output_type": "display_data"
    },
    {
     "name": "stdout",
     "output_type": "stream",
     "text": [
      "strain names ['FHC16T', 'LMG 27420T', 'MCCC 1A06648T']\n",
      "BREAK2\n",
      "Outer div ID: s11-4, Text: Description of Neotamlana laminarinivorans comb. nov.\n",
      "orgname []\n",
      "accessions []\n",
      "The type strain is PT2-4T (=KCTC 92183T=MCCC 1K04427T).\n"
     ]
    },
    {
     "data": {
      "text/html": [
       "<span class=\"tex2jax_ignore\"><div class=\"entities\" style=\"line-height: 2.5; direction: ltr\">The type strain is \n",
       "<mark class=\"entity\" style=\"background: #ddd; padding: 0.45em 0.6em; margin: 0 0.25em; line-height: 1; border-radius: 0.35em;\">\n",
       "    PT2-4T\n",
       "    <span style=\"font-size: 0.8em; font-weight: bold; line-height: 1; border-radius: 0.35em; vertical-align: middle; margin-left: 0.5rem\">STRAIN</span>\n",
       "</mark>\n",
       " (=\n",
       "<mark class=\"entity\" style=\"background: #ddd; padding: 0.45em 0.6em; margin: 0 0.25em; line-height: 1; border-radius: 0.35em;\">\n",
       "    KCTC 92183T\n",
       "    <span style=\"font-size: 0.8em; font-weight: bold; line-height: 1; border-radius: 0.35em; vertical-align: middle; margin-left: 0.5rem\">STRAIN</span>\n",
       "</mark>\n",
       "=\n",
       "<mark class=\"entity\" style=\"background: #ddd; padding: 0.45em 0.6em; margin: 0 0.25em; line-height: 1; border-radius: 0.35em;\">\n",
       "    MCCC 1K04427T\n",
       "    <span style=\"font-size: 0.8em; font-weight: bold; line-height: 1; border-radius: 0.35em; vertical-align: middle; margin-left: 0.5rem\">STRAIN</span>\n",
       "</mark>\n",
       ").</div></span>"
      ],
      "text/plain": [
       "<IPython.core.display.HTML object>"
      ]
     },
     "metadata": {},
     "output_type": "display_data"
    },
    {
     "name": "stdout",
     "output_type": "stream",
     "text": [
      "strain names ['PT2-4T', 'KCTC 92183T', 'MCCC 1K04427T']\n",
      "BREAK2\n",
      "Outer div ID: s11-5, Text: Description of Neotamlana sargassicola comb. nov.\n",
      "orgname []\n",
      "accessions []\n",
      "The type strain is 62-3T (=KCTC 92182T=MCCC 1K04421T).\n"
     ]
    },
    {
     "data": {
      "text/html": [
       "<span class=\"tex2jax_ignore\"><div class=\"entities\" style=\"line-height: 2.5; direction: ltr\">The type strain is \n",
       "<mark class=\"entity\" style=\"background: #ddd; padding: 0.45em 0.6em; margin: 0 0.25em; line-height: 1; border-radius: 0.35em;\">\n",
       "    62-3T\n",
       "    <span style=\"font-size: 0.8em; font-weight: bold; line-height: 1; border-radius: 0.35em; vertical-align: middle; margin-left: 0.5rem\">STRAIN</span>\n",
       "</mark>\n",
       " (=\n",
       "<mark class=\"entity\" style=\"background: #ddd; padding: 0.45em 0.6em; margin: 0 0.25em; line-height: 1; border-radius: 0.35em;\">\n",
       "    KCTC 92182T\n",
       "    <span style=\"font-size: 0.8em; font-weight: bold; line-height: 1; border-radius: 0.35em; vertical-align: middle; margin-left: 0.5rem\">STRAIN</span>\n",
       "</mark>\n",
       "=\n",
       "<mark class=\"entity\" style=\"background: #ddd; padding: 0.45em 0.6em; margin: 0 0.25em; line-height: 1; border-radius: 0.35em;\">\n",
       "    MCCC 1K04421T\n",
       "    <span style=\"font-size: 0.8em; font-weight: bold; line-height: 1; border-radius: 0.35em; vertical-align: middle; margin-left: 0.5rem\">STRAIN</span>\n",
       "</mark>\n",
       ").</div></span>"
      ],
      "text/plain": [
       "<IPython.core.display.HTML object>"
      ]
     },
     "metadata": {},
     "output_type": "display_data"
    },
    {
     "name": "stdout",
     "output_type": "stream",
     "text": [
      "strain names ['62-3T', 'KCTC 92182T', 'MCCC 1K04421T']\n",
      "BREAK2\n",
      "Outer div ID: s11-6, Text: Description of Pseudotamlana agarivorans comb. nov.\n",
      "orgname []\n",
      "accessions []\n",
      "The type strain is JW-26T (=KCTC 22176T=CCUG 55327T).\n"
     ]
    },
    {
     "data": {
      "text/html": [
       "<span class=\"tex2jax_ignore\"><div class=\"entities\" style=\"line-height: 2.5; direction: ltr\">The type strain is \n",
       "<mark class=\"entity\" style=\"background: #ddd; padding: 0.45em 0.6em; margin: 0 0.25em; line-height: 1; border-radius: 0.35em;\">\n",
       "    JW-26T\n",
       "    <span style=\"font-size: 0.8em; font-weight: bold; line-height: 1; border-radius: 0.35em; vertical-align: middle; margin-left: 0.5rem\">STRAIN</span>\n",
       "</mark>\n",
       " (=\n",
       "<mark class=\"entity\" style=\"background: #ddd; padding: 0.45em 0.6em; margin: 0 0.25em; line-height: 1; border-radius: 0.35em;\">\n",
       "    KCTC 22176T\n",
       "    <span style=\"font-size: 0.8em; font-weight: bold; line-height: 1; border-radius: 0.35em; vertical-align: middle; margin-left: 0.5rem\">STRAIN</span>\n",
       "</mark>\n",
       "=\n",
       "<mark class=\"entity\" style=\"background: #ddd; padding: 0.45em 0.6em; margin: 0 0.25em; line-height: 1; border-radius: 0.35em;\">\n",
       "    CCUG 55327T\n",
       "    <span style=\"font-size: 0.8em; font-weight: bold; line-height: 1; border-radius: 0.35em; vertical-align: middle; margin-left: 0.5rem\">STRAIN</span>\n",
       "</mark>\n",
       ").</div></span>"
      ],
      "text/plain": [
       "<IPython.core.display.HTML object>"
      ]
     },
     "metadata": {},
     "output_type": "display_data"
    },
    {
     "name": "stdout",
     "output_type": "stream",
     "text": [
      "strain names ['JW-26T', 'KCTC 22176T', 'CCUG 55327T']\n",
      "BREAK2\n",
      "Outer div ID: s11-7, Text: Description of Pseudotamlana carrageenivorans comb. nov.\n",
      "orgname []\n",
      "accessions []\n",
      "The type strain is UJ94T (=\n"
     ]
    },
    {
     "data": {
      "text/html": [
       "<span class=\"tex2jax_ignore\"><div class=\"entities\" style=\"line-height: 2.5; direction: ltr\">The type strain is \n",
       "<mark class=\"entity\" style=\"background: #ddd; padding: 0.45em 0.6em; margin: 0 0.25em; line-height: 1; border-radius: 0.35em;\">\n",
       "    UJ94T\n",
       "    <span style=\"font-size: 0.8em; font-weight: bold; line-height: 1; border-radius: 0.35em; vertical-align: middle; margin-left: 0.5rem\">STRAIN</span>\n",
       "</mark>\n",
       " (=</div></span>"
      ],
      "text/plain": [
       "<IPython.core.display.HTML object>"
      ]
     },
     "metadata": {},
     "output_type": "display_data"
    },
    {
     "name": "stdout",
     "output_type": "stream",
     "text": [
      "strain names ['UJ94T']\n",
      "BREAK2\n",
      "Outer div ID: s11-8, Text: Description of Pseudotamlana haliotis comb. nov.\n",
      "orgname []\n",
      "accessions []\n",
      "The type strain is B1N29T (=KCTC 72683T=MCCC 1H00394T).\n"
     ]
    },
    {
     "data": {
      "text/html": [
       "<span class=\"tex2jax_ignore\"><div class=\"entities\" style=\"line-height: 2.5; direction: ltr\">The type strain is \n",
       "<mark class=\"entity\" style=\"background: #ddd; padding: 0.45em 0.6em; margin: 0 0.25em; line-height: 1; border-radius: 0.35em;\">\n",
       "    B1N29T\n",
       "    <span style=\"font-size: 0.8em; font-weight: bold; line-height: 1; border-radius: 0.35em; vertical-align: middle; margin-left: 0.5rem\">STRAIN</span>\n",
       "</mark>\n",
       " (=\n",
       "<mark class=\"entity\" style=\"background: #ddd; padding: 0.45em 0.6em; margin: 0 0.25em; line-height: 1; border-radius: 0.35em;\">\n",
       "    KCTC 72683T\n",
       "    <span style=\"font-size: 0.8em; font-weight: bold; line-height: 1; border-radius: 0.35em; vertical-align: middle; margin-left: 0.5rem\">STRAIN</span>\n",
       "</mark>\n",
       "=\n",
       "<mark class=\"entity\" style=\"background: #ddd; padding: 0.45em 0.6em; margin: 0 0.25em; line-height: 1; border-radius: 0.35em;\">\n",
       "    MCCC 1H00394T\n",
       "    <span style=\"font-size: 0.8em; font-weight: bold; line-height: 1; border-radius: 0.35em; vertical-align: middle; margin-left: 0.5rem\">STRAIN</span>\n",
       "</mark>\n",
       ").</div></span>"
      ],
      "text/plain": [
       "<IPython.core.display.HTML object>"
      ]
     },
     "metadata": {},
     "output_type": "display_data"
    },
    {
     "name": "stdout",
     "output_type": "stream",
     "text": [
      "strain names ['B1N29T', 'KCTC 72683T', 'MCCC 1H00394T']\n",
      "BREAK2\n",
      "Outer div ID: s10-1, Text: Description of Allotamlana gen. nov.\n",
      "orgname []\n",
      "accessions []\n",
      "strain names []\n",
      "BREAK2\n",
      "Outer div ID: s10-2, Text: Description of Cognatitamlana gen. nov.\n",
      "orgname []\n",
      "accessions []\n",
      "strain names []\n",
      "BREAK2\n",
      "Outer div ID: s10-3, Text: Description of Neotamlana gen. nov.\n",
      "orgname []\n",
      "accessions []\n",
      "strain names []\n",
      "BREAK2\n",
      "Outer div ID: s10-4, Text: Description of Pseudotamlana gen. nov.\n",
      "orgname []\n",
      "accessions []\n",
      "strain names []\n",
      "BREAK2\n",
      "Outer div ID: s11-1, Text: Description of Allotamlana fucoidanivorans comb. nov.\n",
      "orgname []\n",
      "accessions []\n",
      "The type strain is CW2-9T (=CICC 24749T\n"
     ]
    },
    {
     "data": {
      "text/html": [
       "<span class=\"tex2jax_ignore\"><div class=\"entities\" style=\"line-height: 2.5; direction: ltr\">The type strain is \n",
       "<mark class=\"entity\" style=\"background: #ddd; padding: 0.45em 0.6em; margin: 0 0.25em; line-height: 1; border-radius: 0.35em;\">\n",
       "    CW2-9T\n",
       "    <span style=\"font-size: 0.8em; font-weight: bold; line-height: 1; border-radius: 0.35em; vertical-align: middle; margin-left: 0.5rem\">STRAIN</span>\n",
       "</mark>\n",
       " (=\n",
       "<mark class=\"entity\" style=\"background: #ddd; padding: 0.45em 0.6em; margin: 0 0.25em; line-height: 1; border-radius: 0.35em;\">\n",
       "    CICC 24749T\n",
       "    <span style=\"font-size: 0.8em; font-weight: bold; line-height: 1; border-radius: 0.35em; vertical-align: middle; margin-left: 0.5rem\">STRAIN</span>\n",
       "</mark>\n",
       "</div></span>"
      ],
      "text/plain": [
       "<IPython.core.display.HTML object>"
      ]
     },
     "metadata": {},
     "output_type": "display_data"
    },
    {
     "name": "stdout",
     "output_type": "stream",
     "text": [
      "n. onchidii, of Onchidium pertaining to the marine invertebrate Onchidium species from which the type strain was isolated)\n",
      "Basonym:\n"
     ]
    },
    {
     "name": "stderr",
     "output_type": "stream",
     "text": [
      "/home/mcveigh/jup/lib/python3.9/site-packages/spacy/displacy/__init__.py:213: UserWarning: [W006] No entities to visualize found in Doc object. If this is surprising to you, make sure the Doc was processed using a model that supports named entity recognition, and check the `doc.ents` property manually if necessary.\n",
      "  warnings.warn(Warnings.W006)\n"
     ]
    },
    {
     "data": {
      "text/html": [
       "<span class=\"tex2jax_ignore\"><div class=\"entities\" style=\"line-height: 2.5; direction: ltr\">n. onchidii, of Onchidium pertaining to the marine invertebrate Onchidium species from which the type strain was isolated)<br>Basonym:</div></span>"
      ],
      "text/plain": [
       "<IPython.core.display.HTML object>"
      ]
     },
     "metadata": {},
     "output_type": "display_data"
    },
    {
     "name": "stdout",
     "output_type": "stream",
     "text": [
      "The type strain is XY-114T (=KCTC 72217T=MCCC 1K03606T).\n"
     ]
    },
    {
     "data": {
      "text/html": [
       "<span class=\"tex2jax_ignore\"><div class=\"entities\" style=\"line-height: 2.5; direction: ltr\">The type strain is \n",
       "<mark class=\"entity\" style=\"background: #ddd; padding: 0.45em 0.6em; margin: 0 0.25em; line-height: 1; border-radius: 0.35em;\">\n",
       "    XY-114T\n",
       "    <span style=\"font-size: 0.8em; font-weight: bold; line-height: 1; border-radius: 0.35em; vertical-align: middle; margin-left: 0.5rem\">STRAIN</span>\n",
       "</mark>\n",
       " (=\n",
       "<mark class=\"entity\" style=\"background: #ddd; padding: 0.45em 0.6em; margin: 0 0.25em; line-height: 1; border-radius: 0.35em;\">\n",
       "    KCTC 72217T\n",
       "    <span style=\"font-size: 0.8em; font-weight: bold; line-height: 1; border-radius: 0.35em; vertical-align: middle; margin-left: 0.5rem\">STRAIN</span>\n",
       "</mark>\n",
       "=\n",
       "<mark class=\"entity\" style=\"background: #ddd; padding: 0.45em 0.6em; margin: 0 0.25em; line-height: 1; border-radius: 0.35em;\">\n",
       "    MCCC 1K03606T\n",
       "    <span style=\"font-size: 0.8em; font-weight: bold; line-height: 1; border-radius: 0.35em; vertical-align: middle; margin-left: 0.5rem\">STRAIN</span>\n",
       "</mark>\n",
       ").</div></span>"
      ],
      "text/plain": [
       "<IPython.core.display.HTML object>"
      ]
     },
     "metadata": {},
     "output_type": "display_data"
    },
    {
     "name": "stdout",
     "output_type": "stream",
     "text": [
      "strain names ['CW2-9T', 'CICC 24749T', 'XY-114T', 'KCTC 72217T', 'MCCC 1K03606T']\n",
      "BREAK2\n",
      "Outer div ID: s11-2, Text: Description of Neotamlana sedimentorum comb. nov.\n",
      "orgname []\n",
      "accessions []\n",
      "The type strain is KMM 9545T (=\n"
     ]
    },
    {
     "data": {
      "text/html": [
       "<span class=\"tex2jax_ignore\"><div class=\"entities\" style=\"line-height: 2.5; direction: ltr\">The type strain is \n",
       "<mark class=\"entity\" style=\"background: #ddd; padding: 0.45em 0.6em; margin: 0 0.25em; line-height: 1; border-radius: 0.35em;\">\n",
       "    KMM 9545T\n",
       "    <span style=\"font-size: 0.8em; font-weight: bold; line-height: 1; border-radius: 0.35em; vertical-align: middle; margin-left: 0.5rem\">STRAIN</span>\n",
       "</mark>\n",
       " (=</div></span>"
      ],
      "text/plain": [
       "<IPython.core.display.HTML object>"
      ]
     },
     "metadata": {},
     "output_type": "display_data"
    },
    {
     "name": "stdout",
     "output_type": "stream",
     "text": [
      "strain names ['KMM 9545T']\n",
      "BREAK2\n",
      "Outer div ID: s11-3, Text: Description of Neotamlana nanhaiensis comb. nov.\n",
      "orgname []\n",
      "accessions []\n",
      "adj. nanhaiensis, referring to Nanhai, the South China Sea, the site from where the type strain was isolated)\n",
      "Basonym:\n"
     ]
    },
    {
     "name": "stderr",
     "output_type": "stream",
     "text": [
      "/home/mcveigh/jup/lib/python3.9/site-packages/spacy/displacy/__init__.py:213: UserWarning: [W006] No entities to visualize found in Doc object. If this is surprising to you, make sure the Doc was processed using a model that supports named entity recognition, and check the `doc.ents` property manually if necessary.\n",
      "  warnings.warn(Warnings.W006)\n"
     ]
    },
    {
     "data": {
      "text/html": [
       "<span class=\"tex2jax_ignore\"><div class=\"entities\" style=\"line-height: 2.5; direction: ltr\">adj. nanhaiensis, referring to Nanhai, the South China Sea, the site from where the type strain was isolated)<br>Basonym:</div></span>"
      ],
      "text/plain": [
       "<IPython.core.display.HTML object>"
      ]
     },
     "metadata": {},
     "output_type": "display_data"
    },
    {
     "name": "stdout",
     "output_type": "stream",
     "text": [
      "The type strain is FHC16T (=LMG 27420T=MCCC 1A06648T).\n"
     ]
    },
    {
     "data": {
      "text/html": [
       "<span class=\"tex2jax_ignore\"><div class=\"entities\" style=\"line-height: 2.5; direction: ltr\">The type strain is \n",
       "<mark class=\"entity\" style=\"background: #ddd; padding: 0.45em 0.6em; margin: 0 0.25em; line-height: 1; border-radius: 0.35em;\">\n",
       "    FHC16T\n",
       "    <span style=\"font-size: 0.8em; font-weight: bold; line-height: 1; border-radius: 0.35em; vertical-align: middle; margin-left: 0.5rem\">STRAIN</span>\n",
       "</mark>\n",
       " (=\n",
       "<mark class=\"entity\" style=\"background: #ddd; padding: 0.45em 0.6em; margin: 0 0.25em; line-height: 1; border-radius: 0.35em;\">\n",
       "    LMG 27420T\n",
       "    <span style=\"font-size: 0.8em; font-weight: bold; line-height: 1; border-radius: 0.35em; vertical-align: middle; margin-left: 0.5rem\">STRAIN</span>\n",
       "</mark>\n",
       "=\n",
       "<mark class=\"entity\" style=\"background: #ddd; padding: 0.45em 0.6em; margin: 0 0.25em; line-height: 1; border-radius: 0.35em;\">\n",
       "    MCCC 1A06648T\n",
       "    <span style=\"font-size: 0.8em; font-weight: bold; line-height: 1; border-radius: 0.35em; vertical-align: middle; margin-left: 0.5rem\">STRAIN</span>\n",
       "</mark>\n",
       ").</div></span>"
      ],
      "text/plain": [
       "<IPython.core.display.HTML object>"
      ]
     },
     "metadata": {},
     "output_type": "display_data"
    },
    {
     "name": "stdout",
     "output_type": "stream",
     "text": [
      "strain names ['FHC16T', 'LMG 27420T', 'MCCC 1A06648T']\n",
      "BREAK2\n",
      "Outer div ID: s11-4, Text: Description of Neotamlana laminarinivorans comb. nov.\n",
      "orgname []\n",
      "accessions []\n",
      "The type strain is PT2-4T (=KCTC 92183T=MCCC 1K04427T).\n"
     ]
    },
    {
     "data": {
      "text/html": [
       "<span class=\"tex2jax_ignore\"><div class=\"entities\" style=\"line-height: 2.5; direction: ltr\">The type strain is \n",
       "<mark class=\"entity\" style=\"background: #ddd; padding: 0.45em 0.6em; margin: 0 0.25em; line-height: 1; border-radius: 0.35em;\">\n",
       "    PT2-4T\n",
       "    <span style=\"font-size: 0.8em; font-weight: bold; line-height: 1; border-radius: 0.35em; vertical-align: middle; margin-left: 0.5rem\">STRAIN</span>\n",
       "</mark>\n",
       " (=\n",
       "<mark class=\"entity\" style=\"background: #ddd; padding: 0.45em 0.6em; margin: 0 0.25em; line-height: 1; border-radius: 0.35em;\">\n",
       "    KCTC 92183T\n",
       "    <span style=\"font-size: 0.8em; font-weight: bold; line-height: 1; border-radius: 0.35em; vertical-align: middle; margin-left: 0.5rem\">STRAIN</span>\n",
       "</mark>\n",
       "=\n",
       "<mark class=\"entity\" style=\"background: #ddd; padding: 0.45em 0.6em; margin: 0 0.25em; line-height: 1; border-radius: 0.35em;\">\n",
       "    MCCC 1K04427T\n",
       "    <span style=\"font-size: 0.8em; font-weight: bold; line-height: 1; border-radius: 0.35em; vertical-align: middle; margin-left: 0.5rem\">STRAIN</span>\n",
       "</mark>\n",
       ").</div></span>"
      ],
      "text/plain": [
       "<IPython.core.display.HTML object>"
      ]
     },
     "metadata": {},
     "output_type": "display_data"
    },
    {
     "name": "stdout",
     "output_type": "stream",
     "text": [
      "strain names ['PT2-4T', 'KCTC 92183T', 'MCCC 1K04427T']\n",
      "BREAK2\n",
      "Outer div ID: s11-5, Text: Description of Neotamlana sargassicola comb. nov.\n",
      "orgname []\n",
      "accessions []\n",
      "The type strain is 62-3T (=KCTC 92182T=MCCC 1K04421T).\n"
     ]
    },
    {
     "data": {
      "text/html": [
       "<span class=\"tex2jax_ignore\"><div class=\"entities\" style=\"line-height: 2.5; direction: ltr\">The type strain is \n",
       "<mark class=\"entity\" style=\"background: #ddd; padding: 0.45em 0.6em; margin: 0 0.25em; line-height: 1; border-radius: 0.35em;\">\n",
       "    62-3T\n",
       "    <span style=\"font-size: 0.8em; font-weight: bold; line-height: 1; border-radius: 0.35em; vertical-align: middle; margin-left: 0.5rem\">STRAIN</span>\n",
       "</mark>\n",
       " (=\n",
       "<mark class=\"entity\" style=\"background: #ddd; padding: 0.45em 0.6em; margin: 0 0.25em; line-height: 1; border-radius: 0.35em;\">\n",
       "    KCTC 92182T\n",
       "    <span style=\"font-size: 0.8em; font-weight: bold; line-height: 1; border-radius: 0.35em; vertical-align: middle; margin-left: 0.5rem\">STRAIN</span>\n",
       "</mark>\n",
       "=\n",
       "<mark class=\"entity\" style=\"background: #ddd; padding: 0.45em 0.6em; margin: 0 0.25em; line-height: 1; border-radius: 0.35em;\">\n",
       "    MCCC 1K04421T\n",
       "    <span style=\"font-size: 0.8em; font-weight: bold; line-height: 1; border-radius: 0.35em; vertical-align: middle; margin-left: 0.5rem\">STRAIN</span>\n",
       "</mark>\n",
       ").</div></span>"
      ],
      "text/plain": [
       "<IPython.core.display.HTML object>"
      ]
     },
     "metadata": {},
     "output_type": "display_data"
    },
    {
     "name": "stdout",
     "output_type": "stream",
     "text": [
      "strain names ['62-3T', 'KCTC 92182T', 'MCCC 1K04421T']\n",
      "BREAK2\n",
      "Outer div ID: s11-6, Text: Description of Pseudotamlana agarivorans comb. nov.\n",
      "orgname []\n",
      "accessions []\n",
      "The type strain is JW-26T (=KCTC 22176T=CCUG 55327T).\n"
     ]
    },
    {
     "data": {
      "text/html": [
       "<span class=\"tex2jax_ignore\"><div class=\"entities\" style=\"line-height: 2.5; direction: ltr\">The type strain is \n",
       "<mark class=\"entity\" style=\"background: #ddd; padding: 0.45em 0.6em; margin: 0 0.25em; line-height: 1; border-radius: 0.35em;\">\n",
       "    JW-26T\n",
       "    <span style=\"font-size: 0.8em; font-weight: bold; line-height: 1; border-radius: 0.35em; vertical-align: middle; margin-left: 0.5rem\">STRAIN</span>\n",
       "</mark>\n",
       " (=\n",
       "<mark class=\"entity\" style=\"background: #ddd; padding: 0.45em 0.6em; margin: 0 0.25em; line-height: 1; border-radius: 0.35em;\">\n",
       "    KCTC 22176T\n",
       "    <span style=\"font-size: 0.8em; font-weight: bold; line-height: 1; border-radius: 0.35em; vertical-align: middle; margin-left: 0.5rem\">STRAIN</span>\n",
       "</mark>\n",
       "=\n",
       "<mark class=\"entity\" style=\"background: #ddd; padding: 0.45em 0.6em; margin: 0 0.25em; line-height: 1; border-radius: 0.35em;\">\n",
       "    CCUG 55327T\n",
       "    <span style=\"font-size: 0.8em; font-weight: bold; line-height: 1; border-radius: 0.35em; vertical-align: middle; margin-left: 0.5rem\">STRAIN</span>\n",
       "</mark>\n",
       ").</div></span>"
      ],
      "text/plain": [
       "<IPython.core.display.HTML object>"
      ]
     },
     "metadata": {},
     "output_type": "display_data"
    },
    {
     "name": "stdout",
     "output_type": "stream",
     "text": [
      "strain names ['JW-26T', 'KCTC 22176T', 'CCUG 55327T']\n",
      "BREAK2\n",
      "Outer div ID: s11-7, Text: Description of Pseudotamlana carrageenivorans comb. nov.\n",
      "orgname []\n",
      "accessions []\n",
      "The type strain is UJ94T (=\n"
     ]
    },
    {
     "data": {
      "text/html": [
       "<span class=\"tex2jax_ignore\"><div class=\"entities\" style=\"line-height: 2.5; direction: ltr\">The type strain is \n",
       "<mark class=\"entity\" style=\"background: #ddd; padding: 0.45em 0.6em; margin: 0 0.25em; line-height: 1; border-radius: 0.35em;\">\n",
       "    UJ94T\n",
       "    <span style=\"font-size: 0.8em; font-weight: bold; line-height: 1; border-radius: 0.35em; vertical-align: middle; margin-left: 0.5rem\">STRAIN</span>\n",
       "</mark>\n",
       " (=</div></span>"
      ],
      "text/plain": [
       "<IPython.core.display.HTML object>"
      ]
     },
     "metadata": {},
     "output_type": "display_data"
    },
    {
     "name": "stdout",
     "output_type": "stream",
     "text": [
      "strain names ['UJ94T']\n",
      "BREAK2\n",
      "Outer div ID: s11-8, Text: Description of Pseudotamlana haliotis comb. nov.\n",
      "orgname []\n",
      "accessions []\n",
      "The type strain is B1N29T (=KCTC 72683T=MCCC 1H00394T).\n"
     ]
    },
    {
     "data": {
      "text/html": [
       "<span class=\"tex2jax_ignore\"><div class=\"entities\" style=\"line-height: 2.5; direction: ltr\">The type strain is \n",
       "<mark class=\"entity\" style=\"background: #ddd; padding: 0.45em 0.6em; margin: 0 0.25em; line-height: 1; border-radius: 0.35em;\">\n",
       "    B1N29T\n",
       "    <span style=\"font-size: 0.8em; font-weight: bold; line-height: 1; border-radius: 0.35em; vertical-align: middle; margin-left: 0.5rem\">STRAIN</span>\n",
       "</mark>\n",
       " (=\n",
       "<mark class=\"entity\" style=\"background: #ddd; padding: 0.45em 0.6em; margin: 0 0.25em; line-height: 1; border-radius: 0.35em;\">\n",
       "    KCTC 72683T\n",
       "    <span style=\"font-size: 0.8em; font-weight: bold; line-height: 1; border-radius: 0.35em; vertical-align: middle; margin-left: 0.5rem\">STRAIN</span>\n",
       "</mark>\n",
       "=\n",
       "<mark class=\"entity\" style=\"background: #ddd; padding: 0.45em 0.6em; margin: 0 0.25em; line-height: 1; border-radius: 0.35em;\">\n",
       "    MCCC 1H00394T\n",
       "    <span style=\"font-size: 0.8em; font-weight: bold; line-height: 1; border-radius: 0.35em; vertical-align: middle; margin-left: 0.5rem\">STRAIN</span>\n",
       "</mark>\n",
       ").</div></span>"
      ],
      "text/plain": [
       "<IPython.core.display.HTML object>"
      ]
     },
     "metadata": {},
     "output_type": "display_data"
    },
    {
     "name": "stdout",
     "output_type": "stream",
     "text": [
      "strain names ['B1N29T', 'KCTC 72683T', 'MCCC 1H00394T']\n",
      "BREAK2\n",
      "Outer div ID: s10-1, Text: Description of Allotamlana gen. nov.\n",
      "orgname []\n",
      "accessions []\n",
      "strain names []\n",
      "BREAK2\n",
      "Outer div ID: s10-2, Text: Description of Cognatitamlana gen. nov.\n",
      "orgname []\n",
      "accessions []\n",
      "strain names []\n",
      "BREAK2\n",
      "Outer div ID: s10-3, Text: Description of Neotamlana gen. nov.\n",
      "orgname []\n",
      "accessions []\n",
      "strain names []\n",
      "BREAK2\n",
      "Outer div ID: s10-4, Text: Description of Pseudotamlana gen. nov.\n",
      "orgname []\n",
      "accessions []\n",
      "strain names []\n",
      "BREAK2\n",
      "Outer div ID: s11-1, Text: Description of Allotamlana fucoidanivorans comb. nov.\n",
      "orgname []\n",
      "accessions []\n",
      "The type strain is CW2-9T (=CICC 24749T\n"
     ]
    },
    {
     "data": {
      "text/html": [
       "<span class=\"tex2jax_ignore\"><div class=\"entities\" style=\"line-height: 2.5; direction: ltr\">The type strain is \n",
       "<mark class=\"entity\" style=\"background: #ddd; padding: 0.45em 0.6em; margin: 0 0.25em; line-height: 1; border-radius: 0.35em;\">\n",
       "    CW2-9T\n",
       "    <span style=\"font-size: 0.8em; font-weight: bold; line-height: 1; border-radius: 0.35em; vertical-align: middle; margin-left: 0.5rem\">STRAIN</span>\n",
       "</mark>\n",
       " (=\n",
       "<mark class=\"entity\" style=\"background: #ddd; padding: 0.45em 0.6em; margin: 0 0.25em; line-height: 1; border-radius: 0.35em;\">\n",
       "    CICC 24749T\n",
       "    <span style=\"font-size: 0.8em; font-weight: bold; line-height: 1; border-radius: 0.35em; vertical-align: middle; margin-left: 0.5rem\">STRAIN</span>\n",
       "</mark>\n",
       "</div></span>"
      ],
      "text/plain": [
       "<IPython.core.display.HTML object>"
      ]
     },
     "metadata": {},
     "output_type": "display_data"
    },
    {
     "name": "stdout",
     "output_type": "stream",
     "text": [
      "n. onchidii, of Onchidium pertaining to the marine invertebrate Onchidium species from which the type strain was isolated)\n",
      "Basonym:\n"
     ]
    },
    {
     "name": "stderr",
     "output_type": "stream",
     "text": [
      "/home/mcveigh/jup/lib/python3.9/site-packages/spacy/displacy/__init__.py:213: UserWarning: [W006] No entities to visualize found in Doc object. If this is surprising to you, make sure the Doc was processed using a model that supports named entity recognition, and check the `doc.ents` property manually if necessary.\n",
      "  warnings.warn(Warnings.W006)\n"
     ]
    },
    {
     "data": {
      "text/html": [
       "<span class=\"tex2jax_ignore\"><div class=\"entities\" style=\"line-height: 2.5; direction: ltr\">n. onchidii, of Onchidium pertaining to the marine invertebrate Onchidium species from which the type strain was isolated)<br>Basonym:</div></span>"
      ],
      "text/plain": [
       "<IPython.core.display.HTML object>"
      ]
     },
     "metadata": {},
     "output_type": "display_data"
    },
    {
     "name": "stdout",
     "output_type": "stream",
     "text": [
      "The type strain is XY-114T (=KCTC 72217T=MCCC 1K03606T).\n"
     ]
    },
    {
     "data": {
      "text/html": [
       "<span class=\"tex2jax_ignore\"><div class=\"entities\" style=\"line-height: 2.5; direction: ltr\">The type strain is \n",
       "<mark class=\"entity\" style=\"background: #ddd; padding: 0.45em 0.6em; margin: 0 0.25em; line-height: 1; border-radius: 0.35em;\">\n",
       "    XY-114T\n",
       "    <span style=\"font-size: 0.8em; font-weight: bold; line-height: 1; border-radius: 0.35em; vertical-align: middle; margin-left: 0.5rem\">STRAIN</span>\n",
       "</mark>\n",
       " (=\n",
       "<mark class=\"entity\" style=\"background: #ddd; padding: 0.45em 0.6em; margin: 0 0.25em; line-height: 1; border-radius: 0.35em;\">\n",
       "    KCTC 72217T\n",
       "    <span style=\"font-size: 0.8em; font-weight: bold; line-height: 1; border-radius: 0.35em; vertical-align: middle; margin-left: 0.5rem\">STRAIN</span>\n",
       "</mark>\n",
       "=\n",
       "<mark class=\"entity\" style=\"background: #ddd; padding: 0.45em 0.6em; margin: 0 0.25em; line-height: 1; border-radius: 0.35em;\">\n",
       "    MCCC 1K03606T\n",
       "    <span style=\"font-size: 0.8em; font-weight: bold; line-height: 1; border-radius: 0.35em; vertical-align: middle; margin-left: 0.5rem\">STRAIN</span>\n",
       "</mark>\n",
       ").</div></span>"
      ],
      "text/plain": [
       "<IPython.core.display.HTML object>"
      ]
     },
     "metadata": {},
     "output_type": "display_data"
    },
    {
     "name": "stdout",
     "output_type": "stream",
     "text": [
      "strain names ['CW2-9T', 'CICC 24749T', 'XY-114T', 'KCTC 72217T', 'MCCC 1K03606T']\n",
      "BREAK2\n",
      "Outer div ID: s11-2, Text: Description of Neotamlana sedimentorum comb. nov.\n",
      "orgname []\n",
      "accessions []\n",
      "The type strain is KMM 9545T (=\n"
     ]
    },
    {
     "data": {
      "text/html": [
       "<span class=\"tex2jax_ignore\"><div class=\"entities\" style=\"line-height: 2.5; direction: ltr\">The type strain is \n",
       "<mark class=\"entity\" style=\"background: #ddd; padding: 0.45em 0.6em; margin: 0 0.25em; line-height: 1; border-radius: 0.35em;\">\n",
       "    KMM 9545T\n",
       "    <span style=\"font-size: 0.8em; font-weight: bold; line-height: 1; border-radius: 0.35em; vertical-align: middle; margin-left: 0.5rem\">STRAIN</span>\n",
       "</mark>\n",
       " (=</div></span>"
      ],
      "text/plain": [
       "<IPython.core.display.HTML object>"
      ]
     },
     "metadata": {},
     "output_type": "display_data"
    },
    {
     "name": "stdout",
     "output_type": "stream",
     "text": [
      "strain names ['KMM 9545T']\n",
      "BREAK2\n",
      "Outer div ID: s11-3, Text: Description of Neotamlana nanhaiensis comb. nov.\n",
      "orgname []\n",
      "accessions []\n",
      "adj. nanhaiensis, referring to Nanhai, the South China Sea, the site from where the type strain was isolated)\n",
      "Basonym:\n"
     ]
    },
    {
     "name": "stderr",
     "output_type": "stream",
     "text": [
      "/home/mcveigh/jup/lib/python3.9/site-packages/spacy/displacy/__init__.py:213: UserWarning: [W006] No entities to visualize found in Doc object. If this is surprising to you, make sure the Doc was processed using a model that supports named entity recognition, and check the `doc.ents` property manually if necessary.\n",
      "  warnings.warn(Warnings.W006)\n"
     ]
    },
    {
     "data": {
      "text/html": [
       "<span class=\"tex2jax_ignore\"><div class=\"entities\" style=\"line-height: 2.5; direction: ltr\">adj. nanhaiensis, referring to Nanhai, the South China Sea, the site from where the type strain was isolated)<br>Basonym:</div></span>"
      ],
      "text/plain": [
       "<IPython.core.display.HTML object>"
      ]
     },
     "metadata": {},
     "output_type": "display_data"
    },
    {
     "name": "stdout",
     "output_type": "stream",
     "text": [
      "The type strain is FHC16T (=LMG 27420T=MCCC 1A06648T).\n"
     ]
    },
    {
     "data": {
      "text/html": [
       "<span class=\"tex2jax_ignore\"><div class=\"entities\" style=\"line-height: 2.5; direction: ltr\">The type strain is \n",
       "<mark class=\"entity\" style=\"background: #ddd; padding: 0.45em 0.6em; margin: 0 0.25em; line-height: 1; border-radius: 0.35em;\">\n",
       "    FHC16T\n",
       "    <span style=\"font-size: 0.8em; font-weight: bold; line-height: 1; border-radius: 0.35em; vertical-align: middle; margin-left: 0.5rem\">STRAIN</span>\n",
       "</mark>\n",
       " (=\n",
       "<mark class=\"entity\" style=\"background: #ddd; padding: 0.45em 0.6em; margin: 0 0.25em; line-height: 1; border-radius: 0.35em;\">\n",
       "    LMG 27420T\n",
       "    <span style=\"font-size: 0.8em; font-weight: bold; line-height: 1; border-radius: 0.35em; vertical-align: middle; margin-left: 0.5rem\">STRAIN</span>\n",
       "</mark>\n",
       "=\n",
       "<mark class=\"entity\" style=\"background: #ddd; padding: 0.45em 0.6em; margin: 0 0.25em; line-height: 1; border-radius: 0.35em;\">\n",
       "    MCCC 1A06648T\n",
       "    <span style=\"font-size: 0.8em; font-weight: bold; line-height: 1; border-radius: 0.35em; vertical-align: middle; margin-left: 0.5rem\">STRAIN</span>\n",
       "</mark>\n",
       ").</div></span>"
      ],
      "text/plain": [
       "<IPython.core.display.HTML object>"
      ]
     },
     "metadata": {},
     "output_type": "display_data"
    },
    {
     "name": "stdout",
     "output_type": "stream",
     "text": [
      "strain names ['FHC16T', 'LMG 27420T', 'MCCC 1A06648T']\n",
      "BREAK2\n",
      "Outer div ID: s11-4, Text: Description of Neotamlana laminarinivorans comb. nov.\n",
      "orgname []\n",
      "accessions []\n",
      "The type strain is PT2-4T (=KCTC 92183T=MCCC 1K04427T).\n"
     ]
    },
    {
     "data": {
      "text/html": [
       "<span class=\"tex2jax_ignore\"><div class=\"entities\" style=\"line-height: 2.5; direction: ltr\">The type strain is \n",
       "<mark class=\"entity\" style=\"background: #ddd; padding: 0.45em 0.6em; margin: 0 0.25em; line-height: 1; border-radius: 0.35em;\">\n",
       "    PT2-4T\n",
       "    <span style=\"font-size: 0.8em; font-weight: bold; line-height: 1; border-radius: 0.35em; vertical-align: middle; margin-left: 0.5rem\">STRAIN</span>\n",
       "</mark>\n",
       " (=\n",
       "<mark class=\"entity\" style=\"background: #ddd; padding: 0.45em 0.6em; margin: 0 0.25em; line-height: 1; border-radius: 0.35em;\">\n",
       "    KCTC 92183T\n",
       "    <span style=\"font-size: 0.8em; font-weight: bold; line-height: 1; border-radius: 0.35em; vertical-align: middle; margin-left: 0.5rem\">STRAIN</span>\n",
       "</mark>\n",
       "=\n",
       "<mark class=\"entity\" style=\"background: #ddd; padding: 0.45em 0.6em; margin: 0 0.25em; line-height: 1; border-radius: 0.35em;\">\n",
       "    MCCC 1K04427T\n",
       "    <span style=\"font-size: 0.8em; font-weight: bold; line-height: 1; border-radius: 0.35em; vertical-align: middle; margin-left: 0.5rem\">STRAIN</span>\n",
       "</mark>\n",
       ").</div></span>"
      ],
      "text/plain": [
       "<IPython.core.display.HTML object>"
      ]
     },
     "metadata": {},
     "output_type": "display_data"
    },
    {
     "name": "stdout",
     "output_type": "stream",
     "text": [
      "strain names ['PT2-4T', 'KCTC 92183T', 'MCCC 1K04427T']\n",
      "BREAK2\n",
      "Outer div ID: s11-5, Text: Description of Neotamlana sargassicola comb. nov.\n",
      "orgname []\n",
      "accessions []\n",
      "The type strain is 62-3T (=KCTC 92182T=MCCC 1K04421T).\n"
     ]
    },
    {
     "data": {
      "text/html": [
       "<span class=\"tex2jax_ignore\"><div class=\"entities\" style=\"line-height: 2.5; direction: ltr\">The type strain is \n",
       "<mark class=\"entity\" style=\"background: #ddd; padding: 0.45em 0.6em; margin: 0 0.25em; line-height: 1; border-radius: 0.35em;\">\n",
       "    62-3T\n",
       "    <span style=\"font-size: 0.8em; font-weight: bold; line-height: 1; border-radius: 0.35em; vertical-align: middle; margin-left: 0.5rem\">STRAIN</span>\n",
       "</mark>\n",
       " (=\n",
       "<mark class=\"entity\" style=\"background: #ddd; padding: 0.45em 0.6em; margin: 0 0.25em; line-height: 1; border-radius: 0.35em;\">\n",
       "    KCTC 92182T\n",
       "    <span style=\"font-size: 0.8em; font-weight: bold; line-height: 1; border-radius: 0.35em; vertical-align: middle; margin-left: 0.5rem\">STRAIN</span>\n",
       "</mark>\n",
       "=\n",
       "<mark class=\"entity\" style=\"background: #ddd; padding: 0.45em 0.6em; margin: 0 0.25em; line-height: 1; border-radius: 0.35em;\">\n",
       "    MCCC 1K04421T\n",
       "    <span style=\"font-size: 0.8em; font-weight: bold; line-height: 1; border-radius: 0.35em; vertical-align: middle; margin-left: 0.5rem\">STRAIN</span>\n",
       "</mark>\n",
       ").</div></span>"
      ],
      "text/plain": [
       "<IPython.core.display.HTML object>"
      ]
     },
     "metadata": {},
     "output_type": "display_data"
    },
    {
     "name": "stdout",
     "output_type": "stream",
     "text": [
      "strain names ['62-3T', 'KCTC 92182T', 'MCCC 1K04421T']\n",
      "BREAK2\n",
      "Outer div ID: s11-6, Text: Description of Pseudotamlana agarivorans comb. nov.\n",
      "orgname []\n",
      "accessions []\n",
      "The type strain is JW-26T (=KCTC 22176T=CCUG 55327T).\n"
     ]
    },
    {
     "data": {
      "text/html": [
       "<span class=\"tex2jax_ignore\"><div class=\"entities\" style=\"line-height: 2.5; direction: ltr\">The type strain is \n",
       "<mark class=\"entity\" style=\"background: #ddd; padding: 0.45em 0.6em; margin: 0 0.25em; line-height: 1; border-radius: 0.35em;\">\n",
       "    JW-26T\n",
       "    <span style=\"font-size: 0.8em; font-weight: bold; line-height: 1; border-radius: 0.35em; vertical-align: middle; margin-left: 0.5rem\">STRAIN</span>\n",
       "</mark>\n",
       " (=\n",
       "<mark class=\"entity\" style=\"background: #ddd; padding: 0.45em 0.6em; margin: 0 0.25em; line-height: 1; border-radius: 0.35em;\">\n",
       "    KCTC 22176T\n",
       "    <span style=\"font-size: 0.8em; font-weight: bold; line-height: 1; border-radius: 0.35em; vertical-align: middle; margin-left: 0.5rem\">STRAIN</span>\n",
       "</mark>\n",
       "=\n",
       "<mark class=\"entity\" style=\"background: #ddd; padding: 0.45em 0.6em; margin: 0 0.25em; line-height: 1; border-radius: 0.35em;\">\n",
       "    CCUG 55327T\n",
       "    <span style=\"font-size: 0.8em; font-weight: bold; line-height: 1; border-radius: 0.35em; vertical-align: middle; margin-left: 0.5rem\">STRAIN</span>\n",
       "</mark>\n",
       ").</div></span>"
      ],
      "text/plain": [
       "<IPython.core.display.HTML object>"
      ]
     },
     "metadata": {},
     "output_type": "display_data"
    },
    {
     "name": "stdout",
     "output_type": "stream",
     "text": [
      "strain names ['JW-26T', 'KCTC 22176T', 'CCUG 55327T']\n",
      "BREAK2\n",
      "Outer div ID: s11-7, Text: Description of Pseudotamlana carrageenivorans comb. nov.\n",
      "orgname []\n",
      "accessions []\n",
      "The type strain is UJ94T (=\n"
     ]
    },
    {
     "data": {
      "text/html": [
       "<span class=\"tex2jax_ignore\"><div class=\"entities\" style=\"line-height: 2.5; direction: ltr\">The type strain is \n",
       "<mark class=\"entity\" style=\"background: #ddd; padding: 0.45em 0.6em; margin: 0 0.25em; line-height: 1; border-radius: 0.35em;\">\n",
       "    UJ94T\n",
       "    <span style=\"font-size: 0.8em; font-weight: bold; line-height: 1; border-radius: 0.35em; vertical-align: middle; margin-left: 0.5rem\">STRAIN</span>\n",
       "</mark>\n",
       " (=</div></span>"
      ],
      "text/plain": [
       "<IPython.core.display.HTML object>"
      ]
     },
     "metadata": {},
     "output_type": "display_data"
    },
    {
     "name": "stdout",
     "output_type": "stream",
     "text": [
      "strain names ['UJ94T']\n",
      "BREAK2\n",
      "Outer div ID: s11-8, Text: Description of Pseudotamlana haliotis comb. nov.\n",
      "orgname []\n",
      "accessions []\n",
      "The type strain is B1N29T (=KCTC 72683T=MCCC 1H00394T).\n"
     ]
    },
    {
     "data": {
      "text/html": [
       "<span class=\"tex2jax_ignore\"><div class=\"entities\" style=\"line-height: 2.5; direction: ltr\">The type strain is \n",
       "<mark class=\"entity\" style=\"background: #ddd; padding: 0.45em 0.6em; margin: 0 0.25em; line-height: 1; border-radius: 0.35em;\">\n",
       "    B1N29T\n",
       "    <span style=\"font-size: 0.8em; font-weight: bold; line-height: 1; border-radius: 0.35em; vertical-align: middle; margin-left: 0.5rem\">STRAIN</span>\n",
       "</mark>\n",
       " (=\n",
       "<mark class=\"entity\" style=\"background: #ddd; padding: 0.45em 0.6em; margin: 0 0.25em; line-height: 1; border-radius: 0.35em;\">\n",
       "    KCTC 72683T\n",
       "    <span style=\"font-size: 0.8em; font-weight: bold; line-height: 1; border-radius: 0.35em; vertical-align: middle; margin-left: 0.5rem\">STRAIN</span>\n",
       "</mark>\n",
       "=\n",
       "<mark class=\"entity\" style=\"background: #ddd; padding: 0.45em 0.6em; margin: 0 0.25em; line-height: 1; border-radius: 0.35em;\">\n",
       "    MCCC 1H00394T\n",
       "    <span style=\"font-size: 0.8em; font-weight: bold; line-height: 1; border-radius: 0.35em; vertical-align: middle; margin-left: 0.5rem\">STRAIN</span>\n",
       "</mark>\n",
       ").</div></span>"
      ],
      "text/plain": [
       "<IPython.core.display.HTML object>"
      ]
     },
     "metadata": {},
     "output_type": "display_data"
    },
    {
     "name": "stdout",
     "output_type": "stream",
     "text": [
      "strain names ['B1N29T', 'KCTC 72683T', 'MCCC 1H00394T']\n",
      "BREAK2\n",
      "Outer div ID: s10-1, Text: Description of Allotamlana gen. nov.\n",
      "orgname []\n",
      "accessions []\n",
      "strain names []\n",
      "BREAK2\n",
      "Outer div ID: s10-2, Text: Description of Cognatitamlana gen. nov.\n",
      "orgname []\n",
      "accessions []\n",
      "strain names []\n",
      "BREAK2\n",
      "Outer div ID: s10-3, Text: Description of Neotamlana gen. nov.\n",
      "orgname []\n",
      "accessions []\n",
      "strain names []\n",
      "BREAK2\n",
      "Outer div ID: s10-4, Text: Description of Pseudotamlana gen. nov.\n",
      "orgname []\n",
      "accessions []\n",
      "strain names []\n",
      "BREAK2\n",
      "Outer div ID: s11-1, Text: Description of Allotamlana fucoidanivorans comb. nov.\n",
      "orgname []\n",
      "accessions []\n",
      "The type strain is CW2-9T (=CICC 24749T\n"
     ]
    },
    {
     "data": {
      "text/html": [
       "<span class=\"tex2jax_ignore\"><div class=\"entities\" style=\"line-height: 2.5; direction: ltr\">The type strain is \n",
       "<mark class=\"entity\" style=\"background: #ddd; padding: 0.45em 0.6em; margin: 0 0.25em; line-height: 1; border-radius: 0.35em;\">\n",
       "    CW2-9T\n",
       "    <span style=\"font-size: 0.8em; font-weight: bold; line-height: 1; border-radius: 0.35em; vertical-align: middle; margin-left: 0.5rem\">STRAIN</span>\n",
       "</mark>\n",
       " (=\n",
       "<mark class=\"entity\" style=\"background: #ddd; padding: 0.45em 0.6em; margin: 0 0.25em; line-height: 1; border-radius: 0.35em;\">\n",
       "    CICC 24749T\n",
       "    <span style=\"font-size: 0.8em; font-weight: bold; line-height: 1; border-radius: 0.35em; vertical-align: middle; margin-left: 0.5rem\">STRAIN</span>\n",
       "</mark>\n",
       "</div></span>"
      ],
      "text/plain": [
       "<IPython.core.display.HTML object>"
      ]
     },
     "metadata": {},
     "output_type": "display_data"
    },
    {
     "name": "stdout",
     "output_type": "stream",
     "text": [
      "n. onchidii, of Onchidium pertaining to the marine invertebrate Onchidium species from which the type strain was isolated)\n",
      "Basonym:\n"
     ]
    },
    {
     "name": "stderr",
     "output_type": "stream",
     "text": [
      "/home/mcveigh/jup/lib/python3.9/site-packages/spacy/displacy/__init__.py:213: UserWarning: [W006] No entities to visualize found in Doc object. If this is surprising to you, make sure the Doc was processed using a model that supports named entity recognition, and check the `doc.ents` property manually if necessary.\n",
      "  warnings.warn(Warnings.W006)\n"
     ]
    },
    {
     "data": {
      "text/html": [
       "<span class=\"tex2jax_ignore\"><div class=\"entities\" style=\"line-height: 2.5; direction: ltr\">n. onchidii, of Onchidium pertaining to the marine invertebrate Onchidium species from which the type strain was isolated)<br>Basonym:</div></span>"
      ],
      "text/plain": [
       "<IPython.core.display.HTML object>"
      ]
     },
     "metadata": {},
     "output_type": "display_data"
    },
    {
     "name": "stdout",
     "output_type": "stream",
     "text": [
      "The type strain is XY-114T (=KCTC 72217T=MCCC 1K03606T).\n"
     ]
    },
    {
     "data": {
      "text/html": [
       "<span class=\"tex2jax_ignore\"><div class=\"entities\" style=\"line-height: 2.5; direction: ltr\">The type strain is \n",
       "<mark class=\"entity\" style=\"background: #ddd; padding: 0.45em 0.6em; margin: 0 0.25em; line-height: 1; border-radius: 0.35em;\">\n",
       "    XY-114T\n",
       "    <span style=\"font-size: 0.8em; font-weight: bold; line-height: 1; border-radius: 0.35em; vertical-align: middle; margin-left: 0.5rem\">STRAIN</span>\n",
       "</mark>\n",
       " (=\n",
       "<mark class=\"entity\" style=\"background: #ddd; padding: 0.45em 0.6em; margin: 0 0.25em; line-height: 1; border-radius: 0.35em;\">\n",
       "    KCTC 72217T\n",
       "    <span style=\"font-size: 0.8em; font-weight: bold; line-height: 1; border-radius: 0.35em; vertical-align: middle; margin-left: 0.5rem\">STRAIN</span>\n",
       "</mark>\n",
       "=\n",
       "<mark class=\"entity\" style=\"background: #ddd; padding: 0.45em 0.6em; margin: 0 0.25em; line-height: 1; border-radius: 0.35em;\">\n",
       "    MCCC 1K03606T\n",
       "    <span style=\"font-size: 0.8em; font-weight: bold; line-height: 1; border-radius: 0.35em; vertical-align: middle; margin-left: 0.5rem\">STRAIN</span>\n",
       "</mark>\n",
       ").</div></span>"
      ],
      "text/plain": [
       "<IPython.core.display.HTML object>"
      ]
     },
     "metadata": {},
     "output_type": "display_data"
    },
    {
     "name": "stdout",
     "output_type": "stream",
     "text": [
      "strain names ['CW2-9T', 'CICC 24749T', 'XY-114T', 'KCTC 72217T', 'MCCC 1K03606T']\n",
      "BREAK2\n",
      "Outer div ID: s11-2, Text: Description of Neotamlana sedimentorum comb. nov.\n",
      "orgname []\n",
      "accessions []\n",
      "The type strain is KMM 9545T (=\n"
     ]
    },
    {
     "data": {
      "text/html": [
       "<span class=\"tex2jax_ignore\"><div class=\"entities\" style=\"line-height: 2.5; direction: ltr\">The type strain is \n",
       "<mark class=\"entity\" style=\"background: #ddd; padding: 0.45em 0.6em; margin: 0 0.25em; line-height: 1; border-radius: 0.35em;\">\n",
       "    KMM 9545T\n",
       "    <span style=\"font-size: 0.8em; font-weight: bold; line-height: 1; border-radius: 0.35em; vertical-align: middle; margin-left: 0.5rem\">STRAIN</span>\n",
       "</mark>\n",
       " (=</div></span>"
      ],
      "text/plain": [
       "<IPython.core.display.HTML object>"
      ]
     },
     "metadata": {},
     "output_type": "display_data"
    },
    {
     "name": "stdout",
     "output_type": "stream",
     "text": [
      "strain names ['KMM 9545T']\n",
      "BREAK2\n",
      "Outer div ID: s11-3, Text: Description of Neotamlana nanhaiensis comb. nov.\n",
      "orgname []\n",
      "accessions []\n",
      "adj. nanhaiensis, referring to Nanhai, the South China Sea, the site from where the type strain was isolated)\n",
      "Basonym:\n"
     ]
    },
    {
     "name": "stderr",
     "output_type": "stream",
     "text": [
      "/home/mcveigh/jup/lib/python3.9/site-packages/spacy/displacy/__init__.py:213: UserWarning: [W006] No entities to visualize found in Doc object. If this is surprising to you, make sure the Doc was processed using a model that supports named entity recognition, and check the `doc.ents` property manually if necessary.\n",
      "  warnings.warn(Warnings.W006)\n"
     ]
    },
    {
     "data": {
      "text/html": [
       "<span class=\"tex2jax_ignore\"><div class=\"entities\" style=\"line-height: 2.5; direction: ltr\">adj. nanhaiensis, referring to Nanhai, the South China Sea, the site from where the type strain was isolated)<br>Basonym:</div></span>"
      ],
      "text/plain": [
       "<IPython.core.display.HTML object>"
      ]
     },
     "metadata": {},
     "output_type": "display_data"
    },
    {
     "name": "stdout",
     "output_type": "stream",
     "text": [
      "The type strain is FHC16T (=LMG 27420T=MCCC 1A06648T).\n"
     ]
    },
    {
     "data": {
      "text/html": [
       "<span class=\"tex2jax_ignore\"><div class=\"entities\" style=\"line-height: 2.5; direction: ltr\">The type strain is \n",
       "<mark class=\"entity\" style=\"background: #ddd; padding: 0.45em 0.6em; margin: 0 0.25em; line-height: 1; border-radius: 0.35em;\">\n",
       "    FHC16T\n",
       "    <span style=\"font-size: 0.8em; font-weight: bold; line-height: 1; border-radius: 0.35em; vertical-align: middle; margin-left: 0.5rem\">STRAIN</span>\n",
       "</mark>\n",
       " (=\n",
       "<mark class=\"entity\" style=\"background: #ddd; padding: 0.45em 0.6em; margin: 0 0.25em; line-height: 1; border-radius: 0.35em;\">\n",
       "    LMG 27420T\n",
       "    <span style=\"font-size: 0.8em; font-weight: bold; line-height: 1; border-radius: 0.35em; vertical-align: middle; margin-left: 0.5rem\">STRAIN</span>\n",
       "</mark>\n",
       "=\n",
       "<mark class=\"entity\" style=\"background: #ddd; padding: 0.45em 0.6em; margin: 0 0.25em; line-height: 1; border-radius: 0.35em;\">\n",
       "    MCCC 1A06648T\n",
       "    <span style=\"font-size: 0.8em; font-weight: bold; line-height: 1; border-radius: 0.35em; vertical-align: middle; margin-left: 0.5rem\">STRAIN</span>\n",
       "</mark>\n",
       ").</div></span>"
      ],
      "text/plain": [
       "<IPython.core.display.HTML object>"
      ]
     },
     "metadata": {},
     "output_type": "display_data"
    },
    {
     "name": "stdout",
     "output_type": "stream",
     "text": [
      "strain names ['FHC16T', 'LMG 27420T', 'MCCC 1A06648T']\n",
      "BREAK2\n",
      "Outer div ID: s11-4, Text: Description of Neotamlana laminarinivorans comb. nov.\n",
      "orgname []\n",
      "accessions []\n",
      "The type strain is PT2-4T (=KCTC 92183T=MCCC 1K04427T).\n"
     ]
    },
    {
     "data": {
      "text/html": [
       "<span class=\"tex2jax_ignore\"><div class=\"entities\" style=\"line-height: 2.5; direction: ltr\">The type strain is \n",
       "<mark class=\"entity\" style=\"background: #ddd; padding: 0.45em 0.6em; margin: 0 0.25em; line-height: 1; border-radius: 0.35em;\">\n",
       "    PT2-4T\n",
       "    <span style=\"font-size: 0.8em; font-weight: bold; line-height: 1; border-radius: 0.35em; vertical-align: middle; margin-left: 0.5rem\">STRAIN</span>\n",
       "</mark>\n",
       " (=\n",
       "<mark class=\"entity\" style=\"background: #ddd; padding: 0.45em 0.6em; margin: 0 0.25em; line-height: 1; border-radius: 0.35em;\">\n",
       "    KCTC 92183T\n",
       "    <span style=\"font-size: 0.8em; font-weight: bold; line-height: 1; border-radius: 0.35em; vertical-align: middle; margin-left: 0.5rem\">STRAIN</span>\n",
       "</mark>\n",
       "=\n",
       "<mark class=\"entity\" style=\"background: #ddd; padding: 0.45em 0.6em; margin: 0 0.25em; line-height: 1; border-radius: 0.35em;\">\n",
       "    MCCC 1K04427T\n",
       "    <span style=\"font-size: 0.8em; font-weight: bold; line-height: 1; border-radius: 0.35em; vertical-align: middle; margin-left: 0.5rem\">STRAIN</span>\n",
       "</mark>\n",
       ").</div></span>"
      ],
      "text/plain": [
       "<IPython.core.display.HTML object>"
      ]
     },
     "metadata": {},
     "output_type": "display_data"
    },
    {
     "name": "stdout",
     "output_type": "stream",
     "text": [
      "strain names ['PT2-4T', 'KCTC 92183T', 'MCCC 1K04427T']\n",
      "BREAK2\n",
      "Outer div ID: s11-5, Text: Description of Neotamlana sargassicola comb. nov.\n",
      "orgname []\n",
      "accessions []\n",
      "The type strain is 62-3T (=KCTC 92182T=MCCC 1K04421T).\n"
     ]
    },
    {
     "data": {
      "text/html": [
       "<span class=\"tex2jax_ignore\"><div class=\"entities\" style=\"line-height: 2.5; direction: ltr\">The type strain is \n",
       "<mark class=\"entity\" style=\"background: #ddd; padding: 0.45em 0.6em; margin: 0 0.25em; line-height: 1; border-radius: 0.35em;\">\n",
       "    62-3T\n",
       "    <span style=\"font-size: 0.8em; font-weight: bold; line-height: 1; border-radius: 0.35em; vertical-align: middle; margin-left: 0.5rem\">STRAIN</span>\n",
       "</mark>\n",
       " (=\n",
       "<mark class=\"entity\" style=\"background: #ddd; padding: 0.45em 0.6em; margin: 0 0.25em; line-height: 1; border-radius: 0.35em;\">\n",
       "    KCTC 92182T\n",
       "    <span style=\"font-size: 0.8em; font-weight: bold; line-height: 1; border-radius: 0.35em; vertical-align: middle; margin-left: 0.5rem\">STRAIN</span>\n",
       "</mark>\n",
       "=\n",
       "<mark class=\"entity\" style=\"background: #ddd; padding: 0.45em 0.6em; margin: 0 0.25em; line-height: 1; border-radius: 0.35em;\">\n",
       "    MCCC 1K04421T\n",
       "    <span style=\"font-size: 0.8em; font-weight: bold; line-height: 1; border-radius: 0.35em; vertical-align: middle; margin-left: 0.5rem\">STRAIN</span>\n",
       "</mark>\n",
       ").</div></span>"
      ],
      "text/plain": [
       "<IPython.core.display.HTML object>"
      ]
     },
     "metadata": {},
     "output_type": "display_data"
    },
    {
     "name": "stdout",
     "output_type": "stream",
     "text": [
      "strain names ['62-3T', 'KCTC 92182T', 'MCCC 1K04421T']\n",
      "BREAK2\n",
      "Outer div ID: s11-6, Text: Description of Pseudotamlana agarivorans comb. nov.\n",
      "orgname []\n",
      "accessions []\n",
      "The type strain is JW-26T (=KCTC 22176T=CCUG 55327T).\n"
     ]
    },
    {
     "data": {
      "text/html": [
       "<span class=\"tex2jax_ignore\"><div class=\"entities\" style=\"line-height: 2.5; direction: ltr\">The type strain is \n",
       "<mark class=\"entity\" style=\"background: #ddd; padding: 0.45em 0.6em; margin: 0 0.25em; line-height: 1; border-radius: 0.35em;\">\n",
       "    JW-26T\n",
       "    <span style=\"font-size: 0.8em; font-weight: bold; line-height: 1; border-radius: 0.35em; vertical-align: middle; margin-left: 0.5rem\">STRAIN</span>\n",
       "</mark>\n",
       " (=\n",
       "<mark class=\"entity\" style=\"background: #ddd; padding: 0.45em 0.6em; margin: 0 0.25em; line-height: 1; border-radius: 0.35em;\">\n",
       "    KCTC 22176T\n",
       "    <span style=\"font-size: 0.8em; font-weight: bold; line-height: 1; border-radius: 0.35em; vertical-align: middle; margin-left: 0.5rem\">STRAIN</span>\n",
       "</mark>\n",
       "=\n",
       "<mark class=\"entity\" style=\"background: #ddd; padding: 0.45em 0.6em; margin: 0 0.25em; line-height: 1; border-radius: 0.35em;\">\n",
       "    CCUG 55327T\n",
       "    <span style=\"font-size: 0.8em; font-weight: bold; line-height: 1; border-radius: 0.35em; vertical-align: middle; margin-left: 0.5rem\">STRAIN</span>\n",
       "</mark>\n",
       ").</div></span>"
      ],
      "text/plain": [
       "<IPython.core.display.HTML object>"
      ]
     },
     "metadata": {},
     "output_type": "display_data"
    },
    {
     "name": "stdout",
     "output_type": "stream",
     "text": [
      "strain names ['JW-26T', 'KCTC 22176T', 'CCUG 55327T']\n",
      "BREAK2\n",
      "Outer div ID: s11-7, Text: Description of Pseudotamlana carrageenivorans comb. nov.\n",
      "orgname []\n",
      "accessions []\n",
      "The type strain is UJ94T (=\n"
     ]
    },
    {
     "data": {
      "text/html": [
       "<span class=\"tex2jax_ignore\"><div class=\"entities\" style=\"line-height: 2.5; direction: ltr\">The type strain is \n",
       "<mark class=\"entity\" style=\"background: #ddd; padding: 0.45em 0.6em; margin: 0 0.25em; line-height: 1; border-radius: 0.35em;\">\n",
       "    UJ94T\n",
       "    <span style=\"font-size: 0.8em; font-weight: bold; line-height: 1; border-radius: 0.35em; vertical-align: middle; margin-left: 0.5rem\">STRAIN</span>\n",
       "</mark>\n",
       " (=</div></span>"
      ],
      "text/plain": [
       "<IPython.core.display.HTML object>"
      ]
     },
     "metadata": {},
     "output_type": "display_data"
    },
    {
     "name": "stdout",
     "output_type": "stream",
     "text": [
      "strain names ['UJ94T']\n",
      "BREAK2\n",
      "Outer div ID: s11-8, Text: Description of Pseudotamlana haliotis comb. nov.\n",
      "orgname []\n",
      "accessions []\n",
      "The type strain is B1N29T (=KCTC 72683T=MCCC 1H00394T).\n"
     ]
    },
    {
     "data": {
      "text/html": [
       "<span class=\"tex2jax_ignore\"><div class=\"entities\" style=\"line-height: 2.5; direction: ltr\">The type strain is \n",
       "<mark class=\"entity\" style=\"background: #ddd; padding: 0.45em 0.6em; margin: 0 0.25em; line-height: 1; border-radius: 0.35em;\">\n",
       "    B1N29T\n",
       "    <span style=\"font-size: 0.8em; font-weight: bold; line-height: 1; border-radius: 0.35em; vertical-align: middle; margin-left: 0.5rem\">STRAIN</span>\n",
       "</mark>\n",
       " (=\n",
       "<mark class=\"entity\" style=\"background: #ddd; padding: 0.45em 0.6em; margin: 0 0.25em; line-height: 1; border-radius: 0.35em;\">\n",
       "    KCTC 72683T\n",
       "    <span style=\"font-size: 0.8em; font-weight: bold; line-height: 1; border-radius: 0.35em; vertical-align: middle; margin-left: 0.5rem\">STRAIN</span>\n",
       "</mark>\n",
       "=\n",
       "<mark class=\"entity\" style=\"background: #ddd; padding: 0.45em 0.6em; margin: 0 0.25em; line-height: 1; border-radius: 0.35em;\">\n",
       "    MCCC 1H00394T\n",
       "    <span style=\"font-size: 0.8em; font-weight: bold; line-height: 1; border-radius: 0.35em; vertical-align: middle; margin-left: 0.5rem\">STRAIN</span>\n",
       "</mark>\n",
       ").</div></span>"
      ],
      "text/plain": [
       "<IPython.core.display.HTML object>"
      ]
     },
     "metadata": {},
     "output_type": "display_data"
    },
    {
     "name": "stdout",
     "output_type": "stream",
     "text": [
      "strain names ['B1N29T', 'KCTC 72683T', 'MCCC 1H00394T']\n",
      "BREAK2\n",
      "Outer div ID: s10-1, Text: Description of Allotamlana gen. nov.\n",
      "orgname []\n",
      "accessions []\n",
      "strain names []\n",
      "BREAK2\n",
      "Outer div ID: s10-2, Text: Description of Cognatitamlana gen. nov.\n",
      "orgname []\n",
      "accessions []\n",
      "strain names []\n",
      "BREAK2\n",
      "Outer div ID: s10-3, Text: Description of Neotamlana gen. nov.\n",
      "orgname []\n",
      "accessions []\n",
      "strain names []\n",
      "BREAK2\n",
      "Outer div ID: s10-4, Text: Description of Pseudotamlana gen. nov.\n",
      "orgname []\n",
      "accessions []\n",
      "strain names []\n",
      "BREAK2\n",
      "Outer div ID: s11-1, Text: Description of Allotamlana fucoidanivorans comb. nov.\n",
      "orgname []\n",
      "accessions []\n",
      "The type strain is CW2-9T (=CICC 24749T\n"
     ]
    },
    {
     "data": {
      "text/html": [
       "<span class=\"tex2jax_ignore\"><div class=\"entities\" style=\"line-height: 2.5; direction: ltr\">The type strain is \n",
       "<mark class=\"entity\" style=\"background: #ddd; padding: 0.45em 0.6em; margin: 0 0.25em; line-height: 1; border-radius: 0.35em;\">\n",
       "    CW2-9T\n",
       "    <span style=\"font-size: 0.8em; font-weight: bold; line-height: 1; border-radius: 0.35em; vertical-align: middle; margin-left: 0.5rem\">STRAIN</span>\n",
       "</mark>\n",
       " (=\n",
       "<mark class=\"entity\" style=\"background: #ddd; padding: 0.45em 0.6em; margin: 0 0.25em; line-height: 1; border-radius: 0.35em;\">\n",
       "    CICC 24749T\n",
       "    <span style=\"font-size: 0.8em; font-weight: bold; line-height: 1; border-radius: 0.35em; vertical-align: middle; margin-left: 0.5rem\">STRAIN</span>\n",
       "</mark>\n",
       "</div></span>"
      ],
      "text/plain": [
       "<IPython.core.display.HTML object>"
      ]
     },
     "metadata": {},
     "output_type": "display_data"
    },
    {
     "name": "stdout",
     "output_type": "stream",
     "text": [
      "n. onchidii, of Onchidium pertaining to the marine invertebrate Onchidium species from which the type strain was isolated)\n",
      "Basonym:\n"
     ]
    },
    {
     "name": "stderr",
     "output_type": "stream",
     "text": [
      "/home/mcveigh/jup/lib/python3.9/site-packages/spacy/displacy/__init__.py:213: UserWarning: [W006] No entities to visualize found in Doc object. If this is surprising to you, make sure the Doc was processed using a model that supports named entity recognition, and check the `doc.ents` property manually if necessary.\n",
      "  warnings.warn(Warnings.W006)\n"
     ]
    },
    {
     "data": {
      "text/html": [
       "<span class=\"tex2jax_ignore\"><div class=\"entities\" style=\"line-height: 2.5; direction: ltr\">n. onchidii, of Onchidium pertaining to the marine invertebrate Onchidium species from which the type strain was isolated)<br>Basonym:</div></span>"
      ],
      "text/plain": [
       "<IPython.core.display.HTML object>"
      ]
     },
     "metadata": {},
     "output_type": "display_data"
    },
    {
     "name": "stdout",
     "output_type": "stream",
     "text": [
      "The type strain is XY-114T (=KCTC 72217T=MCCC 1K03606T).\n"
     ]
    },
    {
     "data": {
      "text/html": [
       "<span class=\"tex2jax_ignore\"><div class=\"entities\" style=\"line-height: 2.5; direction: ltr\">The type strain is \n",
       "<mark class=\"entity\" style=\"background: #ddd; padding: 0.45em 0.6em; margin: 0 0.25em; line-height: 1; border-radius: 0.35em;\">\n",
       "    XY-114T\n",
       "    <span style=\"font-size: 0.8em; font-weight: bold; line-height: 1; border-radius: 0.35em; vertical-align: middle; margin-left: 0.5rem\">STRAIN</span>\n",
       "</mark>\n",
       " (=\n",
       "<mark class=\"entity\" style=\"background: #ddd; padding: 0.45em 0.6em; margin: 0 0.25em; line-height: 1; border-radius: 0.35em;\">\n",
       "    KCTC 72217T\n",
       "    <span style=\"font-size: 0.8em; font-weight: bold; line-height: 1; border-radius: 0.35em; vertical-align: middle; margin-left: 0.5rem\">STRAIN</span>\n",
       "</mark>\n",
       "=\n",
       "<mark class=\"entity\" style=\"background: #ddd; padding: 0.45em 0.6em; margin: 0 0.25em; line-height: 1; border-radius: 0.35em;\">\n",
       "    MCCC 1K03606T\n",
       "    <span style=\"font-size: 0.8em; font-weight: bold; line-height: 1; border-radius: 0.35em; vertical-align: middle; margin-left: 0.5rem\">STRAIN</span>\n",
       "</mark>\n",
       ").</div></span>"
      ],
      "text/plain": [
       "<IPython.core.display.HTML object>"
      ]
     },
     "metadata": {},
     "output_type": "display_data"
    },
    {
     "name": "stdout",
     "output_type": "stream",
     "text": [
      "strain names ['CW2-9T', 'CICC 24749T', 'XY-114T', 'KCTC 72217T', 'MCCC 1K03606T']\n",
      "BREAK2\n",
      "Outer div ID: s11-2, Text: Description of Neotamlana sedimentorum comb. nov.\n",
      "orgname []\n",
      "accessions []\n",
      "The type strain is KMM 9545T (=\n"
     ]
    },
    {
     "data": {
      "text/html": [
       "<span class=\"tex2jax_ignore\"><div class=\"entities\" style=\"line-height: 2.5; direction: ltr\">The type strain is \n",
       "<mark class=\"entity\" style=\"background: #ddd; padding: 0.45em 0.6em; margin: 0 0.25em; line-height: 1; border-radius: 0.35em;\">\n",
       "    KMM 9545T\n",
       "    <span style=\"font-size: 0.8em; font-weight: bold; line-height: 1; border-radius: 0.35em; vertical-align: middle; margin-left: 0.5rem\">STRAIN</span>\n",
       "</mark>\n",
       " (=</div></span>"
      ],
      "text/plain": [
       "<IPython.core.display.HTML object>"
      ]
     },
     "metadata": {},
     "output_type": "display_data"
    },
    {
     "name": "stdout",
     "output_type": "stream",
     "text": [
      "strain names ['KMM 9545T']\n",
      "BREAK2\n",
      "Outer div ID: s11-3, Text: Description of Neotamlana nanhaiensis comb. nov.\n",
      "orgname []\n",
      "accessions []\n",
      "adj. nanhaiensis, referring to Nanhai, the South China Sea, the site from where the type strain was isolated)\n",
      "Basonym:\n"
     ]
    },
    {
     "name": "stderr",
     "output_type": "stream",
     "text": [
      "/home/mcveigh/jup/lib/python3.9/site-packages/spacy/displacy/__init__.py:213: UserWarning: [W006] No entities to visualize found in Doc object. If this is surprising to you, make sure the Doc was processed using a model that supports named entity recognition, and check the `doc.ents` property manually if necessary.\n",
      "  warnings.warn(Warnings.W006)\n"
     ]
    },
    {
     "data": {
      "text/html": [
       "<span class=\"tex2jax_ignore\"><div class=\"entities\" style=\"line-height: 2.5; direction: ltr\">adj. nanhaiensis, referring to Nanhai, the South China Sea, the site from where the type strain was isolated)<br>Basonym:</div></span>"
      ],
      "text/plain": [
       "<IPython.core.display.HTML object>"
      ]
     },
     "metadata": {},
     "output_type": "display_data"
    },
    {
     "name": "stdout",
     "output_type": "stream",
     "text": [
      "The type strain is FHC16T (=LMG 27420T=MCCC 1A06648T).\n"
     ]
    },
    {
     "data": {
      "text/html": [
       "<span class=\"tex2jax_ignore\"><div class=\"entities\" style=\"line-height: 2.5; direction: ltr\">The type strain is \n",
       "<mark class=\"entity\" style=\"background: #ddd; padding: 0.45em 0.6em; margin: 0 0.25em; line-height: 1; border-radius: 0.35em;\">\n",
       "    FHC16T\n",
       "    <span style=\"font-size: 0.8em; font-weight: bold; line-height: 1; border-radius: 0.35em; vertical-align: middle; margin-left: 0.5rem\">STRAIN</span>\n",
       "</mark>\n",
       " (=\n",
       "<mark class=\"entity\" style=\"background: #ddd; padding: 0.45em 0.6em; margin: 0 0.25em; line-height: 1; border-radius: 0.35em;\">\n",
       "    LMG 27420T\n",
       "    <span style=\"font-size: 0.8em; font-weight: bold; line-height: 1; border-radius: 0.35em; vertical-align: middle; margin-left: 0.5rem\">STRAIN</span>\n",
       "</mark>\n",
       "=\n",
       "<mark class=\"entity\" style=\"background: #ddd; padding: 0.45em 0.6em; margin: 0 0.25em; line-height: 1; border-radius: 0.35em;\">\n",
       "    MCCC 1A06648T\n",
       "    <span style=\"font-size: 0.8em; font-weight: bold; line-height: 1; border-radius: 0.35em; vertical-align: middle; margin-left: 0.5rem\">STRAIN</span>\n",
       "</mark>\n",
       ").</div></span>"
      ],
      "text/plain": [
       "<IPython.core.display.HTML object>"
      ]
     },
     "metadata": {},
     "output_type": "display_data"
    },
    {
     "name": "stdout",
     "output_type": "stream",
     "text": [
      "strain names ['FHC16T', 'LMG 27420T', 'MCCC 1A06648T']\n",
      "BREAK2\n",
      "Outer div ID: s11-4, Text: Description of Neotamlana laminarinivorans comb. nov.\n",
      "orgname []\n",
      "accessions []\n",
      "The type strain is PT2-4T (=KCTC 92183T=MCCC 1K04427T).\n"
     ]
    },
    {
     "data": {
      "text/html": [
       "<span class=\"tex2jax_ignore\"><div class=\"entities\" style=\"line-height: 2.5; direction: ltr\">The type strain is \n",
       "<mark class=\"entity\" style=\"background: #ddd; padding: 0.45em 0.6em; margin: 0 0.25em; line-height: 1; border-radius: 0.35em;\">\n",
       "    PT2-4T\n",
       "    <span style=\"font-size: 0.8em; font-weight: bold; line-height: 1; border-radius: 0.35em; vertical-align: middle; margin-left: 0.5rem\">STRAIN</span>\n",
       "</mark>\n",
       " (=\n",
       "<mark class=\"entity\" style=\"background: #ddd; padding: 0.45em 0.6em; margin: 0 0.25em; line-height: 1; border-radius: 0.35em;\">\n",
       "    KCTC 92183T\n",
       "    <span style=\"font-size: 0.8em; font-weight: bold; line-height: 1; border-radius: 0.35em; vertical-align: middle; margin-left: 0.5rem\">STRAIN</span>\n",
       "</mark>\n",
       "=\n",
       "<mark class=\"entity\" style=\"background: #ddd; padding: 0.45em 0.6em; margin: 0 0.25em; line-height: 1; border-radius: 0.35em;\">\n",
       "    MCCC 1K04427T\n",
       "    <span style=\"font-size: 0.8em; font-weight: bold; line-height: 1; border-radius: 0.35em; vertical-align: middle; margin-left: 0.5rem\">STRAIN</span>\n",
       "</mark>\n",
       ").</div></span>"
      ],
      "text/plain": [
       "<IPython.core.display.HTML object>"
      ]
     },
     "metadata": {},
     "output_type": "display_data"
    },
    {
     "name": "stdout",
     "output_type": "stream",
     "text": [
      "strain names ['PT2-4T', 'KCTC 92183T', 'MCCC 1K04427T']\n",
      "BREAK2\n",
      "Outer div ID: s11-5, Text: Description of Neotamlana sargassicola comb. nov.\n",
      "orgname []\n",
      "accessions []\n",
      "The type strain is 62-3T (=KCTC 92182T=MCCC 1K04421T).\n"
     ]
    },
    {
     "data": {
      "text/html": [
       "<span class=\"tex2jax_ignore\"><div class=\"entities\" style=\"line-height: 2.5; direction: ltr\">The type strain is \n",
       "<mark class=\"entity\" style=\"background: #ddd; padding: 0.45em 0.6em; margin: 0 0.25em; line-height: 1; border-radius: 0.35em;\">\n",
       "    62-3T\n",
       "    <span style=\"font-size: 0.8em; font-weight: bold; line-height: 1; border-radius: 0.35em; vertical-align: middle; margin-left: 0.5rem\">STRAIN</span>\n",
       "</mark>\n",
       " (=\n",
       "<mark class=\"entity\" style=\"background: #ddd; padding: 0.45em 0.6em; margin: 0 0.25em; line-height: 1; border-radius: 0.35em;\">\n",
       "    KCTC 92182T\n",
       "    <span style=\"font-size: 0.8em; font-weight: bold; line-height: 1; border-radius: 0.35em; vertical-align: middle; margin-left: 0.5rem\">STRAIN</span>\n",
       "</mark>\n",
       "=\n",
       "<mark class=\"entity\" style=\"background: #ddd; padding: 0.45em 0.6em; margin: 0 0.25em; line-height: 1; border-radius: 0.35em;\">\n",
       "    MCCC 1K04421T\n",
       "    <span style=\"font-size: 0.8em; font-weight: bold; line-height: 1; border-radius: 0.35em; vertical-align: middle; margin-left: 0.5rem\">STRAIN</span>\n",
       "</mark>\n",
       ").</div></span>"
      ],
      "text/plain": [
       "<IPython.core.display.HTML object>"
      ]
     },
     "metadata": {},
     "output_type": "display_data"
    },
    {
     "name": "stdout",
     "output_type": "stream",
     "text": [
      "strain names ['62-3T', 'KCTC 92182T', 'MCCC 1K04421T']\n",
      "BREAK2\n",
      "Outer div ID: s11-6, Text: Description of Pseudotamlana agarivorans comb. nov.\n",
      "orgname []\n",
      "accessions []\n",
      "The type strain is JW-26T (=KCTC 22176T=CCUG 55327T).\n"
     ]
    },
    {
     "data": {
      "text/html": [
       "<span class=\"tex2jax_ignore\"><div class=\"entities\" style=\"line-height: 2.5; direction: ltr\">The type strain is \n",
       "<mark class=\"entity\" style=\"background: #ddd; padding: 0.45em 0.6em; margin: 0 0.25em; line-height: 1; border-radius: 0.35em;\">\n",
       "    JW-26T\n",
       "    <span style=\"font-size: 0.8em; font-weight: bold; line-height: 1; border-radius: 0.35em; vertical-align: middle; margin-left: 0.5rem\">STRAIN</span>\n",
       "</mark>\n",
       " (=\n",
       "<mark class=\"entity\" style=\"background: #ddd; padding: 0.45em 0.6em; margin: 0 0.25em; line-height: 1; border-radius: 0.35em;\">\n",
       "    KCTC 22176T\n",
       "    <span style=\"font-size: 0.8em; font-weight: bold; line-height: 1; border-radius: 0.35em; vertical-align: middle; margin-left: 0.5rem\">STRAIN</span>\n",
       "</mark>\n",
       "=\n",
       "<mark class=\"entity\" style=\"background: #ddd; padding: 0.45em 0.6em; margin: 0 0.25em; line-height: 1; border-radius: 0.35em;\">\n",
       "    CCUG 55327T\n",
       "    <span style=\"font-size: 0.8em; font-weight: bold; line-height: 1; border-radius: 0.35em; vertical-align: middle; margin-left: 0.5rem\">STRAIN</span>\n",
       "</mark>\n",
       ").</div></span>"
      ],
      "text/plain": [
       "<IPython.core.display.HTML object>"
      ]
     },
     "metadata": {},
     "output_type": "display_data"
    },
    {
     "name": "stdout",
     "output_type": "stream",
     "text": [
      "strain names ['JW-26T', 'KCTC 22176T', 'CCUG 55327T']\n",
      "BREAK2\n",
      "Outer div ID: s11-7, Text: Description of Pseudotamlana carrageenivorans comb. nov.\n",
      "orgname []\n",
      "accessions []\n",
      "The type strain is UJ94T (=\n"
     ]
    },
    {
     "data": {
      "text/html": [
       "<span class=\"tex2jax_ignore\"><div class=\"entities\" style=\"line-height: 2.5; direction: ltr\">The type strain is \n",
       "<mark class=\"entity\" style=\"background: #ddd; padding: 0.45em 0.6em; margin: 0 0.25em; line-height: 1; border-radius: 0.35em;\">\n",
       "    UJ94T\n",
       "    <span style=\"font-size: 0.8em; font-weight: bold; line-height: 1; border-radius: 0.35em; vertical-align: middle; margin-left: 0.5rem\">STRAIN</span>\n",
       "</mark>\n",
       " (=</div></span>"
      ],
      "text/plain": [
       "<IPython.core.display.HTML object>"
      ]
     },
     "metadata": {},
     "output_type": "display_data"
    },
    {
     "name": "stdout",
     "output_type": "stream",
     "text": [
      "strain names ['UJ94T']\n",
      "BREAK2\n",
      "Outer div ID: s11-8, Text: Description of Pseudotamlana haliotis comb. nov.\n",
      "orgname []\n",
      "accessions []\n",
      "The type strain is B1N29T (=KCTC 72683T=MCCC 1H00394T).\n"
     ]
    },
    {
     "data": {
      "text/html": [
       "<span class=\"tex2jax_ignore\"><div class=\"entities\" style=\"line-height: 2.5; direction: ltr\">The type strain is \n",
       "<mark class=\"entity\" style=\"background: #ddd; padding: 0.45em 0.6em; margin: 0 0.25em; line-height: 1; border-radius: 0.35em;\">\n",
       "    B1N29T\n",
       "    <span style=\"font-size: 0.8em; font-weight: bold; line-height: 1; border-radius: 0.35em; vertical-align: middle; margin-left: 0.5rem\">STRAIN</span>\n",
       "</mark>\n",
       " (=\n",
       "<mark class=\"entity\" style=\"background: #ddd; padding: 0.45em 0.6em; margin: 0 0.25em; line-height: 1; border-radius: 0.35em;\">\n",
       "    KCTC 72683T\n",
       "    <span style=\"font-size: 0.8em; font-weight: bold; line-height: 1; border-radius: 0.35em; vertical-align: middle; margin-left: 0.5rem\">STRAIN</span>\n",
       "</mark>\n",
       "=\n",
       "<mark class=\"entity\" style=\"background: #ddd; padding: 0.45em 0.6em; margin: 0 0.25em; line-height: 1; border-radius: 0.35em;\">\n",
       "    MCCC 1H00394T\n",
       "    <span style=\"font-size: 0.8em; font-weight: bold; line-height: 1; border-radius: 0.35em; vertical-align: middle; margin-left: 0.5rem\">STRAIN</span>\n",
       "</mark>\n",
       ").</div></span>"
      ],
      "text/plain": [
       "<IPython.core.display.HTML object>"
      ]
     },
     "metadata": {},
     "output_type": "display_data"
    },
    {
     "name": "stdout",
     "output_type": "stream",
     "text": [
      "strain names ['B1N29T', 'KCTC 72683T', 'MCCC 1H00394T']\n",
      "BREAK2\n",
      "Outer div ID: s10-1, Text: Description of Allotamlana gen. nov.\n",
      "orgname []\n",
      "accessions []\n",
      "strain names []\n",
      "BREAK2\n",
      "Outer div ID: s10-2, Text: Description of Cognatitamlana gen. nov.\n",
      "orgname []\n",
      "accessions []\n",
      "strain names []\n",
      "BREAK2\n",
      "Outer div ID: s10-3, Text: Description of Neotamlana gen. nov.\n",
      "orgname []\n",
      "accessions []\n",
      "strain names []\n",
      "BREAK2\n",
      "Outer div ID: s10-4, Text: Description of Pseudotamlana gen. nov.\n",
      "orgname []\n",
      "accessions []\n",
      "strain names []\n",
      "BREAK2\n",
      "Outer div ID: s11-1, Text: Description of Allotamlana fucoidanivorans comb. nov.\n",
      "orgname []\n",
      "accessions []\n",
      "The type strain is CW2-9T (=CICC 24749T\n"
     ]
    },
    {
     "data": {
      "text/html": [
       "<span class=\"tex2jax_ignore\"><div class=\"entities\" style=\"line-height: 2.5; direction: ltr\">The type strain is \n",
       "<mark class=\"entity\" style=\"background: #ddd; padding: 0.45em 0.6em; margin: 0 0.25em; line-height: 1; border-radius: 0.35em;\">\n",
       "    CW2-9T\n",
       "    <span style=\"font-size: 0.8em; font-weight: bold; line-height: 1; border-radius: 0.35em; vertical-align: middle; margin-left: 0.5rem\">STRAIN</span>\n",
       "</mark>\n",
       " (=\n",
       "<mark class=\"entity\" style=\"background: #ddd; padding: 0.45em 0.6em; margin: 0 0.25em; line-height: 1; border-radius: 0.35em;\">\n",
       "    CICC 24749T\n",
       "    <span style=\"font-size: 0.8em; font-weight: bold; line-height: 1; border-radius: 0.35em; vertical-align: middle; margin-left: 0.5rem\">STRAIN</span>\n",
       "</mark>\n",
       "</div></span>"
      ],
      "text/plain": [
       "<IPython.core.display.HTML object>"
      ]
     },
     "metadata": {},
     "output_type": "display_data"
    },
    {
     "name": "stdout",
     "output_type": "stream",
     "text": [
      "n. onchidii, of Onchidium pertaining to the marine invertebrate Onchidium species from which the type strain was isolated)\n",
      "Basonym:\n"
     ]
    },
    {
     "name": "stderr",
     "output_type": "stream",
     "text": [
      "/home/mcveigh/jup/lib/python3.9/site-packages/spacy/displacy/__init__.py:213: UserWarning: [W006] No entities to visualize found in Doc object. If this is surprising to you, make sure the Doc was processed using a model that supports named entity recognition, and check the `doc.ents` property manually if necessary.\n",
      "  warnings.warn(Warnings.W006)\n"
     ]
    },
    {
     "data": {
      "text/html": [
       "<span class=\"tex2jax_ignore\"><div class=\"entities\" style=\"line-height: 2.5; direction: ltr\">n. onchidii, of Onchidium pertaining to the marine invertebrate Onchidium species from which the type strain was isolated)<br>Basonym:</div></span>"
      ],
      "text/plain": [
       "<IPython.core.display.HTML object>"
      ]
     },
     "metadata": {},
     "output_type": "display_data"
    },
    {
     "name": "stdout",
     "output_type": "stream",
     "text": [
      "The type strain is XY-114T (=KCTC 72217T=MCCC 1K03606T).\n"
     ]
    },
    {
     "data": {
      "text/html": [
       "<span class=\"tex2jax_ignore\"><div class=\"entities\" style=\"line-height: 2.5; direction: ltr\">The type strain is \n",
       "<mark class=\"entity\" style=\"background: #ddd; padding: 0.45em 0.6em; margin: 0 0.25em; line-height: 1; border-radius: 0.35em;\">\n",
       "    XY-114T\n",
       "    <span style=\"font-size: 0.8em; font-weight: bold; line-height: 1; border-radius: 0.35em; vertical-align: middle; margin-left: 0.5rem\">STRAIN</span>\n",
       "</mark>\n",
       " (=\n",
       "<mark class=\"entity\" style=\"background: #ddd; padding: 0.45em 0.6em; margin: 0 0.25em; line-height: 1; border-radius: 0.35em;\">\n",
       "    KCTC 72217T\n",
       "    <span style=\"font-size: 0.8em; font-weight: bold; line-height: 1; border-radius: 0.35em; vertical-align: middle; margin-left: 0.5rem\">STRAIN</span>\n",
       "</mark>\n",
       "=\n",
       "<mark class=\"entity\" style=\"background: #ddd; padding: 0.45em 0.6em; margin: 0 0.25em; line-height: 1; border-radius: 0.35em;\">\n",
       "    MCCC 1K03606T\n",
       "    <span style=\"font-size: 0.8em; font-weight: bold; line-height: 1; border-radius: 0.35em; vertical-align: middle; margin-left: 0.5rem\">STRAIN</span>\n",
       "</mark>\n",
       ").</div></span>"
      ],
      "text/plain": [
       "<IPython.core.display.HTML object>"
      ]
     },
     "metadata": {},
     "output_type": "display_data"
    },
    {
     "name": "stdout",
     "output_type": "stream",
     "text": [
      "strain names ['CW2-9T', 'CICC 24749T', 'XY-114T', 'KCTC 72217T', 'MCCC 1K03606T']\n",
      "BREAK2\n",
      "Outer div ID: s11-2, Text: Description of Neotamlana sedimentorum comb. nov.\n",
      "orgname []\n",
      "accessions []\n",
      "The type strain is KMM 9545T (=\n"
     ]
    },
    {
     "data": {
      "text/html": [
       "<span class=\"tex2jax_ignore\"><div class=\"entities\" style=\"line-height: 2.5; direction: ltr\">The type strain is \n",
       "<mark class=\"entity\" style=\"background: #ddd; padding: 0.45em 0.6em; margin: 0 0.25em; line-height: 1; border-radius: 0.35em;\">\n",
       "    KMM 9545T\n",
       "    <span style=\"font-size: 0.8em; font-weight: bold; line-height: 1; border-radius: 0.35em; vertical-align: middle; margin-left: 0.5rem\">STRAIN</span>\n",
       "</mark>\n",
       " (=</div></span>"
      ],
      "text/plain": [
       "<IPython.core.display.HTML object>"
      ]
     },
     "metadata": {},
     "output_type": "display_data"
    },
    {
     "name": "stdout",
     "output_type": "stream",
     "text": [
      "strain names ['KMM 9545T']\n",
      "BREAK2\n",
      "Outer div ID: s11-3, Text: Description of Neotamlana nanhaiensis comb. nov.\n",
      "orgname []\n",
      "accessions []\n",
      "adj. nanhaiensis, referring to Nanhai, the South China Sea, the site from where the type strain was isolated)\n",
      "Basonym:\n"
     ]
    },
    {
     "name": "stderr",
     "output_type": "stream",
     "text": [
      "/home/mcveigh/jup/lib/python3.9/site-packages/spacy/displacy/__init__.py:213: UserWarning: [W006] No entities to visualize found in Doc object. If this is surprising to you, make sure the Doc was processed using a model that supports named entity recognition, and check the `doc.ents` property manually if necessary.\n",
      "  warnings.warn(Warnings.W006)\n"
     ]
    },
    {
     "data": {
      "text/html": [
       "<span class=\"tex2jax_ignore\"><div class=\"entities\" style=\"line-height: 2.5; direction: ltr\">adj. nanhaiensis, referring to Nanhai, the South China Sea, the site from where the type strain was isolated)<br>Basonym:</div></span>"
      ],
      "text/plain": [
       "<IPython.core.display.HTML object>"
      ]
     },
     "metadata": {},
     "output_type": "display_data"
    },
    {
     "name": "stdout",
     "output_type": "stream",
     "text": [
      "The type strain is FHC16T (=LMG 27420T=MCCC 1A06648T).\n"
     ]
    },
    {
     "data": {
      "text/html": [
       "<span class=\"tex2jax_ignore\"><div class=\"entities\" style=\"line-height: 2.5; direction: ltr\">The type strain is \n",
       "<mark class=\"entity\" style=\"background: #ddd; padding: 0.45em 0.6em; margin: 0 0.25em; line-height: 1; border-radius: 0.35em;\">\n",
       "    FHC16T\n",
       "    <span style=\"font-size: 0.8em; font-weight: bold; line-height: 1; border-radius: 0.35em; vertical-align: middle; margin-left: 0.5rem\">STRAIN</span>\n",
       "</mark>\n",
       " (=\n",
       "<mark class=\"entity\" style=\"background: #ddd; padding: 0.45em 0.6em; margin: 0 0.25em; line-height: 1; border-radius: 0.35em;\">\n",
       "    LMG 27420T\n",
       "    <span style=\"font-size: 0.8em; font-weight: bold; line-height: 1; border-radius: 0.35em; vertical-align: middle; margin-left: 0.5rem\">STRAIN</span>\n",
       "</mark>\n",
       "=\n",
       "<mark class=\"entity\" style=\"background: #ddd; padding: 0.45em 0.6em; margin: 0 0.25em; line-height: 1; border-radius: 0.35em;\">\n",
       "    MCCC 1A06648T\n",
       "    <span style=\"font-size: 0.8em; font-weight: bold; line-height: 1; border-radius: 0.35em; vertical-align: middle; margin-left: 0.5rem\">STRAIN</span>\n",
       "</mark>\n",
       ").</div></span>"
      ],
      "text/plain": [
       "<IPython.core.display.HTML object>"
      ]
     },
     "metadata": {},
     "output_type": "display_data"
    },
    {
     "name": "stdout",
     "output_type": "stream",
     "text": [
      "strain names ['FHC16T', 'LMG 27420T', 'MCCC 1A06648T']\n",
      "BREAK2\n",
      "Outer div ID: s11-4, Text: Description of Neotamlana laminarinivorans comb. nov.\n",
      "orgname []\n",
      "accessions []\n",
      "The type strain is PT2-4T (=KCTC 92183T=MCCC 1K04427T).\n"
     ]
    },
    {
     "data": {
      "text/html": [
       "<span class=\"tex2jax_ignore\"><div class=\"entities\" style=\"line-height: 2.5; direction: ltr\">The type strain is \n",
       "<mark class=\"entity\" style=\"background: #ddd; padding: 0.45em 0.6em; margin: 0 0.25em; line-height: 1; border-radius: 0.35em;\">\n",
       "    PT2-4T\n",
       "    <span style=\"font-size: 0.8em; font-weight: bold; line-height: 1; border-radius: 0.35em; vertical-align: middle; margin-left: 0.5rem\">STRAIN</span>\n",
       "</mark>\n",
       " (=\n",
       "<mark class=\"entity\" style=\"background: #ddd; padding: 0.45em 0.6em; margin: 0 0.25em; line-height: 1; border-radius: 0.35em;\">\n",
       "    KCTC 92183T\n",
       "    <span style=\"font-size: 0.8em; font-weight: bold; line-height: 1; border-radius: 0.35em; vertical-align: middle; margin-left: 0.5rem\">STRAIN</span>\n",
       "</mark>\n",
       "=\n",
       "<mark class=\"entity\" style=\"background: #ddd; padding: 0.45em 0.6em; margin: 0 0.25em; line-height: 1; border-radius: 0.35em;\">\n",
       "    MCCC 1K04427T\n",
       "    <span style=\"font-size: 0.8em; font-weight: bold; line-height: 1; border-radius: 0.35em; vertical-align: middle; margin-left: 0.5rem\">STRAIN</span>\n",
       "</mark>\n",
       ").</div></span>"
      ],
      "text/plain": [
       "<IPython.core.display.HTML object>"
      ]
     },
     "metadata": {},
     "output_type": "display_data"
    },
    {
     "name": "stdout",
     "output_type": "stream",
     "text": [
      "strain names ['PT2-4T', 'KCTC 92183T', 'MCCC 1K04427T']\n",
      "BREAK2\n",
      "Outer div ID: s11-5, Text: Description of Neotamlana sargassicola comb. nov.\n",
      "orgname []\n",
      "accessions []\n",
      "The type strain is 62-3T (=KCTC 92182T=MCCC 1K04421T).\n"
     ]
    },
    {
     "data": {
      "text/html": [
       "<span class=\"tex2jax_ignore\"><div class=\"entities\" style=\"line-height: 2.5; direction: ltr\">The type strain is \n",
       "<mark class=\"entity\" style=\"background: #ddd; padding: 0.45em 0.6em; margin: 0 0.25em; line-height: 1; border-radius: 0.35em;\">\n",
       "    62-3T\n",
       "    <span style=\"font-size: 0.8em; font-weight: bold; line-height: 1; border-radius: 0.35em; vertical-align: middle; margin-left: 0.5rem\">STRAIN</span>\n",
       "</mark>\n",
       " (=\n",
       "<mark class=\"entity\" style=\"background: #ddd; padding: 0.45em 0.6em; margin: 0 0.25em; line-height: 1; border-radius: 0.35em;\">\n",
       "    KCTC 92182T\n",
       "    <span style=\"font-size: 0.8em; font-weight: bold; line-height: 1; border-radius: 0.35em; vertical-align: middle; margin-left: 0.5rem\">STRAIN</span>\n",
       "</mark>\n",
       "=\n",
       "<mark class=\"entity\" style=\"background: #ddd; padding: 0.45em 0.6em; margin: 0 0.25em; line-height: 1; border-radius: 0.35em;\">\n",
       "    MCCC 1K04421T\n",
       "    <span style=\"font-size: 0.8em; font-weight: bold; line-height: 1; border-radius: 0.35em; vertical-align: middle; margin-left: 0.5rem\">STRAIN</span>\n",
       "</mark>\n",
       ").</div></span>"
      ],
      "text/plain": [
       "<IPython.core.display.HTML object>"
      ]
     },
     "metadata": {},
     "output_type": "display_data"
    },
    {
     "name": "stdout",
     "output_type": "stream",
     "text": [
      "strain names ['62-3T', 'KCTC 92182T', 'MCCC 1K04421T']\n",
      "BREAK2\n",
      "Outer div ID: s11-6, Text: Description of Pseudotamlana agarivorans comb. nov.\n",
      "orgname []\n",
      "accessions []\n",
      "The type strain is JW-26T (=KCTC 22176T=CCUG 55327T).\n"
     ]
    },
    {
     "data": {
      "text/html": [
       "<span class=\"tex2jax_ignore\"><div class=\"entities\" style=\"line-height: 2.5; direction: ltr\">The type strain is \n",
       "<mark class=\"entity\" style=\"background: #ddd; padding: 0.45em 0.6em; margin: 0 0.25em; line-height: 1; border-radius: 0.35em;\">\n",
       "    JW-26T\n",
       "    <span style=\"font-size: 0.8em; font-weight: bold; line-height: 1; border-radius: 0.35em; vertical-align: middle; margin-left: 0.5rem\">STRAIN</span>\n",
       "</mark>\n",
       " (=\n",
       "<mark class=\"entity\" style=\"background: #ddd; padding: 0.45em 0.6em; margin: 0 0.25em; line-height: 1; border-radius: 0.35em;\">\n",
       "    KCTC 22176T\n",
       "    <span style=\"font-size: 0.8em; font-weight: bold; line-height: 1; border-radius: 0.35em; vertical-align: middle; margin-left: 0.5rem\">STRAIN</span>\n",
       "</mark>\n",
       "=\n",
       "<mark class=\"entity\" style=\"background: #ddd; padding: 0.45em 0.6em; margin: 0 0.25em; line-height: 1; border-radius: 0.35em;\">\n",
       "    CCUG 55327T\n",
       "    <span style=\"font-size: 0.8em; font-weight: bold; line-height: 1; border-radius: 0.35em; vertical-align: middle; margin-left: 0.5rem\">STRAIN</span>\n",
       "</mark>\n",
       ").</div></span>"
      ],
      "text/plain": [
       "<IPython.core.display.HTML object>"
      ]
     },
     "metadata": {},
     "output_type": "display_data"
    },
    {
     "name": "stdout",
     "output_type": "stream",
     "text": [
      "strain names ['JW-26T', 'KCTC 22176T', 'CCUG 55327T']\n",
      "BREAK2\n",
      "Outer div ID: s11-7, Text: Description of Pseudotamlana carrageenivorans comb. nov.\n",
      "orgname []\n",
      "accessions []\n",
      "The type strain is UJ94T (=\n"
     ]
    },
    {
     "data": {
      "text/html": [
       "<span class=\"tex2jax_ignore\"><div class=\"entities\" style=\"line-height: 2.5; direction: ltr\">The type strain is \n",
       "<mark class=\"entity\" style=\"background: #ddd; padding: 0.45em 0.6em; margin: 0 0.25em; line-height: 1; border-radius: 0.35em;\">\n",
       "    UJ94T\n",
       "    <span style=\"font-size: 0.8em; font-weight: bold; line-height: 1; border-radius: 0.35em; vertical-align: middle; margin-left: 0.5rem\">STRAIN</span>\n",
       "</mark>\n",
       " (=</div></span>"
      ],
      "text/plain": [
       "<IPython.core.display.HTML object>"
      ]
     },
     "metadata": {},
     "output_type": "display_data"
    },
    {
     "name": "stdout",
     "output_type": "stream",
     "text": [
      "strain names ['UJ94T']\n",
      "BREAK2\n",
      "Outer div ID: s11-8, Text: Description of Pseudotamlana haliotis comb. nov.\n",
      "orgname []\n",
      "accessions []\n",
      "The type strain is B1N29T (=KCTC 72683T=MCCC 1H00394T).\n"
     ]
    },
    {
     "data": {
      "text/html": [
       "<span class=\"tex2jax_ignore\"><div class=\"entities\" style=\"line-height: 2.5; direction: ltr\">The type strain is \n",
       "<mark class=\"entity\" style=\"background: #ddd; padding: 0.45em 0.6em; margin: 0 0.25em; line-height: 1; border-radius: 0.35em;\">\n",
       "    B1N29T\n",
       "    <span style=\"font-size: 0.8em; font-weight: bold; line-height: 1; border-radius: 0.35em; vertical-align: middle; margin-left: 0.5rem\">STRAIN</span>\n",
       "</mark>\n",
       " (=\n",
       "<mark class=\"entity\" style=\"background: #ddd; padding: 0.45em 0.6em; margin: 0 0.25em; line-height: 1; border-radius: 0.35em;\">\n",
       "    KCTC 72683T\n",
       "    <span style=\"font-size: 0.8em; font-weight: bold; line-height: 1; border-radius: 0.35em; vertical-align: middle; margin-left: 0.5rem\">STRAIN</span>\n",
       "</mark>\n",
       "=\n",
       "<mark class=\"entity\" style=\"background: #ddd; padding: 0.45em 0.6em; margin: 0 0.25em; line-height: 1; border-radius: 0.35em;\">\n",
       "    MCCC 1H00394T\n",
       "    <span style=\"font-size: 0.8em; font-weight: bold; line-height: 1; border-radius: 0.35em; vertical-align: middle; margin-left: 0.5rem\">STRAIN</span>\n",
       "</mark>\n",
       ").</div></span>"
      ],
      "text/plain": [
       "<IPython.core.display.HTML object>"
      ]
     },
     "metadata": {},
     "output_type": "display_data"
    },
    {
     "name": "stdout",
     "output_type": "stream",
     "text": [
      "strain names ['B1N29T', 'KCTC 72683T', 'MCCC 1H00394T']\n",
      "BREAK2\n",
      "Outer div ID: s10-1, Text: Description of Allotamlana gen. nov.\n",
      "orgname []\n",
      "accessions []\n",
      "strain names []\n",
      "BREAK2\n",
      "Outer div ID: s10-2, Text: Description of Cognatitamlana gen. nov.\n",
      "orgname []\n",
      "accessions []\n",
      "strain names []\n",
      "BREAK2\n",
      "Outer div ID: s10-3, Text: Description of Neotamlana gen. nov.\n",
      "orgname []\n",
      "accessions []\n",
      "strain names []\n",
      "BREAK2\n",
      "Outer div ID: s10-4, Text: Description of Pseudotamlana gen. nov.\n",
      "orgname []\n",
      "accessions []\n",
      "strain names []\n",
      "BREAK2\n",
      "Outer div ID: s11-1, Text: Description of Allotamlana fucoidanivorans comb. nov.\n",
      "orgname []\n",
      "accessions []\n",
      "The type strain is CW2-9T (=CICC 24749T\n"
     ]
    },
    {
     "data": {
      "text/html": [
       "<span class=\"tex2jax_ignore\"><div class=\"entities\" style=\"line-height: 2.5; direction: ltr\">The type strain is \n",
       "<mark class=\"entity\" style=\"background: #ddd; padding: 0.45em 0.6em; margin: 0 0.25em; line-height: 1; border-radius: 0.35em;\">\n",
       "    CW2-9T\n",
       "    <span style=\"font-size: 0.8em; font-weight: bold; line-height: 1; border-radius: 0.35em; vertical-align: middle; margin-left: 0.5rem\">STRAIN</span>\n",
       "</mark>\n",
       " (=\n",
       "<mark class=\"entity\" style=\"background: #ddd; padding: 0.45em 0.6em; margin: 0 0.25em; line-height: 1; border-radius: 0.35em;\">\n",
       "    CICC 24749T\n",
       "    <span style=\"font-size: 0.8em; font-weight: bold; line-height: 1; border-radius: 0.35em; vertical-align: middle; margin-left: 0.5rem\">STRAIN</span>\n",
       "</mark>\n",
       "</div></span>"
      ],
      "text/plain": [
       "<IPython.core.display.HTML object>"
      ]
     },
     "metadata": {},
     "output_type": "display_data"
    },
    {
     "name": "stdout",
     "output_type": "stream",
     "text": [
      "n. onchidii, of Onchidium pertaining to the marine invertebrate Onchidium species from which the type strain was isolated)\n",
      "Basonym:\n"
     ]
    },
    {
     "name": "stderr",
     "output_type": "stream",
     "text": [
      "/home/mcveigh/jup/lib/python3.9/site-packages/spacy/displacy/__init__.py:213: UserWarning: [W006] No entities to visualize found in Doc object. If this is surprising to you, make sure the Doc was processed using a model that supports named entity recognition, and check the `doc.ents` property manually if necessary.\n",
      "  warnings.warn(Warnings.W006)\n"
     ]
    },
    {
     "data": {
      "text/html": [
       "<span class=\"tex2jax_ignore\"><div class=\"entities\" style=\"line-height: 2.5; direction: ltr\">n. onchidii, of Onchidium pertaining to the marine invertebrate Onchidium species from which the type strain was isolated)<br>Basonym:</div></span>"
      ],
      "text/plain": [
       "<IPython.core.display.HTML object>"
      ]
     },
     "metadata": {},
     "output_type": "display_data"
    },
    {
     "name": "stdout",
     "output_type": "stream",
     "text": [
      "The type strain is XY-114T (=KCTC 72217T=MCCC 1K03606T).\n"
     ]
    },
    {
     "data": {
      "text/html": [
       "<span class=\"tex2jax_ignore\"><div class=\"entities\" style=\"line-height: 2.5; direction: ltr\">The type strain is \n",
       "<mark class=\"entity\" style=\"background: #ddd; padding: 0.45em 0.6em; margin: 0 0.25em; line-height: 1; border-radius: 0.35em;\">\n",
       "    XY-114T\n",
       "    <span style=\"font-size: 0.8em; font-weight: bold; line-height: 1; border-radius: 0.35em; vertical-align: middle; margin-left: 0.5rem\">STRAIN</span>\n",
       "</mark>\n",
       " (=\n",
       "<mark class=\"entity\" style=\"background: #ddd; padding: 0.45em 0.6em; margin: 0 0.25em; line-height: 1; border-radius: 0.35em;\">\n",
       "    KCTC 72217T\n",
       "    <span style=\"font-size: 0.8em; font-weight: bold; line-height: 1; border-radius: 0.35em; vertical-align: middle; margin-left: 0.5rem\">STRAIN</span>\n",
       "</mark>\n",
       "=\n",
       "<mark class=\"entity\" style=\"background: #ddd; padding: 0.45em 0.6em; margin: 0 0.25em; line-height: 1; border-radius: 0.35em;\">\n",
       "    MCCC 1K03606T\n",
       "    <span style=\"font-size: 0.8em; font-weight: bold; line-height: 1; border-radius: 0.35em; vertical-align: middle; margin-left: 0.5rem\">STRAIN</span>\n",
       "</mark>\n",
       ").</div></span>"
      ],
      "text/plain": [
       "<IPython.core.display.HTML object>"
      ]
     },
     "metadata": {},
     "output_type": "display_data"
    },
    {
     "name": "stdout",
     "output_type": "stream",
     "text": [
      "strain names ['CW2-9T', 'CICC 24749T', 'XY-114T', 'KCTC 72217T', 'MCCC 1K03606T']\n",
      "BREAK2\n",
      "Outer div ID: s11-2, Text: Description of Neotamlana sedimentorum comb. nov.\n",
      "orgname []\n",
      "accessions []\n",
      "The type strain is KMM 9545T (=\n"
     ]
    },
    {
     "data": {
      "text/html": [
       "<span class=\"tex2jax_ignore\"><div class=\"entities\" style=\"line-height: 2.5; direction: ltr\">The type strain is \n",
       "<mark class=\"entity\" style=\"background: #ddd; padding: 0.45em 0.6em; margin: 0 0.25em; line-height: 1; border-radius: 0.35em;\">\n",
       "    KMM 9545T\n",
       "    <span style=\"font-size: 0.8em; font-weight: bold; line-height: 1; border-radius: 0.35em; vertical-align: middle; margin-left: 0.5rem\">STRAIN</span>\n",
       "</mark>\n",
       " (=</div></span>"
      ],
      "text/plain": [
       "<IPython.core.display.HTML object>"
      ]
     },
     "metadata": {},
     "output_type": "display_data"
    },
    {
     "name": "stdout",
     "output_type": "stream",
     "text": [
      "strain names ['KMM 9545T']\n",
      "BREAK2\n",
      "Outer div ID: s11-3, Text: Description of Neotamlana nanhaiensis comb. nov.\n",
      "orgname []\n",
      "accessions []\n",
      "adj. nanhaiensis, referring to Nanhai, the South China Sea, the site from where the type strain was isolated)\n",
      "Basonym:\n"
     ]
    },
    {
     "name": "stderr",
     "output_type": "stream",
     "text": [
      "/home/mcveigh/jup/lib/python3.9/site-packages/spacy/displacy/__init__.py:213: UserWarning: [W006] No entities to visualize found in Doc object. If this is surprising to you, make sure the Doc was processed using a model that supports named entity recognition, and check the `doc.ents` property manually if necessary.\n",
      "  warnings.warn(Warnings.W006)\n"
     ]
    },
    {
     "data": {
      "text/html": [
       "<span class=\"tex2jax_ignore\"><div class=\"entities\" style=\"line-height: 2.5; direction: ltr\">adj. nanhaiensis, referring to Nanhai, the South China Sea, the site from where the type strain was isolated)<br>Basonym:</div></span>"
      ],
      "text/plain": [
       "<IPython.core.display.HTML object>"
      ]
     },
     "metadata": {},
     "output_type": "display_data"
    },
    {
     "name": "stdout",
     "output_type": "stream",
     "text": [
      "The type strain is FHC16T (=LMG 27420T=MCCC 1A06648T).\n"
     ]
    },
    {
     "data": {
      "text/html": [
       "<span class=\"tex2jax_ignore\"><div class=\"entities\" style=\"line-height: 2.5; direction: ltr\">The type strain is \n",
       "<mark class=\"entity\" style=\"background: #ddd; padding: 0.45em 0.6em; margin: 0 0.25em; line-height: 1; border-radius: 0.35em;\">\n",
       "    FHC16T\n",
       "    <span style=\"font-size: 0.8em; font-weight: bold; line-height: 1; border-radius: 0.35em; vertical-align: middle; margin-left: 0.5rem\">STRAIN</span>\n",
       "</mark>\n",
       " (=\n",
       "<mark class=\"entity\" style=\"background: #ddd; padding: 0.45em 0.6em; margin: 0 0.25em; line-height: 1; border-radius: 0.35em;\">\n",
       "    LMG 27420T\n",
       "    <span style=\"font-size: 0.8em; font-weight: bold; line-height: 1; border-radius: 0.35em; vertical-align: middle; margin-left: 0.5rem\">STRAIN</span>\n",
       "</mark>\n",
       "=\n",
       "<mark class=\"entity\" style=\"background: #ddd; padding: 0.45em 0.6em; margin: 0 0.25em; line-height: 1; border-radius: 0.35em;\">\n",
       "    MCCC 1A06648T\n",
       "    <span style=\"font-size: 0.8em; font-weight: bold; line-height: 1; border-radius: 0.35em; vertical-align: middle; margin-left: 0.5rem\">STRAIN</span>\n",
       "</mark>\n",
       ").</div></span>"
      ],
      "text/plain": [
       "<IPython.core.display.HTML object>"
      ]
     },
     "metadata": {},
     "output_type": "display_data"
    },
    {
     "name": "stdout",
     "output_type": "stream",
     "text": [
      "strain names ['FHC16T', 'LMG 27420T', 'MCCC 1A06648T']\n",
      "BREAK2\n",
      "Outer div ID: s11-4, Text: Description of Neotamlana laminarinivorans comb. nov.\n",
      "orgname []\n",
      "accessions []\n",
      "The type strain is PT2-4T (=KCTC 92183T=MCCC 1K04427T).\n"
     ]
    },
    {
     "data": {
      "text/html": [
       "<span class=\"tex2jax_ignore\"><div class=\"entities\" style=\"line-height: 2.5; direction: ltr\">The type strain is \n",
       "<mark class=\"entity\" style=\"background: #ddd; padding: 0.45em 0.6em; margin: 0 0.25em; line-height: 1; border-radius: 0.35em;\">\n",
       "    PT2-4T\n",
       "    <span style=\"font-size: 0.8em; font-weight: bold; line-height: 1; border-radius: 0.35em; vertical-align: middle; margin-left: 0.5rem\">STRAIN</span>\n",
       "</mark>\n",
       " (=\n",
       "<mark class=\"entity\" style=\"background: #ddd; padding: 0.45em 0.6em; margin: 0 0.25em; line-height: 1; border-radius: 0.35em;\">\n",
       "    KCTC 92183T\n",
       "    <span style=\"font-size: 0.8em; font-weight: bold; line-height: 1; border-radius: 0.35em; vertical-align: middle; margin-left: 0.5rem\">STRAIN</span>\n",
       "</mark>\n",
       "=\n",
       "<mark class=\"entity\" style=\"background: #ddd; padding: 0.45em 0.6em; margin: 0 0.25em; line-height: 1; border-radius: 0.35em;\">\n",
       "    MCCC 1K04427T\n",
       "    <span style=\"font-size: 0.8em; font-weight: bold; line-height: 1; border-radius: 0.35em; vertical-align: middle; margin-left: 0.5rem\">STRAIN</span>\n",
       "</mark>\n",
       ").</div></span>"
      ],
      "text/plain": [
       "<IPython.core.display.HTML object>"
      ]
     },
     "metadata": {},
     "output_type": "display_data"
    },
    {
     "name": "stdout",
     "output_type": "stream",
     "text": [
      "strain names ['PT2-4T', 'KCTC 92183T', 'MCCC 1K04427T']\n",
      "BREAK2\n",
      "Outer div ID: s11-5, Text: Description of Neotamlana sargassicola comb. nov.\n",
      "orgname []\n",
      "accessions []\n",
      "The type strain is 62-3T (=KCTC 92182T=MCCC 1K04421T).\n"
     ]
    },
    {
     "data": {
      "text/html": [
       "<span class=\"tex2jax_ignore\"><div class=\"entities\" style=\"line-height: 2.5; direction: ltr\">The type strain is \n",
       "<mark class=\"entity\" style=\"background: #ddd; padding: 0.45em 0.6em; margin: 0 0.25em; line-height: 1; border-radius: 0.35em;\">\n",
       "    62-3T\n",
       "    <span style=\"font-size: 0.8em; font-weight: bold; line-height: 1; border-radius: 0.35em; vertical-align: middle; margin-left: 0.5rem\">STRAIN</span>\n",
       "</mark>\n",
       " (=\n",
       "<mark class=\"entity\" style=\"background: #ddd; padding: 0.45em 0.6em; margin: 0 0.25em; line-height: 1; border-radius: 0.35em;\">\n",
       "    KCTC 92182T\n",
       "    <span style=\"font-size: 0.8em; font-weight: bold; line-height: 1; border-radius: 0.35em; vertical-align: middle; margin-left: 0.5rem\">STRAIN</span>\n",
       "</mark>\n",
       "=\n",
       "<mark class=\"entity\" style=\"background: #ddd; padding: 0.45em 0.6em; margin: 0 0.25em; line-height: 1; border-radius: 0.35em;\">\n",
       "    MCCC 1K04421T\n",
       "    <span style=\"font-size: 0.8em; font-weight: bold; line-height: 1; border-radius: 0.35em; vertical-align: middle; margin-left: 0.5rem\">STRAIN</span>\n",
       "</mark>\n",
       ").</div></span>"
      ],
      "text/plain": [
       "<IPython.core.display.HTML object>"
      ]
     },
     "metadata": {},
     "output_type": "display_data"
    },
    {
     "name": "stdout",
     "output_type": "stream",
     "text": [
      "strain names ['62-3T', 'KCTC 92182T', 'MCCC 1K04421T']\n",
      "BREAK2\n",
      "Outer div ID: s11-6, Text: Description of Pseudotamlana agarivorans comb. nov.\n",
      "orgname []\n",
      "accessions []\n",
      "The type strain is JW-26T (=KCTC 22176T=CCUG 55327T).\n"
     ]
    },
    {
     "data": {
      "text/html": [
       "<span class=\"tex2jax_ignore\"><div class=\"entities\" style=\"line-height: 2.5; direction: ltr\">The type strain is \n",
       "<mark class=\"entity\" style=\"background: #ddd; padding: 0.45em 0.6em; margin: 0 0.25em; line-height: 1; border-radius: 0.35em;\">\n",
       "    JW-26T\n",
       "    <span style=\"font-size: 0.8em; font-weight: bold; line-height: 1; border-radius: 0.35em; vertical-align: middle; margin-left: 0.5rem\">STRAIN</span>\n",
       "</mark>\n",
       " (=\n",
       "<mark class=\"entity\" style=\"background: #ddd; padding: 0.45em 0.6em; margin: 0 0.25em; line-height: 1; border-radius: 0.35em;\">\n",
       "    KCTC 22176T\n",
       "    <span style=\"font-size: 0.8em; font-weight: bold; line-height: 1; border-radius: 0.35em; vertical-align: middle; margin-left: 0.5rem\">STRAIN</span>\n",
       "</mark>\n",
       "=\n",
       "<mark class=\"entity\" style=\"background: #ddd; padding: 0.45em 0.6em; margin: 0 0.25em; line-height: 1; border-radius: 0.35em;\">\n",
       "    CCUG 55327T\n",
       "    <span style=\"font-size: 0.8em; font-weight: bold; line-height: 1; border-radius: 0.35em; vertical-align: middle; margin-left: 0.5rem\">STRAIN</span>\n",
       "</mark>\n",
       ").</div></span>"
      ],
      "text/plain": [
       "<IPython.core.display.HTML object>"
      ]
     },
     "metadata": {},
     "output_type": "display_data"
    },
    {
     "name": "stdout",
     "output_type": "stream",
     "text": [
      "strain names ['JW-26T', 'KCTC 22176T', 'CCUG 55327T']\n",
      "BREAK2\n",
      "Outer div ID: s11-7, Text: Description of Pseudotamlana carrageenivorans comb. nov.\n",
      "orgname []\n",
      "accessions []\n",
      "The type strain is UJ94T (=\n"
     ]
    },
    {
     "data": {
      "text/html": [
       "<span class=\"tex2jax_ignore\"><div class=\"entities\" style=\"line-height: 2.5; direction: ltr\">The type strain is \n",
       "<mark class=\"entity\" style=\"background: #ddd; padding: 0.45em 0.6em; margin: 0 0.25em; line-height: 1; border-radius: 0.35em;\">\n",
       "    UJ94T\n",
       "    <span style=\"font-size: 0.8em; font-weight: bold; line-height: 1; border-radius: 0.35em; vertical-align: middle; margin-left: 0.5rem\">STRAIN</span>\n",
       "</mark>\n",
       " (=</div></span>"
      ],
      "text/plain": [
       "<IPython.core.display.HTML object>"
      ]
     },
     "metadata": {},
     "output_type": "display_data"
    },
    {
     "name": "stdout",
     "output_type": "stream",
     "text": [
      "strain names ['UJ94T']\n",
      "BREAK2\n",
      "Outer div ID: s11-8, Text: Description of Pseudotamlana haliotis comb. nov.\n",
      "orgname []\n",
      "accessions []\n",
      "The type strain is B1N29T (=KCTC 72683T=MCCC 1H00394T).\n"
     ]
    },
    {
     "data": {
      "text/html": [
       "<span class=\"tex2jax_ignore\"><div class=\"entities\" style=\"line-height: 2.5; direction: ltr\">The type strain is \n",
       "<mark class=\"entity\" style=\"background: #ddd; padding: 0.45em 0.6em; margin: 0 0.25em; line-height: 1; border-radius: 0.35em;\">\n",
       "    B1N29T\n",
       "    <span style=\"font-size: 0.8em; font-weight: bold; line-height: 1; border-radius: 0.35em; vertical-align: middle; margin-left: 0.5rem\">STRAIN</span>\n",
       "</mark>\n",
       " (=\n",
       "<mark class=\"entity\" style=\"background: #ddd; padding: 0.45em 0.6em; margin: 0 0.25em; line-height: 1; border-radius: 0.35em;\">\n",
       "    KCTC 72683T\n",
       "    <span style=\"font-size: 0.8em; font-weight: bold; line-height: 1; border-radius: 0.35em; vertical-align: middle; margin-left: 0.5rem\">STRAIN</span>\n",
       "</mark>\n",
       "=\n",
       "<mark class=\"entity\" style=\"background: #ddd; padding: 0.45em 0.6em; margin: 0 0.25em; line-height: 1; border-radius: 0.35em;\">\n",
       "    MCCC 1H00394T\n",
       "    <span style=\"font-size: 0.8em; font-weight: bold; line-height: 1; border-radius: 0.35em; vertical-align: middle; margin-left: 0.5rem\">STRAIN</span>\n",
       "</mark>\n",
       ").</div></span>"
      ],
      "text/plain": [
       "<IPython.core.display.HTML object>"
      ]
     },
     "metadata": {},
     "output_type": "display_data"
    },
    {
     "name": "stdout",
     "output_type": "stream",
     "text": [
      "strain names ['B1N29T', 'KCTC 72683T', 'MCCC 1H00394T']\n",
      "BREAK2\n",
      "Outer div ID: s10-1, Text: Description of Allotamlana gen. nov.\n",
      "orgname []\n",
      "accessions []\n",
      "strain names []\n",
      "BREAK2\n",
      "Outer div ID: s10-2, Text: Description of Cognatitamlana gen. nov.\n",
      "orgname []\n",
      "accessions []\n",
      "strain names []\n",
      "BREAK2\n",
      "Outer div ID: s10-3, Text: Description of Neotamlana gen. nov.\n",
      "orgname []\n",
      "accessions []\n",
      "strain names []\n",
      "BREAK2\n",
      "Outer div ID: s10-4, Text: Description of Pseudotamlana gen. nov.\n",
      "orgname []\n",
      "accessions []\n",
      "strain names []\n",
      "BREAK2\n",
      "Outer div ID: s11-1, Text: Description of Allotamlana fucoidanivorans comb. nov.\n",
      "orgname []\n",
      "accessions []\n",
      "The type strain is CW2-9T (=CICC 24749T\n"
     ]
    },
    {
     "data": {
      "text/html": [
       "<span class=\"tex2jax_ignore\"><div class=\"entities\" style=\"line-height: 2.5; direction: ltr\">The type strain is \n",
       "<mark class=\"entity\" style=\"background: #ddd; padding: 0.45em 0.6em; margin: 0 0.25em; line-height: 1; border-radius: 0.35em;\">\n",
       "    CW2-9T\n",
       "    <span style=\"font-size: 0.8em; font-weight: bold; line-height: 1; border-radius: 0.35em; vertical-align: middle; margin-left: 0.5rem\">STRAIN</span>\n",
       "</mark>\n",
       " (=\n",
       "<mark class=\"entity\" style=\"background: #ddd; padding: 0.45em 0.6em; margin: 0 0.25em; line-height: 1; border-radius: 0.35em;\">\n",
       "    CICC 24749T\n",
       "    <span style=\"font-size: 0.8em; font-weight: bold; line-height: 1; border-radius: 0.35em; vertical-align: middle; margin-left: 0.5rem\">STRAIN</span>\n",
       "</mark>\n",
       "</div></span>"
      ],
      "text/plain": [
       "<IPython.core.display.HTML object>"
      ]
     },
     "metadata": {},
     "output_type": "display_data"
    },
    {
     "name": "stdout",
     "output_type": "stream",
     "text": [
      "n. onchidii, of Onchidium pertaining to the marine invertebrate Onchidium species from which the type strain was isolated)\n",
      "Basonym:\n"
     ]
    },
    {
     "name": "stderr",
     "output_type": "stream",
     "text": [
      "/home/mcveigh/jup/lib/python3.9/site-packages/spacy/displacy/__init__.py:213: UserWarning: [W006] No entities to visualize found in Doc object. If this is surprising to you, make sure the Doc was processed using a model that supports named entity recognition, and check the `doc.ents` property manually if necessary.\n",
      "  warnings.warn(Warnings.W006)\n"
     ]
    },
    {
     "data": {
      "text/html": [
       "<span class=\"tex2jax_ignore\"><div class=\"entities\" style=\"line-height: 2.5; direction: ltr\">n. onchidii, of Onchidium pertaining to the marine invertebrate Onchidium species from which the type strain was isolated)<br>Basonym:</div></span>"
      ],
      "text/plain": [
       "<IPython.core.display.HTML object>"
      ]
     },
     "metadata": {},
     "output_type": "display_data"
    },
    {
     "name": "stdout",
     "output_type": "stream",
     "text": [
      "The type strain is XY-114T (=KCTC 72217T=MCCC 1K03606T).\n"
     ]
    },
    {
     "data": {
      "text/html": [
       "<span class=\"tex2jax_ignore\"><div class=\"entities\" style=\"line-height: 2.5; direction: ltr\">The type strain is \n",
       "<mark class=\"entity\" style=\"background: #ddd; padding: 0.45em 0.6em; margin: 0 0.25em; line-height: 1; border-radius: 0.35em;\">\n",
       "    XY-114T\n",
       "    <span style=\"font-size: 0.8em; font-weight: bold; line-height: 1; border-radius: 0.35em; vertical-align: middle; margin-left: 0.5rem\">STRAIN</span>\n",
       "</mark>\n",
       " (=\n",
       "<mark class=\"entity\" style=\"background: #ddd; padding: 0.45em 0.6em; margin: 0 0.25em; line-height: 1; border-radius: 0.35em;\">\n",
       "    KCTC 72217T\n",
       "    <span style=\"font-size: 0.8em; font-weight: bold; line-height: 1; border-radius: 0.35em; vertical-align: middle; margin-left: 0.5rem\">STRAIN</span>\n",
       "</mark>\n",
       "=\n",
       "<mark class=\"entity\" style=\"background: #ddd; padding: 0.45em 0.6em; margin: 0 0.25em; line-height: 1; border-radius: 0.35em;\">\n",
       "    MCCC 1K03606T\n",
       "    <span style=\"font-size: 0.8em; font-weight: bold; line-height: 1; border-radius: 0.35em; vertical-align: middle; margin-left: 0.5rem\">STRAIN</span>\n",
       "</mark>\n",
       ").</div></span>"
      ],
      "text/plain": [
       "<IPython.core.display.HTML object>"
      ]
     },
     "metadata": {},
     "output_type": "display_data"
    },
    {
     "name": "stdout",
     "output_type": "stream",
     "text": [
      "strain names ['CW2-9T', 'CICC 24749T', 'XY-114T', 'KCTC 72217T', 'MCCC 1K03606T']\n",
      "BREAK2\n",
      "Outer div ID: s11-2, Text: Description of Neotamlana sedimentorum comb. nov.\n",
      "orgname []\n",
      "accessions []\n",
      "The type strain is KMM 9545T (=\n"
     ]
    },
    {
     "data": {
      "text/html": [
       "<span class=\"tex2jax_ignore\"><div class=\"entities\" style=\"line-height: 2.5; direction: ltr\">The type strain is \n",
       "<mark class=\"entity\" style=\"background: #ddd; padding: 0.45em 0.6em; margin: 0 0.25em; line-height: 1; border-radius: 0.35em;\">\n",
       "    KMM 9545T\n",
       "    <span style=\"font-size: 0.8em; font-weight: bold; line-height: 1; border-radius: 0.35em; vertical-align: middle; margin-left: 0.5rem\">STRAIN</span>\n",
       "</mark>\n",
       " (=</div></span>"
      ],
      "text/plain": [
       "<IPython.core.display.HTML object>"
      ]
     },
     "metadata": {},
     "output_type": "display_data"
    },
    {
     "name": "stdout",
     "output_type": "stream",
     "text": [
      "strain names ['KMM 9545T']\n",
      "BREAK2\n",
      "Outer div ID: s11-3, Text: Description of Neotamlana nanhaiensis comb. nov.\n",
      "orgname []\n",
      "accessions []\n",
      "adj. nanhaiensis, referring to Nanhai, the South China Sea, the site from where the type strain was isolated)\n",
      "Basonym:\n"
     ]
    },
    {
     "name": "stderr",
     "output_type": "stream",
     "text": [
      "/home/mcveigh/jup/lib/python3.9/site-packages/spacy/displacy/__init__.py:213: UserWarning: [W006] No entities to visualize found in Doc object. If this is surprising to you, make sure the Doc was processed using a model that supports named entity recognition, and check the `doc.ents` property manually if necessary.\n",
      "  warnings.warn(Warnings.W006)\n"
     ]
    },
    {
     "data": {
      "text/html": [
       "<span class=\"tex2jax_ignore\"><div class=\"entities\" style=\"line-height: 2.5; direction: ltr\">adj. nanhaiensis, referring to Nanhai, the South China Sea, the site from where the type strain was isolated)<br>Basonym:</div></span>"
      ],
      "text/plain": [
       "<IPython.core.display.HTML object>"
      ]
     },
     "metadata": {},
     "output_type": "display_data"
    },
    {
     "name": "stdout",
     "output_type": "stream",
     "text": [
      "The type strain is FHC16T (=LMG 27420T=MCCC 1A06648T).\n"
     ]
    },
    {
     "data": {
      "text/html": [
       "<span class=\"tex2jax_ignore\"><div class=\"entities\" style=\"line-height: 2.5; direction: ltr\">The type strain is \n",
       "<mark class=\"entity\" style=\"background: #ddd; padding: 0.45em 0.6em; margin: 0 0.25em; line-height: 1; border-radius: 0.35em;\">\n",
       "    FHC16T\n",
       "    <span style=\"font-size: 0.8em; font-weight: bold; line-height: 1; border-radius: 0.35em; vertical-align: middle; margin-left: 0.5rem\">STRAIN</span>\n",
       "</mark>\n",
       " (=\n",
       "<mark class=\"entity\" style=\"background: #ddd; padding: 0.45em 0.6em; margin: 0 0.25em; line-height: 1; border-radius: 0.35em;\">\n",
       "    LMG 27420T\n",
       "    <span style=\"font-size: 0.8em; font-weight: bold; line-height: 1; border-radius: 0.35em; vertical-align: middle; margin-left: 0.5rem\">STRAIN</span>\n",
       "</mark>\n",
       "=\n",
       "<mark class=\"entity\" style=\"background: #ddd; padding: 0.45em 0.6em; margin: 0 0.25em; line-height: 1; border-radius: 0.35em;\">\n",
       "    MCCC 1A06648T\n",
       "    <span style=\"font-size: 0.8em; font-weight: bold; line-height: 1; border-radius: 0.35em; vertical-align: middle; margin-left: 0.5rem\">STRAIN</span>\n",
       "</mark>\n",
       ").</div></span>"
      ],
      "text/plain": [
       "<IPython.core.display.HTML object>"
      ]
     },
     "metadata": {},
     "output_type": "display_data"
    },
    {
     "name": "stdout",
     "output_type": "stream",
     "text": [
      "strain names ['FHC16T', 'LMG 27420T', 'MCCC 1A06648T']\n",
      "BREAK2\n",
      "Outer div ID: s11-4, Text: Description of Neotamlana laminarinivorans comb. nov.\n",
      "orgname []\n",
      "accessions []\n",
      "The type strain is PT2-4T (=KCTC 92183T=MCCC 1K04427T).\n"
     ]
    },
    {
     "data": {
      "text/html": [
       "<span class=\"tex2jax_ignore\"><div class=\"entities\" style=\"line-height: 2.5; direction: ltr\">The type strain is \n",
       "<mark class=\"entity\" style=\"background: #ddd; padding: 0.45em 0.6em; margin: 0 0.25em; line-height: 1; border-radius: 0.35em;\">\n",
       "    PT2-4T\n",
       "    <span style=\"font-size: 0.8em; font-weight: bold; line-height: 1; border-radius: 0.35em; vertical-align: middle; margin-left: 0.5rem\">STRAIN</span>\n",
       "</mark>\n",
       " (=\n",
       "<mark class=\"entity\" style=\"background: #ddd; padding: 0.45em 0.6em; margin: 0 0.25em; line-height: 1; border-radius: 0.35em;\">\n",
       "    KCTC 92183T\n",
       "    <span style=\"font-size: 0.8em; font-weight: bold; line-height: 1; border-radius: 0.35em; vertical-align: middle; margin-left: 0.5rem\">STRAIN</span>\n",
       "</mark>\n",
       "=\n",
       "<mark class=\"entity\" style=\"background: #ddd; padding: 0.45em 0.6em; margin: 0 0.25em; line-height: 1; border-radius: 0.35em;\">\n",
       "    MCCC 1K04427T\n",
       "    <span style=\"font-size: 0.8em; font-weight: bold; line-height: 1; border-radius: 0.35em; vertical-align: middle; margin-left: 0.5rem\">STRAIN</span>\n",
       "</mark>\n",
       ").</div></span>"
      ],
      "text/plain": [
       "<IPython.core.display.HTML object>"
      ]
     },
     "metadata": {},
     "output_type": "display_data"
    },
    {
     "name": "stdout",
     "output_type": "stream",
     "text": [
      "strain names ['PT2-4T', 'KCTC 92183T', 'MCCC 1K04427T']\n",
      "BREAK2\n",
      "Outer div ID: s11-5, Text: Description of Neotamlana sargassicola comb. nov.\n",
      "orgname []\n",
      "accessions []\n",
      "The type strain is 62-3T (=KCTC 92182T=MCCC 1K04421T).\n"
     ]
    },
    {
     "data": {
      "text/html": [
       "<span class=\"tex2jax_ignore\"><div class=\"entities\" style=\"line-height: 2.5; direction: ltr\">The type strain is \n",
       "<mark class=\"entity\" style=\"background: #ddd; padding: 0.45em 0.6em; margin: 0 0.25em; line-height: 1; border-radius: 0.35em;\">\n",
       "    62-3T\n",
       "    <span style=\"font-size: 0.8em; font-weight: bold; line-height: 1; border-radius: 0.35em; vertical-align: middle; margin-left: 0.5rem\">STRAIN</span>\n",
       "</mark>\n",
       " (=\n",
       "<mark class=\"entity\" style=\"background: #ddd; padding: 0.45em 0.6em; margin: 0 0.25em; line-height: 1; border-radius: 0.35em;\">\n",
       "    KCTC 92182T\n",
       "    <span style=\"font-size: 0.8em; font-weight: bold; line-height: 1; border-radius: 0.35em; vertical-align: middle; margin-left: 0.5rem\">STRAIN</span>\n",
       "</mark>\n",
       "=\n",
       "<mark class=\"entity\" style=\"background: #ddd; padding: 0.45em 0.6em; margin: 0 0.25em; line-height: 1; border-radius: 0.35em;\">\n",
       "    MCCC 1K04421T\n",
       "    <span style=\"font-size: 0.8em; font-weight: bold; line-height: 1; border-radius: 0.35em; vertical-align: middle; margin-left: 0.5rem\">STRAIN</span>\n",
       "</mark>\n",
       ").</div></span>"
      ],
      "text/plain": [
       "<IPython.core.display.HTML object>"
      ]
     },
     "metadata": {},
     "output_type": "display_data"
    },
    {
     "name": "stdout",
     "output_type": "stream",
     "text": [
      "strain names ['62-3T', 'KCTC 92182T', 'MCCC 1K04421T']\n",
      "BREAK2\n",
      "Outer div ID: s11-6, Text: Description of Pseudotamlana agarivorans comb. nov.\n",
      "orgname []\n",
      "accessions []\n",
      "The type strain is JW-26T (=KCTC 22176T=CCUG 55327T).\n"
     ]
    },
    {
     "data": {
      "text/html": [
       "<span class=\"tex2jax_ignore\"><div class=\"entities\" style=\"line-height: 2.5; direction: ltr\">The type strain is \n",
       "<mark class=\"entity\" style=\"background: #ddd; padding: 0.45em 0.6em; margin: 0 0.25em; line-height: 1; border-radius: 0.35em;\">\n",
       "    JW-26T\n",
       "    <span style=\"font-size: 0.8em; font-weight: bold; line-height: 1; border-radius: 0.35em; vertical-align: middle; margin-left: 0.5rem\">STRAIN</span>\n",
       "</mark>\n",
       " (=\n",
       "<mark class=\"entity\" style=\"background: #ddd; padding: 0.45em 0.6em; margin: 0 0.25em; line-height: 1; border-radius: 0.35em;\">\n",
       "    KCTC 22176T\n",
       "    <span style=\"font-size: 0.8em; font-weight: bold; line-height: 1; border-radius: 0.35em; vertical-align: middle; margin-left: 0.5rem\">STRAIN</span>\n",
       "</mark>\n",
       "=\n",
       "<mark class=\"entity\" style=\"background: #ddd; padding: 0.45em 0.6em; margin: 0 0.25em; line-height: 1; border-radius: 0.35em;\">\n",
       "    CCUG 55327T\n",
       "    <span style=\"font-size: 0.8em; font-weight: bold; line-height: 1; border-radius: 0.35em; vertical-align: middle; margin-left: 0.5rem\">STRAIN</span>\n",
       "</mark>\n",
       ").</div></span>"
      ],
      "text/plain": [
       "<IPython.core.display.HTML object>"
      ]
     },
     "metadata": {},
     "output_type": "display_data"
    },
    {
     "name": "stdout",
     "output_type": "stream",
     "text": [
      "strain names ['JW-26T', 'KCTC 22176T', 'CCUG 55327T']\n",
      "BREAK2\n",
      "Outer div ID: s11-7, Text: Description of Pseudotamlana carrageenivorans comb. nov.\n",
      "orgname []\n",
      "accessions []\n",
      "The type strain is UJ94T (=\n"
     ]
    },
    {
     "data": {
      "text/html": [
       "<span class=\"tex2jax_ignore\"><div class=\"entities\" style=\"line-height: 2.5; direction: ltr\">The type strain is \n",
       "<mark class=\"entity\" style=\"background: #ddd; padding: 0.45em 0.6em; margin: 0 0.25em; line-height: 1; border-radius: 0.35em;\">\n",
       "    UJ94T\n",
       "    <span style=\"font-size: 0.8em; font-weight: bold; line-height: 1; border-radius: 0.35em; vertical-align: middle; margin-left: 0.5rem\">STRAIN</span>\n",
       "</mark>\n",
       " (=</div></span>"
      ],
      "text/plain": [
       "<IPython.core.display.HTML object>"
      ]
     },
     "metadata": {},
     "output_type": "display_data"
    },
    {
     "name": "stdout",
     "output_type": "stream",
     "text": [
      "strain names ['UJ94T']\n",
      "BREAK2\n",
      "Outer div ID: s11-8, Text: Description of Pseudotamlana haliotis comb. nov.\n",
      "orgname []\n",
      "accessions []\n",
      "The type strain is B1N29T (=KCTC 72683T=MCCC 1H00394T).\n"
     ]
    },
    {
     "data": {
      "text/html": [
       "<span class=\"tex2jax_ignore\"><div class=\"entities\" style=\"line-height: 2.5; direction: ltr\">The type strain is \n",
       "<mark class=\"entity\" style=\"background: #ddd; padding: 0.45em 0.6em; margin: 0 0.25em; line-height: 1; border-radius: 0.35em;\">\n",
       "    B1N29T\n",
       "    <span style=\"font-size: 0.8em; font-weight: bold; line-height: 1; border-radius: 0.35em; vertical-align: middle; margin-left: 0.5rem\">STRAIN</span>\n",
       "</mark>\n",
       " (=\n",
       "<mark class=\"entity\" style=\"background: #ddd; padding: 0.45em 0.6em; margin: 0 0.25em; line-height: 1; border-radius: 0.35em;\">\n",
       "    KCTC 72683T\n",
       "    <span style=\"font-size: 0.8em; font-weight: bold; line-height: 1; border-radius: 0.35em; vertical-align: middle; margin-left: 0.5rem\">STRAIN</span>\n",
       "</mark>\n",
       "=\n",
       "<mark class=\"entity\" style=\"background: #ddd; padding: 0.45em 0.6em; margin: 0 0.25em; line-height: 1; border-radius: 0.35em;\">\n",
       "    MCCC 1H00394T\n",
       "    <span style=\"font-size: 0.8em; font-weight: bold; line-height: 1; border-radius: 0.35em; vertical-align: middle; margin-left: 0.5rem\">STRAIN</span>\n",
       "</mark>\n",
       ").</div></span>"
      ],
      "text/plain": [
       "<IPython.core.display.HTML object>"
      ]
     },
     "metadata": {},
     "output_type": "display_data"
    },
    {
     "name": "stdout",
     "output_type": "stream",
     "text": [
      "strain names ['B1N29T', 'KCTC 72683T', 'MCCC 1H00394T']\n",
      "BREAK2\n",
      "Outer div ID: s10-1, Text: Description of Allotamlana gen. nov.\n",
      "orgname []\n",
      "accessions []\n",
      "strain names []\n",
      "BREAK2\n",
      "Outer div ID: s10-2, Text: Description of Cognatitamlana gen. nov.\n",
      "orgname []\n",
      "accessions []\n",
      "strain names []\n",
      "BREAK2\n",
      "Outer div ID: s10-3, Text: Description of Neotamlana gen. nov.\n",
      "orgname []\n",
      "accessions []\n",
      "strain names []\n",
      "BREAK2\n",
      "Outer div ID: s10-4, Text: Description of Pseudotamlana gen. nov.\n",
      "orgname []\n",
      "accessions []\n",
      "strain names []\n",
      "BREAK2\n",
      "Outer div ID: s11-1, Text: Description of Allotamlana fucoidanivorans comb. nov.\n",
      "orgname []\n",
      "accessions []\n",
      "The type strain is CW2-9T (=CICC 24749T\n"
     ]
    },
    {
     "data": {
      "text/html": [
       "<span class=\"tex2jax_ignore\"><div class=\"entities\" style=\"line-height: 2.5; direction: ltr\">The type strain is \n",
       "<mark class=\"entity\" style=\"background: #ddd; padding: 0.45em 0.6em; margin: 0 0.25em; line-height: 1; border-radius: 0.35em;\">\n",
       "    CW2-9T\n",
       "    <span style=\"font-size: 0.8em; font-weight: bold; line-height: 1; border-radius: 0.35em; vertical-align: middle; margin-left: 0.5rem\">STRAIN</span>\n",
       "</mark>\n",
       " (=\n",
       "<mark class=\"entity\" style=\"background: #ddd; padding: 0.45em 0.6em; margin: 0 0.25em; line-height: 1; border-radius: 0.35em;\">\n",
       "    CICC 24749T\n",
       "    <span style=\"font-size: 0.8em; font-weight: bold; line-height: 1; border-radius: 0.35em; vertical-align: middle; margin-left: 0.5rem\">STRAIN</span>\n",
       "</mark>\n",
       "</div></span>"
      ],
      "text/plain": [
       "<IPython.core.display.HTML object>"
      ]
     },
     "metadata": {},
     "output_type": "display_data"
    },
    {
     "name": "stdout",
     "output_type": "stream",
     "text": [
      "n. onchidii, of Onchidium pertaining to the marine invertebrate Onchidium species from which the type strain was isolated)\n",
      "Basonym:\n"
     ]
    },
    {
     "name": "stderr",
     "output_type": "stream",
     "text": [
      "/home/mcveigh/jup/lib/python3.9/site-packages/spacy/displacy/__init__.py:213: UserWarning: [W006] No entities to visualize found in Doc object. If this is surprising to you, make sure the Doc was processed using a model that supports named entity recognition, and check the `doc.ents` property manually if necessary.\n",
      "  warnings.warn(Warnings.W006)\n"
     ]
    },
    {
     "data": {
      "text/html": [
       "<span class=\"tex2jax_ignore\"><div class=\"entities\" style=\"line-height: 2.5; direction: ltr\">n. onchidii, of Onchidium pertaining to the marine invertebrate Onchidium species from which the type strain was isolated)<br>Basonym:</div></span>"
      ],
      "text/plain": [
       "<IPython.core.display.HTML object>"
      ]
     },
     "metadata": {},
     "output_type": "display_data"
    },
    {
     "name": "stdout",
     "output_type": "stream",
     "text": [
      "The type strain is XY-114T (=KCTC 72217T=MCCC 1K03606T).\n"
     ]
    },
    {
     "data": {
      "text/html": [
       "<span class=\"tex2jax_ignore\"><div class=\"entities\" style=\"line-height: 2.5; direction: ltr\">The type strain is \n",
       "<mark class=\"entity\" style=\"background: #ddd; padding: 0.45em 0.6em; margin: 0 0.25em; line-height: 1; border-radius: 0.35em;\">\n",
       "    XY-114T\n",
       "    <span style=\"font-size: 0.8em; font-weight: bold; line-height: 1; border-radius: 0.35em; vertical-align: middle; margin-left: 0.5rem\">STRAIN</span>\n",
       "</mark>\n",
       " (=\n",
       "<mark class=\"entity\" style=\"background: #ddd; padding: 0.45em 0.6em; margin: 0 0.25em; line-height: 1; border-radius: 0.35em;\">\n",
       "    KCTC 72217T\n",
       "    <span style=\"font-size: 0.8em; font-weight: bold; line-height: 1; border-radius: 0.35em; vertical-align: middle; margin-left: 0.5rem\">STRAIN</span>\n",
       "</mark>\n",
       "=\n",
       "<mark class=\"entity\" style=\"background: #ddd; padding: 0.45em 0.6em; margin: 0 0.25em; line-height: 1; border-radius: 0.35em;\">\n",
       "    MCCC 1K03606T\n",
       "    <span style=\"font-size: 0.8em; font-weight: bold; line-height: 1; border-radius: 0.35em; vertical-align: middle; margin-left: 0.5rem\">STRAIN</span>\n",
       "</mark>\n",
       ").</div></span>"
      ],
      "text/plain": [
       "<IPython.core.display.HTML object>"
      ]
     },
     "metadata": {},
     "output_type": "display_data"
    },
    {
     "name": "stdout",
     "output_type": "stream",
     "text": [
      "strain names ['CW2-9T', 'CICC 24749T', 'XY-114T', 'KCTC 72217T', 'MCCC 1K03606T']\n",
      "BREAK2\n",
      "Outer div ID: s11-2, Text: Description of Neotamlana sedimentorum comb. nov.\n",
      "orgname []\n",
      "accessions []\n",
      "The type strain is KMM 9545T (=\n"
     ]
    },
    {
     "data": {
      "text/html": [
       "<span class=\"tex2jax_ignore\"><div class=\"entities\" style=\"line-height: 2.5; direction: ltr\">The type strain is \n",
       "<mark class=\"entity\" style=\"background: #ddd; padding: 0.45em 0.6em; margin: 0 0.25em; line-height: 1; border-radius: 0.35em;\">\n",
       "    KMM 9545T\n",
       "    <span style=\"font-size: 0.8em; font-weight: bold; line-height: 1; border-radius: 0.35em; vertical-align: middle; margin-left: 0.5rem\">STRAIN</span>\n",
       "</mark>\n",
       " (=</div></span>"
      ],
      "text/plain": [
       "<IPython.core.display.HTML object>"
      ]
     },
     "metadata": {},
     "output_type": "display_data"
    },
    {
     "name": "stdout",
     "output_type": "stream",
     "text": [
      "strain names ['KMM 9545T']\n",
      "BREAK2\n",
      "Outer div ID: s11-3, Text: Description of Neotamlana nanhaiensis comb. nov.\n",
      "orgname []\n",
      "accessions []\n",
      "adj. nanhaiensis, referring to Nanhai, the South China Sea, the site from where the type strain was isolated)\n",
      "Basonym:\n"
     ]
    },
    {
     "name": "stderr",
     "output_type": "stream",
     "text": [
      "/home/mcveigh/jup/lib/python3.9/site-packages/spacy/displacy/__init__.py:213: UserWarning: [W006] No entities to visualize found in Doc object. If this is surprising to you, make sure the Doc was processed using a model that supports named entity recognition, and check the `doc.ents` property manually if necessary.\n",
      "  warnings.warn(Warnings.W006)\n"
     ]
    },
    {
     "data": {
      "text/html": [
       "<span class=\"tex2jax_ignore\"><div class=\"entities\" style=\"line-height: 2.5; direction: ltr\">adj. nanhaiensis, referring to Nanhai, the South China Sea, the site from where the type strain was isolated)<br>Basonym:</div></span>"
      ],
      "text/plain": [
       "<IPython.core.display.HTML object>"
      ]
     },
     "metadata": {},
     "output_type": "display_data"
    },
    {
     "name": "stdout",
     "output_type": "stream",
     "text": [
      "The type strain is FHC16T (=LMG 27420T=MCCC 1A06648T).\n"
     ]
    },
    {
     "data": {
      "text/html": [
       "<span class=\"tex2jax_ignore\"><div class=\"entities\" style=\"line-height: 2.5; direction: ltr\">The type strain is \n",
       "<mark class=\"entity\" style=\"background: #ddd; padding: 0.45em 0.6em; margin: 0 0.25em; line-height: 1; border-radius: 0.35em;\">\n",
       "    FHC16T\n",
       "    <span style=\"font-size: 0.8em; font-weight: bold; line-height: 1; border-radius: 0.35em; vertical-align: middle; margin-left: 0.5rem\">STRAIN</span>\n",
       "</mark>\n",
       " (=\n",
       "<mark class=\"entity\" style=\"background: #ddd; padding: 0.45em 0.6em; margin: 0 0.25em; line-height: 1; border-radius: 0.35em;\">\n",
       "    LMG 27420T\n",
       "    <span style=\"font-size: 0.8em; font-weight: bold; line-height: 1; border-radius: 0.35em; vertical-align: middle; margin-left: 0.5rem\">STRAIN</span>\n",
       "</mark>\n",
       "=\n",
       "<mark class=\"entity\" style=\"background: #ddd; padding: 0.45em 0.6em; margin: 0 0.25em; line-height: 1; border-radius: 0.35em;\">\n",
       "    MCCC 1A06648T\n",
       "    <span style=\"font-size: 0.8em; font-weight: bold; line-height: 1; border-radius: 0.35em; vertical-align: middle; margin-left: 0.5rem\">STRAIN</span>\n",
       "</mark>\n",
       ").</div></span>"
      ],
      "text/plain": [
       "<IPython.core.display.HTML object>"
      ]
     },
     "metadata": {},
     "output_type": "display_data"
    },
    {
     "name": "stdout",
     "output_type": "stream",
     "text": [
      "strain names ['FHC16T', 'LMG 27420T', 'MCCC 1A06648T']\n",
      "BREAK2\n",
      "Outer div ID: s11-4, Text: Description of Neotamlana laminarinivorans comb. nov.\n",
      "orgname []\n",
      "accessions []\n",
      "The type strain is PT2-4T (=KCTC 92183T=MCCC 1K04427T).\n"
     ]
    },
    {
     "data": {
      "text/html": [
       "<span class=\"tex2jax_ignore\"><div class=\"entities\" style=\"line-height: 2.5; direction: ltr\">The type strain is \n",
       "<mark class=\"entity\" style=\"background: #ddd; padding: 0.45em 0.6em; margin: 0 0.25em; line-height: 1; border-radius: 0.35em;\">\n",
       "    PT2-4T\n",
       "    <span style=\"font-size: 0.8em; font-weight: bold; line-height: 1; border-radius: 0.35em; vertical-align: middle; margin-left: 0.5rem\">STRAIN</span>\n",
       "</mark>\n",
       " (=\n",
       "<mark class=\"entity\" style=\"background: #ddd; padding: 0.45em 0.6em; margin: 0 0.25em; line-height: 1; border-radius: 0.35em;\">\n",
       "    KCTC 92183T\n",
       "    <span style=\"font-size: 0.8em; font-weight: bold; line-height: 1; border-radius: 0.35em; vertical-align: middle; margin-left: 0.5rem\">STRAIN</span>\n",
       "</mark>\n",
       "=\n",
       "<mark class=\"entity\" style=\"background: #ddd; padding: 0.45em 0.6em; margin: 0 0.25em; line-height: 1; border-radius: 0.35em;\">\n",
       "    MCCC 1K04427T\n",
       "    <span style=\"font-size: 0.8em; font-weight: bold; line-height: 1; border-radius: 0.35em; vertical-align: middle; margin-left: 0.5rem\">STRAIN</span>\n",
       "</mark>\n",
       ").</div></span>"
      ],
      "text/plain": [
       "<IPython.core.display.HTML object>"
      ]
     },
     "metadata": {},
     "output_type": "display_data"
    },
    {
     "name": "stdout",
     "output_type": "stream",
     "text": [
      "strain names ['PT2-4T', 'KCTC 92183T', 'MCCC 1K04427T']\n",
      "BREAK2\n",
      "Outer div ID: s11-5, Text: Description of Neotamlana sargassicola comb. nov.\n",
      "orgname []\n",
      "accessions []\n",
      "The type strain is 62-3T (=KCTC 92182T=MCCC 1K04421T).\n"
     ]
    },
    {
     "data": {
      "text/html": [
       "<span class=\"tex2jax_ignore\"><div class=\"entities\" style=\"line-height: 2.5; direction: ltr\">The type strain is \n",
       "<mark class=\"entity\" style=\"background: #ddd; padding: 0.45em 0.6em; margin: 0 0.25em; line-height: 1; border-radius: 0.35em;\">\n",
       "    62-3T\n",
       "    <span style=\"font-size: 0.8em; font-weight: bold; line-height: 1; border-radius: 0.35em; vertical-align: middle; margin-left: 0.5rem\">STRAIN</span>\n",
       "</mark>\n",
       " (=\n",
       "<mark class=\"entity\" style=\"background: #ddd; padding: 0.45em 0.6em; margin: 0 0.25em; line-height: 1; border-radius: 0.35em;\">\n",
       "    KCTC 92182T\n",
       "    <span style=\"font-size: 0.8em; font-weight: bold; line-height: 1; border-radius: 0.35em; vertical-align: middle; margin-left: 0.5rem\">STRAIN</span>\n",
       "</mark>\n",
       "=\n",
       "<mark class=\"entity\" style=\"background: #ddd; padding: 0.45em 0.6em; margin: 0 0.25em; line-height: 1; border-radius: 0.35em;\">\n",
       "    MCCC 1K04421T\n",
       "    <span style=\"font-size: 0.8em; font-weight: bold; line-height: 1; border-radius: 0.35em; vertical-align: middle; margin-left: 0.5rem\">STRAIN</span>\n",
       "</mark>\n",
       ").</div></span>"
      ],
      "text/plain": [
       "<IPython.core.display.HTML object>"
      ]
     },
     "metadata": {},
     "output_type": "display_data"
    },
    {
     "name": "stdout",
     "output_type": "stream",
     "text": [
      "strain names ['62-3T', 'KCTC 92182T', 'MCCC 1K04421T']\n",
      "BREAK2\n",
      "Outer div ID: s11-6, Text: Description of Pseudotamlana agarivorans comb. nov.\n",
      "orgname []\n",
      "accessions []\n",
      "The type strain is JW-26T (=KCTC 22176T=CCUG 55327T).\n"
     ]
    },
    {
     "data": {
      "text/html": [
       "<span class=\"tex2jax_ignore\"><div class=\"entities\" style=\"line-height: 2.5; direction: ltr\">The type strain is \n",
       "<mark class=\"entity\" style=\"background: #ddd; padding: 0.45em 0.6em; margin: 0 0.25em; line-height: 1; border-radius: 0.35em;\">\n",
       "    JW-26T\n",
       "    <span style=\"font-size: 0.8em; font-weight: bold; line-height: 1; border-radius: 0.35em; vertical-align: middle; margin-left: 0.5rem\">STRAIN</span>\n",
       "</mark>\n",
       " (=\n",
       "<mark class=\"entity\" style=\"background: #ddd; padding: 0.45em 0.6em; margin: 0 0.25em; line-height: 1; border-radius: 0.35em;\">\n",
       "    KCTC 22176T\n",
       "    <span style=\"font-size: 0.8em; font-weight: bold; line-height: 1; border-radius: 0.35em; vertical-align: middle; margin-left: 0.5rem\">STRAIN</span>\n",
       "</mark>\n",
       "=\n",
       "<mark class=\"entity\" style=\"background: #ddd; padding: 0.45em 0.6em; margin: 0 0.25em; line-height: 1; border-radius: 0.35em;\">\n",
       "    CCUG 55327T\n",
       "    <span style=\"font-size: 0.8em; font-weight: bold; line-height: 1; border-radius: 0.35em; vertical-align: middle; margin-left: 0.5rem\">STRAIN</span>\n",
       "</mark>\n",
       ").</div></span>"
      ],
      "text/plain": [
       "<IPython.core.display.HTML object>"
      ]
     },
     "metadata": {},
     "output_type": "display_data"
    },
    {
     "name": "stdout",
     "output_type": "stream",
     "text": [
      "strain names ['JW-26T', 'KCTC 22176T', 'CCUG 55327T']\n",
      "BREAK2\n",
      "Outer div ID: s11-7, Text: Description of Pseudotamlana carrageenivorans comb. nov.\n",
      "orgname []\n",
      "accessions []\n",
      "The type strain is UJ94T (=\n"
     ]
    },
    {
     "data": {
      "text/html": [
       "<span class=\"tex2jax_ignore\"><div class=\"entities\" style=\"line-height: 2.5; direction: ltr\">The type strain is \n",
       "<mark class=\"entity\" style=\"background: #ddd; padding: 0.45em 0.6em; margin: 0 0.25em; line-height: 1; border-radius: 0.35em;\">\n",
       "    UJ94T\n",
       "    <span style=\"font-size: 0.8em; font-weight: bold; line-height: 1; border-radius: 0.35em; vertical-align: middle; margin-left: 0.5rem\">STRAIN</span>\n",
       "</mark>\n",
       " (=</div></span>"
      ],
      "text/plain": [
       "<IPython.core.display.HTML object>"
      ]
     },
     "metadata": {},
     "output_type": "display_data"
    },
    {
     "name": "stdout",
     "output_type": "stream",
     "text": [
      "strain names ['UJ94T']\n",
      "BREAK2\n",
      "Outer div ID: s11-8, Text: Description of Pseudotamlana haliotis comb. nov.\n",
      "orgname []\n",
      "accessions []\n",
      "The type strain is B1N29T (=KCTC 72683T=MCCC 1H00394T).\n"
     ]
    },
    {
     "data": {
      "text/html": [
       "<span class=\"tex2jax_ignore\"><div class=\"entities\" style=\"line-height: 2.5; direction: ltr\">The type strain is \n",
       "<mark class=\"entity\" style=\"background: #ddd; padding: 0.45em 0.6em; margin: 0 0.25em; line-height: 1; border-radius: 0.35em;\">\n",
       "    B1N29T\n",
       "    <span style=\"font-size: 0.8em; font-weight: bold; line-height: 1; border-radius: 0.35em; vertical-align: middle; margin-left: 0.5rem\">STRAIN</span>\n",
       "</mark>\n",
       " (=\n",
       "<mark class=\"entity\" style=\"background: #ddd; padding: 0.45em 0.6em; margin: 0 0.25em; line-height: 1; border-radius: 0.35em;\">\n",
       "    KCTC 72683T\n",
       "    <span style=\"font-size: 0.8em; font-weight: bold; line-height: 1; border-radius: 0.35em; vertical-align: middle; margin-left: 0.5rem\">STRAIN</span>\n",
       "</mark>\n",
       "=\n",
       "<mark class=\"entity\" style=\"background: #ddd; padding: 0.45em 0.6em; margin: 0 0.25em; line-height: 1; border-radius: 0.35em;\">\n",
       "    MCCC 1H00394T\n",
       "    <span style=\"font-size: 0.8em; font-weight: bold; line-height: 1; border-radius: 0.35em; vertical-align: middle; margin-left: 0.5rem\">STRAIN</span>\n",
       "</mark>\n",
       ").</div></span>"
      ],
      "text/plain": [
       "<IPython.core.display.HTML object>"
      ]
     },
     "metadata": {},
     "output_type": "display_data"
    },
    {
     "name": "stdout",
     "output_type": "stream",
     "text": [
      "strain names ['B1N29T', 'KCTC 72683T', 'MCCC 1H00394T']\n",
      "BREAK2\n",
      "Outer div ID: s10-1, Text: Description of Allotamlana gen. nov.\n",
      "orgname []\n",
      "accessions []\n",
      "strain names []\n",
      "BREAK2\n",
      "Outer div ID: s10-2, Text: Description of Cognatitamlana gen. nov.\n",
      "orgname []\n",
      "accessions []\n",
      "strain names []\n",
      "BREAK2\n",
      "Outer div ID: s10-3, Text: Description of Neotamlana gen. nov.\n",
      "orgname []\n",
      "accessions []\n",
      "strain names []\n",
      "BREAK2\n",
      "Outer div ID: s10-4, Text: Description of Pseudotamlana gen. nov.\n",
      "orgname []\n",
      "accessions []\n",
      "strain names []\n",
      "BREAK2\n",
      "Outer div ID: s11-1, Text: Description of Allotamlana fucoidanivorans comb. nov.\n",
      "orgname []\n",
      "accessions []\n",
      "The type strain is CW2-9T (=CICC 24749T\n"
     ]
    },
    {
     "data": {
      "text/html": [
       "<span class=\"tex2jax_ignore\"><div class=\"entities\" style=\"line-height: 2.5; direction: ltr\">The type strain is \n",
       "<mark class=\"entity\" style=\"background: #ddd; padding: 0.45em 0.6em; margin: 0 0.25em; line-height: 1; border-radius: 0.35em;\">\n",
       "    CW2-9T\n",
       "    <span style=\"font-size: 0.8em; font-weight: bold; line-height: 1; border-radius: 0.35em; vertical-align: middle; margin-left: 0.5rem\">STRAIN</span>\n",
       "</mark>\n",
       " (=\n",
       "<mark class=\"entity\" style=\"background: #ddd; padding: 0.45em 0.6em; margin: 0 0.25em; line-height: 1; border-radius: 0.35em;\">\n",
       "    CICC 24749T\n",
       "    <span style=\"font-size: 0.8em; font-weight: bold; line-height: 1; border-radius: 0.35em; vertical-align: middle; margin-left: 0.5rem\">STRAIN</span>\n",
       "</mark>\n",
       "</div></span>"
      ],
      "text/plain": [
       "<IPython.core.display.HTML object>"
      ]
     },
     "metadata": {},
     "output_type": "display_data"
    },
    {
     "name": "stdout",
     "output_type": "stream",
     "text": [
      "n. onchidii, of Onchidium pertaining to the marine invertebrate Onchidium species from which the type strain was isolated)\n",
      "Basonym:\n"
     ]
    },
    {
     "name": "stderr",
     "output_type": "stream",
     "text": [
      "/home/mcveigh/jup/lib/python3.9/site-packages/spacy/displacy/__init__.py:213: UserWarning: [W006] No entities to visualize found in Doc object. If this is surprising to you, make sure the Doc was processed using a model that supports named entity recognition, and check the `doc.ents` property manually if necessary.\n",
      "  warnings.warn(Warnings.W006)\n"
     ]
    },
    {
     "data": {
      "text/html": [
       "<span class=\"tex2jax_ignore\"><div class=\"entities\" style=\"line-height: 2.5; direction: ltr\">n. onchidii, of Onchidium pertaining to the marine invertebrate Onchidium species from which the type strain was isolated)<br>Basonym:</div></span>"
      ],
      "text/plain": [
       "<IPython.core.display.HTML object>"
      ]
     },
     "metadata": {},
     "output_type": "display_data"
    },
    {
     "name": "stdout",
     "output_type": "stream",
     "text": [
      "The type strain is XY-114T (=KCTC 72217T=MCCC 1K03606T).\n"
     ]
    },
    {
     "data": {
      "text/html": [
       "<span class=\"tex2jax_ignore\"><div class=\"entities\" style=\"line-height: 2.5; direction: ltr\">The type strain is \n",
       "<mark class=\"entity\" style=\"background: #ddd; padding: 0.45em 0.6em; margin: 0 0.25em; line-height: 1; border-radius: 0.35em;\">\n",
       "    XY-114T\n",
       "    <span style=\"font-size: 0.8em; font-weight: bold; line-height: 1; border-radius: 0.35em; vertical-align: middle; margin-left: 0.5rem\">STRAIN</span>\n",
       "</mark>\n",
       " (=\n",
       "<mark class=\"entity\" style=\"background: #ddd; padding: 0.45em 0.6em; margin: 0 0.25em; line-height: 1; border-radius: 0.35em;\">\n",
       "    KCTC 72217T\n",
       "    <span style=\"font-size: 0.8em; font-weight: bold; line-height: 1; border-radius: 0.35em; vertical-align: middle; margin-left: 0.5rem\">STRAIN</span>\n",
       "</mark>\n",
       "=\n",
       "<mark class=\"entity\" style=\"background: #ddd; padding: 0.45em 0.6em; margin: 0 0.25em; line-height: 1; border-radius: 0.35em;\">\n",
       "    MCCC 1K03606T\n",
       "    <span style=\"font-size: 0.8em; font-weight: bold; line-height: 1; border-radius: 0.35em; vertical-align: middle; margin-left: 0.5rem\">STRAIN</span>\n",
       "</mark>\n",
       ").</div></span>"
      ],
      "text/plain": [
       "<IPython.core.display.HTML object>"
      ]
     },
     "metadata": {},
     "output_type": "display_data"
    },
    {
     "name": "stdout",
     "output_type": "stream",
     "text": [
      "strain names ['CW2-9T', 'CICC 24749T', 'XY-114T', 'KCTC 72217T', 'MCCC 1K03606T']\n",
      "BREAK2\n",
      "Outer div ID: s11-2, Text: Description of Neotamlana sedimentorum comb. nov.\n",
      "orgname []\n",
      "accessions []\n",
      "The type strain is KMM 9545T (=\n"
     ]
    },
    {
     "data": {
      "text/html": [
       "<span class=\"tex2jax_ignore\"><div class=\"entities\" style=\"line-height: 2.5; direction: ltr\">The type strain is \n",
       "<mark class=\"entity\" style=\"background: #ddd; padding: 0.45em 0.6em; margin: 0 0.25em; line-height: 1; border-radius: 0.35em;\">\n",
       "    KMM 9545T\n",
       "    <span style=\"font-size: 0.8em; font-weight: bold; line-height: 1; border-radius: 0.35em; vertical-align: middle; margin-left: 0.5rem\">STRAIN</span>\n",
       "</mark>\n",
       " (=</div></span>"
      ],
      "text/plain": [
       "<IPython.core.display.HTML object>"
      ]
     },
     "metadata": {},
     "output_type": "display_data"
    },
    {
     "name": "stdout",
     "output_type": "stream",
     "text": [
      "strain names ['KMM 9545T']\n",
      "BREAK2\n",
      "Outer div ID: s11-3, Text: Description of Neotamlana nanhaiensis comb. nov.\n",
      "orgname []\n",
      "accessions []\n",
      "adj. nanhaiensis, referring to Nanhai, the South China Sea, the site from where the type strain was isolated)\n",
      "Basonym:\n"
     ]
    },
    {
     "name": "stderr",
     "output_type": "stream",
     "text": [
      "/home/mcveigh/jup/lib/python3.9/site-packages/spacy/displacy/__init__.py:213: UserWarning: [W006] No entities to visualize found in Doc object. If this is surprising to you, make sure the Doc was processed using a model that supports named entity recognition, and check the `doc.ents` property manually if necessary.\n",
      "  warnings.warn(Warnings.W006)\n"
     ]
    },
    {
     "data": {
      "text/html": [
       "<span class=\"tex2jax_ignore\"><div class=\"entities\" style=\"line-height: 2.5; direction: ltr\">adj. nanhaiensis, referring to Nanhai, the South China Sea, the site from where the type strain was isolated)<br>Basonym:</div></span>"
      ],
      "text/plain": [
       "<IPython.core.display.HTML object>"
      ]
     },
     "metadata": {},
     "output_type": "display_data"
    },
    {
     "name": "stdout",
     "output_type": "stream",
     "text": [
      "The type strain is FHC16T (=LMG 27420T=MCCC 1A06648T).\n"
     ]
    },
    {
     "data": {
      "text/html": [
       "<span class=\"tex2jax_ignore\"><div class=\"entities\" style=\"line-height: 2.5; direction: ltr\">The type strain is \n",
       "<mark class=\"entity\" style=\"background: #ddd; padding: 0.45em 0.6em; margin: 0 0.25em; line-height: 1; border-radius: 0.35em;\">\n",
       "    FHC16T\n",
       "    <span style=\"font-size: 0.8em; font-weight: bold; line-height: 1; border-radius: 0.35em; vertical-align: middle; margin-left: 0.5rem\">STRAIN</span>\n",
       "</mark>\n",
       " (=\n",
       "<mark class=\"entity\" style=\"background: #ddd; padding: 0.45em 0.6em; margin: 0 0.25em; line-height: 1; border-radius: 0.35em;\">\n",
       "    LMG 27420T\n",
       "    <span style=\"font-size: 0.8em; font-weight: bold; line-height: 1; border-radius: 0.35em; vertical-align: middle; margin-left: 0.5rem\">STRAIN</span>\n",
       "</mark>\n",
       "=\n",
       "<mark class=\"entity\" style=\"background: #ddd; padding: 0.45em 0.6em; margin: 0 0.25em; line-height: 1; border-radius: 0.35em;\">\n",
       "    MCCC 1A06648T\n",
       "    <span style=\"font-size: 0.8em; font-weight: bold; line-height: 1; border-radius: 0.35em; vertical-align: middle; margin-left: 0.5rem\">STRAIN</span>\n",
       "</mark>\n",
       ").</div></span>"
      ],
      "text/plain": [
       "<IPython.core.display.HTML object>"
      ]
     },
     "metadata": {},
     "output_type": "display_data"
    },
    {
     "name": "stdout",
     "output_type": "stream",
     "text": [
      "strain names ['FHC16T', 'LMG 27420T', 'MCCC 1A06648T']\n",
      "BREAK2\n",
      "Outer div ID: s11-4, Text: Description of Neotamlana laminarinivorans comb. nov.\n",
      "orgname []\n",
      "accessions []\n",
      "The type strain is PT2-4T (=KCTC 92183T=MCCC 1K04427T).\n"
     ]
    },
    {
     "data": {
      "text/html": [
       "<span class=\"tex2jax_ignore\"><div class=\"entities\" style=\"line-height: 2.5; direction: ltr\">The type strain is \n",
       "<mark class=\"entity\" style=\"background: #ddd; padding: 0.45em 0.6em; margin: 0 0.25em; line-height: 1; border-radius: 0.35em;\">\n",
       "    PT2-4T\n",
       "    <span style=\"font-size: 0.8em; font-weight: bold; line-height: 1; border-radius: 0.35em; vertical-align: middle; margin-left: 0.5rem\">STRAIN</span>\n",
       "</mark>\n",
       " (=\n",
       "<mark class=\"entity\" style=\"background: #ddd; padding: 0.45em 0.6em; margin: 0 0.25em; line-height: 1; border-radius: 0.35em;\">\n",
       "    KCTC 92183T\n",
       "    <span style=\"font-size: 0.8em; font-weight: bold; line-height: 1; border-radius: 0.35em; vertical-align: middle; margin-left: 0.5rem\">STRAIN</span>\n",
       "</mark>\n",
       "=\n",
       "<mark class=\"entity\" style=\"background: #ddd; padding: 0.45em 0.6em; margin: 0 0.25em; line-height: 1; border-radius: 0.35em;\">\n",
       "    MCCC 1K04427T\n",
       "    <span style=\"font-size: 0.8em; font-weight: bold; line-height: 1; border-radius: 0.35em; vertical-align: middle; margin-left: 0.5rem\">STRAIN</span>\n",
       "</mark>\n",
       ").</div></span>"
      ],
      "text/plain": [
       "<IPython.core.display.HTML object>"
      ]
     },
     "metadata": {},
     "output_type": "display_data"
    },
    {
     "name": "stdout",
     "output_type": "stream",
     "text": [
      "strain names ['PT2-4T', 'KCTC 92183T', 'MCCC 1K04427T']\n",
      "BREAK2\n",
      "Outer div ID: s11-5, Text: Description of Neotamlana sargassicola comb. nov.\n",
      "orgname []\n",
      "accessions []\n",
      "The type strain is 62-3T (=KCTC 92182T=MCCC 1K04421T).\n"
     ]
    },
    {
     "data": {
      "text/html": [
       "<span class=\"tex2jax_ignore\"><div class=\"entities\" style=\"line-height: 2.5; direction: ltr\">The type strain is \n",
       "<mark class=\"entity\" style=\"background: #ddd; padding: 0.45em 0.6em; margin: 0 0.25em; line-height: 1; border-radius: 0.35em;\">\n",
       "    62-3T\n",
       "    <span style=\"font-size: 0.8em; font-weight: bold; line-height: 1; border-radius: 0.35em; vertical-align: middle; margin-left: 0.5rem\">STRAIN</span>\n",
       "</mark>\n",
       " (=\n",
       "<mark class=\"entity\" style=\"background: #ddd; padding: 0.45em 0.6em; margin: 0 0.25em; line-height: 1; border-radius: 0.35em;\">\n",
       "    KCTC 92182T\n",
       "    <span style=\"font-size: 0.8em; font-weight: bold; line-height: 1; border-radius: 0.35em; vertical-align: middle; margin-left: 0.5rem\">STRAIN</span>\n",
       "</mark>\n",
       "=\n",
       "<mark class=\"entity\" style=\"background: #ddd; padding: 0.45em 0.6em; margin: 0 0.25em; line-height: 1; border-radius: 0.35em;\">\n",
       "    MCCC 1K04421T\n",
       "    <span style=\"font-size: 0.8em; font-weight: bold; line-height: 1; border-radius: 0.35em; vertical-align: middle; margin-left: 0.5rem\">STRAIN</span>\n",
       "</mark>\n",
       ").</div></span>"
      ],
      "text/plain": [
       "<IPython.core.display.HTML object>"
      ]
     },
     "metadata": {},
     "output_type": "display_data"
    },
    {
     "name": "stdout",
     "output_type": "stream",
     "text": [
      "strain names ['62-3T', 'KCTC 92182T', 'MCCC 1K04421T']\n",
      "BREAK2\n",
      "Outer div ID: s11-6, Text: Description of Pseudotamlana agarivorans comb. nov.\n",
      "orgname []\n",
      "accessions []\n",
      "The type strain is JW-26T (=KCTC 22176T=CCUG 55327T).\n"
     ]
    },
    {
     "data": {
      "text/html": [
       "<span class=\"tex2jax_ignore\"><div class=\"entities\" style=\"line-height: 2.5; direction: ltr\">The type strain is \n",
       "<mark class=\"entity\" style=\"background: #ddd; padding: 0.45em 0.6em; margin: 0 0.25em; line-height: 1; border-radius: 0.35em;\">\n",
       "    JW-26T\n",
       "    <span style=\"font-size: 0.8em; font-weight: bold; line-height: 1; border-radius: 0.35em; vertical-align: middle; margin-left: 0.5rem\">STRAIN</span>\n",
       "</mark>\n",
       " (=\n",
       "<mark class=\"entity\" style=\"background: #ddd; padding: 0.45em 0.6em; margin: 0 0.25em; line-height: 1; border-radius: 0.35em;\">\n",
       "    KCTC 22176T\n",
       "    <span style=\"font-size: 0.8em; font-weight: bold; line-height: 1; border-radius: 0.35em; vertical-align: middle; margin-left: 0.5rem\">STRAIN</span>\n",
       "</mark>\n",
       "=\n",
       "<mark class=\"entity\" style=\"background: #ddd; padding: 0.45em 0.6em; margin: 0 0.25em; line-height: 1; border-radius: 0.35em;\">\n",
       "    CCUG 55327T\n",
       "    <span style=\"font-size: 0.8em; font-weight: bold; line-height: 1; border-radius: 0.35em; vertical-align: middle; margin-left: 0.5rem\">STRAIN</span>\n",
       "</mark>\n",
       ").</div></span>"
      ],
      "text/plain": [
       "<IPython.core.display.HTML object>"
      ]
     },
     "metadata": {},
     "output_type": "display_data"
    },
    {
     "name": "stdout",
     "output_type": "stream",
     "text": [
      "strain names ['JW-26T', 'KCTC 22176T', 'CCUG 55327T']\n",
      "BREAK2\n",
      "Outer div ID: s11-7, Text: Description of Pseudotamlana carrageenivorans comb. nov.\n",
      "orgname []\n",
      "accessions []\n",
      "The type strain is UJ94T (=\n"
     ]
    },
    {
     "data": {
      "text/html": [
       "<span class=\"tex2jax_ignore\"><div class=\"entities\" style=\"line-height: 2.5; direction: ltr\">The type strain is \n",
       "<mark class=\"entity\" style=\"background: #ddd; padding: 0.45em 0.6em; margin: 0 0.25em; line-height: 1; border-radius: 0.35em;\">\n",
       "    UJ94T\n",
       "    <span style=\"font-size: 0.8em; font-weight: bold; line-height: 1; border-radius: 0.35em; vertical-align: middle; margin-left: 0.5rem\">STRAIN</span>\n",
       "</mark>\n",
       " (=</div></span>"
      ],
      "text/plain": [
       "<IPython.core.display.HTML object>"
      ]
     },
     "metadata": {},
     "output_type": "display_data"
    },
    {
     "name": "stdout",
     "output_type": "stream",
     "text": [
      "strain names ['UJ94T']\n",
      "BREAK2\n",
      "Outer div ID: s11-8, Text: Description of Pseudotamlana haliotis comb. nov.\n",
      "orgname []\n",
      "accessions []\n",
      "The type strain is B1N29T (=KCTC 72683T=MCCC 1H00394T).\n"
     ]
    },
    {
     "data": {
      "text/html": [
       "<span class=\"tex2jax_ignore\"><div class=\"entities\" style=\"line-height: 2.5; direction: ltr\">The type strain is \n",
       "<mark class=\"entity\" style=\"background: #ddd; padding: 0.45em 0.6em; margin: 0 0.25em; line-height: 1; border-radius: 0.35em;\">\n",
       "    B1N29T\n",
       "    <span style=\"font-size: 0.8em; font-weight: bold; line-height: 1; border-radius: 0.35em; vertical-align: middle; margin-left: 0.5rem\">STRAIN</span>\n",
       "</mark>\n",
       " (=\n",
       "<mark class=\"entity\" style=\"background: #ddd; padding: 0.45em 0.6em; margin: 0 0.25em; line-height: 1; border-radius: 0.35em;\">\n",
       "    KCTC 72683T\n",
       "    <span style=\"font-size: 0.8em; font-weight: bold; line-height: 1; border-radius: 0.35em; vertical-align: middle; margin-left: 0.5rem\">STRAIN</span>\n",
       "</mark>\n",
       "=\n",
       "<mark class=\"entity\" style=\"background: #ddd; padding: 0.45em 0.6em; margin: 0 0.25em; line-height: 1; border-radius: 0.35em;\">\n",
       "    MCCC 1H00394T\n",
       "    <span style=\"font-size: 0.8em; font-weight: bold; line-height: 1; border-radius: 0.35em; vertical-align: middle; margin-left: 0.5rem\">STRAIN</span>\n",
       "</mark>\n",
       ").</div></span>"
      ],
      "text/plain": [
       "<IPython.core.display.HTML object>"
      ]
     },
     "metadata": {},
     "output_type": "display_data"
    },
    {
     "name": "stdout",
     "output_type": "stream",
     "text": [
      "strain names ['B1N29T', 'KCTC 72683T', 'MCCC 1H00394T']\n",
      "BREAK2\n",
      "Streptococcus wuxiensis sp. nov., Streptococcus jiangnanensis sp. nov. and Streptococcus fermentans sp. nov.: three novel species of genus Streptococcus isolated from human breast milk\n",
      "orgname ['streptococcus wuxiensis ']\n",
      "accessions ['JBFNFE000000000', 'JAXHDO000000000', 'OR794556', 'OR853715', 'OR853720']\n",
      "adj. wuxiensis, pertaining to Wuxi, Jiangsu Province, China, where the type strain was initially discovered).\n",
      "\n"
     ]
    },
    {
     "name": "stderr",
     "output_type": "stream",
     "text": [
      "/home/mcveigh/jup/lib/python3.9/site-packages/spacy/displacy/__init__.py:213: UserWarning: [W006] No entities to visualize found in Doc object. If this is surprising to you, make sure the Doc was processed using a model that supports named entity recognition, and check the `doc.ents` property manually if necessary.\n",
      "  warnings.warn(Warnings.W006)\n"
     ]
    },
    {
     "data": {
      "text/html": [
       "<span class=\"tex2jax_ignore\"><div class=\"entities\" style=\"line-height: 2.5; direction: ltr\">adj. wuxiensis, pertaining to Wuxi, Jiangsu Province, China, where the type strain was initially discovered).<br></div></span>"
      ],
      "text/plain": [
       "<IPython.core.display.HTML object>"
      ]
     },
     "metadata": {},
     "output_type": "display_data"
    },
    {
     "name": "stdout",
     "output_type": "stream",
     "text": [
      "The DNA G+C content of the type strain 21WXBC0057M1T was 40.4mol%.\n"
     ]
    },
    {
     "data": {
      "text/html": [
       "<span class=\"tex2jax_ignore\"><div class=\"entities\" style=\"line-height: 2.5; direction: ltr\">The DNA G+C content of the type strain \n",
       "<mark class=\"entity\" style=\"background: #ddd; padding: 0.45em 0.6em; margin: 0 0.25em; line-height: 1; border-radius: 0.35em;\">\n",
       "    21WXBC0057M1T\n",
       "    <span style=\"font-size: 0.8em; font-weight: bold; line-height: 1; border-radius: 0.35em; vertical-align: middle; margin-left: 0.5rem\">STRAIN</span>\n",
       "</mark>\n",
       " was 40.4mol%.</div></span>"
      ],
      "text/plain": [
       "<IPython.core.display.HTML object>"
      ]
     },
     "metadata": {},
     "output_type": "display_data"
    },
    {
     "name": "stdout",
     "output_type": "stream",
     "text": [
      "The type strain 21WXBC0057M1T (=CCFM1328=GDMCC 1.4126T=KCTC 25760T) was isolated from a human breast milk sample in 2022 in Wuxi, Jiangsu Province, China.\n"
     ]
    },
    {
     "data": {
      "text/html": [
       "<span class=\"tex2jax_ignore\"><div class=\"entities\" style=\"line-height: 2.5; direction: ltr\">The type strain \n",
       "<mark class=\"entity\" style=\"background: #ddd; padding: 0.45em 0.6em; margin: 0 0.25em; line-height: 1; border-radius: 0.35em;\">\n",
       "    21WXBC0057M1T\n",
       "    <span style=\"font-size: 0.8em; font-weight: bold; line-height: 1; border-radius: 0.35em; vertical-align: middle; margin-left: 0.5rem\">STRAIN</span>\n",
       "</mark>\n",
       " (=CCFM1328=\n",
       "<mark class=\"entity\" style=\"background: #ddd; padding: 0.45em 0.6em; margin: 0 0.25em; line-height: 1; border-radius: 0.35em;\">\n",
       "    GDMCC 1.4126T\n",
       "    <span style=\"font-size: 0.8em; font-weight: bold; line-height: 1; border-radius: 0.35em; vertical-align: middle; margin-left: 0.5rem\">STRAIN</span>\n",
       "</mark>\n",
       "=\n",
       "<mark class=\"entity\" style=\"background: #ddd; padding: 0.45em 0.6em; margin: 0 0.25em; line-height: 1; border-radius: 0.35em;\">\n",
       "    KCTC 25760T\n",
       "    <span style=\"font-size: 0.8em; font-weight: bold; line-height: 1; border-radius: 0.35em; vertical-align: middle; margin-left: 0.5rem\">STRAIN</span>\n",
       "</mark>\n",
       ") was isolated from a human breast milk sample in 2022 in Wuxi, Jiangsu Province, China.</div></span>"
      ],
      "text/plain": [
       "<IPython.core.display.HTML object>"
      ]
     },
     "metadata": {},
     "output_type": "display_data"
    },
    {
     "name": "stdout",
     "output_type": "stream",
     "text": [
      "strain names ['21WXBC0057M1T', 'GDMCC 1.4126T', 'KCTC 25760T']\n",
      "orgname ['streptococcus wuxiensis ']\n",
      "accessions []\n",
      "strain names ['21WXBC0057M1T', 'GDMCC 1.4126T', 'KCTC 25760T']\n",
      "BREAK1\n",
      "orgname ['Streptococcus jiangnanensis ']\n",
      "accessions ['JBFNFF000000000', 'JAXHDN000000000', 'OR794555', 'OR853714', 'OR853719']\n",
      "adj. jiangnanensis, of or belonging to Jiangnan University, where the type strain was initially discovered).\n",
      "\n"
     ]
    },
    {
     "name": "stderr",
     "output_type": "stream",
     "text": [
      "/home/mcveigh/jup/lib/python3.9/site-packages/spacy/displacy/__init__.py:213: UserWarning: [W006] No entities to visualize found in Doc object. If this is surprising to you, make sure the Doc was processed using a model that supports named entity recognition, and check the `doc.ents` property manually if necessary.\n",
      "  warnings.warn(Warnings.W006)\n"
     ]
    },
    {
     "data": {
      "text/html": [
       "<span class=\"tex2jax_ignore\"><div class=\"entities\" style=\"line-height: 2.5; direction: ltr\">adj. jiangnanensis, of or belonging to Jiangnan University, where the type strain was initially discovered).<br></div></span>"
      ],
      "text/plain": [
       "<IPython.core.display.HTML object>"
      ]
     },
     "metadata": {},
     "output_type": "display_data"
    },
    {
     "name": "stdout",
     "output_type": "stream",
     "text": [
      "The DNA G+C content of the type strain 21WXBC0044M1T was 41.9mol%.\n"
     ]
    },
    {
     "data": {
      "text/html": [
       "<span class=\"tex2jax_ignore\"><div class=\"entities\" style=\"line-height: 2.5; direction: ltr\">The DNA G+C content of the type strain \n",
       "<mark class=\"entity\" style=\"background: #ddd; padding: 0.45em 0.6em; margin: 0 0.25em; line-height: 1; border-radius: 0.35em;\">\n",
       "    21WXBC0044M1T\n",
       "    <span style=\"font-size: 0.8em; font-weight: bold; line-height: 1; border-radius: 0.35em; vertical-align: middle; margin-left: 0.5rem\">STRAIN</span>\n",
       "</mark>\n",
       " was 41.9mol%.</div></span>"
      ],
      "text/plain": [
       "<IPython.core.display.HTML object>"
      ]
     },
     "metadata": {},
     "output_type": "display_data"
    },
    {
     "name": "stdout",
     "output_type": "stream",
     "text": [
      "The type strain 21WXBC0044M1T (=\n"
     ]
    },
    {
     "data": {
      "text/html": [
       "<span class=\"tex2jax_ignore\"><div class=\"entities\" style=\"line-height: 2.5; direction: ltr\">The type strain \n",
       "<mark class=\"entity\" style=\"background: #ddd; padding: 0.45em 0.6em; margin: 0 0.25em; line-height: 1; border-radius: 0.35em;\">\n",
       "    21WXBC0044M1T\n",
       "    <span style=\"font-size: 0.8em; font-weight: bold; line-height: 1; border-radius: 0.35em; vertical-align: middle; margin-left: 0.5rem\">STRAIN</span>\n",
       "</mark>\n",
       " (=</div></span>"
      ],
      "text/plain": [
       "<IPython.core.display.HTML object>"
      ]
     },
     "metadata": {},
     "output_type": "display_data"
    },
    {
     "name": "stdout",
     "output_type": "stream",
     "text": [
      "strain names ['21WXBC0044M1T']\n",
      "orgname ['Streptococcus jiangnanensis ']\n",
      "accessions []\n",
      "strain names ['21WXBC0044M1T']\n",
      "BREAK1\n",
      "orgname ['Streptococcus fermentans ']\n",
      "accessions ['JBFNFG000000000', 'JAXHDP000000000', 'OR794558', 'OR853717', 'OR853722']\n",
      "The DNA G+C content of the type strain BJSWXB5TM1T was 40.3mol%.\n"
     ]
    },
    {
     "data": {
      "text/html": [
       "<span class=\"tex2jax_ignore\"><div class=\"entities\" style=\"line-height: 2.5; direction: ltr\">The DNA G+C content of the type strain \n",
       "<mark class=\"entity\" style=\"background: #ddd; padding: 0.45em 0.6em; margin: 0 0.25em; line-height: 1; border-radius: 0.35em;\">\n",
       "    BJSWXB5TM1T\n",
       "    <span style=\"font-size: 0.8em; font-weight: bold; line-height: 1; border-radius: 0.35em; vertical-align: middle; margin-left: 0.5rem\">STRAIN</span>\n",
       "</mark>\n",
       " was 40.3mol%.</div></span>"
      ],
      "text/plain": [
       "<IPython.core.display.HTML object>"
      ]
     },
     "metadata": {},
     "output_type": "display_data"
    },
    {
     "name": "stdout",
     "output_type": "stream",
     "text": [
      "The type strain BJSWXB5TM5T (=GDMCC 1.4130T=KCTC 25759T) was isolated from a human breast milk sample in 2022 in Wuxi, Jiangsu Province, China.\n"
     ]
    },
    {
     "data": {
      "text/html": [
       "<span class=\"tex2jax_ignore\"><div class=\"entities\" style=\"line-height: 2.5; direction: ltr\">The type strain \n",
       "<mark class=\"entity\" style=\"background: #ddd; padding: 0.45em 0.6em; margin: 0 0.25em; line-height: 1; border-radius: 0.35em;\">\n",
       "    BJSWXB5TM5T\n",
       "    <span style=\"font-size: 0.8em; font-weight: bold; line-height: 1; border-radius: 0.35em; vertical-align: middle; margin-left: 0.5rem\">STRAIN</span>\n",
       "</mark>\n",
       " (=\n",
       "<mark class=\"entity\" style=\"background: #ddd; padding: 0.45em 0.6em; margin: 0 0.25em; line-height: 1; border-radius: 0.35em;\">\n",
       "    GDMCC 1.4130T\n",
       "    <span style=\"font-size: 0.8em; font-weight: bold; line-height: 1; border-radius: 0.35em; vertical-align: middle; margin-left: 0.5rem\">STRAIN</span>\n",
       "</mark>\n",
       "=\n",
       "<mark class=\"entity\" style=\"background: #ddd; padding: 0.45em 0.6em; margin: 0 0.25em; line-height: 1; border-radius: 0.35em;\">\n",
       "    KCTC 25759T\n",
       "    <span style=\"font-size: 0.8em; font-weight: bold; line-height: 1; border-radius: 0.35em; vertical-align: middle; margin-left: 0.5rem\">STRAIN</span>\n",
       "</mark>\n",
       ") was isolated from a human breast milk sample in 2022 in Wuxi, Jiangsu Province, China.</div></span>"
      ],
      "text/plain": [
       "<IPython.core.display.HTML object>"
      ]
     },
     "metadata": {},
     "output_type": "display_data"
    },
    {
     "name": "stdout",
     "output_type": "stream",
     "text": [
      "strain names ['BJSWXB5TM1T', 'BJSWXB5TM5T', 'GDMCC 1.4130T', 'KCTC 25759T']\n",
      "orgname ['Streptococcus fermentans ']\n",
      "accessions []\n",
      "strain names ['BJSWXB5TM1T', 'BJSWXB5TM5T', 'GDMCC 1.4130T', 'KCTC 25759T']\n",
      "BREAK1\n",
      "Lacrimispora sinapis sp. nov., isolated from pickled potherb mustard (Brassica juncea Coss.)\n",
      "orgname ['Lacrimispora sinapis ']\n",
      "accessions ['PP065615', 'PP065615', 'CP141832', 'CP141832']\n",
      "The type strain JR3T (=\n"
     ]
    },
    {
     "data": {
      "text/html": [
       "<span class=\"tex2jax_ignore\"><div class=\"entities\" style=\"line-height: 2.5; direction: ltr\">The type strain \n",
       "<mark class=\"entity\" style=\"background: #ddd; padding: 0.45em 0.6em; margin: 0 0.25em; line-height: 1; border-radius: 0.35em;\">\n",
       "    JR3T\n",
       "    <span style=\"font-size: 0.8em; font-weight: bold; line-height: 1; border-radius: 0.35em; vertical-align: middle; margin-left: 0.5rem\">STRAIN</span>\n",
       "</mark>\n",
       " (=</div></span>"
      ],
      "text/plain": [
       "<IPython.core.display.HTML object>"
      ]
     },
     "metadata": {},
     "output_type": "display_data"
    },
    {
     "name": "stdout",
     "output_type": "stream",
     "text": [
      "The genomic DNA G+C content of strain JR3T is 44.0mol%.\n"
     ]
    },
    {
     "data": {
      "text/html": [
       "<span class=\"tex2jax_ignore\"><div class=\"entities\" style=\"line-height: 2.5; direction: ltr\">The genomic DNA G+C content of strain \n",
       "<mark class=\"entity\" style=\"background: #ddd; padding: 0.45em 0.6em; margin: 0 0.25em; line-height: 1; border-radius: 0.35em;\">\n",
       "    JR3T\n",
       "    <span style=\"font-size: 0.8em; font-weight: bold; line-height: 1; border-radius: 0.35em; vertical-align: middle; margin-left: 0.5rem\">STRAIN</span>\n",
       "</mark>\n",
       " is 44.0mol%.</div></span>"
      ],
      "text/plain": [
       "<IPython.core.display.HTML object>"
      ]
     },
     "metadata": {},
     "output_type": "display_data"
    },
    {
     "name": "stdout",
     "output_type": "stream",
     "text": [
      "The GenBank accession number for the 16S rRNA gene sequence of strain JR3T is PP065615 (https://www.ncbi.nlm.nih.gov/nuccore/PP065615) and for the genome sequence of strain JR3T is CP141832 (https://www.ncbi.nlm.nih.gov/nuccore/ CP141832.1).\n",
      " \n"
     ]
    },
    {
     "data": {
      "text/html": [
       "<span class=\"tex2jax_ignore\"><div class=\"entities\" style=\"line-height: 2.5; direction: ltr\">The GenBank accession number for the 16S rRNA gene sequence of strain \n",
       "<mark class=\"entity\" style=\"background: #ddd; padding: 0.45em 0.6em; margin: 0 0.25em; line-height: 1; border-radius: 0.35em;\">\n",
       "    JR3T\n",
       "    <span style=\"font-size: 0.8em; font-weight: bold; line-height: 1; border-radius: 0.35em; vertical-align: middle; margin-left: 0.5rem\">STRAIN</span>\n",
       "</mark>\n",
       " is PP065615 (https://www.ncbi.nlm.nih.gov/nuccore/PP065615) and for the genome sequence of strain \n",
       "<mark class=\"entity\" style=\"background: #ddd; padding: 0.45em 0.6em; margin: 0 0.25em; line-height: 1; border-radius: 0.35em;\">\n",
       "    JR3T\n",
       "    <span style=\"font-size: 0.8em; font-weight: bold; line-height: 1; border-radius: 0.35em; vertical-align: middle; margin-left: 0.5rem\">STRAIN</span>\n",
       "</mark>\n",
       " is CP141832 (https://www.ncbi.nlm.nih.gov/nuccore/ CP141832.1).<br> </div></span>"
      ],
      "text/plain": [
       "<IPython.core.display.HTML object>"
      ]
     },
     "metadata": {},
     "output_type": "display_data"
    },
    {
     "name": "stdout",
     "output_type": "stream",
     "text": [
      "The GenBank accession number for the 16S rRNA gene sequence of strain JR3T is PP065615 (https://www.ncbi.nlm.nih.gov/nuccore/PP065615) and for the genome sequence of strain JR3T is CP141832 (https://www.ncbi.nlm.nih.gov/nuccore/ CP141832.1).\n",
      " \n"
     ]
    },
    {
     "data": {
      "text/html": [
       "<span class=\"tex2jax_ignore\"><div class=\"entities\" style=\"line-height: 2.5; direction: ltr\">The GenBank accession number for the 16S rRNA gene sequence of strain \n",
       "<mark class=\"entity\" style=\"background: #ddd; padding: 0.45em 0.6em; margin: 0 0.25em; line-height: 1; border-radius: 0.35em;\">\n",
       "    JR3T\n",
       "    <span style=\"font-size: 0.8em; font-weight: bold; line-height: 1; border-radius: 0.35em; vertical-align: middle; margin-left: 0.5rem\">STRAIN</span>\n",
       "</mark>\n",
       " is PP065615 (https://www.ncbi.nlm.nih.gov/nuccore/PP065615) and for the genome sequence of strain \n",
       "<mark class=\"entity\" style=\"background: #ddd; padding: 0.45em 0.6em; margin: 0 0.25em; line-height: 1; border-radius: 0.35em;\">\n",
       "    JR3T\n",
       "    <span style=\"font-size: 0.8em; font-weight: bold; line-height: 1; border-radius: 0.35em; vertical-align: middle; margin-left: 0.5rem\">STRAIN</span>\n",
       "</mark>\n",
       " is CP141832 (https://www.ncbi.nlm.nih.gov/nuccore/ CP141832.1).<br> </div></span>"
      ],
      "text/plain": [
       "<IPython.core.display.HTML object>"
      ]
     },
     "metadata": {},
     "output_type": "display_data"
    },
    {
     "name": "stdout",
     "output_type": "stream",
     "text": [
      "strain names ['JR3T']\n",
      "orgname ['Lacrimispora sinapis ']\n",
      "accessions []\n",
      "strain names ['JR3T']\n",
      "BREAK1\n"
     ]
    }
   ],
   "source": [
    "from selenium.webdriver.common.by import By\n",
    "pub_df = pd.DataFrame(columns=['PublishedName', 'Accessions', 'Strains', 'Authority', 'DOI', 'URL'])\n",
    "pd.set_option('display.max_columns', None)\n",
    "combined_description = []\n",
    "for url in urls:\n",
    "    counter = 1\n",
    "    strains = []\n",
    "    accessions = []\n",
    "    orgname = []\n",
    "    doi = []\n",
    "    author = []\n",
    "    date = []\n",
    "    year = []\n",
    "    author_raw = []\n",
    "    author = []\n",
    "    name1 = []\n",
    "    name2 = []\n",
    "    author_count = []\n",
    "    authority = []\n",
    "    description = None\n",
    "    description1 = []\n",
    "    description2 = []\n",
    "    snumber = []\n",
    "    #scrape_with_selenium(url, counter)\n",
    "    #scrape_with_beautifulsoup(url)\n",
    "    options = Options()\n",
    "    options.headless = False  # Set to True for headless mode\n",
    "    driver = webdriver.Chrome(options=options)\n",
    "\n",
    "    #Navigate to the webpage\n",
    "    driver.get(url)\n",
    "\n",
    "    #Allow time for dynamic content to load (you may need to use WebDriverWait for more robust waiting)\n",
    "    time.sleep(3)\n",
    "    \n",
    "    html = driver.page_source\n",
    "    soup = BeautifulSoup(html)\n",
    "    \n",
    "    for element in driver.find_elements(By.CLASS_NAME, \"item-meta-data__item-title\"):\n",
    "        #print(element.text)\n",
    "        title = element.text\n",
    "        print(title)\n",
    "        \n",
    "    for element in driver.find_elements(By.PARTIAL_LINK_TEXT, \"doi.org\"):\n",
    "        doi = element.text\n",
    "        #print(doi)\n",
    "    \n",
    "    #find publication year\n",
    "    for element in driver.find_elements(By.XPATH, \"//*[@id='bellowheadercontainer']/main/div[2]/div/ul/li[3]/span/span[2]\"):\n",
    "        date = element.text\n",
    "        year = date[-4:]\n",
    "        #print(year)\n",
    "    \n",
    "    #find authors\n",
    "    for element in driver.find_elements(By.XPATH, \"//*[@id='bellowheadercontainer']/main/div[2]/div/ul/li[1]/span\"):\n",
    "        author_raw = element.text\n",
    "        #print(author_raw)\n",
    "        author = re.sub(r\"[\\d+]+\",'',author_raw)\n",
    "        author = re.sub(r\"†\",'',author)\n",
    "        author = re.sub(r\" and \",',',author)\n",
    "        author = re.sub(r\",,\",',',author)  \n",
    "        author = author.split(',')\n",
    "        author[:] = [item for item in author if item != '']\n",
    "        #print(author)\n",
    "        author_count = len(author)\n",
    "        #print(author_count)\n",
    "        if author_count == 1:\n",
    "            name1 = (str(author[0])) \n",
    "            name1 = HumanName(name1)\n",
    "            authority = name1.last + ' ' +str(year)\n",
    "            #print(authority)\n",
    "        elif author_count ==2:\n",
    "            name1 = (str(author[0]))\n",
    "            name1 = HumanName(name1)\n",
    "            name2 = (str(author[1]))\n",
    "            name2 = HumanName(name2)\n",
    "            authority = name1.last + ' and ' + name2.last + ' ' +str(year)\n",
    "            #print(authority)\n",
    "        else:\n",
    "            name1 = (str(author[0]))\n",
    "            name1 = HumanName(name1)\n",
    "            authority = name1.last + ' et al. ' +str(year)\n",
    "            #print(authority)\n",
    "    \n",
    "    #extract data from each species description\n",
    "    for element in driver.find_elements(By.CSS_SELECTOR, \"div.tl-main-part.title\"): #finds section headers\n",
    "        #print(element.text)\n",
    "        counter += 1\n",
    "        description = element.text\n",
    "        #print(description)\n",
    "        if \"Description of\" in description:\n",
    "            strains = []\n",
    "            #print('found', description)  \n",
    "            #snumber = 's' + str(counter - 4) + '/p[3]'\n",
    "            snumber = 's' + str(counter - 4)\n",
    "            #print('snumber is', snumber)\n",
    "            for element in driver.find_elements(By.ID, snumber):\n",
    "                description = element.text\n",
    "                cleaned_text = remove_non_ascii(description)\n",
    "                combined_description.append(cleaned_text)\n",
    "                #print(cleaned_text)\n",
    "                #print(description)\n",
    "                        \n",
    "                #find the organism names \n",
    "                orgname = []\n",
    "                match = [r'(\\S+\\s+){2}(?=sp. nov)', r'(\\S+\\s+){2}(?=nom. nov.)', r'(\\S+\\s+){2}(?=SP. NOV.)', r'(\\S+\\s+){4}(?=subsp. nov.)']\n",
    "                regex = re.compile(r'\\b(' + '|'.join(match) + r')\\b')\n",
    "                if description is not None:\n",
    "                    orgname = [m.group() for m in regex.finditer(description)]\n",
    "                    print('orgname', orgname)\n",
    "\n",
    "                #find the accessions\n",
    "                pattern = [r'[A-Z]{2}\\d{6}', r'[A-Z]{4}\\d{8}', r'([A-Z]+)(_[A-Z]+)\\d{6}', r'[A-Z]{6}\\d{9}']\n",
    "                regex = re.compile(r'\\b(' + '|'.join(pattern) + r')\\b')\n",
    "                if description is not None:\n",
    "                    accessions = [m.group() for m in regex.finditer(description)]\n",
    "                    print('accessions', accessions)\n",
    "    \n",
    "                #find the strains\n",
    "                if description is not None:\n",
    "                    find_strains(cleaned_text)\n",
    "                    print('strain names', strains)\n",
    "    \n",
    "                #load data into pandas dataframe\n",
    "                row_data = [orgname, accessions, strains, authority, doi, url]\n",
    "                length = len(pub_df)\n",
    "                pub_df.loc[length] = row_data\n",
    "            print('BREAK1')\n",
    "\n",
    "   \n",
    "    for element in driver.find_elements(By.CLASS_NAME, \"tl-lowest-section\"): #finds section headers\n",
    "        description1 = element.text\n",
    "        outer_html = element.get_attribute(\"outerHTML\")\n",
    "        if \"Description of\" in description1:          \n",
    "            #print(outer_html)\n",
    "            spans = soup.findAll('span', attrs = {'class' : 'tl-lowest-section'})\n",
    "            for span in spans:\n",
    "                if \"Description of\" in span.text:   \n",
    "                    #print (span.text)\n",
    "                    outer_div_id = span.find_parent('div').get('id')\n",
    "                    print(f\"Outer div ID: {outer_div_id}, Text: {span.text}\")\n",
    "                    for element in driver.find_elements(By.ID, outer_div_id):\n",
    "                        description = element.text\n",
    "                        cleaned_text = remove_non_ascii(description)\n",
    "                        combined_description.append(cleaned_text)\n",
    "                        #print(cleaned_text)\n",
    "                        #print(description)\n",
    "                        \n",
    "                    #find the organism names   \n",
    "                    orgname = []\n",
    "                    match = [r'(\\S+\\s+){2}(?=sp. nov)', r'(\\S+\\s+){2}(?=nom. nov.)', r'(\\S+\\s+){2}(?=SP. NOV.)', r'(\\S+\\s+){4}(?=subsp. nov.)']\n",
    "                    regex = re.compile(r'\\b(' + '|'.join(match) + r')\\b')\n",
    "                    if description is not None:\n",
    "                        orgname = [m.group() for m in regex.finditer(description)]\n",
    "                        print('orgname', orgname)\n",
    "\n",
    "                    #find the accessions\n",
    "                    pattern = [r'[A-Z]{2}\\d{6}', r'[A-Z]{4}\\d{8}', r'([A-Z]+)(_[A-Z]+)\\d{6}', r'[A-Z]{6}\\d{9}']\n",
    "                    regex = re.compile(r'\\b(' + '|'.join(pattern) + r')\\b')\n",
    "                    if description is not None:\n",
    "                        accessions = [m.group() for m in regex.finditer(description)]\n",
    "                        print('accessions', accessions)\n",
    "    \n",
    "                    #find the strains\n",
    "                    strains = []\n",
    "                    if description is not None:\n",
    "                        find_strains(cleaned_text)\n",
    "                        print('strain names', strains)\n",
    "    \n",
    "                    #load data into pandas dataframe\n",
    "                    row_data = [orgname, accessions, strains, authority, doi, url]\n",
    "                    length = len(pub_df)\n",
    "                    pub_df.loc[length] = row_data\n",
    "                    print('BREAK2')\n",
    "\n",
    "\n",
    "\n",
    "        \n",
    "#Close the browser window\n",
    "    driver.quit()    "
   ]
  },
  {
   "cell_type": "code",
   "execution_count": 8,
   "id": "8a2b16f8",
   "metadata": {},
   "outputs": [],
   "source": [
    "#optional write description to a file\n",
    "#print(combined_description)\n",
    "file = open(alldescriptions, \"w\")\n",
    "file.writelines(combined_description)\n",
    "file.close()"
   ]
  },
  {
   "cell_type": "code",
   "execution_count": 9,
   "id": "42783410",
   "metadata": {},
   "outputs": [
    {
     "data": {
      "text/html": [
       "<div>\n",
       "<style scoped>\n",
       "    .dataframe tbody tr th:only-of-type {\n",
       "        vertical-align: middle;\n",
       "    }\n",
       "\n",
       "    .dataframe tbody tr th {\n",
       "        vertical-align: top;\n",
       "    }\n",
       "\n",
       "    .dataframe thead th {\n",
       "        text-align: right;\n",
       "    }\n",
       "</style>\n",
       "<table border=\"1\" class=\"dataframe\">\n",
       "  <thead>\n",
       "    <tr style=\"text-align: right;\">\n",
       "      <th></th>\n",
       "      <th>PublishedName</th>\n",
       "      <th>Accessions</th>\n",
       "      <th>Strains</th>\n",
       "      <th>Authority</th>\n",
       "      <th>DOI</th>\n",
       "      <th>URL</th>\n",
       "    </tr>\n",
       "  </thead>\n",
       "  <tbody>\n",
       "    <tr>\n",
       "      <th>0</th>\n",
       "      <td>[]</td>\n",
       "      <td>[]</td>\n",
       "      <td></td>\n",
       "      <td>Lee et al. 2025</td>\n",
       "      <td>https://doi.org/10.1099/ijsem.0.006663</td>\n",
       "      <td>https://gcc02.safelinks.protection.outlook.com/?url=https%3A%2F%2Fwww.microbiologyresearch.org%2Fcontent%2Fjournal%2Fijsem%2F10.1099%2Fijsem.0.006663%3Femailalert%3Dtrue&amp;data=05%7C02%7Cmcveigh%40ncbi.nlm.nih.gov%7C017a70c948af4333a1c808dd4ce97ee5%7C14b77578977342d58507251ca2dc2b06%7C0%7C0%7C638751288089330574%7CUnknown%7CTWFpbGZsb3d8eyJFbXB0eU1hcGkiOnRydWUsIlYiOiIwLjAuMDAwMCIsIlAiOiJXaW4zMiIsIkFOIjoiTWFpbCIsIldUIjoyfQ%3D%3D%7C40000%7C%7C%7C&amp;sdata=%2F9Mf43NMpFvAJ13NJ3KKsnI9C%2BRGKhXPDs0NPu7apYs%3D&amp;reserved=0</td>\n",
       "    </tr>\n",
       "    <tr>\n",
       "      <th>1</th>\n",
       "      <td>[Thalassobellus suaedae ]</td>\n",
       "      <td>[OR229715, OR652609, OR229716, OR652608, CP134536, CP134537]</td>\n",
       "      <td>HL-DH10T,  KCCM 90512T,  JCM 36598T,  HL-DH14,  KCCM 90513</td>\n",
       "      <td>Lee et al. 2025</td>\n",
       "      <td>https://doi.org/10.1099/ijsem.0.006663</td>\n",
       "      <td>https://gcc02.safelinks.protection.outlook.com/?url=https%3A%2F%2Fwww.microbiologyresearch.org%2Fcontent%2Fjournal%2Fijsem%2F10.1099%2Fijsem.0.006663%3Femailalert%3Dtrue&amp;data=05%7C02%7Cmcveigh%40ncbi.nlm.nih.gov%7C017a70c948af4333a1c808dd4ce97ee5%7C14b77578977342d58507251ca2dc2b06%7C0%7C0%7C638751288089330574%7CUnknown%7CTWFpbGZsb3d8eyJFbXB0eU1hcGkiOnRydWUsIlYiOiIwLjAuMDAwMCIsIlAiOiJXaW4zMiIsIkFOIjoiTWFpbCIsIldUIjoyfQ%3D%3D%7C40000%7C%7C%7C&amp;sdata=%2F9Mf43NMpFvAJ13NJ3KKsnI9C%2BRGKhXPDs0NPu7apYs%3D&amp;reserved=0</td>\n",
       "    </tr>\n",
       "    <tr>\n",
       "      <th>4</th>\n",
       "      <td>[Methanobacterium aridiramus ]</td>\n",
       "      <td>[MK979366, CP040735]</td>\n",
       "      <td>CWC-01T,  BCRC AR10053T,  NBRC 113991T</td>\n",
       "      <td>Lee et al. 2025</td>\n",
       "      <td>https://doi.org/10.1099/ijsem.0.006658</td>\n",
       "      <td>https://gcc02.safelinks.protection.outlook.com/?url=https%3A%2F%2Fwww.microbiologyresearch.org%2Fcontent%2Fjournal%2Fijsem%2F10.1099%2Fijsem.0.006658%3Femailalert%3Dtrue&amp;data=05%7C02%7Cmcveigh%40ncbi.nlm.nih.gov%7C017a70c948af4333a1c808dd4ce97ee5%7C14b77578977342d58507251ca2dc2b06%7C0%7C0%7C638751288089383537%7CUnknown%7CTWFpbGZsb3d8eyJFbXB0eU1hcGkiOnRydWUsIlYiOiIwLjAuMDAwMCIsIlAiOiJXaW4zMiIsIkFOIjoiTWFpbCIsIldUIjoyfQ%3D%3D%7C40000%7C%7C%7C&amp;sdata=n6Mm1qXs2TjrrOYlH1jFldblC5%2Bdu%2BbqcDRUZr1aCE4%3D&amp;reserved=0</td>\n",
       "    </tr>\n",
       "    <tr>\n",
       "      <th>8</th>\n",
       "      <td>[Minisyncoccus archaeiphilus ]</td>\n",
       "      <td>[AP038758, LC847185]</td>\n",
       "      <td>PMX.108T,  JCM 39522T</td>\n",
       "      <td>Nakajima et al. 2025</td>\n",
       "      <td>https://doi.org/10.5281/zenodo.10140531</td>\n",
       "      <td>https://gcc02.safelinks.protection.outlook.com/?url=https%3A%2F%2Fwww.microbiologyresearch.org%2Fcontent%2Fjournal%2Fijsem%2F10.1099%2Fijsem.0.006668%3Femailalert%3Dtrue&amp;data=05%7C02%7Cmcveigh%40ncbi.nlm.nih.gov%7C017a70c948af4333a1c808dd4ce97ee5%7C14b77578977342d58507251ca2dc2b06%7C0%7C0%7C638751288089563102%7CUnknown%7CTWFpbGZsb3d8eyJFbXB0eU1hcGkiOnRydWUsIlYiOiIwLjAuMDAwMCIsIlAiOiJXaW4zMiIsIkFOIjoiTWFpbCIsIldUIjoyfQ%3D%3D%7C40000%7C%7C%7C&amp;sdata=3X9B3NLCY%2BU%2FdZOHG5rj0eHv4ShcDUe18vhPlUBhrAg%3D&amp;reserved=0</td>\n",
       "    </tr>\n",
       "    <tr>\n",
       "      <th>18</th>\n",
       "      <td>[Afipia dichlorophenoxyacetatis ]</td>\n",
       "      <td>[AP029250, AP029255, LC770309, LC770310]</td>\n",
       "      <td>DD3T,  MAFF 311804T,  ICMP 25015T,  MAFF 311814,  ICMP 25016</td>\n",
       "      <td>Sawada et al. 2025</td>\n",
       "      <td>https://doi.org/10.1099/ijsem.0.006672</td>\n",
       "      <td>https://gcc02.safelinks.protection.outlook.com/?url=https%3A%2F%2Fwww.microbiologyresearch.org%2Fcontent%2Fjournal%2Fijsem%2F10.1099%2Fijsem.0.006672%3Femailalert%3Dtrue&amp;data=05%7C02%7Cmcveigh%40ncbi.nlm.nih.gov%7C017a70c948af4333a1c808dd4ce97ee5%7C14b77578977342d58507251ca2dc2b06%7C0%7C0%7C638751288089597233%7CUnknown%7CTWFpbGZsb3d8eyJFbXB0eU1hcGkiOnRydWUsIlYiOiIwLjAuMDAwMCIsIlAiOiJXaW4zMiIsIkFOIjoiTWFpbCIsIldUIjoyfQ%3D%3D%7C40000%7C%7C%7C&amp;sdata=ASJ4qJ6s9rIYcPAJEuujidW%2BW8I65RB%2B0SZnXx5AKxE%3D&amp;reserved=0</td>\n",
       "    </tr>\n",
       "    <tr>\n",
       "      <th>20</th>\n",
       "      <td>[Oceanobacter antarcticus ]</td>\n",
       "      <td>[PP494898, JBBKTX000000000]</td>\n",
       "      <td>wDCs-4T,  MCCC 1A20726T,  KCTC 8314T</td>\n",
       "      <td>Zhang et al. 2025</td>\n",
       "      <td>https://doi.org/10.1099/ijsem.0.006676</td>\n",
       "      <td>https://gcc02.safelinks.protection.outlook.com/?url=https%3A%2F%2Fwww.microbiologyresearch.org%2Fcontent%2Fjournal%2Fijsem%2F10.1099%2Fijsem.0.006676%3Femailalert%3Dtrue&amp;data=05%7C02%7Cmcveigh%40ncbi.nlm.nih.gov%7C017a70c948af4333a1c808dd4ce97ee5%7C14b77578977342d58507251ca2dc2b06%7C0%7C0%7C638751288089633623%7CUnknown%7CTWFpbGZsb3d8eyJFbXB0eU1hcGkiOnRydWUsIlYiOiIwLjAuMDAwMCIsIlAiOiJXaW4zMiIsIkFOIjoiTWFpbCIsIldUIjoyfQ%3D%3D%7C40000%7C%7C%7C&amp;sdata=93hPxOFV1RNJzuGaS6UBfbTNJy5lhlW6ZJDjiMXr2TA%3D&amp;reserved=0</td>\n",
       "    </tr>\n",
       "    <tr>\n",
       "      <th>22</th>\n",
       "      <td>[Tamlana flava ]</td>\n",
       "      <td>[PP854632, JBGGTX000000000]</td>\n",
       "      <td>MA10T,  MCCC 1K09289T,  KCTC 102321T</td>\n",
       "      <td>Huang et al. 2025</td>\n",
       "      <td>https://doi.org/10.1099/ijsem.0.006673</td>\n",
       "      <td>https://gcc02.safelinks.protection.outlook.com/?url=https%3A%2F%2Fwww.microbiologyresearch.org%2Fcontent%2Fjournal%2Fijsem%2F10.1099%2Fijsem.0.006673%3Femailalert%3Dtrue&amp;data=05%7C02%7Cmcveigh%40ncbi.nlm.nih.gov%7C017a70c948af4333a1c808dd4ce97ee5%7C14b77578977342d58507251ca2dc2b06%7C0%7C0%7C638751288089683051%7CUnknown%7CTWFpbGZsb3d8eyJFbXB0eU1hcGkiOnRydWUsIlYiOiIwLjAuMDAwMCIsIlAiOiJXaW4zMiIsIkFOIjoiTWFpbCIsIldUIjoyfQ%3D%3D%7C40000%7C%7C%7C&amp;sdata=u9UJl%2F3Ly8NDlEGAKjtL1xF49bCOvRHAbGOG0qtdp3Q%3D&amp;reserved=0</td>\n",
       "    </tr>\n",
       "    <tr>\n",
       "      <th>168</th>\n",
       "      <td>[streptococcus wuxiensis ]</td>\n",
       "      <td>[JBFNFE000000000, JAXHDO000000000, OR794556, OR853715, OR853720]</td>\n",
       "      <td>21WXBC0057M1T,  GDMCC 1.4126T,  KCTC 25760T</td>\n",
       "      <td>Zhou et al. 2025</td>\n",
       "      <td>https://doi.org/10.1099/ijsem.0.006674</td>\n",
       "      <td>https://gcc02.safelinks.protection.outlook.com/?url=https%3A%2F%2Fwww.microbiologyresearch.org%2Fcontent%2Fjournal%2Fijsem%2F10.1099%2Fijsem.0.006674%3Femailalert%3Dtrue&amp;data=05%7C02%7Cmcveigh%40ncbi.nlm.nih.gov%7C017a70c948af4333a1c808dd4ce97ee5%7C14b77578977342d58507251ca2dc2b06%7C0%7C0%7C638751288089710352%7CUnknown%7CTWFpbGZsb3d8eyJFbXB0eU1hcGkiOnRydWUsIlYiOiIwLjAuMDAwMCIsIlAiOiJXaW4zMiIsIkFOIjoiTWFpbCIsIldUIjoyfQ%3D%3D%7C40000%7C%7C%7C&amp;sdata=hi4NC%2FEVWTCaeKPbdc5ZVA3OQr%2FKd%2FcdUHJ50i6srdI%3D&amp;reserved=0</td>\n",
       "    </tr>\n",
       "    <tr>\n",
       "      <th>170</th>\n",
       "      <td>[Streptococcus jiangnanensis ]</td>\n",
       "      <td>[JBFNFF000000000, JAXHDN000000000, OR794555, OR853714, OR853719]</td>\n",
       "      <td>21WXBC0044M1T</td>\n",
       "      <td>Zhou et al. 2025</td>\n",
       "      <td>https://doi.org/10.1099/ijsem.0.006674</td>\n",
       "      <td>https://gcc02.safelinks.protection.outlook.com/?url=https%3A%2F%2Fwww.microbiologyresearch.org%2Fcontent%2Fjournal%2Fijsem%2F10.1099%2Fijsem.0.006674%3Femailalert%3Dtrue&amp;data=05%7C02%7Cmcveigh%40ncbi.nlm.nih.gov%7C017a70c948af4333a1c808dd4ce97ee5%7C14b77578977342d58507251ca2dc2b06%7C0%7C0%7C638751288089710352%7CUnknown%7CTWFpbGZsb3d8eyJFbXB0eU1hcGkiOnRydWUsIlYiOiIwLjAuMDAwMCIsIlAiOiJXaW4zMiIsIkFOIjoiTWFpbCIsIldUIjoyfQ%3D%3D%7C40000%7C%7C%7C&amp;sdata=hi4NC%2FEVWTCaeKPbdc5ZVA3OQr%2FKd%2FcdUHJ50i6srdI%3D&amp;reserved=0</td>\n",
       "    </tr>\n",
       "    <tr>\n",
       "      <th>172</th>\n",
       "      <td>[Streptococcus fermentans ]</td>\n",
       "      <td>[JBFNFG000000000, JAXHDP000000000, OR794558, OR853717, OR853722]</td>\n",
       "      <td>BJSWXB5TM1T,  BJSWXB5TM5T,  GDMCC 1.4130T,  KCTC 25759T</td>\n",
       "      <td>Zhou et al. 2025</td>\n",
       "      <td>https://doi.org/10.1099/ijsem.0.006674</td>\n",
       "      <td>https://gcc02.safelinks.protection.outlook.com/?url=https%3A%2F%2Fwww.microbiologyresearch.org%2Fcontent%2Fjournal%2Fijsem%2F10.1099%2Fijsem.0.006674%3Femailalert%3Dtrue&amp;data=05%7C02%7Cmcveigh%40ncbi.nlm.nih.gov%7C017a70c948af4333a1c808dd4ce97ee5%7C14b77578977342d58507251ca2dc2b06%7C0%7C0%7C638751288089710352%7CUnknown%7CTWFpbGZsb3d8eyJFbXB0eU1hcGkiOnRydWUsIlYiOiIwLjAuMDAwMCIsIlAiOiJXaW4zMiIsIkFOIjoiTWFpbCIsIldUIjoyfQ%3D%3D%7C40000%7C%7C%7C&amp;sdata=hi4NC%2FEVWTCaeKPbdc5ZVA3OQr%2FKd%2FcdUHJ50i6srdI%3D&amp;reserved=0</td>\n",
       "    </tr>\n",
       "    <tr>\n",
       "      <th>174</th>\n",
       "      <td>[Lacrimispora sinapis ]</td>\n",
       "      <td>[PP065615, PP065615, CP141832, CP141832]</td>\n",
       "      <td>JR3T</td>\n",
       "      <td>Ren et al. 2025</td>\n",
       "      <td>https://doi.org/10.1099/ijsem.0.006675</td>\n",
       "      <td>https://gcc02.safelinks.protection.outlook.com/?url=https%3A%2F%2Fwww.microbiologyresearch.org%2Fcontent%2Fjournal%2Fijsem%2F10.1099%2Fijsem.0.006675%3Femailalert%3Dtrue&amp;data=05%7C02%7Cmcveigh%40ncbi.nlm.nih.gov%7C017a70c948af4333a1c808dd4ce97ee5%7C14b77578977342d58507251ca2dc2b06%7C0%7C0%7C638751288089735188%7CUnknown%7CTWFpbGZsb3d8eyJFbXB0eU1hcGkiOnRydWUsIlYiOiIwLjAuMDAwMCIsIlAiOiJXaW4zMiIsIkFOIjoiTWFpbCIsIldUIjoyfQ%3D%3D%7C40000%7C%7C%7C&amp;sdata=yZcx2J2gqkXmfKKvNh0Kdd3ISY7mJarVRuWFLQayIjM%3D&amp;reserved=0</td>\n",
       "    </tr>\n",
       "  </tbody>\n",
       "</table>\n",
       "</div>"
      ],
      "text/plain": [
       "                         PublishedName  \\\n",
       "0                                   []   \n",
       "1            [Thalassobellus suaedae ]   \n",
       "4       [Methanobacterium aridiramus ]   \n",
       "8       [Minisyncoccus archaeiphilus ]   \n",
       "18   [Afipia dichlorophenoxyacetatis ]   \n",
       "20         [Oceanobacter antarcticus ]   \n",
       "22                    [Tamlana flava ]   \n",
       "168         [streptococcus wuxiensis ]   \n",
       "170     [Streptococcus jiangnanensis ]   \n",
       "172        [Streptococcus fermentans ]   \n",
       "174            [Lacrimispora sinapis ]   \n",
       "\n",
       "                                                           Accessions  \\\n",
       "0                                                                  []   \n",
       "1        [OR229715, OR652609, OR229716, OR652608, CP134536, CP134537]   \n",
       "4                                                [MK979366, CP040735]   \n",
       "8                                                [AP038758, LC847185]   \n",
       "18                           [AP029250, AP029255, LC770309, LC770310]   \n",
       "20                                        [PP494898, JBBKTX000000000]   \n",
       "22                                        [PP854632, JBGGTX000000000]   \n",
       "168  [JBFNFE000000000, JAXHDO000000000, OR794556, OR853715, OR853720]   \n",
       "170  [JBFNFF000000000, JAXHDN000000000, OR794555, OR853714, OR853719]   \n",
       "172  [JBFNFG000000000, JAXHDP000000000, OR794558, OR853717, OR853722]   \n",
       "174                          [PP065615, PP065615, CP141832, CP141832]   \n",
       "\n",
       "                                                          Strains  \\\n",
       "0                                                                   \n",
       "1      HL-DH10T,  KCCM 90512T,  JCM 36598T,  HL-DH14,  KCCM 90513   \n",
       "4                          CWC-01T,  BCRC AR10053T,  NBRC 113991T   \n",
       "8                                           PMX.108T,  JCM 39522T   \n",
       "18   DD3T,  MAFF 311804T,  ICMP 25015T,  MAFF 311814,  ICMP 25016   \n",
       "20                           wDCs-4T,  MCCC 1A20726T,  KCTC 8314T   \n",
       "22                           MA10T,  MCCC 1K09289T,  KCTC 102321T   \n",
       "168                   21WXBC0057M1T,  GDMCC 1.4126T,  KCTC 25760T   \n",
       "170                                                 21WXBC0044M1T   \n",
       "172       BJSWXB5TM1T,  BJSWXB5TM5T,  GDMCC 1.4130T,  KCTC 25759T   \n",
       "174                                                          JR3T   \n",
       "\n",
       "                Authority                                      DOI  \\\n",
       "0         Lee et al. 2025   https://doi.org/10.1099/ijsem.0.006663   \n",
       "1         Lee et al. 2025   https://doi.org/10.1099/ijsem.0.006663   \n",
       "4         Lee et al. 2025   https://doi.org/10.1099/ijsem.0.006658   \n",
       "8    Nakajima et al. 2025  https://doi.org/10.5281/zenodo.10140531   \n",
       "18     Sawada et al. 2025   https://doi.org/10.1099/ijsem.0.006672   \n",
       "20      Zhang et al. 2025   https://doi.org/10.1099/ijsem.0.006676   \n",
       "22      Huang et al. 2025   https://doi.org/10.1099/ijsem.0.006673   \n",
       "168      Zhou et al. 2025   https://doi.org/10.1099/ijsem.0.006674   \n",
       "170      Zhou et al. 2025   https://doi.org/10.1099/ijsem.0.006674   \n",
       "172      Zhou et al. 2025   https://doi.org/10.1099/ijsem.0.006674   \n",
       "174       Ren et al. 2025   https://doi.org/10.1099/ijsem.0.006675   \n",
       "\n",
       "                                                                                                                                                                                                                                                                                                                                                                                                                                                                                                                                    URL  \n",
       "0      https://gcc02.safelinks.protection.outlook.com/?url=https%3A%2F%2Fwww.microbiologyresearch.org%2Fcontent%2Fjournal%2Fijsem%2F10.1099%2Fijsem.0.006663%3Femailalert%3Dtrue&data=05%7C02%7Cmcveigh%40ncbi.nlm.nih.gov%7C017a70c948af4333a1c808dd4ce97ee5%7C14b77578977342d58507251ca2dc2b06%7C0%7C0%7C638751288089330574%7CUnknown%7CTWFpbGZsb3d8eyJFbXB0eU1hcGkiOnRydWUsIlYiOiIwLjAuMDAwMCIsIlAiOiJXaW4zMiIsIkFOIjoiTWFpbCIsIldUIjoyfQ%3D%3D%7C40000%7C%7C%7C&sdata=%2F9Mf43NMpFvAJ13NJ3KKsnI9C%2BRGKhXPDs0NPu7apYs%3D&reserved=0  \n",
       "1      https://gcc02.safelinks.protection.outlook.com/?url=https%3A%2F%2Fwww.microbiologyresearch.org%2Fcontent%2Fjournal%2Fijsem%2F10.1099%2Fijsem.0.006663%3Femailalert%3Dtrue&data=05%7C02%7Cmcveigh%40ncbi.nlm.nih.gov%7C017a70c948af4333a1c808dd4ce97ee5%7C14b77578977342d58507251ca2dc2b06%7C0%7C0%7C638751288089330574%7CUnknown%7CTWFpbGZsb3d8eyJFbXB0eU1hcGkiOnRydWUsIlYiOiIwLjAuMDAwMCIsIlAiOiJXaW4zMiIsIkFOIjoiTWFpbCIsIldUIjoyfQ%3D%3D%7C40000%7C%7C%7C&sdata=%2F9Mf43NMpFvAJ13NJ3KKsnI9C%2BRGKhXPDs0NPu7apYs%3D&reserved=0  \n",
       "4      https://gcc02.safelinks.protection.outlook.com/?url=https%3A%2F%2Fwww.microbiologyresearch.org%2Fcontent%2Fjournal%2Fijsem%2F10.1099%2Fijsem.0.006658%3Femailalert%3Dtrue&data=05%7C02%7Cmcveigh%40ncbi.nlm.nih.gov%7C017a70c948af4333a1c808dd4ce97ee5%7C14b77578977342d58507251ca2dc2b06%7C0%7C0%7C638751288089383537%7CUnknown%7CTWFpbGZsb3d8eyJFbXB0eU1hcGkiOnRydWUsIlYiOiIwLjAuMDAwMCIsIlAiOiJXaW4zMiIsIkFOIjoiTWFpbCIsIldUIjoyfQ%3D%3D%7C40000%7C%7C%7C&sdata=n6Mm1qXs2TjrrOYlH1jFldblC5%2Bdu%2BbqcDRUZr1aCE4%3D&reserved=0  \n",
       "8      https://gcc02.safelinks.protection.outlook.com/?url=https%3A%2F%2Fwww.microbiologyresearch.org%2Fcontent%2Fjournal%2Fijsem%2F10.1099%2Fijsem.0.006668%3Femailalert%3Dtrue&data=05%7C02%7Cmcveigh%40ncbi.nlm.nih.gov%7C017a70c948af4333a1c808dd4ce97ee5%7C14b77578977342d58507251ca2dc2b06%7C0%7C0%7C638751288089563102%7CUnknown%7CTWFpbGZsb3d8eyJFbXB0eU1hcGkiOnRydWUsIlYiOiIwLjAuMDAwMCIsIlAiOiJXaW4zMiIsIkFOIjoiTWFpbCIsIldUIjoyfQ%3D%3D%7C40000%7C%7C%7C&sdata=3X9B3NLCY%2BU%2FdZOHG5rj0eHv4ShcDUe18vhPlUBhrAg%3D&reserved=0  \n",
       "18     https://gcc02.safelinks.protection.outlook.com/?url=https%3A%2F%2Fwww.microbiologyresearch.org%2Fcontent%2Fjournal%2Fijsem%2F10.1099%2Fijsem.0.006672%3Femailalert%3Dtrue&data=05%7C02%7Cmcveigh%40ncbi.nlm.nih.gov%7C017a70c948af4333a1c808dd4ce97ee5%7C14b77578977342d58507251ca2dc2b06%7C0%7C0%7C638751288089597233%7CUnknown%7CTWFpbGZsb3d8eyJFbXB0eU1hcGkiOnRydWUsIlYiOiIwLjAuMDAwMCIsIlAiOiJXaW4zMiIsIkFOIjoiTWFpbCIsIldUIjoyfQ%3D%3D%7C40000%7C%7C%7C&sdata=ASJ4qJ6s9rIYcPAJEuujidW%2BW8I65RB%2B0SZnXx5AKxE%3D&reserved=0  \n",
       "20         https://gcc02.safelinks.protection.outlook.com/?url=https%3A%2F%2Fwww.microbiologyresearch.org%2Fcontent%2Fjournal%2Fijsem%2F10.1099%2Fijsem.0.006676%3Femailalert%3Dtrue&data=05%7C02%7Cmcveigh%40ncbi.nlm.nih.gov%7C017a70c948af4333a1c808dd4ce97ee5%7C14b77578977342d58507251ca2dc2b06%7C0%7C0%7C638751288089633623%7CUnknown%7CTWFpbGZsb3d8eyJFbXB0eU1hcGkiOnRydWUsIlYiOiIwLjAuMDAwMCIsIlAiOiJXaW4zMiIsIkFOIjoiTWFpbCIsIldUIjoyfQ%3D%3D%7C40000%7C%7C%7C&sdata=93hPxOFV1RNJzuGaS6UBfbTNJy5lhlW6ZJDjiMXr2TA%3D&reserved=0  \n",
       "22       https://gcc02.safelinks.protection.outlook.com/?url=https%3A%2F%2Fwww.microbiologyresearch.org%2Fcontent%2Fjournal%2Fijsem%2F10.1099%2Fijsem.0.006673%3Femailalert%3Dtrue&data=05%7C02%7Cmcveigh%40ncbi.nlm.nih.gov%7C017a70c948af4333a1c808dd4ce97ee5%7C14b77578977342d58507251ca2dc2b06%7C0%7C0%7C638751288089683051%7CUnknown%7CTWFpbGZsb3d8eyJFbXB0eU1hcGkiOnRydWUsIlYiOiIwLjAuMDAwMCIsIlAiOiJXaW4zMiIsIkFOIjoiTWFpbCIsIldUIjoyfQ%3D%3D%7C40000%7C%7C%7C&sdata=u9UJl%2F3Ly8NDlEGAKjtL1xF49bCOvRHAbGOG0qtdp3Q%3D&reserved=0  \n",
       "168  https://gcc02.safelinks.protection.outlook.com/?url=https%3A%2F%2Fwww.microbiologyresearch.org%2Fcontent%2Fjournal%2Fijsem%2F10.1099%2Fijsem.0.006674%3Femailalert%3Dtrue&data=05%7C02%7Cmcveigh%40ncbi.nlm.nih.gov%7C017a70c948af4333a1c808dd4ce97ee5%7C14b77578977342d58507251ca2dc2b06%7C0%7C0%7C638751288089710352%7CUnknown%7CTWFpbGZsb3d8eyJFbXB0eU1hcGkiOnRydWUsIlYiOiIwLjAuMDAwMCIsIlAiOiJXaW4zMiIsIkFOIjoiTWFpbCIsIldUIjoyfQ%3D%3D%7C40000%7C%7C%7C&sdata=hi4NC%2FEVWTCaeKPbdc5ZVA3OQr%2FKd%2FcdUHJ50i6srdI%3D&reserved=0  \n",
       "170  https://gcc02.safelinks.protection.outlook.com/?url=https%3A%2F%2Fwww.microbiologyresearch.org%2Fcontent%2Fjournal%2Fijsem%2F10.1099%2Fijsem.0.006674%3Femailalert%3Dtrue&data=05%7C02%7Cmcveigh%40ncbi.nlm.nih.gov%7C017a70c948af4333a1c808dd4ce97ee5%7C14b77578977342d58507251ca2dc2b06%7C0%7C0%7C638751288089710352%7CUnknown%7CTWFpbGZsb3d8eyJFbXB0eU1hcGkiOnRydWUsIlYiOiIwLjAuMDAwMCIsIlAiOiJXaW4zMiIsIkFOIjoiTWFpbCIsIldUIjoyfQ%3D%3D%7C40000%7C%7C%7C&sdata=hi4NC%2FEVWTCaeKPbdc5ZVA3OQr%2FKd%2FcdUHJ50i6srdI%3D&reserved=0  \n",
       "172  https://gcc02.safelinks.protection.outlook.com/?url=https%3A%2F%2Fwww.microbiologyresearch.org%2Fcontent%2Fjournal%2Fijsem%2F10.1099%2Fijsem.0.006674%3Femailalert%3Dtrue&data=05%7C02%7Cmcveigh%40ncbi.nlm.nih.gov%7C017a70c948af4333a1c808dd4ce97ee5%7C14b77578977342d58507251ca2dc2b06%7C0%7C0%7C638751288089710352%7CUnknown%7CTWFpbGZsb3d8eyJFbXB0eU1hcGkiOnRydWUsIlYiOiIwLjAuMDAwMCIsIlAiOiJXaW4zMiIsIkFOIjoiTWFpbCIsIldUIjoyfQ%3D%3D%7C40000%7C%7C%7C&sdata=hi4NC%2FEVWTCaeKPbdc5ZVA3OQr%2FKd%2FcdUHJ50i6srdI%3D&reserved=0  \n",
       "174        https://gcc02.safelinks.protection.outlook.com/?url=https%3A%2F%2Fwww.microbiologyresearch.org%2Fcontent%2Fjournal%2Fijsem%2F10.1099%2Fijsem.0.006675%3Femailalert%3Dtrue&data=05%7C02%7Cmcveigh%40ncbi.nlm.nih.gov%7C017a70c948af4333a1c808dd4ce97ee5%7C14b77578977342d58507251ca2dc2b06%7C0%7C0%7C638751288089735188%7CUnknown%7CTWFpbGZsb3d8eyJFbXB0eU1hcGkiOnRydWUsIlYiOiIwLjAuMDAwMCIsIlAiOiJXaW4zMiIsIkFOIjoiTWFpbCIsIldUIjoyfQ%3D%3D%7C40000%7C%7C%7C&sdata=yZcx2J2gqkXmfKKvNh0Kdd3ISY7mJarVRuWFLQayIjM%3D&reserved=0  "
      ]
     },
     "execution_count": 9,
     "metadata": {},
     "output_type": "execute_result"
    }
   ],
   "source": [
    "pd.set_option('max_colwidth', None)\n",
    "pub_df['Strains'] = [', '.join(map(str, l)) for l in pub_df['Strains']]\n",
    "#pub_df['Strains'] = pub_df['Strains'].astype(str) \n",
    "pub_df['Strains'] = pub_df['Strains'].astype(pd.StringDtype())\n",
    "pub_df['Strains'] = pub_df['Strains'].str.replace(',', ', ')\n",
    "#pub_df\n",
    "pub_df = pub_df.drop_duplicates(subset='PublishedName', keep=\"first\")\n",
    "#pub_df\n",
    "#try drop duplicate accessions here\n",
    "pub_df.explode(['PublishedName']).reset_index(drop=True)\n",
    "pub_df"
   ]
  },
  {
   "cell_type": "code",
   "execution_count": null,
   "id": "e74e265b",
   "metadata": {},
   "outputs": [],
   "source": [
    "#pub_df['Strains'] = pub_df['Strains'].astype(pd.StringDtype())\n",
    "#pub_df['Strains'] = pub_df['Strains'].str.replace(',', ', ')\n",
    "#pub_df"
   ]
  },
  {
   "cell_type": "code",
   "execution_count": null,
   "id": "66791f58",
   "metadata": {},
   "outputs": [],
   "source": []
  },
  {
   "cell_type": "code",
   "execution_count": 10,
   "id": "58034d28",
   "metadata": {},
   "outputs": [],
   "source": [
    "pub2_df = pub_df.explode(['Accessions']).reset_index(drop=True)\n",
    "#pub2_df\n",
    "pub4_df = pub2_df.explode(['PublishedName']).reset_index(drop=True)\n",
    "pub4_df.rename(columns={'Accessions' : 'accession'}, inplace=True)\n",
    "#pub4_df = pub4_df.dropna()\n",
    "#pub4_df = pub4_df.drop_duplicates(subset='accession', keep=\"first\")\n",
    "pub4_df=pub4_df[pub4_df['accession'].isnull() | ~pub4_df[pub4_df['accession'].notnull()].duplicated(subset='accession',keep='first')]\n",
    "#pub4_df"
   ]
  },
  {
   "cell_type": "code",
   "execution_count": 11,
   "id": "4a103350",
   "metadata": {},
   "outputs": [],
   "source": [
    "df_unique= pub4_df.drop_duplicates([\"accession\"], keep=\"first\")\n",
    "#df_unique = df_unique.dropna()\n",
    "#df_unique"
   ]
  },
  {
   "cell_type": "markdown",
   "id": "d7f80dd1",
   "metadata": {},
   "source": [
    "### Create a dataframe of unique accessions and look up NCBI taxonomy information of each accession with srcchk"
   ]
  },
  {
   "cell_type": "code",
   "execution_count": null,
   "id": "84a9da33",
   "metadata": {},
   "outputs": [],
   "source": [
    "#df_unique.dtypes"
   ]
  },
  {
   "cell_type": "code",
   "execution_count": 12,
   "id": "8208be48",
   "metadata": {},
   "outputs": [],
   "source": [
    "df_unique['accession'] = df_unique['accession'].astype('str') "
   ]
  },
  {
   "cell_type": "code",
   "execution_count": 13,
   "id": "1be92fbc",
   "metadata": {},
   "outputs": [],
   "source": [
    "with open('acclist', 'w') as f:\n",
    "    for text in df_unique['accession'].tolist():\n",
    "        f.write(text + '\\n')"
   ]
  },
  {
   "cell_type": "code",
   "execution_count": 14,
   "id": "a97a9150",
   "metadata": {},
   "outputs": [
    {
     "name": "stderr",
     "output_type": "stream",
     "text": [
      "Error: Malformatted ID \"nan\"\n"
     ]
    },
    {
     "data": {
      "text/plain": [
       "0"
      ]
     },
     "execution_count": 14,
     "metadata": {},
     "output_type": "execute_result"
    }
   ],
   "source": [
    "os.system(\"/netopt/ncbi_tools64/bin/srcchk -i acclist -f taxname,taxid,strain -o acclist.taxdata\")\n"
   ]
  },
  {
   "cell_type": "code",
   "execution_count": 15,
   "id": "1f0aaf52",
   "metadata": {},
   "outputs": [
    {
     "data": {
      "text/html": [
       "<div>\n",
       "<style scoped>\n",
       "    .dataframe tbody tr th:only-of-type {\n",
       "        vertical-align: middle;\n",
       "    }\n",
       "\n",
       "    .dataframe tbody tr th {\n",
       "        vertical-align: top;\n",
       "    }\n",
       "\n",
       "    .dataframe thead th {\n",
       "        text-align: right;\n",
       "    }\n",
       "</style>\n",
       "<table border=\"1\" class=\"dataframe\">\n",
       "  <thead>\n",
       "    <tr style=\"text-align: right;\">\n",
       "      <th></th>\n",
       "      <th>accession</th>\n",
       "      <th>NCBIname</th>\n",
       "      <th>taxid</th>\n",
       "      <th>strain</th>\n",
       "    </tr>\n",
       "  </thead>\n",
       "  <tbody>\n",
       "    <tr>\n",
       "      <th>1</th>\n",
       "      <td>OR229715</td>\n",
       "      <td>Flavobacteriaceae bacterium</td>\n",
       "      <td>1871037.0</td>\n",
       "      <td>HL-DH10</td>\n",
       "    </tr>\n",
       "    <tr>\n",
       "      <th>2</th>\n",
       "      <td>OR652609</td>\n",
       "      <td>Flavobacteriaceae bacterium</td>\n",
       "      <td>1871037.0</td>\n",
       "      <td>HL-DH10</td>\n",
       "    </tr>\n",
       "    <tr>\n",
       "      <th>3</th>\n",
       "      <td>OR229716</td>\n",
       "      <td>Flavobacteriaceae bacterium</td>\n",
       "      <td>1871037.0</td>\n",
       "      <td>HL-DH14</td>\n",
       "    </tr>\n",
       "    <tr>\n",
       "      <th>4</th>\n",
       "      <td>OR652608</td>\n",
       "      <td>Flavobacteriaceae bacterium HL-DH14</td>\n",
       "      <td>3074125.0</td>\n",
       "      <td>HL-DH14</td>\n",
       "    </tr>\n",
       "    <tr>\n",
       "      <th>5</th>\n",
       "      <td>CP134536</td>\n",
       "      <td>Flavobacteriaceae bacterium HL-DH10</td>\n",
       "      <td>3074124.0</td>\n",
       "      <td>HL-DH10</td>\n",
       "    </tr>\n",
       "    <tr>\n",
       "      <th>6</th>\n",
       "      <td>CP134537</td>\n",
       "      <td>Flavobacteriaceae bacterium HL-DH14</td>\n",
       "      <td>3074125.0</td>\n",
       "      <td>HL-DH14</td>\n",
       "    </tr>\n",
       "    <tr>\n",
       "      <th>7</th>\n",
       "      <td>MK979366</td>\n",
       "      <td>Methanobacterium sp.</td>\n",
       "      <td>2164.0</td>\n",
       "      <td>CWC-01</td>\n",
       "    </tr>\n",
       "    <tr>\n",
       "      <th>8</th>\n",
       "      <td>CP040735</td>\n",
       "      <td>Methanobacterium sp. CWC-01</td>\n",
       "      <td>2584467.0</td>\n",
       "      <td>CWC-01</td>\n",
       "    </tr>\n",
       "    <tr>\n",
       "      <th>9</th>\n",
       "      <td>AP038758</td>\n",
       "      <td>Candidatus Minisyncoccus archaeophilus</td>\n",
       "      <td>3238481.0</td>\n",
       "      <td>PMX.108</td>\n",
       "    </tr>\n",
       "    <tr>\n",
       "      <th>10</th>\n",
       "      <td>LC847185</td>\n",
       "      <td>Candidatus Minisyncoccus archaeophilus</td>\n",
       "      <td>3238481.0</td>\n",
       "      <td>PMX.108</td>\n",
       "    </tr>\n",
       "    <tr>\n",
       "      <th>11</th>\n",
       "      <td>AP029250</td>\n",
       "      <td>Afipia sp. DD3</td>\n",
       "      <td>3116917.0</td>\n",
       "      <td>DD3</td>\n",
       "    </tr>\n",
       "    <tr>\n",
       "      <th>12</th>\n",
       "      <td>AP029255</td>\n",
       "      <td>Afipia sp. DDX28</td>\n",
       "      <td>3119019.0</td>\n",
       "      <td>DDX28</td>\n",
       "    </tr>\n",
       "    <tr>\n",
       "      <th>13</th>\n",
       "      <td>LC770309</td>\n",
       "      <td>Afipia sp.</td>\n",
       "      <td>1871052.0</td>\n",
       "      <td>DD3</td>\n",
       "    </tr>\n",
       "    <tr>\n",
       "      <th>14</th>\n",
       "      <td>LC770310</td>\n",
       "      <td>Afipia sp.</td>\n",
       "      <td>1871052.0</td>\n",
       "      <td>DDX28</td>\n",
       "    </tr>\n",
       "    <tr>\n",
       "      <th>15</th>\n",
       "      <td>PP494898</td>\n",
       "      <td>Oceanobacter sp.</td>\n",
       "      <td>2030817.0</td>\n",
       "      <td>wDCs-4</td>\n",
       "    </tr>\n",
       "    <tr>\n",
       "      <th>16</th>\n",
       "      <td>JBBKTX000000000</td>\n",
       "      <td>Oceanobacter sp. wDCs-4</td>\n",
       "      <td>3133425.0</td>\n",
       "      <td>wDCs-4</td>\n",
       "    </tr>\n",
       "    <tr>\n",
       "      <th>17</th>\n",
       "      <td>PP854632</td>\n",
       "      <td>Tamlana sp.</td>\n",
       "      <td>1969468.0</td>\n",
       "      <td>MA10</td>\n",
       "    </tr>\n",
       "    <tr>\n",
       "      <th>18</th>\n",
       "      <td>JBGGTX000000000</td>\n",
       "      <td>Tamlana sp. MA10</td>\n",
       "      <td>3158572.0</td>\n",
       "      <td>MA10</td>\n",
       "    </tr>\n",
       "    <tr>\n",
       "      <th>19</th>\n",
       "      <td>JBFNFE000000000</td>\n",
       "      <td>Streptococcus sp. 21WXBC0057M1</td>\n",
       "      <td>3095078.0</td>\n",
       "      <td>21WXBC0057M1</td>\n",
       "    </tr>\n",
       "    <tr>\n",
       "      <th>20</th>\n",
       "      <td>JAXHDO000000000</td>\n",
       "      <td>Streptococcus sp. 21WXBC0057M1</td>\n",
       "      <td>3095078.0</td>\n",
       "      <td>21WXBC0057M1</td>\n",
       "    </tr>\n",
       "    <tr>\n",
       "      <th>21</th>\n",
       "      <td>OR794556</td>\n",
       "      <td>Streptococcus sp.</td>\n",
       "      <td>1306.0</td>\n",
       "      <td>21WXBC0057M1</td>\n",
       "    </tr>\n",
       "    <tr>\n",
       "      <th>22</th>\n",
       "      <td>OR853715</td>\n",
       "      <td>Streptococcus sp.</td>\n",
       "      <td>1306.0</td>\n",
       "      <td>21WXBC0057M1</td>\n",
       "    </tr>\n",
       "    <tr>\n",
       "      <th>23</th>\n",
       "      <td>OR853720</td>\n",
       "      <td>Streptococcus sp.</td>\n",
       "      <td>1306.0</td>\n",
       "      <td>21WXBC0057M1</td>\n",
       "    </tr>\n",
       "    <tr>\n",
       "      <th>24</th>\n",
       "      <td>JBFNFF000000000</td>\n",
       "      <td>Streptococcus sp. 21WXBC0044M1</td>\n",
       "      <td>3095079.0</td>\n",
       "      <td>21WXBC0044M1</td>\n",
       "    </tr>\n",
       "    <tr>\n",
       "      <th>25</th>\n",
       "      <td>JAXHDN000000000</td>\n",
       "      <td>Streptococcus sp. 21WXBC0044M1</td>\n",
       "      <td>3095079.0</td>\n",
       "      <td>21WXBC0044M1</td>\n",
       "    </tr>\n",
       "    <tr>\n",
       "      <th>26</th>\n",
       "      <td>OR794555</td>\n",
       "      <td>Streptococcus sp.</td>\n",
       "      <td>1306.0</td>\n",
       "      <td>21WXBC0044M1</td>\n",
       "    </tr>\n",
       "    <tr>\n",
       "      <th>27</th>\n",
       "      <td>OR853714</td>\n",
       "      <td>Streptococcus sp.</td>\n",
       "      <td>1306.0</td>\n",
       "      <td>21WXBC0044M1</td>\n",
       "    </tr>\n",
       "    <tr>\n",
       "      <th>28</th>\n",
       "      <td>OR853719</td>\n",
       "      <td>Streptococcus sp.</td>\n",
       "      <td>1306.0</td>\n",
       "      <td>21WXBC0044M1</td>\n",
       "    </tr>\n",
       "    <tr>\n",
       "      <th>29</th>\n",
       "      <td>JBFNFG000000000</td>\n",
       "      <td>Streptococcus sp. BJSWXB5TM5</td>\n",
       "      <td>3095082.0</td>\n",
       "      <td>BJSWXB5TM5</td>\n",
       "    </tr>\n",
       "    <tr>\n",
       "      <th>30</th>\n",
       "      <td>JAXHDP000000000</td>\n",
       "      <td>Streptococcus sp. BJSWXB5TM5</td>\n",
       "      <td>3095082.0</td>\n",
       "      <td>BJSWXB5TM5</td>\n",
       "    </tr>\n",
       "    <tr>\n",
       "      <th>31</th>\n",
       "      <td>OR794558</td>\n",
       "      <td>Streptococcus sp.</td>\n",
       "      <td>1306.0</td>\n",
       "      <td>BJSWXB5TM5</td>\n",
       "    </tr>\n",
       "    <tr>\n",
       "      <th>32</th>\n",
       "      <td>OR853717</td>\n",
       "      <td>Streptococcus sp.</td>\n",
       "      <td>1306.0</td>\n",
       "      <td>BJSWXB5TM5</td>\n",
       "    </tr>\n",
       "    <tr>\n",
       "      <th>33</th>\n",
       "      <td>OR853722</td>\n",
       "      <td>Streptococcus sp.</td>\n",
       "      <td>1306.0</td>\n",
       "      <td>BJSWXB5TM5</td>\n",
       "    </tr>\n",
       "    <tr>\n",
       "      <th>34</th>\n",
       "      <td>PP065615</td>\n",
       "      <td>Lacrimispora sp.</td>\n",
       "      <td>2719234.0</td>\n",
       "      <td>JR3</td>\n",
       "    </tr>\n",
       "    <tr>\n",
       "      <th>35</th>\n",
       "      <td>CP141832</td>\n",
       "      <td>Lacrimispora sp. JR3</td>\n",
       "      <td>3111456.0</td>\n",
       "      <td>JR3</td>\n",
       "    </tr>\n",
       "  </tbody>\n",
       "</table>\n",
       "</div>"
      ],
      "text/plain": [
       "          accession                                NCBIname      taxid  \\\n",
       "1          OR229715             Flavobacteriaceae bacterium  1871037.0   \n",
       "2          OR652609             Flavobacteriaceae bacterium  1871037.0   \n",
       "3          OR229716             Flavobacteriaceae bacterium  1871037.0   \n",
       "4          OR652608     Flavobacteriaceae bacterium HL-DH14  3074125.0   \n",
       "5          CP134536     Flavobacteriaceae bacterium HL-DH10  3074124.0   \n",
       "6          CP134537     Flavobacteriaceae bacterium HL-DH14  3074125.0   \n",
       "7          MK979366                    Methanobacterium sp.     2164.0   \n",
       "8          CP040735             Methanobacterium sp. CWC-01  2584467.0   \n",
       "9          AP038758  Candidatus Minisyncoccus archaeophilus  3238481.0   \n",
       "10         LC847185  Candidatus Minisyncoccus archaeophilus  3238481.0   \n",
       "11         AP029250                          Afipia sp. DD3  3116917.0   \n",
       "12         AP029255                        Afipia sp. DDX28  3119019.0   \n",
       "13         LC770309                              Afipia sp.  1871052.0   \n",
       "14         LC770310                              Afipia sp.  1871052.0   \n",
       "15         PP494898                        Oceanobacter sp.  2030817.0   \n",
       "16  JBBKTX000000000                 Oceanobacter sp. wDCs-4  3133425.0   \n",
       "17         PP854632                             Tamlana sp.  1969468.0   \n",
       "18  JBGGTX000000000                        Tamlana sp. MA10  3158572.0   \n",
       "19  JBFNFE000000000          Streptococcus sp. 21WXBC0057M1  3095078.0   \n",
       "20  JAXHDO000000000          Streptococcus sp. 21WXBC0057M1  3095078.0   \n",
       "21         OR794556                       Streptococcus sp.     1306.0   \n",
       "22         OR853715                       Streptococcus sp.     1306.0   \n",
       "23         OR853720                       Streptococcus sp.     1306.0   \n",
       "24  JBFNFF000000000          Streptococcus sp. 21WXBC0044M1  3095079.0   \n",
       "25  JAXHDN000000000          Streptococcus sp. 21WXBC0044M1  3095079.0   \n",
       "26         OR794555                       Streptococcus sp.     1306.0   \n",
       "27         OR853714                       Streptococcus sp.     1306.0   \n",
       "28         OR853719                       Streptococcus sp.     1306.0   \n",
       "29  JBFNFG000000000            Streptococcus sp. BJSWXB5TM5  3095082.0   \n",
       "30  JAXHDP000000000            Streptococcus sp. BJSWXB5TM5  3095082.0   \n",
       "31         OR794558                       Streptococcus sp.     1306.0   \n",
       "32         OR853717                       Streptococcus sp.     1306.0   \n",
       "33         OR853722                       Streptococcus sp.     1306.0   \n",
       "34         PP065615                        Lacrimispora sp.  2719234.0   \n",
       "35         CP141832                    Lacrimispora sp. JR3  3111456.0   \n",
       "\n",
       "          strain  \n",
       "1        HL-DH10  \n",
       "2        HL-DH10  \n",
       "3        HL-DH14  \n",
       "4        HL-DH14  \n",
       "5        HL-DH10  \n",
       "6        HL-DH14  \n",
       "7         CWC-01  \n",
       "8         CWC-01  \n",
       "9        PMX.108  \n",
       "10       PMX.108  \n",
       "11           DD3  \n",
       "12         DDX28  \n",
       "13           DD3  \n",
       "14         DDX28  \n",
       "15        wDCs-4  \n",
       "16        wDCs-4  \n",
       "17          MA10  \n",
       "18          MA10  \n",
       "19  21WXBC0057M1  \n",
       "20  21WXBC0057M1  \n",
       "21  21WXBC0057M1  \n",
       "22  21WXBC0057M1  \n",
       "23  21WXBC0057M1  \n",
       "24  21WXBC0044M1  \n",
       "25  21WXBC0044M1  \n",
       "26  21WXBC0044M1  \n",
       "27  21WXBC0044M1  \n",
       "28  21WXBC0044M1  \n",
       "29    BJSWXB5TM5  \n",
       "30    BJSWXB5TM5  \n",
       "31    BJSWXB5TM5  \n",
       "32    BJSWXB5TM5  \n",
       "33    BJSWXB5TM5  \n",
       "34           JR3  \n",
       "35           JR3  "
      ]
     },
     "execution_count": 15,
     "metadata": {},
     "output_type": "execute_result"
    }
   ],
   "source": [
    "taxdata_file_name = (r'acclist.taxdata')    \n",
    "srcchk_df = pd.read_csv(taxdata_file_name, sep='\\t', index_col=None, low_memory=False)\n",
    "srcchk_df.drop(columns=['Unnamed: 4'], inplace=True)\n",
    "srcchk_df.rename(columns={'organism' : 'NCBIname'}, inplace=True)\n",
    "srcchk_df['accession'] = srcchk_df['accession'].astype(str).replace('\\.\\d+', '', regex=True).astype(str)\n",
    "srcchk_df = srcchk_df.dropna()\n",
    "srcchk_df \n",
    "#many need to add dropna here\n",
    "#If /strain is not populated on the NCBI accession, we lose the NCBI srcchk info here"
   ]
  },
  {
   "cell_type": "markdown",
   "id": "81b7fe78",
   "metadata": {},
   "source": [
    "### Combine dataframes into one"
   ]
  },
  {
   "cell_type": "code",
   "execution_count": 16,
   "id": "7f05118d",
   "metadata": {},
   "outputs": [
    {
     "data": {
      "text/html": [
       "<div>\n",
       "<style scoped>\n",
       "    .dataframe tbody tr th:only-of-type {\n",
       "        vertical-align: middle;\n",
       "    }\n",
       "\n",
       "    .dataframe tbody tr th {\n",
       "        vertical-align: top;\n",
       "    }\n",
       "\n",
       "    .dataframe thead th {\n",
       "        text-align: right;\n",
       "    }\n",
       "</style>\n",
       "<table border=\"1\" class=\"dataframe\">\n",
       "  <thead>\n",
       "    <tr style=\"text-align: right;\">\n",
       "      <th></th>\n",
       "      <th>PublishedName</th>\n",
       "      <th>NCBIname</th>\n",
       "      <th>Strains</th>\n",
       "      <th>accession</th>\n",
       "      <th>strain</th>\n",
       "      <th>Authority</th>\n",
       "      <th>taxid</th>\n",
       "      <th>DOI</th>\n",
       "      <th>URL</th>\n",
       "    </tr>\n",
       "  </thead>\n",
       "  <tbody>\n",
       "    <tr>\n",
       "      <th>0</th>\n",
       "      <td>NaN</td>\n",
       "      <td>NaN</td>\n",
       "      <td></td>\n",
       "      <td>NaN</td>\n",
       "      <td>NaN</td>\n",
       "      <td>Lee et al. 2025</td>\n",
       "      <td>NaN</td>\n",
       "      <td>https://doi.org/10.1099/ijsem.0.006663</td>\n",
       "      <td>https://gcc02.safelinks.protection.outlook.com/?url=https%3A%2F%2Fwww.microbiologyresearch.org%2Fcontent%2Fjournal%2Fijsem%2F10.1099%2Fijsem.0.006663%3Femailalert%3Dtrue&amp;data=05%7C02%7Cmcveigh%40ncbi.nlm.nih.gov%7C017a70c948af4333a1c808dd4ce97ee5%7C14b77578977342d58507251ca2dc2b06%7C0%7C0%7C638751288089330574%7CUnknown%7CTWFpbGZsb3d8eyJFbXB0eU1hcGkiOnRydWUsIlYiOiIwLjAuMDAwMCIsIlAiOiJXaW4zMiIsIkFOIjoiTWFpbCIsIldUIjoyfQ%3D%3D%7C40000%7C%7C%7C&amp;sdata=%2F9Mf43NMpFvAJ13NJ3KKsnI9C%2BRGKhXPDs0NPu7apYs%3D&amp;reserved=0</td>\n",
       "    </tr>\n",
       "    <tr>\n",
       "      <th>1</th>\n",
       "      <td>Thalassobellus suaedae</td>\n",
       "      <td>Flavobacteriaceae bacterium</td>\n",
       "      <td>HL-DH10T,  KCCM 90512T,  JCM 36598T,  HL-DH14,  KCCM 90513</td>\n",
       "      <td>OR229715</td>\n",
       "      <td>HL-DH10</td>\n",
       "      <td>Lee et al. 2025</td>\n",
       "      <td>1871037.0</td>\n",
       "      <td>https://doi.org/10.1099/ijsem.0.006663</td>\n",
       "      <td>https://gcc02.safelinks.protection.outlook.com/?url=https%3A%2F%2Fwww.microbiologyresearch.org%2Fcontent%2Fjournal%2Fijsem%2F10.1099%2Fijsem.0.006663%3Femailalert%3Dtrue&amp;data=05%7C02%7Cmcveigh%40ncbi.nlm.nih.gov%7C017a70c948af4333a1c808dd4ce97ee5%7C14b77578977342d58507251ca2dc2b06%7C0%7C0%7C638751288089330574%7CUnknown%7CTWFpbGZsb3d8eyJFbXB0eU1hcGkiOnRydWUsIlYiOiIwLjAuMDAwMCIsIlAiOiJXaW4zMiIsIkFOIjoiTWFpbCIsIldUIjoyfQ%3D%3D%7C40000%7C%7C%7C&amp;sdata=%2F9Mf43NMpFvAJ13NJ3KKsnI9C%2BRGKhXPDs0NPu7apYs%3D&amp;reserved=0</td>\n",
       "    </tr>\n",
       "    <tr>\n",
       "      <th>2</th>\n",
       "      <td>Thalassobellus suaedae</td>\n",
       "      <td>Flavobacteriaceae bacterium</td>\n",
       "      <td>HL-DH10T,  KCCM 90512T,  JCM 36598T,  HL-DH14,  KCCM 90513</td>\n",
       "      <td>OR652609</td>\n",
       "      <td>HL-DH10</td>\n",
       "      <td>Lee et al. 2025</td>\n",
       "      <td>1871037.0</td>\n",
       "      <td>https://doi.org/10.1099/ijsem.0.006663</td>\n",
       "      <td>https://gcc02.safelinks.protection.outlook.com/?url=https%3A%2F%2Fwww.microbiologyresearch.org%2Fcontent%2Fjournal%2Fijsem%2F10.1099%2Fijsem.0.006663%3Femailalert%3Dtrue&amp;data=05%7C02%7Cmcveigh%40ncbi.nlm.nih.gov%7C017a70c948af4333a1c808dd4ce97ee5%7C14b77578977342d58507251ca2dc2b06%7C0%7C0%7C638751288089330574%7CUnknown%7CTWFpbGZsb3d8eyJFbXB0eU1hcGkiOnRydWUsIlYiOiIwLjAuMDAwMCIsIlAiOiJXaW4zMiIsIkFOIjoiTWFpbCIsIldUIjoyfQ%3D%3D%7C40000%7C%7C%7C&amp;sdata=%2F9Mf43NMpFvAJ13NJ3KKsnI9C%2BRGKhXPDs0NPu7apYs%3D&amp;reserved=0</td>\n",
       "    </tr>\n",
       "    <tr>\n",
       "      <th>3</th>\n",
       "      <td>Thalassobellus suaedae</td>\n",
       "      <td>Flavobacteriaceae bacterium</td>\n",
       "      <td>HL-DH10T,  KCCM 90512T,  JCM 36598T,  HL-DH14,  KCCM 90513</td>\n",
       "      <td>OR229716</td>\n",
       "      <td>HL-DH14</td>\n",
       "      <td>Lee et al. 2025</td>\n",
       "      <td>1871037.0</td>\n",
       "      <td>https://doi.org/10.1099/ijsem.0.006663</td>\n",
       "      <td>https://gcc02.safelinks.protection.outlook.com/?url=https%3A%2F%2Fwww.microbiologyresearch.org%2Fcontent%2Fjournal%2Fijsem%2F10.1099%2Fijsem.0.006663%3Femailalert%3Dtrue&amp;data=05%7C02%7Cmcveigh%40ncbi.nlm.nih.gov%7C017a70c948af4333a1c808dd4ce97ee5%7C14b77578977342d58507251ca2dc2b06%7C0%7C0%7C638751288089330574%7CUnknown%7CTWFpbGZsb3d8eyJFbXB0eU1hcGkiOnRydWUsIlYiOiIwLjAuMDAwMCIsIlAiOiJXaW4zMiIsIkFOIjoiTWFpbCIsIldUIjoyfQ%3D%3D%7C40000%7C%7C%7C&amp;sdata=%2F9Mf43NMpFvAJ13NJ3KKsnI9C%2BRGKhXPDs0NPu7apYs%3D&amp;reserved=0</td>\n",
       "    </tr>\n",
       "    <tr>\n",
       "      <th>4</th>\n",
       "      <td>Thalassobellus suaedae</td>\n",
       "      <td>Flavobacteriaceae bacterium HL-DH14</td>\n",
       "      <td>HL-DH10T,  KCCM 90512T,  JCM 36598T,  HL-DH14,  KCCM 90513</td>\n",
       "      <td>OR652608</td>\n",
       "      <td>HL-DH14</td>\n",
       "      <td>Lee et al. 2025</td>\n",
       "      <td>3074125.0</td>\n",
       "      <td>https://doi.org/10.1099/ijsem.0.006663</td>\n",
       "      <td>https://gcc02.safelinks.protection.outlook.com/?url=https%3A%2F%2Fwww.microbiologyresearch.org%2Fcontent%2Fjournal%2Fijsem%2F10.1099%2Fijsem.0.006663%3Femailalert%3Dtrue&amp;data=05%7C02%7Cmcveigh%40ncbi.nlm.nih.gov%7C017a70c948af4333a1c808dd4ce97ee5%7C14b77578977342d58507251ca2dc2b06%7C0%7C0%7C638751288089330574%7CUnknown%7CTWFpbGZsb3d8eyJFbXB0eU1hcGkiOnRydWUsIlYiOiIwLjAuMDAwMCIsIlAiOiJXaW4zMiIsIkFOIjoiTWFpbCIsIldUIjoyfQ%3D%3D%7C40000%7C%7C%7C&amp;sdata=%2F9Mf43NMpFvAJ13NJ3KKsnI9C%2BRGKhXPDs0NPu7apYs%3D&amp;reserved=0</td>\n",
       "    </tr>\n",
       "    <tr>\n",
       "      <th>5</th>\n",
       "      <td>Thalassobellus suaedae</td>\n",
       "      <td>Flavobacteriaceae bacterium HL-DH10</td>\n",
       "      <td>HL-DH10T,  KCCM 90512T,  JCM 36598T,  HL-DH14,  KCCM 90513</td>\n",
       "      <td>CP134536</td>\n",
       "      <td>HL-DH10</td>\n",
       "      <td>Lee et al. 2025</td>\n",
       "      <td>3074124.0</td>\n",
       "      <td>https://doi.org/10.1099/ijsem.0.006663</td>\n",
       "      <td>https://gcc02.safelinks.protection.outlook.com/?url=https%3A%2F%2Fwww.microbiologyresearch.org%2Fcontent%2Fjournal%2Fijsem%2F10.1099%2Fijsem.0.006663%3Femailalert%3Dtrue&amp;data=05%7C02%7Cmcveigh%40ncbi.nlm.nih.gov%7C017a70c948af4333a1c808dd4ce97ee5%7C14b77578977342d58507251ca2dc2b06%7C0%7C0%7C638751288089330574%7CUnknown%7CTWFpbGZsb3d8eyJFbXB0eU1hcGkiOnRydWUsIlYiOiIwLjAuMDAwMCIsIlAiOiJXaW4zMiIsIkFOIjoiTWFpbCIsIldUIjoyfQ%3D%3D%7C40000%7C%7C%7C&amp;sdata=%2F9Mf43NMpFvAJ13NJ3KKsnI9C%2BRGKhXPDs0NPu7apYs%3D&amp;reserved=0</td>\n",
       "    </tr>\n",
       "    <tr>\n",
       "      <th>6</th>\n",
       "      <td>Thalassobellus suaedae</td>\n",
       "      <td>Flavobacteriaceae bacterium HL-DH14</td>\n",
       "      <td>HL-DH10T,  KCCM 90512T,  JCM 36598T,  HL-DH14,  KCCM 90513</td>\n",
       "      <td>CP134537</td>\n",
       "      <td>HL-DH14</td>\n",
       "      <td>Lee et al. 2025</td>\n",
       "      <td>3074125.0</td>\n",
       "      <td>https://doi.org/10.1099/ijsem.0.006663</td>\n",
       "      <td>https://gcc02.safelinks.protection.outlook.com/?url=https%3A%2F%2Fwww.microbiologyresearch.org%2Fcontent%2Fjournal%2Fijsem%2F10.1099%2Fijsem.0.006663%3Femailalert%3Dtrue&amp;data=05%7C02%7Cmcveigh%40ncbi.nlm.nih.gov%7C017a70c948af4333a1c808dd4ce97ee5%7C14b77578977342d58507251ca2dc2b06%7C0%7C0%7C638751288089330574%7CUnknown%7CTWFpbGZsb3d8eyJFbXB0eU1hcGkiOnRydWUsIlYiOiIwLjAuMDAwMCIsIlAiOiJXaW4zMiIsIkFOIjoiTWFpbCIsIldUIjoyfQ%3D%3D%7C40000%7C%7C%7C&amp;sdata=%2F9Mf43NMpFvAJ13NJ3KKsnI9C%2BRGKhXPDs0NPu7apYs%3D&amp;reserved=0</td>\n",
       "    </tr>\n",
       "    <tr>\n",
       "      <th>7</th>\n",
       "      <td>Methanobacterium aridiramus</td>\n",
       "      <td>Methanobacterium sp.</td>\n",
       "      <td>CWC-01T,  BCRC AR10053T,  NBRC 113991T</td>\n",
       "      <td>MK979366</td>\n",
       "      <td>CWC-01</td>\n",
       "      <td>Lee et al. 2025</td>\n",
       "      <td>2164.0</td>\n",
       "      <td>https://doi.org/10.1099/ijsem.0.006658</td>\n",
       "      <td>https://gcc02.safelinks.protection.outlook.com/?url=https%3A%2F%2Fwww.microbiologyresearch.org%2Fcontent%2Fjournal%2Fijsem%2F10.1099%2Fijsem.0.006658%3Femailalert%3Dtrue&amp;data=05%7C02%7Cmcveigh%40ncbi.nlm.nih.gov%7C017a70c948af4333a1c808dd4ce97ee5%7C14b77578977342d58507251ca2dc2b06%7C0%7C0%7C638751288089383537%7CUnknown%7CTWFpbGZsb3d8eyJFbXB0eU1hcGkiOnRydWUsIlYiOiIwLjAuMDAwMCIsIlAiOiJXaW4zMiIsIkFOIjoiTWFpbCIsIldUIjoyfQ%3D%3D%7C40000%7C%7C%7C&amp;sdata=n6Mm1qXs2TjrrOYlH1jFldblC5%2Bdu%2BbqcDRUZr1aCE4%3D&amp;reserved=0</td>\n",
       "    </tr>\n",
       "    <tr>\n",
       "      <th>8</th>\n",
       "      <td>Methanobacterium aridiramus</td>\n",
       "      <td>Methanobacterium sp. CWC-01</td>\n",
       "      <td>CWC-01T,  BCRC AR10053T,  NBRC 113991T</td>\n",
       "      <td>CP040735</td>\n",
       "      <td>CWC-01</td>\n",
       "      <td>Lee et al. 2025</td>\n",
       "      <td>2584467.0</td>\n",
       "      <td>https://doi.org/10.1099/ijsem.0.006658</td>\n",
       "      <td>https://gcc02.safelinks.protection.outlook.com/?url=https%3A%2F%2Fwww.microbiologyresearch.org%2Fcontent%2Fjournal%2Fijsem%2F10.1099%2Fijsem.0.006658%3Femailalert%3Dtrue&amp;data=05%7C02%7Cmcveigh%40ncbi.nlm.nih.gov%7C017a70c948af4333a1c808dd4ce97ee5%7C14b77578977342d58507251ca2dc2b06%7C0%7C0%7C638751288089383537%7CUnknown%7CTWFpbGZsb3d8eyJFbXB0eU1hcGkiOnRydWUsIlYiOiIwLjAuMDAwMCIsIlAiOiJXaW4zMiIsIkFOIjoiTWFpbCIsIldUIjoyfQ%3D%3D%7C40000%7C%7C%7C&amp;sdata=n6Mm1qXs2TjrrOYlH1jFldblC5%2Bdu%2BbqcDRUZr1aCE4%3D&amp;reserved=0</td>\n",
       "    </tr>\n",
       "    <tr>\n",
       "      <th>9</th>\n",
       "      <td>Minisyncoccus archaeiphilus</td>\n",
       "      <td>Candidatus Minisyncoccus archaeophilus</td>\n",
       "      <td>PMX.108T,  JCM 39522T</td>\n",
       "      <td>AP038758</td>\n",
       "      <td>PMX.108</td>\n",
       "      <td>Nakajima et al. 2025</td>\n",
       "      <td>3238481.0</td>\n",
       "      <td>https://doi.org/10.5281/zenodo.10140531</td>\n",
       "      <td>https://gcc02.safelinks.protection.outlook.com/?url=https%3A%2F%2Fwww.microbiologyresearch.org%2Fcontent%2Fjournal%2Fijsem%2F10.1099%2Fijsem.0.006668%3Femailalert%3Dtrue&amp;data=05%7C02%7Cmcveigh%40ncbi.nlm.nih.gov%7C017a70c948af4333a1c808dd4ce97ee5%7C14b77578977342d58507251ca2dc2b06%7C0%7C0%7C638751288089563102%7CUnknown%7CTWFpbGZsb3d8eyJFbXB0eU1hcGkiOnRydWUsIlYiOiIwLjAuMDAwMCIsIlAiOiJXaW4zMiIsIkFOIjoiTWFpbCIsIldUIjoyfQ%3D%3D%7C40000%7C%7C%7C&amp;sdata=3X9B3NLCY%2BU%2FdZOHG5rj0eHv4ShcDUe18vhPlUBhrAg%3D&amp;reserved=0</td>\n",
       "    </tr>\n",
       "    <tr>\n",
       "      <th>10</th>\n",
       "      <td>Minisyncoccus archaeiphilus</td>\n",
       "      <td>Candidatus Minisyncoccus archaeophilus</td>\n",
       "      <td>PMX.108T,  JCM 39522T</td>\n",
       "      <td>LC847185</td>\n",
       "      <td>PMX.108</td>\n",
       "      <td>Nakajima et al. 2025</td>\n",
       "      <td>3238481.0</td>\n",
       "      <td>https://doi.org/10.5281/zenodo.10140531</td>\n",
       "      <td>https://gcc02.safelinks.protection.outlook.com/?url=https%3A%2F%2Fwww.microbiologyresearch.org%2Fcontent%2Fjournal%2Fijsem%2F10.1099%2Fijsem.0.006668%3Femailalert%3Dtrue&amp;data=05%7C02%7Cmcveigh%40ncbi.nlm.nih.gov%7C017a70c948af4333a1c808dd4ce97ee5%7C14b77578977342d58507251ca2dc2b06%7C0%7C0%7C638751288089563102%7CUnknown%7CTWFpbGZsb3d8eyJFbXB0eU1hcGkiOnRydWUsIlYiOiIwLjAuMDAwMCIsIlAiOiJXaW4zMiIsIkFOIjoiTWFpbCIsIldUIjoyfQ%3D%3D%7C40000%7C%7C%7C&amp;sdata=3X9B3NLCY%2BU%2FdZOHG5rj0eHv4ShcDUe18vhPlUBhrAg%3D&amp;reserved=0</td>\n",
       "    </tr>\n",
       "    <tr>\n",
       "      <th>11</th>\n",
       "      <td>Afipia dichlorophenoxyacetatis</td>\n",
       "      <td>Afipia sp. DD3</td>\n",
       "      <td>DD3T,  MAFF 311804T,  ICMP 25015T,  MAFF 311814,  ICMP 25016</td>\n",
       "      <td>AP029250</td>\n",
       "      <td>DD3</td>\n",
       "      <td>Sawada et al. 2025</td>\n",
       "      <td>3116917.0</td>\n",
       "      <td>https://doi.org/10.1099/ijsem.0.006672</td>\n",
       "      <td>https://gcc02.safelinks.protection.outlook.com/?url=https%3A%2F%2Fwww.microbiologyresearch.org%2Fcontent%2Fjournal%2Fijsem%2F10.1099%2Fijsem.0.006672%3Femailalert%3Dtrue&amp;data=05%7C02%7Cmcveigh%40ncbi.nlm.nih.gov%7C017a70c948af4333a1c808dd4ce97ee5%7C14b77578977342d58507251ca2dc2b06%7C0%7C0%7C638751288089597233%7CUnknown%7CTWFpbGZsb3d8eyJFbXB0eU1hcGkiOnRydWUsIlYiOiIwLjAuMDAwMCIsIlAiOiJXaW4zMiIsIkFOIjoiTWFpbCIsIldUIjoyfQ%3D%3D%7C40000%7C%7C%7C&amp;sdata=ASJ4qJ6s9rIYcPAJEuujidW%2BW8I65RB%2B0SZnXx5AKxE%3D&amp;reserved=0</td>\n",
       "    </tr>\n",
       "    <tr>\n",
       "      <th>12</th>\n",
       "      <td>Afipia dichlorophenoxyacetatis</td>\n",
       "      <td>Afipia sp. DDX28</td>\n",
       "      <td>DD3T,  MAFF 311804T,  ICMP 25015T,  MAFF 311814,  ICMP 25016</td>\n",
       "      <td>AP029255</td>\n",
       "      <td>DDX28</td>\n",
       "      <td>Sawada et al. 2025</td>\n",
       "      <td>3119019.0</td>\n",
       "      <td>https://doi.org/10.1099/ijsem.0.006672</td>\n",
       "      <td>https://gcc02.safelinks.protection.outlook.com/?url=https%3A%2F%2Fwww.microbiologyresearch.org%2Fcontent%2Fjournal%2Fijsem%2F10.1099%2Fijsem.0.006672%3Femailalert%3Dtrue&amp;data=05%7C02%7Cmcveigh%40ncbi.nlm.nih.gov%7C017a70c948af4333a1c808dd4ce97ee5%7C14b77578977342d58507251ca2dc2b06%7C0%7C0%7C638751288089597233%7CUnknown%7CTWFpbGZsb3d8eyJFbXB0eU1hcGkiOnRydWUsIlYiOiIwLjAuMDAwMCIsIlAiOiJXaW4zMiIsIkFOIjoiTWFpbCIsIldUIjoyfQ%3D%3D%7C40000%7C%7C%7C&amp;sdata=ASJ4qJ6s9rIYcPAJEuujidW%2BW8I65RB%2B0SZnXx5AKxE%3D&amp;reserved=0</td>\n",
       "    </tr>\n",
       "    <tr>\n",
       "      <th>13</th>\n",
       "      <td>Afipia dichlorophenoxyacetatis</td>\n",
       "      <td>Afipia sp.</td>\n",
       "      <td>DD3T,  MAFF 311804T,  ICMP 25015T,  MAFF 311814,  ICMP 25016</td>\n",
       "      <td>LC770309</td>\n",
       "      <td>DD3</td>\n",
       "      <td>Sawada et al. 2025</td>\n",
       "      <td>1871052.0</td>\n",
       "      <td>https://doi.org/10.1099/ijsem.0.006672</td>\n",
       "      <td>https://gcc02.safelinks.protection.outlook.com/?url=https%3A%2F%2Fwww.microbiologyresearch.org%2Fcontent%2Fjournal%2Fijsem%2F10.1099%2Fijsem.0.006672%3Femailalert%3Dtrue&amp;data=05%7C02%7Cmcveigh%40ncbi.nlm.nih.gov%7C017a70c948af4333a1c808dd4ce97ee5%7C14b77578977342d58507251ca2dc2b06%7C0%7C0%7C638751288089597233%7CUnknown%7CTWFpbGZsb3d8eyJFbXB0eU1hcGkiOnRydWUsIlYiOiIwLjAuMDAwMCIsIlAiOiJXaW4zMiIsIkFOIjoiTWFpbCIsIldUIjoyfQ%3D%3D%7C40000%7C%7C%7C&amp;sdata=ASJ4qJ6s9rIYcPAJEuujidW%2BW8I65RB%2B0SZnXx5AKxE%3D&amp;reserved=0</td>\n",
       "    </tr>\n",
       "    <tr>\n",
       "      <th>14</th>\n",
       "      <td>Afipia dichlorophenoxyacetatis</td>\n",
       "      <td>Afipia sp.</td>\n",
       "      <td>DD3T,  MAFF 311804T,  ICMP 25015T,  MAFF 311814,  ICMP 25016</td>\n",
       "      <td>LC770310</td>\n",
       "      <td>DDX28</td>\n",
       "      <td>Sawada et al. 2025</td>\n",
       "      <td>1871052.0</td>\n",
       "      <td>https://doi.org/10.1099/ijsem.0.006672</td>\n",
       "      <td>https://gcc02.safelinks.protection.outlook.com/?url=https%3A%2F%2Fwww.microbiologyresearch.org%2Fcontent%2Fjournal%2Fijsem%2F10.1099%2Fijsem.0.006672%3Femailalert%3Dtrue&amp;data=05%7C02%7Cmcveigh%40ncbi.nlm.nih.gov%7C017a70c948af4333a1c808dd4ce97ee5%7C14b77578977342d58507251ca2dc2b06%7C0%7C0%7C638751288089597233%7CUnknown%7CTWFpbGZsb3d8eyJFbXB0eU1hcGkiOnRydWUsIlYiOiIwLjAuMDAwMCIsIlAiOiJXaW4zMiIsIkFOIjoiTWFpbCIsIldUIjoyfQ%3D%3D%7C40000%7C%7C%7C&amp;sdata=ASJ4qJ6s9rIYcPAJEuujidW%2BW8I65RB%2B0SZnXx5AKxE%3D&amp;reserved=0</td>\n",
       "    </tr>\n",
       "    <tr>\n",
       "      <th>15</th>\n",
       "      <td>Oceanobacter antarcticus</td>\n",
       "      <td>Oceanobacter sp.</td>\n",
       "      <td>wDCs-4T,  MCCC 1A20726T,  KCTC 8314T</td>\n",
       "      <td>PP494898</td>\n",
       "      <td>wDCs-4</td>\n",
       "      <td>Zhang et al. 2025</td>\n",
       "      <td>2030817.0</td>\n",
       "      <td>https://doi.org/10.1099/ijsem.0.006676</td>\n",
       "      <td>https://gcc02.safelinks.protection.outlook.com/?url=https%3A%2F%2Fwww.microbiologyresearch.org%2Fcontent%2Fjournal%2Fijsem%2F10.1099%2Fijsem.0.006676%3Femailalert%3Dtrue&amp;data=05%7C02%7Cmcveigh%40ncbi.nlm.nih.gov%7C017a70c948af4333a1c808dd4ce97ee5%7C14b77578977342d58507251ca2dc2b06%7C0%7C0%7C638751288089633623%7CUnknown%7CTWFpbGZsb3d8eyJFbXB0eU1hcGkiOnRydWUsIlYiOiIwLjAuMDAwMCIsIlAiOiJXaW4zMiIsIkFOIjoiTWFpbCIsIldUIjoyfQ%3D%3D%7C40000%7C%7C%7C&amp;sdata=93hPxOFV1RNJzuGaS6UBfbTNJy5lhlW6ZJDjiMXr2TA%3D&amp;reserved=0</td>\n",
       "    </tr>\n",
       "    <tr>\n",
       "      <th>16</th>\n",
       "      <td>Oceanobacter antarcticus</td>\n",
       "      <td>Oceanobacter sp. wDCs-4</td>\n",
       "      <td>wDCs-4T,  MCCC 1A20726T,  KCTC 8314T</td>\n",
       "      <td>JBBKTX000000000</td>\n",
       "      <td>wDCs-4</td>\n",
       "      <td>Zhang et al. 2025</td>\n",
       "      <td>3133425.0</td>\n",
       "      <td>https://doi.org/10.1099/ijsem.0.006676</td>\n",
       "      <td>https://gcc02.safelinks.protection.outlook.com/?url=https%3A%2F%2Fwww.microbiologyresearch.org%2Fcontent%2Fjournal%2Fijsem%2F10.1099%2Fijsem.0.006676%3Femailalert%3Dtrue&amp;data=05%7C02%7Cmcveigh%40ncbi.nlm.nih.gov%7C017a70c948af4333a1c808dd4ce97ee5%7C14b77578977342d58507251ca2dc2b06%7C0%7C0%7C638751288089633623%7CUnknown%7CTWFpbGZsb3d8eyJFbXB0eU1hcGkiOnRydWUsIlYiOiIwLjAuMDAwMCIsIlAiOiJXaW4zMiIsIkFOIjoiTWFpbCIsIldUIjoyfQ%3D%3D%7C40000%7C%7C%7C&amp;sdata=93hPxOFV1RNJzuGaS6UBfbTNJy5lhlW6ZJDjiMXr2TA%3D&amp;reserved=0</td>\n",
       "    </tr>\n",
       "    <tr>\n",
       "      <th>17</th>\n",
       "      <td>Tamlana flava</td>\n",
       "      <td>Tamlana sp.</td>\n",
       "      <td>MA10T,  MCCC 1K09289T,  KCTC 102321T</td>\n",
       "      <td>PP854632</td>\n",
       "      <td>MA10</td>\n",
       "      <td>Huang et al. 2025</td>\n",
       "      <td>1969468.0</td>\n",
       "      <td>https://doi.org/10.1099/ijsem.0.006673</td>\n",
       "      <td>https://gcc02.safelinks.protection.outlook.com/?url=https%3A%2F%2Fwww.microbiologyresearch.org%2Fcontent%2Fjournal%2Fijsem%2F10.1099%2Fijsem.0.006673%3Femailalert%3Dtrue&amp;data=05%7C02%7Cmcveigh%40ncbi.nlm.nih.gov%7C017a70c948af4333a1c808dd4ce97ee5%7C14b77578977342d58507251ca2dc2b06%7C0%7C0%7C638751288089683051%7CUnknown%7CTWFpbGZsb3d8eyJFbXB0eU1hcGkiOnRydWUsIlYiOiIwLjAuMDAwMCIsIlAiOiJXaW4zMiIsIkFOIjoiTWFpbCIsIldUIjoyfQ%3D%3D%7C40000%7C%7C%7C&amp;sdata=u9UJl%2F3Ly8NDlEGAKjtL1xF49bCOvRHAbGOG0qtdp3Q%3D&amp;reserved=0</td>\n",
       "    </tr>\n",
       "    <tr>\n",
       "      <th>18</th>\n",
       "      <td>Tamlana flava</td>\n",
       "      <td>Tamlana sp. MA10</td>\n",
       "      <td>MA10T,  MCCC 1K09289T,  KCTC 102321T</td>\n",
       "      <td>JBGGTX000000000</td>\n",
       "      <td>MA10</td>\n",
       "      <td>Huang et al. 2025</td>\n",
       "      <td>3158572.0</td>\n",
       "      <td>https://doi.org/10.1099/ijsem.0.006673</td>\n",
       "      <td>https://gcc02.safelinks.protection.outlook.com/?url=https%3A%2F%2Fwww.microbiologyresearch.org%2Fcontent%2Fjournal%2Fijsem%2F10.1099%2Fijsem.0.006673%3Femailalert%3Dtrue&amp;data=05%7C02%7Cmcveigh%40ncbi.nlm.nih.gov%7C017a70c948af4333a1c808dd4ce97ee5%7C14b77578977342d58507251ca2dc2b06%7C0%7C0%7C638751288089683051%7CUnknown%7CTWFpbGZsb3d8eyJFbXB0eU1hcGkiOnRydWUsIlYiOiIwLjAuMDAwMCIsIlAiOiJXaW4zMiIsIkFOIjoiTWFpbCIsIldUIjoyfQ%3D%3D%7C40000%7C%7C%7C&amp;sdata=u9UJl%2F3Ly8NDlEGAKjtL1xF49bCOvRHAbGOG0qtdp3Q%3D&amp;reserved=0</td>\n",
       "    </tr>\n",
       "    <tr>\n",
       "      <th>19</th>\n",
       "      <td>streptococcus wuxiensis</td>\n",
       "      <td>Streptococcus sp. 21WXBC0057M1</td>\n",
       "      <td>21WXBC0057M1T,  GDMCC 1.4126T,  KCTC 25760T</td>\n",
       "      <td>JBFNFE000000000</td>\n",
       "      <td>21WXBC0057M1</td>\n",
       "      <td>Zhou et al. 2025</td>\n",
       "      <td>3095078.0</td>\n",
       "      <td>https://doi.org/10.1099/ijsem.0.006674</td>\n",
       "      <td>https://gcc02.safelinks.protection.outlook.com/?url=https%3A%2F%2Fwww.microbiologyresearch.org%2Fcontent%2Fjournal%2Fijsem%2F10.1099%2Fijsem.0.006674%3Femailalert%3Dtrue&amp;data=05%7C02%7Cmcveigh%40ncbi.nlm.nih.gov%7C017a70c948af4333a1c808dd4ce97ee5%7C14b77578977342d58507251ca2dc2b06%7C0%7C0%7C638751288089710352%7CUnknown%7CTWFpbGZsb3d8eyJFbXB0eU1hcGkiOnRydWUsIlYiOiIwLjAuMDAwMCIsIlAiOiJXaW4zMiIsIkFOIjoiTWFpbCIsIldUIjoyfQ%3D%3D%7C40000%7C%7C%7C&amp;sdata=hi4NC%2FEVWTCaeKPbdc5ZVA3OQr%2FKd%2FcdUHJ50i6srdI%3D&amp;reserved=0</td>\n",
       "    </tr>\n",
       "    <tr>\n",
       "      <th>20</th>\n",
       "      <td>streptococcus wuxiensis</td>\n",
       "      <td>Streptococcus sp. 21WXBC0057M1</td>\n",
       "      <td>21WXBC0057M1T,  GDMCC 1.4126T,  KCTC 25760T</td>\n",
       "      <td>JAXHDO000000000</td>\n",
       "      <td>21WXBC0057M1</td>\n",
       "      <td>Zhou et al. 2025</td>\n",
       "      <td>3095078.0</td>\n",
       "      <td>https://doi.org/10.1099/ijsem.0.006674</td>\n",
       "      <td>https://gcc02.safelinks.protection.outlook.com/?url=https%3A%2F%2Fwww.microbiologyresearch.org%2Fcontent%2Fjournal%2Fijsem%2F10.1099%2Fijsem.0.006674%3Femailalert%3Dtrue&amp;data=05%7C02%7Cmcveigh%40ncbi.nlm.nih.gov%7C017a70c948af4333a1c808dd4ce97ee5%7C14b77578977342d58507251ca2dc2b06%7C0%7C0%7C638751288089710352%7CUnknown%7CTWFpbGZsb3d8eyJFbXB0eU1hcGkiOnRydWUsIlYiOiIwLjAuMDAwMCIsIlAiOiJXaW4zMiIsIkFOIjoiTWFpbCIsIldUIjoyfQ%3D%3D%7C40000%7C%7C%7C&amp;sdata=hi4NC%2FEVWTCaeKPbdc5ZVA3OQr%2FKd%2FcdUHJ50i6srdI%3D&amp;reserved=0</td>\n",
       "    </tr>\n",
       "    <tr>\n",
       "      <th>21</th>\n",
       "      <td>streptococcus wuxiensis</td>\n",
       "      <td>Streptococcus sp.</td>\n",
       "      <td>21WXBC0057M1T,  GDMCC 1.4126T,  KCTC 25760T</td>\n",
       "      <td>OR794556</td>\n",
       "      <td>21WXBC0057M1</td>\n",
       "      <td>Zhou et al. 2025</td>\n",
       "      <td>1306.0</td>\n",
       "      <td>https://doi.org/10.1099/ijsem.0.006674</td>\n",
       "      <td>https://gcc02.safelinks.protection.outlook.com/?url=https%3A%2F%2Fwww.microbiologyresearch.org%2Fcontent%2Fjournal%2Fijsem%2F10.1099%2Fijsem.0.006674%3Femailalert%3Dtrue&amp;data=05%7C02%7Cmcveigh%40ncbi.nlm.nih.gov%7C017a70c948af4333a1c808dd4ce97ee5%7C14b77578977342d58507251ca2dc2b06%7C0%7C0%7C638751288089710352%7CUnknown%7CTWFpbGZsb3d8eyJFbXB0eU1hcGkiOnRydWUsIlYiOiIwLjAuMDAwMCIsIlAiOiJXaW4zMiIsIkFOIjoiTWFpbCIsIldUIjoyfQ%3D%3D%7C40000%7C%7C%7C&amp;sdata=hi4NC%2FEVWTCaeKPbdc5ZVA3OQr%2FKd%2FcdUHJ50i6srdI%3D&amp;reserved=0</td>\n",
       "    </tr>\n",
       "    <tr>\n",
       "      <th>22</th>\n",
       "      <td>streptococcus wuxiensis</td>\n",
       "      <td>Streptococcus sp.</td>\n",
       "      <td>21WXBC0057M1T,  GDMCC 1.4126T,  KCTC 25760T</td>\n",
       "      <td>OR853715</td>\n",
       "      <td>21WXBC0057M1</td>\n",
       "      <td>Zhou et al. 2025</td>\n",
       "      <td>1306.0</td>\n",
       "      <td>https://doi.org/10.1099/ijsem.0.006674</td>\n",
       "      <td>https://gcc02.safelinks.protection.outlook.com/?url=https%3A%2F%2Fwww.microbiologyresearch.org%2Fcontent%2Fjournal%2Fijsem%2F10.1099%2Fijsem.0.006674%3Femailalert%3Dtrue&amp;data=05%7C02%7Cmcveigh%40ncbi.nlm.nih.gov%7C017a70c948af4333a1c808dd4ce97ee5%7C14b77578977342d58507251ca2dc2b06%7C0%7C0%7C638751288089710352%7CUnknown%7CTWFpbGZsb3d8eyJFbXB0eU1hcGkiOnRydWUsIlYiOiIwLjAuMDAwMCIsIlAiOiJXaW4zMiIsIkFOIjoiTWFpbCIsIldUIjoyfQ%3D%3D%7C40000%7C%7C%7C&amp;sdata=hi4NC%2FEVWTCaeKPbdc5ZVA3OQr%2FKd%2FcdUHJ50i6srdI%3D&amp;reserved=0</td>\n",
       "    </tr>\n",
       "    <tr>\n",
       "      <th>23</th>\n",
       "      <td>streptococcus wuxiensis</td>\n",
       "      <td>Streptococcus sp.</td>\n",
       "      <td>21WXBC0057M1T,  GDMCC 1.4126T,  KCTC 25760T</td>\n",
       "      <td>OR853720</td>\n",
       "      <td>21WXBC0057M1</td>\n",
       "      <td>Zhou et al. 2025</td>\n",
       "      <td>1306.0</td>\n",
       "      <td>https://doi.org/10.1099/ijsem.0.006674</td>\n",
       "      <td>https://gcc02.safelinks.protection.outlook.com/?url=https%3A%2F%2Fwww.microbiologyresearch.org%2Fcontent%2Fjournal%2Fijsem%2F10.1099%2Fijsem.0.006674%3Femailalert%3Dtrue&amp;data=05%7C02%7Cmcveigh%40ncbi.nlm.nih.gov%7C017a70c948af4333a1c808dd4ce97ee5%7C14b77578977342d58507251ca2dc2b06%7C0%7C0%7C638751288089710352%7CUnknown%7CTWFpbGZsb3d8eyJFbXB0eU1hcGkiOnRydWUsIlYiOiIwLjAuMDAwMCIsIlAiOiJXaW4zMiIsIkFOIjoiTWFpbCIsIldUIjoyfQ%3D%3D%7C40000%7C%7C%7C&amp;sdata=hi4NC%2FEVWTCaeKPbdc5ZVA3OQr%2FKd%2FcdUHJ50i6srdI%3D&amp;reserved=0</td>\n",
       "    </tr>\n",
       "    <tr>\n",
       "      <th>24</th>\n",
       "      <td>Streptococcus jiangnanensis</td>\n",
       "      <td>Streptococcus sp. 21WXBC0044M1</td>\n",
       "      <td>21WXBC0044M1T</td>\n",
       "      <td>JBFNFF000000000</td>\n",
       "      <td>21WXBC0044M1</td>\n",
       "      <td>Zhou et al. 2025</td>\n",
       "      <td>3095079.0</td>\n",
       "      <td>https://doi.org/10.1099/ijsem.0.006674</td>\n",
       "      <td>https://gcc02.safelinks.protection.outlook.com/?url=https%3A%2F%2Fwww.microbiologyresearch.org%2Fcontent%2Fjournal%2Fijsem%2F10.1099%2Fijsem.0.006674%3Femailalert%3Dtrue&amp;data=05%7C02%7Cmcveigh%40ncbi.nlm.nih.gov%7C017a70c948af4333a1c808dd4ce97ee5%7C14b77578977342d58507251ca2dc2b06%7C0%7C0%7C638751288089710352%7CUnknown%7CTWFpbGZsb3d8eyJFbXB0eU1hcGkiOnRydWUsIlYiOiIwLjAuMDAwMCIsIlAiOiJXaW4zMiIsIkFOIjoiTWFpbCIsIldUIjoyfQ%3D%3D%7C40000%7C%7C%7C&amp;sdata=hi4NC%2FEVWTCaeKPbdc5ZVA3OQr%2FKd%2FcdUHJ50i6srdI%3D&amp;reserved=0</td>\n",
       "    </tr>\n",
       "    <tr>\n",
       "      <th>25</th>\n",
       "      <td>Streptococcus jiangnanensis</td>\n",
       "      <td>Streptococcus sp. 21WXBC0044M1</td>\n",
       "      <td>21WXBC0044M1T</td>\n",
       "      <td>JAXHDN000000000</td>\n",
       "      <td>21WXBC0044M1</td>\n",
       "      <td>Zhou et al. 2025</td>\n",
       "      <td>3095079.0</td>\n",
       "      <td>https://doi.org/10.1099/ijsem.0.006674</td>\n",
       "      <td>https://gcc02.safelinks.protection.outlook.com/?url=https%3A%2F%2Fwww.microbiologyresearch.org%2Fcontent%2Fjournal%2Fijsem%2F10.1099%2Fijsem.0.006674%3Femailalert%3Dtrue&amp;data=05%7C02%7Cmcveigh%40ncbi.nlm.nih.gov%7C017a70c948af4333a1c808dd4ce97ee5%7C14b77578977342d58507251ca2dc2b06%7C0%7C0%7C638751288089710352%7CUnknown%7CTWFpbGZsb3d8eyJFbXB0eU1hcGkiOnRydWUsIlYiOiIwLjAuMDAwMCIsIlAiOiJXaW4zMiIsIkFOIjoiTWFpbCIsIldUIjoyfQ%3D%3D%7C40000%7C%7C%7C&amp;sdata=hi4NC%2FEVWTCaeKPbdc5ZVA3OQr%2FKd%2FcdUHJ50i6srdI%3D&amp;reserved=0</td>\n",
       "    </tr>\n",
       "    <tr>\n",
       "      <th>26</th>\n",
       "      <td>Streptococcus jiangnanensis</td>\n",
       "      <td>Streptococcus sp.</td>\n",
       "      <td>21WXBC0044M1T</td>\n",
       "      <td>OR794555</td>\n",
       "      <td>21WXBC0044M1</td>\n",
       "      <td>Zhou et al. 2025</td>\n",
       "      <td>1306.0</td>\n",
       "      <td>https://doi.org/10.1099/ijsem.0.006674</td>\n",
       "      <td>https://gcc02.safelinks.protection.outlook.com/?url=https%3A%2F%2Fwww.microbiologyresearch.org%2Fcontent%2Fjournal%2Fijsem%2F10.1099%2Fijsem.0.006674%3Femailalert%3Dtrue&amp;data=05%7C02%7Cmcveigh%40ncbi.nlm.nih.gov%7C017a70c948af4333a1c808dd4ce97ee5%7C14b77578977342d58507251ca2dc2b06%7C0%7C0%7C638751288089710352%7CUnknown%7CTWFpbGZsb3d8eyJFbXB0eU1hcGkiOnRydWUsIlYiOiIwLjAuMDAwMCIsIlAiOiJXaW4zMiIsIkFOIjoiTWFpbCIsIldUIjoyfQ%3D%3D%7C40000%7C%7C%7C&amp;sdata=hi4NC%2FEVWTCaeKPbdc5ZVA3OQr%2FKd%2FcdUHJ50i6srdI%3D&amp;reserved=0</td>\n",
       "    </tr>\n",
       "    <tr>\n",
       "      <th>27</th>\n",
       "      <td>Streptococcus jiangnanensis</td>\n",
       "      <td>Streptococcus sp.</td>\n",
       "      <td>21WXBC0044M1T</td>\n",
       "      <td>OR853714</td>\n",
       "      <td>21WXBC0044M1</td>\n",
       "      <td>Zhou et al. 2025</td>\n",
       "      <td>1306.0</td>\n",
       "      <td>https://doi.org/10.1099/ijsem.0.006674</td>\n",
       "      <td>https://gcc02.safelinks.protection.outlook.com/?url=https%3A%2F%2Fwww.microbiologyresearch.org%2Fcontent%2Fjournal%2Fijsem%2F10.1099%2Fijsem.0.006674%3Femailalert%3Dtrue&amp;data=05%7C02%7Cmcveigh%40ncbi.nlm.nih.gov%7C017a70c948af4333a1c808dd4ce97ee5%7C14b77578977342d58507251ca2dc2b06%7C0%7C0%7C638751288089710352%7CUnknown%7CTWFpbGZsb3d8eyJFbXB0eU1hcGkiOnRydWUsIlYiOiIwLjAuMDAwMCIsIlAiOiJXaW4zMiIsIkFOIjoiTWFpbCIsIldUIjoyfQ%3D%3D%7C40000%7C%7C%7C&amp;sdata=hi4NC%2FEVWTCaeKPbdc5ZVA3OQr%2FKd%2FcdUHJ50i6srdI%3D&amp;reserved=0</td>\n",
       "    </tr>\n",
       "    <tr>\n",
       "      <th>28</th>\n",
       "      <td>Streptococcus jiangnanensis</td>\n",
       "      <td>Streptococcus sp.</td>\n",
       "      <td>21WXBC0044M1T</td>\n",
       "      <td>OR853719</td>\n",
       "      <td>21WXBC0044M1</td>\n",
       "      <td>Zhou et al. 2025</td>\n",
       "      <td>1306.0</td>\n",
       "      <td>https://doi.org/10.1099/ijsem.0.006674</td>\n",
       "      <td>https://gcc02.safelinks.protection.outlook.com/?url=https%3A%2F%2Fwww.microbiologyresearch.org%2Fcontent%2Fjournal%2Fijsem%2F10.1099%2Fijsem.0.006674%3Femailalert%3Dtrue&amp;data=05%7C02%7Cmcveigh%40ncbi.nlm.nih.gov%7C017a70c948af4333a1c808dd4ce97ee5%7C14b77578977342d58507251ca2dc2b06%7C0%7C0%7C638751288089710352%7CUnknown%7CTWFpbGZsb3d8eyJFbXB0eU1hcGkiOnRydWUsIlYiOiIwLjAuMDAwMCIsIlAiOiJXaW4zMiIsIkFOIjoiTWFpbCIsIldUIjoyfQ%3D%3D%7C40000%7C%7C%7C&amp;sdata=hi4NC%2FEVWTCaeKPbdc5ZVA3OQr%2FKd%2FcdUHJ50i6srdI%3D&amp;reserved=0</td>\n",
       "    </tr>\n",
       "    <tr>\n",
       "      <th>29</th>\n",
       "      <td>Streptococcus fermentans</td>\n",
       "      <td>Streptococcus sp. BJSWXB5TM5</td>\n",
       "      <td>BJSWXB5TM1T,  BJSWXB5TM5T,  GDMCC 1.4130T,  KCTC 25759T</td>\n",
       "      <td>JBFNFG000000000</td>\n",
       "      <td>BJSWXB5TM5</td>\n",
       "      <td>Zhou et al. 2025</td>\n",
       "      <td>3095082.0</td>\n",
       "      <td>https://doi.org/10.1099/ijsem.0.006674</td>\n",
       "      <td>https://gcc02.safelinks.protection.outlook.com/?url=https%3A%2F%2Fwww.microbiologyresearch.org%2Fcontent%2Fjournal%2Fijsem%2F10.1099%2Fijsem.0.006674%3Femailalert%3Dtrue&amp;data=05%7C02%7Cmcveigh%40ncbi.nlm.nih.gov%7C017a70c948af4333a1c808dd4ce97ee5%7C14b77578977342d58507251ca2dc2b06%7C0%7C0%7C638751288089710352%7CUnknown%7CTWFpbGZsb3d8eyJFbXB0eU1hcGkiOnRydWUsIlYiOiIwLjAuMDAwMCIsIlAiOiJXaW4zMiIsIkFOIjoiTWFpbCIsIldUIjoyfQ%3D%3D%7C40000%7C%7C%7C&amp;sdata=hi4NC%2FEVWTCaeKPbdc5ZVA3OQr%2FKd%2FcdUHJ50i6srdI%3D&amp;reserved=0</td>\n",
       "    </tr>\n",
       "    <tr>\n",
       "      <th>30</th>\n",
       "      <td>Streptococcus fermentans</td>\n",
       "      <td>Streptococcus sp. BJSWXB5TM5</td>\n",
       "      <td>BJSWXB5TM1T,  BJSWXB5TM5T,  GDMCC 1.4130T,  KCTC 25759T</td>\n",
       "      <td>JAXHDP000000000</td>\n",
       "      <td>BJSWXB5TM5</td>\n",
       "      <td>Zhou et al. 2025</td>\n",
       "      <td>3095082.0</td>\n",
       "      <td>https://doi.org/10.1099/ijsem.0.006674</td>\n",
       "      <td>https://gcc02.safelinks.protection.outlook.com/?url=https%3A%2F%2Fwww.microbiologyresearch.org%2Fcontent%2Fjournal%2Fijsem%2F10.1099%2Fijsem.0.006674%3Femailalert%3Dtrue&amp;data=05%7C02%7Cmcveigh%40ncbi.nlm.nih.gov%7C017a70c948af4333a1c808dd4ce97ee5%7C14b77578977342d58507251ca2dc2b06%7C0%7C0%7C638751288089710352%7CUnknown%7CTWFpbGZsb3d8eyJFbXB0eU1hcGkiOnRydWUsIlYiOiIwLjAuMDAwMCIsIlAiOiJXaW4zMiIsIkFOIjoiTWFpbCIsIldUIjoyfQ%3D%3D%7C40000%7C%7C%7C&amp;sdata=hi4NC%2FEVWTCaeKPbdc5ZVA3OQr%2FKd%2FcdUHJ50i6srdI%3D&amp;reserved=0</td>\n",
       "    </tr>\n",
       "    <tr>\n",
       "      <th>31</th>\n",
       "      <td>Streptococcus fermentans</td>\n",
       "      <td>Streptococcus sp.</td>\n",
       "      <td>BJSWXB5TM1T,  BJSWXB5TM5T,  GDMCC 1.4130T,  KCTC 25759T</td>\n",
       "      <td>OR794558</td>\n",
       "      <td>BJSWXB5TM5</td>\n",
       "      <td>Zhou et al. 2025</td>\n",
       "      <td>1306.0</td>\n",
       "      <td>https://doi.org/10.1099/ijsem.0.006674</td>\n",
       "      <td>https://gcc02.safelinks.protection.outlook.com/?url=https%3A%2F%2Fwww.microbiologyresearch.org%2Fcontent%2Fjournal%2Fijsem%2F10.1099%2Fijsem.0.006674%3Femailalert%3Dtrue&amp;data=05%7C02%7Cmcveigh%40ncbi.nlm.nih.gov%7C017a70c948af4333a1c808dd4ce97ee5%7C14b77578977342d58507251ca2dc2b06%7C0%7C0%7C638751288089710352%7CUnknown%7CTWFpbGZsb3d8eyJFbXB0eU1hcGkiOnRydWUsIlYiOiIwLjAuMDAwMCIsIlAiOiJXaW4zMiIsIkFOIjoiTWFpbCIsIldUIjoyfQ%3D%3D%7C40000%7C%7C%7C&amp;sdata=hi4NC%2FEVWTCaeKPbdc5ZVA3OQr%2FKd%2FcdUHJ50i6srdI%3D&amp;reserved=0</td>\n",
       "    </tr>\n",
       "    <tr>\n",
       "      <th>32</th>\n",
       "      <td>Streptococcus fermentans</td>\n",
       "      <td>Streptococcus sp.</td>\n",
       "      <td>BJSWXB5TM1T,  BJSWXB5TM5T,  GDMCC 1.4130T,  KCTC 25759T</td>\n",
       "      <td>OR853717</td>\n",
       "      <td>BJSWXB5TM5</td>\n",
       "      <td>Zhou et al. 2025</td>\n",
       "      <td>1306.0</td>\n",
       "      <td>https://doi.org/10.1099/ijsem.0.006674</td>\n",
       "      <td>https://gcc02.safelinks.protection.outlook.com/?url=https%3A%2F%2Fwww.microbiologyresearch.org%2Fcontent%2Fjournal%2Fijsem%2F10.1099%2Fijsem.0.006674%3Femailalert%3Dtrue&amp;data=05%7C02%7Cmcveigh%40ncbi.nlm.nih.gov%7C017a70c948af4333a1c808dd4ce97ee5%7C14b77578977342d58507251ca2dc2b06%7C0%7C0%7C638751288089710352%7CUnknown%7CTWFpbGZsb3d8eyJFbXB0eU1hcGkiOnRydWUsIlYiOiIwLjAuMDAwMCIsIlAiOiJXaW4zMiIsIkFOIjoiTWFpbCIsIldUIjoyfQ%3D%3D%7C40000%7C%7C%7C&amp;sdata=hi4NC%2FEVWTCaeKPbdc5ZVA3OQr%2FKd%2FcdUHJ50i6srdI%3D&amp;reserved=0</td>\n",
       "    </tr>\n",
       "    <tr>\n",
       "      <th>33</th>\n",
       "      <td>Streptococcus fermentans</td>\n",
       "      <td>Streptococcus sp.</td>\n",
       "      <td>BJSWXB5TM1T,  BJSWXB5TM5T,  GDMCC 1.4130T,  KCTC 25759T</td>\n",
       "      <td>OR853722</td>\n",
       "      <td>BJSWXB5TM5</td>\n",
       "      <td>Zhou et al. 2025</td>\n",
       "      <td>1306.0</td>\n",
       "      <td>https://doi.org/10.1099/ijsem.0.006674</td>\n",
       "      <td>https://gcc02.safelinks.protection.outlook.com/?url=https%3A%2F%2Fwww.microbiologyresearch.org%2Fcontent%2Fjournal%2Fijsem%2F10.1099%2Fijsem.0.006674%3Femailalert%3Dtrue&amp;data=05%7C02%7Cmcveigh%40ncbi.nlm.nih.gov%7C017a70c948af4333a1c808dd4ce97ee5%7C14b77578977342d58507251ca2dc2b06%7C0%7C0%7C638751288089710352%7CUnknown%7CTWFpbGZsb3d8eyJFbXB0eU1hcGkiOnRydWUsIlYiOiIwLjAuMDAwMCIsIlAiOiJXaW4zMiIsIkFOIjoiTWFpbCIsIldUIjoyfQ%3D%3D%7C40000%7C%7C%7C&amp;sdata=hi4NC%2FEVWTCaeKPbdc5ZVA3OQr%2FKd%2FcdUHJ50i6srdI%3D&amp;reserved=0</td>\n",
       "    </tr>\n",
       "    <tr>\n",
       "      <th>34</th>\n",
       "      <td>Lacrimispora sinapis</td>\n",
       "      <td>Lacrimispora sp.</td>\n",
       "      <td>JR3T</td>\n",
       "      <td>PP065615</td>\n",
       "      <td>JR3</td>\n",
       "      <td>Ren et al. 2025</td>\n",
       "      <td>2719234.0</td>\n",
       "      <td>https://doi.org/10.1099/ijsem.0.006675</td>\n",
       "      <td>https://gcc02.safelinks.protection.outlook.com/?url=https%3A%2F%2Fwww.microbiologyresearch.org%2Fcontent%2Fjournal%2Fijsem%2F10.1099%2Fijsem.0.006675%3Femailalert%3Dtrue&amp;data=05%7C02%7Cmcveigh%40ncbi.nlm.nih.gov%7C017a70c948af4333a1c808dd4ce97ee5%7C14b77578977342d58507251ca2dc2b06%7C0%7C0%7C638751288089735188%7CUnknown%7CTWFpbGZsb3d8eyJFbXB0eU1hcGkiOnRydWUsIlYiOiIwLjAuMDAwMCIsIlAiOiJXaW4zMiIsIkFOIjoiTWFpbCIsIldUIjoyfQ%3D%3D%7C40000%7C%7C%7C&amp;sdata=yZcx2J2gqkXmfKKvNh0Kdd3ISY7mJarVRuWFLQayIjM%3D&amp;reserved=0</td>\n",
       "    </tr>\n",
       "    <tr>\n",
       "      <th>35</th>\n",
       "      <td>Lacrimispora sinapis</td>\n",
       "      <td>Lacrimispora sp. JR3</td>\n",
       "      <td>JR3T</td>\n",
       "      <td>CP141832</td>\n",
       "      <td>JR3</td>\n",
       "      <td>Ren et al. 2025</td>\n",
       "      <td>3111456.0</td>\n",
       "      <td>https://doi.org/10.1099/ijsem.0.006675</td>\n",
       "      <td>https://gcc02.safelinks.protection.outlook.com/?url=https%3A%2F%2Fwww.microbiologyresearch.org%2Fcontent%2Fjournal%2Fijsem%2F10.1099%2Fijsem.0.006675%3Femailalert%3Dtrue&amp;data=05%7C02%7Cmcveigh%40ncbi.nlm.nih.gov%7C017a70c948af4333a1c808dd4ce97ee5%7C14b77578977342d58507251ca2dc2b06%7C0%7C0%7C638751288089735188%7CUnknown%7CTWFpbGZsb3d8eyJFbXB0eU1hcGkiOnRydWUsIlYiOiIwLjAuMDAwMCIsIlAiOiJXaW4zMiIsIkFOIjoiTWFpbCIsIldUIjoyfQ%3D%3D%7C40000%7C%7C%7C&amp;sdata=yZcx2J2gqkXmfKKvNh0Kdd3ISY7mJarVRuWFLQayIjM%3D&amp;reserved=0</td>\n",
       "    </tr>\n",
       "  </tbody>\n",
       "</table>\n",
       "</div>"
      ],
      "text/plain": [
       "                      PublishedName                                NCBIname  \\\n",
       "0                               NaN                                     NaN   \n",
       "1           Thalassobellus suaedae              Flavobacteriaceae bacterium   \n",
       "2           Thalassobellus suaedae              Flavobacteriaceae bacterium   \n",
       "3           Thalassobellus suaedae              Flavobacteriaceae bacterium   \n",
       "4           Thalassobellus suaedae      Flavobacteriaceae bacterium HL-DH14   \n",
       "5           Thalassobellus suaedae      Flavobacteriaceae bacterium HL-DH10   \n",
       "6           Thalassobellus suaedae      Flavobacteriaceae bacterium HL-DH14   \n",
       "7      Methanobacterium aridiramus                     Methanobacterium sp.   \n",
       "8      Methanobacterium aridiramus              Methanobacterium sp. CWC-01   \n",
       "9      Minisyncoccus archaeiphilus   Candidatus Minisyncoccus archaeophilus   \n",
       "10     Minisyncoccus archaeiphilus   Candidatus Minisyncoccus archaeophilus   \n",
       "11  Afipia dichlorophenoxyacetatis                           Afipia sp. DD3   \n",
       "12  Afipia dichlorophenoxyacetatis                         Afipia sp. DDX28   \n",
       "13  Afipia dichlorophenoxyacetatis                               Afipia sp.   \n",
       "14  Afipia dichlorophenoxyacetatis                               Afipia sp.   \n",
       "15        Oceanobacter antarcticus                         Oceanobacter sp.   \n",
       "16        Oceanobacter antarcticus                  Oceanobacter sp. wDCs-4   \n",
       "17                   Tamlana flava                              Tamlana sp.   \n",
       "18                   Tamlana flava                         Tamlana sp. MA10   \n",
       "19         streptococcus wuxiensis           Streptococcus sp. 21WXBC0057M1   \n",
       "20         streptococcus wuxiensis           Streptococcus sp. 21WXBC0057M1   \n",
       "21         streptococcus wuxiensis                        Streptococcus sp.   \n",
       "22         streptococcus wuxiensis                        Streptococcus sp.   \n",
       "23         streptococcus wuxiensis                        Streptococcus sp.   \n",
       "24     Streptococcus jiangnanensis           Streptococcus sp. 21WXBC0044M1   \n",
       "25     Streptococcus jiangnanensis           Streptococcus sp. 21WXBC0044M1   \n",
       "26     Streptococcus jiangnanensis                        Streptococcus sp.   \n",
       "27     Streptococcus jiangnanensis                        Streptococcus sp.   \n",
       "28     Streptococcus jiangnanensis                        Streptococcus sp.   \n",
       "29        Streptococcus fermentans             Streptococcus sp. BJSWXB5TM5   \n",
       "30        Streptococcus fermentans             Streptococcus sp. BJSWXB5TM5   \n",
       "31        Streptococcus fermentans                        Streptococcus sp.   \n",
       "32        Streptococcus fermentans                        Streptococcus sp.   \n",
       "33        Streptococcus fermentans                        Streptococcus sp.   \n",
       "34            Lacrimispora sinapis                         Lacrimispora sp.   \n",
       "35            Lacrimispora sinapis                     Lacrimispora sp. JR3   \n",
       "\n",
       "                                                         Strains  \\\n",
       "0                                                                  \n",
       "1     HL-DH10T,  KCCM 90512T,  JCM 36598T,  HL-DH14,  KCCM 90513   \n",
       "2     HL-DH10T,  KCCM 90512T,  JCM 36598T,  HL-DH14,  KCCM 90513   \n",
       "3     HL-DH10T,  KCCM 90512T,  JCM 36598T,  HL-DH14,  KCCM 90513   \n",
       "4     HL-DH10T,  KCCM 90512T,  JCM 36598T,  HL-DH14,  KCCM 90513   \n",
       "5     HL-DH10T,  KCCM 90512T,  JCM 36598T,  HL-DH14,  KCCM 90513   \n",
       "6     HL-DH10T,  KCCM 90512T,  JCM 36598T,  HL-DH14,  KCCM 90513   \n",
       "7                         CWC-01T,  BCRC AR10053T,  NBRC 113991T   \n",
       "8                         CWC-01T,  BCRC AR10053T,  NBRC 113991T   \n",
       "9                                          PMX.108T,  JCM 39522T   \n",
       "10                                         PMX.108T,  JCM 39522T   \n",
       "11  DD3T,  MAFF 311804T,  ICMP 25015T,  MAFF 311814,  ICMP 25016   \n",
       "12  DD3T,  MAFF 311804T,  ICMP 25015T,  MAFF 311814,  ICMP 25016   \n",
       "13  DD3T,  MAFF 311804T,  ICMP 25015T,  MAFF 311814,  ICMP 25016   \n",
       "14  DD3T,  MAFF 311804T,  ICMP 25015T,  MAFF 311814,  ICMP 25016   \n",
       "15                          wDCs-4T,  MCCC 1A20726T,  KCTC 8314T   \n",
       "16                          wDCs-4T,  MCCC 1A20726T,  KCTC 8314T   \n",
       "17                          MA10T,  MCCC 1K09289T,  KCTC 102321T   \n",
       "18                          MA10T,  MCCC 1K09289T,  KCTC 102321T   \n",
       "19                   21WXBC0057M1T,  GDMCC 1.4126T,  KCTC 25760T   \n",
       "20                   21WXBC0057M1T,  GDMCC 1.4126T,  KCTC 25760T   \n",
       "21                   21WXBC0057M1T,  GDMCC 1.4126T,  KCTC 25760T   \n",
       "22                   21WXBC0057M1T,  GDMCC 1.4126T,  KCTC 25760T   \n",
       "23                   21WXBC0057M1T,  GDMCC 1.4126T,  KCTC 25760T   \n",
       "24                                                 21WXBC0044M1T   \n",
       "25                                                 21WXBC0044M1T   \n",
       "26                                                 21WXBC0044M1T   \n",
       "27                                                 21WXBC0044M1T   \n",
       "28                                                 21WXBC0044M1T   \n",
       "29       BJSWXB5TM1T,  BJSWXB5TM5T,  GDMCC 1.4130T,  KCTC 25759T   \n",
       "30       BJSWXB5TM1T,  BJSWXB5TM5T,  GDMCC 1.4130T,  KCTC 25759T   \n",
       "31       BJSWXB5TM1T,  BJSWXB5TM5T,  GDMCC 1.4130T,  KCTC 25759T   \n",
       "32       BJSWXB5TM1T,  BJSWXB5TM5T,  GDMCC 1.4130T,  KCTC 25759T   \n",
       "33       BJSWXB5TM1T,  BJSWXB5TM5T,  GDMCC 1.4130T,  KCTC 25759T   \n",
       "34                                                          JR3T   \n",
       "35                                                          JR3T   \n",
       "\n",
       "          accession        strain             Authority      taxid  \\\n",
       "0               NaN           NaN       Lee et al. 2025        NaN   \n",
       "1          OR229715       HL-DH10       Lee et al. 2025  1871037.0   \n",
       "2          OR652609       HL-DH10       Lee et al. 2025  1871037.0   \n",
       "3          OR229716       HL-DH14       Lee et al. 2025  1871037.0   \n",
       "4          OR652608       HL-DH14       Lee et al. 2025  3074125.0   \n",
       "5          CP134536       HL-DH10       Lee et al. 2025  3074124.0   \n",
       "6          CP134537       HL-DH14       Lee et al. 2025  3074125.0   \n",
       "7          MK979366        CWC-01       Lee et al. 2025     2164.0   \n",
       "8          CP040735        CWC-01       Lee et al. 2025  2584467.0   \n",
       "9          AP038758       PMX.108  Nakajima et al. 2025  3238481.0   \n",
       "10         LC847185       PMX.108  Nakajima et al. 2025  3238481.0   \n",
       "11         AP029250           DD3    Sawada et al. 2025  3116917.0   \n",
       "12         AP029255         DDX28    Sawada et al. 2025  3119019.0   \n",
       "13         LC770309           DD3    Sawada et al. 2025  1871052.0   \n",
       "14         LC770310         DDX28    Sawada et al. 2025  1871052.0   \n",
       "15         PP494898        wDCs-4     Zhang et al. 2025  2030817.0   \n",
       "16  JBBKTX000000000        wDCs-4     Zhang et al. 2025  3133425.0   \n",
       "17         PP854632          MA10     Huang et al. 2025  1969468.0   \n",
       "18  JBGGTX000000000          MA10     Huang et al. 2025  3158572.0   \n",
       "19  JBFNFE000000000  21WXBC0057M1      Zhou et al. 2025  3095078.0   \n",
       "20  JAXHDO000000000  21WXBC0057M1      Zhou et al. 2025  3095078.0   \n",
       "21         OR794556  21WXBC0057M1      Zhou et al. 2025     1306.0   \n",
       "22         OR853715  21WXBC0057M1      Zhou et al. 2025     1306.0   \n",
       "23         OR853720  21WXBC0057M1      Zhou et al. 2025     1306.0   \n",
       "24  JBFNFF000000000  21WXBC0044M1      Zhou et al. 2025  3095079.0   \n",
       "25  JAXHDN000000000  21WXBC0044M1      Zhou et al. 2025  3095079.0   \n",
       "26         OR794555  21WXBC0044M1      Zhou et al. 2025     1306.0   \n",
       "27         OR853714  21WXBC0044M1      Zhou et al. 2025     1306.0   \n",
       "28         OR853719  21WXBC0044M1      Zhou et al. 2025     1306.0   \n",
       "29  JBFNFG000000000    BJSWXB5TM5      Zhou et al. 2025  3095082.0   \n",
       "30  JAXHDP000000000    BJSWXB5TM5      Zhou et al. 2025  3095082.0   \n",
       "31         OR794558    BJSWXB5TM5      Zhou et al. 2025     1306.0   \n",
       "32         OR853717    BJSWXB5TM5      Zhou et al. 2025     1306.0   \n",
       "33         OR853722    BJSWXB5TM5      Zhou et al. 2025     1306.0   \n",
       "34         PP065615           JR3       Ren et al. 2025  2719234.0   \n",
       "35         CP141832           JR3       Ren et al. 2025  3111456.0   \n",
       "\n",
       "                                        DOI  \\\n",
       "0    https://doi.org/10.1099/ijsem.0.006663   \n",
       "1    https://doi.org/10.1099/ijsem.0.006663   \n",
       "2    https://doi.org/10.1099/ijsem.0.006663   \n",
       "3    https://doi.org/10.1099/ijsem.0.006663   \n",
       "4    https://doi.org/10.1099/ijsem.0.006663   \n",
       "5    https://doi.org/10.1099/ijsem.0.006663   \n",
       "6    https://doi.org/10.1099/ijsem.0.006663   \n",
       "7    https://doi.org/10.1099/ijsem.0.006658   \n",
       "8    https://doi.org/10.1099/ijsem.0.006658   \n",
       "9   https://doi.org/10.5281/zenodo.10140531   \n",
       "10  https://doi.org/10.5281/zenodo.10140531   \n",
       "11   https://doi.org/10.1099/ijsem.0.006672   \n",
       "12   https://doi.org/10.1099/ijsem.0.006672   \n",
       "13   https://doi.org/10.1099/ijsem.0.006672   \n",
       "14   https://doi.org/10.1099/ijsem.0.006672   \n",
       "15   https://doi.org/10.1099/ijsem.0.006676   \n",
       "16   https://doi.org/10.1099/ijsem.0.006676   \n",
       "17   https://doi.org/10.1099/ijsem.0.006673   \n",
       "18   https://doi.org/10.1099/ijsem.0.006673   \n",
       "19   https://doi.org/10.1099/ijsem.0.006674   \n",
       "20   https://doi.org/10.1099/ijsem.0.006674   \n",
       "21   https://doi.org/10.1099/ijsem.0.006674   \n",
       "22   https://doi.org/10.1099/ijsem.0.006674   \n",
       "23   https://doi.org/10.1099/ijsem.0.006674   \n",
       "24   https://doi.org/10.1099/ijsem.0.006674   \n",
       "25   https://doi.org/10.1099/ijsem.0.006674   \n",
       "26   https://doi.org/10.1099/ijsem.0.006674   \n",
       "27   https://doi.org/10.1099/ijsem.0.006674   \n",
       "28   https://doi.org/10.1099/ijsem.0.006674   \n",
       "29   https://doi.org/10.1099/ijsem.0.006674   \n",
       "30   https://doi.org/10.1099/ijsem.0.006674   \n",
       "31   https://doi.org/10.1099/ijsem.0.006674   \n",
       "32   https://doi.org/10.1099/ijsem.0.006674   \n",
       "33   https://doi.org/10.1099/ijsem.0.006674   \n",
       "34   https://doi.org/10.1099/ijsem.0.006675   \n",
       "35   https://doi.org/10.1099/ijsem.0.006675   \n",
       "\n",
       "                                                                                                                                                                                                                                                                                                                                                                                                                                                                                                                                   URL  \n",
       "0     https://gcc02.safelinks.protection.outlook.com/?url=https%3A%2F%2Fwww.microbiologyresearch.org%2Fcontent%2Fjournal%2Fijsem%2F10.1099%2Fijsem.0.006663%3Femailalert%3Dtrue&data=05%7C02%7Cmcveigh%40ncbi.nlm.nih.gov%7C017a70c948af4333a1c808dd4ce97ee5%7C14b77578977342d58507251ca2dc2b06%7C0%7C0%7C638751288089330574%7CUnknown%7CTWFpbGZsb3d8eyJFbXB0eU1hcGkiOnRydWUsIlYiOiIwLjAuMDAwMCIsIlAiOiJXaW4zMiIsIkFOIjoiTWFpbCIsIldUIjoyfQ%3D%3D%7C40000%7C%7C%7C&sdata=%2F9Mf43NMpFvAJ13NJ3KKsnI9C%2BRGKhXPDs0NPu7apYs%3D&reserved=0  \n",
       "1     https://gcc02.safelinks.protection.outlook.com/?url=https%3A%2F%2Fwww.microbiologyresearch.org%2Fcontent%2Fjournal%2Fijsem%2F10.1099%2Fijsem.0.006663%3Femailalert%3Dtrue&data=05%7C02%7Cmcveigh%40ncbi.nlm.nih.gov%7C017a70c948af4333a1c808dd4ce97ee5%7C14b77578977342d58507251ca2dc2b06%7C0%7C0%7C638751288089330574%7CUnknown%7CTWFpbGZsb3d8eyJFbXB0eU1hcGkiOnRydWUsIlYiOiIwLjAuMDAwMCIsIlAiOiJXaW4zMiIsIkFOIjoiTWFpbCIsIldUIjoyfQ%3D%3D%7C40000%7C%7C%7C&sdata=%2F9Mf43NMpFvAJ13NJ3KKsnI9C%2BRGKhXPDs0NPu7apYs%3D&reserved=0  \n",
       "2     https://gcc02.safelinks.protection.outlook.com/?url=https%3A%2F%2Fwww.microbiologyresearch.org%2Fcontent%2Fjournal%2Fijsem%2F10.1099%2Fijsem.0.006663%3Femailalert%3Dtrue&data=05%7C02%7Cmcveigh%40ncbi.nlm.nih.gov%7C017a70c948af4333a1c808dd4ce97ee5%7C14b77578977342d58507251ca2dc2b06%7C0%7C0%7C638751288089330574%7CUnknown%7CTWFpbGZsb3d8eyJFbXB0eU1hcGkiOnRydWUsIlYiOiIwLjAuMDAwMCIsIlAiOiJXaW4zMiIsIkFOIjoiTWFpbCIsIldUIjoyfQ%3D%3D%7C40000%7C%7C%7C&sdata=%2F9Mf43NMpFvAJ13NJ3KKsnI9C%2BRGKhXPDs0NPu7apYs%3D&reserved=0  \n",
       "3     https://gcc02.safelinks.protection.outlook.com/?url=https%3A%2F%2Fwww.microbiologyresearch.org%2Fcontent%2Fjournal%2Fijsem%2F10.1099%2Fijsem.0.006663%3Femailalert%3Dtrue&data=05%7C02%7Cmcveigh%40ncbi.nlm.nih.gov%7C017a70c948af4333a1c808dd4ce97ee5%7C14b77578977342d58507251ca2dc2b06%7C0%7C0%7C638751288089330574%7CUnknown%7CTWFpbGZsb3d8eyJFbXB0eU1hcGkiOnRydWUsIlYiOiIwLjAuMDAwMCIsIlAiOiJXaW4zMiIsIkFOIjoiTWFpbCIsIldUIjoyfQ%3D%3D%7C40000%7C%7C%7C&sdata=%2F9Mf43NMpFvAJ13NJ3KKsnI9C%2BRGKhXPDs0NPu7apYs%3D&reserved=0  \n",
       "4     https://gcc02.safelinks.protection.outlook.com/?url=https%3A%2F%2Fwww.microbiologyresearch.org%2Fcontent%2Fjournal%2Fijsem%2F10.1099%2Fijsem.0.006663%3Femailalert%3Dtrue&data=05%7C02%7Cmcveigh%40ncbi.nlm.nih.gov%7C017a70c948af4333a1c808dd4ce97ee5%7C14b77578977342d58507251ca2dc2b06%7C0%7C0%7C638751288089330574%7CUnknown%7CTWFpbGZsb3d8eyJFbXB0eU1hcGkiOnRydWUsIlYiOiIwLjAuMDAwMCIsIlAiOiJXaW4zMiIsIkFOIjoiTWFpbCIsIldUIjoyfQ%3D%3D%7C40000%7C%7C%7C&sdata=%2F9Mf43NMpFvAJ13NJ3KKsnI9C%2BRGKhXPDs0NPu7apYs%3D&reserved=0  \n",
       "5     https://gcc02.safelinks.protection.outlook.com/?url=https%3A%2F%2Fwww.microbiologyresearch.org%2Fcontent%2Fjournal%2Fijsem%2F10.1099%2Fijsem.0.006663%3Femailalert%3Dtrue&data=05%7C02%7Cmcveigh%40ncbi.nlm.nih.gov%7C017a70c948af4333a1c808dd4ce97ee5%7C14b77578977342d58507251ca2dc2b06%7C0%7C0%7C638751288089330574%7CUnknown%7CTWFpbGZsb3d8eyJFbXB0eU1hcGkiOnRydWUsIlYiOiIwLjAuMDAwMCIsIlAiOiJXaW4zMiIsIkFOIjoiTWFpbCIsIldUIjoyfQ%3D%3D%7C40000%7C%7C%7C&sdata=%2F9Mf43NMpFvAJ13NJ3KKsnI9C%2BRGKhXPDs0NPu7apYs%3D&reserved=0  \n",
       "6     https://gcc02.safelinks.protection.outlook.com/?url=https%3A%2F%2Fwww.microbiologyresearch.org%2Fcontent%2Fjournal%2Fijsem%2F10.1099%2Fijsem.0.006663%3Femailalert%3Dtrue&data=05%7C02%7Cmcveigh%40ncbi.nlm.nih.gov%7C017a70c948af4333a1c808dd4ce97ee5%7C14b77578977342d58507251ca2dc2b06%7C0%7C0%7C638751288089330574%7CUnknown%7CTWFpbGZsb3d8eyJFbXB0eU1hcGkiOnRydWUsIlYiOiIwLjAuMDAwMCIsIlAiOiJXaW4zMiIsIkFOIjoiTWFpbCIsIldUIjoyfQ%3D%3D%7C40000%7C%7C%7C&sdata=%2F9Mf43NMpFvAJ13NJ3KKsnI9C%2BRGKhXPDs0NPu7apYs%3D&reserved=0  \n",
       "7     https://gcc02.safelinks.protection.outlook.com/?url=https%3A%2F%2Fwww.microbiologyresearch.org%2Fcontent%2Fjournal%2Fijsem%2F10.1099%2Fijsem.0.006658%3Femailalert%3Dtrue&data=05%7C02%7Cmcveigh%40ncbi.nlm.nih.gov%7C017a70c948af4333a1c808dd4ce97ee5%7C14b77578977342d58507251ca2dc2b06%7C0%7C0%7C638751288089383537%7CUnknown%7CTWFpbGZsb3d8eyJFbXB0eU1hcGkiOnRydWUsIlYiOiIwLjAuMDAwMCIsIlAiOiJXaW4zMiIsIkFOIjoiTWFpbCIsIldUIjoyfQ%3D%3D%7C40000%7C%7C%7C&sdata=n6Mm1qXs2TjrrOYlH1jFldblC5%2Bdu%2BbqcDRUZr1aCE4%3D&reserved=0  \n",
       "8     https://gcc02.safelinks.protection.outlook.com/?url=https%3A%2F%2Fwww.microbiologyresearch.org%2Fcontent%2Fjournal%2Fijsem%2F10.1099%2Fijsem.0.006658%3Femailalert%3Dtrue&data=05%7C02%7Cmcveigh%40ncbi.nlm.nih.gov%7C017a70c948af4333a1c808dd4ce97ee5%7C14b77578977342d58507251ca2dc2b06%7C0%7C0%7C638751288089383537%7CUnknown%7CTWFpbGZsb3d8eyJFbXB0eU1hcGkiOnRydWUsIlYiOiIwLjAuMDAwMCIsIlAiOiJXaW4zMiIsIkFOIjoiTWFpbCIsIldUIjoyfQ%3D%3D%7C40000%7C%7C%7C&sdata=n6Mm1qXs2TjrrOYlH1jFldblC5%2Bdu%2BbqcDRUZr1aCE4%3D&reserved=0  \n",
       "9     https://gcc02.safelinks.protection.outlook.com/?url=https%3A%2F%2Fwww.microbiologyresearch.org%2Fcontent%2Fjournal%2Fijsem%2F10.1099%2Fijsem.0.006668%3Femailalert%3Dtrue&data=05%7C02%7Cmcveigh%40ncbi.nlm.nih.gov%7C017a70c948af4333a1c808dd4ce97ee5%7C14b77578977342d58507251ca2dc2b06%7C0%7C0%7C638751288089563102%7CUnknown%7CTWFpbGZsb3d8eyJFbXB0eU1hcGkiOnRydWUsIlYiOiIwLjAuMDAwMCIsIlAiOiJXaW4zMiIsIkFOIjoiTWFpbCIsIldUIjoyfQ%3D%3D%7C40000%7C%7C%7C&sdata=3X9B3NLCY%2BU%2FdZOHG5rj0eHv4ShcDUe18vhPlUBhrAg%3D&reserved=0  \n",
       "10    https://gcc02.safelinks.protection.outlook.com/?url=https%3A%2F%2Fwww.microbiologyresearch.org%2Fcontent%2Fjournal%2Fijsem%2F10.1099%2Fijsem.0.006668%3Femailalert%3Dtrue&data=05%7C02%7Cmcveigh%40ncbi.nlm.nih.gov%7C017a70c948af4333a1c808dd4ce97ee5%7C14b77578977342d58507251ca2dc2b06%7C0%7C0%7C638751288089563102%7CUnknown%7CTWFpbGZsb3d8eyJFbXB0eU1hcGkiOnRydWUsIlYiOiIwLjAuMDAwMCIsIlAiOiJXaW4zMiIsIkFOIjoiTWFpbCIsIldUIjoyfQ%3D%3D%7C40000%7C%7C%7C&sdata=3X9B3NLCY%2BU%2FdZOHG5rj0eHv4ShcDUe18vhPlUBhrAg%3D&reserved=0  \n",
       "11    https://gcc02.safelinks.protection.outlook.com/?url=https%3A%2F%2Fwww.microbiologyresearch.org%2Fcontent%2Fjournal%2Fijsem%2F10.1099%2Fijsem.0.006672%3Femailalert%3Dtrue&data=05%7C02%7Cmcveigh%40ncbi.nlm.nih.gov%7C017a70c948af4333a1c808dd4ce97ee5%7C14b77578977342d58507251ca2dc2b06%7C0%7C0%7C638751288089597233%7CUnknown%7CTWFpbGZsb3d8eyJFbXB0eU1hcGkiOnRydWUsIlYiOiIwLjAuMDAwMCIsIlAiOiJXaW4zMiIsIkFOIjoiTWFpbCIsIldUIjoyfQ%3D%3D%7C40000%7C%7C%7C&sdata=ASJ4qJ6s9rIYcPAJEuujidW%2BW8I65RB%2B0SZnXx5AKxE%3D&reserved=0  \n",
       "12    https://gcc02.safelinks.protection.outlook.com/?url=https%3A%2F%2Fwww.microbiologyresearch.org%2Fcontent%2Fjournal%2Fijsem%2F10.1099%2Fijsem.0.006672%3Femailalert%3Dtrue&data=05%7C02%7Cmcveigh%40ncbi.nlm.nih.gov%7C017a70c948af4333a1c808dd4ce97ee5%7C14b77578977342d58507251ca2dc2b06%7C0%7C0%7C638751288089597233%7CUnknown%7CTWFpbGZsb3d8eyJFbXB0eU1hcGkiOnRydWUsIlYiOiIwLjAuMDAwMCIsIlAiOiJXaW4zMiIsIkFOIjoiTWFpbCIsIldUIjoyfQ%3D%3D%7C40000%7C%7C%7C&sdata=ASJ4qJ6s9rIYcPAJEuujidW%2BW8I65RB%2B0SZnXx5AKxE%3D&reserved=0  \n",
       "13    https://gcc02.safelinks.protection.outlook.com/?url=https%3A%2F%2Fwww.microbiologyresearch.org%2Fcontent%2Fjournal%2Fijsem%2F10.1099%2Fijsem.0.006672%3Femailalert%3Dtrue&data=05%7C02%7Cmcveigh%40ncbi.nlm.nih.gov%7C017a70c948af4333a1c808dd4ce97ee5%7C14b77578977342d58507251ca2dc2b06%7C0%7C0%7C638751288089597233%7CUnknown%7CTWFpbGZsb3d8eyJFbXB0eU1hcGkiOnRydWUsIlYiOiIwLjAuMDAwMCIsIlAiOiJXaW4zMiIsIkFOIjoiTWFpbCIsIldUIjoyfQ%3D%3D%7C40000%7C%7C%7C&sdata=ASJ4qJ6s9rIYcPAJEuujidW%2BW8I65RB%2B0SZnXx5AKxE%3D&reserved=0  \n",
       "14    https://gcc02.safelinks.protection.outlook.com/?url=https%3A%2F%2Fwww.microbiologyresearch.org%2Fcontent%2Fjournal%2Fijsem%2F10.1099%2Fijsem.0.006672%3Femailalert%3Dtrue&data=05%7C02%7Cmcveigh%40ncbi.nlm.nih.gov%7C017a70c948af4333a1c808dd4ce97ee5%7C14b77578977342d58507251ca2dc2b06%7C0%7C0%7C638751288089597233%7CUnknown%7CTWFpbGZsb3d8eyJFbXB0eU1hcGkiOnRydWUsIlYiOiIwLjAuMDAwMCIsIlAiOiJXaW4zMiIsIkFOIjoiTWFpbCIsIldUIjoyfQ%3D%3D%7C40000%7C%7C%7C&sdata=ASJ4qJ6s9rIYcPAJEuujidW%2BW8I65RB%2B0SZnXx5AKxE%3D&reserved=0  \n",
       "15        https://gcc02.safelinks.protection.outlook.com/?url=https%3A%2F%2Fwww.microbiologyresearch.org%2Fcontent%2Fjournal%2Fijsem%2F10.1099%2Fijsem.0.006676%3Femailalert%3Dtrue&data=05%7C02%7Cmcveigh%40ncbi.nlm.nih.gov%7C017a70c948af4333a1c808dd4ce97ee5%7C14b77578977342d58507251ca2dc2b06%7C0%7C0%7C638751288089633623%7CUnknown%7CTWFpbGZsb3d8eyJFbXB0eU1hcGkiOnRydWUsIlYiOiIwLjAuMDAwMCIsIlAiOiJXaW4zMiIsIkFOIjoiTWFpbCIsIldUIjoyfQ%3D%3D%7C40000%7C%7C%7C&sdata=93hPxOFV1RNJzuGaS6UBfbTNJy5lhlW6ZJDjiMXr2TA%3D&reserved=0  \n",
       "16        https://gcc02.safelinks.protection.outlook.com/?url=https%3A%2F%2Fwww.microbiologyresearch.org%2Fcontent%2Fjournal%2Fijsem%2F10.1099%2Fijsem.0.006676%3Femailalert%3Dtrue&data=05%7C02%7Cmcveigh%40ncbi.nlm.nih.gov%7C017a70c948af4333a1c808dd4ce97ee5%7C14b77578977342d58507251ca2dc2b06%7C0%7C0%7C638751288089633623%7CUnknown%7CTWFpbGZsb3d8eyJFbXB0eU1hcGkiOnRydWUsIlYiOiIwLjAuMDAwMCIsIlAiOiJXaW4zMiIsIkFOIjoiTWFpbCIsIldUIjoyfQ%3D%3D%7C40000%7C%7C%7C&sdata=93hPxOFV1RNJzuGaS6UBfbTNJy5lhlW6ZJDjiMXr2TA%3D&reserved=0  \n",
       "17      https://gcc02.safelinks.protection.outlook.com/?url=https%3A%2F%2Fwww.microbiologyresearch.org%2Fcontent%2Fjournal%2Fijsem%2F10.1099%2Fijsem.0.006673%3Femailalert%3Dtrue&data=05%7C02%7Cmcveigh%40ncbi.nlm.nih.gov%7C017a70c948af4333a1c808dd4ce97ee5%7C14b77578977342d58507251ca2dc2b06%7C0%7C0%7C638751288089683051%7CUnknown%7CTWFpbGZsb3d8eyJFbXB0eU1hcGkiOnRydWUsIlYiOiIwLjAuMDAwMCIsIlAiOiJXaW4zMiIsIkFOIjoiTWFpbCIsIldUIjoyfQ%3D%3D%7C40000%7C%7C%7C&sdata=u9UJl%2F3Ly8NDlEGAKjtL1xF49bCOvRHAbGOG0qtdp3Q%3D&reserved=0  \n",
       "18      https://gcc02.safelinks.protection.outlook.com/?url=https%3A%2F%2Fwww.microbiologyresearch.org%2Fcontent%2Fjournal%2Fijsem%2F10.1099%2Fijsem.0.006673%3Femailalert%3Dtrue&data=05%7C02%7Cmcveigh%40ncbi.nlm.nih.gov%7C017a70c948af4333a1c808dd4ce97ee5%7C14b77578977342d58507251ca2dc2b06%7C0%7C0%7C638751288089683051%7CUnknown%7CTWFpbGZsb3d8eyJFbXB0eU1hcGkiOnRydWUsIlYiOiIwLjAuMDAwMCIsIlAiOiJXaW4zMiIsIkFOIjoiTWFpbCIsIldUIjoyfQ%3D%3D%7C40000%7C%7C%7C&sdata=u9UJl%2F3Ly8NDlEGAKjtL1xF49bCOvRHAbGOG0qtdp3Q%3D&reserved=0  \n",
       "19  https://gcc02.safelinks.protection.outlook.com/?url=https%3A%2F%2Fwww.microbiologyresearch.org%2Fcontent%2Fjournal%2Fijsem%2F10.1099%2Fijsem.0.006674%3Femailalert%3Dtrue&data=05%7C02%7Cmcveigh%40ncbi.nlm.nih.gov%7C017a70c948af4333a1c808dd4ce97ee5%7C14b77578977342d58507251ca2dc2b06%7C0%7C0%7C638751288089710352%7CUnknown%7CTWFpbGZsb3d8eyJFbXB0eU1hcGkiOnRydWUsIlYiOiIwLjAuMDAwMCIsIlAiOiJXaW4zMiIsIkFOIjoiTWFpbCIsIldUIjoyfQ%3D%3D%7C40000%7C%7C%7C&sdata=hi4NC%2FEVWTCaeKPbdc5ZVA3OQr%2FKd%2FcdUHJ50i6srdI%3D&reserved=0  \n",
       "20  https://gcc02.safelinks.protection.outlook.com/?url=https%3A%2F%2Fwww.microbiologyresearch.org%2Fcontent%2Fjournal%2Fijsem%2F10.1099%2Fijsem.0.006674%3Femailalert%3Dtrue&data=05%7C02%7Cmcveigh%40ncbi.nlm.nih.gov%7C017a70c948af4333a1c808dd4ce97ee5%7C14b77578977342d58507251ca2dc2b06%7C0%7C0%7C638751288089710352%7CUnknown%7CTWFpbGZsb3d8eyJFbXB0eU1hcGkiOnRydWUsIlYiOiIwLjAuMDAwMCIsIlAiOiJXaW4zMiIsIkFOIjoiTWFpbCIsIldUIjoyfQ%3D%3D%7C40000%7C%7C%7C&sdata=hi4NC%2FEVWTCaeKPbdc5ZVA3OQr%2FKd%2FcdUHJ50i6srdI%3D&reserved=0  \n",
       "21  https://gcc02.safelinks.protection.outlook.com/?url=https%3A%2F%2Fwww.microbiologyresearch.org%2Fcontent%2Fjournal%2Fijsem%2F10.1099%2Fijsem.0.006674%3Femailalert%3Dtrue&data=05%7C02%7Cmcveigh%40ncbi.nlm.nih.gov%7C017a70c948af4333a1c808dd4ce97ee5%7C14b77578977342d58507251ca2dc2b06%7C0%7C0%7C638751288089710352%7CUnknown%7CTWFpbGZsb3d8eyJFbXB0eU1hcGkiOnRydWUsIlYiOiIwLjAuMDAwMCIsIlAiOiJXaW4zMiIsIkFOIjoiTWFpbCIsIldUIjoyfQ%3D%3D%7C40000%7C%7C%7C&sdata=hi4NC%2FEVWTCaeKPbdc5ZVA3OQr%2FKd%2FcdUHJ50i6srdI%3D&reserved=0  \n",
       "22  https://gcc02.safelinks.protection.outlook.com/?url=https%3A%2F%2Fwww.microbiologyresearch.org%2Fcontent%2Fjournal%2Fijsem%2F10.1099%2Fijsem.0.006674%3Femailalert%3Dtrue&data=05%7C02%7Cmcveigh%40ncbi.nlm.nih.gov%7C017a70c948af4333a1c808dd4ce97ee5%7C14b77578977342d58507251ca2dc2b06%7C0%7C0%7C638751288089710352%7CUnknown%7CTWFpbGZsb3d8eyJFbXB0eU1hcGkiOnRydWUsIlYiOiIwLjAuMDAwMCIsIlAiOiJXaW4zMiIsIkFOIjoiTWFpbCIsIldUIjoyfQ%3D%3D%7C40000%7C%7C%7C&sdata=hi4NC%2FEVWTCaeKPbdc5ZVA3OQr%2FKd%2FcdUHJ50i6srdI%3D&reserved=0  \n",
       "23  https://gcc02.safelinks.protection.outlook.com/?url=https%3A%2F%2Fwww.microbiologyresearch.org%2Fcontent%2Fjournal%2Fijsem%2F10.1099%2Fijsem.0.006674%3Femailalert%3Dtrue&data=05%7C02%7Cmcveigh%40ncbi.nlm.nih.gov%7C017a70c948af4333a1c808dd4ce97ee5%7C14b77578977342d58507251ca2dc2b06%7C0%7C0%7C638751288089710352%7CUnknown%7CTWFpbGZsb3d8eyJFbXB0eU1hcGkiOnRydWUsIlYiOiIwLjAuMDAwMCIsIlAiOiJXaW4zMiIsIkFOIjoiTWFpbCIsIldUIjoyfQ%3D%3D%7C40000%7C%7C%7C&sdata=hi4NC%2FEVWTCaeKPbdc5ZVA3OQr%2FKd%2FcdUHJ50i6srdI%3D&reserved=0  \n",
       "24  https://gcc02.safelinks.protection.outlook.com/?url=https%3A%2F%2Fwww.microbiologyresearch.org%2Fcontent%2Fjournal%2Fijsem%2F10.1099%2Fijsem.0.006674%3Femailalert%3Dtrue&data=05%7C02%7Cmcveigh%40ncbi.nlm.nih.gov%7C017a70c948af4333a1c808dd4ce97ee5%7C14b77578977342d58507251ca2dc2b06%7C0%7C0%7C638751288089710352%7CUnknown%7CTWFpbGZsb3d8eyJFbXB0eU1hcGkiOnRydWUsIlYiOiIwLjAuMDAwMCIsIlAiOiJXaW4zMiIsIkFOIjoiTWFpbCIsIldUIjoyfQ%3D%3D%7C40000%7C%7C%7C&sdata=hi4NC%2FEVWTCaeKPbdc5ZVA3OQr%2FKd%2FcdUHJ50i6srdI%3D&reserved=0  \n",
       "25  https://gcc02.safelinks.protection.outlook.com/?url=https%3A%2F%2Fwww.microbiologyresearch.org%2Fcontent%2Fjournal%2Fijsem%2F10.1099%2Fijsem.0.006674%3Femailalert%3Dtrue&data=05%7C02%7Cmcveigh%40ncbi.nlm.nih.gov%7C017a70c948af4333a1c808dd4ce97ee5%7C14b77578977342d58507251ca2dc2b06%7C0%7C0%7C638751288089710352%7CUnknown%7CTWFpbGZsb3d8eyJFbXB0eU1hcGkiOnRydWUsIlYiOiIwLjAuMDAwMCIsIlAiOiJXaW4zMiIsIkFOIjoiTWFpbCIsIldUIjoyfQ%3D%3D%7C40000%7C%7C%7C&sdata=hi4NC%2FEVWTCaeKPbdc5ZVA3OQr%2FKd%2FcdUHJ50i6srdI%3D&reserved=0  \n",
       "26  https://gcc02.safelinks.protection.outlook.com/?url=https%3A%2F%2Fwww.microbiologyresearch.org%2Fcontent%2Fjournal%2Fijsem%2F10.1099%2Fijsem.0.006674%3Femailalert%3Dtrue&data=05%7C02%7Cmcveigh%40ncbi.nlm.nih.gov%7C017a70c948af4333a1c808dd4ce97ee5%7C14b77578977342d58507251ca2dc2b06%7C0%7C0%7C638751288089710352%7CUnknown%7CTWFpbGZsb3d8eyJFbXB0eU1hcGkiOnRydWUsIlYiOiIwLjAuMDAwMCIsIlAiOiJXaW4zMiIsIkFOIjoiTWFpbCIsIldUIjoyfQ%3D%3D%7C40000%7C%7C%7C&sdata=hi4NC%2FEVWTCaeKPbdc5ZVA3OQr%2FKd%2FcdUHJ50i6srdI%3D&reserved=0  \n",
       "27  https://gcc02.safelinks.protection.outlook.com/?url=https%3A%2F%2Fwww.microbiologyresearch.org%2Fcontent%2Fjournal%2Fijsem%2F10.1099%2Fijsem.0.006674%3Femailalert%3Dtrue&data=05%7C02%7Cmcveigh%40ncbi.nlm.nih.gov%7C017a70c948af4333a1c808dd4ce97ee5%7C14b77578977342d58507251ca2dc2b06%7C0%7C0%7C638751288089710352%7CUnknown%7CTWFpbGZsb3d8eyJFbXB0eU1hcGkiOnRydWUsIlYiOiIwLjAuMDAwMCIsIlAiOiJXaW4zMiIsIkFOIjoiTWFpbCIsIldUIjoyfQ%3D%3D%7C40000%7C%7C%7C&sdata=hi4NC%2FEVWTCaeKPbdc5ZVA3OQr%2FKd%2FcdUHJ50i6srdI%3D&reserved=0  \n",
       "28  https://gcc02.safelinks.protection.outlook.com/?url=https%3A%2F%2Fwww.microbiologyresearch.org%2Fcontent%2Fjournal%2Fijsem%2F10.1099%2Fijsem.0.006674%3Femailalert%3Dtrue&data=05%7C02%7Cmcveigh%40ncbi.nlm.nih.gov%7C017a70c948af4333a1c808dd4ce97ee5%7C14b77578977342d58507251ca2dc2b06%7C0%7C0%7C638751288089710352%7CUnknown%7CTWFpbGZsb3d8eyJFbXB0eU1hcGkiOnRydWUsIlYiOiIwLjAuMDAwMCIsIlAiOiJXaW4zMiIsIkFOIjoiTWFpbCIsIldUIjoyfQ%3D%3D%7C40000%7C%7C%7C&sdata=hi4NC%2FEVWTCaeKPbdc5ZVA3OQr%2FKd%2FcdUHJ50i6srdI%3D&reserved=0  \n",
       "29  https://gcc02.safelinks.protection.outlook.com/?url=https%3A%2F%2Fwww.microbiologyresearch.org%2Fcontent%2Fjournal%2Fijsem%2F10.1099%2Fijsem.0.006674%3Femailalert%3Dtrue&data=05%7C02%7Cmcveigh%40ncbi.nlm.nih.gov%7C017a70c948af4333a1c808dd4ce97ee5%7C14b77578977342d58507251ca2dc2b06%7C0%7C0%7C638751288089710352%7CUnknown%7CTWFpbGZsb3d8eyJFbXB0eU1hcGkiOnRydWUsIlYiOiIwLjAuMDAwMCIsIlAiOiJXaW4zMiIsIkFOIjoiTWFpbCIsIldUIjoyfQ%3D%3D%7C40000%7C%7C%7C&sdata=hi4NC%2FEVWTCaeKPbdc5ZVA3OQr%2FKd%2FcdUHJ50i6srdI%3D&reserved=0  \n",
       "30  https://gcc02.safelinks.protection.outlook.com/?url=https%3A%2F%2Fwww.microbiologyresearch.org%2Fcontent%2Fjournal%2Fijsem%2F10.1099%2Fijsem.0.006674%3Femailalert%3Dtrue&data=05%7C02%7Cmcveigh%40ncbi.nlm.nih.gov%7C017a70c948af4333a1c808dd4ce97ee5%7C14b77578977342d58507251ca2dc2b06%7C0%7C0%7C638751288089710352%7CUnknown%7CTWFpbGZsb3d8eyJFbXB0eU1hcGkiOnRydWUsIlYiOiIwLjAuMDAwMCIsIlAiOiJXaW4zMiIsIkFOIjoiTWFpbCIsIldUIjoyfQ%3D%3D%7C40000%7C%7C%7C&sdata=hi4NC%2FEVWTCaeKPbdc5ZVA3OQr%2FKd%2FcdUHJ50i6srdI%3D&reserved=0  \n",
       "31  https://gcc02.safelinks.protection.outlook.com/?url=https%3A%2F%2Fwww.microbiologyresearch.org%2Fcontent%2Fjournal%2Fijsem%2F10.1099%2Fijsem.0.006674%3Femailalert%3Dtrue&data=05%7C02%7Cmcveigh%40ncbi.nlm.nih.gov%7C017a70c948af4333a1c808dd4ce97ee5%7C14b77578977342d58507251ca2dc2b06%7C0%7C0%7C638751288089710352%7CUnknown%7CTWFpbGZsb3d8eyJFbXB0eU1hcGkiOnRydWUsIlYiOiIwLjAuMDAwMCIsIlAiOiJXaW4zMiIsIkFOIjoiTWFpbCIsIldUIjoyfQ%3D%3D%7C40000%7C%7C%7C&sdata=hi4NC%2FEVWTCaeKPbdc5ZVA3OQr%2FKd%2FcdUHJ50i6srdI%3D&reserved=0  \n",
       "32  https://gcc02.safelinks.protection.outlook.com/?url=https%3A%2F%2Fwww.microbiologyresearch.org%2Fcontent%2Fjournal%2Fijsem%2F10.1099%2Fijsem.0.006674%3Femailalert%3Dtrue&data=05%7C02%7Cmcveigh%40ncbi.nlm.nih.gov%7C017a70c948af4333a1c808dd4ce97ee5%7C14b77578977342d58507251ca2dc2b06%7C0%7C0%7C638751288089710352%7CUnknown%7CTWFpbGZsb3d8eyJFbXB0eU1hcGkiOnRydWUsIlYiOiIwLjAuMDAwMCIsIlAiOiJXaW4zMiIsIkFOIjoiTWFpbCIsIldUIjoyfQ%3D%3D%7C40000%7C%7C%7C&sdata=hi4NC%2FEVWTCaeKPbdc5ZVA3OQr%2FKd%2FcdUHJ50i6srdI%3D&reserved=0  \n",
       "33  https://gcc02.safelinks.protection.outlook.com/?url=https%3A%2F%2Fwww.microbiologyresearch.org%2Fcontent%2Fjournal%2Fijsem%2F10.1099%2Fijsem.0.006674%3Femailalert%3Dtrue&data=05%7C02%7Cmcveigh%40ncbi.nlm.nih.gov%7C017a70c948af4333a1c808dd4ce97ee5%7C14b77578977342d58507251ca2dc2b06%7C0%7C0%7C638751288089710352%7CUnknown%7CTWFpbGZsb3d8eyJFbXB0eU1hcGkiOnRydWUsIlYiOiIwLjAuMDAwMCIsIlAiOiJXaW4zMiIsIkFOIjoiTWFpbCIsIldUIjoyfQ%3D%3D%7C40000%7C%7C%7C&sdata=hi4NC%2FEVWTCaeKPbdc5ZVA3OQr%2FKd%2FcdUHJ50i6srdI%3D&reserved=0  \n",
       "34        https://gcc02.safelinks.protection.outlook.com/?url=https%3A%2F%2Fwww.microbiologyresearch.org%2Fcontent%2Fjournal%2Fijsem%2F10.1099%2Fijsem.0.006675%3Femailalert%3Dtrue&data=05%7C02%7Cmcveigh%40ncbi.nlm.nih.gov%7C017a70c948af4333a1c808dd4ce97ee5%7C14b77578977342d58507251ca2dc2b06%7C0%7C0%7C638751288089735188%7CUnknown%7CTWFpbGZsb3d8eyJFbXB0eU1hcGkiOnRydWUsIlYiOiIwLjAuMDAwMCIsIlAiOiJXaW4zMiIsIkFOIjoiTWFpbCIsIldUIjoyfQ%3D%3D%7C40000%7C%7C%7C&sdata=yZcx2J2gqkXmfKKvNh0Kdd3ISY7mJarVRuWFLQayIjM%3D&reserved=0  \n",
       "35        https://gcc02.safelinks.protection.outlook.com/?url=https%3A%2F%2Fwww.microbiologyresearch.org%2Fcontent%2Fjournal%2Fijsem%2F10.1099%2Fijsem.0.006675%3Femailalert%3Dtrue&data=05%7C02%7Cmcveigh%40ncbi.nlm.nih.gov%7C017a70c948af4333a1c808dd4ce97ee5%7C14b77578977342d58507251ca2dc2b06%7C0%7C0%7C638751288089735188%7CUnknown%7CTWFpbGZsb3d8eyJFbXB0eU1hcGkiOnRydWUsIlYiOiIwLjAuMDAwMCIsIlAiOiJXaW4zMiIsIkFOIjoiTWFpbCIsIldUIjoyfQ%3D%3D%7C40000%7C%7C%7C&sdata=yZcx2J2gqkXmfKKvNh0Kdd3ISY7mJarVRuWFLQayIjM%3D&reserved=0  "
      ]
     },
     "execution_count": 16,
     "metadata": {},
     "output_type": "execute_result"
    }
   ],
   "source": [
    "combine_df=pd.merge(left=pub4_df, right=srcchk_df, left_on='accession', right_on='accession', how = 'outer')\n",
    "combine_df = combine_df[['PublishedName', 'NCBIname', 'Strains', 'accession', 'strain', 'Authority', 'taxid', 'DOI', 'URL' ]]\n",
    "combine_df"
   ]
  },
  {
   "cell_type": "code",
   "execution_count": 17,
   "id": "8d07fbae",
   "metadata": {},
   "outputs": [
    {
     "data": {
      "text/html": [
       "<style type=\"text/css\">\n",
       "#T_0e626_row0_col0, #T_0e626_row0_col1, #T_0e626_row1_col0, #T_0e626_row1_col1, #T_0e626_row2_col0, #T_0e626_row2_col1, #T_0e626_row3_col0, #T_0e626_row3_col1, #T_0e626_row4_col0, #T_0e626_row4_col1, #T_0e626_row5_col0, #T_0e626_row5_col1, #T_0e626_row6_col0, #T_0e626_row6_col1, #T_0e626_row7_col0, #T_0e626_row7_col1, #T_0e626_row8_col0, #T_0e626_row8_col1, #T_0e626_row9_col0, #T_0e626_row9_col1, #T_0e626_row10_col0, #T_0e626_row10_col1, #T_0e626_row11_col0, #T_0e626_row11_col1, #T_0e626_row12_col0, #T_0e626_row12_col1, #T_0e626_row13_col0, #T_0e626_row13_col1, #T_0e626_row14_col0, #T_0e626_row14_col1, #T_0e626_row15_col0, #T_0e626_row15_col1, #T_0e626_row16_col0, #T_0e626_row16_col1, #T_0e626_row17_col0, #T_0e626_row17_col1, #T_0e626_row18_col0, #T_0e626_row18_col1, #T_0e626_row19_col0, #T_0e626_row19_col1, #T_0e626_row20_col0, #T_0e626_row20_col1, #T_0e626_row21_col0, #T_0e626_row21_col1, #T_0e626_row22_col0, #T_0e626_row22_col1, #T_0e626_row23_col0, #T_0e626_row23_col1, #T_0e626_row24_col0, #T_0e626_row24_col1, #T_0e626_row25_col0, #T_0e626_row25_col1, #T_0e626_row26_col0, #T_0e626_row26_col1, #T_0e626_row27_col0, #T_0e626_row27_col1, #T_0e626_row28_col0, #T_0e626_row28_col1, #T_0e626_row29_col0, #T_0e626_row29_col1, #T_0e626_row30_col0, #T_0e626_row30_col1, #T_0e626_row31_col0, #T_0e626_row31_col1, #T_0e626_row32_col0, #T_0e626_row32_col1, #T_0e626_row33_col0, #T_0e626_row33_col1, #T_0e626_row34_col0, #T_0e626_row34_col1, #T_0e626_row35_col0, #T_0e626_row35_col1 {\n",
       "  background-color: #FFB3BA;\n",
       "}\n",
       "</style>\n",
       "<table id=\"T_0e626\">\n",
       "  <thead>\n",
       "    <tr>\n",
       "      <th class=\"blank level0\" >&nbsp;</th>\n",
       "      <th id=\"T_0e626_level0_col0\" class=\"col_heading level0 col0\" >PublishedName</th>\n",
       "      <th id=\"T_0e626_level0_col1\" class=\"col_heading level0 col1\" >NCBIname</th>\n",
       "      <th id=\"T_0e626_level0_col2\" class=\"col_heading level0 col2\" >Strains</th>\n",
       "      <th id=\"T_0e626_level0_col3\" class=\"col_heading level0 col3\" >accession</th>\n",
       "      <th id=\"T_0e626_level0_col4\" class=\"col_heading level0 col4\" >strain</th>\n",
       "      <th id=\"T_0e626_level0_col5\" class=\"col_heading level0 col5\" >Authority</th>\n",
       "      <th id=\"T_0e626_level0_col6\" class=\"col_heading level0 col6\" >taxid</th>\n",
       "      <th id=\"T_0e626_level0_col7\" class=\"col_heading level0 col7\" >DOI</th>\n",
       "      <th id=\"T_0e626_level0_col8\" class=\"col_heading level0 col8\" >URL</th>\n",
       "    </tr>\n",
       "  </thead>\n",
       "  <tbody>\n",
       "    <tr>\n",
       "      <th id=\"T_0e626_level0_row0\" class=\"row_heading level0 row0\" >0</th>\n",
       "      <td id=\"T_0e626_row0_col0\" class=\"data row0 col0\" >nan</td>\n",
       "      <td id=\"T_0e626_row0_col1\" class=\"data row0 col1\" >nan</td>\n",
       "      <td id=\"T_0e626_row0_col2\" class=\"data row0 col2\" ></td>\n",
       "      <td id=\"T_0e626_row0_col3\" class=\"data row0 col3\" >nan</td>\n",
       "      <td id=\"T_0e626_row0_col4\" class=\"data row0 col4\" >nan</td>\n",
       "      <td id=\"T_0e626_row0_col5\" class=\"data row0 col5\" >Lee et al. 2025</td>\n",
       "      <td id=\"T_0e626_row0_col6\" class=\"data row0 col6\" >nan</td>\n",
       "      <td id=\"T_0e626_row0_col7\" class=\"data row0 col7\" >https://doi.org/10.1099/ijsem.0.006663</td>\n",
       "      <td id=\"T_0e626_row0_col8\" class=\"data row0 col8\" >https://gcc02.safelinks.protection.outlook.com/?url=https%3A%2F%2Fwww.microbiologyresearch.org%2Fcontent%2Fjournal%2Fijsem%2F10.1099%2Fijsem.0.006663%3Femailalert%3Dtrue&data=05%7C02%7Cmcveigh%40ncbi.nlm.nih.gov%7C017a70c948af4333a1c808dd4ce97ee5%7C14b77578977342d58507251ca2dc2b06%7C0%7C0%7C638751288089330574%7CUnknown%7CTWFpbGZsb3d8eyJFbXB0eU1hcGkiOnRydWUsIlYiOiIwLjAuMDAwMCIsIlAiOiJXaW4zMiIsIkFOIjoiTWFpbCIsIldUIjoyfQ%3D%3D%7C40000%7C%7C%7C&sdata=%2F9Mf43NMpFvAJ13NJ3KKsnI9C%2BRGKhXPDs0NPu7apYs%3D&reserved=0</td>\n",
       "    </tr>\n",
       "    <tr>\n",
       "      <th id=\"T_0e626_level0_row1\" class=\"row_heading level0 row1\" >1</th>\n",
       "      <td id=\"T_0e626_row1_col0\" class=\"data row1 col0\" >Thalassobellus suaedae </td>\n",
       "      <td id=\"T_0e626_row1_col1\" class=\"data row1 col1\" >Flavobacteriaceae bacterium</td>\n",
       "      <td id=\"T_0e626_row1_col2\" class=\"data row1 col2\" >HL-DH10T,  KCCM 90512T,  JCM 36598T,  HL-DH14,  KCCM 90513</td>\n",
       "      <td id=\"T_0e626_row1_col3\" class=\"data row1 col3\" >OR229715</td>\n",
       "      <td id=\"T_0e626_row1_col4\" class=\"data row1 col4\" >HL-DH10</td>\n",
       "      <td id=\"T_0e626_row1_col5\" class=\"data row1 col5\" >Lee et al. 2025</td>\n",
       "      <td id=\"T_0e626_row1_col6\" class=\"data row1 col6\" >1871037.000000</td>\n",
       "      <td id=\"T_0e626_row1_col7\" class=\"data row1 col7\" >https://doi.org/10.1099/ijsem.0.006663</td>\n",
       "      <td id=\"T_0e626_row1_col8\" class=\"data row1 col8\" >https://gcc02.safelinks.protection.outlook.com/?url=https%3A%2F%2Fwww.microbiologyresearch.org%2Fcontent%2Fjournal%2Fijsem%2F10.1099%2Fijsem.0.006663%3Femailalert%3Dtrue&data=05%7C02%7Cmcveigh%40ncbi.nlm.nih.gov%7C017a70c948af4333a1c808dd4ce97ee5%7C14b77578977342d58507251ca2dc2b06%7C0%7C0%7C638751288089330574%7CUnknown%7CTWFpbGZsb3d8eyJFbXB0eU1hcGkiOnRydWUsIlYiOiIwLjAuMDAwMCIsIlAiOiJXaW4zMiIsIkFOIjoiTWFpbCIsIldUIjoyfQ%3D%3D%7C40000%7C%7C%7C&sdata=%2F9Mf43NMpFvAJ13NJ3KKsnI9C%2BRGKhXPDs0NPu7apYs%3D&reserved=0</td>\n",
       "    </tr>\n",
       "    <tr>\n",
       "      <th id=\"T_0e626_level0_row2\" class=\"row_heading level0 row2\" >2</th>\n",
       "      <td id=\"T_0e626_row2_col0\" class=\"data row2 col0\" >Thalassobellus suaedae </td>\n",
       "      <td id=\"T_0e626_row2_col1\" class=\"data row2 col1\" >Flavobacteriaceae bacterium</td>\n",
       "      <td id=\"T_0e626_row2_col2\" class=\"data row2 col2\" >HL-DH10T,  KCCM 90512T,  JCM 36598T,  HL-DH14,  KCCM 90513</td>\n",
       "      <td id=\"T_0e626_row2_col3\" class=\"data row2 col3\" >OR652609</td>\n",
       "      <td id=\"T_0e626_row2_col4\" class=\"data row2 col4\" >HL-DH10</td>\n",
       "      <td id=\"T_0e626_row2_col5\" class=\"data row2 col5\" >Lee et al. 2025</td>\n",
       "      <td id=\"T_0e626_row2_col6\" class=\"data row2 col6\" >1871037.000000</td>\n",
       "      <td id=\"T_0e626_row2_col7\" class=\"data row2 col7\" >https://doi.org/10.1099/ijsem.0.006663</td>\n",
       "      <td id=\"T_0e626_row2_col8\" class=\"data row2 col8\" >https://gcc02.safelinks.protection.outlook.com/?url=https%3A%2F%2Fwww.microbiologyresearch.org%2Fcontent%2Fjournal%2Fijsem%2F10.1099%2Fijsem.0.006663%3Femailalert%3Dtrue&data=05%7C02%7Cmcveigh%40ncbi.nlm.nih.gov%7C017a70c948af4333a1c808dd4ce97ee5%7C14b77578977342d58507251ca2dc2b06%7C0%7C0%7C638751288089330574%7CUnknown%7CTWFpbGZsb3d8eyJFbXB0eU1hcGkiOnRydWUsIlYiOiIwLjAuMDAwMCIsIlAiOiJXaW4zMiIsIkFOIjoiTWFpbCIsIldUIjoyfQ%3D%3D%7C40000%7C%7C%7C&sdata=%2F9Mf43NMpFvAJ13NJ3KKsnI9C%2BRGKhXPDs0NPu7apYs%3D&reserved=0</td>\n",
       "    </tr>\n",
       "    <tr>\n",
       "      <th id=\"T_0e626_level0_row3\" class=\"row_heading level0 row3\" >3</th>\n",
       "      <td id=\"T_0e626_row3_col0\" class=\"data row3 col0\" >Thalassobellus suaedae </td>\n",
       "      <td id=\"T_0e626_row3_col1\" class=\"data row3 col1\" >Flavobacteriaceae bacterium</td>\n",
       "      <td id=\"T_0e626_row3_col2\" class=\"data row3 col2\" >HL-DH10T,  KCCM 90512T,  JCM 36598T,  HL-DH14,  KCCM 90513</td>\n",
       "      <td id=\"T_0e626_row3_col3\" class=\"data row3 col3\" >OR229716</td>\n",
       "      <td id=\"T_0e626_row3_col4\" class=\"data row3 col4\" >HL-DH14</td>\n",
       "      <td id=\"T_0e626_row3_col5\" class=\"data row3 col5\" >Lee et al. 2025</td>\n",
       "      <td id=\"T_0e626_row3_col6\" class=\"data row3 col6\" >1871037.000000</td>\n",
       "      <td id=\"T_0e626_row3_col7\" class=\"data row3 col7\" >https://doi.org/10.1099/ijsem.0.006663</td>\n",
       "      <td id=\"T_0e626_row3_col8\" class=\"data row3 col8\" >https://gcc02.safelinks.protection.outlook.com/?url=https%3A%2F%2Fwww.microbiologyresearch.org%2Fcontent%2Fjournal%2Fijsem%2F10.1099%2Fijsem.0.006663%3Femailalert%3Dtrue&data=05%7C02%7Cmcveigh%40ncbi.nlm.nih.gov%7C017a70c948af4333a1c808dd4ce97ee5%7C14b77578977342d58507251ca2dc2b06%7C0%7C0%7C638751288089330574%7CUnknown%7CTWFpbGZsb3d8eyJFbXB0eU1hcGkiOnRydWUsIlYiOiIwLjAuMDAwMCIsIlAiOiJXaW4zMiIsIkFOIjoiTWFpbCIsIldUIjoyfQ%3D%3D%7C40000%7C%7C%7C&sdata=%2F9Mf43NMpFvAJ13NJ3KKsnI9C%2BRGKhXPDs0NPu7apYs%3D&reserved=0</td>\n",
       "    </tr>\n",
       "    <tr>\n",
       "      <th id=\"T_0e626_level0_row4\" class=\"row_heading level0 row4\" >4</th>\n",
       "      <td id=\"T_0e626_row4_col0\" class=\"data row4 col0\" >Thalassobellus suaedae </td>\n",
       "      <td id=\"T_0e626_row4_col1\" class=\"data row4 col1\" >Flavobacteriaceae bacterium HL-DH14</td>\n",
       "      <td id=\"T_0e626_row4_col2\" class=\"data row4 col2\" >HL-DH10T,  KCCM 90512T,  JCM 36598T,  HL-DH14,  KCCM 90513</td>\n",
       "      <td id=\"T_0e626_row4_col3\" class=\"data row4 col3\" >OR652608</td>\n",
       "      <td id=\"T_0e626_row4_col4\" class=\"data row4 col4\" >HL-DH14</td>\n",
       "      <td id=\"T_0e626_row4_col5\" class=\"data row4 col5\" >Lee et al. 2025</td>\n",
       "      <td id=\"T_0e626_row4_col6\" class=\"data row4 col6\" >3074125.000000</td>\n",
       "      <td id=\"T_0e626_row4_col7\" class=\"data row4 col7\" >https://doi.org/10.1099/ijsem.0.006663</td>\n",
       "      <td id=\"T_0e626_row4_col8\" class=\"data row4 col8\" >https://gcc02.safelinks.protection.outlook.com/?url=https%3A%2F%2Fwww.microbiologyresearch.org%2Fcontent%2Fjournal%2Fijsem%2F10.1099%2Fijsem.0.006663%3Femailalert%3Dtrue&data=05%7C02%7Cmcveigh%40ncbi.nlm.nih.gov%7C017a70c948af4333a1c808dd4ce97ee5%7C14b77578977342d58507251ca2dc2b06%7C0%7C0%7C638751288089330574%7CUnknown%7CTWFpbGZsb3d8eyJFbXB0eU1hcGkiOnRydWUsIlYiOiIwLjAuMDAwMCIsIlAiOiJXaW4zMiIsIkFOIjoiTWFpbCIsIldUIjoyfQ%3D%3D%7C40000%7C%7C%7C&sdata=%2F9Mf43NMpFvAJ13NJ3KKsnI9C%2BRGKhXPDs0NPu7apYs%3D&reserved=0</td>\n",
       "    </tr>\n",
       "    <tr>\n",
       "      <th id=\"T_0e626_level0_row5\" class=\"row_heading level0 row5\" >5</th>\n",
       "      <td id=\"T_0e626_row5_col0\" class=\"data row5 col0\" >Thalassobellus suaedae </td>\n",
       "      <td id=\"T_0e626_row5_col1\" class=\"data row5 col1\" >Flavobacteriaceae bacterium HL-DH10</td>\n",
       "      <td id=\"T_0e626_row5_col2\" class=\"data row5 col2\" >HL-DH10T,  KCCM 90512T,  JCM 36598T,  HL-DH14,  KCCM 90513</td>\n",
       "      <td id=\"T_0e626_row5_col3\" class=\"data row5 col3\" >CP134536</td>\n",
       "      <td id=\"T_0e626_row5_col4\" class=\"data row5 col4\" >HL-DH10</td>\n",
       "      <td id=\"T_0e626_row5_col5\" class=\"data row5 col5\" >Lee et al. 2025</td>\n",
       "      <td id=\"T_0e626_row5_col6\" class=\"data row5 col6\" >3074124.000000</td>\n",
       "      <td id=\"T_0e626_row5_col7\" class=\"data row5 col7\" >https://doi.org/10.1099/ijsem.0.006663</td>\n",
       "      <td id=\"T_0e626_row5_col8\" class=\"data row5 col8\" >https://gcc02.safelinks.protection.outlook.com/?url=https%3A%2F%2Fwww.microbiologyresearch.org%2Fcontent%2Fjournal%2Fijsem%2F10.1099%2Fijsem.0.006663%3Femailalert%3Dtrue&data=05%7C02%7Cmcveigh%40ncbi.nlm.nih.gov%7C017a70c948af4333a1c808dd4ce97ee5%7C14b77578977342d58507251ca2dc2b06%7C0%7C0%7C638751288089330574%7CUnknown%7CTWFpbGZsb3d8eyJFbXB0eU1hcGkiOnRydWUsIlYiOiIwLjAuMDAwMCIsIlAiOiJXaW4zMiIsIkFOIjoiTWFpbCIsIldUIjoyfQ%3D%3D%7C40000%7C%7C%7C&sdata=%2F9Mf43NMpFvAJ13NJ3KKsnI9C%2BRGKhXPDs0NPu7apYs%3D&reserved=0</td>\n",
       "    </tr>\n",
       "    <tr>\n",
       "      <th id=\"T_0e626_level0_row6\" class=\"row_heading level0 row6\" >6</th>\n",
       "      <td id=\"T_0e626_row6_col0\" class=\"data row6 col0\" >Thalassobellus suaedae </td>\n",
       "      <td id=\"T_0e626_row6_col1\" class=\"data row6 col1\" >Flavobacteriaceae bacterium HL-DH14</td>\n",
       "      <td id=\"T_0e626_row6_col2\" class=\"data row6 col2\" >HL-DH10T,  KCCM 90512T,  JCM 36598T,  HL-DH14,  KCCM 90513</td>\n",
       "      <td id=\"T_0e626_row6_col3\" class=\"data row6 col3\" >CP134537</td>\n",
       "      <td id=\"T_0e626_row6_col4\" class=\"data row6 col4\" >HL-DH14</td>\n",
       "      <td id=\"T_0e626_row6_col5\" class=\"data row6 col5\" >Lee et al. 2025</td>\n",
       "      <td id=\"T_0e626_row6_col6\" class=\"data row6 col6\" >3074125.000000</td>\n",
       "      <td id=\"T_0e626_row6_col7\" class=\"data row6 col7\" >https://doi.org/10.1099/ijsem.0.006663</td>\n",
       "      <td id=\"T_0e626_row6_col8\" class=\"data row6 col8\" >https://gcc02.safelinks.protection.outlook.com/?url=https%3A%2F%2Fwww.microbiologyresearch.org%2Fcontent%2Fjournal%2Fijsem%2F10.1099%2Fijsem.0.006663%3Femailalert%3Dtrue&data=05%7C02%7Cmcveigh%40ncbi.nlm.nih.gov%7C017a70c948af4333a1c808dd4ce97ee5%7C14b77578977342d58507251ca2dc2b06%7C0%7C0%7C638751288089330574%7CUnknown%7CTWFpbGZsb3d8eyJFbXB0eU1hcGkiOnRydWUsIlYiOiIwLjAuMDAwMCIsIlAiOiJXaW4zMiIsIkFOIjoiTWFpbCIsIldUIjoyfQ%3D%3D%7C40000%7C%7C%7C&sdata=%2F9Mf43NMpFvAJ13NJ3KKsnI9C%2BRGKhXPDs0NPu7apYs%3D&reserved=0</td>\n",
       "    </tr>\n",
       "    <tr>\n",
       "      <th id=\"T_0e626_level0_row7\" class=\"row_heading level0 row7\" >7</th>\n",
       "      <td id=\"T_0e626_row7_col0\" class=\"data row7 col0\" >Methanobacterium aridiramus </td>\n",
       "      <td id=\"T_0e626_row7_col1\" class=\"data row7 col1\" >Methanobacterium sp.</td>\n",
       "      <td id=\"T_0e626_row7_col2\" class=\"data row7 col2\" >CWC-01T,  BCRC AR10053T,  NBRC 113991T</td>\n",
       "      <td id=\"T_0e626_row7_col3\" class=\"data row7 col3\" >MK979366</td>\n",
       "      <td id=\"T_0e626_row7_col4\" class=\"data row7 col4\" >CWC-01</td>\n",
       "      <td id=\"T_0e626_row7_col5\" class=\"data row7 col5\" >Lee et al. 2025</td>\n",
       "      <td id=\"T_0e626_row7_col6\" class=\"data row7 col6\" >2164.000000</td>\n",
       "      <td id=\"T_0e626_row7_col7\" class=\"data row7 col7\" >https://doi.org/10.1099/ijsem.0.006658</td>\n",
       "      <td id=\"T_0e626_row7_col8\" class=\"data row7 col8\" >https://gcc02.safelinks.protection.outlook.com/?url=https%3A%2F%2Fwww.microbiologyresearch.org%2Fcontent%2Fjournal%2Fijsem%2F10.1099%2Fijsem.0.006658%3Femailalert%3Dtrue&data=05%7C02%7Cmcveigh%40ncbi.nlm.nih.gov%7C017a70c948af4333a1c808dd4ce97ee5%7C14b77578977342d58507251ca2dc2b06%7C0%7C0%7C638751288089383537%7CUnknown%7CTWFpbGZsb3d8eyJFbXB0eU1hcGkiOnRydWUsIlYiOiIwLjAuMDAwMCIsIlAiOiJXaW4zMiIsIkFOIjoiTWFpbCIsIldUIjoyfQ%3D%3D%7C40000%7C%7C%7C&sdata=n6Mm1qXs2TjrrOYlH1jFldblC5%2Bdu%2BbqcDRUZr1aCE4%3D&reserved=0</td>\n",
       "    </tr>\n",
       "    <tr>\n",
       "      <th id=\"T_0e626_level0_row8\" class=\"row_heading level0 row8\" >8</th>\n",
       "      <td id=\"T_0e626_row8_col0\" class=\"data row8 col0\" >Methanobacterium aridiramus </td>\n",
       "      <td id=\"T_0e626_row8_col1\" class=\"data row8 col1\" >Methanobacterium sp. CWC-01</td>\n",
       "      <td id=\"T_0e626_row8_col2\" class=\"data row8 col2\" >CWC-01T,  BCRC AR10053T,  NBRC 113991T</td>\n",
       "      <td id=\"T_0e626_row8_col3\" class=\"data row8 col3\" >CP040735</td>\n",
       "      <td id=\"T_0e626_row8_col4\" class=\"data row8 col4\" >CWC-01</td>\n",
       "      <td id=\"T_0e626_row8_col5\" class=\"data row8 col5\" >Lee et al. 2025</td>\n",
       "      <td id=\"T_0e626_row8_col6\" class=\"data row8 col6\" >2584467.000000</td>\n",
       "      <td id=\"T_0e626_row8_col7\" class=\"data row8 col7\" >https://doi.org/10.1099/ijsem.0.006658</td>\n",
       "      <td id=\"T_0e626_row8_col8\" class=\"data row8 col8\" >https://gcc02.safelinks.protection.outlook.com/?url=https%3A%2F%2Fwww.microbiologyresearch.org%2Fcontent%2Fjournal%2Fijsem%2F10.1099%2Fijsem.0.006658%3Femailalert%3Dtrue&data=05%7C02%7Cmcveigh%40ncbi.nlm.nih.gov%7C017a70c948af4333a1c808dd4ce97ee5%7C14b77578977342d58507251ca2dc2b06%7C0%7C0%7C638751288089383537%7CUnknown%7CTWFpbGZsb3d8eyJFbXB0eU1hcGkiOnRydWUsIlYiOiIwLjAuMDAwMCIsIlAiOiJXaW4zMiIsIkFOIjoiTWFpbCIsIldUIjoyfQ%3D%3D%7C40000%7C%7C%7C&sdata=n6Mm1qXs2TjrrOYlH1jFldblC5%2Bdu%2BbqcDRUZr1aCE4%3D&reserved=0</td>\n",
       "    </tr>\n",
       "    <tr>\n",
       "      <th id=\"T_0e626_level0_row9\" class=\"row_heading level0 row9\" >9</th>\n",
       "      <td id=\"T_0e626_row9_col0\" class=\"data row9 col0\" >Minisyncoccus archaeiphilus </td>\n",
       "      <td id=\"T_0e626_row9_col1\" class=\"data row9 col1\" >Candidatus Minisyncoccus archaeophilus</td>\n",
       "      <td id=\"T_0e626_row9_col2\" class=\"data row9 col2\" >PMX.108T,  JCM 39522T</td>\n",
       "      <td id=\"T_0e626_row9_col3\" class=\"data row9 col3\" >AP038758</td>\n",
       "      <td id=\"T_0e626_row9_col4\" class=\"data row9 col4\" >PMX.108</td>\n",
       "      <td id=\"T_0e626_row9_col5\" class=\"data row9 col5\" >Nakajima et al. 2025</td>\n",
       "      <td id=\"T_0e626_row9_col6\" class=\"data row9 col6\" >3238481.000000</td>\n",
       "      <td id=\"T_0e626_row9_col7\" class=\"data row9 col7\" >https://doi.org/10.5281/zenodo.10140531</td>\n",
       "      <td id=\"T_0e626_row9_col8\" class=\"data row9 col8\" >https://gcc02.safelinks.protection.outlook.com/?url=https%3A%2F%2Fwww.microbiologyresearch.org%2Fcontent%2Fjournal%2Fijsem%2F10.1099%2Fijsem.0.006668%3Femailalert%3Dtrue&data=05%7C02%7Cmcveigh%40ncbi.nlm.nih.gov%7C017a70c948af4333a1c808dd4ce97ee5%7C14b77578977342d58507251ca2dc2b06%7C0%7C0%7C638751288089563102%7CUnknown%7CTWFpbGZsb3d8eyJFbXB0eU1hcGkiOnRydWUsIlYiOiIwLjAuMDAwMCIsIlAiOiJXaW4zMiIsIkFOIjoiTWFpbCIsIldUIjoyfQ%3D%3D%7C40000%7C%7C%7C&sdata=3X9B3NLCY%2BU%2FdZOHG5rj0eHv4ShcDUe18vhPlUBhrAg%3D&reserved=0</td>\n",
       "    </tr>\n",
       "    <tr>\n",
       "      <th id=\"T_0e626_level0_row10\" class=\"row_heading level0 row10\" >10</th>\n",
       "      <td id=\"T_0e626_row10_col0\" class=\"data row10 col0\" >Minisyncoccus archaeiphilus </td>\n",
       "      <td id=\"T_0e626_row10_col1\" class=\"data row10 col1\" >Candidatus Minisyncoccus archaeophilus</td>\n",
       "      <td id=\"T_0e626_row10_col2\" class=\"data row10 col2\" >PMX.108T,  JCM 39522T</td>\n",
       "      <td id=\"T_0e626_row10_col3\" class=\"data row10 col3\" >LC847185</td>\n",
       "      <td id=\"T_0e626_row10_col4\" class=\"data row10 col4\" >PMX.108</td>\n",
       "      <td id=\"T_0e626_row10_col5\" class=\"data row10 col5\" >Nakajima et al. 2025</td>\n",
       "      <td id=\"T_0e626_row10_col6\" class=\"data row10 col6\" >3238481.000000</td>\n",
       "      <td id=\"T_0e626_row10_col7\" class=\"data row10 col7\" >https://doi.org/10.5281/zenodo.10140531</td>\n",
       "      <td id=\"T_0e626_row10_col8\" class=\"data row10 col8\" >https://gcc02.safelinks.protection.outlook.com/?url=https%3A%2F%2Fwww.microbiologyresearch.org%2Fcontent%2Fjournal%2Fijsem%2F10.1099%2Fijsem.0.006668%3Femailalert%3Dtrue&data=05%7C02%7Cmcveigh%40ncbi.nlm.nih.gov%7C017a70c948af4333a1c808dd4ce97ee5%7C14b77578977342d58507251ca2dc2b06%7C0%7C0%7C638751288089563102%7CUnknown%7CTWFpbGZsb3d8eyJFbXB0eU1hcGkiOnRydWUsIlYiOiIwLjAuMDAwMCIsIlAiOiJXaW4zMiIsIkFOIjoiTWFpbCIsIldUIjoyfQ%3D%3D%7C40000%7C%7C%7C&sdata=3X9B3NLCY%2BU%2FdZOHG5rj0eHv4ShcDUe18vhPlUBhrAg%3D&reserved=0</td>\n",
       "    </tr>\n",
       "    <tr>\n",
       "      <th id=\"T_0e626_level0_row11\" class=\"row_heading level0 row11\" >11</th>\n",
       "      <td id=\"T_0e626_row11_col0\" class=\"data row11 col0\" >Afipia dichlorophenoxyacetatis </td>\n",
       "      <td id=\"T_0e626_row11_col1\" class=\"data row11 col1\" >Afipia sp. DD3</td>\n",
       "      <td id=\"T_0e626_row11_col2\" class=\"data row11 col2\" >DD3T,  MAFF 311804T,  ICMP 25015T,  MAFF 311814,  ICMP 25016</td>\n",
       "      <td id=\"T_0e626_row11_col3\" class=\"data row11 col3\" >AP029250</td>\n",
       "      <td id=\"T_0e626_row11_col4\" class=\"data row11 col4\" >DD3</td>\n",
       "      <td id=\"T_0e626_row11_col5\" class=\"data row11 col5\" >Sawada et al. 2025</td>\n",
       "      <td id=\"T_0e626_row11_col6\" class=\"data row11 col6\" >3116917.000000</td>\n",
       "      <td id=\"T_0e626_row11_col7\" class=\"data row11 col7\" >https://doi.org/10.1099/ijsem.0.006672</td>\n",
       "      <td id=\"T_0e626_row11_col8\" class=\"data row11 col8\" >https://gcc02.safelinks.protection.outlook.com/?url=https%3A%2F%2Fwww.microbiologyresearch.org%2Fcontent%2Fjournal%2Fijsem%2F10.1099%2Fijsem.0.006672%3Femailalert%3Dtrue&data=05%7C02%7Cmcveigh%40ncbi.nlm.nih.gov%7C017a70c948af4333a1c808dd4ce97ee5%7C14b77578977342d58507251ca2dc2b06%7C0%7C0%7C638751288089597233%7CUnknown%7CTWFpbGZsb3d8eyJFbXB0eU1hcGkiOnRydWUsIlYiOiIwLjAuMDAwMCIsIlAiOiJXaW4zMiIsIkFOIjoiTWFpbCIsIldUIjoyfQ%3D%3D%7C40000%7C%7C%7C&sdata=ASJ4qJ6s9rIYcPAJEuujidW%2BW8I65RB%2B0SZnXx5AKxE%3D&reserved=0</td>\n",
       "    </tr>\n",
       "    <tr>\n",
       "      <th id=\"T_0e626_level0_row12\" class=\"row_heading level0 row12\" >12</th>\n",
       "      <td id=\"T_0e626_row12_col0\" class=\"data row12 col0\" >Afipia dichlorophenoxyacetatis </td>\n",
       "      <td id=\"T_0e626_row12_col1\" class=\"data row12 col1\" >Afipia sp. DDX28</td>\n",
       "      <td id=\"T_0e626_row12_col2\" class=\"data row12 col2\" >DD3T,  MAFF 311804T,  ICMP 25015T,  MAFF 311814,  ICMP 25016</td>\n",
       "      <td id=\"T_0e626_row12_col3\" class=\"data row12 col3\" >AP029255</td>\n",
       "      <td id=\"T_0e626_row12_col4\" class=\"data row12 col4\" >DDX28</td>\n",
       "      <td id=\"T_0e626_row12_col5\" class=\"data row12 col5\" >Sawada et al. 2025</td>\n",
       "      <td id=\"T_0e626_row12_col6\" class=\"data row12 col6\" >3119019.000000</td>\n",
       "      <td id=\"T_0e626_row12_col7\" class=\"data row12 col7\" >https://doi.org/10.1099/ijsem.0.006672</td>\n",
       "      <td id=\"T_0e626_row12_col8\" class=\"data row12 col8\" >https://gcc02.safelinks.protection.outlook.com/?url=https%3A%2F%2Fwww.microbiologyresearch.org%2Fcontent%2Fjournal%2Fijsem%2F10.1099%2Fijsem.0.006672%3Femailalert%3Dtrue&data=05%7C02%7Cmcveigh%40ncbi.nlm.nih.gov%7C017a70c948af4333a1c808dd4ce97ee5%7C14b77578977342d58507251ca2dc2b06%7C0%7C0%7C638751288089597233%7CUnknown%7CTWFpbGZsb3d8eyJFbXB0eU1hcGkiOnRydWUsIlYiOiIwLjAuMDAwMCIsIlAiOiJXaW4zMiIsIkFOIjoiTWFpbCIsIldUIjoyfQ%3D%3D%7C40000%7C%7C%7C&sdata=ASJ4qJ6s9rIYcPAJEuujidW%2BW8I65RB%2B0SZnXx5AKxE%3D&reserved=0</td>\n",
       "    </tr>\n",
       "    <tr>\n",
       "      <th id=\"T_0e626_level0_row13\" class=\"row_heading level0 row13\" >13</th>\n",
       "      <td id=\"T_0e626_row13_col0\" class=\"data row13 col0\" >Afipia dichlorophenoxyacetatis </td>\n",
       "      <td id=\"T_0e626_row13_col1\" class=\"data row13 col1\" >Afipia sp.</td>\n",
       "      <td id=\"T_0e626_row13_col2\" class=\"data row13 col2\" >DD3T,  MAFF 311804T,  ICMP 25015T,  MAFF 311814,  ICMP 25016</td>\n",
       "      <td id=\"T_0e626_row13_col3\" class=\"data row13 col3\" >LC770309</td>\n",
       "      <td id=\"T_0e626_row13_col4\" class=\"data row13 col4\" >DD3</td>\n",
       "      <td id=\"T_0e626_row13_col5\" class=\"data row13 col5\" >Sawada et al. 2025</td>\n",
       "      <td id=\"T_0e626_row13_col6\" class=\"data row13 col6\" >1871052.000000</td>\n",
       "      <td id=\"T_0e626_row13_col7\" class=\"data row13 col7\" >https://doi.org/10.1099/ijsem.0.006672</td>\n",
       "      <td id=\"T_0e626_row13_col8\" class=\"data row13 col8\" >https://gcc02.safelinks.protection.outlook.com/?url=https%3A%2F%2Fwww.microbiologyresearch.org%2Fcontent%2Fjournal%2Fijsem%2F10.1099%2Fijsem.0.006672%3Femailalert%3Dtrue&data=05%7C02%7Cmcveigh%40ncbi.nlm.nih.gov%7C017a70c948af4333a1c808dd4ce97ee5%7C14b77578977342d58507251ca2dc2b06%7C0%7C0%7C638751288089597233%7CUnknown%7CTWFpbGZsb3d8eyJFbXB0eU1hcGkiOnRydWUsIlYiOiIwLjAuMDAwMCIsIlAiOiJXaW4zMiIsIkFOIjoiTWFpbCIsIldUIjoyfQ%3D%3D%7C40000%7C%7C%7C&sdata=ASJ4qJ6s9rIYcPAJEuujidW%2BW8I65RB%2B0SZnXx5AKxE%3D&reserved=0</td>\n",
       "    </tr>\n",
       "    <tr>\n",
       "      <th id=\"T_0e626_level0_row14\" class=\"row_heading level0 row14\" >14</th>\n",
       "      <td id=\"T_0e626_row14_col0\" class=\"data row14 col0\" >Afipia dichlorophenoxyacetatis </td>\n",
       "      <td id=\"T_0e626_row14_col1\" class=\"data row14 col1\" >Afipia sp.</td>\n",
       "      <td id=\"T_0e626_row14_col2\" class=\"data row14 col2\" >DD3T,  MAFF 311804T,  ICMP 25015T,  MAFF 311814,  ICMP 25016</td>\n",
       "      <td id=\"T_0e626_row14_col3\" class=\"data row14 col3\" >LC770310</td>\n",
       "      <td id=\"T_0e626_row14_col4\" class=\"data row14 col4\" >DDX28</td>\n",
       "      <td id=\"T_0e626_row14_col5\" class=\"data row14 col5\" >Sawada et al. 2025</td>\n",
       "      <td id=\"T_0e626_row14_col6\" class=\"data row14 col6\" >1871052.000000</td>\n",
       "      <td id=\"T_0e626_row14_col7\" class=\"data row14 col7\" >https://doi.org/10.1099/ijsem.0.006672</td>\n",
       "      <td id=\"T_0e626_row14_col8\" class=\"data row14 col8\" >https://gcc02.safelinks.protection.outlook.com/?url=https%3A%2F%2Fwww.microbiologyresearch.org%2Fcontent%2Fjournal%2Fijsem%2F10.1099%2Fijsem.0.006672%3Femailalert%3Dtrue&data=05%7C02%7Cmcveigh%40ncbi.nlm.nih.gov%7C017a70c948af4333a1c808dd4ce97ee5%7C14b77578977342d58507251ca2dc2b06%7C0%7C0%7C638751288089597233%7CUnknown%7CTWFpbGZsb3d8eyJFbXB0eU1hcGkiOnRydWUsIlYiOiIwLjAuMDAwMCIsIlAiOiJXaW4zMiIsIkFOIjoiTWFpbCIsIldUIjoyfQ%3D%3D%7C40000%7C%7C%7C&sdata=ASJ4qJ6s9rIYcPAJEuujidW%2BW8I65RB%2B0SZnXx5AKxE%3D&reserved=0</td>\n",
       "    </tr>\n",
       "    <tr>\n",
       "      <th id=\"T_0e626_level0_row15\" class=\"row_heading level0 row15\" >15</th>\n",
       "      <td id=\"T_0e626_row15_col0\" class=\"data row15 col0\" >Oceanobacter antarcticus </td>\n",
       "      <td id=\"T_0e626_row15_col1\" class=\"data row15 col1\" >Oceanobacter sp.</td>\n",
       "      <td id=\"T_0e626_row15_col2\" class=\"data row15 col2\" >wDCs-4T,  MCCC 1A20726T,  KCTC 8314T</td>\n",
       "      <td id=\"T_0e626_row15_col3\" class=\"data row15 col3\" >PP494898</td>\n",
       "      <td id=\"T_0e626_row15_col4\" class=\"data row15 col4\" >wDCs-4</td>\n",
       "      <td id=\"T_0e626_row15_col5\" class=\"data row15 col5\" >Zhang et al. 2025</td>\n",
       "      <td id=\"T_0e626_row15_col6\" class=\"data row15 col6\" >2030817.000000</td>\n",
       "      <td id=\"T_0e626_row15_col7\" class=\"data row15 col7\" >https://doi.org/10.1099/ijsem.0.006676</td>\n",
       "      <td id=\"T_0e626_row15_col8\" class=\"data row15 col8\" >https://gcc02.safelinks.protection.outlook.com/?url=https%3A%2F%2Fwww.microbiologyresearch.org%2Fcontent%2Fjournal%2Fijsem%2F10.1099%2Fijsem.0.006676%3Femailalert%3Dtrue&data=05%7C02%7Cmcveigh%40ncbi.nlm.nih.gov%7C017a70c948af4333a1c808dd4ce97ee5%7C14b77578977342d58507251ca2dc2b06%7C0%7C0%7C638751288089633623%7CUnknown%7CTWFpbGZsb3d8eyJFbXB0eU1hcGkiOnRydWUsIlYiOiIwLjAuMDAwMCIsIlAiOiJXaW4zMiIsIkFOIjoiTWFpbCIsIldUIjoyfQ%3D%3D%7C40000%7C%7C%7C&sdata=93hPxOFV1RNJzuGaS6UBfbTNJy5lhlW6ZJDjiMXr2TA%3D&reserved=0</td>\n",
       "    </tr>\n",
       "    <tr>\n",
       "      <th id=\"T_0e626_level0_row16\" class=\"row_heading level0 row16\" >16</th>\n",
       "      <td id=\"T_0e626_row16_col0\" class=\"data row16 col0\" >Oceanobacter antarcticus </td>\n",
       "      <td id=\"T_0e626_row16_col1\" class=\"data row16 col1\" >Oceanobacter sp. wDCs-4</td>\n",
       "      <td id=\"T_0e626_row16_col2\" class=\"data row16 col2\" >wDCs-4T,  MCCC 1A20726T,  KCTC 8314T</td>\n",
       "      <td id=\"T_0e626_row16_col3\" class=\"data row16 col3\" >JBBKTX000000000</td>\n",
       "      <td id=\"T_0e626_row16_col4\" class=\"data row16 col4\" >wDCs-4</td>\n",
       "      <td id=\"T_0e626_row16_col5\" class=\"data row16 col5\" >Zhang et al. 2025</td>\n",
       "      <td id=\"T_0e626_row16_col6\" class=\"data row16 col6\" >3133425.000000</td>\n",
       "      <td id=\"T_0e626_row16_col7\" class=\"data row16 col7\" >https://doi.org/10.1099/ijsem.0.006676</td>\n",
       "      <td id=\"T_0e626_row16_col8\" class=\"data row16 col8\" >https://gcc02.safelinks.protection.outlook.com/?url=https%3A%2F%2Fwww.microbiologyresearch.org%2Fcontent%2Fjournal%2Fijsem%2F10.1099%2Fijsem.0.006676%3Femailalert%3Dtrue&data=05%7C02%7Cmcveigh%40ncbi.nlm.nih.gov%7C017a70c948af4333a1c808dd4ce97ee5%7C14b77578977342d58507251ca2dc2b06%7C0%7C0%7C638751288089633623%7CUnknown%7CTWFpbGZsb3d8eyJFbXB0eU1hcGkiOnRydWUsIlYiOiIwLjAuMDAwMCIsIlAiOiJXaW4zMiIsIkFOIjoiTWFpbCIsIldUIjoyfQ%3D%3D%7C40000%7C%7C%7C&sdata=93hPxOFV1RNJzuGaS6UBfbTNJy5lhlW6ZJDjiMXr2TA%3D&reserved=0</td>\n",
       "    </tr>\n",
       "    <tr>\n",
       "      <th id=\"T_0e626_level0_row17\" class=\"row_heading level0 row17\" >17</th>\n",
       "      <td id=\"T_0e626_row17_col0\" class=\"data row17 col0\" >Tamlana flava </td>\n",
       "      <td id=\"T_0e626_row17_col1\" class=\"data row17 col1\" >Tamlana sp.</td>\n",
       "      <td id=\"T_0e626_row17_col2\" class=\"data row17 col2\" >MA10T,  MCCC 1K09289T,  KCTC 102321T</td>\n",
       "      <td id=\"T_0e626_row17_col3\" class=\"data row17 col3\" >PP854632</td>\n",
       "      <td id=\"T_0e626_row17_col4\" class=\"data row17 col4\" >MA10</td>\n",
       "      <td id=\"T_0e626_row17_col5\" class=\"data row17 col5\" >Huang et al. 2025</td>\n",
       "      <td id=\"T_0e626_row17_col6\" class=\"data row17 col6\" >1969468.000000</td>\n",
       "      <td id=\"T_0e626_row17_col7\" class=\"data row17 col7\" >https://doi.org/10.1099/ijsem.0.006673</td>\n",
       "      <td id=\"T_0e626_row17_col8\" class=\"data row17 col8\" >https://gcc02.safelinks.protection.outlook.com/?url=https%3A%2F%2Fwww.microbiologyresearch.org%2Fcontent%2Fjournal%2Fijsem%2F10.1099%2Fijsem.0.006673%3Femailalert%3Dtrue&data=05%7C02%7Cmcveigh%40ncbi.nlm.nih.gov%7C017a70c948af4333a1c808dd4ce97ee5%7C14b77578977342d58507251ca2dc2b06%7C0%7C0%7C638751288089683051%7CUnknown%7CTWFpbGZsb3d8eyJFbXB0eU1hcGkiOnRydWUsIlYiOiIwLjAuMDAwMCIsIlAiOiJXaW4zMiIsIkFOIjoiTWFpbCIsIldUIjoyfQ%3D%3D%7C40000%7C%7C%7C&sdata=u9UJl%2F3Ly8NDlEGAKjtL1xF49bCOvRHAbGOG0qtdp3Q%3D&reserved=0</td>\n",
       "    </tr>\n",
       "    <tr>\n",
       "      <th id=\"T_0e626_level0_row18\" class=\"row_heading level0 row18\" >18</th>\n",
       "      <td id=\"T_0e626_row18_col0\" class=\"data row18 col0\" >Tamlana flava </td>\n",
       "      <td id=\"T_0e626_row18_col1\" class=\"data row18 col1\" >Tamlana sp. MA10</td>\n",
       "      <td id=\"T_0e626_row18_col2\" class=\"data row18 col2\" >MA10T,  MCCC 1K09289T,  KCTC 102321T</td>\n",
       "      <td id=\"T_0e626_row18_col3\" class=\"data row18 col3\" >JBGGTX000000000</td>\n",
       "      <td id=\"T_0e626_row18_col4\" class=\"data row18 col4\" >MA10</td>\n",
       "      <td id=\"T_0e626_row18_col5\" class=\"data row18 col5\" >Huang et al. 2025</td>\n",
       "      <td id=\"T_0e626_row18_col6\" class=\"data row18 col6\" >3158572.000000</td>\n",
       "      <td id=\"T_0e626_row18_col7\" class=\"data row18 col7\" >https://doi.org/10.1099/ijsem.0.006673</td>\n",
       "      <td id=\"T_0e626_row18_col8\" class=\"data row18 col8\" >https://gcc02.safelinks.protection.outlook.com/?url=https%3A%2F%2Fwww.microbiologyresearch.org%2Fcontent%2Fjournal%2Fijsem%2F10.1099%2Fijsem.0.006673%3Femailalert%3Dtrue&data=05%7C02%7Cmcveigh%40ncbi.nlm.nih.gov%7C017a70c948af4333a1c808dd4ce97ee5%7C14b77578977342d58507251ca2dc2b06%7C0%7C0%7C638751288089683051%7CUnknown%7CTWFpbGZsb3d8eyJFbXB0eU1hcGkiOnRydWUsIlYiOiIwLjAuMDAwMCIsIlAiOiJXaW4zMiIsIkFOIjoiTWFpbCIsIldUIjoyfQ%3D%3D%7C40000%7C%7C%7C&sdata=u9UJl%2F3Ly8NDlEGAKjtL1xF49bCOvRHAbGOG0qtdp3Q%3D&reserved=0</td>\n",
       "    </tr>\n",
       "    <tr>\n",
       "      <th id=\"T_0e626_level0_row19\" class=\"row_heading level0 row19\" >19</th>\n",
       "      <td id=\"T_0e626_row19_col0\" class=\"data row19 col0\" >streptococcus wuxiensis </td>\n",
       "      <td id=\"T_0e626_row19_col1\" class=\"data row19 col1\" >Streptococcus sp. 21WXBC0057M1</td>\n",
       "      <td id=\"T_0e626_row19_col2\" class=\"data row19 col2\" >21WXBC0057M1T,  GDMCC 1.4126T,  KCTC 25760T</td>\n",
       "      <td id=\"T_0e626_row19_col3\" class=\"data row19 col3\" >JBFNFE000000000</td>\n",
       "      <td id=\"T_0e626_row19_col4\" class=\"data row19 col4\" >21WXBC0057M1</td>\n",
       "      <td id=\"T_0e626_row19_col5\" class=\"data row19 col5\" >Zhou et al. 2025</td>\n",
       "      <td id=\"T_0e626_row19_col6\" class=\"data row19 col6\" >3095078.000000</td>\n",
       "      <td id=\"T_0e626_row19_col7\" class=\"data row19 col7\" >https://doi.org/10.1099/ijsem.0.006674</td>\n",
       "      <td id=\"T_0e626_row19_col8\" class=\"data row19 col8\" >https://gcc02.safelinks.protection.outlook.com/?url=https%3A%2F%2Fwww.microbiologyresearch.org%2Fcontent%2Fjournal%2Fijsem%2F10.1099%2Fijsem.0.006674%3Femailalert%3Dtrue&data=05%7C02%7Cmcveigh%40ncbi.nlm.nih.gov%7C017a70c948af4333a1c808dd4ce97ee5%7C14b77578977342d58507251ca2dc2b06%7C0%7C0%7C638751288089710352%7CUnknown%7CTWFpbGZsb3d8eyJFbXB0eU1hcGkiOnRydWUsIlYiOiIwLjAuMDAwMCIsIlAiOiJXaW4zMiIsIkFOIjoiTWFpbCIsIldUIjoyfQ%3D%3D%7C40000%7C%7C%7C&sdata=hi4NC%2FEVWTCaeKPbdc5ZVA3OQr%2FKd%2FcdUHJ50i6srdI%3D&reserved=0</td>\n",
       "    </tr>\n",
       "    <tr>\n",
       "      <th id=\"T_0e626_level0_row20\" class=\"row_heading level0 row20\" >20</th>\n",
       "      <td id=\"T_0e626_row20_col0\" class=\"data row20 col0\" >streptococcus wuxiensis </td>\n",
       "      <td id=\"T_0e626_row20_col1\" class=\"data row20 col1\" >Streptococcus sp. 21WXBC0057M1</td>\n",
       "      <td id=\"T_0e626_row20_col2\" class=\"data row20 col2\" >21WXBC0057M1T,  GDMCC 1.4126T,  KCTC 25760T</td>\n",
       "      <td id=\"T_0e626_row20_col3\" class=\"data row20 col3\" >JAXHDO000000000</td>\n",
       "      <td id=\"T_0e626_row20_col4\" class=\"data row20 col4\" >21WXBC0057M1</td>\n",
       "      <td id=\"T_0e626_row20_col5\" class=\"data row20 col5\" >Zhou et al. 2025</td>\n",
       "      <td id=\"T_0e626_row20_col6\" class=\"data row20 col6\" >3095078.000000</td>\n",
       "      <td id=\"T_0e626_row20_col7\" class=\"data row20 col7\" >https://doi.org/10.1099/ijsem.0.006674</td>\n",
       "      <td id=\"T_0e626_row20_col8\" class=\"data row20 col8\" >https://gcc02.safelinks.protection.outlook.com/?url=https%3A%2F%2Fwww.microbiologyresearch.org%2Fcontent%2Fjournal%2Fijsem%2F10.1099%2Fijsem.0.006674%3Femailalert%3Dtrue&data=05%7C02%7Cmcveigh%40ncbi.nlm.nih.gov%7C017a70c948af4333a1c808dd4ce97ee5%7C14b77578977342d58507251ca2dc2b06%7C0%7C0%7C638751288089710352%7CUnknown%7CTWFpbGZsb3d8eyJFbXB0eU1hcGkiOnRydWUsIlYiOiIwLjAuMDAwMCIsIlAiOiJXaW4zMiIsIkFOIjoiTWFpbCIsIldUIjoyfQ%3D%3D%7C40000%7C%7C%7C&sdata=hi4NC%2FEVWTCaeKPbdc5ZVA3OQr%2FKd%2FcdUHJ50i6srdI%3D&reserved=0</td>\n",
       "    </tr>\n",
       "    <tr>\n",
       "      <th id=\"T_0e626_level0_row21\" class=\"row_heading level0 row21\" >21</th>\n",
       "      <td id=\"T_0e626_row21_col0\" class=\"data row21 col0\" >streptococcus wuxiensis </td>\n",
       "      <td id=\"T_0e626_row21_col1\" class=\"data row21 col1\" >Streptococcus sp.</td>\n",
       "      <td id=\"T_0e626_row21_col2\" class=\"data row21 col2\" >21WXBC0057M1T,  GDMCC 1.4126T,  KCTC 25760T</td>\n",
       "      <td id=\"T_0e626_row21_col3\" class=\"data row21 col3\" >OR794556</td>\n",
       "      <td id=\"T_0e626_row21_col4\" class=\"data row21 col4\" >21WXBC0057M1</td>\n",
       "      <td id=\"T_0e626_row21_col5\" class=\"data row21 col5\" >Zhou et al. 2025</td>\n",
       "      <td id=\"T_0e626_row21_col6\" class=\"data row21 col6\" >1306.000000</td>\n",
       "      <td id=\"T_0e626_row21_col7\" class=\"data row21 col7\" >https://doi.org/10.1099/ijsem.0.006674</td>\n",
       "      <td id=\"T_0e626_row21_col8\" class=\"data row21 col8\" >https://gcc02.safelinks.protection.outlook.com/?url=https%3A%2F%2Fwww.microbiologyresearch.org%2Fcontent%2Fjournal%2Fijsem%2F10.1099%2Fijsem.0.006674%3Femailalert%3Dtrue&data=05%7C02%7Cmcveigh%40ncbi.nlm.nih.gov%7C017a70c948af4333a1c808dd4ce97ee5%7C14b77578977342d58507251ca2dc2b06%7C0%7C0%7C638751288089710352%7CUnknown%7CTWFpbGZsb3d8eyJFbXB0eU1hcGkiOnRydWUsIlYiOiIwLjAuMDAwMCIsIlAiOiJXaW4zMiIsIkFOIjoiTWFpbCIsIldUIjoyfQ%3D%3D%7C40000%7C%7C%7C&sdata=hi4NC%2FEVWTCaeKPbdc5ZVA3OQr%2FKd%2FcdUHJ50i6srdI%3D&reserved=0</td>\n",
       "    </tr>\n",
       "    <tr>\n",
       "      <th id=\"T_0e626_level0_row22\" class=\"row_heading level0 row22\" >22</th>\n",
       "      <td id=\"T_0e626_row22_col0\" class=\"data row22 col0\" >streptococcus wuxiensis </td>\n",
       "      <td id=\"T_0e626_row22_col1\" class=\"data row22 col1\" >Streptococcus sp.</td>\n",
       "      <td id=\"T_0e626_row22_col2\" class=\"data row22 col2\" >21WXBC0057M1T,  GDMCC 1.4126T,  KCTC 25760T</td>\n",
       "      <td id=\"T_0e626_row22_col3\" class=\"data row22 col3\" >OR853715</td>\n",
       "      <td id=\"T_0e626_row22_col4\" class=\"data row22 col4\" >21WXBC0057M1</td>\n",
       "      <td id=\"T_0e626_row22_col5\" class=\"data row22 col5\" >Zhou et al. 2025</td>\n",
       "      <td id=\"T_0e626_row22_col6\" class=\"data row22 col6\" >1306.000000</td>\n",
       "      <td id=\"T_0e626_row22_col7\" class=\"data row22 col7\" >https://doi.org/10.1099/ijsem.0.006674</td>\n",
       "      <td id=\"T_0e626_row22_col8\" class=\"data row22 col8\" >https://gcc02.safelinks.protection.outlook.com/?url=https%3A%2F%2Fwww.microbiologyresearch.org%2Fcontent%2Fjournal%2Fijsem%2F10.1099%2Fijsem.0.006674%3Femailalert%3Dtrue&data=05%7C02%7Cmcveigh%40ncbi.nlm.nih.gov%7C017a70c948af4333a1c808dd4ce97ee5%7C14b77578977342d58507251ca2dc2b06%7C0%7C0%7C638751288089710352%7CUnknown%7CTWFpbGZsb3d8eyJFbXB0eU1hcGkiOnRydWUsIlYiOiIwLjAuMDAwMCIsIlAiOiJXaW4zMiIsIkFOIjoiTWFpbCIsIldUIjoyfQ%3D%3D%7C40000%7C%7C%7C&sdata=hi4NC%2FEVWTCaeKPbdc5ZVA3OQr%2FKd%2FcdUHJ50i6srdI%3D&reserved=0</td>\n",
       "    </tr>\n",
       "    <tr>\n",
       "      <th id=\"T_0e626_level0_row23\" class=\"row_heading level0 row23\" >23</th>\n",
       "      <td id=\"T_0e626_row23_col0\" class=\"data row23 col0\" >streptococcus wuxiensis </td>\n",
       "      <td id=\"T_0e626_row23_col1\" class=\"data row23 col1\" >Streptococcus sp.</td>\n",
       "      <td id=\"T_0e626_row23_col2\" class=\"data row23 col2\" >21WXBC0057M1T,  GDMCC 1.4126T,  KCTC 25760T</td>\n",
       "      <td id=\"T_0e626_row23_col3\" class=\"data row23 col3\" >OR853720</td>\n",
       "      <td id=\"T_0e626_row23_col4\" class=\"data row23 col4\" >21WXBC0057M1</td>\n",
       "      <td id=\"T_0e626_row23_col5\" class=\"data row23 col5\" >Zhou et al. 2025</td>\n",
       "      <td id=\"T_0e626_row23_col6\" class=\"data row23 col6\" >1306.000000</td>\n",
       "      <td id=\"T_0e626_row23_col7\" class=\"data row23 col7\" >https://doi.org/10.1099/ijsem.0.006674</td>\n",
       "      <td id=\"T_0e626_row23_col8\" class=\"data row23 col8\" >https://gcc02.safelinks.protection.outlook.com/?url=https%3A%2F%2Fwww.microbiologyresearch.org%2Fcontent%2Fjournal%2Fijsem%2F10.1099%2Fijsem.0.006674%3Femailalert%3Dtrue&data=05%7C02%7Cmcveigh%40ncbi.nlm.nih.gov%7C017a70c948af4333a1c808dd4ce97ee5%7C14b77578977342d58507251ca2dc2b06%7C0%7C0%7C638751288089710352%7CUnknown%7CTWFpbGZsb3d8eyJFbXB0eU1hcGkiOnRydWUsIlYiOiIwLjAuMDAwMCIsIlAiOiJXaW4zMiIsIkFOIjoiTWFpbCIsIldUIjoyfQ%3D%3D%7C40000%7C%7C%7C&sdata=hi4NC%2FEVWTCaeKPbdc5ZVA3OQr%2FKd%2FcdUHJ50i6srdI%3D&reserved=0</td>\n",
       "    </tr>\n",
       "    <tr>\n",
       "      <th id=\"T_0e626_level0_row24\" class=\"row_heading level0 row24\" >24</th>\n",
       "      <td id=\"T_0e626_row24_col0\" class=\"data row24 col0\" >Streptococcus jiangnanensis </td>\n",
       "      <td id=\"T_0e626_row24_col1\" class=\"data row24 col1\" >Streptococcus sp. 21WXBC0044M1</td>\n",
       "      <td id=\"T_0e626_row24_col2\" class=\"data row24 col2\" >21WXBC0044M1T</td>\n",
       "      <td id=\"T_0e626_row24_col3\" class=\"data row24 col3\" >JBFNFF000000000</td>\n",
       "      <td id=\"T_0e626_row24_col4\" class=\"data row24 col4\" >21WXBC0044M1</td>\n",
       "      <td id=\"T_0e626_row24_col5\" class=\"data row24 col5\" >Zhou et al. 2025</td>\n",
       "      <td id=\"T_0e626_row24_col6\" class=\"data row24 col6\" >3095079.000000</td>\n",
       "      <td id=\"T_0e626_row24_col7\" class=\"data row24 col7\" >https://doi.org/10.1099/ijsem.0.006674</td>\n",
       "      <td id=\"T_0e626_row24_col8\" class=\"data row24 col8\" >https://gcc02.safelinks.protection.outlook.com/?url=https%3A%2F%2Fwww.microbiologyresearch.org%2Fcontent%2Fjournal%2Fijsem%2F10.1099%2Fijsem.0.006674%3Femailalert%3Dtrue&data=05%7C02%7Cmcveigh%40ncbi.nlm.nih.gov%7C017a70c948af4333a1c808dd4ce97ee5%7C14b77578977342d58507251ca2dc2b06%7C0%7C0%7C638751288089710352%7CUnknown%7CTWFpbGZsb3d8eyJFbXB0eU1hcGkiOnRydWUsIlYiOiIwLjAuMDAwMCIsIlAiOiJXaW4zMiIsIkFOIjoiTWFpbCIsIldUIjoyfQ%3D%3D%7C40000%7C%7C%7C&sdata=hi4NC%2FEVWTCaeKPbdc5ZVA3OQr%2FKd%2FcdUHJ50i6srdI%3D&reserved=0</td>\n",
       "    </tr>\n",
       "    <tr>\n",
       "      <th id=\"T_0e626_level0_row25\" class=\"row_heading level0 row25\" >25</th>\n",
       "      <td id=\"T_0e626_row25_col0\" class=\"data row25 col0\" >Streptococcus jiangnanensis </td>\n",
       "      <td id=\"T_0e626_row25_col1\" class=\"data row25 col1\" >Streptococcus sp. 21WXBC0044M1</td>\n",
       "      <td id=\"T_0e626_row25_col2\" class=\"data row25 col2\" >21WXBC0044M1T</td>\n",
       "      <td id=\"T_0e626_row25_col3\" class=\"data row25 col3\" >JAXHDN000000000</td>\n",
       "      <td id=\"T_0e626_row25_col4\" class=\"data row25 col4\" >21WXBC0044M1</td>\n",
       "      <td id=\"T_0e626_row25_col5\" class=\"data row25 col5\" >Zhou et al. 2025</td>\n",
       "      <td id=\"T_0e626_row25_col6\" class=\"data row25 col6\" >3095079.000000</td>\n",
       "      <td id=\"T_0e626_row25_col7\" class=\"data row25 col7\" >https://doi.org/10.1099/ijsem.0.006674</td>\n",
       "      <td id=\"T_0e626_row25_col8\" class=\"data row25 col8\" >https://gcc02.safelinks.protection.outlook.com/?url=https%3A%2F%2Fwww.microbiologyresearch.org%2Fcontent%2Fjournal%2Fijsem%2F10.1099%2Fijsem.0.006674%3Femailalert%3Dtrue&data=05%7C02%7Cmcveigh%40ncbi.nlm.nih.gov%7C017a70c948af4333a1c808dd4ce97ee5%7C14b77578977342d58507251ca2dc2b06%7C0%7C0%7C638751288089710352%7CUnknown%7CTWFpbGZsb3d8eyJFbXB0eU1hcGkiOnRydWUsIlYiOiIwLjAuMDAwMCIsIlAiOiJXaW4zMiIsIkFOIjoiTWFpbCIsIldUIjoyfQ%3D%3D%7C40000%7C%7C%7C&sdata=hi4NC%2FEVWTCaeKPbdc5ZVA3OQr%2FKd%2FcdUHJ50i6srdI%3D&reserved=0</td>\n",
       "    </tr>\n",
       "    <tr>\n",
       "      <th id=\"T_0e626_level0_row26\" class=\"row_heading level0 row26\" >26</th>\n",
       "      <td id=\"T_0e626_row26_col0\" class=\"data row26 col0\" >Streptococcus jiangnanensis </td>\n",
       "      <td id=\"T_0e626_row26_col1\" class=\"data row26 col1\" >Streptococcus sp.</td>\n",
       "      <td id=\"T_0e626_row26_col2\" class=\"data row26 col2\" >21WXBC0044M1T</td>\n",
       "      <td id=\"T_0e626_row26_col3\" class=\"data row26 col3\" >OR794555</td>\n",
       "      <td id=\"T_0e626_row26_col4\" class=\"data row26 col4\" >21WXBC0044M1</td>\n",
       "      <td id=\"T_0e626_row26_col5\" class=\"data row26 col5\" >Zhou et al. 2025</td>\n",
       "      <td id=\"T_0e626_row26_col6\" class=\"data row26 col6\" >1306.000000</td>\n",
       "      <td id=\"T_0e626_row26_col7\" class=\"data row26 col7\" >https://doi.org/10.1099/ijsem.0.006674</td>\n",
       "      <td id=\"T_0e626_row26_col8\" class=\"data row26 col8\" >https://gcc02.safelinks.protection.outlook.com/?url=https%3A%2F%2Fwww.microbiologyresearch.org%2Fcontent%2Fjournal%2Fijsem%2F10.1099%2Fijsem.0.006674%3Femailalert%3Dtrue&data=05%7C02%7Cmcveigh%40ncbi.nlm.nih.gov%7C017a70c948af4333a1c808dd4ce97ee5%7C14b77578977342d58507251ca2dc2b06%7C0%7C0%7C638751288089710352%7CUnknown%7CTWFpbGZsb3d8eyJFbXB0eU1hcGkiOnRydWUsIlYiOiIwLjAuMDAwMCIsIlAiOiJXaW4zMiIsIkFOIjoiTWFpbCIsIldUIjoyfQ%3D%3D%7C40000%7C%7C%7C&sdata=hi4NC%2FEVWTCaeKPbdc5ZVA3OQr%2FKd%2FcdUHJ50i6srdI%3D&reserved=0</td>\n",
       "    </tr>\n",
       "    <tr>\n",
       "      <th id=\"T_0e626_level0_row27\" class=\"row_heading level0 row27\" >27</th>\n",
       "      <td id=\"T_0e626_row27_col0\" class=\"data row27 col0\" >Streptococcus jiangnanensis </td>\n",
       "      <td id=\"T_0e626_row27_col1\" class=\"data row27 col1\" >Streptococcus sp.</td>\n",
       "      <td id=\"T_0e626_row27_col2\" class=\"data row27 col2\" >21WXBC0044M1T</td>\n",
       "      <td id=\"T_0e626_row27_col3\" class=\"data row27 col3\" >OR853714</td>\n",
       "      <td id=\"T_0e626_row27_col4\" class=\"data row27 col4\" >21WXBC0044M1</td>\n",
       "      <td id=\"T_0e626_row27_col5\" class=\"data row27 col5\" >Zhou et al. 2025</td>\n",
       "      <td id=\"T_0e626_row27_col6\" class=\"data row27 col6\" >1306.000000</td>\n",
       "      <td id=\"T_0e626_row27_col7\" class=\"data row27 col7\" >https://doi.org/10.1099/ijsem.0.006674</td>\n",
       "      <td id=\"T_0e626_row27_col8\" class=\"data row27 col8\" >https://gcc02.safelinks.protection.outlook.com/?url=https%3A%2F%2Fwww.microbiologyresearch.org%2Fcontent%2Fjournal%2Fijsem%2F10.1099%2Fijsem.0.006674%3Femailalert%3Dtrue&data=05%7C02%7Cmcveigh%40ncbi.nlm.nih.gov%7C017a70c948af4333a1c808dd4ce97ee5%7C14b77578977342d58507251ca2dc2b06%7C0%7C0%7C638751288089710352%7CUnknown%7CTWFpbGZsb3d8eyJFbXB0eU1hcGkiOnRydWUsIlYiOiIwLjAuMDAwMCIsIlAiOiJXaW4zMiIsIkFOIjoiTWFpbCIsIldUIjoyfQ%3D%3D%7C40000%7C%7C%7C&sdata=hi4NC%2FEVWTCaeKPbdc5ZVA3OQr%2FKd%2FcdUHJ50i6srdI%3D&reserved=0</td>\n",
       "    </tr>\n",
       "    <tr>\n",
       "      <th id=\"T_0e626_level0_row28\" class=\"row_heading level0 row28\" >28</th>\n",
       "      <td id=\"T_0e626_row28_col0\" class=\"data row28 col0\" >Streptococcus jiangnanensis </td>\n",
       "      <td id=\"T_0e626_row28_col1\" class=\"data row28 col1\" >Streptococcus sp.</td>\n",
       "      <td id=\"T_0e626_row28_col2\" class=\"data row28 col2\" >21WXBC0044M1T</td>\n",
       "      <td id=\"T_0e626_row28_col3\" class=\"data row28 col3\" >OR853719</td>\n",
       "      <td id=\"T_0e626_row28_col4\" class=\"data row28 col4\" >21WXBC0044M1</td>\n",
       "      <td id=\"T_0e626_row28_col5\" class=\"data row28 col5\" >Zhou et al. 2025</td>\n",
       "      <td id=\"T_0e626_row28_col6\" class=\"data row28 col6\" >1306.000000</td>\n",
       "      <td id=\"T_0e626_row28_col7\" class=\"data row28 col7\" >https://doi.org/10.1099/ijsem.0.006674</td>\n",
       "      <td id=\"T_0e626_row28_col8\" class=\"data row28 col8\" >https://gcc02.safelinks.protection.outlook.com/?url=https%3A%2F%2Fwww.microbiologyresearch.org%2Fcontent%2Fjournal%2Fijsem%2F10.1099%2Fijsem.0.006674%3Femailalert%3Dtrue&data=05%7C02%7Cmcveigh%40ncbi.nlm.nih.gov%7C017a70c948af4333a1c808dd4ce97ee5%7C14b77578977342d58507251ca2dc2b06%7C0%7C0%7C638751288089710352%7CUnknown%7CTWFpbGZsb3d8eyJFbXB0eU1hcGkiOnRydWUsIlYiOiIwLjAuMDAwMCIsIlAiOiJXaW4zMiIsIkFOIjoiTWFpbCIsIldUIjoyfQ%3D%3D%7C40000%7C%7C%7C&sdata=hi4NC%2FEVWTCaeKPbdc5ZVA3OQr%2FKd%2FcdUHJ50i6srdI%3D&reserved=0</td>\n",
       "    </tr>\n",
       "    <tr>\n",
       "      <th id=\"T_0e626_level0_row29\" class=\"row_heading level0 row29\" >29</th>\n",
       "      <td id=\"T_0e626_row29_col0\" class=\"data row29 col0\" >Streptococcus fermentans </td>\n",
       "      <td id=\"T_0e626_row29_col1\" class=\"data row29 col1\" >Streptococcus sp. BJSWXB5TM5</td>\n",
       "      <td id=\"T_0e626_row29_col2\" class=\"data row29 col2\" >BJSWXB5TM1T,  BJSWXB5TM5T,  GDMCC 1.4130T,  KCTC 25759T</td>\n",
       "      <td id=\"T_0e626_row29_col3\" class=\"data row29 col3\" >JBFNFG000000000</td>\n",
       "      <td id=\"T_0e626_row29_col4\" class=\"data row29 col4\" >BJSWXB5TM5</td>\n",
       "      <td id=\"T_0e626_row29_col5\" class=\"data row29 col5\" >Zhou et al. 2025</td>\n",
       "      <td id=\"T_0e626_row29_col6\" class=\"data row29 col6\" >3095082.000000</td>\n",
       "      <td id=\"T_0e626_row29_col7\" class=\"data row29 col7\" >https://doi.org/10.1099/ijsem.0.006674</td>\n",
       "      <td id=\"T_0e626_row29_col8\" class=\"data row29 col8\" >https://gcc02.safelinks.protection.outlook.com/?url=https%3A%2F%2Fwww.microbiologyresearch.org%2Fcontent%2Fjournal%2Fijsem%2F10.1099%2Fijsem.0.006674%3Femailalert%3Dtrue&data=05%7C02%7Cmcveigh%40ncbi.nlm.nih.gov%7C017a70c948af4333a1c808dd4ce97ee5%7C14b77578977342d58507251ca2dc2b06%7C0%7C0%7C638751288089710352%7CUnknown%7CTWFpbGZsb3d8eyJFbXB0eU1hcGkiOnRydWUsIlYiOiIwLjAuMDAwMCIsIlAiOiJXaW4zMiIsIkFOIjoiTWFpbCIsIldUIjoyfQ%3D%3D%7C40000%7C%7C%7C&sdata=hi4NC%2FEVWTCaeKPbdc5ZVA3OQr%2FKd%2FcdUHJ50i6srdI%3D&reserved=0</td>\n",
       "    </tr>\n",
       "    <tr>\n",
       "      <th id=\"T_0e626_level0_row30\" class=\"row_heading level0 row30\" >30</th>\n",
       "      <td id=\"T_0e626_row30_col0\" class=\"data row30 col0\" >Streptococcus fermentans </td>\n",
       "      <td id=\"T_0e626_row30_col1\" class=\"data row30 col1\" >Streptococcus sp. BJSWXB5TM5</td>\n",
       "      <td id=\"T_0e626_row30_col2\" class=\"data row30 col2\" >BJSWXB5TM1T,  BJSWXB5TM5T,  GDMCC 1.4130T,  KCTC 25759T</td>\n",
       "      <td id=\"T_0e626_row30_col3\" class=\"data row30 col3\" >JAXHDP000000000</td>\n",
       "      <td id=\"T_0e626_row30_col4\" class=\"data row30 col4\" >BJSWXB5TM5</td>\n",
       "      <td id=\"T_0e626_row30_col5\" class=\"data row30 col5\" >Zhou et al. 2025</td>\n",
       "      <td id=\"T_0e626_row30_col6\" class=\"data row30 col6\" >3095082.000000</td>\n",
       "      <td id=\"T_0e626_row30_col7\" class=\"data row30 col7\" >https://doi.org/10.1099/ijsem.0.006674</td>\n",
       "      <td id=\"T_0e626_row30_col8\" class=\"data row30 col8\" >https://gcc02.safelinks.protection.outlook.com/?url=https%3A%2F%2Fwww.microbiologyresearch.org%2Fcontent%2Fjournal%2Fijsem%2F10.1099%2Fijsem.0.006674%3Femailalert%3Dtrue&data=05%7C02%7Cmcveigh%40ncbi.nlm.nih.gov%7C017a70c948af4333a1c808dd4ce97ee5%7C14b77578977342d58507251ca2dc2b06%7C0%7C0%7C638751288089710352%7CUnknown%7CTWFpbGZsb3d8eyJFbXB0eU1hcGkiOnRydWUsIlYiOiIwLjAuMDAwMCIsIlAiOiJXaW4zMiIsIkFOIjoiTWFpbCIsIldUIjoyfQ%3D%3D%7C40000%7C%7C%7C&sdata=hi4NC%2FEVWTCaeKPbdc5ZVA3OQr%2FKd%2FcdUHJ50i6srdI%3D&reserved=0</td>\n",
       "    </tr>\n",
       "    <tr>\n",
       "      <th id=\"T_0e626_level0_row31\" class=\"row_heading level0 row31\" >31</th>\n",
       "      <td id=\"T_0e626_row31_col0\" class=\"data row31 col0\" >Streptococcus fermentans </td>\n",
       "      <td id=\"T_0e626_row31_col1\" class=\"data row31 col1\" >Streptococcus sp.</td>\n",
       "      <td id=\"T_0e626_row31_col2\" class=\"data row31 col2\" >BJSWXB5TM1T,  BJSWXB5TM5T,  GDMCC 1.4130T,  KCTC 25759T</td>\n",
       "      <td id=\"T_0e626_row31_col3\" class=\"data row31 col3\" >OR794558</td>\n",
       "      <td id=\"T_0e626_row31_col4\" class=\"data row31 col4\" >BJSWXB5TM5</td>\n",
       "      <td id=\"T_0e626_row31_col5\" class=\"data row31 col5\" >Zhou et al. 2025</td>\n",
       "      <td id=\"T_0e626_row31_col6\" class=\"data row31 col6\" >1306.000000</td>\n",
       "      <td id=\"T_0e626_row31_col7\" class=\"data row31 col7\" >https://doi.org/10.1099/ijsem.0.006674</td>\n",
       "      <td id=\"T_0e626_row31_col8\" class=\"data row31 col8\" >https://gcc02.safelinks.protection.outlook.com/?url=https%3A%2F%2Fwww.microbiologyresearch.org%2Fcontent%2Fjournal%2Fijsem%2F10.1099%2Fijsem.0.006674%3Femailalert%3Dtrue&data=05%7C02%7Cmcveigh%40ncbi.nlm.nih.gov%7C017a70c948af4333a1c808dd4ce97ee5%7C14b77578977342d58507251ca2dc2b06%7C0%7C0%7C638751288089710352%7CUnknown%7CTWFpbGZsb3d8eyJFbXB0eU1hcGkiOnRydWUsIlYiOiIwLjAuMDAwMCIsIlAiOiJXaW4zMiIsIkFOIjoiTWFpbCIsIldUIjoyfQ%3D%3D%7C40000%7C%7C%7C&sdata=hi4NC%2FEVWTCaeKPbdc5ZVA3OQr%2FKd%2FcdUHJ50i6srdI%3D&reserved=0</td>\n",
       "    </tr>\n",
       "    <tr>\n",
       "      <th id=\"T_0e626_level0_row32\" class=\"row_heading level0 row32\" >32</th>\n",
       "      <td id=\"T_0e626_row32_col0\" class=\"data row32 col0\" >Streptococcus fermentans </td>\n",
       "      <td id=\"T_0e626_row32_col1\" class=\"data row32 col1\" >Streptococcus sp.</td>\n",
       "      <td id=\"T_0e626_row32_col2\" class=\"data row32 col2\" >BJSWXB5TM1T,  BJSWXB5TM5T,  GDMCC 1.4130T,  KCTC 25759T</td>\n",
       "      <td id=\"T_0e626_row32_col3\" class=\"data row32 col3\" >OR853717</td>\n",
       "      <td id=\"T_0e626_row32_col4\" class=\"data row32 col4\" >BJSWXB5TM5</td>\n",
       "      <td id=\"T_0e626_row32_col5\" class=\"data row32 col5\" >Zhou et al. 2025</td>\n",
       "      <td id=\"T_0e626_row32_col6\" class=\"data row32 col6\" >1306.000000</td>\n",
       "      <td id=\"T_0e626_row32_col7\" class=\"data row32 col7\" >https://doi.org/10.1099/ijsem.0.006674</td>\n",
       "      <td id=\"T_0e626_row32_col8\" class=\"data row32 col8\" >https://gcc02.safelinks.protection.outlook.com/?url=https%3A%2F%2Fwww.microbiologyresearch.org%2Fcontent%2Fjournal%2Fijsem%2F10.1099%2Fijsem.0.006674%3Femailalert%3Dtrue&data=05%7C02%7Cmcveigh%40ncbi.nlm.nih.gov%7C017a70c948af4333a1c808dd4ce97ee5%7C14b77578977342d58507251ca2dc2b06%7C0%7C0%7C638751288089710352%7CUnknown%7CTWFpbGZsb3d8eyJFbXB0eU1hcGkiOnRydWUsIlYiOiIwLjAuMDAwMCIsIlAiOiJXaW4zMiIsIkFOIjoiTWFpbCIsIldUIjoyfQ%3D%3D%7C40000%7C%7C%7C&sdata=hi4NC%2FEVWTCaeKPbdc5ZVA3OQr%2FKd%2FcdUHJ50i6srdI%3D&reserved=0</td>\n",
       "    </tr>\n",
       "    <tr>\n",
       "      <th id=\"T_0e626_level0_row33\" class=\"row_heading level0 row33\" >33</th>\n",
       "      <td id=\"T_0e626_row33_col0\" class=\"data row33 col0\" >Streptococcus fermentans </td>\n",
       "      <td id=\"T_0e626_row33_col1\" class=\"data row33 col1\" >Streptococcus sp.</td>\n",
       "      <td id=\"T_0e626_row33_col2\" class=\"data row33 col2\" >BJSWXB5TM1T,  BJSWXB5TM5T,  GDMCC 1.4130T,  KCTC 25759T</td>\n",
       "      <td id=\"T_0e626_row33_col3\" class=\"data row33 col3\" >OR853722</td>\n",
       "      <td id=\"T_0e626_row33_col4\" class=\"data row33 col4\" >BJSWXB5TM5</td>\n",
       "      <td id=\"T_0e626_row33_col5\" class=\"data row33 col5\" >Zhou et al. 2025</td>\n",
       "      <td id=\"T_0e626_row33_col6\" class=\"data row33 col6\" >1306.000000</td>\n",
       "      <td id=\"T_0e626_row33_col7\" class=\"data row33 col7\" >https://doi.org/10.1099/ijsem.0.006674</td>\n",
       "      <td id=\"T_0e626_row33_col8\" class=\"data row33 col8\" >https://gcc02.safelinks.protection.outlook.com/?url=https%3A%2F%2Fwww.microbiologyresearch.org%2Fcontent%2Fjournal%2Fijsem%2F10.1099%2Fijsem.0.006674%3Femailalert%3Dtrue&data=05%7C02%7Cmcveigh%40ncbi.nlm.nih.gov%7C017a70c948af4333a1c808dd4ce97ee5%7C14b77578977342d58507251ca2dc2b06%7C0%7C0%7C638751288089710352%7CUnknown%7CTWFpbGZsb3d8eyJFbXB0eU1hcGkiOnRydWUsIlYiOiIwLjAuMDAwMCIsIlAiOiJXaW4zMiIsIkFOIjoiTWFpbCIsIldUIjoyfQ%3D%3D%7C40000%7C%7C%7C&sdata=hi4NC%2FEVWTCaeKPbdc5ZVA3OQr%2FKd%2FcdUHJ50i6srdI%3D&reserved=0</td>\n",
       "    </tr>\n",
       "    <tr>\n",
       "      <th id=\"T_0e626_level0_row34\" class=\"row_heading level0 row34\" >34</th>\n",
       "      <td id=\"T_0e626_row34_col0\" class=\"data row34 col0\" >Lacrimispora sinapis </td>\n",
       "      <td id=\"T_0e626_row34_col1\" class=\"data row34 col1\" >Lacrimispora sp.</td>\n",
       "      <td id=\"T_0e626_row34_col2\" class=\"data row34 col2\" >JR3T</td>\n",
       "      <td id=\"T_0e626_row34_col3\" class=\"data row34 col3\" >PP065615</td>\n",
       "      <td id=\"T_0e626_row34_col4\" class=\"data row34 col4\" >JR3</td>\n",
       "      <td id=\"T_0e626_row34_col5\" class=\"data row34 col5\" >Ren et al. 2025</td>\n",
       "      <td id=\"T_0e626_row34_col6\" class=\"data row34 col6\" >2719234.000000</td>\n",
       "      <td id=\"T_0e626_row34_col7\" class=\"data row34 col7\" >https://doi.org/10.1099/ijsem.0.006675</td>\n",
       "      <td id=\"T_0e626_row34_col8\" class=\"data row34 col8\" >https://gcc02.safelinks.protection.outlook.com/?url=https%3A%2F%2Fwww.microbiologyresearch.org%2Fcontent%2Fjournal%2Fijsem%2F10.1099%2Fijsem.0.006675%3Femailalert%3Dtrue&data=05%7C02%7Cmcveigh%40ncbi.nlm.nih.gov%7C017a70c948af4333a1c808dd4ce97ee5%7C14b77578977342d58507251ca2dc2b06%7C0%7C0%7C638751288089735188%7CUnknown%7CTWFpbGZsb3d8eyJFbXB0eU1hcGkiOnRydWUsIlYiOiIwLjAuMDAwMCIsIlAiOiJXaW4zMiIsIkFOIjoiTWFpbCIsIldUIjoyfQ%3D%3D%7C40000%7C%7C%7C&sdata=yZcx2J2gqkXmfKKvNh0Kdd3ISY7mJarVRuWFLQayIjM%3D&reserved=0</td>\n",
       "    </tr>\n",
       "    <tr>\n",
       "      <th id=\"T_0e626_level0_row35\" class=\"row_heading level0 row35\" >35</th>\n",
       "      <td id=\"T_0e626_row35_col0\" class=\"data row35 col0\" >Lacrimispora sinapis </td>\n",
       "      <td id=\"T_0e626_row35_col1\" class=\"data row35 col1\" >Lacrimispora sp. JR3</td>\n",
       "      <td id=\"T_0e626_row35_col2\" class=\"data row35 col2\" >JR3T</td>\n",
       "      <td id=\"T_0e626_row35_col3\" class=\"data row35 col3\" >CP141832</td>\n",
       "      <td id=\"T_0e626_row35_col4\" class=\"data row35 col4\" >JR3</td>\n",
       "      <td id=\"T_0e626_row35_col5\" class=\"data row35 col5\" >Ren et al. 2025</td>\n",
       "      <td id=\"T_0e626_row35_col6\" class=\"data row35 col6\" >3111456.000000</td>\n",
       "      <td id=\"T_0e626_row35_col7\" class=\"data row35 col7\" >https://doi.org/10.1099/ijsem.0.006675</td>\n",
       "      <td id=\"T_0e626_row35_col8\" class=\"data row35 col8\" >https://gcc02.safelinks.protection.outlook.com/?url=https%3A%2F%2Fwww.microbiologyresearch.org%2Fcontent%2Fjournal%2Fijsem%2F10.1099%2Fijsem.0.006675%3Femailalert%3Dtrue&data=05%7C02%7Cmcveigh%40ncbi.nlm.nih.gov%7C017a70c948af4333a1c808dd4ce97ee5%7C14b77578977342d58507251ca2dc2b06%7C0%7C0%7C638751288089735188%7CUnknown%7CTWFpbGZsb3d8eyJFbXB0eU1hcGkiOnRydWUsIlYiOiIwLjAuMDAwMCIsIlAiOiJXaW4zMiIsIkFOIjoiTWFpbCIsIldUIjoyfQ%3D%3D%7C40000%7C%7C%7C&sdata=yZcx2J2gqkXmfKKvNh0Kdd3ISY7mJarVRuWFLQayIjM%3D&reserved=0</td>\n",
       "    </tr>\n",
       "  </tbody>\n",
       "</table>\n"
      ],
      "text/plain": [
       "<pandas.io.formats.style.Styler at 0x7f096a8b14c0>"
      ]
     },
     "execution_count": 17,
     "metadata": {},
     "output_type": "execute_result"
    }
   ],
   "source": [
    "def highlight_rows(row):\n",
    "    ijsemvalue = row.loc['PublishedName']\n",
    "    ncbivalue = row.loc['NCBIname']\n",
    "    if ijsemvalue != ncbivalue:\n",
    "        color = '#FFB3BA' # Red\n",
    "    elif ijsemvalue == ncbivalue:\n",
    "        color = '#BAFFC9' # Green\n",
    "    return ['background-color: {}'.format(color) for r in row]\n",
    "\n",
    "new_df = combine_df.style.apply(highlight_rows, axis=1, subset=['PublishedName', 'NCBIname'])\n",
    "new_df"
   ]
  },
  {
   "cell_type": "markdown",
   "id": "5aa05366",
   "metadata": {},
   "source": [
    "### write output to excel"
   ]
  },
  {
   "cell_type": "code",
   "execution_count": 18,
   "id": "fb8948c8",
   "metadata": {},
   "outputs": [],
   "source": [
    "new_df.to_excel(output, engine='xlsxwriter', index = False, na_rep = '') "
   ]
  },
  {
   "cell_type": "code",
   "execution_count": null,
   "id": "3ca925cd",
   "metadata": {},
   "outputs": [],
   "source": [
    "combine_df.dtypes"
   ]
  },
  {
   "cell_type": "code",
   "execution_count": null,
   "id": "652c0d09",
   "metadata": {},
   "outputs": [],
   "source": []
  },
  {
   "cell_type": "code",
   "execution_count": null,
   "id": "b75b8410",
   "metadata": {},
   "outputs": [],
   "source": []
  },
  {
   "cell_type": "code",
   "execution_count": null,
   "id": "8d865873",
   "metadata": {},
   "outputs": [],
   "source": []
  },
  {
   "cell_type": "code",
   "execution_count": null,
   "id": "da2c3095",
   "metadata": {},
   "outputs": [],
   "source": []
  },
  {
   "cell_type": "code",
   "execution_count": null,
   "id": "d3e319d0",
   "metadata": {},
   "outputs": [],
   "source": []
  },
  {
   "cell_type": "code",
   "execution_count": null,
   "id": "12912624",
   "metadata": {},
   "outputs": [],
   "source": []
  },
  {
   "cell_type": "code",
   "execution_count": null,
   "id": "f19f3af8",
   "metadata": {},
   "outputs": [],
   "source": []
  },
  {
   "cell_type": "code",
   "execution_count": null,
   "id": "7380ffa1",
   "metadata": {},
   "outputs": [],
   "source": []
  },
  {
   "cell_type": "code",
   "execution_count": null,
   "id": "7591cab8",
   "metadata": {},
   "outputs": [],
   "source": []
  },
  {
   "cell_type": "code",
   "execution_count": null,
   "id": "88ffd0f6",
   "metadata": {},
   "outputs": [],
   "source": []
  },
  {
   "cell_type": "code",
   "execution_count": null,
   "id": "08a7f93d",
   "metadata": {},
   "outputs": [],
   "source": []
  }
 ],
 "metadata": {
  "kernelspec": {
   "display_name": "Python 3 (ipykernel)",
   "language": "python",
   "name": "python3"
  },
  "language_info": {
   "codemirror_mode": {
    "name": "ipython",
    "version": 3
   },
   "file_extension": ".py",
   "mimetype": "text/x-python",
   "name": "python",
   "nbconvert_exporter": "python",
   "pygments_lexer": "ipython3",
   "version": "3.9.21"
  }
 },
 "nbformat": 4,
 "nbformat_minor": 5
}
